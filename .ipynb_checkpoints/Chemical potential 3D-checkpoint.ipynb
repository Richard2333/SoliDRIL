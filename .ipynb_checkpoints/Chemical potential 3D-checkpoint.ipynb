{
 "cells": [
  {
   "cell_type": "markdown",
   "metadata": {},
   "source": [
    "# Chemical potential in 3D lattice\n",
    "\n",
    "## Introduction\n",
    "\n",
    "This notebook gives a simple illustration to the variation of chemical potential for Fermions in 3D, following the Fermi-Dirac statistics in finite temperature. "
   ]
  },
  {
   "cell_type": "code",
   "execution_count": 1,
   "metadata": {},
   "outputs": [],
   "source": [
    "import matplotlib.pyplot as plt\n",
    "import numpy as np\n",
    "import scipy\n",
    "from ipywidgets import interactive as jupyter_interactive\n",
    "from ipywidgets import interact\n",
    "from scipy import integrate\n",
    "\n",
    "%matplotlib notebook\n",
    "\n",
    "# Basic libraries"
   ]
  },
  {
   "cell_type": "markdown",
   "metadata": {},
   "source": [
    "In 3D, we have the  density of states $\\rho \\propto \\sqrt{E}$. At zero temperature, the distribution of electrons just follows $$N(E)=a \\sqrt{E}$$ and the Fermi energy is determined by the total occupied number $N_{occ}$ :$E_f$ is the energy such that $$N_{occ}=\\int_{0}^{E_f} N(E) dE$$\n",
    "   \n",
    "In finite temperature, however, one must also consider the Fermi-dirac distribution of $$f(E)=\\frac{1}{e^{(E-Ef)/kbT}+1}$$ when calculating the total occupation number. The expression is then $$ N_{occ}=\\int_{0}^{\\infty} f(E)N(E) dE$$\n",
    "  \n",
    "The chemical potential $E_f$ must be consistent with the occupation number. As shown in the following, the chemical potential changes at finite temperature."
   ]
  },
  {
   "cell_type": "code",
   "execution_count": 2,
   "metadata": {},
   "outputs": [],
   "source": [
    "def interactive_chem(kt,ef):\n",
    "    '''\n",
    "    :param k: wave number\n",
    "    '''\n",
    "    kBT = 0.001 # Boltzmann constant measured interms of chemical potential\n",
    "    E_min = 0.0001\n",
    "    E_max = 3.0*ef\n",
    "    factor = 1.0\n",
    "    N = 200\n",
    "\n",
    "    # Set up the variable space for 1D plot\n",
    "    En_mu = np.linspace(E_min, E_max, N) #Energy measured in units of chemical potential\n",
    "    \n",
    "    ff=lambda x:1.0/(np.exp( (factor*x-ef)/kt )+1)\n",
    "    f =  ff(En_mu)# Occupation number according to F-D statistics\n",
    "    df = np.gradient(f) # Take the first derivative of the F-D distribution.\n",
    "   \n",
    "    cf=lambda x:np.sqrt(x)/(np.exp( (factor*x-ef)/kt )+1) \n",
    "    c_f = cf(En_mu)  #np.sqrt(En_mu)/(np.exp( (factor*En_mu-1)/kt )+1) # Occupation number according to F-D statistics\n",
    "    c_df = np.gradient(c_f) # Take the first derivative of the F-D distribution.\n",
    "    \n",
    "    def nfg(e0):\n",
    "        v,err=scipy.integrate.quad(cf,0,e0)\n",
    "        return v\n",
    "    def fg(e0):\n",
    "        f1=lambda x: np.sqrt(x)\n",
    "        v,err=scipy.integrate.quad(f1,0,e0)\n",
    "        return v\n",
    "    #print(nfg(0.500))\n",
    "    n_fg=[nfg(x) for x in En_mu]\n",
    "    n_f=[fg(x) for x in En_mu]\n",
    "    n_e=(1.5*nfg(E_max))**(2.0/3.0)\n",
    "    print ((1.5*nfg(E_max))**(2.0/3.0))\n",
    "\n",
    "    plt.figure(figsize=(30,15))\n",
    "    plt.subplot(121)\n",
    "    plt.ylim(0,1.2)\n",
    "    plt.plot(En_mu, f)\n",
    "    plt.plot(En_mu, c_f)\n",
    "    plt.plot(En_mu,n_fg)\n",
    "    plt.plot(En_mu,n_f)\n",
    "    plt.plot([0,E_max],[nfg(E_max),nfg(E_max)])\n",
    "    plt.plot([0,E_max],[0.5,0.5])\n",
    "    plt.plot([n_e,n_e],[0,2])\n",
    "    \n",
    "    plt.subplot(122)\n",
    "    plt.xlim(0.5, 1.5)\n",
    "    plt.ylim(0,1.0)\n",
    "    plt.plot(En_mu, -df)\n",
    "    plt.plot(En_mu, -c_df)\n"
   ]
  },
  {
   "cell_type": "code",
   "execution_count": 3,
   "metadata": {},
   "outputs": [
    {
     "data": {
      "application/vnd.jupyter.widget-view+json": {
       "model_id": "5f32229536314e51abb659729be4f011",
       "version_major": 2,
       "version_minor": 0
      },
      "text/plain": [
       "interactive(children=(FloatSlider(value=0.09999999999999999, description='kt', max=0.2, min=0.01, step=0.01), …"
      ]
     },
     "metadata": {},
     "output_type": "display_data"
    },
    {
     "data": {
      "text/plain": [
       "<function __main__.interactive_chem(kt, ef)>"
      ]
     },
     "execution_count": 3,
     "metadata": {},
     "output_type": "execute_result"
    }
   ],
   "source": [
    "interact(interactive_chem,kt=(0.01,0.20,0.01),ef=(0.01,2.00,0.01))"
   ]
  },
  {
   "cell_type": "markdown",
   "metadata": {},
   "source": [
    "The above plots give a simple illustration of variation of fermi energy at finite temperature. At finite temperature, the simple calculation with zero-temperature $E_f$ is no longer consistent with the occupation number. The calculation of the varied fermi energy is shown in chapter 2.2.3 with some simple approximation.  \n",
    "\n",
    "Alternatively, we can also calculate the variation of chemical potential with numerical methods. In the content of numerical evaluation, the consistency problem of chemical potantial and the occupation number can be solved through iteration."
   ]
  },
  {
   "cell_type": "code",
   "execution_count": 43,
   "metadata": {},
   "outputs": [],
   "source": [
    "def interactive_chem_consist(kt,ef):\n",
    "    '''\n",
    "    :param k: wave number\n",
    "    '''\n",
    "    kBT = 0.001 # Boltzmann constant measured interms of chemical potential\n",
    "    E_min = 0.0001\n",
    "    E_max = 3.0*ef\n",
    "    factor = 1.0\n",
    "    N = 200\n",
    "    N1=40\n",
    "    # Set up the variable space for 1D plot\n",
    "    En_mu = np.linspace(E_min, E_max, N) #Energy measured in units of chemical potential\n",
    "    \n",
    "    \n",
    "   \n",
    "    ef1=ef\n",
    "    nocc=2.0/3.0*(ef**(3.0/2.0))\n",
    "    \n",
    "    def nfg(e0):\n",
    "        v,err=scipy.integrate.quad(cf,0,e0)\n",
    "        return v\n",
    "    def fg(e0):\n",
    "        f1=lambda x: np.sqrt(x)\n",
    "        v,err=scipy.integrate.quad(f1,0,e0)\n",
    "        return v\n",
    "    \n",
    "    num_s=np.linspace(1,N1,N1)\n",
    "    ef1_s=np.linspace(ef,ef,N1)\n",
    "    for num in range(1,N1):\n",
    "        cf=lambda x:np.sqrt(x)/(np.exp( (factor*x-ef1)/kt )+1) \n",
    "        c_f = cf(En_mu)  #np.sqrt(En_mu)/(np.exp( (factor*En_mu-1)/kt )+1) # Occupation number according to F-D statistics\n",
    "        c_df = np.gradient(c_f) # Take the first derivative of the F-D distribution.\n",
    "\n",
    "\n",
    "        #print(nfg(0.500))\n",
    "        n_e=(1.5*nfg(E_max))**(2.0/3.0)\n",
    "        \n",
    "        ef1_s[num]=ef1\n",
    "        ef1=ef1-0.2*(n_e-ef)\n",
    "    \n",
    "    #plt.ylim(0,1.2)\n",
    "    print (nfg(E_max),nocc)\n",
    "    print(\"chem_potential=\",ef1)\n",
    "    plt.figure(figsize=(30,15))\n",
    "    plt.subplot(121)\n",
    "    plt.xlim=(5.0,40.0)\n",
    "    plt.plot(num_s,ef1_s)\n",
    "    \n",
    "    ff=lambda x:1.0/(np.exp( (factor*x-ef1)/kt )+1)\n",
    "    f =  ff(En_mu)# Occupation number according to F-D statistics\n",
    "    df = np.gradient(f) # Take the first derivative of the F-D distribution.\n",
    "\n",
    "    cf=lambda x:np.sqrt(x)/(np.exp( (factor*x-ef1)/kt )+1) \n",
    "    c_f = cf(En_mu)  #np.sqrt(En_mu)/(np.exp( (factor*En_mu-1)/kt )+1) # Occupation number according to F-D statistics\n",
    "    c_df = np.gradient(c_f) # Take the first derivative of the F-D distribution.\n",
    "    n_fg=[nfg(x) for x in En_mu]\n",
    "    n_f=[fg(x) for x in En_mu]\n",
    "    \n",
    "    plt.subplot(122)\n",
    "    #plt.ylim(0.4,0.8)\n",
    "    plt.ylim(0.0,1.10)\n",
    "    #plt.xlim(0.9,1.1)\n",
    "    plt.plot(En_mu, f)\n",
    "    plt.plot(En_mu, c_f)\n",
    "    plt.plot(En_mu,n_fg)\n",
    "    plt.plot(En_mu,n_f)\n",
    "    #plt.plot([0,E_max],[nfg(E_max),nfg(E_max)])\n",
    "    plt.plot([ef1-0.2,ef1+0.2],[0.5,0.5])\n",
    "    plt.plot([ef1,ef1],[0.0,0.6])\n"
   ]
  },
  {
   "cell_type": "code",
   "execution_count": 44,
   "metadata": {},
   "outputs": [
    {
     "data": {
      "application/vnd.jupyter.widget-view+json": {
       "model_id": "df4280ba22a244cd8b66efbd5c153188",
       "version_major": 2,
       "version_minor": 0
      },
      "text/plain": [
       "interactive(children=(FloatSlider(value=0.105, description='kt', max=0.2, min=0.01, step=0.005), FloatSlider(v…"
      ]
     },
     "metadata": {},
     "output_type": "display_data"
    },
    {
     "data": {
      "text/plain": [
       "<function __main__.interactive_chem_consist(kt, ef)>"
      ]
     },
     "execution_count": 44,
     "metadata": {},
     "output_type": "execute_result"
    }
   ],
   "source": [
    "interact(interactive_chem_consist,kt=(0.01,0.20,0.005),ef=(0.01,2.00,0.01))"
   ]
  },
  {
   "cell_type": "code",
   "execution_count": null,
   "metadata": {},
   "outputs": [],
   "source": []
  }
 ],
 "metadata": {
  "kernelspec": {
   "display_name": "Python 3",
   "language": "python",
   "name": "python3"
  },
  "language_info": {
   "codemirror_mode": {
    "name": "ipython",
    "version": 3
   },
   "file_extension": ".py",
   "mimetype": "text/x-python",
   "name": "python",
   "nbconvert_exporter": "python",
   "pygments_lexer": "ipython3",
   "version": "3.6.8"
  }
 },
 "nbformat": 4,
 "nbformat_minor": 4
}
