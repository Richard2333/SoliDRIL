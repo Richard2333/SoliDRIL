{
 "cells": [
  {
   "cell_type": "code",
   "execution_count": 5,
   "metadata": {},
   "outputs": [],
   "source": [
    "%matplotlib notebook\n",
    "\n",
    "import numpy as np\n",
    "import matplotlib.pyplot as plt\n",
    "\n",
    "from ipywidgets import interact,interactive\n",
    "import ipywidgets as widgets\n",
    "\n"
   ]
  },
  {
   "cell_type": "code",
   "execution_count": 6,
   "metadata": {},
   "outputs": [],
   "source": [
    "def get_closest_point(clic_x,clic_y):\n",
    "    # Get the data from the figure\n",
    "    ax= plt.gca() # get axis handle\n",
    "    acoustic_data = ax.lines[0]\n",
    "    optic_data = ax.lines[1]\n",
    "\n",
    "    # Find which line was closer\n",
    "    #closet x data\n",
    "    k_a = acoustic_data.get_xdata()\n",
    "    k_o = optic_data.get_xdata()\n",
    "    diff_k_a = np.abs(k_a-clic_x)\n",
    "    diff_k_o = np.abs(k_o-clic_x)\n",
    "    # get the x index corresponding to the closet k in the graph for both branches\n",
    "    index_a = np.argmin(diff_k_a)\n",
    "    index_o = np.argmin(diff_k_o)\n",
    "\n",
    "    # compute the distance on the y axis\n",
    "    y_diff_a = np.abs(acoustic_data.get_ydata()[index_a]-clic_y)\n",
    "    y_diff_o = np.abs(optic_data.get_ydata()[index_o]-clic_y)\n",
    "\n",
    "    ac_is_closer = y_diff_a<y_diff_o\n",
    "    # print a x at the postion \n",
    "    if(ac_is_closer):\n",
    "        return [acoustic_data.get_xdata()[index_a], acoustic_data.get_ydata()[index_a]]\n",
    "    else:\n",
    "        return [optic_data.get_xdata()[index_a], optic_data.get_ydata()[index_a]]\n",
    "\n",
    "def onclick(event):\n",
    "    # clear the previous point \n",
    "    ax=plt.gca()\n",
    "    if len(ax.lines)==3:\n",
    "        ax.lines.pop()\n",
    "    # Get the coordonate of the data closest from the click\n",
    "    [x,y]=get_closest_point(event.xdata,event.ydata)\n",
    "    plt.plot(x, y, '.')\n",
    "    fig.canvas.draw()\n",
    "    \n",
    "def interactive_lattice_plot(G,K):\n",
    "    '''\n",
    "    :param G,K: coupling\n",
    "    plot acoustic and optical phonons bands\n",
    "    '''\n",
    "    plt.close()\n",
    "    fig=plt.figure()\n",
    "    cid = fig.canvas.mpl_connect('button_press_event', onclick)\n",
    "\n",
    "    k = np.linspace(-np.pi/2,np.pi/2,100)\n",
    "\n",
    "    omega_o = G+K-np.sqrt((G+K)**2-4*G*K*np.sin(k)**2)\n",
    "    omega_a = G+K+np.sqrt((G+K)**2-4*G*K*np.sin(k)**2)\n",
    "    plt.plot(k,np.sqrt(omega_a))\n",
    "    plt.plot(k,np.sqrt(omega_o))\n",
    "    plt.xlabel(\"k\")\n",
    "    plt.ylabel(\"omega\")\n",
    "    plt.show()\n",
    "\n"
   ]
  },
  {
   "cell_type": "code",
   "execution_count": 7,
   "metadata": {},
   "outputs": [
    {
     "data": {
      "application/vnd.jupyter.widget-view+json": {
       "model_id": "b697d1bc376b482287b861bab6991171",
       "version_major": 2,
       "version_minor": 0
      },
      "text/plain": [
       "interactive(children=(FloatSlider(value=3.5, description='G', max=6.0, min=1.0), FloatSlider(value=3.5, descri…"
      ]
     },
     "metadata": {},
     "output_type": "display_data"
    }
   ],
   "source": [
    "interactive_plot = interactive(interactive_lattice_plot, G=(1, 6.0), K=(1, 6.0))\n",
    "interactive_plot\n"
   ]
  },
  {
   "cell_type": "code",
   "execution_count": 8,
   "metadata": {},
   "outputs": [
    {
     "data": {
      "text/plain": [
       "[-0.015866629563584755, 0.0296834344858312]"
      ]
     },
     "execution_count": 8,
     "metadata": {},
     "output_type": "execute_result"
    }
   ],
   "source": []
  },
  {
   "cell_type": "code",
   "execution_count": null,
   "metadata": {},
   "outputs": [],
   "source": []
  },
  {
   "cell_type": "code",
   "execution_count": null,
   "metadata": {},
   "outputs": [],
   "source": []
  },
  {
   "cell_type": "code",
   "execution_count": null,
   "metadata": {},
   "outputs": [],
   "source": []
  }
 ],
 "metadata": {
  "kernelspec": {
   "display_name": "Python 3",
   "language": "python",
   "name": "python3"
  },
  "language_info": {
   "codemirror_mode": {
    "name": "ipython",
    "version": 3
   },
   "file_extension": ".py",
   "mimetype": "text/x-python",
   "name": "python",
   "nbconvert_exporter": "python",
   "pygments_lexer": "ipython3",
   "version": "3.6.6"
  }
 },
 "nbformat": 4,
 "nbformat_minor": 2
}
