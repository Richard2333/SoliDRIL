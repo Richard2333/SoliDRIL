{
 "cells": [
  {
   "cell_type": "code",
   "execution_count": null,
   "metadata": {},
   "outputs": [],
   "source": [
    "%matplotlib notebook\n",
    "\n",
    "import numpy as np\n",
    "import matplotlib.pyplot as plt\n",
    "from matplotlib import animation\n",
    "\n",
    "from ipywidgets import interact,interactive\n",
    "import ipywidgets as widgets\n",
    "\n",
    "from IPython.display import HTML\n",
    "\n",
    "global global_K1\n",
    "global global_K2\n",
    "global global_branche"
   ]
  },
  {
   "cell_type": "code",
   "execution_count": null,
   "metadata": {},
   "outputs": [],
   "source": [
    "def get_closest_point(clic_x,clic_y):\n",
    "    # Get the data from the figure\n",
    "    ax= plt.gca() # get axis handle\n",
    "    acoustic_data = ax.lines[1]\n",
    "    optic_data = ax.lines[0]\n",
    "\n",
    "    # Find which line was closer\n",
    "    #closet x data\n",
    "    k_a = acoustic_data.get_xdata()\n",
    "    k_o = optic_data.get_xdata()\n",
    "    diff_k_a = np.abs(k_a-clic_x)\n",
    "    diff_k_o = np.abs(k_o-clic_x)\n",
    "    # get the x index corresponding to the closet k in the graph for both branches\n",
    "    index_a = np.argmin(diff_k_a)\n",
    "    index_o = np.argmin(diff_k_o)\n",
    "\n",
    "    # compute the distance on the y axis\n",
    "    y_diff_a = np.abs(acoustic_data.get_ydata()[index_a]-clic_y)\n",
    "    y_diff_o = np.abs(optic_data.get_ydata()[index_o]-clic_y)\n",
    "\n",
    "    ac_is_closer = y_diff_a<y_diff_o\n",
    "    # print a x at the postion \n",
    "    global global_branche\n",
    "    if(ac_is_closer):\n",
    "        global_branche=1\n",
    "        return [acoustic_data.get_xdata()[index_a], acoustic_data.get_ydata()[index_a]]\n",
    "    else:\n",
    "        global_branche=2\n",
    "        return [optic_data.get_xdata()[index_a], optic_data.get_ydata()[index_a]]\n",
    "\n",
    "\n",
    "    \n",
    "    \n",
    "def interactive_lattice_plot(G,K):\n",
    "    '''\n",
    "    :param G,K: coupling\n",
    "    plot acoustic and optical phonons bands\n",
    "    '''\n",
    "    \n",
    "    # save the current values of G and K\n",
    "    global global_K1\n",
    "    global global_K2\n",
    "    global_K1=G\n",
    "    global_K2=K\n",
    "    \n",
    "    plt.close()\n",
    "    fig=plt.figure()\n",
    "\n",
    "    k = np.linspace(-np.pi/2,np.pi/2,100)\n",
    "\n",
    "    omega_o = G+K-np.sqrt((G+K)**2-4*G*K*np.sin(k)**2)\n",
    "    omega_a = G+K+np.sqrt((G+K)**2-4*G*K*np.sin(k)**2)\n",
    "    \n",
    "    ax1=plt.gca()\n",
    "    ax1.plot(k,np.sqrt(omega_a))\n",
    "    ax1.plot(k,np.sqrt(omega_o))\n",
    "    ax1.set_xlabel(\"k\")\n",
    "    ax1.set_ylabel(\"omega\")\n",
    "    \n",
    "   \n",
    "    def onclick(event):    \n",
    "        ax1=plt.gca()\n",
    "        # clear the previous point \n",
    "        for i in np.arange(3, len(ax1.lines)+1) :\n",
    "            ax1.lines.pop()\n",
    "        # Get the coordonate of the data closest from the click\n",
    "        [x,y]=get_closest_point(event.xdata,event.ydata)\n",
    "        ax1.plot(x, y, '.',color='red')\n",
    "    \n",
    "    cid = fig.canvas.mpl_connect('button_press_event', onclick)\n",
    "    plt.show()\n",
    "\n"
   ]
  },
  {
   "cell_type": "code",
   "execution_count": null,
   "metadata": {},
   "outputs": [],
   "source": [
    "interactive_plot = interactive(interactive_lattice_plot, G=(1, 6.0), K=(1, 6.0))\n",
    "interactive_plot\n"
   ]
  },
  {
   "cell_type": "code",
   "execution_count": null,
   "metadata": {},
   "outputs": [],
   "source": [
    "fig = plt.figure()\n",
    "ax = plt.axes()\n",
    "ax.set_xlim([-1,1])\n",
    "line, = ax.plot([], [], \".\")\n",
    "\n",
    "# Initialization function: plot the background of each frame\n",
    "def init():\n",
    "    line.set_data([], [])\n",
    "    return line,\n",
    "\n",
    "# Animation function which updates figure data.  This is called sequentially\n",
    "def animate(t):\n",
    "    b = 1\n",
    "    a = 1\n",
    "    line.set_data(np.sin(0.001*t), 0)\n",
    "    return line,\n",
    "\n",
    "# Call the animator.  blit=True means only re-draw the parts that have changed.\n",
    "anim = animation.FuncAnimation(fig, animate, init_func=init,\n",
    "                               frames=10000, interval=1, blit=True)\n",
    "\n"
   ]
  },
  {
   "cell_type": "code",
   "execution_count": null,
   "metadata": {},
   "outputs": [],
   "source": []
  },
  {
   "cell_type": "code",
   "execution_count": null,
   "metadata": {},
   "outputs": [],
   "source": []
  },
  {
   "cell_type": "code",
   "execution_count": null,
   "metadata": {},
   "outputs": [],
   "source": []
  },
  {
   "cell_type": "code",
   "execution_count": null,
   "metadata": {
    "scrolled": true
   },
   "outputs": [],
   "source": [
    "\n",
    "\n"
   ]
  },
  {
   "cell_type": "code",
   "execution_count": null,
   "metadata": {},
   "outputs": [],
   "source": []
  },
  {
   "cell_type": "code",
   "execution_count": null,
   "metadata": {},
   "outputs": [],
   "source": []
  }
 ],
 "metadata": {
  "kernelspec": {
   "display_name": "Python 3",
   "language": "python",
   "name": "python3"
  },
  "language_info": {
   "codemirror_mode": {
    "name": "ipython",
    "version": 3
   },
   "file_extension": ".py",
   "mimetype": "text/x-python",
   "name": "python",
   "nbconvert_exporter": "python",
   "pygments_lexer": "ipython3",
   "version": "3.6.6"
  }
 },
 "nbformat": 4,
 "nbformat_minor": 2
}
