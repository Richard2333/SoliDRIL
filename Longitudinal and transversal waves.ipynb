{
 "cells": [
  {
   "cell_type": "code",
   "execution_count": null,
   "metadata": {},
   "outputs": [],
   "source": [
    "import matplotlib.pyplot as plt\n",
    "import numpy as np\n",
    "from ipywidgets import interactive as jupyter_interactive\n",
    "\n",
    "\n",
    "%matplotlib notebook\n",
    "\n",
    "\n"
   ]
  },
  {
   "cell_type": "code",
   "execution_count": null,
   "metadata": {},
   "outputs": [],
   "source": [
    "def interactive_wave_plot(k):\n",
    "    '''\n",
    "    :param k: wave number\n",
    "    '''\n",
    "    # Define the position of the original lattice\n",
    "    x = np.linspace(0,6,7)\n",
    "    y = np.linspace(-3,3,7)\n",
    "    x_origine,y_origine = np.meshgrid(x,y)\n",
    "    \n",
    "    # Define the position of the displaced lattice\n",
    "    x_p = x + np.sin(k*x)\n",
    "    x_long,y_long = np.meshgrid(x_p,y)\n",
    "    \n",
    "    y_p = y + np.sin(k*(x-np.mean(x)))\n",
    "    x_trans=x_origine\n",
    "    y_trans = y_origine+np.sin(k*x)\n",
    "    # plot \n",
    "    fig,axs=plt.subplots(1,2)\n",
    "\n",
    "    axs[0].plot(x_origine,y_origine,'ko--', mfc='none')\n",
    "    axs[0].plot(x_trans,y_trans,'ko-')\n",
    "    axs[0].axis([-1,7,-4.5,4.5])\n",
    "    axs[1].plot(x_origine,y_origine,'ko--',mfc='none')\n",
    "    axs[1].axis('equal')\n",
    "    axs[1].plot(x_long,y_long,'ko-','-o')\n",
    "    axs[1].axis([-1,7,-4.5,4.5])\n",
    "\n",
    "\n",
    "    plt.show()\n"
   ]
  },
  {
   "cell_type": "code",
   "execution_count": null,
   "metadata": {
    "scrolled": false
   },
   "outputs": [],
   "source": [
    "i_p=jupyter_interactive(interactive_wave_plot,k=(-2,2,0.05))\n",
    "i_p"
   ]
  },
  {
   "cell_type": "code",
   "execution_count": null,
   "metadata": {},
   "outputs": [],
   "source": []
  },
  {
   "cell_type": "code",
   "execution_count": null,
   "metadata": {},
   "outputs": [],
   "source": []
  },
  {
   "cell_type": "code",
   "execution_count": null,
   "metadata": {},
   "outputs": [],
   "source": []
  }
 ],
 "metadata": {
  "kernelspec": {
   "display_name": "Python 3",
   "language": "python",
   "name": "python3"
  },
  "language_info": {
   "codemirror_mode": {
    "name": "ipython",
    "version": 3
   },
   "file_extension": ".py",
   "mimetype": "text/x-python",
   "name": "python",
   "nbconvert_exporter": "python",
   "pygments_lexer": "ipython3",
   "version": "3.6.4"
  }
 },
 "nbformat": 4,
 "nbformat_minor": 2
}
