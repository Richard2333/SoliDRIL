{
 "cells": [
  {
   "cell_type": "code",
   "execution_count": 1,
   "metadata": {},
   "outputs": [],
   "source": [
    "import matplotlib.pyplot as plt\n",
    "import numpy as np\n",
    "from ipywidgets import interactive as jupyter_interactive\n",
    "\n",
    "\n",
    "%matplotlib notebook\n",
    "\n",
    "\n"
   ]
  },
  {
   "cell_type": "code",
   "execution_count": 2,
   "metadata": {},
   "outputs": [],
   "source": [
    "def interactive_wave_plot(k):\n",
    "    '''\n",
    "    :param k: wave number\n",
    "    '''\n",
    "    global current_k\n",
    "    current_k= k\n",
    "    # Define the position of the original lattice\n",
    "    x = np.linspace(0,6,7)\n",
    "    y = np.linspace(-3,3,7)\n",
    "    x_origine,y_origine = np.meshgrid(x,y)\n",
    "    \n",
    "    # Define the position of the displaced lattice\n",
    "    x_p = x + np.sin(k*x)\n",
    "    x_long,y_long = np.meshgrid(x_p,y)\n",
    "    \n",
    "    y_p = y + np.sin(k*(x-np.mean(x)))\n",
    "    x_trans=x_origine\n",
    "    y_trans = y_origine+np.sin(k*x)\n",
    "    # plot \n",
    "\n",
    "    fig,axs=plt.subplots(1,2,figsize=(10,5))\n",
    "\n",
    "\n",
    "    axs[0].plot(x_origine,y_origine,'ko', mfc='none')\n",
    "    axs[0].plot(x_trans,y_trans,'ko')\n",
    "    axs[0].axis([-1,7,-4.5,4.5])\n",
    "    axs[0].title.set_text('Transverse')\n",
    "    axs[1].plot(x_origine,y_origine,'ko',mfc='none')\n",
    "    axs[1].axis('equal')\n",
    "    axs[1].plot(x_long,y_long,'ko')\n",
    "    axs[1].axis([-1,7,-4.5,4.5])\n",
    "    axs[1].title.set_text(\"Longitudinal\")\n",
    "    for i in np.arange(2):\n",
    "        axs[i].set_xticks([])\n",
    "        axs[i].set_yticks([])\n",
    "    plt.show()\n"
   ]
  },
  {
   "cell_type": "code",
   "execution_count": 3,
   "metadata": {},
   "outputs": [
    {
     "data": {
      "application/vnd.jupyter.widget-view+json": {
       "model_id": "6f1dac3a433e4e48b779b6762d558b51",
       "version_major": 2,
       "version_minor": 0
      },
      "text/plain": [
       "interactive(children=(FloatSlider(value=0.0, description='k', max=1.0, min=-1.0, step=0.01), Output()), _dom_c…"
      ]
     },
     "metadata": {},
     "output_type": "display_data"
    }
   ],
   "source": [
    "i_p=jupyter_interactive(interactive_wave_plot,k=(-1,1,0.01))\n",
    "i_p"
   ]
  },
  {
   "cell_type": "code",
   "execution_count": 4,
   "metadata": {},
   "outputs": [
    {
     "data": {
      "image/png": "[encoded data removed]",
      "text/plain": [
       "<Figure size 432x288 with 1 Axes>"
      ]
     },
     "metadata": {},
     "output_type": "display_data"
    }
   ],
   "source": [
    "from matplotlib import animation\n",
    "\n",
    "from ipywidgets import interact,interactive\n",
    "import ipywidgets as widgets\n",
    "\n",
    "from IPython.display import HTML\n",
    "\n",
    "\n",
    "\n",
    "fig_long = plt.figure()\n",
    "ax = plt.axes()\n",
    "ax.set_xlim((-1.5,7.5))\n",
    "ax.set_ylim((-5,5))\n",
    "line_or, = ax.plot([], [], 'ko',mfc=None)\n",
    "line_mov, = ax.plot([], [], 'ko')\n",
    "plt.title(\"Longitudinal\")\n",
    "ax.set_xticks([])\n",
    "ax.set_yticks([])\n",
    "# Initialization function: plot the background of each frame\n",
    "def init_long():\n",
    "    line_or.set_data([], [])\n",
    "    line_mov.set_data([], [])\n",
    "\n",
    "    return line_or,\n",
    "\n",
    "# Animation function which updates figure data.  This is called sequentially\n",
    "def animate_long(iteration):\n",
    "    global current_k\n",
    "    k=current_k\n",
    "    omega=3\n",
    "    t=omega*2*(1/100)/np.pi*iteration\n",
    "    \n",
    "    \n",
    "    x = np.linspace(0,6,7)\n",
    "    y = np.linspace(-3,3,7)\n",
    "    \n",
    "    x_origine,y_origine = np.meshgrid(x,y)\n",
    "    \n",
    "    # Define the position of the displaced lattice\n",
    "    x_p = x + np.sin(k*x-omega*t)\n",
    "    x_long,y_long = np.meshgrid(x_p,y)\n",
    "    \n",
    "    x_trans=x_origine\n",
    "    y_trans = y_origine+np.sin(k*x-omega*t)\n",
    "    line_mov.set_data(np.asarray([x_long,y_long]))\n",
    "    return line_mov,\n",
    "\n",
    "# Call the animator.  blit=True means only re-draw the parts that have changed.\n",
    "\n",
    "anim_long = animation.FuncAnimation(fig_long, animate_long, init_func=init_long,frames=112, interval=25, blit=True)\n",
    "\n"
   ]
  },
  {
   "cell_type": "code",
   "execution_count": 5,
   "metadata": {},
   "outputs": [
    {
     "data": {
      "image/png": "[encoded data removed]",
      "text/plain": [
       "<Figure size 432x288 with 1 Axes>"
      ]
     },
     "metadata": {},
     "output_type": "display_data"
    }
   ],
   "source": [
    "fig_trans = plt.figure()\n",
    "ax_trans = plt.axes()\n",
    "ax_trans.set_xlim((-1.5,7.5))\n",
    "ax_trans.set_ylim((-5,5))\n",
    "line_or, = ax_trans.plot([], [], 'ko',mfc=None)\n",
    "line_mov, = ax_trans.plot([], [], 'ko')\n",
    "plt.title(\"Transverse\")\n",
    "ax_trans.set_xticks([])\n",
    "ax_trans.set_yticks([])\n",
    "# Initialization function: plot the background of each frame\n",
    "def init():\n",
    "    line_or.set_data([], [])\n",
    "    line_mov.set_data([], [])\n",
    "\n",
    "    return line_or,\n",
    "\n",
    "# Animation function which updates figure data.  This is called sequentially\n",
    "def animate(iteration):\n",
    "    global current_k\n",
    "    k=current_k\n",
    "    omega=3\n",
    "    t=omega*2*(1/100)/np.pi*iteration\n",
    "\n",
    "    \n",
    "    x = np.linspace(0,6,7)\n",
    "    y = np.linspace(-3,3,7)\n",
    "    \n",
    "    x_origine,y_origine = np.meshgrid(x,y)\n",
    "    \n",
    "    x_trans=x_origine\n",
    "    y_trans = y_origine+np.sin(k*x-omega*t)\n",
    "    line_mov.set_data(np.asarray([x_trans,y_trans]))\n",
    "    return line_mov,\n",
    "\n",
    "# Call the animator.  blit=True means only re-draw the parts that have changed.\n",
    "\n",
    "anim = animation.FuncAnimation(fig_trans, animate, init_func=init,frames=112, interval=25, blit=True)"
   ]
  },
  {
   "cell_type": "code",
   "execution_count": null,
   "metadata": {},
   "outputs": [],
   "source": []
  },
  {
   "cell_type": "code",
   "execution_count": null,
   "metadata": {},
   "outputs": [],
   "source": []
  },
  {
   "cell_type": "code",
   "execution_count": null,
   "metadata": {},
   "outputs": [],
   "source": []
  }
 ],
 "metadata": {
  "kernelspec": {
   "display_name": "Python 3",
   "language": "python",
   "name": "python3"
  },
  "language_info": {
   "codemirror_mode": {
    "name": "ipython",
    "version": 3
   },
   "file_extension": ".py",
   "mimetype": "text/x-python",
   "name": "python",
   "nbconvert_exporter": "python",
   "pygments_lexer": "ipython3",
   "version": "3.6.8"
  }
 },
 "nbformat": 4,
 "nbformat_minor": 4
}
