{
 "cells": [
  {
   "cell_type": "code",
   "execution_count": null,
   "metadata": {},
   "outputs": [],
   "source": [
    "import numpy as np\n",
    "\n",
    "from bokeh.io import push_notebook, output_notebook, show\n",
    "from bokeh.plotting import figure\n",
    "output_notebook()\n",
    "\n",
    "from ipywidgets import interact"
   ]
  },
  {
   "cell_type": "code",
   "execution_count": null,
   "metadata": {},
   "outputs": [],
   "source": [
    "# Set up constant\n",
    "kBT_mu = 0.01 # Boltzmann constant measured interms of chemical potential\n",
    "\n",
    "# Set up the variable space\n",
    "En_mu = np.linspace(0, 6, 200) #Energy measured in units of chemical potential\n",
    "f = 1.0/(np.exp( (En_mu-1)/kBT_mu )+1) # Occupation number according to F-D statistics"
   ]
  },
  {
   "cell_type": "code",
   "execution_count": null,
   "metadata": {},
   "outputs": [],
   "source": [
    "# Set up plot\n",
    "plot = figure(plot_height=400, plot_width=400, title=\"Fermi-Dirac statistics\",\n",
    "              tools=\"pan,reset,save,wheel_zoom\",\n",
    "              x_range=[0.0, 6], y_range=[0.0, 1.1])\n",
    "\n",
    "r = plot.line(En_mu, f,line_width=3, line_alpha=0.6)"
   ]
  },
  {
   "cell_type": "code",
   "execution_count": null,
   "metadata": {},
   "outputs": [],
   "source": [
    "# Set up callbacks to update the live graph\n",
    "def update_data(a):\n",
    "    # Generate the new curve\n",
    "    En_mu = np.linspace(0, 6, 200) #Energy measured in units of chemical potential\n",
    "    r.data_source.data['y'] = 1.0/(np.exp( (En_mu-1)/a )+1)\n",
    "    push_notebook()"
   ]
  },
  {
   "cell_type": "code",
   "execution_count": null,
   "metadata": {},
   "outputs": [],
   "source": [
    "show(plot, notebook_handle = True)"
   ]
  },
  {
   "cell_type": "code",
   "execution_count": null,
   "metadata": {},
   "outputs": [],
   "source": [
    "interact(update_data,a=(0.01,1,0.01))"
   ]
  }
 ],
 "metadata": {
  "kernelspec": {
   "display_name": "Python 3",
   "language": "python",
   "name": "python3"
  },
  "language_info": {
   "codemirror_mode": {
    "name": "ipython",
    "version": 3
   },
   "file_extension": ".py",
   "mimetype": "text/x-python",
   "name": "python",
   "nbconvert_exporter": "python",
   "pygments_lexer": "ipython3",
   "version": "3.7.3"
  }
 },
 "nbformat": 4,
 "nbformat_minor": 2
}
