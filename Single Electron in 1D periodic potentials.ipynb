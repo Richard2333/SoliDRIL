{
 "cells": [
  {
   "cell_type": "code",
   "execution_count": 123,
   "metadata": {},
   "outputs": [
    {
     "data": {
      "text/html": [
       "\n",
       "    <div class=\"bk-root\">\n",
       "        <a href=\"https://bokeh.pydata.org\" target=\"_blank\" class=\"bk-logo bk-logo-small bk-logo-notebook\"></a>\n",
       "        <span id=\"b13d54b5-eb8d-499a-9ae1-af417d8d36fc\">Loading BokehJS ...</span>\n",
       "    </div>"
      ]
     },
     "metadata": {},
     "output_type": "display_data"
    },
    {
     "data": {
      "application/javascript": [
       "\n",
       "(function(root) {\n",
       "  function now() {\n",
       "    return new Date();\n",
       "  }\n",
       "\n",
       "  var force = true;\n",
       "\n",
       "  if (typeof (root._bokeh_onload_callbacks) === \"undefined\" || force === true) {\n",
       "    root._bokeh_onload_callbacks = [];\n",
       "    root._bokeh_is_loading = undefined;\n",
       "  }\n",
       "\n",
       "  var JS_MIME_TYPE = 'application/javascript';\n",
       "  var HTML_MIME_TYPE = 'text/html';\n",
       "  var EXEC_MIME_TYPE = 'application/vnd.bokehjs_exec.v0+json';\n",
       "  var CLASS_NAME = 'output_bokeh rendered_html';\n",
       "\n",
       "  /**\n",
       "   * Render data to the DOM node\n",
       "   */\n",
       "  function render(props, node) {\n",
       "    var script = document.createElement(\"script\");\n",
       "    node.appendChild(script);\n",
       "  }\n",
       "\n",
       "  /**\n",
       "   * Handle when an output is cleared or removed\n",
       "   */\n",
       "  function handleClearOutput(event, handle) {\n",
       "    var cell = handle.cell;\n",
       "\n",
       "    var id = cell.output_area._bokeh_element_id;\n",
       "    var server_id = cell.output_area._bokeh_server_id;\n",
       "    // Clean up Bokeh references\n",
       "    if (id != null && id in Bokeh.index) {\n",
       "      Bokeh.index[id].model.document.clear();\n",
       "      delete Bokeh.index[id];\n",
       "    }\n",
       "\n",
       "    if (server_id !== undefined) {\n",
       "      // Clean up Bokeh references\n",
       "      var cmd = \"from bokeh.io.state import curstate; print(curstate().uuid_to_server['\" + server_id + \"'].get_sessions()[0].document.roots[0]._id)\";\n",
       "      cell.notebook.kernel.execute(cmd, {\n",
       "        iopub: {\n",
       "          output: function(msg) {\n",
       "            var id = msg.content.text.trim();\n",
       "            if (id in Bokeh.index) {\n",
       "              Bokeh.index[id].model.document.clear();\n",
       "              delete Bokeh.index[id];\n",
       "            }\n",
       "          }\n",
       "        }\n",
       "      });\n",
       "      // Destroy server and session\n",
       "      var cmd = \"import bokeh.io.notebook as ion; ion.destroy_server('\" + server_id + \"')\";\n",
       "      cell.notebook.kernel.execute(cmd);\n",
       "    }\n",
       "  }\n",
       "\n",
       "  /**\n",
       "   * Handle when a new output is added\n",
       "   */\n",
       "  function handleAddOutput(event, handle) {\n",
       "    var output_area = handle.output_area;\n",
       "    var output = handle.output;\n",
       "\n",
       "    // limit handleAddOutput to display_data with EXEC_MIME_TYPE content only\n",
       "    if ((output.output_type != \"display_data\") || (!output.data.hasOwnProperty(EXEC_MIME_TYPE))) {\n",
       "      return\n",
       "    }\n",
       "\n",
       "    var toinsert = output_area.element.find(\".\" + CLASS_NAME.split(' ')[0]);\n",
       "\n",
       "    if (output.metadata[EXEC_MIME_TYPE][\"id\"] !== undefined) {\n",
       "      toinsert[toinsert.length - 1].firstChild.textContent = output.data[JS_MIME_TYPE];\n",
       "      // store reference to embed id on output_area\n",
       "      output_area._bokeh_element_id = output.metadata[EXEC_MIME_TYPE][\"id\"];\n",
       "    }\n",
       "    if (output.metadata[EXEC_MIME_TYPE][\"server_id\"] !== undefined) {\n",
       "      var bk_div = document.createElement(\"div\");\n",
       "      bk_div.innerHTML = output.data[HTML_MIME_TYPE];\n",
       "      var script_attrs = bk_div.children[0].attributes;\n",
       "      for (var i = 0; i < script_attrs.length; i++) {\n",
       "        toinsert[toinsert.length - 1].firstChild.setAttribute(script_attrs[i].name, script_attrs[i].value);\n",
       "      }\n",
       "      // store reference to server id on output_area\n",
       "      output_area._bokeh_server_id = output.metadata[EXEC_MIME_TYPE][\"server_id\"];\n",
       "    }\n",
       "  }\n",
       "\n",
       "  function register_renderer(events, OutputArea) {\n",
       "\n",
       "    function append_mime(data, metadata, element) {\n",
       "      // create a DOM node to render to\n",
       "      var toinsert = this.create_output_subarea(\n",
       "        metadata,\n",
       "        CLASS_NAME,\n",
       "        EXEC_MIME_TYPE\n",
       "      );\n",
       "      this.keyboard_manager.register_events(toinsert);\n",
       "      // Render to node\n",
       "      var props = {data: data, metadata: metadata[EXEC_MIME_TYPE]};\n",
       "      render(props, toinsert[toinsert.length - 1]);\n",
       "      element.append(toinsert);\n",
       "      return toinsert\n",
       "    }\n",
       "\n",
       "    /* Handle when an output is cleared or removed */\n",
       "    events.on('clear_output.CodeCell', handleClearOutput);\n",
       "    events.on('delete.Cell', handleClearOutput);\n",
       "\n",
       "    /* Handle when a new output is added */\n",
       "    events.on('output_added.OutputArea', handleAddOutput);\n",
       "\n",
       "    /**\n",
       "     * Register the mime type and append_mime function with output_area\n",
       "     */\n",
       "    OutputArea.prototype.register_mime_type(EXEC_MIME_TYPE, append_mime, {\n",
       "      /* Is output safe? */\n",
       "      safe: true,\n",
       "      /* Index of renderer in `output_area.display_order` */\n",
       "      index: 0\n",
       "    });\n",
       "  }\n",
       "\n",
       "  // register the mime type if in Jupyter Notebook environment and previously unregistered\n",
       "  if (root.Jupyter !== undefined) {\n",
       "    var events = require('base/js/events');\n",
       "    var OutputArea = require('notebook/js/outputarea').OutputArea;\n",
       "\n",
       "    if (OutputArea.prototype.mime_types().indexOf(EXEC_MIME_TYPE) == -1) {\n",
       "      register_renderer(events, OutputArea);\n",
       "    }\n",
       "  }\n",
       "\n",
       "  \n",
       "  if (typeof (root._bokeh_timeout) === \"undefined\" || force === true) {\n",
       "    root._bokeh_timeout = Date.now() + 5000;\n",
       "    root._bokeh_failed_load = false;\n",
       "  }\n",
       "\n",
       "  var NB_LOAD_WARNING = {'data': {'text/html':\n",
       "     \"<div style='background-color: #fdd'>\\n\"+\n",
       "     \"<p>\\n\"+\n",
       "     \"BokehJS does not appear to have successfully loaded. If loading BokehJS from CDN, this \\n\"+\n",
       "     \"may be due to a slow or bad network connection. Possible fixes:\\n\"+\n",
       "     \"</p>\\n\"+\n",
       "     \"<ul>\\n\"+\n",
       "     \"<li>re-rerun `output_notebook()` to attempt to load from CDN again, or</li>\\n\"+\n",
       "     \"<li>use INLINE resources instead, as so:</li>\\n\"+\n",
       "     \"</ul>\\n\"+\n",
       "     \"<code>\\n\"+\n",
       "     \"from bokeh.resources import INLINE\\n\"+\n",
       "     \"output_notebook(resources=INLINE)\\n\"+\n",
       "     \"</code>\\n\"+\n",
       "     \"</div>\"}};\n",
       "\n",
       "  function display_loaded() {\n",
       "    var el = document.getElementById(\"b13d54b5-eb8d-499a-9ae1-af417d8d36fc\");\n",
       "    if (el != null) {\n",
       "      el.textContent = \"BokehJS is loading...\";\n",
       "    }\n",
       "    if (root.Bokeh !== undefined) {\n",
       "      if (el != null) {\n",
       "        el.textContent = \"BokehJS \" + root.Bokeh.version + \" successfully loaded.\";\n",
       "      }\n",
       "    } else if (Date.now() < root._bokeh_timeout) {\n",
       "      setTimeout(display_loaded, 100)\n",
       "    }\n",
       "  }\n",
       "\n",
       "\n",
       "  function run_callbacks() {\n",
       "    try {\n",
       "      root._bokeh_onload_callbacks.forEach(function(callback) { callback() });\n",
       "    }\n",
       "    finally {\n",
       "      delete root._bokeh_onload_callbacks\n",
       "    }\n",
       "    console.info(\"Bokeh: all callbacks have finished\");\n",
       "  }\n",
       "\n",
       "  function load_libs(js_urls, callback) {\n",
       "    root._bokeh_onload_callbacks.push(callback);\n",
       "    if (root._bokeh_is_loading > 0) {\n",
       "      console.log(\"Bokeh: BokehJS is being loaded, scheduling callback at\", now());\n",
       "      return null;\n",
       "    }\n",
       "    if (js_urls == null || js_urls.length === 0) {\n",
       "      run_callbacks();\n",
       "      return null;\n",
       "    }\n",
       "    console.log(\"Bokeh: BokehJS not loaded, scheduling load and callback at\", now());\n",
       "    root._bokeh_is_loading = js_urls.length;\n",
       "    for (var i = 0; i < js_urls.length; i++) {\n",
       "      var url = js_urls[i];\n",
       "      var s = document.createElement('script');\n",
       "      s.src = url;\n",
       "      s.async = false;\n",
       "      s.onreadystatechange = s.onload = function() {\n",
       "        root._bokeh_is_loading--;\n",
       "        if (root._bokeh_is_loading === 0) {\n",
       "          console.log(\"Bokeh: all BokehJS libraries loaded\");\n",
       "          run_callbacks()\n",
       "        }\n",
       "      };\n",
       "      s.onerror = function() {\n",
       "        console.warn(\"failed to load library \" + url);\n",
       "      };\n",
       "      console.log(\"Bokeh: injecting script tag for BokehJS library: \", url);\n",
       "      document.getElementsByTagName(\"head\")[0].appendChild(s);\n",
       "    }\n",
       "  };var element = document.getElementById(\"b13d54b5-eb8d-499a-9ae1-af417d8d36fc\");\n",
       "  if (element == null) {\n",
       "    console.log(\"Bokeh: ERROR: autoload.js configured with elementid 'b13d54b5-eb8d-499a-9ae1-af417d8d36fc' but no matching script tag was found. \")\n",
       "    return false;\n",
       "  }\n",
       "\n",
       "  var js_urls = [\"https://cdn.pydata.org/bokeh/release/bokeh-0.13.0.min.js\", \"https://cdn.pydata.org/bokeh/release/bokeh-widgets-0.13.0.min.js\", \"https://cdn.pydata.org/bokeh/release/bokeh-tables-0.13.0.min.js\", \"https://cdn.pydata.org/bokeh/release/bokeh-gl-0.13.0.min.js\"];\n",
       "\n",
       "  var inline_js = [\n",
       "    function(Bokeh) {\n",
       "      Bokeh.set_log_level(\"info\");\n",
       "    },\n",
       "    \n",
       "    function(Bokeh) {\n",
       "      \n",
       "    },\n",
       "    function(Bokeh) {\n",
       "      console.log(\"Bokeh: injecting CSS: https://cdn.pydata.org/bokeh/release/bokeh-0.13.0.min.css\");\n",
       "      Bokeh.embed.inject_css(\"https://cdn.pydata.org/bokeh/release/bokeh-0.13.0.min.css\");\n",
       "      console.log(\"Bokeh: injecting CSS: https://cdn.pydata.org/bokeh/release/bokeh-widgets-0.13.0.min.css\");\n",
       "      Bokeh.embed.inject_css(\"https://cdn.pydata.org/bokeh/release/bokeh-widgets-0.13.0.min.css\");\n",
       "      console.log(\"Bokeh: injecting CSS: https://cdn.pydata.org/bokeh/release/bokeh-tables-0.13.0.min.css\");\n",
       "      Bokeh.embed.inject_css(\"https://cdn.pydata.org/bokeh/release/bokeh-tables-0.13.0.min.css\");\n",
       "    }\n",
       "  ];\n",
       "\n",
       "  function run_inline_js() {\n",
       "    \n",
       "    if ((root.Bokeh !== undefined) || (force === true)) {\n",
       "      for (var i = 0; i < inline_js.length; i++) {\n",
       "        inline_js[i].call(root, root.Bokeh);\n",
       "      }if (force === true) {\n",
       "        display_loaded();\n",
       "      }} else if (Date.now() < root._bokeh_timeout) {\n",
       "      setTimeout(run_inline_js, 100);\n",
       "    } else if (!root._bokeh_failed_load) {\n",
       "      console.log(\"Bokeh: BokehJS failed to load within specified timeout.\");\n",
       "      root._bokeh_failed_load = true;\n",
       "    } else if (force !== true) {\n",
       "      var cell = $(document.getElementById(\"b13d54b5-eb8d-499a-9ae1-af417d8d36fc\")).parents('.cell').data().cell;\n",
       "      cell.output_area.append_execute_result(NB_LOAD_WARNING)\n",
       "    }\n",
       "\n",
       "  }\n",
       "\n",
       "  if (root._bokeh_is_loading === 0) {\n",
       "    console.log(\"Bokeh: BokehJS loaded, going straight to plotting\");\n",
       "    run_inline_js();\n",
       "  } else {\n",
       "    load_libs(js_urls, function() {\n",
       "      console.log(\"Bokeh: BokehJS plotting callback run at\", now());\n",
       "      run_inline_js();\n",
       "    });\n",
       "  }\n",
       "}(window));"
      ],
      "application/vnd.bokehjs_load.v0+json": "\n(function(root) {\n  function now() {\n    return new Date();\n  }\n\n  var force = true;\n\n  if (typeof (root._bokeh_onload_callbacks) === \"undefined\" || force === true) {\n    root._bokeh_onload_callbacks = [];\n    root._bokeh_is_loading = undefined;\n  }\n\n  \n\n  \n  if (typeof (root._bokeh_timeout) === \"undefined\" || force === true) {\n    root._bokeh_timeout = Date.now() + 5000;\n    root._bokeh_failed_load = false;\n  }\n\n  var NB_LOAD_WARNING = {'data': {'text/html':\n     \"<div style='background-color: #fdd'>\\n\"+\n     \"<p>\\n\"+\n     \"BokehJS does not appear to have successfully loaded. If loading BokehJS from CDN, this \\n\"+\n     \"may be due to a slow or bad network connection. Possible fixes:\\n\"+\n     \"</p>\\n\"+\n     \"<ul>\\n\"+\n     \"<li>re-rerun `output_notebook()` to attempt to load from CDN again, or</li>\\n\"+\n     \"<li>use INLINE resources instead, as so:</li>\\n\"+\n     \"</ul>\\n\"+\n     \"<code>\\n\"+\n     \"from bokeh.resources import INLINE\\n\"+\n     \"output_notebook(resources=INLINE)\\n\"+\n     \"</code>\\n\"+\n     \"</div>\"}};\n\n  function display_loaded() {\n    var el = document.getElementById(\"b13d54b5-eb8d-499a-9ae1-af417d8d36fc\");\n    if (el != null) {\n      el.textContent = \"BokehJS is loading...\";\n    }\n    if (root.Bokeh !== undefined) {\n      if (el != null) {\n        el.textContent = \"BokehJS \" + root.Bokeh.version + \" successfully loaded.\";\n      }\n    } else if (Date.now() < root._bokeh_timeout) {\n      setTimeout(display_loaded, 100)\n    }\n  }\n\n\n  function run_callbacks() {\n    try {\n      root._bokeh_onload_callbacks.forEach(function(callback) { callback() });\n    }\n    finally {\n      delete root._bokeh_onload_callbacks\n    }\n    console.info(\"Bokeh: all callbacks have finished\");\n  }\n\n  function load_libs(js_urls, callback) {\n    root._bokeh_onload_callbacks.push(callback);\n    if (root._bokeh_is_loading > 0) {\n      console.log(\"Bokeh: BokehJS is being loaded, scheduling callback at\", now());\n      return null;\n    }\n    if (js_urls == null || js_urls.length === 0) {\n      run_callbacks();\n      return null;\n    }\n    console.log(\"Bokeh: BokehJS not loaded, scheduling load and callback at\", now());\n    root._bokeh_is_loading = js_urls.length;\n    for (var i = 0; i < js_urls.length; i++) {\n      var url = js_urls[i];\n      var s = document.createElement('script');\n      s.src = url;\n      s.async = false;\n      s.onreadystatechange = s.onload = function() {\n        root._bokeh_is_loading--;\n        if (root._bokeh_is_loading === 0) {\n          console.log(\"Bokeh: all BokehJS libraries loaded\");\n          run_callbacks()\n        }\n      };\n      s.onerror = function() {\n        console.warn(\"failed to load library \" + url);\n      };\n      console.log(\"Bokeh: injecting script tag for BokehJS library: \", url);\n      document.getElementsByTagName(\"head\")[0].appendChild(s);\n    }\n  };var element = document.getElementById(\"b13d54b5-eb8d-499a-9ae1-af417d8d36fc\");\n  if (element == null) {\n    console.log(\"Bokeh: ERROR: autoload.js configured with elementid 'b13d54b5-eb8d-499a-9ae1-af417d8d36fc' but no matching script tag was found. \")\n    return false;\n  }\n\n  var js_urls = [\"https://cdn.pydata.org/bokeh/release/bokeh-0.13.0.min.js\", \"https://cdn.pydata.org/bokeh/release/bokeh-widgets-0.13.0.min.js\", \"https://cdn.pydata.org/bokeh/release/bokeh-tables-0.13.0.min.js\", \"https://cdn.pydata.org/bokeh/release/bokeh-gl-0.13.0.min.js\"];\n\n  var inline_js = [\n    function(Bokeh) {\n      Bokeh.set_log_level(\"info\");\n    },\n    \n    function(Bokeh) {\n      \n    },\n    function(Bokeh) {\n      console.log(\"Bokeh: injecting CSS: https://cdn.pydata.org/bokeh/release/bokeh-0.13.0.min.css\");\n      Bokeh.embed.inject_css(\"https://cdn.pydata.org/bokeh/release/bokeh-0.13.0.min.css\");\n      console.log(\"Bokeh: injecting CSS: https://cdn.pydata.org/bokeh/release/bokeh-widgets-0.13.0.min.css\");\n      Bokeh.embed.inject_css(\"https://cdn.pydata.org/bokeh/release/bokeh-widgets-0.13.0.min.css\");\n      console.log(\"Bokeh: injecting CSS: https://cdn.pydata.org/bokeh/release/bokeh-tables-0.13.0.min.css\");\n      Bokeh.embed.inject_css(\"https://cdn.pydata.org/bokeh/release/bokeh-tables-0.13.0.min.css\");\n    }\n  ];\n\n  function run_inline_js() {\n    \n    if ((root.Bokeh !== undefined) || (force === true)) {\n      for (var i = 0; i < inline_js.length; i++) {\n        inline_js[i].call(root, root.Bokeh);\n      }if (force === true) {\n        display_loaded();\n      }} else if (Date.now() < root._bokeh_timeout) {\n      setTimeout(run_inline_js, 100);\n    } else if (!root._bokeh_failed_load) {\n      console.log(\"Bokeh: BokehJS failed to load within specified timeout.\");\n      root._bokeh_failed_load = true;\n    } else if (force !== true) {\n      var cell = $(document.getElementById(\"b13d54b5-eb8d-499a-9ae1-af417d8d36fc\")).parents('.cell').data().cell;\n      cell.output_area.append_execute_result(NB_LOAD_WARNING)\n    }\n\n  }\n\n  if (root._bokeh_is_loading === 0) {\n    console.log(\"Bokeh: BokehJS loaded, going straight to plotting\");\n    run_inline_js();\n  } else {\n    load_libs(js_urls, function() {\n      console.log(\"Bokeh: BokehJS plotting callback run at\", now());\n      run_inline_js();\n    });\n  }\n}(window));"
     },
     "metadata": {},
     "output_type": "display_data"
    }
   ],
   "source": [
    "import numpy as np\n",
    "import pandas as pd\n",
    "import ipywidgets as ipw\n",
    "\n",
    "from scipy.interpolate import interp1d\n",
    "from bokeh.palettes import RdYlBu11\n",
    "from bokeh.transform import linear_cmap\n",
    "from bokeh.io import push_notebook, output_notebook, show\n",
    "from bokeh.layouts import row, column\n",
    "from bokeh.plotting import figure, curdoc\n",
    "from bokeh.models import ColumnDataSource, ColorBar, BasicTickFormatter, BasicTicker, FixedTicker, FuncTickFormatter\n",
    "from bokeh.client import push_session\n",
    "\n",
    "from ipywidgets import interact\n",
    "\n",
    "import matplotlib.pyplot as plt\n",
    "import matplotlib.animation as anim\n",
    "output_notebook()"
   ]
  },
  {
   "cell_type": "code",
   "execution_count": 94,
   "metadata": {},
   "outputs": [
    {
     "data": {
      "text/html": [
       "\n",
       "\n",
       "\n",
       "\n",
       "\n",
       "\n",
       "  <div class=\"bk-root\" id=\"fb2d9137-0b87-4aea-aab3-94b556ec40c7\"></div>\n"
      ]
     },
     "metadata": {},
     "output_type": "display_data"
    },
    {
     "data": {
      "application/javascript": [
       "(function(root) {\n",
       "  function embed_document(root) {\n",
       "    \n",
       "  var docs_json = {\"58647429-6a7a-4a3c-a59b-60349cbdabea\":{\"roots\":{\"references\":[{\"attributes\":{},\"id\":\"d0b31de4-a71d-4507-a258-6c719e8f6ca2\",\"type\":\"BasicTicker\"},{\"attributes\":{\"dimension\":1,\"plot\":{\"id\":\"7ab6120f-48ed-4672-8b8b-78e5909d3b7b\",\"subtype\":\"Figure\",\"type\":\"Plot\"},\"ticker\":{\"id\":\"9ee3d23c-2319-40fb-80ff-e32bd7a6c73f\",\"type\":\"BasicTicker\"}},\"id\":\"a19af3b8-0edb-4f3d-b4a9-9476f30b0298\",\"type\":\"Grid\"},{\"attributes\":{\"fill_alpha\":{\"value\":0.1},\"fill_color\":{\"value\":\"#1f77b4\"},\"line_alpha\":{\"value\":0.1},\"line_color\":{\"value\":\"#1f77b4\"},\"size\":{\"units\":\"screen\",\"value\":10},\"x\":{\"field\":\"xVal\"},\"y\":{\"field\":\"yVal\"}},\"id\":\"c0c9e2b7-1617-4bdc-a61b-48664d686f53\",\"type\":\"Circle\"},{\"attributes\":{\"callback\":null,\"data\":{\"xVal\":{\"__ndarray__\":\"AAAAAAAAJMAAAAAAAAAiwAAAAAAAACDAAAAAAAAAHMAAAAAAAAAYwAAAAAAAABTAAAAAAAAAEMAAAAAAAAAIwAAAAAAAAADAAAAAAAAA8L8AAAAAAAAAAAAAAAAAAPA/AAAAAAAAAEAAAAAAAAAIQAAAAAAAABBAAAAAAAAAFEAAAAAAAAAYQAAAAAAAABxAAAAAAAAAIEAAAAAAAAAiQAAAAAAAACRA\",\"dtype\":\"float64\",\"shape\":[21]},\"yVal\":{\"__ndarray__\":\"AAAAAAAAAAAAAAAAAAAAAAAAAAAAAAAAAAAAAAAAAAAAAAAAAAAAAAAAAAAAAAAAAAAAAAAAAAAAAAAAAAAAAAAAAAAAAAAAAAAAAAAAAAAAAAAAAAAAAAAAAAAAAAAAAAAAAAAAAAAAAAAAAAAAAAAAAAAAAAAAAAAAAAAAAAAAAAAAAAAAAAAAAAAAAAAAAAAAAAAAAAAAAAAAAAAAAAAAAAAAAAAA\",\"dtype\":\"float64\",\"shape\":[21]}},\"selected\":{\"id\":\"b812af85-560d-43b5-949a-b2b0777688bc\",\"type\":\"Selection\"},\"selection_policy\":{\"id\":\"77737282-a04c-4e06-8c2d-fbf62dbdd85c\",\"type\":\"UnionRenderers\"}},\"id\":\"37a3505c-8dcf-4371-9885-7b722a2e72a9\",\"type\":\"ColumnDataSource\"},{\"attributes\":{\"axis_label\":\"Real space distance (arb. unit)\",\"formatter\":{\"id\":\"53586d27-092e-4863-b0f6-09f8b9103828\",\"type\":\"BasicTickFormatter\"},\"plot\":{\"id\":\"7ab6120f-48ed-4672-8b8b-78e5909d3b7b\",\"subtype\":\"Figure\",\"type\":\"Plot\"},\"ticker\":{\"id\":\"d0b31de4-a71d-4507-a258-6c719e8f6ca2\",\"type\":\"BasicTicker\"}},\"id\":\"45421266-6bbe-4e24-bfa1-1a7f1c427185\",\"type\":\"LinearAxis\"},{\"attributes\":{},\"id\":\"b812af85-560d-43b5-949a-b2b0777688bc\",\"type\":\"Selection\"},{\"attributes\":{},\"id\":\"17fd23e6-d5f9-4acc-b0b5-9f3d7614fcbe\",\"type\":\"WheelZoomTool\"},{\"attributes\":{\"overlay\":{\"id\":\"33fbb21d-6063-4a88-a1f3-d73266cb85a1\",\"type\":\"BoxAnnotation\"}},\"id\":\"5d5f95b6-4770-4d63-8d57-5040f8594085\",\"type\":\"BoxZoomTool\"},{\"attributes\":{},\"id\":\"7a1fc067-0439-4146-aa96-4d79affe68cd\",\"type\":\"ResetTool\"},{\"attributes\":{},\"id\":\"25b5c8e1-fcbd-411c-8eb2-e82c1e18545d\",\"type\":\"LinearScale\"},{\"attributes\":{\"bottom_units\":\"screen\",\"fill_alpha\":{\"value\":0.5},\"fill_color\":{\"value\":\"lightgrey\"},\"left_units\":\"screen\",\"level\":\"overlay\",\"line_alpha\":{\"value\":1.0},\"line_color\":{\"value\":\"black\"},\"line_dash\":[4,4],\"line_width\":{\"value\":2},\"plot\":null,\"render_mode\":\"css\",\"right_units\":\"screen\",\"top_units\":\"screen\"},\"id\":\"33fbb21d-6063-4a88-a1f3-d73266cb85a1\",\"type\":\"BoxAnnotation\"},{\"attributes\":{\"data_source\":{\"id\":\"37a3505c-8dcf-4371-9885-7b722a2e72a9\",\"type\":\"ColumnDataSource\"},\"glyph\":{\"id\":\"414acb50-cef9-47e4-807f-2ec5dc372e39\",\"type\":\"Circle\"},\"hover_glyph\":null,\"muted_glyph\":null,\"nonselection_glyph\":{\"id\":\"c0c9e2b7-1617-4bdc-a61b-48664d686f53\",\"type\":\"Circle\"},\"selection_glyph\":null,\"view\":{\"id\":\"849c72dd-2757-4d26-93c6-8f0f90f11a36\",\"type\":\"CDSView\"}},\"id\":\"80eebbab-d4a9-4ece-8e83-dfe5709ac41c\",\"type\":\"GlyphRenderer\"},{\"attributes\":{},\"id\":\"4650ccf5-0497-4a34-8617-ea30a8919e4f\",\"type\":\"HelpTool\"},{\"attributes\":{},\"id\":\"29472b67-73d0-4678-a93b-7c4d63b206f4\",\"type\":\"PanTool\"},{\"attributes\":{},\"id\":\"024e72ec-94f0-43a5-9b58-6e16d4780f4f\",\"type\":\"SaveTool\"},{\"attributes\":{\"callback\":null,\"end\":11.0,\"start\":-11.0},\"id\":\"d1cbfdac-5a03-41e2-a4d5-21fd73edf732\",\"type\":\"Range1d\"},{\"attributes\":{\"plot\":null,\"text\":\"1D atomic chain\"},\"id\":\"c9c863d8-6ec5-4d5c-b539-cba41cfedf47\",\"type\":\"Title\"},{\"attributes\":{},\"id\":\"f1f587bc-71da-4b12-a6c1-a0d643d8d7a0\",\"type\":\"BasicTickFormatter\"},{\"attributes\":{\"callback\":null},\"id\":\"2c2f2fbe-673b-4fdd-b6f6-48ba55ac60f6\",\"type\":\"DataRange1d\"},{\"attributes\":{},\"id\":\"9ee3d23c-2319-40fb-80ff-e32bd7a6c73f\",\"type\":\"BasicTicker\"},{\"attributes\":{},\"id\":\"53586d27-092e-4863-b0f6-09f8b9103828\",\"type\":\"BasicTickFormatter\"},{\"attributes\":{\"fill_color\":{\"value\":\"black\"},\"size\":{\"units\":\"screen\",\"value\":10},\"x\":{\"field\":\"xVal\"},\"y\":{\"field\":\"yVal\"}},\"id\":\"414acb50-cef9-47e4-807f-2ec5dc372e39\",\"type\":\"Circle\"},{\"attributes\":{\"formatter\":{\"id\":\"f1f587bc-71da-4b12-a6c1-a0d643d8d7a0\",\"type\":\"BasicTickFormatter\"},\"plot\":{\"id\":\"7ab6120f-48ed-4672-8b8b-78e5909d3b7b\",\"subtype\":\"Figure\",\"type\":\"Plot\"},\"ticker\":{\"id\":\"9ee3d23c-2319-40fb-80ff-e32bd7a6c73f\",\"type\":\"BasicTicker\"}},\"id\":\"31285ac8-7bec-41b8-b768-50cb21762fcd\",\"type\":\"LinearAxis\"},{\"attributes\":{},\"id\":\"77737282-a04c-4e06-8c2d-fbf62dbdd85c\",\"type\":\"UnionRenderers\"},{\"attributes\":{\"plot\":{\"id\":\"7ab6120f-48ed-4672-8b8b-78e5909d3b7b\",\"subtype\":\"Figure\",\"type\":\"Plot\"},\"ticker\":{\"id\":\"d0b31de4-a71d-4507-a258-6c719e8f6ca2\",\"type\":\"BasicTicker\"}},\"id\":\"5616f9b9-4772-4b82-a754-2a60b0662dcd\",\"type\":\"Grid\"},{\"attributes\":{},\"id\":\"076618df-e756-4095-8009-befb14cd317c\",\"type\":\"LinearScale\"},{\"attributes\":{\"active_drag\":\"auto\",\"active_inspect\":\"auto\",\"active_multi\":null,\"active_scroll\":\"auto\",\"active_tap\":\"auto\",\"tools\":[{\"id\":\"29472b67-73d0-4678-a93b-7c4d63b206f4\",\"type\":\"PanTool\"},{\"id\":\"17fd23e6-d5f9-4acc-b0b5-9f3d7614fcbe\",\"type\":\"WheelZoomTool\"},{\"id\":\"5d5f95b6-4770-4d63-8d57-5040f8594085\",\"type\":\"BoxZoomTool\"},{\"id\":\"024e72ec-94f0-43a5-9b58-6e16d4780f4f\",\"type\":\"SaveTool\"},{\"id\":\"7a1fc067-0439-4146-aa96-4d79affe68cd\",\"type\":\"ResetTool\"},{\"id\":\"4650ccf5-0497-4a34-8617-ea30a8919e4f\",\"type\":\"HelpTool\"}]},\"id\":\"fab44e61-3733-4663-a29f-d6a6ee55e857\",\"type\":\"Toolbar\"},{\"attributes\":{\"source\":{\"id\":\"37a3505c-8dcf-4371-9885-7b722a2e72a9\",\"type\":\"ColumnDataSource\"}},\"id\":\"849c72dd-2757-4d26-93c6-8f0f90f11a36\",\"type\":\"CDSView\"},{\"attributes\":{\"below\":[{\"id\":\"45421266-6bbe-4e24-bfa1-1a7f1c427185\",\"type\":\"LinearAxis\"}],\"left\":[{\"id\":\"31285ac8-7bec-41b8-b768-50cb21762fcd\",\"type\":\"LinearAxis\"}],\"plot_height\":100,\"plot_width\":700,\"renderers\":[{\"id\":\"45421266-6bbe-4e24-bfa1-1a7f1c427185\",\"type\":\"LinearAxis\"},{\"id\":\"5616f9b9-4772-4b82-a754-2a60b0662dcd\",\"type\":\"Grid\"},{\"id\":\"31285ac8-7bec-41b8-b768-50cb21762fcd\",\"type\":\"LinearAxis\"},{\"id\":\"a19af3b8-0edb-4f3d-b4a9-9476f30b0298\",\"type\":\"Grid\"},{\"id\":\"33fbb21d-6063-4a88-a1f3-d73266cb85a1\",\"type\":\"BoxAnnotation\"},{\"id\":\"80eebbab-d4a9-4ece-8e83-dfe5709ac41c\",\"type\":\"GlyphRenderer\"}],\"title\":{\"id\":\"c9c863d8-6ec5-4d5c-b539-cba41cfedf47\",\"type\":\"Title\"},\"toolbar\":{\"id\":\"fab44e61-3733-4663-a29f-d6a6ee55e857\",\"type\":\"Toolbar\"},\"x_range\":{\"id\":\"d1cbfdac-5a03-41e2-a4d5-21fd73edf732\",\"type\":\"Range1d\"},\"x_scale\":{\"id\":\"076618df-e756-4095-8009-befb14cd317c\",\"type\":\"LinearScale\"},\"y_range\":{\"id\":\"2c2f2fbe-673b-4fdd-b6f6-48ba55ac60f6\",\"type\":\"DataRange1d\"},\"y_scale\":{\"id\":\"25b5c8e1-fcbd-411c-8eb2-e82c1e18545d\",\"type\":\"LinearScale\"}},\"id\":\"7ab6120f-48ed-4672-8b8b-78e5909d3b7b\",\"subtype\":\"Figure\",\"type\":\"Plot\"}],\"root_ids\":[\"7ab6120f-48ed-4672-8b8b-78e5909d3b7b\"]},\"title\":\"Bokeh Application\",\"version\":\"0.13.0\"}};\n",
       "  var render_items = [{\"docid\":\"58647429-6a7a-4a3c-a59b-60349cbdabea\",\"roots\":{\"7ab6120f-48ed-4672-8b8b-78e5909d3b7b\":\"fb2d9137-0b87-4aea-aab3-94b556ec40c7\"}}];\n",
       "  root.Bokeh.embed.embed_items_notebook(docs_json, render_items);\n",
       "\n",
       "  }\n",
       "  if (root.Bokeh !== undefined) {\n",
       "    embed_document(root);\n",
       "  } else {\n",
       "    var attempts = 0;\n",
       "    var timer = setInterval(function(root) {\n",
       "      if (root.Bokeh !== undefined) {\n",
       "        embed_document(root);\n",
       "        clearInterval(timer);\n",
       "      }\n",
       "      attempts++;\n",
       "      if (attempts > 100) {\n",
       "        console.log(\"Bokeh: ERROR: Unable to run BokehJS code because BokehJS library is missing\")\n",
       "        clearInterval(timer);\n",
       "      }\n",
       "    }, 10, root)\n",
       "  }\n",
       "})(window);"
      ],
      "application/vnd.bokehjs_exec.v0+json": ""
     },
     "metadata": {
      "application/vnd.bokehjs_exec.v0+json": {
       "id": "7ab6120f-48ed-4672-8b8b-78e5909d3b7b"
      }
     },
     "output_type": "display_data"
    }
   ],
   "source": [
    "N = 21; # Number of atomic sites\n",
    "M = int((N-1)/2); # Number of atomic sites on each side of the origin\n",
    "a = 1.0 # Real space distance between each site\n",
    "lattx = np.arange(-a*M,a*M+1,a); # '+1' because np.arange doesn't include the endpoint\n",
    "latty = np.zeros(lattx.size);\n",
    "lattice = figure(plot_height=100, plot_width=700, title=\"1D atomic chain\",x_range=[-1.1*a*M,1.1*a*M]);\n",
    "source1 = ColumnDataSource(data = {'xVal': lattx, 'yVal': latty});\n",
    "lattice.circle('xVal','yVal',source = source1, size = 10, line_color = 'black', fill_color = 'black');\n",
    "lattice.xaxis.axis_label = 'Real space distance (arb. unit)';\n",
    "show(lattice)"
   ]
  },
  {
   "cell_type": "code",
   "execution_count": 95,
   "metadata": {},
   "outputs": [],
   "source": [
    "k0 = 2*np.pi/(2*M*a);\n",
    "k = np.linspace(-M*k0,M*k0);\n",
    "energy = -2*np.cos(k);"
   ]
  },
  {
   "cell_type": "code",
   "execution_count": 96,
   "metadata": {},
   "outputs": [
    {
     "data": {
      "text/html": [
       "\n",
       "\n",
       "\n",
       "\n",
       "\n",
       "\n",
       "  <div class=\"bk-root\" id=\"625038fc-75ab-4bf8-8d76-35decb9086e1\"></div>\n"
      ]
     },
     "metadata": {},
     "output_type": "display_data"
    },
    {
     "data": {
      "application/javascript": [
       "(function(root) {\n",
       "  function embed_document(root) {\n",
       "    \n",
       "  var docs_json = {\"55a4479d-aabf-4c08-b259-f2baead7e79d\":{\"roots\":{\"references\":[{\"attributes\":{\"callback\":null,\"end\":1.1,\"start\":-1.1},\"id\":\"6ed7ee81-8e56-413b-a890-f1abc781f272\",\"type\":\"Range1d\"},{\"attributes\":{},\"id\":\"7357d3b4-b605-475a-82de-32529caececf\",\"type\":\"LinearScale\"},{\"attributes\":{},\"id\":\"23f881fa-e57a-428c-9abb-2be1cd95aed5\",\"type\":\"BasicTicker\"},{\"attributes\":{\"callback\":null,\"data\":{\"xVal\":{\"__ndarray__\":\"AAAAAAAA8L+tD431obHuv1kfGutDY+2/Bi+n4OUU7L+yPjTWh8bqv15OwcspeOm/Cl5Owcsp6L+3bdu2bdvmv2N9aKwPjeW/EI31obE+5L+9nIKXU/Div2msD431oeG/FbycgpdT4L+El1Pwcgrev9u2bdu2bdu/NdaHxvrQ2L+O9aGxPjTWv+cUvJyCl9O/QDTWh8b60L8zp+DlFLzMv+XlFLycgse/kiRJkiRJwr+JxvrQWB+6v9yHxvrQWK+/SwUvp+DllL8iBS+n4OWUP8iHxvrQWK8/f8b60Fgfuj+SJEmSJEnCP+DlFLycgsc/Lqfg5RS8zD8+NNaHxvrQP+QUvJyCl9M/jvWhsT401j8y1ofG+tDYP9u2bdu2bds/gJdT8HIK3j8VvJyCl1PgP2esD431oeE/u5yCl1Pw4j8NjfWhsT7kP2J9aKwPjeU/t23btm3b5j8JXk7ByynoP15OwcspeOk/sD401ofG6j8EL6fg5RTsP1cfGutDY+0/qw+N9aGx7j8AAAAAAADwPw==\",\"dtype\":\"float64\",\"shape\":[50]},\"yVal\":{\"__ndarray__\":\"AAAAAAAAAEDs2Dtpvrz/PwDtSlsU9P4/CEzdVE2p/T9ATFPD1+H7P7G8Dy4upfk/F7m4xrf89j/R7YvioPPzP8ZC7AKslvA/UkcrZfjn6T9D99gxszXiP8aDzvTEbdQ/3jLpehBpsD9qu+8L95TIv4RFAuOQe9y/AO56B3Ya5r9v224zOprtvz8WF5nHTvK/LM8XKH2D9b/mvBvqw134v5SqNSWe0fq/cVzLqbzU/L/Gu28oql7+v+i1y7/uaP+/bM8hLSvv/79szyEtK+//v+m1y7/uaP+/x7tvKKpe/r9xXMupvNT8v5aqNSWe0fq/6bwb6sNd+L8wzxcofYP1v0IWF5nHTvK/b9tuMzqa7b8I7noHdhrmv4RFAuOQe9y/mrvvC/eUyL++Mul6EGmwP6+DzvTEbdQ/O/fYMbM14j9ERytl+OfpP8JC7AKslvA/0e2L4qDz8z8UubjGt/z2P7G8Dy4upfk/PExTw9fh+z8HTN1UTan9P/7sSlsU9P4/7Ng7ab68/z8AAAAAAAAAQA==\",\"dtype\":\"float64\",\"shape\":[50]}},\"selected\":{\"id\":\"c13d1f77-5378-4cff-a128-cc9247e64a0a\",\"type\":\"Selection\"},\"selection_policy\":{\"id\":\"7a46a1f9-3b78-4581-b385-fdab96eac357\",\"type\":\"UnionRenderers\"}},\"id\":\"d4ab9d85-7ff3-4641-920e-e5ac53d47daf\",\"type\":\"ColumnDataSource\"},{\"attributes\":{\"axis_label\":\"k-vector ( \\u03c0 )\",\"formatter\":{\"id\":\"bc3a07ad-5332-4a04-96c3-006a95397a9d\",\"type\":\"BasicTickFormatter\"},\"plot\":{\"id\":\"13188a5a-3fb5-4ec3-a6a2-5b8cc6f30474\",\"subtype\":\"Figure\",\"type\":\"Plot\"},\"ticker\":{\"id\":\"23f881fa-e57a-428c-9abb-2be1cd95aed5\",\"type\":\"BasicTicker\"}},\"id\":\"9ecf79c6-2aa0-4cf2-8c2d-20322b62e228\",\"type\":\"LinearAxis\"},{\"attributes\":{},\"id\":\"bc3a07ad-5332-4a04-96c3-006a95397a9d\",\"type\":\"BasicTickFormatter\"},{\"attributes\":{\"plot\":null,\"text\":\"Energy band in reciprocal space\"},\"id\":\"50ab046e-56cc-49fd-a884-52ec254b5c63\",\"type\":\"Title\"},{\"attributes\":{\"below\":[{\"id\":\"9ecf79c6-2aa0-4cf2-8c2d-20322b62e228\",\"type\":\"LinearAxis\"}],\"left\":[{\"id\":\"a654fc59-d36b-42b1-9379-50b81852cd9c\",\"type\":\"LinearAxis\"}],\"plot_height\":400,\"plot_width\":700,\"renderers\":[{\"id\":\"9ecf79c6-2aa0-4cf2-8c2d-20322b62e228\",\"type\":\"LinearAxis\"},{\"id\":\"dcd025bc-6460-44e1-a176-f8ce6aaf19db\",\"type\":\"Grid\"},{\"id\":\"a654fc59-d36b-42b1-9379-50b81852cd9c\",\"type\":\"LinearAxis\"},{\"id\":\"a7726332-cb86-42eb-b1a4-7515a608adc4\",\"type\":\"Grid\"},{\"id\":\"eddbaae3-1b43-4d09-a058-9fe69a026e08\",\"type\":\"BoxAnnotation\"},{\"id\":\"1ec0386b-1911-49ba-9fbb-84d527c874df\",\"type\":\"GlyphRenderer\"},{\"id\":\"0a6ae078-4df6-4963-84bc-4b7ad279020f\",\"type\":\"GlyphRenderer\"}],\"title\":{\"id\":\"50ab046e-56cc-49fd-a884-52ec254b5c63\",\"type\":\"Title\"},\"toolbar\":{\"id\":\"ca6f7406-9adc-44a2-9f3f-e48b7f362962\",\"type\":\"Toolbar\"},\"x_range\":{\"id\":\"6ed7ee81-8e56-413b-a890-f1abc781f272\",\"type\":\"Range1d\"},\"x_scale\":{\"id\":\"0ef7a854-6468-4fd7-b231-f2bca752c890\",\"type\":\"LinearScale\"},\"y_range\":{\"id\":\"2ad2f496-936e-47eb-a3d4-4b53448dd9e9\",\"type\":\"Range1d\"},\"y_scale\":{\"id\":\"7357d3b4-b605-475a-82de-32529caececf\",\"type\":\"LinearScale\"}},\"id\":\"13188a5a-3fb5-4ec3-a6a2-5b8cc6f30474\",\"subtype\":\"Figure\",\"type\":\"Plot\"},{\"attributes\":{},\"id\":\"c13d1f77-5378-4cff-a128-cc9247e64a0a\",\"type\":\"Selection\"},{\"attributes\":{},\"id\":\"7a46a1f9-3b78-4581-b385-fdab96eac357\",\"type\":\"UnionRenderers\"},{\"attributes\":{},\"id\":\"57bf4675-50d6-43cd-95aa-13fa2ec4293a\",\"type\":\"SaveTool\"},{\"attributes\":{\"plot\":{\"id\":\"13188a5a-3fb5-4ec3-a6a2-5b8cc6f30474\",\"subtype\":\"Figure\",\"type\":\"Plot\"},\"ticker\":{\"id\":\"23f881fa-e57a-428c-9abb-2be1cd95aed5\",\"type\":\"BasicTicker\"}},\"id\":\"dcd025bc-6460-44e1-a176-f8ce6aaf19db\",\"type\":\"Grid\"},{\"attributes\":{\"bottom_units\":\"screen\",\"fill_alpha\":{\"value\":0.5},\"fill_color\":{\"value\":\"lightgrey\"},\"left_units\":\"screen\",\"level\":\"overlay\",\"line_alpha\":{\"value\":1.0},\"line_color\":{\"value\":\"black\"},\"line_dash\":[4,4],\"line_width\":{\"value\":2},\"plot\":null,\"render_mode\":\"css\",\"right_units\":\"screen\",\"top_units\":\"screen\"},\"id\":\"eddbaae3-1b43-4d09-a058-9fe69a026e08\",\"type\":\"BoxAnnotation\"},{\"attributes\":{\"source\":{\"id\":\"d4ab9d85-7ff3-4641-920e-e5ac53d47daf\",\"type\":\"ColumnDataSource\"}},\"id\":\"752b5382-34de-4690-8ef1-a3b052ab168b\",\"type\":\"CDSView\"},{\"attributes\":{\"axis_label\":\"Energy (arb. Unit)\",\"formatter\":{\"id\":\"b1c9f244-8a99-48a6-a7c5-ec93dc3cac5d\",\"type\":\"BasicTickFormatter\"},\"plot\":{\"id\":\"13188a5a-3fb5-4ec3-a6a2-5b8cc6f30474\",\"subtype\":\"Figure\",\"type\":\"Plot\"},\"ticker\":{\"id\":\"02e33e8f-637c-417a-b284-9f182c446c36\",\"type\":\"BasicTicker\"}},\"id\":\"a654fc59-d36b-42b1-9379-50b81852cd9c\",\"type\":\"LinearAxis\"},{\"attributes\":{\"fill_alpha\":{\"value\":0.1},\"fill_color\":{\"value\":\"#1f77b4\"},\"line_alpha\":{\"value\":0.1},\"line_color\":{\"value\":\"#1f77b4\"},\"size\":{\"units\":\"screen\",\"value\":6},\"x\":{\"field\":\"xVal\"},\"y\":{\"field\":\"yVal\"}},\"id\":\"f8076a09-9fc9-4ae4-9e38-01607b13eb5b\",\"type\":\"Circle\"},{\"attributes\":{\"active_drag\":\"auto\",\"active_inspect\":\"auto\",\"active_multi\":null,\"active_scroll\":\"auto\",\"active_tap\":\"auto\",\"tools\":[{\"id\":\"35340c35-9401-4d3f-a16b-72d47ba1b141\",\"type\":\"PanTool\"},{\"id\":\"d6af69ec-7ae7-4d70-8241-2b9c4be313bb\",\"type\":\"WheelZoomTool\"},{\"id\":\"4999846a-d11f-4f22-a41a-f74ac9766784\",\"type\":\"BoxZoomTool\"},{\"id\":\"57bf4675-50d6-43cd-95aa-13fa2ec4293a\",\"type\":\"SaveTool\"},{\"id\":\"237f5a33-bf3e-4793-a1a1-80b0e814c15e\",\"type\":\"ResetTool\"},{\"id\":\"6adb06ea-57f3-4835-ba37-c8cd5f69b6fc\",\"type\":\"HelpTool\"}]},\"id\":\"ca6f7406-9adc-44a2-9f3f-e48b7f362962\",\"type\":\"Toolbar\"},{\"attributes\":{\"callback\":null,\"end\":2.4,\"start\":-2.395068942600807},\"id\":\"2ad2f496-936e-47eb-a3d4-4b53448dd9e9\",\"type\":\"Range1d\"},{\"attributes\":{},\"id\":\"237f5a33-bf3e-4793-a1a1-80b0e814c15e\",\"type\":\"ResetTool\"},{\"attributes\":{},\"id\":\"0ef7a854-6468-4fd7-b231-f2bca752c890\",\"type\":\"LinearScale\"},{\"attributes\":{},\"id\":\"02e33e8f-637c-417a-b284-9f182c446c36\",\"type\":\"BasicTicker\"},{\"attributes\":{\"overlay\":{\"id\":\"eddbaae3-1b43-4d09-a058-9fe69a026e08\",\"type\":\"BoxAnnotation\"}},\"id\":\"4999846a-d11f-4f22-a41a-f74ac9766784\",\"type\":\"BoxZoomTool\"},{\"attributes\":{},\"id\":\"d6af69ec-7ae7-4d70-8241-2b9c4be313bb\",\"type\":\"WheelZoomTool\"},{\"attributes\":{\"fill_color\":{\"value\":\"#1f77b4\"},\"line_color\":{\"value\":\"#1f77b4\"},\"size\":{\"units\":\"screen\",\"value\":6},\"x\":{\"field\":\"xVal\"},\"y\":{\"field\":\"yVal\"}},\"id\":\"ce16f2fe-b8c1-4cc4-90e4-63afe6d1a084\",\"type\":\"Circle\"},{\"attributes\":{},\"id\":\"35340c35-9401-4d3f-a16b-72d47ba1b141\",\"type\":\"PanTool\"},{\"attributes\":{\"line_alpha\":0.1,\"line_color\":\"#1f77b4\",\"x\":{\"field\":\"xVal\"},\"y\":{\"field\":\"yVal\"}},\"id\":\"c761d50b-1b63-428c-aeab-a6e56e2976d6\",\"type\":\"Line\"},{\"attributes\":{\"dimension\":1,\"plot\":{\"id\":\"13188a5a-3fb5-4ec3-a6a2-5b8cc6f30474\",\"subtype\":\"Figure\",\"type\":\"Plot\"},\"ticker\":{\"id\":\"02e33e8f-637c-417a-b284-9f182c446c36\",\"type\":\"BasicTicker\"}},\"id\":\"a7726332-cb86-42eb-b1a4-7515a608adc4\",\"type\":\"Grid\"},{\"attributes\":{\"data_source\":{\"id\":\"d4ab9d85-7ff3-4641-920e-e5ac53d47daf\",\"type\":\"ColumnDataSource\"},\"glyph\":{\"id\":\"87d80f6c-cc0b-4b2d-94b9-4eaac923b5a5\",\"type\":\"Line\"},\"hover_glyph\":null,\"muted_glyph\":null,\"nonselection_glyph\":{\"id\":\"c761d50b-1b63-428c-aeab-a6e56e2976d6\",\"type\":\"Line\"},\"selection_glyph\":null,\"view\":{\"id\":\"97f398d7-8efd-410c-8ade-3d9a20b7be06\",\"type\":\"CDSView\"}},\"id\":\"0a6ae078-4df6-4963-84bc-4b7ad279020f\",\"type\":\"GlyphRenderer\"},{\"attributes\":{\"source\":{\"id\":\"d4ab9d85-7ff3-4641-920e-e5ac53d47daf\",\"type\":\"ColumnDataSource\"}},\"id\":\"97f398d7-8efd-410c-8ade-3d9a20b7be06\",\"type\":\"CDSView\"},{\"attributes\":{},\"id\":\"b1c9f244-8a99-48a6-a7c5-ec93dc3cac5d\",\"type\":\"BasicTickFormatter\"},{\"attributes\":{\"data_source\":{\"id\":\"d4ab9d85-7ff3-4641-920e-e5ac53d47daf\",\"type\":\"ColumnDataSource\"},\"glyph\":{\"id\":\"ce16f2fe-b8c1-4cc4-90e4-63afe6d1a084\",\"type\":\"Circle\"},\"hover_glyph\":null,\"muted_glyph\":null,\"nonselection_glyph\":{\"id\":\"f8076a09-9fc9-4ae4-9e38-01607b13eb5b\",\"type\":\"Circle\"},\"selection_glyph\":null,\"view\":{\"id\":\"752b5382-34de-4690-8ef1-a3b052ab168b\",\"type\":\"CDSView\"}},\"id\":\"1ec0386b-1911-49ba-9fbb-84d527c874df\",\"type\":\"GlyphRenderer\"},{\"attributes\":{\"line_color\":\"#1f77b4\",\"x\":{\"field\":\"xVal\"},\"y\":{\"field\":\"yVal\"}},\"id\":\"87d80f6c-cc0b-4b2d-94b9-4eaac923b5a5\",\"type\":\"Line\"},{\"attributes\":{},\"id\":\"6adb06ea-57f3-4835-ba37-c8cd5f69b6fc\",\"type\":\"HelpTool\"}],\"root_ids\":[\"13188a5a-3fb5-4ec3-a6a2-5b8cc6f30474\"]},\"title\":\"Bokeh Application\",\"version\":\"0.13.0\"}};\n",
       "  var render_items = [{\"docid\":\"55a4479d-aabf-4c08-b259-f2baead7e79d\",\"roots\":{\"13188a5a-3fb5-4ec3-a6a2-5b8cc6f30474\":\"625038fc-75ab-4bf8-8d76-35decb9086e1\"}}];\n",
       "  root.Bokeh.embed.embed_items_notebook(docs_json, render_items);\n",
       "\n",
       "  }\n",
       "  if (root.Bokeh !== undefined) {\n",
       "    embed_document(root);\n",
       "  } else {\n",
       "    var attempts = 0;\n",
       "    var timer = setInterval(function(root) {\n",
       "      if (root.Bokeh !== undefined) {\n",
       "        embed_document(root);\n",
       "        clearInterval(timer);\n",
       "      }\n",
       "      attempts++;\n",
       "      if (attempts > 100) {\n",
       "        console.log(\"Bokeh: ERROR: Unable to run BokehJS code because BokehJS library is missing\")\n",
       "        clearInterval(timer);\n",
       "      }\n",
       "    }, 10, root)\n",
       "  }\n",
       "})(window);"
      ],
      "application/vnd.bokehjs_exec.v0+json": ""
     },
     "metadata": {
      "application/vnd.bokehjs_exec.v0+json": {
       "id": "13188a5a-3fb5-4ec3-a6a2-5b8cc6f30474"
      }
     },
     "output_type": "display_data"
    }
   ],
   "source": [
    "# Calcualte resulting dispersion relation using periodic boundary condition (PC)\n",
    "band = figure(plot_height = 400, plot_width = 700, title='Energy band in reciprocal space', x_range = [-1.1*k0*M/np.pi,1.1*k0*M/np.pi], y_range= [1.2*energy.min(),1.2*energy.max()]);\n",
    "source2 = ColumnDataSource(data = {'xVal': k/np.pi, 'yVal' : energy});\n",
    "band.circle('xVal','yVal',source = source2,size = 6);\n",
    "band.line('xVal','yVal',source = source2);\n",
    "band.xaxis.axis_label='k-vector ( \\u03c0 )';\n",
    "band.yaxis.axis_label='Energy (arb. Unit)';\n",
    "show(band)"
   ]
  },
  {
   "cell_type": "code",
   "execution_count": 97,
   "metadata": {},
   "outputs": [],
   "source": [
    "# define the initial wavefunction (with an artificial Gaussian dist.)\n",
    "sigm = a/4;\n",
    "x0 = 0;\n",
    "x = np.linspace(-a*M,a*M+1,200);\n",
    "phi0 = 1/(np.sqrt(2*np.pi)*sigm)*np.exp(-1/2*( (x-x0)/sigm )**2);\n",
    "rho0 = np.conj(phi0)*phi0;"
   ]
  },
  {
   "cell_type": "code",
   "execution_count": 98,
   "metadata": {},
   "outputs": [
    {
     "data": {
      "text/html": [
       "\n",
       "\n",
       "\n",
       "\n",
       "\n",
       "\n",
       "  <div class=\"bk-root\" id=\"24fd0cdc-0009-47ae-afaf-031e6b8bf623\"></div>\n"
      ]
     },
     "metadata": {},
     "output_type": "display_data"
    },
    {
     "data": {
      "application/javascript": [
       "(function(root) {\n",
       "  function embed_document(root) {\n",
       "    \n",
       "  var docs_json = {\"934f725d-cbdd-49fc-8bd6-02f9d3e7285a\":{\"roots\":{\"references\":[{\"attributes\":{},\"id\":\"811c8a69-1172-491d-a3d9-942a174b59b5\",\"type\":\"Selection\"},{\"attributes\":{\"plot\":{\"id\":\"204e2121-2d0c-4729-a841-d8bed3ea57e3\",\"subtype\":\"Figure\",\"type\":\"Plot\"},\"ticker\":{\"id\":\"25aa8a5d-c295-44f9-af4c-26479b3d90e9\",\"type\":\"BasicTicker\"}},\"id\":\"e2597d08-6f9e-4341-859a-5ac5fdb22623\",\"type\":\"Grid\"},{\"attributes\":{},\"id\":\"e74f52f8-307b-4d9b-a76e-dd2bec7adebf\",\"type\":\"BasicTickFormatter\"},{\"attributes\":{\"callback\":null,\"data\":{\"xVal\":{\"__ndarray__\":\"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\",\"dtype\":\"float64\",\"shape\":[200]},\"yVal\":{\"__ndarray__\":\"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\",\"dtype\":\"float64\",\"shape\":[200]}},\"selected\":{\"id\":\"811c8a69-1172-491d-a3d9-942a174b59b5\",\"type\":\"Selection\"},\"selection_policy\":{\"id\":\"5e4d31f8-4616-4f33-b540-76e4408f7022\",\"type\":\"UnionRenderers\"}},\"id\":\"19561449-a3cd-4e38-80ef-d85866ca502a\",\"type\":\"ColumnDataSource\"},{\"attributes\":{\"axis_label\":\"Real space distance (arb. unit)\",\"formatter\":{\"id\":\"d06a01a5-464e-4922-9415-be0c02e08a78\",\"type\":\"BasicTickFormatter\"},\"plot\":{\"id\":\"204e2121-2d0c-4729-a841-d8bed3ea57e3\",\"subtype\":\"Figure\",\"type\":\"Plot\"},\"ticker\":{\"id\":\"25aa8a5d-c295-44f9-af4c-26479b3d90e9\",\"type\":\"BasicTicker\"}},\"id\":\"e20c00be-4f57-4993-b81b-bab264093a66\",\"type\":\"LinearAxis\"},{\"attributes\":{\"callback\":null,\"data\":{\"xVal\":{\"__ndarray__\":\"AAAAAAAAJMAAAAAAAAAiwAAAAAAAACDAAAAAAAAAHMAAAAAAAAAYwAAAAAAAABTAAAAAAAAAEMAAAAAAAAAIwAAAAAAAAADAAAAAAAAA8L8AAAAAAAAAAAAAAAAAAPA/AAAAAAAAAEAAAAAAAAAIQAAAAAAAABBAAAAAAAAAFEAAAAAAAAAYQAAAAAAAABxAAAAAAAAAIEAAAAAAAAAiQAAAAAAAACRA\",\"dtype\":\"float64\",\"shape\":[21]},\"yVal\":{\"__ndarray__\":\"AAAAAAAAAAAAAAAAAAAAAAAAAAAAAAAAAAAAAAAAAAAAAAAAAAAAAAAAAAAAAAAAAAAAAAAAAAAAAAAAAAAAAAAAAAAAAAAAAAAAAAAAAAAAAAAAAAAAAAAAAAAAAAAAAAAAAAAAAAAAAAAAAAAAAAAAAAAAAAAAAAAAAAAAAAAAAAAAAAAAAAAAAAAAAAAAAAAAAAAAAAAAAAAAAAAAAAAAAAAAAAAA\",\"dtype\":\"float64\",\"shape\":[21]}},\"selected\":{\"id\":\"b812af85-560d-43b5-949a-b2b0777688bc\",\"type\":\"Selection\"},\"selection_policy\":{\"id\":\"77737282-a04c-4e06-8c2d-fbf62dbdd85c\",\"type\":\"UnionRenderers\"}},\"id\":\"37a3505c-8dcf-4371-9885-7b722a2e72a9\",\"type\":\"ColumnDataSource\"},{\"attributes\":{},\"id\":\"25aa8a5d-c295-44f9-af4c-26479b3d90e9\",\"type\":\"BasicTicker\"},{\"attributes\":{},\"id\":\"b812af85-560d-43b5-949a-b2b0777688bc\",\"type\":\"Selection\"},{\"attributes\":{\"axis_label\":\"Probability density\",\"formatter\":{\"id\":\"e74f52f8-307b-4d9b-a76e-dd2bec7adebf\",\"type\":\"BasicTickFormatter\"},\"plot\":{\"id\":\"204e2121-2d0c-4729-a841-d8bed3ea57e3\",\"subtype\":\"Figure\",\"type\":\"Plot\"},\"ticker\":{\"id\":\"fde90872-ac58-455d-98be-d8c3919b515c\",\"type\":\"BasicTicker\"}},\"id\":\"15e7e451-d174-43e3-a27a-4e5c755ed8f2\",\"type\":\"LinearAxis\"},{\"attributes\":{},\"id\":\"fde90872-ac58-455d-98be-d8c3919b515c\",\"type\":\"BasicTicker\"},{\"attributes\":{\"dimension\":1,\"plot\":{\"id\":\"204e2121-2d0c-4729-a841-d8bed3ea57e3\",\"subtype\":\"Figure\",\"type\":\"Plot\"},\"ticker\":{\"id\":\"fde90872-ac58-455d-98be-d8c3919b515c\",\"type\":\"BasicTicker\"}},\"id\":\"e35f1b5e-e841-4132-a6e6-4d5dda42065e\",\"type\":\"Grid\"},{\"attributes\":{\"line_color\":\"red\",\"x\":{\"field\":\"xVal\"},\"y\":{\"field\":\"yVal\"}},\"id\":\"83a0fad6-3c4c-4095-9d7b-b2c52b759bbd\",\"type\":\"Line\"},{\"attributes\":{\"callback\":null,\"end\":11.0,\"start\":-11.0},\"id\":\"368cc2b2-c51e-454a-a1a1-3b41b6dd670b\",\"type\":\"Range1d\"},{\"attributes\":{\"fill_color\":{\"value\":\"black\"},\"size\":{\"units\":\"screen\",\"value\":10},\"x\":{\"field\":\"xVal\"},\"y\":{\"field\":\"yVal\"}},\"id\":\"d454ab40-1300-400f-865a-bba6546a45da\",\"type\":\"Circle\"},{\"attributes\":{\"bottom_units\":\"screen\",\"fill_alpha\":{\"value\":0.5},\"fill_color\":{\"value\":\"lightgrey\"},\"left_units\":\"screen\",\"level\":\"overlay\",\"line_alpha\":{\"value\":1.0},\"line_color\":{\"value\":\"black\"},\"line_dash\":[4,4],\"line_width\":{\"value\":2},\"plot\":null,\"render_mode\":\"css\",\"right_units\":\"screen\",\"top_units\":\"screen\"},\"id\":\"6a6aa15f-944f-42dc-bed7-9a5c6b0cdd81\",\"type\":\"BoxAnnotation\"},{\"attributes\":{},\"id\":\"30123a09-0038-4175-831b-543b5eb5a903\",\"type\":\"PanTool\"},{\"attributes\":{\"line_alpha\":0.1,\"line_color\":\"#1f77b4\",\"x\":{\"field\":\"xVal\"},\"y\":{\"field\":\"yVal\"}},\"id\":\"73a00b12-dd5b-4c05-9cf2-7ed6760bdf08\",\"type\":\"Line\"},{\"attributes\":{},\"id\":\"7120948b-6933-4773-aca5-7d59e8e35729\",\"type\":\"WheelZoomTool\"},{\"attributes\":{},\"id\":\"77737282-a04c-4e06-8c2d-fbf62dbdd85c\",\"type\":\"UnionRenderers\"},{\"attributes\":{\"overlay\":{\"id\":\"6a6aa15f-944f-42dc-bed7-9a5c6b0cdd81\",\"type\":\"BoxAnnotation\"}},\"id\":\"b89e11bd-79ba-4e9c-bdd1-35a5e15aafd9\",\"type\":\"BoxZoomTool\"},{\"attributes\":{},\"id\":\"73586d9e-0430-4cfa-a4d3-a4c3275114ea\",\"type\":\"SaveTool\"},{\"attributes\":{},\"id\":\"37cf8e77-0037-4eb9-a428-140d9e156c3d\",\"type\":\"ResetTool\"},{\"attributes\":{},\"id\":\"deca3956-5f18-4bb1-8393-c21dc1004fbe\",\"type\":\"HelpTool\"},{\"attributes\":{\"data_source\":{\"id\":\"19561449-a3cd-4e38-80ef-d85866ca502a\",\"type\":\"ColumnDataSource\"},\"glyph\":{\"id\":\"83a0fad6-3c4c-4095-9d7b-b2c52b759bbd\",\"type\":\"Line\"},\"hover_glyph\":null,\"muted_glyph\":null,\"nonselection_glyph\":{\"id\":\"73a00b12-dd5b-4c05-9cf2-7ed6760bdf08\",\"type\":\"Line\"},\"selection_glyph\":null,\"view\":{\"id\":\"2deb4a10-664b-46b5-9c48-fcbb2a4f4650\",\"type\":\"CDSView\"}},\"id\":\"37f92bbd-cbe2-4dd1-9b59-2eb64a81ef02\",\"type\":\"GlyphRenderer\"},{\"attributes\":{\"source\":{\"id\":\"19561449-a3cd-4e38-80ef-d85866ca502a\",\"type\":\"ColumnDataSource\"}},\"id\":\"2deb4a10-664b-46b5-9c48-fcbb2a4f4650\",\"type\":\"CDSView\"},{\"attributes\":{\"plot\":null,\"text\":\"Initial wavefunction in real space\"},\"id\":\"a8298fb3-26fb-4412-ac07-2ebe9e61783e\",\"type\":\"Title\"},{\"attributes\":{},\"id\":\"d06a01a5-464e-4922-9415-be0c02e08a78\",\"type\":\"BasicTickFormatter\"},{\"attributes\":{\"fill_alpha\":{\"value\":0.1},\"fill_color\":{\"value\":\"#1f77b4\"},\"line_alpha\":{\"value\":0.1},\"line_color\":{\"value\":\"#1f77b4\"},\"size\":{\"units\":\"screen\",\"value\":10},\"x\":{\"field\":\"xVal\"},\"y\":{\"field\":\"yVal\"}},\"id\":\"5ad3699a-f95f-4699-9d9e-f34948659dd1\",\"type\":\"Circle\"},{\"attributes\":{\"data_source\":{\"id\":\"37a3505c-8dcf-4371-9885-7b722a2e72a9\",\"type\":\"ColumnDataSource\"},\"glyph\":{\"id\":\"d454ab40-1300-400f-865a-bba6546a45da\",\"type\":\"Circle\"},\"hover_glyph\":null,\"muted_glyph\":null,\"nonselection_glyph\":{\"id\":\"5ad3699a-f95f-4699-9d9e-f34948659dd1\",\"type\":\"Circle\"},\"selection_glyph\":null,\"view\":{\"id\":\"de3c9ef2-0992-43ba-8680-20a99b82475d\",\"type\":\"CDSView\"}},\"id\":\"3f41b8f3-a2d7-49b0-a824-402bdc81181b\",\"type\":\"GlyphRenderer\"},{\"attributes\":{\"source\":{\"id\":\"37a3505c-8dcf-4371-9885-7b722a2e72a9\",\"type\":\"ColumnDataSource\"}},\"id\":\"de3c9ef2-0992-43ba-8680-20a99b82475d\",\"type\":\"CDSView\"},{\"attributes\":{\"callback\":null,\"end\":1.2,\"start\":-1},\"id\":\"9f5ea150-73f3-4d82-b8a4-7545a1575556\",\"type\":\"Range1d\"},{\"attributes\":{},\"id\":\"5e4d31f8-4616-4f33-b540-76e4408f7022\",\"type\":\"UnionRenderers\"},{\"attributes\":{},\"id\":\"1e88f7cc-651d-41ea-b074-d0fbfc61718f\",\"type\":\"LinearScale\"},{\"attributes\":{\"active_drag\":\"auto\",\"active_inspect\":\"auto\",\"active_multi\":null,\"active_scroll\":\"auto\",\"active_tap\":\"auto\",\"tools\":[{\"id\":\"30123a09-0038-4175-831b-543b5eb5a903\",\"type\":\"PanTool\"},{\"id\":\"7120948b-6933-4773-aca5-7d59e8e35729\",\"type\":\"WheelZoomTool\"},{\"id\":\"b89e11bd-79ba-4e9c-bdd1-35a5e15aafd9\",\"type\":\"BoxZoomTool\"},{\"id\":\"73586d9e-0430-4cfa-a4d3-a4c3275114ea\",\"type\":\"SaveTool\"},{\"id\":\"37cf8e77-0037-4eb9-a428-140d9e156c3d\",\"type\":\"ResetTool\"},{\"id\":\"deca3956-5f18-4bb1-8393-c21dc1004fbe\",\"type\":\"HelpTool\"}]},\"id\":\"3790af15-8687-4591-91a7-54620d1e1954\",\"type\":\"Toolbar\"},{\"attributes\":{},\"id\":\"c5aaae49-4d6b-4d60-8ee1-976c62c64cb4\",\"type\":\"LinearScale\"},{\"attributes\":{\"below\":[{\"id\":\"e20c00be-4f57-4993-b81b-bab264093a66\",\"type\":\"LinearAxis\"}],\"left\":[{\"id\":\"15e7e451-d174-43e3-a27a-4e5c755ed8f2\",\"type\":\"LinearAxis\"}],\"plot_height\":400,\"plot_width\":700,\"renderers\":[{\"id\":\"e20c00be-4f57-4993-b81b-bab264093a66\",\"type\":\"LinearAxis\"},{\"id\":\"e2597d08-6f9e-4341-859a-5ac5fdb22623\",\"type\":\"Grid\"},{\"id\":\"15e7e451-d174-43e3-a27a-4e5c755ed8f2\",\"type\":\"LinearAxis\"},{\"id\":\"e35f1b5e-e841-4132-a6e6-4d5dda42065e\",\"type\":\"Grid\"},{\"id\":\"6a6aa15f-944f-42dc-bed7-9a5c6b0cdd81\",\"type\":\"BoxAnnotation\"},{\"id\":\"37f92bbd-cbe2-4dd1-9b59-2eb64a81ef02\",\"type\":\"GlyphRenderer\"},{\"id\":\"3f41b8f3-a2d7-49b0-a824-402bdc81181b\",\"type\":\"GlyphRenderer\"}],\"title\":{\"id\":\"a8298fb3-26fb-4412-ac07-2ebe9e61783e\",\"type\":\"Title\"},\"toolbar\":{\"id\":\"3790af15-8687-4591-91a7-54620d1e1954\",\"type\":\"Toolbar\"},\"x_range\":{\"id\":\"368cc2b2-c51e-454a-a1a1-3b41b6dd670b\",\"type\":\"Range1d\"},\"x_scale\":{\"id\":\"c5aaae49-4d6b-4d60-8ee1-976c62c64cb4\",\"type\":\"LinearScale\"},\"y_range\":{\"id\":\"9f5ea150-73f3-4d82-b8a4-7545a1575556\",\"type\":\"Range1d\"},\"y_scale\":{\"id\":\"1e88f7cc-651d-41ea-b074-d0fbfc61718f\",\"type\":\"LinearScale\"}},\"id\":\"204e2121-2d0c-4729-a841-d8bed3ea57e3\",\"subtype\":\"Figure\",\"type\":\"Plot\"}],\"root_ids\":[\"204e2121-2d0c-4729-a841-d8bed3ea57e3\"]},\"title\":\"Bokeh Application\",\"version\":\"0.13.0\"}};\n",
       "  var render_items = [{\"docid\":\"934f725d-cbdd-49fc-8bd6-02f9d3e7285a\",\"roots\":{\"204e2121-2d0c-4729-a841-d8bed3ea57e3\":\"24fd0cdc-0009-47ae-afaf-031e6b8bf623\"}}];\n",
       "  root.Bokeh.embed.embed_items_notebook(docs_json, render_items);\n",
       "\n",
       "  }\n",
       "  if (root.Bokeh !== undefined) {\n",
       "    embed_document(root);\n",
       "  } else {\n",
       "    var attempts = 0;\n",
       "    var timer = setInterval(function(root) {\n",
       "      if (root.Bokeh !== undefined) {\n",
       "        embed_document(root);\n",
       "        clearInterval(timer);\n",
       "      }\n",
       "      attempts++;\n",
       "      if (attempts > 100) {\n",
       "        console.log(\"Bokeh: ERROR: Unable to run BokehJS code because BokehJS library is missing\")\n",
       "        clearInterval(timer);\n",
       "      }\n",
       "    }, 10, root)\n",
       "  }\n",
       "})(window);"
      ],
      "application/vnd.bokehjs_exec.v0+json": ""
     },
     "metadata": {
      "application/vnd.bokehjs_exec.v0+json": {
       "id": "204e2121-2d0c-4729-a841-d8bed3ea57e3"
      }
     },
     "output_type": "display_data"
    }
   ],
   "source": [
    "# Initialize an electron at the center of the 1D chain with a gaussian distribution to indicates its probability density\n",
    "dist0 = figure(plot_height = 400, plot_width = 700, title='Initial wavefunction in real space', x_range = [-1.1*a*M,1.1*a*M], y_range = [-1, 1.2]);\n",
    "source3 = ColumnDataSource(data = {'xVal': x, 'yVal': rho0/rho0.max()});\n",
    "dist0.line('xVal','yVal', source = source3, line_color = 'red');\n",
    "dist0.circle('xVal','yVal',source = source1, size = 10, line_color = 'black', fill_color = 'black');\n",
    "dist0.xaxis.axis_label='Real space distance (arb. unit)';\n",
    "dist0.yaxis.axis_label='Probability density';\n",
    "show(dist0)"
   ]
  },
  {
   "cell_type": "code",
   "execution_count": 99,
   "metadata": {},
   "outputs": [],
   "source": [
    "# Construct hamiltonian using occupation number basis and set initial wavefunction\n",
    "asd = np.zeros((N-1,N-1),complex);\n",
    "np.fill_diagonal(asd,-1);\n",
    "b = np.append(asd,np.zeros((N-1,1),complex), axis = 1);\n",
    "c = np.append(np.zeros((1,N),complex),b,axis = 0);\n",
    "hamil = c + np.transpose(c);\n",
    "np.fill_diagonal(hamil,1);\n",
    "psi0 = np.zeros((N,1),complex);\n",
    "psi0[M][0] = 1;\n",
    "hamil[N-1][0] = np.exp(-1j*2*np.pi); #Apply periodic boundry condition\n",
    "hamil[0][N-1] = np.exp(-1j*2*np.pi);"
   ]
  },
  {
   "cell_type": "code",
   "execution_count": 100,
   "metadata": {},
   "outputs": [],
   "source": [
    "# Define time evolution operator\n",
    "dt = 0.05; # Define time step\n",
    "endt = 2000;\n",
    "diaganol = np.ones(N);\n",
    "evol = np.diag(diaganol)-1.j*hamil*dt; # Use first order Taylor expansion to approximate the evolution operator\n",
    "ts = np.arange(0,endt*dt,dt);\n",
    "psis = np.empty(ts.size,dtype = object); # Initiate a container for the wavefunctions at different time slice\n",
    "phis = np.empty(ts.size,dtype = object); # Initiate a container for the phase at different time slice\n",
    "rhos = np.empty(ts.size,dtype = object); # Initiate a container for the probability density at different time slice\n",
    "psis[0]=psi0;\n",
    "for ii in range(1,ts.size):\n",
    "    psis[ii] = np.dot(evol,psis[ii-1]);\n",
    "lattx2 = np.arange(-M*a,a*M,a/10.0);\n",
    "for ii in range(0,ts.size-1):\n",
    "    phis[ii] = np.angle((psis[ii]));\n",
    "    rhos[ii] = np.abs(psis[ii]);"
   ]
  },
  {
   "cell_type": "code",
   "execution_count": 134,
   "metadata": {
    "scrolled": false
   },
   "outputs": [],
   "source": [
    "# Plot the phase of the wavefunction at time = t\n",
    "t = 0;\n",
    "phi_t = np.squeeze(phis[t]);\n",
    "rho_t = interp1d(lattx,np.squeeze(rhos[t]), kind = 'cubic');\n",
    "wavefunc_t = figure(plot_height=300, plot_width=700, title=\"Electron wavefunction\",x_range=[-1.1*a*M,1.1*a*M]);\n",
    "source4 = ColumnDataSource(data = {'xVal': lattx, 'yVal' : latty, 'cVal': phi_t});\n",
    "lattx_smooth = np.linspace(-a*M,a*M,num = 200, endpoint = True);\n",
    "source5 = ColumnDataSource(data = {'xVal_s': lattx_smooth, 'yVal_s': rho_t(lattx_smooth)/rho_t(lattx_smooth).max()});\n",
    "\n",
    "#phis_smooth = np.empty(ts.size,dtype = object); # Initiate a container for the phase at different time slice\n",
    "#for ii in range(0,ts.size-1): # Option 1: use smoothed curve to show phase variation\n",
    "#    phis_smooth[ii] = interp1d(lattx,np.squeeze(phis[ii]), kind = 'cubic');\n",
    "#wavefunc_t.line('xVal','yVal', source = source4); \n",
    "\n",
    "mapper = linear_cmap(field_name = 'cVal', palette = RdYlBu11, low = min(phi_t), high = max(phi_t));\n",
    "wavefunc_t.circle('xVal','yVal',source = source4, size = 10, line_color = mapper, fill_color = mapper);\n",
    "wavefunc_t.line('xVal_s','yVal_s',source = source5, line_color = 'red');\n",
    "color_bar = ColorBar(color_mapper = mapper['transform'], width = 300, location = (150,0), orientation = \"horizontal\");\n",
    "wavefunc_t.add_layout(color_bar, 'below');"
   ]
  },
  {
   "cell_type": "code",
   "execution_count": 135,
   "metadata": {},
   "outputs": [],
   "source": [
    "def update(time):\n",
    "    time = int(time/dt);\n",
    "    rho_t = interp1d(lattx,np.squeeze(rhos[time]), kind = 'cubic');\n",
    "    source4.data['cVal'] = np.squeeze(phis[time]);\n",
    "    source5.data['yVal_s'] = rho_t(lattx_smooth)/rho_t(lattx_smooth).max();\n",
    "    \n",
    "    push_notebook(wavefunc_t)"
   ]
  },
  {
   "cell_type": "code",
   "execution_count": 136,
   "metadata": {
    "scrolled": false
   },
   "outputs": [
    {
     "data": {
      "text/html": [
       "\n",
       "\n",
       "\n",
       "\n",
       "\n",
       "\n",
       "  <div class=\"bk-root\" id=\"5036a08a-c98e-407e-aab4-8653cc010207\"></div>\n"
      ]
     },
     "metadata": {},
     "output_type": "display_data"
    },
    {
     "data": {
      "application/javascript": [
       "(function(root) {\n",
       "  function embed_document(root) {\n",
       "    \n",
       "  var docs_json = {\"5f96a43d-8846-43ce-8b75-4d02bb605de3\":{\"roots\":{\"references\":[{\"attributes\":{\"callback\":null},\"id\":\"e4733512-f95d-4f6a-8a84-6ec93b046f4a\",\"type\":\"DataRange1d\"},{\"attributes\":{},\"id\":\"ea67d4fd-b414-429b-9d00-73b865dce1e3\",\"type\":\"PanTool\"},{\"attributes\":{\"overlay\":{\"id\":\"3b34bd6c-5b6e-4837-8751-5fc9f12c134a\",\"type\":\"BoxAnnotation\"}},\"id\":\"e72841b0-764c-466d-a01c-c02380f7996d\",\"type\":\"BoxZoomTool\"},{\"attributes\":{\"source\":{\"id\":\"aa7acd40-c457-413c-81bd-cc62dfba0202\",\"type\":\"ColumnDataSource\"}},\"id\":\"bf642236-92c2-4105-95c8-a574bf755925\",\"type\":\"CDSView\"},{\"attributes\":{\"data_source\":{\"id\":\"3f0988bd-97fc-4f5b-88d7-e578242154c1\",\"type\":\"ColumnDataSource\"},\"glyph\":{\"id\":\"a9985259-0ccb-4496-9cfc-f0000712a5da\",\"type\":\"Circle\"},\"hover_glyph\":null,\"muted_glyph\":null,\"nonselection_glyph\":{\"id\":\"4040cd2f-f4e2-4181-8f42-72a6d9acd752\",\"type\":\"Circle\"},\"selection_glyph\":null,\"view\":{\"id\":\"692ceed0-67b4-410a-a4e9-96bf343f5805\",\"type\":\"CDSView\"}},\"id\":\"1de00fc2-0c38-4372-8ea1-aad5fbf257d7\",\"type\":\"GlyphRenderer\"},{\"attributes\":{\"callback\":null,\"data\":{\"cVal\":{\"__ndarray__\":\"AAAAAAAAAAAAAAAAAAAAAAAAAAAAAAAAAAAAAAAAAAAAAAAAAAAAAAAAAAAAAAAAAAAAAAAAAAAAAAAAAAAAAAAAAAAAAAAAAAAAAAAAAAAAAAAAAAAAAAAAAAAAAAAAAAAAAAAAAAAAAAAAAAAAAAAAAAAAAAAAAAAAAAAAAAAAAAAAAAAAAAAAAAAAAAAAAAAAAAAAAAAAAAAAAAAAAAAAAAAAAAAA\",\"dtype\":\"float64\",\"shape\":[21]},\"xVal\":{\"__ndarray__\":\"AAAAAAAAJMAAAAAAAAAiwAAAAAAAACDAAAAAAAAAHMAAAAAAAAAYwAAAAAAAABTAAAAAAAAAEMAAAAAAAAAIwAAAAAAAAADAAAAAAAAA8L8AAAAAAAAAAAAAAAAAAPA/AAAAAAAAAEAAAAAAAAAIQAAAAAAAABBAAAAAAAAAFEAAAAAAAAAYQAAAAAAAABxAAAAAAAAAIEAAAAAAAAAiQAAAAAAAACRA\",\"dtype\":\"float64\",\"shape\":[21]},\"yVal\":{\"__ndarray__\":\"AAAAAAAAAAAAAAAAAAAAAAAAAAAAAAAAAAAAAAAAAAAAAAAAAAAAAAAAAAAAAAAAAAAAAAAAAAAAAAAAAAAAAAAAAAAAAAAAAAAAAAAAAAAAAAAAAAAAAAAAAAAAAAAAAAAAAAAAAAAAAAAAAAAAAAAAAAAAAAAAAAAAAAAAAAAAAAAAAAAAAAAAAAAAAAAAAAAAAAAAAAAAAAAAAAAAAAAAAAAAAAAA\",\"dtype\":\"float64\",\"shape\":[21]}},\"selected\":{\"id\":\"8200f60a-03ff-4c6d-a2d2-4c8cd0fae3d7\",\"type\":\"Selection\"},\"selection_policy\":{\"id\":\"60c0858a-7835-4b59-8c9e-062dc22576c9\",\"type\":\"UnionRenderers\"}},\"id\":\"3f0988bd-97fc-4f5b-88d7-e578242154c1\",\"type\":\"ColumnDataSource\"},{\"attributes\":{\"plot\":{\"id\":\"dadbad40-30da-4ce3-a00c-9b571031c2bd\",\"subtype\":\"Figure\",\"type\":\"Plot\"},\"ticker\":{\"id\":\"5e4e8c6d-9e2c-4c98-888d-52e7f85885f9\",\"type\":\"BasicTicker\"}},\"id\":\"0d6d4fce-7735-450f-a504-e306cbe362bb\",\"type\":\"Grid\"},{\"attributes\":{},\"id\":\"5e4e8c6d-9e2c-4c98-888d-52e7f85885f9\",\"type\":\"BasicTicker\"},{\"attributes\":{\"data_source\":{\"id\":\"aa7acd40-c457-413c-81bd-cc62dfba0202\",\"type\":\"ColumnDataSource\"},\"glyph\":{\"id\":\"098ce5ab-b8f9-40fd-8bf3-664bb661b3f1\",\"type\":\"Line\"},\"hover_glyph\":null,\"muted_glyph\":null,\"nonselection_glyph\":{\"id\":\"8ff4805d-dfce-42e9-a1d4-cd02703fb51d\",\"type\":\"Line\"},\"selection_glyph\":null,\"view\":{\"id\":\"bf642236-92c2-4105-95c8-a574bf755925\",\"type\":\"CDSView\"}},\"id\":\"f0cb60b2-f98e-42b6-82ce-bee34cc92c40\",\"type\":\"GlyphRenderer\"},{\"attributes\":{},\"id\":\"fd79231a-2fad-4023-a9be-aa8057f32f9d\",\"type\":\"LinearScale\"},{\"attributes\":{\"active_drag\":\"auto\",\"active_inspect\":\"auto\",\"active_multi\":null,\"active_scroll\":\"auto\",\"active_tap\":\"auto\",\"tools\":[{\"id\":\"ea67d4fd-b414-429b-9d00-73b865dce1e3\",\"type\":\"PanTool\"},{\"id\":\"a0201c97-364d-456c-a40a-782c3d558da3\",\"type\":\"WheelZoomTool\"},{\"id\":\"e72841b0-764c-466d-a01c-c02380f7996d\",\"type\":\"BoxZoomTool\"},{\"id\":\"65eea447-b8cd-4104-82fa-89c7eba5027d\",\"type\":\"SaveTool\"},{\"id\":\"58c80826-6797-4dff-951a-071f20713c51\",\"type\":\"ResetTool\"},{\"id\":\"226ff591-932b-4e72-bbb1-8b575c847f79\",\"type\":\"HelpTool\"}]},\"id\":\"1a85b9a9-bb20-4a7d-b904-ed1ca22d14b9\",\"type\":\"Toolbar\"},{\"attributes\":{\"color_mapper\":{\"id\":\"59c66f14-6e9c-4f81-9869-55e84290efce\",\"type\":\"LinearColorMapper\"},\"formatter\":{\"id\":\"40831d56-85f8-4886-a4fe-0dfe7ec50a84\",\"type\":\"BasicTickFormatter\"},\"location\":[150,0],\"orientation\":\"horizontal\",\"plot\":{\"id\":\"dadbad40-30da-4ce3-a00c-9b571031c2bd\",\"subtype\":\"Figure\",\"type\":\"Plot\"},\"ticker\":{\"id\":\"23c14fa6-d04b-4dd7-96df-88f4f6c22543\",\"type\":\"BasicTicker\"},\"width\":300},\"id\":\"ce129a7d-7733-4beb-9769-57182737fa47\",\"type\":\"ColorBar\"},{\"attributes\":{},\"id\":\"8200f60a-03ff-4c6d-a2d2-4c8cd0fae3d7\",\"type\":\"Selection\"},{\"attributes\":{\"line_color\":\"red\",\"x\":{\"field\":\"xVal_s\"},\"y\":{\"field\":\"yVal_s\"}},\"id\":\"098ce5ab-b8f9-40fd-8bf3-664bb661b3f1\",\"type\":\"Line\"},{\"attributes\":{},\"id\":\"1fd6c182-309e-48a5-a9cf-976561d3c7a1\",\"type\":\"LinearScale\"},{\"attributes\":{},\"id\":\"1ba514fe-a06e-46ab-99b2-e9ebf3a8e99e\",\"type\":\"BasicTicker\"},{\"attributes\":{\"formatter\":{\"id\":\"ae1ed836-2b86-4e87-9997-6479eee31e51\",\"type\":\"BasicTickFormatter\"},\"plot\":{\"id\":\"dadbad40-30da-4ce3-a00c-9b571031c2bd\",\"subtype\":\"Figure\",\"type\":\"Plot\"},\"ticker\":{\"id\":\"1ba514fe-a06e-46ab-99b2-e9ebf3a8e99e\",\"type\":\"BasicTicker\"}},\"id\":\"6d0f0547-f975-4751-a1b4-df5bbb37ca60\",\"type\":\"LinearAxis\"},{\"attributes\":{},\"id\":\"65eea447-b8cd-4104-82fa-89c7eba5027d\",\"type\":\"SaveTool\"},{\"attributes\":{},\"id\":\"7855e52e-1528-4de0-982a-588f094f4e1a\",\"type\":\"UnionRenderers\"},{\"attributes\":{\"callback\":null,\"end\":11.0,\"start\":-11.0},\"id\":\"6f07e90b-dd63-4e8e-8967-cca20457570b\",\"type\":\"Range1d\"},{\"attributes\":{\"callback\":null,\"data\":{\"xVal_s\":{\"__ndarray__\":\"AAAAAAAAJMD3wEbviswjwO6Bjd4VmSPA5ULUzaBlI8DcAxu9KzIjwNPEYay2/iLAyoWom0HLIsDBRu+KzJciwLgHNnpXZCLAr8h8aeIwIsCmicNYbf0hwJ1KCkj4ySHAlAtRN4OWIcCLzJcmDmMhwIKN3hWZLyHAeU4lBST8IMBwD2z0rsggwGfQsuM5lSDAXpH50sRhIMBVUkDCTy4gwJgmDmO19R/AhqibQcuOH8B0Kikg4ScfwGKstv72wB7AUC5E3QxaHsA+sNG7IvMdwCwyX5o4jB3AGrTseE4lHcAINnpXZL4cwPa3BzZ6VxzA5DmVFJDwG8DSuyLzpYkbwMA9sNG7IhvArr89sNG7GsCcQcuO51QawIrDWG397RnAeEXmSxOHGcBmx3MqKSAZwFRJAQk/uRjAQsuO51RSGMAvTRzGausXwB3PqaSAhBfAC1E3g5YdF8D50sRhrLYWwOdUUkDCTxbA1dbfHtjoFcDDWG397YEVwLHa+tsDGxXAn1yIuhm0FMCN3hWZL00UwHtgo3dF5hPAaeIwVlt/E8BXZL40cRgTwEXmSxOHsRLAM2jZ8ZxKEsAh6mbQsuMRwA9s9K7IfBHA/e2Bjd4VEcDrbw9s9K4QwNnxnEoKSBDAjudUUkDCD8Bq628PbPQOwEbvisyXJg7AIvOlicNYDcD+9sBG74oMwNr62wMbvQvAtv72wEbvCsCSAhJ+ciEKwG4GLTueUwnASgpI+MmFCMAmDmO19bcHwAISfnIh6gbA3hWZL00cBsC6GbTseE4FwJYdz6mkgATAciHqZtCyA8BOJQUk/OQCwCopIOEnFwLABi07nlNJAcDiMFZbf3sAwHhp4jBWW/+/MHEYq62//b/oeE4lBST8v6CAhJ9ciPq/WIi6GbTs+L8QkPCTC1H3v8iXJg5jtfW/gJ9ciLoZ9L84p5ICEn7yv/CuyHxp4vC/UG397YGN7r/AfGniMFbrvzCM1dbfHui/oJtBy47n5L8Qq62/PbDhvwB1M2jZ8dy/4JMLUTeD1r/AsuM5lRTQv0Cjd0XmS8O/AISfXIi6qb8AhZ9ciLqpP4Cjd0XmS8M/4LLjOZUU0D8AlAtRN4PWPyB1M2jZ8dw/IKutvz2w4T+wm0HLjufkP0CM1dbfHug/0Hxp4jBW6z9gbf3tgY3uP/iuyHxp4vA/QKeSAhJ+8j+In1yIuhn0P9CXJg5jtfU/GJDwkwtR9z9giLoZtOz4P6iAhJ9ciPo/8HhOJQUk/D84cRirrb/9P4Bp4jBWW/8/5DBWW397AEAILTueU0kBQCwpIOEnFwJAUCUFJPzkAkB0Iepm0LIDQJgdz6mkgARAvBm07HhOBUDgFZkvTRwGQAQSfnIh6gZAKA5jtfW3B0BMCkj4yYUIQHAGLTueUwlAlAISfnIhCkC4/vbARu8KQNz62wMbvQtAAPfARu+KDEAk86WJw1gNQEjvisyXJg5AbOtvD2z0DkCQ51RSQMIPQNrxnEoKSBBA7G8PbPSuEED+7YGN3hURQBBs9K7IfBFAIupm0LLjEUA0aNnxnEoSQEbmSxOHsRJAWGS+NHEYE0Bq4jBWW38TQHxgo3dF5hNAjt4VmS9NFECgXIi6GbQUQLLa+tsDGxVAxFht/e2BFUDW1t8e2OgVQOhUUkDCTxZA+tLEYay2FkAMUTeDlh0XQB7PqaSAhBdAME0cxmrrF0BEy47nVFIYQFRJAQk/uRhAaMdzKikgGUB4ReZLE4cZQIzDWG397RlAnEHLjudUGkCwvz2w0bsaQMA9sNG7IhtA1Lsi86WJG0DkOZUUkPAbQPi3BzZ6VxxACDZ6V2S+HEActOx4TiUdQCwyX5o4jB1AQLDRuyLzHUBQLkTdDFoeQGSstv72wB5AdCopIOEnH0CIqJtBy44fQJgmDmO19R9AVlJAwk8uIEBekfnSxGEgQGjQsuM5lSBAcA9s9K7IIEB6TiUFJPwgQIKN3hWZLyFAjMyXJg5jIUCUC1E3g5YhQJ5KCkj4ySFAponDWG39IUCwyHxp4jAiQLgHNnpXZCJAwkbvisyXIkDKhaibQcsiQNTEYay2/iJA3AMbvSsyI0DmQtTNoGUjQO6Bjd4VmSNA+MBG74rMI0AAAAAAAAAkQA==\",\"dtype\":\"float64\",\"shape\":[200]},\"yVal_s\":{\"__ndarray__\":\"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\",\"dtype\":\"float64\",\"shape\":[200]}},\"selected\":{\"id\":\"102554fd-1c0b-4e7d-990a-ebe89090f62f\",\"type\":\"Selection\"},\"selection_policy\":{\"id\":\"7855e52e-1528-4de0-982a-588f094f4e1a\",\"type\":\"UnionRenderers\"}},\"id\":\"aa7acd40-c457-413c-81bd-cc62dfba0202\",\"type\":\"ColumnDataSource\"},{\"attributes\":{},\"id\":\"663ab1e4-f405-4030-994a-88dcc443792f\",\"type\":\"BasicTickFormatter\"},{\"attributes\":{},\"id\":\"a0201c97-364d-456c-a40a-782c3d558da3\",\"type\":\"WheelZoomTool\"},{\"attributes\":{\"fill_color\":{\"field\":\"cVal\",\"transform\":{\"id\":\"59c66f14-6e9c-4f81-9869-55e84290efce\",\"type\":\"LinearColorMapper\"}},\"line_color\":{\"field\":\"cVal\",\"transform\":{\"id\":\"59c66f14-6e9c-4f81-9869-55e84290efce\",\"type\":\"LinearColorMapper\"}},\"size\":{\"units\":\"screen\",\"value\":10},\"x\":{\"field\":\"xVal\"},\"y\":{\"field\":\"yVal\"}},\"id\":\"a9985259-0ccb-4496-9cfc-f0000712a5da\",\"type\":\"Circle\"},{\"attributes\":{},\"id\":\"226ff591-932b-4e72-bbb1-8b575c847f79\",\"type\":\"HelpTool\"},{\"attributes\":{\"plot\":null,\"text\":\"Electron wavefunction\"},\"id\":\"e0693a56-2ed2-4625-909b-817c958ce751\",\"type\":\"Title\"},{\"attributes\":{},\"id\":\"40831d56-85f8-4886-a4fe-0dfe7ec50a84\",\"type\":\"BasicTickFormatter\"},{\"attributes\":{\"fill_alpha\":{\"value\":0.1},\"fill_color\":{\"value\":\"#1f77b4\"},\"line_alpha\":{\"value\":0.1},\"line_color\":{\"value\":\"#1f77b4\"},\"size\":{\"units\":\"screen\",\"value\":10},\"x\":{\"field\":\"xVal\"},\"y\":{\"field\":\"yVal\"}},\"id\":\"4040cd2f-f4e2-4181-8f42-72a6d9acd752\",\"type\":\"Circle\"},{\"attributes\":{\"high\":0.0,\"low\":0.0,\"palette\":[\"#313695\",\"#4575b4\",\"#74add1\",\"#abd9e9\",\"#e0f3f8\",\"#ffffbf\",\"#fee090\",\"#fdae61\",\"#f46d43\",\"#d73027\",\"#a50026\"]},\"id\":\"59c66f14-6e9c-4f81-9869-55e84290efce\",\"type\":\"LinearColorMapper\"},{\"attributes\":{},\"id\":\"ae1ed836-2b86-4e87-9997-6479eee31e51\",\"type\":\"BasicTickFormatter\"},{\"attributes\":{\"dimension\":1,\"plot\":{\"id\":\"dadbad40-30da-4ce3-a00c-9b571031c2bd\",\"subtype\":\"Figure\",\"type\":\"Plot\"},\"ticker\":{\"id\":\"1ba514fe-a06e-46ab-99b2-e9ebf3a8e99e\",\"type\":\"BasicTicker\"}},\"id\":\"2229eb91-36f5-44e2-9ed0-6e4e9a739468\",\"type\":\"Grid\"},{\"attributes\":{\"formatter\":{\"id\":\"663ab1e4-f405-4030-994a-88dcc443792f\",\"type\":\"BasicTickFormatter\"},\"plot\":{\"id\":\"dadbad40-30da-4ce3-a00c-9b571031c2bd\",\"subtype\":\"Figure\",\"type\":\"Plot\"},\"ticker\":{\"id\":\"5e4e8c6d-9e2c-4c98-888d-52e7f85885f9\",\"type\":\"BasicTicker\"}},\"id\":\"7902c0b6-e6a6-46ba-a9ca-cdaab4c735a6\",\"type\":\"LinearAxis\"},{\"attributes\":{},\"id\":\"102554fd-1c0b-4e7d-990a-ebe89090f62f\",\"type\":\"Selection\"},{\"attributes\":{\"below\":[{\"id\":\"7902c0b6-e6a6-46ba-a9ca-cdaab4c735a6\",\"type\":\"LinearAxis\"},{\"id\":\"ce129a7d-7733-4beb-9769-57182737fa47\",\"type\":\"ColorBar\"}],\"left\":[{\"id\":\"6d0f0547-f975-4751-a1b4-df5bbb37ca60\",\"type\":\"LinearAxis\"}],\"plot_height\":300,\"plot_width\":700,\"renderers\":[{\"id\":\"7902c0b6-e6a6-46ba-a9ca-cdaab4c735a6\",\"type\":\"LinearAxis\"},{\"id\":\"0d6d4fce-7735-450f-a504-e306cbe362bb\",\"type\":\"Grid\"},{\"id\":\"6d0f0547-f975-4751-a1b4-df5bbb37ca60\",\"type\":\"LinearAxis\"},{\"id\":\"2229eb91-36f5-44e2-9ed0-6e4e9a739468\",\"type\":\"Grid\"},{\"id\":\"3b34bd6c-5b6e-4837-8751-5fc9f12c134a\",\"type\":\"BoxAnnotation\"},{\"id\":\"1de00fc2-0c38-4372-8ea1-aad5fbf257d7\",\"type\":\"GlyphRenderer\"},{\"id\":\"f0cb60b2-f98e-42b6-82ce-bee34cc92c40\",\"type\":\"GlyphRenderer\"},{\"id\":\"ce129a7d-7733-4beb-9769-57182737fa47\",\"type\":\"ColorBar\"}],\"title\":{\"id\":\"e0693a56-2ed2-4625-909b-817c958ce751\",\"type\":\"Title\"},\"toolbar\":{\"id\":\"1a85b9a9-bb20-4a7d-b904-ed1ca22d14b9\",\"type\":\"Toolbar\"},\"x_range\":{\"id\":\"6f07e90b-dd63-4e8e-8967-cca20457570b\",\"type\":\"Range1d\"},\"x_scale\":{\"id\":\"fd79231a-2fad-4023-a9be-aa8057f32f9d\",\"type\":\"LinearScale\"},\"y_range\":{\"id\":\"e4733512-f95d-4f6a-8a84-6ec93b046f4a\",\"type\":\"DataRange1d\"},\"y_scale\":{\"id\":\"1fd6c182-309e-48a5-a9cf-976561d3c7a1\",\"type\":\"LinearScale\"}},\"id\":\"dadbad40-30da-4ce3-a00c-9b571031c2bd\",\"subtype\":\"Figure\",\"type\":\"Plot\"},{\"attributes\":{\"bottom_units\":\"screen\",\"fill_alpha\":{\"value\":0.5},\"fill_color\":{\"value\":\"lightgrey\"},\"left_units\":\"screen\",\"level\":\"overlay\",\"line_alpha\":{\"value\":1.0},\"line_color\":{\"value\":\"black\"},\"line_dash\":[4,4],\"line_width\":{\"value\":2},\"plot\":null,\"render_mode\":\"css\",\"right_units\":\"screen\",\"top_units\":\"screen\"},\"id\":\"3b34bd6c-5b6e-4837-8751-5fc9f12c134a\",\"type\":\"BoxAnnotation\"},{\"attributes\":{},\"id\":\"60c0858a-7835-4b59-8c9e-062dc22576c9\",\"type\":\"UnionRenderers\"},{\"attributes\":{\"line_alpha\":0.1,\"line_color\":\"#1f77b4\",\"x\":{\"field\":\"xVal_s\"},\"y\":{\"field\":\"yVal_s\"}},\"id\":\"8ff4805d-dfce-42e9-a1d4-cd02703fb51d\",\"type\":\"Line\"},{\"attributes\":{},\"id\":\"58c80826-6797-4dff-951a-071f20713c51\",\"type\":\"ResetTool\"},{\"attributes\":{\"source\":{\"id\":\"3f0988bd-97fc-4f5b-88d7-e578242154c1\",\"type\":\"ColumnDataSource\"}},\"id\":\"692ceed0-67b4-410a-a4e9-96bf343f5805\",\"type\":\"CDSView\"},{\"attributes\":{},\"id\":\"23c14fa6-d04b-4dd7-96df-88f4f6c22543\",\"type\":\"BasicTicker\"}],\"root_ids\":[\"dadbad40-30da-4ce3-a00c-9b571031c2bd\"]},\"title\":\"Bokeh Application\",\"version\":\"0.13.0\"}};\n",
       "  var render_items = [{\"docid\":\"5f96a43d-8846-43ce-8b75-4d02bb605de3\",\"notebook_comms_target\":\"97915e2e-3c5f-4f3a-b059-c78261a3c017\",\"roots\":{\"dadbad40-30da-4ce3-a00c-9b571031c2bd\":\"5036a08a-c98e-407e-aab4-8653cc010207\"}}];\n",
       "  root.Bokeh.embed.embed_items_notebook(docs_json, render_items);\n",
       "\n",
       "  }\n",
       "  if (root.Bokeh !== undefined) {\n",
       "    embed_document(root);\n",
       "  } else {\n",
       "    var attempts = 0;\n",
       "    var timer = setInterval(function(root) {\n",
       "      if (root.Bokeh !== undefined) {\n",
       "        embed_document(root);\n",
       "        clearInterval(timer);\n",
       "      }\n",
       "      attempts++;\n",
       "      if (attempts > 100) {\n",
       "        console.log(\"Bokeh: ERROR: Unable to run BokehJS code because BokehJS library is missing\")\n",
       "        clearInterval(timer);\n",
       "      }\n",
       "    }, 10, root)\n",
       "  }\n",
       "})(window);"
      ],
      "application/vnd.bokehjs_exec.v0+json": ""
     },
     "metadata": {
      "application/vnd.bokehjs_exec.v0+json": {
       "id": "dadbad40-30da-4ce3-a00c-9b571031c2bd"
      }
     },
     "output_type": "display_data"
    }
   ],
   "source": [
    "show(wavefunc_t, notebook_handle = True);"
   ]
  },
  {
   "cell_type": "code",
   "execution_count": 131,
   "metadata": {},
   "outputs": [
    {
     "data": {
      "application/vnd.jupyter.widget-view+json": {
       "model_id": "5257de9ea7474368a18d8b6bc93c8445",
       "version_major": 2,
       "version_minor": 0
      },
      "text/plain": [
       "interactive(children=(FloatSlider(value=0.0, description='time', max=99.9, step=0.05), Output()), _dom_classes…"
      ]
     },
     "metadata": {},
     "output_type": "display_data"
    }
   ],
   "source": [
    "interact(update, time = ipw.FloatSlider(min = 0, max = (endt-2)*dt, step = dt, value = 0));"
   ]
  },
  {
   "cell_type": "code",
   "execution_count": null,
   "metadata": {},
   "outputs": [],
   "source": [
    "#This animation is not functioning due to the current incompatibility between bokeh and tornado, should be resolved in furture updates.\n",
    "\n",
    "# def auto_update():\n",
    "#     global time;\n",
    "#     source_tt.data['cVal'] = np.squeeze(phis[t])\n",
    "#     source_tt.data['yVal'] = interp1d(lattice,np.squeeze(rhos[t]), kind = 'cubic')\n",
    "#     source_tt.trigger('data', source_tt.data, source_tt.data)\n",
    "#     if time < endt.size - 1:\n",
    "#         time = time + 1\n",
    "#     else:\n",
    "#         time = 0\n",
    "#         source_tt.data['cVal'] = np.squeeze(phis[0])\n",
    "#         source_tt.data['yVal'] = interp1d(lattice,np.squeeze(rhos[0]), kind = 'cubic')"
   ]
  },
  {
   "cell_type": "code",
   "execution_count": null,
   "metadata": {
    "scrolled": false
   },
   "outputs": [],
   "source": [
    "#This animation is not functioning due to the current incompatibility between bokeh and tornado, should be resolved in furture updates.\n",
    "\n",
    "# session = push_session(curdoc())\n",
    "# time = 0; # set initial frame\n",
    "# source_tt = ColumnDataSource(data = {'xVal': lattx, 'yVal' : rhos[0], 'cVal': np.zeros(lattx.size)})\n",
    "# wavefunc_tt = figure(plot_height=300, plot_width=700, title=\"Evolution of electron wavefunction\",x_range=[-1.1*a*M,1.1*a*M]);\n",
    "\n",
    "# mapper = linear_cmap(field_name = 'cVal', palette = Spectral6, low = 0, high = 1);\n",
    "# wavefunc_tt.line(x = 'xVal', y = 'yVal', source = source_tt, line_color = 'red');\n",
    "# wavefunc_tt.circle('xPos','yPos',source = source4, size = 10, line_color = mapper, fill_color = mapper);\n",
    "\n",
    "# curdoc().add_periodic_callback(auto_update, 67)\n",
    "\n",
    "# session.show()\n",
    "# session.loop_until_closed()"
   ]
  },
  {
   "cell_type": "code",
   "execution_count": null,
   "metadata": {},
   "outputs": [],
   "source": []
  },
  {
   "cell_type": "code",
   "execution_count": null,
   "metadata": {},
   "outputs": [],
   "source": []
  }
 ],
 "metadata": {
  "kernelspec": {
   "display_name": "Python 3",
   "language": "python",
   "name": "python3"
  },
  "language_info": {
   "codemirror_mode": {
    "name": "ipython",
    "version": 3
   },
   "file_extension": ".py",
   "mimetype": "text/x-python",
   "name": "python",
   "nbconvert_exporter": "python",
   "pygments_lexer": "ipython3",
   "version": "3.6.8"
  }
 },
 "nbformat": 4,
 "nbformat_minor": 2
}
