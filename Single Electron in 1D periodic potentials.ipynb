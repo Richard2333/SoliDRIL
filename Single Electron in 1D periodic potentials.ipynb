{
 "cells": [
  {
   "cell_type": "code",
   "execution_count": 133,
   "metadata": {},
   "outputs": [
    {
     "data": {
      "text/html": [
       "\n",
       "    <div class=\"bk-root\">\n",
       "        <a href=\"https://bokeh.org\" target=\"_blank\" class=\"bk-logo bk-logo-small bk-logo-notebook\"></a>\n",
       "        <span id=\"17212\">Loading BokehJS ...</span>\n",
       "    </div>"
      ]
     },
     "metadata": {},
     "output_type": "display_data"
    },
    {
     "data": {
      "application/javascript": [
       "\n",
       "(function(root) {\n",
       "  function now() {\n",
       "    return new Date();\n",
       "  }\n",
       "\n",
       "  var force = true;\n",
       "\n",
       "  if (typeof root._bokeh_onload_callbacks === \"undefined\" || force === true) {\n",
       "    root._bokeh_onload_callbacks = [];\n",
       "    root._bokeh_is_loading = undefined;\n",
       "  }\n",
       "\n",
       "  var JS_MIME_TYPE = 'application/javascript';\n",
       "  var HTML_MIME_TYPE = 'text/html';\n",
       "  var EXEC_MIME_TYPE = 'application/vnd.bokehjs_exec.v0+json';\n",
       "  var CLASS_NAME = 'output_bokeh rendered_html';\n",
       "\n",
       "  /**\n",
       "   * Render data to the DOM node\n",
       "   */\n",
       "  function render(props, node) {\n",
       "    var script = document.createElement(\"script\");\n",
       "    node.appendChild(script);\n",
       "  }\n",
       "\n",
       "  /**\n",
       "   * Handle when an output is cleared or removed\n",
       "   */\n",
       "  function handleClearOutput(event, handle) {\n",
       "    var cell = handle.cell;\n",
       "\n",
       "    var id = cell.output_area._bokeh_element_id;\n",
       "    var server_id = cell.output_area._bokeh_server_id;\n",
       "    // Clean up Bokeh references\n",
       "    if (id != null && id in Bokeh.index) {\n",
       "      Bokeh.index[id].model.document.clear();\n",
       "      delete Bokeh.index[id];\n",
       "    }\n",
       "\n",
       "    if (server_id !== undefined) {\n",
       "      // Clean up Bokeh references\n",
       "      var cmd = \"from bokeh.io.state import curstate; print(curstate().uuid_to_server['\" + server_id + \"'].get_sessions()[0].document.roots[0]._id)\";\n",
       "      cell.notebook.kernel.execute(cmd, {\n",
       "        iopub: {\n",
       "          output: function(msg) {\n",
       "            var id = msg.content.text.trim();\n",
       "            if (id in Bokeh.index) {\n",
       "              Bokeh.index[id].model.document.clear();\n",
       "              delete Bokeh.index[id];\n",
       "            }\n",
       "          }\n",
       "        }\n",
       "      });\n",
       "      // Destroy server and session\n",
       "      var cmd = \"import bokeh.io.notebook as ion; ion.destroy_server('\" + server_id + \"')\";\n",
       "      cell.notebook.kernel.execute(cmd);\n",
       "    }\n",
       "  }\n",
       "\n",
       "  /**\n",
       "   * Handle when a new output is added\n",
       "   */\n",
       "  function handleAddOutput(event, handle) {\n",
       "    var output_area = handle.output_area;\n",
       "    var output = handle.output;\n",
       "\n",
       "    // limit handleAddOutput to display_data with EXEC_MIME_TYPE content only\n",
       "    if ((output.output_type != \"display_data\") || (!output.data.hasOwnProperty(EXEC_MIME_TYPE))) {\n",
       "      return\n",
       "    }\n",
       "\n",
       "    var toinsert = output_area.element.find(\".\" + CLASS_NAME.split(' ')[0]);\n",
       "\n",
       "    if (output.metadata[EXEC_MIME_TYPE][\"id\"] !== undefined) {\n",
       "      toinsert[toinsert.length - 1].firstChild.textContent = output.data[JS_MIME_TYPE];\n",
       "      // store reference to embed id on output_area\n",
       "      output_area._bokeh_element_id = output.metadata[EXEC_MIME_TYPE][\"id\"];\n",
       "    }\n",
       "    if (output.metadata[EXEC_MIME_TYPE][\"server_id\"] !== undefined) {\n",
       "      var bk_div = document.createElement(\"div\");\n",
       "      bk_div.innerHTML = output.data[HTML_MIME_TYPE];\n",
       "      var script_attrs = bk_div.children[0].attributes;\n",
       "      for (var i = 0; i < script_attrs.length; i++) {\n",
       "        toinsert[toinsert.length - 1].firstChild.setAttribute(script_attrs[i].name, script_attrs[i].value);\n",
       "      }\n",
       "      // store reference to server id on output_area\n",
       "      output_area._bokeh_server_id = output.metadata[EXEC_MIME_TYPE][\"server_id\"];\n",
       "    }\n",
       "  }\n",
       "\n",
       "  function register_renderer(events, OutputArea) {\n",
       "\n",
       "    function append_mime(data, metadata, element) {\n",
       "      // create a DOM node to render to\n",
       "      var toinsert = this.create_output_subarea(\n",
       "        metadata,\n",
       "        CLASS_NAME,\n",
       "        EXEC_MIME_TYPE\n",
       "      );\n",
       "      this.keyboard_manager.register_events(toinsert);\n",
       "      // Render to node\n",
       "      var props = {data: data, metadata: metadata[EXEC_MIME_TYPE]};\n",
       "      render(props, toinsert[toinsert.length - 1]);\n",
       "      element.append(toinsert);\n",
       "      return toinsert\n",
       "    }\n",
       "\n",
       "    /* Handle when an output is cleared or removed */\n",
       "    events.on('clear_output.CodeCell', handleClearOutput);\n",
       "    events.on('delete.Cell', handleClearOutput);\n",
       "\n",
       "    /* Handle when a new output is added */\n",
       "    events.on('output_added.OutputArea', handleAddOutput);\n",
       "\n",
       "    /**\n",
       "     * Register the mime type and append_mime function with output_area\n",
       "     */\n",
       "    OutputArea.prototype.register_mime_type(EXEC_MIME_TYPE, append_mime, {\n",
       "      /* Is output safe? */\n",
       "      safe: true,\n",
       "      /* Index of renderer in `output_area.display_order` */\n",
       "      index: 0\n",
       "    });\n",
       "  }\n",
       "\n",
       "  // register the mime type if in Jupyter Notebook environment and previously unregistered\n",
       "  if (root.Jupyter !== undefined) {\n",
       "    var events = require('base/js/events');\n",
       "    var OutputArea = require('notebook/js/outputarea').OutputArea;\n",
       "\n",
       "    if (OutputArea.prototype.mime_types().indexOf(EXEC_MIME_TYPE) == -1) {\n",
       "      register_renderer(events, OutputArea);\n",
       "    }\n",
       "  }\n",
       "\n",
       "  \n",
       "  if (typeof (root._bokeh_timeout) === \"undefined\" || force === true) {\n",
       "    root._bokeh_timeout = Date.now() + 5000;\n",
       "    root._bokeh_failed_load = false;\n",
       "  }\n",
       "\n",
       "  var NB_LOAD_WARNING = {'data': {'text/html':\n",
       "     \"<div style='background-color: #fdd'>\\n\"+\n",
       "     \"<p>\\n\"+\n",
       "     \"BokehJS does not appear to have successfully loaded. If loading BokehJS from CDN, this \\n\"+\n",
       "     \"may be due to a slow or bad network connection. Possible fixes:\\n\"+\n",
       "     \"</p>\\n\"+\n",
       "     \"<ul>\\n\"+\n",
       "     \"<li>re-rerun `output_notebook()` to attempt to load from CDN again, or</li>\\n\"+\n",
       "     \"<li>use INLINE resources instead, as so:</li>\\n\"+\n",
       "     \"</ul>\\n\"+\n",
       "     \"<code>\\n\"+\n",
       "     \"from bokeh.resources import INLINE\\n\"+\n",
       "     \"output_notebook(resources=INLINE)\\n\"+\n",
       "     \"</code>\\n\"+\n",
       "     \"</div>\"}};\n",
       "\n",
       "  function display_loaded() {\n",
       "    var el = document.getElementById(\"17212\");\n",
       "    if (el != null) {\n",
       "      el.textContent = \"BokehJS is loading...\";\n",
       "    }\n",
       "    if (root.Bokeh !== undefined) {\n",
       "      if (el != null) {\n",
       "        el.textContent = \"BokehJS \" + root.Bokeh.version + \" successfully loaded.\";\n",
       "      }\n",
       "    } else if (Date.now() < root._bokeh_timeout) {\n",
       "      setTimeout(display_loaded, 100)\n",
       "    }\n",
       "  }\n",
       "\n",
       "\n",
       "  function run_callbacks() {\n",
       "    try {\n",
       "      root._bokeh_onload_callbacks.forEach(function(callback) {\n",
       "        if (callback != null)\n",
       "          callback();\n",
       "      });\n",
       "    } finally {\n",
       "      delete root._bokeh_onload_callbacks\n",
       "    }\n",
       "    console.debug(\"Bokeh: all callbacks have finished\");\n",
       "  }\n",
       "\n",
       "  function load_libs(css_urls, js_urls, callback) {\n",
       "    if (css_urls == null) css_urls = [];\n",
       "    if (js_urls == null) js_urls = [];\n",
       "\n",
       "    root._bokeh_onload_callbacks.push(callback);\n",
       "    if (root._bokeh_is_loading > 0) {\n",
       "      console.debug(\"Bokeh: BokehJS is being loaded, scheduling callback at\", now());\n",
       "      return null;\n",
       "    }\n",
       "    if (js_urls == null || js_urls.length === 0) {\n",
       "      run_callbacks();\n",
       "      return null;\n",
       "    }\n",
       "    console.debug(\"Bokeh: BokehJS not loaded, scheduling load and callback at\", now());\n",
       "    root._bokeh_is_loading = css_urls.length + js_urls.length;\n",
       "\n",
       "    function on_load() {\n",
       "      root._bokeh_is_loading--;\n",
       "      if (root._bokeh_is_loading === 0) {\n",
       "        console.debug(\"Bokeh: all BokehJS libraries/stylesheets loaded\");\n",
       "        run_callbacks()\n",
       "      }\n",
       "    }\n",
       "\n",
       "    function on_error() {\n",
       "      console.error(\"failed to load \" + url);\n",
       "    }\n",
       "\n",
       "    for (var i = 0; i < css_urls.length; i++) {\n",
       "      var url = css_urls[i];\n",
       "      const element = document.createElement(\"link\");\n",
       "      element.onload = on_load;\n",
       "      element.onerror = on_error;\n",
       "      element.rel = \"stylesheet\";\n",
       "      element.type = \"text/css\";\n",
       "      element.href = url;\n",
       "      console.debug(\"Bokeh: injecting link tag for BokehJS stylesheet: \", url);\n",
       "      document.body.appendChild(element);\n",
       "    }\n",
       "\n",
       "    for (var i = 0; i < js_urls.length; i++) {\n",
       "      var url = js_urls[i];\n",
       "      var element = document.createElement('script');\n",
       "      element.onload = on_load;\n",
       "      element.onerror = on_error;\n",
       "      element.async = false;\n",
       "      element.src = url;\n",
       "      console.debug(\"Bokeh: injecting script tag for BokehJS library: \", url);\n",
       "      document.head.appendChild(element);\n",
       "    }\n",
       "  };var element = document.getElementById(\"17212\");\n",
       "  if (element == null) {\n",
       "    console.error(\"Bokeh: ERROR: autoload.js configured with elementid '17212' but no matching script tag was found. \")\n",
       "    return false;\n",
       "  }\n",
       "\n",
       "  function inject_raw_css(css) {\n",
       "    const element = document.createElement(\"style\");\n",
       "    element.appendChild(document.createTextNode(css));\n",
       "    document.body.appendChild(element);\n",
       "  }\n",
       "\n",
       "  \n",
       "  var js_urls = [\"https://cdn.pydata.org/bokeh/release/bokeh-1.4.0.min.js\", \"https://cdn.pydata.org/bokeh/release/bokeh-widgets-1.4.0.min.js\", \"https://cdn.pydata.org/bokeh/release/bokeh-tables-1.4.0.min.js\", \"https://cdn.pydata.org/bokeh/release/bokeh-gl-1.4.0.min.js\"];\n",
       "  var css_urls = [];\n",
       "  \n",
       "\n",
       "  var inline_js = [\n",
       "    function(Bokeh) {\n",
       "      Bokeh.set_log_level(\"info\");\n",
       "    },\n",
       "    function(Bokeh) {\n",
       "    \n",
       "    \n",
       "    }\n",
       "  ];\n",
       "\n",
       "  function run_inline_js() {\n",
       "    \n",
       "    if (root.Bokeh !== undefined || force === true) {\n",
       "      \n",
       "    for (var i = 0; i < inline_js.length; i++) {\n",
       "      inline_js[i].call(root, root.Bokeh);\n",
       "    }\n",
       "    if (force === true) {\n",
       "        display_loaded();\n",
       "      }} else if (Date.now() < root._bokeh_timeout) {\n",
       "      setTimeout(run_inline_js, 100);\n",
       "    } else if (!root._bokeh_failed_load) {\n",
       "      console.log(\"Bokeh: BokehJS failed to load within specified timeout.\");\n",
       "      root._bokeh_failed_load = true;\n",
       "    } else if (force !== true) {\n",
       "      var cell = $(document.getElementById(\"17212\")).parents('.cell').data().cell;\n",
       "      cell.output_area.append_execute_result(NB_LOAD_WARNING)\n",
       "    }\n",
       "\n",
       "  }\n",
       "\n",
       "  if (root._bokeh_is_loading === 0) {\n",
       "    console.debug(\"Bokeh: BokehJS loaded, going straight to plotting\");\n",
       "    run_inline_js();\n",
       "  } else {\n",
       "    load_libs(css_urls, js_urls, function() {\n",
       "      console.debug(\"Bokeh: BokehJS plotting callback run at\", now());\n",
       "      run_inline_js();\n",
       "    });\n",
       "  }\n",
       "}(window));"
      ],
      "application/vnd.bokehjs_load.v0+json": "\n(function(root) {\n  function now() {\n    return new Date();\n  }\n\n  var force = true;\n\n  if (typeof root._bokeh_onload_callbacks === \"undefined\" || force === true) {\n    root._bokeh_onload_callbacks = [];\n    root._bokeh_is_loading = undefined;\n  }\n\n  \n\n  \n  if (typeof (root._bokeh_timeout) === \"undefined\" || force === true) {\n    root._bokeh_timeout = Date.now() + 5000;\n    root._bokeh_failed_load = false;\n  }\n\n  var NB_LOAD_WARNING = {'data': {'text/html':\n     \"<div style='background-color: #fdd'>\\n\"+\n     \"<p>\\n\"+\n     \"BokehJS does not appear to have successfully loaded. If loading BokehJS from CDN, this \\n\"+\n     \"may be due to a slow or bad network connection. Possible fixes:\\n\"+\n     \"</p>\\n\"+\n     \"<ul>\\n\"+\n     \"<li>re-rerun `output_notebook()` to attempt to load from CDN again, or</li>\\n\"+\n     \"<li>use INLINE resources instead, as so:</li>\\n\"+\n     \"</ul>\\n\"+\n     \"<code>\\n\"+\n     \"from bokeh.resources import INLINE\\n\"+\n     \"output_notebook(resources=INLINE)\\n\"+\n     \"</code>\\n\"+\n     \"</div>\"}};\n\n  function display_loaded() {\n    var el = document.getElementById(\"17212\");\n    if (el != null) {\n      el.textContent = \"BokehJS is loading...\";\n    }\n    if (root.Bokeh !== undefined) {\n      if (el != null) {\n        el.textContent = \"BokehJS \" + root.Bokeh.version + \" successfully loaded.\";\n      }\n    } else if (Date.now() < root._bokeh_timeout) {\n      setTimeout(display_loaded, 100)\n    }\n  }\n\n\n  function run_callbacks() {\n    try {\n      root._bokeh_onload_callbacks.forEach(function(callback) {\n        if (callback != null)\n          callback();\n      });\n    } finally {\n      delete root._bokeh_onload_callbacks\n    }\n    console.debug(\"Bokeh: all callbacks have finished\");\n  }\n\n  function load_libs(css_urls, js_urls, callback) {\n    if (css_urls == null) css_urls = [];\n    if (js_urls == null) js_urls = [];\n\n    root._bokeh_onload_callbacks.push(callback);\n    if (root._bokeh_is_loading > 0) {\n      console.debug(\"Bokeh: BokehJS is being loaded, scheduling callback at\", now());\n      return null;\n    }\n    if (js_urls == null || js_urls.length === 0) {\n      run_callbacks();\n      return null;\n    }\n    console.debug(\"Bokeh: BokehJS not loaded, scheduling load and callback at\", now());\n    root._bokeh_is_loading = css_urls.length + js_urls.length;\n\n    function on_load() {\n      root._bokeh_is_loading--;\n      if (root._bokeh_is_loading === 0) {\n        console.debug(\"Bokeh: all BokehJS libraries/stylesheets loaded\");\n        run_callbacks()\n      }\n    }\n\n    function on_error() {\n      console.error(\"failed to load \" + url);\n    }\n\n    for (var i = 0; i < css_urls.length; i++) {\n      var url = css_urls[i];\n      const element = document.createElement(\"link\");\n      element.onload = on_load;\n      element.onerror = on_error;\n      element.rel = \"stylesheet\";\n      element.type = \"text/css\";\n      element.href = url;\n      console.debug(\"Bokeh: injecting link tag for BokehJS stylesheet: \", url);\n      document.body.appendChild(element);\n    }\n\n    for (var i = 0; i < js_urls.length; i++) {\n      var url = js_urls[i];\n      var element = document.createElement('script');\n      element.onload = on_load;\n      element.onerror = on_error;\n      element.async = false;\n      element.src = url;\n      console.debug(\"Bokeh: injecting script tag for BokehJS library: \", url);\n      document.head.appendChild(element);\n    }\n  };var element = document.getElementById(\"17212\");\n  if (element == null) {\n    console.error(\"Bokeh: ERROR: autoload.js configured with elementid '17212' but no matching script tag was found. \")\n    return false;\n  }\n\n  function inject_raw_css(css) {\n    const element = document.createElement(\"style\");\n    element.appendChild(document.createTextNode(css));\n    document.body.appendChild(element);\n  }\n\n  \n  var js_urls = [\"https://cdn.pydata.org/bokeh/release/bokeh-1.4.0.min.js\", \"https://cdn.pydata.org/bokeh/release/bokeh-widgets-1.4.0.min.js\", \"https://cdn.pydata.org/bokeh/release/bokeh-tables-1.4.0.min.js\", \"https://cdn.pydata.org/bokeh/release/bokeh-gl-1.4.0.min.js\"];\n  var css_urls = [];\n  \n\n  var inline_js = [\n    function(Bokeh) {\n      Bokeh.set_log_level(\"info\");\n    },\n    function(Bokeh) {\n    \n    \n    }\n  ];\n\n  function run_inline_js() {\n    \n    if (root.Bokeh !== undefined || force === true) {\n      \n    for (var i = 0; i < inline_js.length; i++) {\n      inline_js[i].call(root, root.Bokeh);\n    }\n    if (force === true) {\n        display_loaded();\n      }} else if (Date.now() < root._bokeh_timeout) {\n      setTimeout(run_inline_js, 100);\n    } else if (!root._bokeh_failed_load) {\n      console.log(\"Bokeh: BokehJS failed to load within specified timeout.\");\n      root._bokeh_failed_load = true;\n    } else if (force !== true) {\n      var cell = $(document.getElementById(\"17212\")).parents('.cell').data().cell;\n      cell.output_area.append_execute_result(NB_LOAD_WARNING)\n    }\n\n  }\n\n  if (root._bokeh_is_loading === 0) {\n    console.debug(\"Bokeh: BokehJS loaded, going straight to plotting\");\n    run_inline_js();\n  } else {\n    load_libs(css_urls, js_urls, function() {\n      console.debug(\"Bokeh: BokehJS plotting callback run at\", now());\n      run_inline_js();\n    });\n  }\n}(window));"
     },
     "metadata": {},
     "output_type": "display_data"
    }
   ],
   "source": [
    "import numpy as np\n",
    "import pandas as pd\n",
    "import ipywidgets as ipw\n",
    "\n",
    "from scipy.interpolate import interp1d\n",
    "from bokeh.palettes import RdYlBu11\n",
    "from bokeh.transform import linear_cmap\n",
    "from bokeh.io import push_notebook, output_notebook, show\n",
    "from bokeh.layouts import row, column\n",
    "from bokeh.plotting import figure, curdoc\n",
    "from bokeh.models import ColumnDataSource, ColorBar, BasicTickFormatter, BasicTicker, FixedTicker, FuncTickFormatter\n",
    "from bokeh.client import push_session\n",
    "\n",
    "from ipywidgets import interact\n",
    "\n",
    "import matplotlib.pyplot as plt\n",
    "import matplotlib.animation as anim\n",
    "output_notebook()"
   ]
  },
  {
   "cell_type": "code",
   "execution_count": 152,
   "metadata": {},
   "outputs": [
    {
     "data": {
      "text/html": [
       "\n",
       "\n",
       "\n",
       "\n",
       "\n",
       "\n",
       "  <div class=\"bk-root\" id=\"81871033-93c3-48e2-881b-d4a2f2aa632f\" data-root-id=\"22022\"></div>\n"
      ]
     },
     "metadata": {},
     "output_type": "display_data"
    },
    {
     "data": {
      "application/javascript": [
       "(function(root) {\n",
       "  function embed_document(root) {\n",
       "    \n",
       "  var docs_json = {\"b383fedf-52fe-4514-9412-0a294e632831\":{\"roots\":{\"references\":[{\"attributes\":{\"below\":[{\"id\":\"22033\",\"type\":\"LinearAxis\"}],\"center\":[{\"id\":\"22037\",\"type\":\"Grid\"},{\"id\":\"22042\",\"type\":\"Grid\"}],\"left\":[{\"id\":\"22038\",\"type\":\"LinearAxis\"}],\"plot_height\":100,\"plot_width\":700,\"renderers\":[{\"id\":\"22060\",\"type\":\"GlyphRenderer\"}],\"title\":{\"id\":\"22023\",\"type\":\"Title\"},\"toolbar\":{\"id\":\"22049\",\"type\":\"Toolbar\"},\"x_range\":{\"id\":\"22025\",\"type\":\"Range1d\"},\"x_scale\":{\"id\":\"22029\",\"type\":\"LinearScale\"},\"y_range\":{\"id\":\"22027\",\"type\":\"DataRange1d\"},\"y_scale\":{\"id\":\"22031\",\"type\":\"LinearScale\"}},\"id\":\"22022\",\"subtype\":\"Figure\",\"type\":\"Plot\"},{\"attributes\":{\"fill_alpha\":{\"value\":0.1},\"fill_color\":{\"value\":\"#1f77b4\"},\"line_alpha\":{\"value\":0.1},\"line_color\":{\"value\":\"#1f77b4\"},\"size\":{\"units\":\"screen\",\"value\":10},\"x\":{\"field\":\"xVal\"},\"y\":{\"field\":\"yVal\"}},\"id\":\"22059\",\"type\":\"Circle\"},{\"attributes\":{},\"id\":\"22048\",\"type\":\"HelpTool\"},{\"attributes\":{},\"id\":\"22046\",\"type\":\"SaveTool\"},{\"attributes\":{\"formatter\":{\"id\":\"22540\",\"type\":\"BasicTickFormatter\"},\"ticker\":{\"id\":\"22039\",\"type\":\"BasicTicker\"}},\"id\":\"22038\",\"type\":\"LinearAxis\"},{\"attributes\":{\"callback\":null},\"id\":\"22027\",\"type\":\"DataRange1d\"},{\"attributes\":{},\"id\":\"22044\",\"type\":\"WheelZoomTool\"},{\"attributes\":{\"data_source\":{\"id\":\"22056\",\"type\":\"ColumnDataSource\"},\"glyph\":{\"id\":\"22058\",\"type\":\"Circle\"},\"hover_glyph\":null,\"muted_glyph\":null,\"nonselection_glyph\":{\"id\":\"22059\",\"type\":\"Circle\"},\"selection_glyph\":null,\"view\":{\"id\":\"22061\",\"type\":\"CDSView\"}},\"id\":\"22060\",\"type\":\"GlyphRenderer\"},{\"attributes\":{},\"id\":\"22029\",\"type\":\"LinearScale\"},{\"attributes\":{},\"id\":\"22034\",\"type\":\"BasicTicker\"},{\"attributes\":{\"ticker\":{\"id\":\"22034\",\"type\":\"BasicTicker\"}},\"id\":\"22037\",\"type\":\"Grid\"},{\"attributes\":{},\"id\":\"22047\",\"type\":\"ResetTool\"},{\"attributes\":{\"callback\":null,\"data\":{\"xVal\":{\"__ndarray__\":\"AAAAAAAAOcAAAAAAAAA4wAAAAAAAADfAAAAAAAAANsAAAAAAAAA1wAAAAAAAADTAAAAAAAAAM8AAAAAAAAAywAAAAAAAADHAAAAAAAAAMMAAAAAAAAAuwAAAAAAAACzAAAAAAAAAKsAAAAAAAAAowAAAAAAAACbAAAAAAAAAJMAAAAAAAAAiwAAAAAAAACDAAAAAAAAAHMAAAAAAAAAYwAAAAAAAABTAAAAAAAAAEMAAAAAAAAAIwAAAAAAAAADAAAAAAAAA8L8AAAAAAAAAAAAAAAAAAPA/AAAAAAAAAEAAAAAAAAAIQAAAAAAAABBAAAAAAAAAFEAAAAAAAAAYQAAAAAAAABxAAAAAAAAAIEAAAAAAAAAiQAAAAAAAACRAAAAAAAAAJkAAAAAAAAAoQAAAAAAAACpAAAAAAAAALEAAAAAAAAAuQAAAAAAAADBAAAAAAAAAMUAAAAAAAAAyQAAAAAAAADNAAAAAAAAANEAAAAAAAAA1QAAAAAAAADZAAAAAAAAAN0AAAAAAAAA4QAAAAAAAADlA\",\"dtype\":\"float64\",\"shape\":[51]},\"yVal\":{\"__ndarray__\":\"AAAAAAAAAAAAAAAAAAAAAAAAAAAAAAAAAAAAAAAAAAAAAAAAAAAAAAAAAAAAAAAAAAAAAAAAAAAAAAAAAAAAAAAAAAAAAAAAAAAAAAAAAAAAAAAAAAAAAAAAAAAAAAAAAAAAAAAAAAAAAAAAAAAAAAAAAAAAAAAAAAAAAAAAAAAAAAAAAAAAAAAAAAAAAAAAAAAAAAAAAAAAAAAAAAAAAAAAAAAAAAAAAAAAAAAAAAAAAAAAAAAAAAAAAAAAAAAAAAAAAAAAAAAAAAAAAAAAAAAAAAAAAAAAAAAAAAAAAAAAAAAAAAAAAAAAAAAAAAAAAAAAAAAAAAAAAAAAAAAAAAAAAAAAAAAAAAAAAAAAAAAAAAAAAAAAAAAAAAAAAAAAAAAAAAAAAAAAAAAAAAAAAAAAAAAAAAAAAAAAAAAAAAAAAAAAAAAAAAAAAAAAAAAAAAAAAAAAAAAAAAAAAAAAAAAAAAAAAAAAAAAAAAAAAAAAAAAAAAAAAAAAAAAAAAAAAAAAAAAAAAAAAAAAAAAAAAAAAAAAAAAA\",\"dtype\":\"float64\",\"shape\":[51]}},\"selected\":{\"id\":\"22543\",\"type\":\"Selection\"},\"selection_policy\":{\"id\":\"22544\",\"type\":\"UnionRenderers\"}},\"id\":\"22056\",\"type\":\"ColumnDataSource\"},{\"attributes\":{},\"id\":\"22043\",\"type\":\"PanTool\"},{\"attributes\":{\"overlay\":{\"id\":\"22545\",\"type\":\"BoxAnnotation\"}},\"id\":\"22045\",\"type\":\"BoxZoomTool\"},{\"attributes\":{},\"id\":\"22543\",\"type\":\"Selection\"},{\"attributes\":{},\"id\":\"22544\",\"type\":\"UnionRenderers\"},{\"attributes\":{},\"id\":\"22540\",\"type\":\"BasicTickFormatter\"},{\"attributes\":{},\"id\":\"22542\",\"type\":\"BasicTickFormatter\"},{\"attributes\":{\"axis_label\":\"Real space distance (arb. unit)\",\"formatter\":{\"id\":\"22542\",\"type\":\"BasicTickFormatter\"},\"ticker\":{\"id\":\"22034\",\"type\":\"BasicTicker\"}},\"id\":\"22033\",\"type\":\"LinearAxis\"},{\"attributes\":{\"active_drag\":\"auto\",\"active_inspect\":\"auto\",\"active_multi\":null,\"active_scroll\":\"auto\",\"active_tap\":\"auto\",\"tools\":[{\"id\":\"22043\",\"type\":\"PanTool\"},{\"id\":\"22044\",\"type\":\"WheelZoomTool\"},{\"id\":\"22045\",\"type\":\"BoxZoomTool\"},{\"id\":\"22046\",\"type\":\"SaveTool\"},{\"id\":\"22047\",\"type\":\"ResetTool\"},{\"id\":\"22048\",\"type\":\"HelpTool\"}]},\"id\":\"22049\",\"type\":\"Toolbar\"},{\"attributes\":{\"text\":\"1D atomic chain\"},\"id\":\"22023\",\"type\":\"Title\"},{\"attributes\":{\"bottom_units\":\"screen\",\"fill_alpha\":{\"value\":0.5},\"fill_color\":{\"value\":\"lightgrey\"},\"left_units\":\"screen\",\"level\":\"overlay\",\"line_alpha\":{\"value\":1.0},\"line_color\":{\"value\":\"black\"},\"line_dash\":[4,4],\"line_width\":{\"value\":2},\"render_mode\":\"css\",\"right_units\":\"screen\",\"top_units\":\"screen\"},\"id\":\"22545\",\"type\":\"BoxAnnotation\"},{\"attributes\":{},\"id\":\"22031\",\"type\":\"LinearScale\"},{\"attributes\":{\"callback\":null,\"end\":27.500000000000004,\"start\":-27.500000000000004},\"id\":\"22025\",\"type\":\"Range1d\"},{\"attributes\":{},\"id\":\"22039\",\"type\":\"BasicTicker\"},{\"attributes\":{\"source\":{\"id\":\"22056\",\"type\":\"ColumnDataSource\"}},\"id\":\"22061\",\"type\":\"CDSView\"},{\"attributes\":{\"fill_color\":{\"value\":\"black\"},\"size\":{\"units\":\"screen\",\"value\":10},\"x\":{\"field\":\"xVal\"},\"y\":{\"field\":\"yVal\"}},\"id\":\"22058\",\"type\":\"Circle\"},{\"attributes\":{\"dimension\":1,\"ticker\":{\"id\":\"22039\",\"type\":\"BasicTicker\"}},\"id\":\"22042\",\"type\":\"Grid\"}],\"root_ids\":[\"22022\"]},\"title\":\"Bokeh Application\",\"version\":\"1.4.0\"}};\n",
       "  var render_items = [{\"docid\":\"b383fedf-52fe-4514-9412-0a294e632831\",\"roots\":{\"22022\":\"81871033-93c3-48e2-881b-d4a2f2aa632f\"}}];\n",
       "  root.Bokeh.embed.embed_items_notebook(docs_json, render_items);\n",
       "\n",
       "  }\n",
       "  if (root.Bokeh !== undefined) {\n",
       "    embed_document(root);\n",
       "  } else {\n",
       "    var attempts = 0;\n",
       "    var timer = setInterval(function(root) {\n",
       "      if (root.Bokeh !== undefined) {\n",
       "        clearInterval(timer);\n",
       "        embed_document(root);\n",
       "      } else {\n",
       "        attempts++;\n",
       "        if (attempts > 100) {\n",
       "          clearInterval(timer);\n",
       "          console.log(\"Bokeh: ERROR: Unable to run BokehJS code because BokehJS library is missing\");\n",
       "        }\n",
       "      }\n",
       "    }, 10, root)\n",
       "  }\n",
       "})(window);"
      ],
      "application/vnd.bokehjs_exec.v0+json": ""
     },
     "metadata": {
      "application/vnd.bokehjs_exec.v0+json": {
       "id": "22022"
      }
     },
     "output_type": "display_data"
    }
   ],
   "source": [
    "N = 50; # Number of atomic sites\n",
    "M = int((N)/2); # Number of atomic sites on each side of the origin\n",
    "a = 1.0 # Real space distance between each site\n",
    "lattx = np.arange(-a*M,a*M+1,a); # '+1' because np.arange doesn't include the endpoint\n",
    "latty = np.zeros(lattx.size);\n",
    "lattice = figure(plot_height=100, plot_width=700, title=\"1D atomic chain\",x_range=[-1.1*a*M,1.1*a*M]);\n",
    "source1 = ColumnDataSource(data = {'xVal': lattx, 'yVal': latty});\n",
    "lattice.circle('xVal','yVal',source = source1, size = 10, line_color = 'black', fill_color = 'black');\n",
    "lattice.xaxis.axis_label = 'Real space distance (arb. unit)';\n",
    "show(lattice)"
   ]
  },
  {
   "cell_type": "code",
   "execution_count": 156,
   "metadata": {},
   "outputs": [],
   "source": [
    "k0 = 2*np.pi/(N*a);\n",
    "k = np.linspace(-M*k0,(M-1)*k0);\n",
    "energy = -2*np.cos(k);"
   ]
  },
  {
   "cell_type": "code",
   "execution_count": 145,
   "metadata": {},
   "outputs": [
    {
     "data": {
      "text/html": [
       "\n",
       "\n",
       "\n",
       "\n",
       "\n",
       "\n",
       "  <div class=\"bk-root\" id=\"d6e33455-15b3-4e71-8543-ac30f7fc0eff\" data-root-id=\"20882\"></div>\n"
      ]
     },
     "metadata": {},
     "output_type": "display_data"
    },
    {
     "data": {
      "application/javascript": [
       "(function(root) {\n",
       "  function embed_document(root) {\n",
       "    \n",
       "  var docs_json = {\"99ef0bc7-8cd5-4d2b-8fa7-f26b30a067f1\":{\"roots\":{\"references\":[{\"attributes\":{\"below\":[{\"id\":\"20893\",\"type\":\"LinearAxis\"}],\"center\":[{\"id\":\"20897\",\"type\":\"Grid\"},{\"id\":\"20902\",\"type\":\"Grid\"}],\"left\":[{\"id\":\"20898\",\"type\":\"LinearAxis\"}],\"plot_height\":400,\"plot_width\":700,\"renderers\":[{\"id\":\"20920\",\"type\":\"GlyphRenderer\"},{\"id\":\"20925\",\"type\":\"GlyphRenderer\"}],\"title\":{\"id\":\"20883\",\"type\":\"Title\"},\"toolbar\":{\"id\":\"20909\",\"type\":\"Toolbar\"},\"x_range\":{\"id\":\"20885\",\"type\":\"Range1d\"},\"x_scale\":{\"id\":\"20889\",\"type\":\"LinearScale\"},\"y_range\":{\"id\":\"20887\",\"type\":\"Range1d\"},\"y_scale\":{\"id\":\"20891\",\"type\":\"LinearScale\"}},\"id\":\"20882\",\"subtype\":\"Figure\",\"type\":\"Plot\"},{\"attributes\":{\"text\":\"Energy band in reciprocal space\"},\"id\":\"20883\",\"type\":\"Title\"},{\"attributes\":{},\"id\":\"20908\",\"type\":\"HelpTool\"},{\"attributes\":{\"callback\":null,\"end\":1.1000000000000003,\"start\":-1.1000000000000003},\"id\":\"20885\",\"type\":\"Range1d\"},{\"attributes\":{\"callback\":null,\"end\":2.4,\"start\":-2.4},\"id\":\"20887\",\"type\":\"Range1d\"},{\"attributes\":{\"fill_alpha\":{\"value\":0.1},\"fill_color\":{\"value\":\"#1f77b4\"},\"line_alpha\":{\"value\":0.1},\"line_color\":{\"value\":\"#1f77b4\"},\"size\":{\"units\":\"screen\",\"value\":6},\"x\":{\"field\":\"xVal\"},\"y\":{\"field\":\"yVal\"}},\"id\":\"20919\",\"type\":\"Circle\"},{\"attributes\":{},\"id\":\"20889\",\"type\":\"LinearScale\"},{\"attributes\":{\"data_source\":{\"id\":\"20916\",\"type\":\"ColumnDataSource\"},\"glyph\":{\"id\":\"20918\",\"type\":\"Circle\"},\"hover_glyph\":null,\"muted_glyph\":null,\"nonselection_glyph\":{\"id\":\"20919\",\"type\":\"Circle\"},\"selection_glyph\":null,\"view\":{\"id\":\"20921\",\"type\":\"CDSView\"}},\"id\":\"20920\",\"type\":\"GlyphRenderer\"},{\"attributes\":{},\"id\":\"20891\",\"type\":\"LinearScale\"},{\"attributes\":{\"source\":{\"id\":\"20916\",\"type\":\"ColumnDataSource\"}},\"id\":\"20921\",\"type\":\"CDSView\"},{\"attributes\":{\"axis_label\":\"k-vector ( \\u03c0 )\",\"formatter\":{\"id\":\"21389\",\"type\":\"BasicTickFormatter\"},\"ticker\":{\"id\":\"20894\",\"type\":\"BasicTicker\"}},\"id\":\"20893\",\"type\":\"LinearAxis\"},{\"attributes\":{\"callback\":null,\"data\":{\"xVal\":{\"__ndarray__\":\"AQAAAAAA8L+5HoXrUbjuv3I9CtejcO2/KlyPwvUo7L/iehSuR+Hqv5uZmZmZmem/U7gehetR6L8M16NwPQrnv8T1KFyPwuW/exSuR+F65L80MzMzMzPjv+xRuB6F6+G/pXA9Ctej4L+6HoXrUbjevypcj8L1KNy/m5mZmZmZ2b8M16NwPQrXv3sUrkfhetS/7lG4HoXr0b+6HoXrUbjOv5+ZmZmZmcm/fhSuR+F6xL+6HoXrUbi+v4MUrkfherS/gxSuR+F6pL8AAAAAAAAAAG8UrkfheqQ/eRSuR+F6tD+6HoXrUbi+P3kUrkfhesQ/mpmZmZmZyT+1HoXrUbjOP+tRuB6F69E/exSuR+F61D8M16NwPQrXP5eZmZmZmdk/J1yPwvUo3D+4HoXrUbjeP6RwPQrXo+A/7FG4HoXr4T8yMzMzMzPjP3oUrkfheuQ/wvUoXI/C5T8K16NwPQrnP1O4HoXrUeg/m5mZmZmZ6T/hehSuR+HqPylcj8L1KOw/cT0K16Nw7T+5HoXrUbjuPw==\",\"dtype\":\"float64\",\"shape\":[50]},\"yVal\":{\"__ndarray__\":\"AAAAAAAAAEAD2YBUZ7//P+EeEB2i/v4/5VrvnbrA/T9ZwIFOtAr8P6r0l5t34/k/F7jSA7ZT9z+/AbX+xmX0P1MrGDx+JfE/nYElyfc/6z9W6S8378bjP4B6A2Uc/Nc/i5PgGwoTwD9kk+AbChPAv3V6A2Uc/Ne/TekvN+/G47+YgSXJ9z/rv1ArGDx+JfG/uQG1/sZl9L8VuNIDtlP3v6b0l5t34/m/WMCBTrQK/L/kWu+dusD9v+AeEB2i/v6/AtmAVGe//78AAAAAAAAAwAPZgFRnv/+/4R4QHaL+/r/kWu+dusD9v1rAgU60Cvy/qPSXm3fj+b8YuNIDtlP3v70Btf7GZfS/UCsYPH4l8b+YgSXJ9z/rv1jpLzfvxuO/hHoDZRz817+Ek+AbChPAv3uT4BsKE8A/gHoDZRz81z9H6S8378bjP5aBJcn3P+s/TysYPH4l8T+8AbX+xmX0Pxe40gO2U/c/qvSXm3fj+T9XwIFOtAr8P+Ra7526wP0/4B4QHaL+/j8D2YBUZ7//Pw==\",\"dtype\":\"float64\",\"shape\":[50]}},\"selected\":{\"id\":\"21390\",\"type\":\"Selection\"},\"selection_policy\":{\"id\":\"21391\",\"type\":\"UnionRenderers\"}},\"id\":\"20916\",\"type\":\"ColumnDataSource\"},{\"attributes\":{\"line_color\":\"#1f77b4\",\"x\":{\"field\":\"xVal\"},\"y\":{\"field\":\"yVal\"}},\"id\":\"20923\",\"type\":\"Line\"},{\"attributes\":{},\"id\":\"20894\",\"type\":\"BasicTicker\"},{\"attributes\":{\"ticker\":{\"id\":\"20894\",\"type\":\"BasicTicker\"}},\"id\":\"20897\",\"type\":\"Grid\"},{\"attributes\":{\"line_alpha\":0.1,\"line_color\":\"#1f77b4\",\"x\":{\"field\":\"xVal\"},\"y\":{\"field\":\"yVal\"}},\"id\":\"20924\",\"type\":\"Line\"},{\"attributes\":{\"axis_label\":\"Energy (arb. Unit)\",\"formatter\":{\"id\":\"21387\",\"type\":\"BasicTickFormatter\"},\"ticker\":{\"id\":\"20899\",\"type\":\"BasicTicker\"}},\"id\":\"20898\",\"type\":\"LinearAxis\"},{\"attributes\":{\"data_source\":{\"id\":\"20916\",\"type\":\"ColumnDataSource\"},\"glyph\":{\"id\":\"20923\",\"type\":\"Line\"},\"hover_glyph\":null,\"muted_glyph\":null,\"nonselection_glyph\":{\"id\":\"20924\",\"type\":\"Line\"},\"selection_glyph\":null,\"view\":{\"id\":\"20926\",\"type\":\"CDSView\"}},\"id\":\"20925\",\"type\":\"GlyphRenderer\"},{\"attributes\":{},\"id\":\"20899\",\"type\":\"BasicTicker\"},{\"attributes\":{\"source\":{\"id\":\"20916\",\"type\":\"ColumnDataSource\"}},\"id\":\"20926\",\"type\":\"CDSView\"},{\"attributes\":{\"bottom_units\":\"screen\",\"fill_alpha\":{\"value\":0.5},\"fill_color\":{\"value\":\"lightgrey\"},\"left_units\":\"screen\",\"level\":\"overlay\",\"line_alpha\":{\"value\":1.0},\"line_color\":{\"value\":\"black\"},\"line_dash\":[4,4],\"line_width\":{\"value\":2},\"render_mode\":\"css\",\"right_units\":\"screen\",\"top_units\":\"screen\"},\"id\":\"21392\",\"type\":\"BoxAnnotation\"},{\"attributes\":{\"dimension\":1,\"ticker\":{\"id\":\"20899\",\"type\":\"BasicTicker\"}},\"id\":\"20902\",\"type\":\"Grid\"},{\"attributes\":{\"fill_color\":{\"value\":\"#1f77b4\"},\"line_color\":{\"value\":\"#1f77b4\"},\"size\":{\"units\":\"screen\",\"value\":6},\"x\":{\"field\":\"xVal\"},\"y\":{\"field\":\"yVal\"}},\"id\":\"20918\",\"type\":\"Circle\"},{\"attributes\":{},\"id\":\"21389\",\"type\":\"BasicTickFormatter\"},{\"attributes\":{},\"id\":\"21390\",\"type\":\"Selection\"},{\"attributes\":{\"active_drag\":\"auto\",\"active_inspect\":\"auto\",\"active_multi\":null,\"active_scroll\":\"auto\",\"active_tap\":\"auto\",\"tools\":[{\"id\":\"20903\",\"type\":\"PanTool\"},{\"id\":\"20904\",\"type\":\"WheelZoomTool\"},{\"id\":\"20905\",\"type\":\"BoxZoomTool\"},{\"id\":\"20906\",\"type\":\"SaveTool\"},{\"id\":\"20907\",\"type\":\"ResetTool\"},{\"id\":\"20908\",\"type\":\"HelpTool\"}]},\"id\":\"20909\",\"type\":\"Toolbar\"},{\"attributes\":{},\"id\":\"21391\",\"type\":\"UnionRenderers\"},{\"attributes\":{},\"id\":\"20903\",\"type\":\"PanTool\"},{\"attributes\":{},\"id\":\"20904\",\"type\":\"WheelZoomTool\"},{\"attributes\":{\"overlay\":{\"id\":\"21392\",\"type\":\"BoxAnnotation\"}},\"id\":\"20905\",\"type\":\"BoxZoomTool\"},{\"attributes\":{},\"id\":\"20906\",\"type\":\"SaveTool\"},{\"attributes\":{},\"id\":\"21387\",\"type\":\"BasicTickFormatter\"},{\"attributes\":{},\"id\":\"20907\",\"type\":\"ResetTool\"}],\"root_ids\":[\"20882\"]},\"title\":\"Bokeh Application\",\"version\":\"1.4.0\"}};\n",
       "  var render_items = [{\"docid\":\"99ef0bc7-8cd5-4d2b-8fa7-f26b30a067f1\",\"roots\":{\"20882\":\"d6e33455-15b3-4e71-8543-ac30f7fc0eff\"}}];\n",
       "  root.Bokeh.embed.embed_items_notebook(docs_json, render_items);\n",
       "\n",
       "  }\n",
       "  if (root.Bokeh !== undefined) {\n",
       "    embed_document(root);\n",
       "  } else {\n",
       "    var attempts = 0;\n",
       "    var timer = setInterval(function(root) {\n",
       "      if (root.Bokeh !== undefined) {\n",
       "        clearInterval(timer);\n",
       "        embed_document(root);\n",
       "      } else {\n",
       "        attempts++;\n",
       "        if (attempts > 100) {\n",
       "          clearInterval(timer);\n",
       "          console.log(\"Bokeh: ERROR: Unable to run BokehJS code because BokehJS library is missing\");\n",
       "        }\n",
       "      }\n",
       "    }, 10, root)\n",
       "  }\n",
       "})(window);"
      ],
      "application/vnd.bokehjs_exec.v0+json": ""
     },
     "metadata": {
      "application/vnd.bokehjs_exec.v0+json": {
       "id": "20882"
      }
     },
     "output_type": "display_data"
    }
   ],
   "source": [
    "# Calcualte resulting dispersion relation using periodic boundary condition (PC)\n",
    "band = figure(plot_height = 400, plot_width = 700, title='Energy band in reciprocal space', x_range = [-1.1*k0*M/np.pi,1.1*k0*M/np.pi], y_range= [1.2*energy.min(),1.2*energy.max()]);\n",
    "source2 = ColumnDataSource(data = {'xVal': k/np.pi, 'yVal' : energy});\n",
    "band.circle('xVal','yVal',source = source2,size = 6);\n",
    "band.line('xVal','yVal',source = source2);\n",
    "band.xaxis.axis_label='k-vector ( \\u03c0 )';\n",
    "band.yaxis.axis_label='Energy (arb. Unit)';\n",
    "show(band)"
   ]
  },
  {
   "cell_type": "code",
   "execution_count": 157,
   "metadata": {},
   "outputs": [],
   "source": [
    "# define the initial wavefunction (with an artificial Gaussian dist. in k-space)\n",
    "sigm = k0;\n",
    "kk0 = 0;\n",
    "kk = np.linspace(-M*k0,(M-1)*k0, 200);\n",
    "phi_k0 = 1/(np.sqrt(2*np.pi)*sigm)*np.exp(-1/2*( (kk-kk0)/sigm )**2);"
   ]
  },
  {
   "cell_type": "code",
   "execution_count": 158,
   "metadata": {},
   "outputs": [
    {
     "data": {
      "text/html": [
       "\n",
       "\n",
       "\n",
       "\n",
       "\n",
       "\n",
       "  <div class=\"bk-root\" id=\"eedbfaa9-1fe5-4a62-93c4-ed1792bd52aa\" data-root-id=\"22594\"></div>\n"
      ]
     },
     "metadata": {},
     "output_type": "display_data"
    },
    {
     "data": {
      "application/javascript": [
       "(function(root) {\n",
       "  function embed_document(root) {\n",
       "    \n",
       "  var docs_json = {\"694979c0-fbf1-4669-b2cb-11f4877e702f\":{\"roots\":{\"references\":[{\"attributes\":{\"below\":[{\"id\":\"22605\",\"type\":\"LinearAxis\"}],\"center\":[{\"id\":\"22609\",\"type\":\"Grid\"},{\"id\":\"22614\",\"type\":\"Grid\"}],\"left\":[{\"id\":\"22610\",\"type\":\"LinearAxis\"}],\"plot_height\":400,\"plot_width\":700,\"renderers\":[{\"id\":\"22632\",\"type\":\"GlyphRenderer\"},{\"id\":\"22637\",\"type\":\"GlyphRenderer\"}],\"title\":{\"id\":\"22595\",\"type\":\"Title\"},\"toolbar\":{\"id\":\"22621\",\"type\":\"Toolbar\"},\"x_range\":{\"id\":\"22597\",\"type\":\"Range1d\"},\"x_scale\":{\"id\":\"22601\",\"type\":\"LinearScale\"},\"y_range\":{\"id\":\"22599\",\"type\":\"Range1d\"},\"y_scale\":{\"id\":\"22603\",\"type\":\"LinearScale\"}},\"id\":\"22594\",\"subtype\":\"Figure\",\"type\":\"Plot\"},{\"attributes\":{\"overlay\":{\"id\":\"23132\",\"type\":\"BoxAnnotation\"}},\"id\":\"22617\",\"type\":\"BoxZoomTool\"},{\"attributes\":{},\"id\":\"22619\",\"type\":\"ResetTool\"},{\"attributes\":{},\"id\":\"22620\",\"type\":\"HelpTool\"},{\"attributes\":{\"active_drag\":\"auto\",\"active_inspect\":\"auto\",\"active_multi\":null,\"active_scroll\":\"auto\",\"active_tap\":\"auto\",\"tools\":[{\"id\":\"22615\",\"type\":\"PanTool\"},{\"id\":\"22616\",\"type\":\"WheelZoomTool\"},{\"id\":\"22617\",\"type\":\"BoxZoomTool\"},{\"id\":\"22618\",\"type\":\"SaveTool\"},{\"id\":\"22619\",\"type\":\"ResetTool\"},{\"id\":\"22620\",\"type\":\"HelpTool\"}]},\"id\":\"22621\",\"type\":\"Toolbar\"},{\"attributes\":{\"line_alpha\":0.1,\"line_color\":\"#1f77b4\",\"x\":{\"field\":\"xVal\"},\"y\":{\"field\":\"yVal\"}},\"id\":\"22631\",\"type\":\"Line\"},{\"attributes\":{\"data_source\":{\"id\":\"22628\",\"type\":\"ColumnDataSource\"},\"glyph\":{\"id\":\"22630\",\"type\":\"Line\"},\"hover_glyph\":null,\"muted_glyph\":null,\"nonselection_glyph\":{\"id\":\"22631\",\"type\":\"Line\"},\"selection_glyph\":null,\"view\":{\"id\":\"22633\",\"type\":\"CDSView\"}},\"id\":\"22632\",\"type\":\"GlyphRenderer\"},{\"attributes\":{\"source\":{\"id\":\"22628\",\"type\":\"ColumnDataSource\"}},\"id\":\"22633\",\"type\":\"CDSView\"},{\"attributes\":{\"callback\":null,\"data\":{\"xVal\":{\"__ndarray__\":\"AQAAAAAA8L+5HoXrUbjuv3I9CtejcO2/KlyPwvUo7L/iehSuR+Hqv5uZmZmZmem/U7gehetR6L8M16NwPQrnv8T1KFyPwuW/exSuR+F65L80MzMzMzPjv+xRuB6F6+G/pXA9Ctej4L+6HoXrUbjevypcj8L1KNy/m5mZmZmZ2b8M16NwPQrXv3sUrkfhetS/7lG4HoXr0b+6HoXrUbjOv5+ZmZmZmcm/fhSuR+F6xL+6HoXrUbi+v4MUrkfherS/gxSuR+F6pL8AAAAAAAAAAG8UrkfheqQ/eRSuR+F6tD+6HoXrUbi+P3kUrkfhesQ/mpmZmZmZyT+1HoXrUbjOP+tRuB6F69E/exSuR+F61D8M16NwPQrXP5eZmZmZmdk/J1yPwvUo3D+4HoXrUbjeP6RwPQrXo+A/7FG4HoXr4T8yMzMzMzPjP3oUrkfheuQ/wvUoXI/C5T8K16NwPQrnP1O4HoXrUeg/m5mZmZmZ6T/hehSuR+HqPylcj8L1KOw/cT0K16Nw7T+5HoXrUbjuPw==\",\"dtype\":\"float64\",\"shape\":[50]},\"yVal\":{\"__ndarray__\":\"AAAAAAAAAEAD2YBUZ7//P+EeEB2i/v4/5VrvnbrA/T9ZwIFOtAr8P6r0l5t34/k/F7jSA7ZT9z+/AbX+xmX0P1MrGDx+JfE/nYElyfc/6z9W6S8378bjP4B6A2Uc/Nc/i5PgGwoTwD9kk+AbChPAv3V6A2Uc/Ne/TekvN+/G47+YgSXJ9z/rv1ArGDx+JfG/uQG1/sZl9L8VuNIDtlP3v6b0l5t34/m/WMCBTrQK/L/kWu+dusD9v+AeEB2i/v6/AtmAVGe//78AAAAAAAAAwAPZgFRnv/+/4R4QHaL+/r/kWu+dusD9v1rAgU60Cvy/qPSXm3fj+b8YuNIDtlP3v70Btf7GZfS/UCsYPH4l8b+YgSXJ9z/rv1jpLzfvxuO/hHoDZRz817+Ek+AbChPAv3uT4BsKE8A/gHoDZRz81z9H6S8378bjP5aBJcn3P+s/TysYPH4l8T+8AbX+xmX0Pxe40gO2U/c/qvSXm3fj+T9XwIFOtAr8P+Ra7526wP0/4B4QHaL+/j8D2YBUZ7//Pw==\",\"dtype\":\"float64\",\"shape\":[50]}},\"selected\":{\"id\":\"21390\",\"type\":\"Selection\"},\"selection_policy\":{\"id\":\"21391\",\"type\":\"UnionRenderers\"}},\"id\":\"20916\",\"type\":\"ColumnDataSource\"},{\"attributes\":{\"axis_label\":\"Probability density\",\"formatter\":{\"id\":\"23125\",\"type\":\"BasicTickFormatter\"},\"ticker\":{\"id\":\"22611\",\"type\":\"BasicTicker\"}},\"id\":\"22610\",\"type\":\"LinearAxis\"},{\"attributes\":{\"fill_color\":{\"value\":\"black\"},\"size\":{\"units\":\"screen\",\"value\":10},\"x\":{\"field\":\"xVal\"},\"y\":{\"field\":\"yVal\"}},\"id\":\"22635\",\"type\":\"Circle\"},{\"attributes\":{\"fill_alpha\":{\"value\":0.1},\"fill_color\":{\"value\":\"#1f77b4\"},\"line_alpha\":{\"value\":0.1},\"line_color\":{\"value\":\"#1f77b4\"},\"size\":{\"units\":\"screen\",\"value\":10},\"x\":{\"field\":\"xVal\"},\"y\":{\"field\":\"yVal\"}},\"id\":\"22636\",\"type\":\"Circle\"},{\"attributes\":{},\"id\":\"22606\",\"type\":\"BasicTicker\"},{\"attributes\":{},\"id\":\"23128\",\"type\":\"Selection\"},{\"attributes\":{\"data_source\":{\"id\":\"20916\",\"type\":\"ColumnDataSource\"},\"glyph\":{\"id\":\"22635\",\"type\":\"Circle\"},\"hover_glyph\":null,\"muted_glyph\":null,\"nonselection_glyph\":{\"id\":\"22636\",\"type\":\"Circle\"},\"selection_glyph\":null,\"view\":{\"id\":\"22638\",\"type\":\"CDSView\"}},\"id\":\"22637\",\"type\":\"GlyphRenderer\"},{\"attributes\":{\"callback\":null,\"end\":1.1000000000000003,\"start\":-1.1000000000000003},\"id\":\"22597\",\"type\":\"Range1d\"},{\"attributes\":{\"ticker\":{\"id\":\"22606\",\"type\":\"BasicTicker\"}},\"id\":\"22609\",\"type\":\"Grid\"},{\"attributes\":{\"bottom_units\":\"screen\",\"fill_alpha\":{\"value\":0.5},\"fill_color\":{\"value\":\"lightgrey\"},\"left_units\":\"screen\",\"level\":\"overlay\",\"line_alpha\":{\"value\":1.0},\"line_color\":{\"value\":\"black\"},\"line_dash\":[4,4],\"line_width\":{\"value\":2},\"render_mode\":\"css\",\"right_units\":\"screen\",\"top_units\":\"screen\"},\"id\":\"23132\",\"type\":\"BoxAnnotation\"},{\"attributes\":{},\"id\":\"23127\",\"type\":\"BasicTickFormatter\"},{\"attributes\":{\"source\":{\"id\":\"20916\",\"type\":\"ColumnDataSource\"}},\"id\":\"22638\",\"type\":\"CDSView\"},{\"attributes\":{},\"id\":\"22618\",\"type\":\"SaveTool\"},{\"attributes\":{\"dimension\":1,\"ticker\":{\"id\":\"22611\",\"type\":\"BasicTicker\"}},\"id\":\"22614\",\"type\":\"Grid\"},{\"attributes\":{\"text\":\"Initial wavefunction in real space\"},\"id\":\"22595\",\"type\":\"Title\"},{\"attributes\":{\"callback\":null,\"end\":2.4,\"start\":-2.4},\"id\":\"22599\",\"type\":\"Range1d\"},{\"attributes\":{},\"id\":\"21390\",\"type\":\"Selection\"},{\"attributes\":{},\"id\":\"23129\",\"type\":\"UnionRenderers\"},{\"attributes\":{},\"id\":\"21391\",\"type\":\"UnionRenderers\"},{\"attributes\":{},\"id\":\"23125\",\"type\":\"BasicTickFormatter\"},{\"attributes\":{\"callback\":null,\"data\":{\"xVal\":{\"__ndarray__\":\"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\",\"dtype\":\"float64\",\"shape\":[200]},\"yVal\":{\"__ndarray__\":\"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\",\"dtype\":\"float64\",\"shape\":[200]}},\"selected\":{\"id\":\"23128\",\"type\":\"Selection\"},\"selection_policy\":{\"id\":\"23129\",\"type\":\"UnionRenderers\"}},\"id\":\"22628\",\"type\":\"ColumnDataSource\"},{\"attributes\":{},\"id\":\"22615\",\"type\":\"PanTool\"},{\"attributes\":{},\"id\":\"22603\",\"type\":\"LinearScale\"},{\"attributes\":{},\"id\":\"22616\",\"type\":\"WheelZoomTool\"},{\"attributes\":{\"line_color\":\"red\",\"x\":{\"field\":\"xVal\"},\"y\":{\"field\":\"yVal\"}},\"id\":\"22630\",\"type\":\"Line\"},{\"attributes\":{},\"id\":\"22601\",\"type\":\"LinearScale\"},{\"attributes\":{},\"id\":\"22611\",\"type\":\"BasicTicker\"},{\"attributes\":{\"axis_label\":\"k-space distance (arb. unit)\",\"formatter\":{\"id\":\"23127\",\"type\":\"BasicTickFormatter\"},\"ticker\":{\"id\":\"22606\",\"type\":\"BasicTicker\"}},\"id\":\"22605\",\"type\":\"LinearAxis\"}],\"root_ids\":[\"22594\"]},\"title\":\"Bokeh Application\",\"version\":\"1.4.0\"}};\n",
       "  var render_items = [{\"docid\":\"694979c0-fbf1-4669-b2cb-11f4877e702f\",\"roots\":{\"22594\":\"eedbfaa9-1fe5-4a62-93c4-ed1792bd52aa\"}}];\n",
       "  root.Bokeh.embed.embed_items_notebook(docs_json, render_items);\n",
       "\n",
       "  }\n",
       "  if (root.Bokeh !== undefined) {\n",
       "    embed_document(root);\n",
       "  } else {\n",
       "    var attempts = 0;\n",
       "    var timer = setInterval(function(root) {\n",
       "      if (root.Bokeh !== undefined) {\n",
       "        clearInterval(timer);\n",
       "        embed_document(root);\n",
       "      } else {\n",
       "        attempts++;\n",
       "        if (attempts > 100) {\n",
       "          clearInterval(timer);\n",
       "          console.log(\"Bokeh: ERROR: Unable to run BokehJS code because BokehJS library is missing\");\n",
       "        }\n",
       "      }\n",
       "    }, 10, root)\n",
       "  }\n",
       "})(window);"
      ],
      "application/vnd.bokehjs_exec.v0+json": ""
     },
     "metadata": {
      "application/vnd.bokehjs_exec.v0+json": {
       "id": "22594"
      }
     },
     "output_type": "display_data"
    }
   ],
   "source": [
    "# Initialize an electron at the center of the 1D chain with a gaussian distribution to indicates its probability density\n",
    "dist0 = figure(plot_height = 400, plot_width = 700, title='Initial wavefunction in real space', x_range = [-1.1*k0*M/np.pi,1.1*k0*M/np.pi], y_range= [1.2*energy.min(),1.2*energy.max()]);\n",
    "source3 = ColumnDataSource(data = {'xVal': kk/np.pi, 'yVal': phi_k0/phi_k0.max()});\n",
    "dist0.line('xVal','yVal', source = source3, line_color = 'red');\n",
    "dist0.circle('xVal','yVal',source = source2, size = 10, line_color = 'black', fill_color = 'black');\n",
    "dist0.xaxis.axis_label='k-space distance (arb. unit)';\n",
    "dist0.yaxis.axis_label='Probability density';\n",
    "show(dist0)"
   ]
  },
  {
   "cell_type": "code",
   "execution_count": 159,
   "metadata": {},
   "outputs": [],
   "source": [
    "phi_k0 = 1/(np.sqrt(2*np.pi)*sigm)*np.exp(-1/2*( (k-kk0)/sigm )**2);\n",
    "phi_r0 = np.empty(N, dtype = complex);\n",
    "for nn in range(0,N):\n",
    "    psi0 = 0;\n",
    "    for kn in range(k.size):\n",
    "        psi0 = psi0 + phi_k0[kn]*np.exp(-1j*k[kn]*nn*a);\n",
    "    phi_r0[nn] = psi0;\n",
    "    rho0[nn] = np.abs(psi0);"
   ]
  },
  {
   "cell_type": "code",
   "execution_count": 160,
   "metadata": {},
   "outputs": [
    {
     "name": "stdout",
     "output_type": "stream",
     "text": [
      "[[ 0.+0.j -1.+0.j  0.+0.j ...  0.+0.j  0.+0.j -1.+0.j]\n",
      " [-1.+0.j  0.+0.j -1.+0.j ...  0.+0.j  0.+0.j  0.+0.j]\n",
      " [ 0.+0.j -1.+0.j  0.+0.j ...  0.+0.j  0.+0.j  0.+0.j]\n",
      " ...\n",
      " [ 0.+0.j  0.+0.j  0.+0.j ...  0.+0.j -1.+0.j  0.+0.j]\n",
      " [ 0.+0.j  0.+0.j  0.+0.j ... -1.+0.j  0.+0.j -1.+0.j]\n",
      " [-1.+0.j  0.+0.j  0.+0.j ...  0.+0.j -1.+0.j  0.+0.j]]\n"
     ]
    }
   ],
   "source": [
    "# Construct hamiltonian using occupation number basis and set initial wavefunction\n",
    "asd = np.zeros((N-1,N-1),complex);\n",
    "np.fill_diagonal(asd,-1);\n",
    "b = np.append(asd,np.zeros((N-1,1),complex), axis = 1);\n",
    "c = np.append(np.zeros((1,N),complex),b,axis = 0);\n",
    "hamil = c + np.transpose(c);\n",
    "np.fill_diagonal(hamil,0);\n",
    "psi0 = np.zeros((N,1),complex);\n",
    "rho0 = np.zeros((N,1), float);\n",
    "\n",
    "# # Define real space wavefunction using occupation number basis\n",
    "# for nn in range(0, N):\n",
    "#     psi0[nn][0] = np.exp(-1j*k0*(nn+1));\n",
    "# #     psi0[nn][0] = 0 + 1j*2*k0*(nn+1)\n",
    "# psi0[M+4][0] = np.exp(-1j*2*k0*(M+5))\n",
    "# # psi0[M+4][0] = 1 + 1j*1*k0*(M+5);\n",
    "\n",
    "phi_k0 = 1/(np.sqrt(2*np.pi)*sigm)*np.exp(-1/2*( (k-kk0)/sigm )**2);\n",
    "for nn in range(0,psi0.size):\n",
    "    psi_temp = 0;\n",
    "    for kn in range(k.size):\n",
    "        psi_temp = psi_temp + phi_k0[kn]*np.exp(-1j*k[kn]*nn*a);\n",
    "    psi0[nn][0] = psi_temp;\n",
    "    rho0[nn][0] = np.abs(psi0[nn][0]);\n",
    "\n",
    "hamil[N-1][0] = -1; #Apply periodic boundry condition\n",
    "hamil[0][N-1] = -1;\n",
    "print(hamil)"
   ]
  },
  {
   "cell_type": "code",
   "execution_count": 163,
   "metadata": {},
   "outputs": [],
   "source": [
    "# Define time evolution operator\n",
    "dt = 0.1; # Define time step\n",
    "endt = 6000;\n",
    "diaganol = np.ones(N);\n",
    "evol = np.diag(diaganol)-1.j*hamil*dt; # Use first order Taylor expansion to approximate the evolution operator\n",
    "ts = np.arange(0,endt*dt,dt);\n",
    "psis = np.empty(ts.size,dtype = object); # Initiate a container for the wavefunctions at different time slice\n",
    "phis = np.empty(ts.size,dtype = object); # Initiate a container for the phase at different time slice\n",
    "rhos = np.empty(ts.size,dtype = object); # Initiate a container for the probability density at different time slice\n",
    "psis[0]=psi0;\n",
    "for ii in range(1,ts.size):\n",
    "    psis[ii] = np.dot(evol,psis[ii-1]);\n",
    "lattx2 = np.arange(-M*a,a*(M-1),a/10.0);\n",
    "for ii in range(0,ts.size-1):\n",
    "    phis[ii] = np.angle((psis[ii]));\n",
    "    rhos[ii] = np.abs(psis[ii]);"
   ]
  },
  {
   "cell_type": "code",
   "execution_count": 165,
   "metadata": {},
   "outputs": [
    {
     "ename": "ValueError",
     "evalue": "x and y arrays must be equal in length along interpolation axis.",
     "output_type": "error",
     "traceback": [
      "\u001b[0;31m---------------------------------------------------------------------------\u001b[0m",
      "\u001b[0;31mValueError\u001b[0m                                Traceback (most recent call last)",
      "\u001b[0;32m<ipython-input-165-6487217a3ee7>\u001b[0m in \u001b[0;36m<module>\u001b[0;34m\u001b[0m\n\u001b[1;32m      2\u001b[0m \u001b[0mt\u001b[0m \u001b[0;34m=\u001b[0m \u001b[0;36m0\u001b[0m\u001b[0;34m;\u001b[0m\u001b[0;34m\u001b[0m\u001b[0;34m\u001b[0m\u001b[0m\n\u001b[1;32m      3\u001b[0m \u001b[0mphi_t\u001b[0m \u001b[0;34m=\u001b[0m \u001b[0mnp\u001b[0m\u001b[0;34m.\u001b[0m\u001b[0msqueeze\u001b[0m\u001b[0;34m(\u001b[0m\u001b[0mphis\u001b[0m\u001b[0;34m[\u001b[0m\u001b[0mt\u001b[0m\u001b[0;34m]\u001b[0m\u001b[0;34m)\u001b[0m\u001b[0;34m;\u001b[0m\u001b[0;34m\u001b[0m\u001b[0;34m\u001b[0m\u001b[0m\n\u001b[0;32m----> 4\u001b[0;31m \u001b[0mpt\u001b[0m \u001b[0;34m=\u001b[0m \u001b[0minterp1d\u001b[0m\u001b[0;34m(\u001b[0m\u001b[0mlattx\u001b[0m\u001b[0;34m,\u001b[0m\u001b[0mnp\u001b[0m\u001b[0;34m.\u001b[0m\u001b[0msqueeze\u001b[0m\u001b[0;34m(\u001b[0m\u001b[0mphis\u001b[0m\u001b[0;34m[\u001b[0m\u001b[0mt\u001b[0m\u001b[0;34m]\u001b[0m\u001b[0;34m)\u001b[0m\u001b[0;34m,\u001b[0m \u001b[0mkind\u001b[0m \u001b[0;34m=\u001b[0m \u001b[0;34m'cubic'\u001b[0m\u001b[0;34m)\u001b[0m\u001b[0;34m;\u001b[0m\u001b[0;34m\u001b[0m\u001b[0;34m\u001b[0m\u001b[0m\n\u001b[0m\u001b[1;32m      5\u001b[0m \u001b[0mrho_t\u001b[0m \u001b[0;34m=\u001b[0m \u001b[0minterp1d\u001b[0m\u001b[0;34m(\u001b[0m\u001b[0mlattx\u001b[0m\u001b[0;34m,\u001b[0m\u001b[0mnp\u001b[0m\u001b[0;34m.\u001b[0m\u001b[0msqueeze\u001b[0m\u001b[0;34m(\u001b[0m\u001b[0mrhos\u001b[0m\u001b[0;34m[\u001b[0m\u001b[0mt\u001b[0m\u001b[0;34m]\u001b[0m\u001b[0;34m)\u001b[0m\u001b[0;34m,\u001b[0m \u001b[0mkind\u001b[0m \u001b[0;34m=\u001b[0m \u001b[0;34m'cubic'\u001b[0m\u001b[0;34m)\u001b[0m\u001b[0;34m;\u001b[0m\u001b[0;34m\u001b[0m\u001b[0;34m\u001b[0m\u001b[0m\n\u001b[1;32m      6\u001b[0m \u001b[0mwavefunc_t\u001b[0m \u001b[0;34m=\u001b[0m \u001b[0mfigure\u001b[0m\u001b[0;34m(\u001b[0m\u001b[0mplot_height\u001b[0m\u001b[0;34m=\u001b[0m\u001b[0;36m300\u001b[0m\u001b[0;34m,\u001b[0m \u001b[0mplot_width\u001b[0m\u001b[0;34m=\u001b[0m\u001b[0;36m700\u001b[0m\u001b[0;34m,\u001b[0m \u001b[0mtitle\u001b[0m\u001b[0;34m=\u001b[0m\u001b[0;34m\"Electron wavefunction\"\u001b[0m\u001b[0;34m,\u001b[0m\u001b[0mx_range\u001b[0m\u001b[0;34m=\u001b[0m\u001b[0;34m[\u001b[0m\u001b[0;34m-\u001b[0m\u001b[0;36m1.1\u001b[0m\u001b[0;34m*\u001b[0m\u001b[0ma\u001b[0m\u001b[0;34m*\u001b[0m\u001b[0mM\u001b[0m\u001b[0;34m,\u001b[0m\u001b[0;36m1.1\u001b[0m\u001b[0;34m*\u001b[0m\u001b[0ma\u001b[0m\u001b[0;34m*\u001b[0m\u001b[0mM\u001b[0m\u001b[0;34m]\u001b[0m\u001b[0;34m)\u001b[0m\u001b[0;34m;\u001b[0m\u001b[0;34m\u001b[0m\u001b[0;34m\u001b[0m\u001b[0m\n",
      "\u001b[0;32m/usr/local/lib/python3.6/dist-packages/scipy/interpolate/interpolate.py\u001b[0m in \u001b[0;36m__init__\u001b[0;34m(self, x, y, kind, axis, copy, bounds_error, fill_value, assume_sorted)\u001b[0m\n\u001b[1;32m    429\u001b[0m                  assume_sorted=False):\n\u001b[1;32m    430\u001b[0m         \u001b[0;34m\"\"\" Initialize a 1D linear interpolation class.\"\"\"\u001b[0m\u001b[0;34m\u001b[0m\u001b[0;34m\u001b[0m\u001b[0m\n\u001b[0;32m--> 431\u001b[0;31m         \u001b[0m_Interpolator1D\u001b[0m\u001b[0;34m.\u001b[0m\u001b[0m__init__\u001b[0m\u001b[0;34m(\u001b[0m\u001b[0mself\u001b[0m\u001b[0;34m,\u001b[0m \u001b[0mx\u001b[0m\u001b[0;34m,\u001b[0m \u001b[0my\u001b[0m\u001b[0;34m,\u001b[0m \u001b[0maxis\u001b[0m\u001b[0;34m=\u001b[0m\u001b[0maxis\u001b[0m\u001b[0;34m)\u001b[0m\u001b[0;34m\u001b[0m\u001b[0;34m\u001b[0m\u001b[0m\n\u001b[0m\u001b[1;32m    432\u001b[0m \u001b[0;34m\u001b[0m\u001b[0m\n\u001b[1;32m    433\u001b[0m         \u001b[0mself\u001b[0m\u001b[0;34m.\u001b[0m\u001b[0mbounds_error\u001b[0m \u001b[0;34m=\u001b[0m \u001b[0mbounds_error\u001b[0m  \u001b[0;31m# used by fill_value setter\u001b[0m\u001b[0;34m\u001b[0m\u001b[0;34m\u001b[0m\u001b[0m\n",
      "\u001b[0;32m/usr/local/lib/python3.6/dist-packages/scipy/interpolate/polyint.py\u001b[0m in \u001b[0;36m__init__\u001b[0;34m(self, xi, yi, axis)\u001b[0m\n\u001b[1;32m     58\u001b[0m         \u001b[0mself\u001b[0m\u001b[0;34m.\u001b[0m\u001b[0mdtype\u001b[0m \u001b[0;34m=\u001b[0m \u001b[0;32mNone\u001b[0m\u001b[0;34m\u001b[0m\u001b[0;34m\u001b[0m\u001b[0m\n\u001b[1;32m     59\u001b[0m         \u001b[0;32mif\u001b[0m \u001b[0myi\u001b[0m \u001b[0;32mis\u001b[0m \u001b[0;32mnot\u001b[0m \u001b[0;32mNone\u001b[0m\u001b[0;34m:\u001b[0m\u001b[0;34m\u001b[0m\u001b[0;34m\u001b[0m\u001b[0m\n\u001b[0;32m---> 60\u001b[0;31m             \u001b[0mself\u001b[0m\u001b[0;34m.\u001b[0m\u001b[0m_set_yi\u001b[0m\u001b[0;34m(\u001b[0m\u001b[0myi\u001b[0m\u001b[0;34m,\u001b[0m \u001b[0mxi\u001b[0m\u001b[0;34m=\u001b[0m\u001b[0mxi\u001b[0m\u001b[0;34m,\u001b[0m \u001b[0maxis\u001b[0m\u001b[0;34m=\u001b[0m\u001b[0maxis\u001b[0m\u001b[0;34m)\u001b[0m\u001b[0;34m\u001b[0m\u001b[0;34m\u001b[0m\u001b[0m\n\u001b[0m\u001b[1;32m     61\u001b[0m \u001b[0;34m\u001b[0m\u001b[0m\n\u001b[1;32m     62\u001b[0m     \u001b[0;32mdef\u001b[0m \u001b[0m__call__\u001b[0m\u001b[0;34m(\u001b[0m\u001b[0mself\u001b[0m\u001b[0;34m,\u001b[0m \u001b[0mx\u001b[0m\u001b[0;34m)\u001b[0m\u001b[0;34m:\u001b[0m\u001b[0;34m\u001b[0m\u001b[0;34m\u001b[0m\u001b[0m\n",
      "\u001b[0;32m/usr/local/lib/python3.6/dist-packages/scipy/interpolate/polyint.py\u001b[0m in \u001b[0;36m_set_yi\u001b[0;34m(self, yi, xi, axis)\u001b[0m\n\u001b[1;32m    123\u001b[0m             \u001b[0mshape\u001b[0m \u001b[0;34m=\u001b[0m \u001b[0;34m(\u001b[0m\u001b[0;36m1\u001b[0m\u001b[0;34m,\u001b[0m\u001b[0;34m)\u001b[0m\u001b[0;34m\u001b[0m\u001b[0;34m\u001b[0m\u001b[0m\n\u001b[1;32m    124\u001b[0m         \u001b[0;32mif\u001b[0m \u001b[0mxi\u001b[0m \u001b[0;32mis\u001b[0m \u001b[0;32mnot\u001b[0m \u001b[0;32mNone\u001b[0m \u001b[0;32mand\u001b[0m \u001b[0mshape\u001b[0m\u001b[0;34m[\u001b[0m\u001b[0maxis\u001b[0m\u001b[0;34m]\u001b[0m \u001b[0;34m!=\u001b[0m \u001b[0mlen\u001b[0m\u001b[0;34m(\u001b[0m\u001b[0mxi\u001b[0m\u001b[0;34m)\u001b[0m\u001b[0;34m:\u001b[0m\u001b[0;34m\u001b[0m\u001b[0;34m\u001b[0m\u001b[0m\n\u001b[0;32m--> 125\u001b[0;31m             raise ValueError(\"x and y arrays must be equal in length along \"\n\u001b[0m\u001b[1;32m    126\u001b[0m                              \"interpolation axis.\")\n\u001b[1;32m    127\u001b[0m \u001b[0;34m\u001b[0m\u001b[0m\n",
      "\u001b[0;31mValueError\u001b[0m: x and y arrays must be equal in length along interpolation axis."
     ]
    }
   ],
   "source": [
    "# Plot the phase of the wavefunction at time = t*dt\n",
    "t = 0;\n",
    "phi_t = np.squeeze(phis[t]);\n",
    "pt = interp1d(lattx,np.squeeze(phis[t]), kind = 'cubic');\n",
    "rho_t = interp1d(lattx,np.squeeze(rhos[t]), kind = 'cubic');\n",
    "wavefunc_t = figure(plot_height=300, plot_width=700, title=\"Electron wavefunction\",x_range=[-1.1*a*M,1.1*a*M]);\n",
    "source4 = ColumnDataSource(data = {'xVal': lattx, 'yVal' : latty, 'cVal': phi_t});\n",
    "lattx_smooth = np.linspace(-a*M,a*(M-1),num = 200, endpoint = True);\n",
    "source5 = ColumnDataSource(data = {'xVal_s': lattx_smooth, 'yVal_s': rho_t(lattx_smooth)/rho_t(lattx_smooth).max()});\n",
    "\n",
    "#phis_smooth = np.empty(ts.size,dtype = object); # Initiate a container for the phase at different time slice\n",
    "#for ii in range(0,ts.size-1): # Option 1: use smoothed curve to show phase variation\n",
    "#    phis_smooth[ii] = interp1d(lattx,np.squeeze(phis[ii]), kind = 'cubic');\n",
    "#wavefunc_t.line('xVal','yVal', source = source4); \n",
    "\n",
    "mapper = linear_cmap(field_name = 'cVal', palette = RdYlBu11, low = min(phi_t), high = max(phi_t));\n",
    "wavefunc_t.circle('xVal','yVal',source = source4, size = 10, line_color = mapper, fill_color = mapper);\n",
    "wavefunc_t.line('xVal_s','yVal_s',source = source5, line_color = 'red');\n",
    "color_bar = ColorBar(color_mapper = mapper['transform'], width = 300, location = (150,0), orientation = \"horizontal\");\n",
    "wavefunc_t.add_layout(color_bar, 'below');\n",
    "show(wavefunc_t)"
   ]
  },
  {
   "cell_type": "code",
   "execution_count": 121,
   "metadata": {},
   "outputs": [],
   "source": [
    "def update(time):\n",
    "    time = int(time/dt);\n",
    "    pt = interp1d(lattx,np.squeeze(phis[t]), kind = 'cubic');\n",
    "    rho_t = interp1d(lattx,np.squeeze(rhos[time]), kind = 'cubic');\n",
    "    source4.data['cVal'] = np.squeeze(phis[time]);\n",
    "    source5.data['yVal_s'] = rho_t(lattx_smooth)/rho_t(lattx_smooth).max();\n",
    "    \n",
    "    push_notebook(wavefunc_t)"
   ]
  },
  {
   "cell_type": "code",
   "execution_count": 122,
   "metadata": {},
   "outputs": [
    {
     "data": {
      "text/html": [
       "\n",
       "\n",
       "\n",
       "\n",
       "\n",
       "\n",
       "  <div class=\"bk-root\" id=\"5b1b17c1-595f-4fc8-8373-b11f000c4d07\" data-root-id=\"13182\"></div>\n"
      ]
     },
     "metadata": {},
     "output_type": "display_data"
    },
    {
     "data": {
      "application/javascript": [
       "(function(root) {\n",
       "  function embed_document(root) {\n",
       "    \n",
       "  var docs_json = {\"0086fbe4-056f-41f9-a16c-99e91f1ef309\":{\"roots\":{\"references\":[{\"attributes\":{\"below\":[{\"id\":\"13193\",\"type\":\"LinearAxis\"},{\"id\":\"13229\",\"type\":\"ColorBar\"}],\"center\":[{\"id\":\"13197\",\"type\":\"Grid\"},{\"id\":\"13202\",\"type\":\"Grid\"}],\"left\":[{\"id\":\"13198\",\"type\":\"LinearAxis\"}],\"plot_height\":300,\"plot_width\":700,\"renderers\":[{\"id\":\"13222\",\"type\":\"GlyphRenderer\"},{\"id\":\"13227\",\"type\":\"GlyphRenderer\"}],\"title\":{\"id\":\"13183\",\"type\":\"Title\"},\"toolbar\":{\"id\":\"13209\",\"type\":\"Toolbar\"},\"x_range\":{\"id\":\"13185\",\"type\":\"Range1d\"},\"x_scale\":{\"id\":\"13189\",\"type\":\"LinearScale\"},\"y_range\":{\"id\":\"13187\",\"type\":\"DataRange1d\"},\"y_scale\":{\"id\":\"13191\",\"type\":\"LinearScale\"}},\"id\":\"13182\",\"subtype\":\"Figure\",\"type\":\"Plot\"},{\"attributes\":{},\"id\":\"13582\",\"type\":\"UnionRenderers\"},{\"attributes\":{},\"id\":\"13208\",\"type\":\"HelpTool\"},{\"attributes\":{\"callback\":null,\"end\":27.500000000000004,\"start\":-27.500000000000004},\"id\":\"13185\",\"type\":\"Range1d\"},{\"attributes\":{\"bottom_units\":\"screen\",\"fill_alpha\":{\"value\":0.5},\"fill_color\":{\"value\":\"lightgrey\"},\"left_units\":\"screen\",\"level\":\"overlay\",\"line_alpha\":{\"value\":1.0},\"line_color\":{\"value\":\"black\"},\"line_dash\":[4,4],\"line_width\":{\"value\":2},\"render_mode\":\"css\",\"right_units\":\"screen\",\"top_units\":\"screen\"},\"id\":\"13583\",\"type\":\"BoxAnnotation\"},{\"attributes\":{\"callback\":null},\"id\":\"13187\",\"type\":\"DataRange1d\"},{\"attributes\":{\"active_drag\":\"auto\",\"active_inspect\":\"auto\",\"active_multi\":null,\"active_scroll\":\"auto\",\"active_tap\":\"auto\",\"tools\":[{\"id\":\"13203\",\"type\":\"PanTool\"},{\"id\":\"13204\",\"type\":\"WheelZoomTool\"},{\"id\":\"13205\",\"type\":\"BoxZoomTool\"},{\"id\":\"13206\",\"type\":\"SaveTool\"},{\"id\":\"13207\",\"type\":\"ResetTool\"},{\"id\":\"13208\",\"type\":\"HelpTool\"}]},\"id\":\"13209\",\"type\":\"Toolbar\"},{\"attributes\":{\"fill_alpha\":{\"value\":0.1},\"fill_color\":{\"value\":\"#1f77b4\"},\"line_alpha\":{\"value\":0.1},\"line_color\":{\"value\":\"#1f77b4\"},\"size\":{\"units\":\"screen\",\"value\":10},\"x\":{\"field\":\"xVal\"},\"y\":{\"field\":\"yVal\"}},\"id\":\"13221\",\"type\":\"Circle\"},{\"attributes\":{},\"id\":\"13189\",\"type\":\"LinearScale\"},{\"attributes\":{},\"id\":\"13191\",\"type\":\"LinearScale\"},{\"attributes\":{\"data_source\":{\"id\":\"13216\",\"type\":\"ColumnDataSource\"},\"glyph\":{\"id\":\"13220\",\"type\":\"Circle\"},\"hover_glyph\":null,\"muted_glyph\":null,\"nonselection_glyph\":{\"id\":\"13221\",\"type\":\"Circle\"},\"selection_glyph\":null,\"view\":{\"id\":\"13223\",\"type\":\"CDSView\"}},\"id\":\"13222\",\"type\":\"GlyphRenderer\"},{\"attributes\":{\"formatter\":{\"id\":\"13576\",\"type\":\"BasicTickFormatter\"},\"ticker\":{\"id\":\"13194\",\"type\":\"BasicTicker\"}},\"id\":\"13193\",\"type\":\"LinearAxis\"},{\"attributes\":{\"source\":{\"id\":\"13216\",\"type\":\"ColumnDataSource\"}},\"id\":\"13223\",\"type\":\"CDSView\"},{\"attributes\":{},\"id\":\"13194\",\"type\":\"BasicTicker\"},{\"attributes\":{\"color_mapper\":{\"id\":\"13218\",\"type\":\"LinearColorMapper\"},\"formatter\":{\"id\":\"13578\",\"type\":\"BasicTickFormatter\"},\"location\":[150,0],\"orientation\":\"horizontal\",\"ticker\":{\"id\":\"13577\",\"type\":\"BasicTicker\"},\"width\":300},\"id\":\"13229\",\"type\":\"ColorBar\"},{\"attributes\":{\"ticker\":{\"id\":\"13194\",\"type\":\"BasicTicker\"}},\"id\":\"13197\",\"type\":\"Grid\"},{\"attributes\":{\"line_color\":\"red\",\"x\":{\"field\":\"xVal_s\"},\"y\":{\"field\":\"yVal_s\"}},\"id\":\"13225\",\"type\":\"Line\"},{\"attributes\":{\"formatter\":{\"id\":\"13574\",\"type\":\"BasicTickFormatter\"},\"ticker\":{\"id\":\"13199\",\"type\":\"BasicTicker\"}},\"id\":\"13198\",\"type\":\"LinearAxis\"},{\"attributes\":{\"line_alpha\":0.1,\"line_color\":\"#1f77b4\",\"x\":{\"field\":\"xVal_s\"},\"y\":{\"field\":\"yVal_s\"}},\"id\":\"13226\",\"type\":\"Line\"},{\"attributes\":{},\"id\":\"13199\",\"type\":\"BasicTicker\"},{\"attributes\":{\"data_source\":{\"id\":\"13217\",\"type\":\"ColumnDataSource\"},\"glyph\":{\"id\":\"13225\",\"type\":\"Line\"},\"hover_glyph\":null,\"muted_glyph\":null,\"nonselection_glyph\":{\"id\":\"13226\",\"type\":\"Line\"},\"selection_glyph\":null,\"view\":{\"id\":\"13228\",\"type\":\"CDSView\"}},\"id\":\"13227\",\"type\":\"GlyphRenderer\"},{\"attributes\":{\"dimension\":1,\"ticker\":{\"id\":\"13199\",\"type\":\"BasicTicker\"}},\"id\":\"13202\",\"type\":\"Grid\"},{\"attributes\":{\"source\":{\"id\":\"13217\",\"type\":\"ColumnDataSource\"}},\"id\":\"13228\",\"type\":\"CDSView\"},{\"attributes\":{},\"id\":\"13574\",\"type\":\"BasicTickFormatter\"},{\"attributes\":{\"high\":3.1415926535897825,\"low\":-2.559914149069364e-16,\"palette\":[\"#313695\",\"#4575b4\",\"#74add1\",\"#abd9e9\",\"#e0f3f8\",\"#ffffbf\",\"#fee090\",\"#fdae61\",\"#f46d43\",\"#d73027\",\"#a50026\"]},\"id\":\"13218\",\"type\":\"LinearColorMapper\"},{\"attributes\":{},\"id\":\"13576\",\"type\":\"BasicTickFormatter\"},{\"attributes\":{\"fill_color\":{\"field\":\"cVal\",\"transform\":{\"id\":\"13218\",\"type\":\"LinearColorMapper\"}},\"line_color\":{\"field\":\"cVal\",\"transform\":{\"id\":\"13218\",\"type\":\"LinearColorMapper\"}},\"size\":{\"units\":\"screen\",\"value\":10},\"x\":{\"field\":\"xVal\"},\"y\":{\"field\":\"yVal\"}},\"id\":\"13220\",\"type\":\"Circle\"},{\"attributes\":{},\"id\":\"13203\",\"type\":\"PanTool\"},{\"attributes\":{},\"id\":\"13577\",\"type\":\"BasicTicker\"},{\"attributes\":{},\"id\":\"13204\",\"type\":\"WheelZoomTool\"},{\"attributes\":{},\"id\":\"13578\",\"type\":\"BasicTickFormatter\"},{\"attributes\":{\"overlay\":{\"id\":\"13583\",\"type\":\"BoxAnnotation\"}},\"id\":\"13205\",\"type\":\"BoxZoomTool\"},{\"attributes\":{},\"id\":\"13579\",\"type\":\"Selection\"},{\"attributes\":{\"callback\":null,\"data\":{\"cVal\":{\"__ndarray__\":\"AAAAAAAAAABstBZuA01HvLCAySRV/Um8pst9I7fZazxvLp5A3aKCPJbSAVuSynQ8xvQb9Qdaibxq4KVKVJ1mvAzALAqxaIE8Mw5f6DcUgDyplpRxCySRPJGtWsGFSpq8WDCWHJYukDyWvsUoKN+WvLs+O0ieqWw8UZumW9fvrjw6pxRHNXKyvMxqIip5Ipc8Rp01kOdPpzzLdC44mW3DPO/JF3LqJ9Q87awqYfq+Ybxu6/KMS7biPNXJLnf8mLI8dhLHuQl/5DxfIkRU+yEJQNwsRFT7IQlA8CxEVPshCUD+LERU+yEJQAAtRFT7IQlA/ixEVPshCUD8LERU+yEJQP8sRFT7IQlAAC1EVPshCUD/LERU+yEJQP8sRFT7IQlA/yxEVPshCUAALURU+yEJQP8sRFT7IQlA/yxEVPshCUD/LERU+yEJQP8sRFT7IQlA/yxEVPshCUAALURU+yEJQP8sRFT7IQlA/yxEVPshCUD/LERU+yEJQAAtRFT7IQlA/yxEVPshCUD/LERU+yEJQP8sRFT7IQlA\",\"dtype\":\"float64\",\"shape\":[51]},\"xVal\":{\"__ndarray__\":\"AAAAAAAAOcAAAAAAAAA4wAAAAAAAADfAAAAAAAAANsAAAAAAAAA1wAAAAAAAADTAAAAAAAAAM8AAAAAAAAAywAAAAAAAADHAAAAAAAAAMMAAAAAAAAAuwAAAAAAAACzAAAAAAAAAKsAAAAAAAAAowAAAAAAAACbAAAAAAAAAJMAAAAAAAAAiwAAAAAAAACDAAAAAAAAAHMAAAAAAAAAYwAAAAAAAABTAAAAAAAAAEMAAAAAAAAAIwAAAAAAAAADAAAAAAAAA8L8AAAAAAAAAAAAAAAAAAPA/AAAAAAAAAEAAAAAAAAAIQAAAAAAAABBAAAAAAAAAFEAAAAAAAAAYQAAAAAAAABxAAAAAAAAAIEAAAAAAAAAiQAAAAAAAACRAAAAAAAAAJkAAAAAAAAAoQAAAAAAAACpAAAAAAAAALEAAAAAAAAAuQAAAAAAAADBAAAAAAAAAMUAAAAAAAAAyQAAAAAAAADNAAAAAAAAANEAAAAAAAAA1QAAAAAAAADZAAAAAAAAAN0AAAAAAAAA4QAAAAAAAADlA\",\"dtype\":\"float64\",\"shape\":[51]},\"yVal\":{\"__ndarray__\":\"AAAAAAAAAAAAAAAAAAAAAAAAAAAAAAAAAAAAAAAAAAAAAAAAAAAAAAAAAAAAAAAAAAAAAAAAAAAAAAAAAAAAAAAAAAAAAAAAAAAAAAAAAAAAAAAAAAAAAAAAAAAAAAAAAAAAAAAAAAAAAAAAAAAAAAAAAAAAAAAAAAAAAAAAAAAAAAAAAAAAAAAAAAAAAAAAAAAAAAAAAAAAAAAAAAAAAAAAAAAAAAAAAAAAAAAAAAAAAAAAAAAAAAAAAAAAAAAAAAAAAAAAAAAAAAAAAAAAAAAAAAAAAAAAAAAAAAAAAAAAAAAAAAAAAAAAAAAAAAAAAAAAAAAAAAAAAAAAAAAAAAAAAAAAAAAAAAAAAAAAAAAAAAAAAAAAAAAAAAAAAAAAAAAAAAAAAAAAAAAAAAAAAAAAAAAAAAAAAAAAAAAAAAAAAAAAAAAAAAAAAAAAAAAAAAAAAAAAAAAAAAAAAAAAAAAAAAAAAAAAAAAAAAAAAAAAAAAAAAAAAAAAAAAAAAAAAAAAAAAAAAAAAAAAAAAAAAAAAAAAAAAA\",\"dtype\":\"float64\",\"shape\":[51]}},\"selected\":{\"id\":\"13579\",\"type\":\"Selection\"},\"selection_policy\":{\"id\":\"13580\",\"type\":\"UnionRenderers\"}},\"id\":\"13216\",\"type\":\"ColumnDataSource\"},{\"attributes\":{\"callback\":null,\"data\":{\"xVal_s\":{\"__ndarray__\":\"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\",\"dtype\":\"float64\",\"shape\":[200]},\"yVal_s\":{\"__ndarray__\":\"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\",\"dtype\":\"float64\",\"shape\":[200]}},\"selected\":{\"id\":\"13581\",\"type\":\"Selection\"},\"selection_policy\":{\"id\":\"13582\",\"type\":\"UnionRenderers\"}},\"id\":\"13217\",\"type\":\"ColumnDataSource\"},{\"attributes\":{},\"id\":\"13206\",\"type\":\"SaveTool\"},{\"attributes\":{},\"id\":\"13207\",\"type\":\"ResetTool\"},{\"attributes\":{},\"id\":\"13580\",\"type\":\"UnionRenderers\"},{\"attributes\":{},\"id\":\"13581\",\"type\":\"Selection\"},{\"attributes\":{\"text\":\"Electron wavefunction\"},\"id\":\"13183\",\"type\":\"Title\"}],\"root_ids\":[\"13182\"]},\"title\":\"Bokeh Application\",\"version\":\"1.4.0\"}};\n",
       "  var render_items = [{\"docid\":\"0086fbe4-056f-41f9-a16c-99e91f1ef309\",\"notebook_comms_target\":\"13656\",\"roots\":{\"13182\":\"5b1b17c1-595f-4fc8-8373-b11f000c4d07\"}}];\n",
       "  root.Bokeh.embed.embed_items_notebook(docs_json, render_items);\n",
       "\n",
       "  }\n",
       "  if (root.Bokeh !== undefined) {\n",
       "    embed_document(root);\n",
       "  } else {\n",
       "    var attempts = 0;\n",
       "    var timer = setInterval(function(root) {\n",
       "      if (root.Bokeh !== undefined) {\n",
       "        clearInterval(timer);\n",
       "        embed_document(root);\n",
       "      } else {\n",
       "        attempts++;\n",
       "        if (attempts > 100) {\n",
       "          clearInterval(timer);\n",
       "          console.log(\"Bokeh: ERROR: Unable to run BokehJS code because BokehJS library is missing\");\n",
       "        }\n",
       "      }\n",
       "    }, 10, root)\n",
       "  }\n",
       "})(window);"
      ],
      "application/vnd.bokehjs_exec.v0+json": ""
     },
     "metadata": {
      "application/vnd.bokehjs_exec.v0+json": {
       "id": "13182"
      }
     },
     "output_type": "display_data"
    }
   ],
   "source": [
    "show(wavefunc_t, notebook_handle = True);"
   ]
  },
  {
   "cell_type": "code",
   "execution_count": 123,
   "metadata": {},
   "outputs": [
    {
     "data": {
      "application/vnd.jupyter.widget-view+json": {
       "model_id": "03aaf00cb56249d5a882edb73713b338",
       "version_major": 2,
       "version_minor": 0
      },
      "text/plain": [
       "interactive(children=(FloatSlider(value=0.0, description='time', max=599.8000000000001), Output()), _dom_class…"
      ]
     },
     "metadata": {},
     "output_type": "display_data"
    }
   ],
   "source": [
    "interact(update, time = ipw.FloatSlider(min = 0, max = (endt-2)*dt, step = dt, value = 0));"
   ]
  },
  {
   "cell_type": "code",
   "execution_count": null,
   "metadata": {},
   "outputs": [],
   "source": [
    "#This animation is not functioning due to the current incompatibility between bokeh and tornado, should be resolved in furture updates.\n",
    "\n",
    "# def auto_update():\n",
    "#     global time;\n",
    "#     source_tt.data['cVal'] = np.squeeze(phis[t])\n",
    "#     source_tt.data['yVal'] = interp1d(lattice,np.squeeze(rhos[t]), kind = 'cubic')\n",
    "#     source_tt.trigger('data', source_tt.data, source_tt.data)\n",
    "#     if time < endt.size - 1:\n",
    "#         time = time + 1\n",
    "#     else:\n",
    "#         time = 0\n",
    "#         source_tt.data['cVal'] = np.squeeze(phis[0])\n",
    "#         source_tt.data['yVal'] = interp1d(lattice,np.squeeze(rhos[0]), kind = 'cubic')"
   ]
  },
  {
   "cell_type": "code",
   "execution_count": null,
   "metadata": {},
   "outputs": [],
   "source": [
    "#This animation is not functioning due to the current incompatibility between bokeh and tornado, should be resolved in furture updates.\n",
    "\n",
    "# session = push_session(curdoc())\n",
    "# time = 0; # set initial frame\n",
    "# source_tt = ColumnDataSource(data = {'xVal': lattx, 'yVal' : rhos[0], 'cVal': np.zeros(lattx.size)})\n",
    "# wavefunc_tt = figure(plot_height=300, plot_width=700, title=\"Evolution of electron wavefunction\",x_range=[-1.1*a*M,1.1*a*M]);\n",
    "\n",
    "# mapper = linear_cmap(field_name = 'cVal', palette = Spectral6, low = 0, high = 1);\n",
    "# wavefunc_tt.line(x = 'xVal', y = 'yVal', source = source_tt, line_color = 'red');\n",
    "# wavefunc_tt.circle('xPos','yPos',source = source4, size = 10, line_color = mapper, fill_color = mapper);\n",
    "\n",
    "# curdoc().add_periodic_callback(auto_update, 67)\n",
    "\n",
    "# session.show()\n",
    "# session.loop_until_closed()"
   ]
  },
  {
   "cell_type": "code",
   "execution_count": null,
   "metadata": {},
   "outputs": [],
   "source": []
  },
  {
   "cell_type": "code",
   "execution_count": null,
   "metadata": {},
   "outputs": [],
   "source": []
  }
 ],
 "metadata": {
  "kernelspec": {
   "display_name": "Python 3",
   "language": "python",
   "name": "python3"
  },
  "language_info": {
   "codemirror_mode": {
    "name": "ipython",
    "version": 3
   },
   "file_extension": ".py",
   "mimetype": "text/x-python",
   "name": "python",
   "nbconvert_exporter": "python",
   "pygments_lexer": "ipython3",
   "version": "3.6.9"
  }
 },
 "nbformat": 4,
 "nbformat_minor": 4
}
