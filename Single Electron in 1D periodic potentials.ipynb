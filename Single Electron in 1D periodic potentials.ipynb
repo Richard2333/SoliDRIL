{
 "cells": [
  {
   "cell_type": "code",
   "execution_count": 253,
   "metadata": {},
   "outputs": [
    {
     "data": {
      "text/html": [
       "\n",
       "\n",
       "\n",
       "\n",
       "\n",
       "\n",
       "  <div class=\"bk-root\" id=\"3832f340-78fe-4633-9aa2-706bbbcaa656\" data-root-id=\"46817\"></div>\n"
      ]
     },
     "metadata": {},
     "output_type": "display_data"
    },
    {
     "data": {
      "application/javascript": [
       "(function(root) {\n",
       "  function embed_document(root) {\n",
       "    \n",
       "  var docs_json = {\"04c11775-d0de-4013-b4e5-f72168f1ce47\":{\"roots\":{\"references\":[{\"attributes\":{\"below\":[{\"id\":\"46828\",\"type\":\"LinearAxis\"}],\"center\":[{\"id\":\"46832\",\"type\":\"Grid\"},{\"id\":\"46837\",\"type\":\"Grid\"}],\"left\":[{\"id\":\"46833\",\"type\":\"LinearAxis\"}],\"plot_height\":100,\"plot_width\":700,\"renderers\":[{\"id\":\"46855\",\"type\":\"GlyphRenderer\"}],\"title\":{\"id\":\"46818\",\"type\":\"Title\"},\"toolbar\":{\"id\":\"46844\",\"type\":\"Toolbar\"},\"x_range\":{\"id\":\"46820\",\"type\":\"Range1d\"},\"x_scale\":{\"id\":\"46824\",\"type\":\"LinearScale\"},\"y_range\":{\"id\":\"46822\",\"type\":\"DataRange1d\"},\"y_scale\":{\"id\":\"46826\",\"type\":\"LinearScale\"}},\"id\":\"46817\",\"subtype\":\"Figure\",\"type\":\"Plot\"},{\"attributes\":{\"axis_label\":\"Real space distance (arb. unit)\",\"formatter\":{\"id\":\"47627\",\"type\":\"BasicTickFormatter\"},\"ticker\":{\"id\":\"46829\",\"type\":\"BasicTicker\"}},\"id\":\"46828\",\"type\":\"LinearAxis\"},{\"attributes\":{},\"id\":\"47629\",\"type\":\"UnionRenderers\"},{\"attributes\":{},\"id\":\"47625\",\"type\":\"BasicTickFormatter\"},{\"attributes\":{\"text\":\"1D atomic chain\"},\"id\":\"46818\",\"type\":\"Title\"},{\"attributes\":{},\"id\":\"46824\",\"type\":\"LinearScale\"},{\"attributes\":{\"callback\":null},\"id\":\"46822\",\"type\":\"DataRange1d\"},{\"attributes\":{\"callback\":null,\"end\":55.00000000000001,\"start\":-55.00000000000001},\"id\":\"46820\",\"type\":\"Range1d\"},{\"attributes\":{\"callback\":null,\"data\":{\"xVal\":{\"__ndarray__\":\"AAAAAAAAScAAAAAAAIBIwAAAAAAAAEjAAAAAAACAR8AAAAAAAABHwAAAAAAAgEbAAAAAAAAARsAAAAAAAIBFwAAAAAAAAEXAAAAAAACARMAAAAAAAABEwAAAAAAAgEPAAAAAAAAAQ8AAAAAAAIBCwAAAAAAAAELAAAAAAACAQcAAAAAAAABBwAAAAAAAgEDAAAAAAAAAQMAAAAAAAAA/wAAAAAAAAD7AAAAAAAAAPcAAAAAAAAA8wAAAAAAAADvAAAAAAAAAOsAAAAAAAAA5wAAAAAAAADjAAAAAAAAAN8AAAAAAAAA2wAAAAAAAADXAAAAAAAAANMAAAAAAAAAzwAAAAAAAADLAAAAAAAAAMcAAAAAAAAAwwAAAAAAAAC7AAAAAAAAALMAAAAAAAAAqwAAAAAAAACjAAAAAAAAAJsAAAAAAAAAkwAAAAAAAACLAAAAAAAAAIMAAAAAAAAAcwAAAAAAAABjAAAAAAAAAFMAAAAAAAAAQwAAAAAAAAAjAAAAAAAAAAMAAAAAAAADwvwAAAAAAAAAAAAAAAAAA8D8AAAAAAAAAQAAAAAAAAAhAAAAAAAAAEEAAAAAAAAAUQAAAAAAAABhAAAAAAAAAHEAAAAAAAAAgQAAAAAAAACJAAAAAAAAAJEAAAAAAAAAmQAAAAAAAAChAAAAAAAAAKkAAAAAAAAAsQAAAAAAAAC5AAAAAAAAAMEAAAAAAAAAxQAAAAAAAADJAAAAAAAAAM0AAAAAAAAA0QAAAAAAAADVAAAAAAAAANkAAAAAAAAA3QAAAAAAAADhAAAAAAAAAOUAAAAAAAAA6QAAAAAAAADtAAAAAAAAAPEAAAAAAAAA9QAAAAAAAAD5AAAAAAAAAP0AAAAAAAABAQAAAAAAAgEBAAAAAAAAAQUAAAAAAAIBBQAAAAAAAAEJAAAAAAACAQkAAAAAAAABDQAAAAAAAgENAAAAAAAAAREAAAAAAAIBEQAAAAAAAAEVAAAAAAACARUAAAAAAAABGQAAAAAAAgEZAAAAAAAAAR0AAAAAAAIBHQAAAAAAAAEhAAAAAAACASEA=\",\"dtype\":\"float64\",\"shape\":[100]},\"yVal\":{\"__ndarray__\":\"AAAAAAAAAAAAAAAAAAAAAAAAAAAAAAAAAAAAAAAAAAAAAAAAAAAAAAAAAAAAAAAAAAAAAAAAAAAAAAAAAAAAAAAAAAAAAAAAAAAAAAAAAAAAAAAAAAAAAAAAAAAAAAAAAAAAAAAAAAAAAAAAAAAAAAAAAAAAAAAAAAAAAAAAAAAAAAAAAAAAAAAAAAAAAAAAAAAAAAAAAAAAAAAAAAAAAAAAAAAAAAAAAAAAAAAAAAAAAAAAAAAAAAAAAAAAAAAAAAAAAAAAAAAAAAAAAAAAAAAAAAAAAAAAAAAAAAAAAAAAAAAAAAAAAAAAAAAAAAAAAAAAAAAAAAAAAAAAAAAAAAAAAAAAAAAAAAAAAAAAAAAAAAAAAAAAAAAAAAAAAAAAAAAAAAAAAAAAAAAAAAAAAAAAAAAAAAAAAAAAAAAAAAAAAAAAAAAAAAAAAAAAAAAAAAAAAAAAAAAAAAAAAAAAAAAAAAAAAAAAAAAAAAAAAAAAAAAAAAAAAAAAAAAAAAAAAAAAAAAAAAAAAAAAAAAAAAAAAAAAAAAAAAAAAAAAAAAAAAAAAAAAAAAAAAAAAAAAAAAAAAAAAAAAAAAAAAAAAAAAAAAAAAAAAAAAAAAAAAAAAAAAAAAAAAAAAAAAAAAAAAAAAAAAAAAAAAAAAAAAAAAAAAAAAAAAAAAAAAAAAAAAAAAAAAAAAAAAAAAAAAAAAAAAAAAAAAAAAAAAAAAAAAAAAAAAAAAAAAAAAAAAAAAAAAAAAAAAAAAAAAAAAAAAAAAAAAAAAAAAAAAAAAAAAAAAAAAAAAAAAAAAAAAAAAAAAAAAAAAAAAAAAAAAAAAAAAAAAAAAAAAAAAAAAAAAAAAAAAAAAAAAAAAAAAAAAAAAAAAAAAAAAAAAAAAAAAAAAAAAAAAAAAAAAAAAAAAAAAAAAAAAAAAAAAAAAAAAAAAAAAAAAAAAAAAAAAAAAAAAAAAAAAAAAAAAAAAAAAAAAAAAAAAAAAAAAAAAAAAAAAAAAAAAAAAAAAAAAAAAAAAAAAAAAAAAAAAAAAAAAAAAAAAAAAAAAAAAAAAAAAAAAAA=\",\"dtype\":\"float64\",\"shape\":[100]}},\"selected\":{\"id\":\"47628\",\"type\":\"Selection\"},\"selection_policy\":{\"id\":\"47629\",\"type\":\"UnionRenderers\"}},\"id\":\"46851\",\"type\":\"ColumnDataSource\"},{\"attributes\":{},\"id\":\"47628\",\"type\":\"Selection\"},{\"attributes\":{},\"id\":\"46841\",\"type\":\"SaveTool\"},{\"attributes\":{\"source\":{\"id\":\"46851\",\"type\":\"ColumnDataSource\"}},\"id\":\"46856\",\"type\":\"CDSView\"},{\"attributes\":{},\"id\":\"47627\",\"type\":\"BasicTickFormatter\"},{\"attributes\":{\"overlay\":{\"id\":\"47630\",\"type\":\"BoxAnnotation\"}},\"id\":\"46840\",\"type\":\"BoxZoomTool\"},{\"attributes\":{},\"id\":\"46829\",\"type\":\"BasicTicker\"},{\"attributes\":{},\"id\":\"46839\",\"type\":\"WheelZoomTool\"},{\"attributes\":{\"fill_color\":{\"value\":\"black\"},\"x\":{\"field\":\"xVal\"},\"y\":{\"field\":\"yVal\"}},\"id\":\"46853\",\"type\":\"Circle\"},{\"attributes\":{},\"id\":\"46838\",\"type\":\"PanTool\"},{\"attributes\":{\"active_drag\":\"auto\",\"active_inspect\":\"auto\",\"active_multi\":null,\"active_scroll\":\"auto\",\"active_tap\":\"auto\",\"tools\":[{\"id\":\"46838\",\"type\":\"PanTool\"},{\"id\":\"46839\",\"type\":\"WheelZoomTool\"},{\"id\":\"46840\",\"type\":\"BoxZoomTool\"},{\"id\":\"46841\",\"type\":\"SaveTool\"},{\"id\":\"46842\",\"type\":\"ResetTool\"},{\"id\":\"46843\",\"type\":\"HelpTool\"}]},\"id\":\"46844\",\"type\":\"Toolbar\"},{\"attributes\":{},\"id\":\"46834\",\"type\":\"BasicTicker\"},{\"attributes\":{\"bottom_units\":\"screen\",\"fill_alpha\":{\"value\":0.5},\"fill_color\":{\"value\":\"lightgrey\"},\"left_units\":\"screen\",\"level\":\"overlay\",\"line_alpha\":{\"value\":1.0},\"line_color\":{\"value\":\"black\"},\"line_dash\":[4,4],\"line_width\":{\"value\":2},\"render_mode\":\"css\",\"right_units\":\"screen\",\"top_units\":\"screen\"},\"id\":\"47630\",\"type\":\"BoxAnnotation\"},{\"attributes\":{\"dimension\":1,\"ticker\":{\"id\":\"46834\",\"type\":\"BasicTicker\"}},\"id\":\"46837\",\"type\":\"Grid\"},{\"attributes\":{},\"id\":\"46843\",\"type\":\"HelpTool\"},{\"attributes\":{\"formatter\":{\"id\":\"47625\",\"type\":\"BasicTickFormatter\"},\"ticker\":{\"id\":\"46834\",\"type\":\"BasicTicker\"}},\"id\":\"46833\",\"type\":\"LinearAxis\"},{\"attributes\":{},\"id\":\"46842\",\"type\":\"ResetTool\"},{\"attributes\":{\"ticker\":{\"id\":\"46829\",\"type\":\"BasicTicker\"}},\"id\":\"46832\",\"type\":\"Grid\"},{\"attributes\":{\"data_source\":{\"id\":\"46851\",\"type\":\"ColumnDataSource\"},\"glyph\":{\"id\":\"46853\",\"type\":\"Circle\"},\"hover_glyph\":null,\"muted_glyph\":null,\"nonselection_glyph\":{\"id\":\"46854\",\"type\":\"Circle\"},\"selection_glyph\":null,\"view\":{\"id\":\"46856\",\"type\":\"CDSView\"}},\"id\":\"46855\",\"type\":\"GlyphRenderer\"},{\"attributes\":{\"fill_alpha\":{\"value\":0.1},\"fill_color\":{\"value\":\"#1f77b4\"},\"line_alpha\":{\"value\":0.1},\"line_color\":{\"value\":\"#1f77b4\"},\"x\":{\"field\":\"xVal\"},\"y\":{\"field\":\"yVal\"}},\"id\":\"46854\",\"type\":\"Circle\"},{\"attributes\":{},\"id\":\"46826\",\"type\":\"LinearScale\"}],\"root_ids\":[\"46817\"]},\"title\":\"Bokeh Application\",\"version\":\"1.4.0\"}};\n",
       "  var render_items = [{\"docid\":\"04c11775-d0de-4013-b4e5-f72168f1ce47\",\"roots\":{\"46817\":\"3832f340-78fe-4633-9aa2-706bbbcaa656\"}}];\n",
       "  root.Bokeh.embed.embed_items_notebook(docs_json, render_items);\n",
       "\n",
       "  }\n",
       "  if (root.Bokeh !== undefined) {\n",
       "    embed_document(root);\n",
       "  } else {\n",
       "    var attempts = 0;\n",
       "    var timer = setInterval(function(root) {\n",
       "      if (root.Bokeh !== undefined) {\n",
       "        clearInterval(timer);\n",
       "        embed_document(root);\n",
       "      } else {\n",
       "        attempts++;\n",
       "        if (attempts > 100) {\n",
       "          clearInterval(timer);\n",
       "          console.log(\"Bokeh: ERROR: Unable to run BokehJS code because BokehJS library is missing\");\n",
       "        }\n",
       "      }\n",
       "    }, 10, root)\n",
       "  }\n",
       "})(window);"
      ],
      "application/vnd.bokehjs_exec.v0+json": ""
     },
     "metadata": {
      "application/vnd.bokehjs_exec.v0+json": {
       "id": "46817"
      }
     },
     "output_type": "display_data"
    }
   ],
   "source": [
    "N = 100; # Number of atomic sites\n",
    "M = int((N)/2); # Number of atomic sites on each side of the origin\n",
    "a = 1.0 # Real space distance between each site\n",
    "lattx = np.arange(-a*M,a*M,a); # '+1' because np.arange doesn't include the endpoint\n",
    "latty = np.zeros(lattx.size);\n",
    "lattice = figure(plot_height=100, plot_width=700, title=\"1D atomic chain\",x_range=[-1.1*a*M,1.1*a*M]);\n",
    "source1 = ColumnDataSource(data = {'xVal': lattx, 'yVal': latty});\n",
    "lattice.circle('xVal','yVal',source = source1, size = 4, line_color = 'black', fill_color = 'black');\n",
    "lattice.xaxis.axis_label = 'Real space distance (arb. unit)';\n",
    "show(lattice)"
   ]
  },
  {
   "cell_type": "code",
   "execution_count": 256,
   "metadata": {},
   "outputs": [],
   "source": [
    "k0 = 2*np.pi/(N*a);\n",
    "k = np.linspace(-M*k0,(M-1)*k0,N);\n",
    "energy = -2*np.cos(k);"
   ]
  },
  {
   "cell_type": "code",
   "execution_count": 257,
   "metadata": {},
   "outputs": [
    {
     "data": {
      "text/html": [
       "\n",
       "\n",
       "\n",
       "\n",
       "\n",
       "\n",
       "  <div class=\"bk-root\" id=\"7ccf2dec-8194-4659-a279-f2669354186e\" data-root-id=\"48554\"></div>\n"
      ]
     },
     "metadata": {},
     "output_type": "display_data"
    },
    {
     "data": {
      "application/javascript": [
       "(function(root) {\n",
       "  function embed_document(root) {\n",
       "    \n",
       "  var docs_json = {\"3049bc66-c147-4f4c-a610-898cb3f1c722\":{\"roots\":{\"references\":[{\"attributes\":{\"below\":[{\"id\":\"48565\",\"type\":\"LinearAxis\"}],\"center\":[{\"id\":\"48569\",\"type\":\"Grid\"},{\"id\":\"48574\",\"type\":\"Grid\"}],\"left\":[{\"id\":\"48570\",\"type\":\"LinearAxis\"}],\"plot_height\":400,\"plot_width\":700,\"renderers\":[{\"id\":\"48592\",\"type\":\"GlyphRenderer\"},{\"id\":\"48597\",\"type\":\"GlyphRenderer\"}],\"title\":{\"id\":\"48555\",\"type\":\"Title\"},\"toolbar\":{\"id\":\"48581\",\"type\":\"Toolbar\"},\"x_range\":{\"id\":\"48557\",\"type\":\"Range1d\"},\"x_scale\":{\"id\":\"48561\",\"type\":\"LinearScale\"},\"y_range\":{\"id\":\"48559\",\"type\":\"Range1d\"},\"y_scale\":{\"id\":\"48563\",\"type\":\"LinearScale\"}},\"id\":\"48554\",\"subtype\":\"Figure\",\"type\":\"Plot\"},{\"attributes\":{},\"id\":\"48578\",\"type\":\"SaveTool\"},{\"attributes\":{\"fill_color\":{\"value\":\"#1f77b4\"},\"line_color\":{\"value\":\"#1f77b4\"},\"x\":{\"field\":\"xVal\"},\"y\":{\"field\":\"yVal\"}},\"id\":\"48590\",\"type\":\"Circle\"},{\"attributes\":{\"text\":\"Energy band in reciprocal space\"},\"id\":\"48555\",\"type\":\"Title\"},{\"attributes\":{},\"id\":\"48579\",\"type\":\"ResetTool\"},{\"attributes\":{\"callback\":null,\"end\":1.1000000000000003,\"start\":-1.1000000000000003},\"id\":\"48557\",\"type\":\"Range1d\"},{\"attributes\":{},\"id\":\"48580\",\"type\":\"HelpTool\"},{\"attributes\":{\"callback\":null,\"end\":2.4,\"start\":-2.4},\"id\":\"48559\",\"type\":\"Range1d\"},{\"attributes\":{},\"id\":\"48561\",\"type\":\"LinearScale\"},{\"attributes\":{\"fill_alpha\":{\"value\":0.1},\"fill_color\":{\"value\":\"#1f77b4\"},\"line_alpha\":{\"value\":0.1},\"line_color\":{\"value\":\"#1f77b4\"},\"x\":{\"field\":\"xVal\"},\"y\":{\"field\":\"yVal\"}},\"id\":\"48591\",\"type\":\"Circle\"},{\"attributes\":{},\"id\":\"48563\",\"type\":\"LinearScale\"},{\"attributes\":{\"data_source\":{\"id\":\"48588\",\"type\":\"ColumnDataSource\"},\"glyph\":{\"id\":\"48590\",\"type\":\"Circle\"},\"hover_glyph\":null,\"muted_glyph\":null,\"nonselection_glyph\":{\"id\":\"48591\",\"type\":\"Circle\"},\"selection_glyph\":null,\"view\":{\"id\":\"48593\",\"type\":\"CDSView\"}},\"id\":\"48592\",\"type\":\"GlyphRenderer\"},{\"attributes\":{\"axis_label\":\"k-vector ( \\u03c0 )\",\"formatter\":{\"id\":\"49385\",\"type\":\"BasicTickFormatter\"},\"ticker\":{\"id\":\"48566\",\"type\":\"BasicTicker\"}},\"id\":\"48565\",\"type\":\"LinearAxis\"},{\"attributes\":{\"source\":{\"id\":\"48588\",\"type\":\"ColumnDataSource\"}},\"id\":\"48593\",\"type\":\"CDSView\"},{\"attributes\":{},\"id\":\"48566\",\"type\":\"BasicTicker\"},{\"attributes\":{},\"id\":\"49387\",\"type\":\"UnionRenderers\"},{\"attributes\":{\"line_color\":\"#1f77b4\",\"x\":{\"field\":\"xVal\"},\"y\":{\"field\":\"yVal\"}},\"id\":\"48595\",\"type\":\"Line\"},{\"attributes\":{\"ticker\":{\"id\":\"48566\",\"type\":\"BasicTicker\"}},\"id\":\"48569\",\"type\":\"Grid\"},{\"attributes\":{},\"id\":\"49383\",\"type\":\"BasicTickFormatter\"},{\"attributes\":{\"axis_label\":\"Energy (arb. Unit)\",\"formatter\":{\"id\":\"49383\",\"type\":\"BasicTickFormatter\"},\"ticker\":{\"id\":\"48571\",\"type\":\"BasicTicker\"}},\"id\":\"48570\",\"type\":\"LinearAxis\"},{\"attributes\":{\"line_alpha\":0.1,\"line_color\":\"#1f77b4\",\"x\":{\"field\":\"xVal\"},\"y\":{\"field\":\"yVal\"}},\"id\":\"48596\",\"type\":\"Line\"},{\"attributes\":{},\"id\":\"48571\",\"type\":\"BasicTicker\"},{\"attributes\":{\"data_source\":{\"id\":\"48588\",\"type\":\"ColumnDataSource\"},\"glyph\":{\"id\":\"48595\",\"type\":\"Line\"},\"hover_glyph\":null,\"muted_glyph\":null,\"nonselection_glyph\":{\"id\":\"48596\",\"type\":\"Line\"},\"selection_glyph\":null,\"view\":{\"id\":\"48598\",\"type\":\"CDSView\"}},\"id\":\"48597\",\"type\":\"GlyphRenderer\"},{\"attributes\":{\"dimension\":1,\"ticker\":{\"id\":\"48571\",\"type\":\"BasicTicker\"}},\"id\":\"48574\",\"type\":\"Grid\"},{\"attributes\":{\"source\":{\"id\":\"48588\",\"type\":\"ColumnDataSource\"}},\"id\":\"48598\",\"type\":\"CDSView\"},{\"attributes\":{\"callback\":null,\"data\":{\"xVal\":{\"__ndarray__\":\"AQAAAAAA8L9dj8L1KFzvv7kehetRuO6/Fq5H4XoU7r9yPQrXo3Dtv87MzMzMzOy/KlyPwvUo7L+G61G4HoXrv+J6FK5H4eq/PwrXo3A96r+bmZmZmZnpv/coXI/C9ei/U7gehetR6L+vR+F6FK7nvwzXo3A9Cue/aGZmZmZm5r/E9Shcj8Llvx+F61G4HuW/exSuR+F65L/Yo3A9CtfjvzQzMzMzM+O/kML1KFyP4r/sUbgehevhv0nhehSuR+G/pXA9Ctej4L8BAAAAAADgv7oehetRuN6/cj0K16Nw3b8qXI/C9Sjcv+N6FK5H4dq/m5mZmZmZ2b9UuB6F61HYvwzXo3A9Cte/xPUoXI/C1b97FK5H4XrUvzYzMzMzM9O/7lG4HoXr0b+lcD0K16PQv7oehetRuM6/KlyPwvUozL+fmZmZmZnJvw7Xo3A9Cse/fhSuR+F6xL/uUbgehevBv7oehetRuL6/mpmZmZmZub+DFK5H4Xq0v8UehetRuK6/gxSuR+F6pL+DFK5H4XqUvwAAAAAAAAAAWhSuR+F6lD9vFK5H4XqkP7AehetRuK4/eRSuR+F6tD+amZmZmZm5P7oehetRuL4/6FG4HoXrwT95FK5H4XrEPwnXo3A9Csc/mpmZmZmZyT8qXI/C9SjMP7UehetRuM4/o3A9Ctej0D/rUbgehevRPzEzMzMzM9M/exSuR+F61D/B9Shcj8LVPwzXo3A9Ctc/UbgehetR2D+XmZmZmZnZP+J6FK5H4do/J1yPwvUo3D9yPQrXo3DdP7gehetRuN4//f//////3z+kcD0K16PgP0fhehSuR+E/7FG4HoXr4T+PwvUoXI/iPzIzMzMzM+M/16NwPQrX4z96FK5H4XrkPx+F61G4HuU/wvUoXI/C5T9oZmZmZmbmPwrXo3A9Cuc/rUfhehSu5z9TuB6F61HoP/YoXI/C9eg/m5mZmZmZ6T8+CtejcD3qP+F6FK5H4eo/hutRuB6F6z8pXI/C9SjsP87MzMzMzOw/cT0K16Nw7T8UrkfhehTuP7kehetRuO4/XY/C9Shc7z8=\",\"dtype\":\"float64\",\"shape\":[100]},\"yVal\":{\"__ndarray__\":\"AAAAAAAAAED+Q+S/1e//PwPZgFRnv/8//wklrOVu/z/hHhAdov7+PwBVRBMOb/4/5VrvnbrA/T+MFdzcV/T8P1nAgU60Cvw/iC5k/7sE+z+q9Jebd+P5P+trW2MLqPg/F7jSA7ZT9z8UIBFVz+f1P78Btf7GZfQ/YVp1BCPP8j9TKxg8fiXxP1Spv1wN1e4/nYElyfc/6z8dqahIWo/nP1bpLzfvxuM/oAcc+hHV3z+AegNlHPzXP+tboV3rCtA/i5PgGwoTwD/90XXm7Cy3PGST4BsKE8C/2FuhXesK0L91egNlHPzXv40HHPoR1d+/TekvN+/G478UqahIWo/nv5iBJcn3P+u/T6m/XA3V7r9QKxg8fiXxv1tadQQjz/K/uQG1/sZl9L8SIBFVz+f1vxW40gO2U/e/6WtbYwuo+L+m9Jebd+P5v4QuZP+7BPu/WMCBTrQK/L+LFdzcV/T8v+Ra7526wP2//1REEw5v/r/gHhAdov7+v/4JJazlbv+/AtmAVGe//7/+Q+S/1e//vwAAAAAAAADA/kPkv9Xv/78D2YBUZ7//v/8JJazlbv+/4R4QHaL+/r//VEQTDm/+v+Ra7526wP2/jRXc3Ff0/L9awIFOtAr8v4cuZP+7BPu/qPSXm3fj+b/pa1tjC6j4vxi40gO2U/e/FSARVc/n9b+9AbX+xmX0v2FadQQjz/K/UCsYPH4l8b9Wqb9cDdXuv5iBJcn3P+u/G6moSFqP579Y6S8378bjv5QHHPoR1d+/hHoDZRz817/YW6Fd6wrQv4ST4BsKE8C/gYtixsQ00rx7k+AbChPAP9RboV3rCtA/gHoDZRz81z+QBxz6EdXfP0fpLzfvxuM/GamoSFqP5z+WgSXJ9z/rP1Spv1wN1e4/TysYPH4l8T9hWnUEI8/yP7wBtf7GZfQ/ESARVc/n9T8XuNIDtlP3P+lrW2MLqPg/qvSXm3fj+T+GLmT/uwT7P1fAgU60Cvw/jBXc3Ff0/D/kWu+dusD9PwBVRBMOb/4/4B4QHaL+/j/+CSWs5W7/PwPZgFRnv/8//kPkv9Xv/z8=\",\"dtype\":\"float64\",\"shape\":[100]}},\"selected\":{\"id\":\"49386\",\"type\":\"Selection\"},\"selection_policy\":{\"id\":\"49387\",\"type\":\"UnionRenderers\"}},\"id\":\"48588\",\"type\":\"ColumnDataSource\"},{\"attributes\":{},\"id\":\"49386\",\"type\":\"Selection\"},{\"attributes\":{\"bottom_units\":\"screen\",\"fill_alpha\":{\"value\":0.5},\"fill_color\":{\"value\":\"lightgrey\"},\"left_units\":\"screen\",\"level\":\"overlay\",\"line_alpha\":{\"value\":1.0},\"line_color\":{\"value\":\"black\"},\"line_dash\":[4,4],\"line_width\":{\"value\":2},\"render_mode\":\"css\",\"right_units\":\"screen\",\"top_units\":\"screen\"},\"id\":\"49388\",\"type\":\"BoxAnnotation\"},{\"attributes\":{\"active_drag\":\"auto\",\"active_inspect\":\"auto\",\"active_multi\":null,\"active_scroll\":\"auto\",\"active_tap\":\"auto\",\"tools\":[{\"id\":\"48575\",\"type\":\"PanTool\"},{\"id\":\"48576\",\"type\":\"WheelZoomTool\"},{\"id\":\"48577\",\"type\":\"BoxZoomTool\"},{\"id\":\"48578\",\"type\":\"SaveTool\"},{\"id\":\"48579\",\"type\":\"ResetTool\"},{\"id\":\"48580\",\"type\":\"HelpTool\"}]},\"id\":\"48581\",\"type\":\"Toolbar\"},{\"attributes\":{},\"id\":\"48575\",\"type\":\"PanTool\"},{\"attributes\":{},\"id\":\"49385\",\"type\":\"BasicTickFormatter\"},{\"attributes\":{},\"id\":\"48576\",\"type\":\"WheelZoomTool\"},{\"attributes\":{\"overlay\":{\"id\":\"49388\",\"type\":\"BoxAnnotation\"}},\"id\":\"48577\",\"type\":\"BoxZoomTool\"}],\"root_ids\":[\"48554\"]},\"title\":\"Bokeh Application\",\"version\":\"1.4.0\"}};\n",
       "  var render_items = [{\"docid\":\"3049bc66-c147-4f4c-a610-898cb3f1c722\",\"roots\":{\"48554\":\"7ccf2dec-8194-4659-a279-f2669354186e\"}}];\n",
       "  root.Bokeh.embed.embed_items_notebook(docs_json, render_items);\n",
       "\n",
       "  }\n",
       "  if (root.Bokeh !== undefined) {\n",
       "    embed_document(root);\n",
       "  } else {\n",
       "    var attempts = 0;\n",
       "    var timer = setInterval(function(root) {\n",
       "      if (root.Bokeh !== undefined) {\n",
       "        clearInterval(timer);\n",
       "        embed_document(root);\n",
       "      } else {\n",
       "        attempts++;\n",
       "        if (attempts > 100) {\n",
       "          clearInterval(timer);\n",
       "          console.log(\"Bokeh: ERROR: Unable to run BokehJS code because BokehJS library is missing\");\n",
       "        }\n",
       "      }\n",
       "    }, 10, root)\n",
       "  }\n",
       "})(window);"
      ],
      "application/vnd.bokehjs_exec.v0+json": ""
     },
     "metadata": {
      "application/vnd.bokehjs_exec.v0+json": {
       "id": "48554"
      }
     },
     "output_type": "display_data"
    }
   ],
   "source": [
    "# Calcualte resulting dispersion relation using periodic boundary condition (PC)\n",
    "band = figure(plot_height = 400, plot_width = 700, title='Energy band in reciprocal space', x_range = [-1.1*k0*M/np.pi,1.1*k0*M/np.pi], y_range= [1.2*energy.min(),1.2*energy.max()]);\n",
    "source2 = ColumnDataSource(data = {'xVal': k/np.pi, 'yVal' : energy});\n",
    "band.circle('xVal','yVal',source = source2,size = 4);\n",
    "band.line('xVal','yVal',source = source2);\n",
    "band.xaxis.axis_label='k-vector ( \\u03c0 )';\n",
    "band.yaxis.axis_label='Energy (arb. Unit)';\n",
    "show(band)"
   ]
  },
  {
   "cell_type": "code",
   "execution_count": 261,
   "metadata": {},
   "outputs": [],
   "source": [
    "# define the initial wavefunction (with an artificial Gaussian dist. in k-space)\n",
    "sigm = 4*k0;\n",
    "kk0 = 25*k0;\n",
    "kk = np.linspace(-M*k0,(M-1)*k0, 200);\n",
    "phi_k0 = 1/(np.sqrt(2*np.pi)*sigm)*np.exp(-1/2*( (kk-kk0)/sigm )**2);"
   ]
  },
  {
   "cell_type": "code",
   "execution_count": 262,
   "metadata": {},
   "outputs": [
    {
     "data": {
      "text/html": [
       "\n",
       "\n",
       "\n",
       "\n",
       "\n",
       "\n",
       "  <div class=\"bk-root\" id=\"36fc90cb-01a8-4219-8696-854ebbd469ed\" data-root-id=\"51257\"></div>\n"
      ]
     },
     "metadata": {},
     "output_type": "display_data"
    },
    {
     "data": {
      "application/javascript": [
       "(function(root) {\n",
       "  function embed_document(root) {\n",
       "    \n",
       "  var docs_json = {\"e94a6ae2-33ad-4f01-ae97-fa76c4822f97\":{\"roots\":{\"references\":[{\"attributes\":{\"below\":[{\"id\":\"51268\",\"type\":\"LinearAxis\"}],\"center\":[{\"id\":\"51272\",\"type\":\"Grid\"},{\"id\":\"51277\",\"type\":\"Grid\"}],\"left\":[{\"id\":\"51273\",\"type\":\"LinearAxis\"}],\"plot_height\":400,\"plot_width\":700,\"renderers\":[{\"id\":\"51295\",\"type\":\"GlyphRenderer\"},{\"id\":\"51300\",\"type\":\"GlyphRenderer\"}],\"title\":{\"id\":\"51258\",\"type\":\"Title\"},\"toolbar\":{\"id\":\"51284\",\"type\":\"Toolbar\"},\"x_range\":{\"id\":\"51260\",\"type\":\"Range1d\"},\"x_scale\":{\"id\":\"51264\",\"type\":\"LinearScale\"},\"y_range\":{\"id\":\"51262\",\"type\":\"Range1d\"},\"y_scale\":{\"id\":\"51266\",\"type\":\"LinearScale\"}},\"id\":\"51257\",\"subtype\":\"Figure\",\"type\":\"Plot\"},{\"attributes\":{},\"id\":\"51282\",\"type\":\"ResetTool\"},{\"attributes\":{\"line_color\":\"red\",\"x\":{\"field\":\"xVal\"},\"y\":{\"field\":\"yVal\"}},\"id\":\"51293\",\"type\":\"Line\"},{\"attributes\":{\"text\":\"Initial wavefunction in real space\"},\"id\":\"51258\",\"type\":\"Title\"},{\"attributes\":{},\"id\":\"51283\",\"type\":\"HelpTool\"},{\"attributes\":{\"callback\":null,\"end\":1.1000000000000003,\"start\":-1.1000000000000003},\"id\":\"51260\",\"type\":\"Range1d\"},{\"attributes\":{\"callback\":null,\"end\":2.4,\"start\":-2.4},\"id\":\"51262\",\"type\":\"Range1d\"},{\"attributes\":{\"line_alpha\":0.1,\"line_color\":\"#1f77b4\",\"x\":{\"field\":\"xVal\"},\"y\":{\"field\":\"yVal\"}},\"id\":\"51294\",\"type\":\"Line\"},{\"attributes\":{},\"id\":\"51264\",\"type\":\"LinearScale\"},{\"attributes\":{\"data_source\":{\"id\":\"51291\",\"type\":\"ColumnDataSource\"},\"glyph\":{\"id\":\"51293\",\"type\":\"Line\"},\"hover_glyph\":null,\"muted_glyph\":null,\"nonselection_glyph\":{\"id\":\"51294\",\"type\":\"Line\"},\"selection_glyph\":null,\"view\":{\"id\":\"51296\",\"type\":\"CDSView\"}},\"id\":\"51295\",\"type\":\"GlyphRenderer\"},{\"attributes\":{},\"id\":\"51266\",\"type\":\"LinearScale\"},{\"attributes\":{\"source\":{\"id\":\"51291\",\"type\":\"ColumnDataSource\"}},\"id\":\"51296\",\"type\":\"CDSView\"},{\"attributes\":{\"axis_label\":\"k-space distance (arb. unit)\",\"formatter\":{\"id\":\"52116\",\"type\":\"BasicTickFormatter\"},\"ticker\":{\"id\":\"51269\",\"type\":\"BasicTicker\"}},\"id\":\"51268\",\"type\":\"LinearAxis\"},{\"attributes\":{\"fill_color\":{\"value\":\"black\"},\"x\":{\"field\":\"xVal\"},\"y\":{\"field\":\"yVal\"}},\"id\":\"51298\",\"type\":\"Circle\"},{\"attributes\":{},\"id\":\"51269\",\"type\":\"BasicTicker\"},{\"attributes\":{},\"id\":\"49387\",\"type\":\"UnionRenderers\"},{\"attributes\":{\"fill_alpha\":{\"value\":0.1},\"fill_color\":{\"value\":\"#1f77b4\"},\"line_alpha\":{\"value\":0.1},\"line_color\":{\"value\":\"#1f77b4\"},\"x\":{\"field\":\"xVal\"},\"y\":{\"field\":\"yVal\"}},\"id\":\"51299\",\"type\":\"Circle\"},{\"attributes\":{\"axis_label\":\"Probability density\",\"formatter\":{\"id\":\"52114\",\"type\":\"BasicTickFormatter\"},\"ticker\":{\"id\":\"51274\",\"type\":\"BasicTicker\"}},\"id\":\"51273\",\"type\":\"LinearAxis\"},{\"attributes\":{\"data_source\":{\"id\":\"48588\",\"type\":\"ColumnDataSource\"},\"glyph\":{\"id\":\"51298\",\"type\":\"Circle\"},\"hover_glyph\":null,\"muted_glyph\":null,\"nonselection_glyph\":{\"id\":\"51299\",\"type\":\"Circle\"},\"selection_glyph\":null,\"view\":{\"id\":\"51301\",\"type\":\"CDSView\"}},\"id\":\"51300\",\"type\":\"GlyphRenderer\"},{\"attributes\":{\"source\":{\"id\":\"48588\",\"type\":\"ColumnDataSource\"}},\"id\":\"51301\",\"type\":\"CDSView\"},{\"attributes\":{},\"id\":\"51274\",\"type\":\"BasicTicker\"},{\"attributes\":{\"dimension\":1,\"ticker\":{\"id\":\"51274\",\"type\":\"BasicTicker\"}},\"id\":\"51277\",\"type\":\"Grid\"},{\"attributes\":{},\"id\":\"52117\",\"type\":\"Selection\"},{\"attributes\":{\"callback\":null,\"data\":{\"xVal\":{\"__ndarray__\":\"AQAAAAAA8L9dj8L1KFzvv7kehetRuO6/Fq5H4XoU7r9yPQrXo3Dtv87MzMzMzOy/KlyPwvUo7L+G61G4HoXrv+J6FK5H4eq/PwrXo3A96r+bmZmZmZnpv/coXI/C9ei/U7gehetR6L+vR+F6FK7nvwzXo3A9Cue/aGZmZmZm5r/E9Shcj8Llvx+F61G4HuW/exSuR+F65L/Yo3A9CtfjvzQzMzMzM+O/kML1KFyP4r/sUbgehevhv0nhehSuR+G/pXA9Ctej4L8BAAAAAADgv7oehetRuN6/cj0K16Nw3b8qXI/C9Sjcv+N6FK5H4dq/m5mZmZmZ2b9UuB6F61HYvwzXo3A9Cte/xPUoXI/C1b97FK5H4XrUvzYzMzMzM9O/7lG4HoXr0b+lcD0K16PQv7oehetRuM6/KlyPwvUozL+fmZmZmZnJvw7Xo3A9Cse/fhSuR+F6xL/uUbgehevBv7oehetRuL6/mpmZmZmZub+DFK5H4Xq0v8UehetRuK6/gxSuR+F6pL+DFK5H4XqUvwAAAAAAAAAAWhSuR+F6lD9vFK5H4XqkP7AehetRuK4/eRSuR+F6tD+amZmZmZm5P7oehetRuL4/6FG4HoXrwT95FK5H4XrEPwnXo3A9Csc/mpmZmZmZyT8qXI/C9SjMP7UehetRuM4/o3A9Ctej0D/rUbgehevRPzEzMzMzM9M/exSuR+F61D/B9Shcj8LVPwzXo3A9Ctc/UbgehetR2D+XmZmZmZnZP+J6FK5H4do/J1yPwvUo3D9yPQrXo3DdP7gehetRuN4//f//////3z+kcD0K16PgP0fhehSuR+E/7FG4HoXr4T+PwvUoXI/iPzIzMzMzM+M/16NwPQrX4z96FK5H4XrkPx+F61G4HuU/wvUoXI/C5T9oZmZmZmbmPwrXo3A9Cuc/rUfhehSu5z9TuB6F61HoP/YoXI/C9eg/m5mZmZmZ6T8+CtejcD3qP+F6FK5H4eo/hutRuB6F6z8pXI/C9SjsP87MzMzMzOw/cT0K16Nw7T8UrkfhehTuP7kehetRuO4/XY/C9Shc7z8=\",\"dtype\":\"float64\",\"shape\":[100]},\"yVal\":{\"__ndarray__\":\"AAAAAAAAAED+Q+S/1e//PwPZgFRnv/8//wklrOVu/z/hHhAdov7+PwBVRBMOb/4/5VrvnbrA/T+MFdzcV/T8P1nAgU60Cvw/iC5k/7sE+z+q9Jebd+P5P+trW2MLqPg/F7jSA7ZT9z8UIBFVz+f1P78Btf7GZfQ/YVp1BCPP8j9TKxg8fiXxP1Spv1wN1e4/nYElyfc/6z8dqahIWo/nP1bpLzfvxuM/oAcc+hHV3z+AegNlHPzXP+tboV3rCtA/i5PgGwoTwD/90XXm7Cy3PGST4BsKE8C/2FuhXesK0L91egNlHPzXv40HHPoR1d+/TekvN+/G478UqahIWo/nv5iBJcn3P+u/T6m/XA3V7r9QKxg8fiXxv1tadQQjz/K/uQG1/sZl9L8SIBFVz+f1vxW40gO2U/e/6WtbYwuo+L+m9Jebd+P5v4QuZP+7BPu/WMCBTrQK/L+LFdzcV/T8v+Ra7526wP2//1REEw5v/r/gHhAdov7+v/4JJazlbv+/AtmAVGe//7/+Q+S/1e//vwAAAAAAAADA/kPkv9Xv/78D2YBUZ7//v/8JJazlbv+/4R4QHaL+/r//VEQTDm/+v+Ra7526wP2/jRXc3Ff0/L9awIFOtAr8v4cuZP+7BPu/qPSXm3fj+b/pa1tjC6j4vxi40gO2U/e/FSARVc/n9b+9AbX+xmX0v2FadQQjz/K/UCsYPH4l8b9Wqb9cDdXuv5iBJcn3P+u/G6moSFqP579Y6S8378bjv5QHHPoR1d+/hHoDZRz817/YW6Fd6wrQv4ST4BsKE8C/gYtixsQ00rx7k+AbChPAP9RboV3rCtA/gHoDZRz81z+QBxz6EdXfP0fpLzfvxuM/GamoSFqP5z+WgSXJ9z/rP1Spv1wN1e4/TysYPH4l8T9hWnUEI8/yP7wBtf7GZfQ/ESARVc/n9T8XuNIDtlP3P+lrW2MLqPg/qvSXm3fj+T+GLmT/uwT7P1fAgU60Cvw/jBXc3Ff0/D/kWu+dusD9PwBVRBMOb/4/4B4QHaL+/j/+CSWs5W7/PwPZgFRnv/8//kPkv9Xv/z8=\",\"dtype\":\"float64\",\"shape\":[100]}},\"selected\":{\"id\":\"49386\",\"type\":\"Selection\"},\"selection_policy\":{\"id\":\"49387\",\"type\":\"UnionRenderers\"}},\"id\":\"48588\",\"type\":\"ColumnDataSource\"},{\"attributes\":{},\"id\":\"52118\",\"type\":\"UnionRenderers\"},{\"attributes\":{\"bottom_units\":\"screen\",\"fill_alpha\":{\"value\":0.5},\"fill_color\":{\"value\":\"lightgrey\"},\"left_units\":\"screen\",\"level\":\"overlay\",\"line_alpha\":{\"value\":1.0},\"line_color\":{\"value\":\"black\"},\"line_dash\":[4,4],\"line_width\":{\"value\":2},\"render_mode\":\"css\",\"right_units\":\"screen\",\"top_units\":\"screen\"},\"id\":\"52121\",\"type\":\"BoxAnnotation\"},{\"attributes\":{},\"id\":\"49386\",\"type\":\"Selection\"},{\"attributes\":{\"active_drag\":\"auto\",\"active_inspect\":\"auto\",\"active_multi\":null,\"active_scroll\":\"auto\",\"active_tap\":\"auto\",\"tools\":[{\"id\":\"51278\",\"type\":\"PanTool\"},{\"id\":\"51279\",\"type\":\"WheelZoomTool\"},{\"id\":\"51280\",\"type\":\"BoxZoomTool\"},{\"id\":\"51281\",\"type\":\"SaveTool\"},{\"id\":\"51282\",\"type\":\"ResetTool\"},{\"id\":\"51283\",\"type\":\"HelpTool\"}]},\"id\":\"51284\",\"type\":\"Toolbar\"},{\"attributes\":{},\"id\":\"52116\",\"type\":\"BasicTickFormatter\"},{\"attributes\":{\"ticker\":{\"id\":\"51269\",\"type\":\"BasicTicker\"}},\"id\":\"51272\",\"type\":\"Grid\"},{\"attributes\":{},\"id\":\"51278\",\"type\":\"PanTool\"},{\"attributes\":{},\"id\":\"51279\",\"type\":\"WheelZoomTool\"},{\"attributes\":{\"callback\":null,\"data\":{\"xVal\":{\"__ndarray__\":\"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\",\"dtype\":\"float64\",\"shape\":[200]},\"yVal\":{\"__ndarray__\":\"IgDoFeUjFTCd9KM+8gBLMEYXeVpl+4AwnrA1YQcItTD2Vju8f6XpMPCzyh5Xyx4xjMZbZzQ0UjFYj5zUJjGFMewCWyO4SrgxGHn1Z/Nq6zH5q2+ejngeMsqs7yMRrFAyoeiS79j2gTIsIXknNA+zMqd7OGsx6eMyXWx6/y97FDM971M3lL5EM1Gk5WlGsHQz7lneLu9QpDNrSJN/6qTTM8M0ChvzswI0r/ZSHI+IMTTJjJAOTS9gNJWtAj3Ka400587nrqdUujSTLUMPBjTnNJE5jH8kIhQ1M5+6/JYzQTVC+XETK/FsNWCZ3rdl+Zc13vnrieONwzUcngt8omjvNZQxbqR01hg2VS2AcgZXQzakkBXU56dtNvDDxmFfY5Y2DfP3GGKkwDZgj7GApFzoNkHYZy2/jhE3y//WGkjrODe/o/rGfWlhN4j/xSKv9Yc3PpiN9FE7sDcRtn9Gs6fVN5fgBsFxcvw31R2CzNhlIjgjhwzllG5HOOnGktetYm04LbLglZokkjgtwYXuPw+2OIOkeUDyaNo42545nggi/zgArEM8kREiOXz0tvuqpkQ58eVeq4I9ZznURDx0sMCJOTtgqEREGaw5kvdzxBUwzjler8ECOu/vOWqv/lK/oRA61lJtk+MOMTqi8vLKFDpROn0J291WIXE6jx7IQ83FkDqQ7VXKpCuwOgXVQ4CFs8464lYXGISy7DqK4Pxql2kKO7vRAzW37yc7afZuSgZcRTs3vkZ+dcRiOxyImKGfPIA7ms+saeOpmzvqSVczUTS3O1QZG85HKtM7SpiUqBQs7zsIPZLpMvYIPMiQhBGHriM8T2aKbpKPPjyAwMXGylxXPCULnNjilXE8nQ6c/FMRijzmX108JwajPHU90jlOV7s8uWGFVXFY0zyaCeNev/TqPBMsauv2fQI9v0LAEGD7GD0m28QdoJ0wPdBakFxnw0U96GjPrWsRXD3mkB2WYtJxPZKJMFnYSIY9pMwT4ORvmz1Yb40EmKGwPf+aB+xT2sM9s5eP0LJV1z3HTEwloQHrPV/nrgOjxv49NveRqUNEET6zXrDvyxMjPrY3FAMdwTQ+m0knqnI7Rj7uLqRkJHNXPk3QT0S3Wmg+N+42ENXneD6eK8EUEBSJPoFhTXNf3Zg+gpkV3UZGqD6DZsWApVW3PvCitGAxFsY+NwcPAa2V1D51ZTg37OPiPql1pwLBEfE+mRkvntRf/j4TvWvAOJwKP9aUgeNr9BY/5wKbRl1/Iz/xFPEtiE4wP5r1sPyQ2zo/37blJDbHRT/qNn/NZWNRPxDTVW8fV1s//g550AwqZT+/tC8EwiFwP/LoQPTzNng/T22EvgrlgT8IzO494AqKPwJedmnAqJI/SrWLAe1Tmj88QX1u+0miP5m/2kz2BKk/bmKhfMHZsD+mV+dFdVm2P1trExgOML0/te6e9j/Ewj/aP0KYE8PHPxyzdpYVoM0/Ozoelyov0j9lUIlZCPvVP98Ui89kKdo/cMCaZQCp3j9SBrmIt7DhP1TYkkK+GeQ/KgJ5uBd95j8C2MJXNcboP5uUiY2M3+o/2hihW9+z7D/DZQI5nS/uP06xGb08Qu8/eu2V/mzf7z8AAAAAAADwP8P+E+R1ou8/9Gd5OhrL7j8QnmpHsIPtP4DeQSe32us/9ijteFni6T8aXwxiJK/nP9+p1ESmVuU/ep5Y9hXu4j9BKS3dH4ngPxeN3rTfcdw/r58xtgwX2D9tSXR2uxbUP/Y0gAO5ftA/mUqNuyesyj/2jgcl1jvFP3/GMhMApcA/OTFWPp+xuT9H/1Yu8oazPzJ4N5eyOa0//FDXptKIpT/rUGgMcz+fP5LCGLTDUpY/Ta9GZt1njz/fzJgOq8CFP09+4pqrq30/R6WqCr3scz8a5gooeFlqP/5v2C7PJ2E/yWhutwT/VT8uZpQdEcVLPxQLLY6oQkE/S9dAeosgNT8d+2gAk3YpP+Jsx7vUNx4/kGcZmb2nET9M1XmGWFAEP7zCqBuZA/c+PpbAJEis6T4hGrWgEjPcPpGuLYfNf84+H2Ljo3Y9wD54yNwRiQexPkd9Y7lClaE+aP7eeEHgkT6EZjRpFuWBPg03V5WIo3E+fPSUU5keYT4IETbKSVxQPg==\",\"dtype\":\"float64\",\"shape\":[200]}},\"selected\":{\"id\":\"52117\",\"type\":\"Selection\"},\"selection_policy\":{\"id\":\"52118\",\"type\":\"UnionRenderers\"}},\"id\":\"51291\",\"type\":\"ColumnDataSource\"},{\"attributes\":{\"overlay\":{\"id\":\"52121\",\"type\":\"BoxAnnotation\"}},\"id\":\"51280\",\"type\":\"BoxZoomTool\"},{\"attributes\":{},\"id\":\"51281\",\"type\":\"SaveTool\"},{\"attributes\":{},\"id\":\"52114\",\"type\":\"BasicTickFormatter\"}],\"root_ids\":[\"51257\"]},\"title\":\"Bokeh Application\",\"version\":\"1.4.0\"}};\n",
       "  var render_items = [{\"docid\":\"e94a6ae2-33ad-4f01-ae97-fa76c4822f97\",\"roots\":{\"51257\":\"36fc90cb-01a8-4219-8696-854ebbd469ed\"}}];\n",
       "  root.Bokeh.embed.embed_items_notebook(docs_json, render_items);\n",
       "\n",
       "  }\n",
       "  if (root.Bokeh !== undefined) {\n",
       "    embed_document(root);\n",
       "  } else {\n",
       "    var attempts = 0;\n",
       "    var timer = setInterval(function(root) {\n",
       "      if (root.Bokeh !== undefined) {\n",
       "        clearInterval(timer);\n",
       "        embed_document(root);\n",
       "      } else {\n",
       "        attempts++;\n",
       "        if (attempts > 100) {\n",
       "          clearInterval(timer);\n",
       "          console.log(\"Bokeh: ERROR: Unable to run BokehJS code because BokehJS library is missing\");\n",
       "        }\n",
       "      }\n",
       "    }, 10, root)\n",
       "  }\n",
       "})(window);"
      ],
      "application/vnd.bokehjs_exec.v0+json": ""
     },
     "metadata": {
      "application/vnd.bokehjs_exec.v0+json": {
       "id": "51257"
      }
     },
     "output_type": "display_data"
    }
   ],
   "source": [
    "# Initialize an electron at the center of the 1D chain with a gaussian distribution to indicates its probability density\n",
    "dist0 = figure(plot_height = 400, plot_width = 700, title='Initial wavefunction in real space', x_range = [-1.1*k0*M/np.pi,1.1*k0*M/np.pi], y_range= [1.2*energy.min(),1.2*energy.max()]);\n",
    "source3 = ColumnDataSource(data = {'xVal': kk/np.pi, 'yVal': phi_k0/phi_k0.max()});\n",
    "dist0.line('xVal','yVal', source = source3, line_color = 'red');\n",
    "dist0.circle('xVal','yVal',source = source2, size = 4, line_color = 'black', fill_color = 'black');\n",
    "dist0.xaxis.axis_label='k-space distance (arb. unit)';\n",
    "dist0.yaxis.axis_label='Probability density';\n",
    "show(dist0)"
   ]
  },
  {
   "cell_type": "code",
   "execution_count": 263,
   "metadata": {},
   "outputs": [
    {
     "ename": "IndexError",
     "evalue": "index 50 is out of bounds for axis 0 with size 50",
     "output_type": "error",
     "traceback": [
      "\u001b[0;31m---------------------------------------------------------------------------\u001b[0m",
      "\u001b[0;31mIndexError\u001b[0m                                Traceback (most recent call last)",
      "\u001b[0;32m<ipython-input-263-e4cb01b5eb35>\u001b[0m in \u001b[0;36m<module>\u001b[0;34m\u001b[0m\n\u001b[1;32m      6\u001b[0m         \u001b[0mpsi0\u001b[0m \u001b[0;34m=\u001b[0m \u001b[0mpsi0\u001b[0m \u001b[0;34m+\u001b[0m \u001b[0mphi_k0\u001b[0m\u001b[0;34m[\u001b[0m\u001b[0mkn\u001b[0m\u001b[0;34m]\u001b[0m\u001b[0;34m*\u001b[0m\u001b[0mnp\u001b[0m\u001b[0;34m.\u001b[0m\u001b[0mexp\u001b[0m\u001b[0;34m(\u001b[0m\u001b[0;34m-\u001b[0m\u001b[0;36m1j\u001b[0m\u001b[0;34m*\u001b[0m\u001b[0mk\u001b[0m\u001b[0;34m[\u001b[0m\u001b[0mkn\u001b[0m\u001b[0;34m]\u001b[0m\u001b[0;34m*\u001b[0m\u001b[0mnn\u001b[0m\u001b[0;34m*\u001b[0m\u001b[0ma\u001b[0m\u001b[0;34m)\u001b[0m\u001b[0;34m;\u001b[0m\u001b[0;34m\u001b[0m\u001b[0;34m\u001b[0m\u001b[0m\n\u001b[1;32m      7\u001b[0m     \u001b[0mphi_r0\u001b[0m\u001b[0;34m[\u001b[0m\u001b[0mnn\u001b[0m\u001b[0;34m]\u001b[0m \u001b[0;34m=\u001b[0m \u001b[0mpsi0\u001b[0m\u001b[0;34m;\u001b[0m\u001b[0;34m\u001b[0m\u001b[0;34m\u001b[0m\u001b[0m\n\u001b[0;32m----> 8\u001b[0;31m     \u001b[0mrho0\u001b[0m\u001b[0;34m[\u001b[0m\u001b[0mnn\u001b[0m\u001b[0;34m]\u001b[0m \u001b[0;34m=\u001b[0m \u001b[0mnp\u001b[0m\u001b[0;34m.\u001b[0m\u001b[0mabs\u001b[0m\u001b[0;34m(\u001b[0m\u001b[0mpsi0\u001b[0m\u001b[0;34m)\u001b[0m\u001b[0;34m;\u001b[0m\u001b[0;34m\u001b[0m\u001b[0;34m\u001b[0m\u001b[0m\n\u001b[0m",
      "\u001b[0;31mIndexError\u001b[0m: index 50 is out of bounds for axis 0 with size 50"
     ]
    }
   ],
   "source": [
    "phi_k0 = 1/(np.sqrt(2*np.pi)*sigm)*np.exp(-1/2*( (k-kk0)/sigm )**2);\n",
    "phi_r0 = np.empty(N, dtype = complex);\n",
    "for nn in range(0,N):\n",
    "    psi0 = 0;\n",
    "    for kn in range(k.size):\n",
    "        psi0 = psi0 + phi_k0[kn]*np.exp(-1j*k[kn]*nn*a);\n",
    "    phi_r0[nn] = psi0;\n",
    "    rho0[nn] = np.abs(psi0);"
   ]
  },
  {
   "cell_type": "code",
   "execution_count": 264,
   "metadata": {},
   "outputs": [
    {
     "name": "stdout",
     "output_type": "stream",
     "text": [
      "[[ 0.+0.j -1.+0.j  0.+0.j ...  0.+0.j  0.+0.j -1.+0.j]\n",
      " [-1.+0.j  0.+0.j -1.+0.j ...  0.+0.j  0.+0.j  0.+0.j]\n",
      " [ 0.+0.j -1.+0.j  0.+0.j ...  0.+0.j  0.+0.j  0.+0.j]\n",
      " ...\n",
      " [ 0.+0.j  0.+0.j  0.+0.j ...  0.+0.j -1.+0.j  0.+0.j]\n",
      " [ 0.+0.j  0.+0.j  0.+0.j ... -1.+0.j  0.+0.j -1.+0.j]\n",
      " [-1.+0.j  0.+0.j  0.+0.j ...  0.+0.j -1.+0.j  0.+0.j]]\n"
     ]
    }
   ],
   "source": [
    "# Construct hamiltonian using occupation number basis and set initial wavefunction\n",
    "asd = np.zeros((N-1,N-1),complex);\n",
    "np.fill_diagonal(asd,-1);\n",
    "b = np.append(asd,np.zeros((N-1,1),complex), axis = 1);\n",
    "c = np.append(np.zeros((1,N),complex),b,axis = 0);\n",
    "hamil = c + np.transpose(c);\n",
    "np.fill_diagonal(hamil,0);\n",
    "psi0 = np.zeros((N,1),complex);\n",
    "rho0 = np.zeros((N,1), float);\n",
    "\n",
    "phi_k0 = 1/(np.sqrt(2*np.pi)*sigm)*np.exp(-1/2*( (k-kk0)/sigm )**2);\n",
    "for nn in range(0,psi0.size):\n",
    "    psi_temp = 0;\n",
    "    for kn in range(k.size):\n",
    "        psi_temp = psi_temp + phi_k0[kn]*np.exp(-1j*(k[kn]*(nn-M)*a));\n",
    "    psi0[nn][0] = psi_temp;\n",
    "    rho0[nn][0] = np.abs(psi0[nn][0]);\n",
    "\n",
    "hamil[N-1][0] = -1; #Apply periodic boundry condition\n",
    "hamil[0][N-1] = -1;\n",
    "print(hamil)"
   ]
  },
  {
   "cell_type": "code",
   "execution_count": 265,
   "metadata": {},
   "outputs": [],
   "source": [
    "# Define time evolution operator\n",
    "dt = 0.1; # Define time step\n",
    "endt = 6000;\n",
    "diaganol = np.ones(N);\n",
    "evol = np.diag(diaganol)+1.j*hamil*dt; # Use first order Taylor expansion to approximate the evolution operator\n",
    "ts = np.arange(0,endt*dt,dt);\n",
    "psis = np.empty(ts.size,dtype = object); # Initiate a container for the wavefunctions at different time slice\n",
    "phis = np.empty(ts.size,dtype = object); # Initiate a container for the phase at different time slice\n",
    "rhos = np.empty(ts.size,dtype = object); # Initiate a container for the probability density at different time slice\n",
    "psis[0]=psi0;\n",
    "for ii in range(1,ts.size):\n",
    "    psis[ii] = np.dot(evol,psis[ii-1]);\n",
    "lattx2 = np.arange(-M*a,a*(M-1),a/10.0);\n",
    "for ii in range(0,ts.size-1):\n",
    "    phis[ii] = np.angle((psis[ii]));\n",
    "    rhos[ii] = np.abs(psis[ii]);"
   ]
  },
  {
   "cell_type": "code",
   "execution_count": 270,
   "metadata": {},
   "outputs": [
    {
     "data": {
      "text/html": [
       "\n",
       "\n",
       "\n",
       "\n",
       "\n",
       "\n",
       "  <div class=\"bk-root\" id=\"722df236-f76d-4d45-bd82-bf8efd7d42bd\" data-root-id=\"53264\"></div>\n"
      ]
     },
     "metadata": {},
     "output_type": "display_data"
    },
    {
     "data": {
      "application/javascript": [
       "(function(root) {\n",
       "  function embed_document(root) {\n",
       "    \n",
       "  var docs_json = {\"4ba5580d-b1c2-47d3-bdd7-fae760b49d26\":{\"roots\":{\"references\":[{\"attributes\":{\"below\":[{\"id\":\"53275\",\"type\":\"LinearAxis\"},{\"id\":\"53311\",\"type\":\"ColorBar\"}],\"center\":[{\"id\":\"53279\",\"type\":\"Grid\"},{\"id\":\"53284\",\"type\":\"Grid\"}],\"left\":[{\"id\":\"53280\",\"type\":\"LinearAxis\"}],\"plot_height\":300,\"plot_width\":700,\"renderers\":[{\"id\":\"53304\",\"type\":\"GlyphRenderer\"},{\"id\":\"53309\",\"type\":\"GlyphRenderer\"}],\"title\":{\"id\":\"53265\",\"type\":\"Title\"},\"toolbar\":{\"id\":\"53291\",\"type\":\"Toolbar\"},\"x_range\":{\"id\":\"53267\",\"type\":\"Range1d\"},\"x_scale\":{\"id\":\"53271\",\"type\":\"LinearScale\"},\"y_range\":{\"id\":\"53269\",\"type\":\"DataRange1d\"},\"y_scale\":{\"id\":\"53273\",\"type\":\"LinearScale\"}},\"id\":\"53264\",\"subtype\":\"Figure\",\"type\":\"Plot\"},{\"attributes\":{\"dimension\":1,\"ticker\":{\"id\":\"53281\",\"type\":\"BasicTicker\"}},\"id\":\"53284\",\"type\":\"Grid\"},{\"attributes\":{\"line_alpha\":0.1,\"line_color\":\"#1f77b4\",\"x\":{\"field\":\"xVal_s\"},\"y\":{\"field\":\"yVal_s\"}},\"id\":\"53308\",\"type\":\"Line\"},{\"attributes\":{\"formatter\":{\"id\":\"54146\",\"type\":\"BasicTickFormatter\"},\"ticker\":{\"id\":\"53281\",\"type\":\"BasicTicker\"}},\"id\":\"53280\",\"type\":\"LinearAxis\"},{\"attributes\":{\"callback\":null,\"data\":{\"xVal_s\":{\"__ndarray__\":\"AAAAAAAAScDLjudUUsBIwJcdz6mkgEjAYqy2/vZASMAtO55TSQFIwPjJhaibwUfAxFht/e2BR8CP51RSQEJHwFp2PKeSAkfAJQUk/OTCRsDxkwtRN4NGwLwi86WJQ0bAh7Ha+tsDRsBSQMJPLsRFwB7PqaSAhEXA6V2R+dJERcC07HhOJQVFwIB7YKN3xUTASwpI+MmFRMAWmS9NHEZEwOEnF6JuBkTArLb+9sDGQ8B4ReZLE4dDwEPUzaBlR0PADmO19bcHQ8Da8ZxKCshCwKWAhJ9ciELAcA9s9K5IQsA7nlNJAQlCwAYtO55TyUHA0rsi86WJQcCdSgpI+ElBwGjZ8ZxKCkHANGjZ8ZzKQMD/9sBG74pAwMqFqJtBS0DAlhSQ8JMLQMDBRu+KzJc/wFhkvjRxGD/A7oGN3hWZPsCFn1yIuhk+wBu9KzJfmj3Astr62wMbPcBI+MmFqJs8wN8VmS9NHDzAdTNo2fGcO8AMUTeDlh07wKJuBi07njrAOYzV1t8eOsDPqaSAhJ85wGbHcyopIDnA/ORC1M2gOMCTAhJ+ciE4wCkg4ScXojfAwD2w0bsiN8BWW397YKM2wO14TiUFJDbAg5Ydz6mkNcAatOx4TiU1wLDRuyLzpTTAR++KzJcmNMDdDFp2PKczwHQqKSDhJzPACkj4yYWoMsChZcdzKikywDiDlh3PqTHAzqBlx3MqMcBkvjRxGKswwPzbAxu9KzDAJPOlicNYL8BQLkTdDFouwHxp4jBWWy3ArKSAhJ9cLMDY3x7Y6F0rwAQbvSsyXyrAMFZbf3tgKcBgkfnSxGEowIzMlyYOYyfAuAc2eldkJsDkQtTNoGUlwBR+ciHqZiTAQLkQdTNoI8Bs9K7IfGkiwJgvTRzGaiHAyGrrbw9sIMDoSxOHsdoewEDCTy5E3RzAmDiM1dbfGsD4rsh8aeIYwFAlBST85BbAqJtBy47nFMAAEn5yIeoSwGCIuhm07BDAcP3tgY3eDcAg6mbQsuMJwNDW3x7Y6AXAkMNYbf3tAcCAYKN3Reb7v+A5lRSQ8PO/wCYOY7X1578As+M5lRTQvwDPqaSAhM8/AMFG74rM5z8Ah7Ha+tvzP6Ctvz2w0fs/IOpm0LLjAUBw/e2Bjd4FQLAQdTNo2QlAACT85ELUDUCom0HLjucQQFAlBST85BJA8K7IfGniFECYOIzV1t8WQEDCTy5E3RhA6EsTh7HaGkCI1dbfHtgcQDBfmjiM1R5AbPSuyHxpIEBAuRB1M2ghQBB+ciHqZiJA5ELUzaBlI0C4BzZ6V2QkQIzMlyYOYyVAXJH50sRhJkAwVlt/e2AnQAQbvSsyXyhA2N8e2OhdKUCopICEn1wqQHxp4jBWWytAUC5E3QxaLEAg86WJw1gtQPi3BzZ6Vy5AyHxp4jBWL0DMoGXHcyowQDiDlh3PqTBAoGXHcyopMUAISPjJhagxQHQqKSDhJzJA3AxadjynMkBI74rMlyYzQLDRuyLzpTNAGLTseE4lNECElh3PqaQ0QOx4TiUFJDVAVFt/e2CjNUDAPbDRuyI2QCgg4ScXojZAlAISfnIhN0D85ELUzaA3QGTHcyopIDhA0KmkgISfOEA4jNXW3x45QKBuBi07njlADFE3g5YdOkB0M2jZ8Zw6QOAVmS9NHDtASPjJhaibO0Cw2vrbAxs8QBy9KzJfmjxAhJ9ciLoZPUDsgY3eFZk9QFhkvjRxGD5AwEbvisyXPkAoKSDhJxc/QJQLUTeDlj9A/vbARu8KQEA0aNnxnEpAQGjZ8ZxKikBAnEoKSPjJQEDSuyLzpQlBQAYtO55TSUFAOp5TSQGJQUBwD2z0rshBQKSAhJ9cCEJA2vGcSgpIQkAOY7X1t4dCQELUzaBlx0JAeEXmSxMHQ0Cstv72wEZDQOAnF6JuhkNAFpkvTRzGQ0BKCkj4yQVEQIB7YKN3RURAtOx4TiWFREDoXZH50sREQB7PqaSABEVAUkDCTy5ERUCGsdr624NFQLwi86WJw0VA8JMLUTcDRkAmBST85EJGQFp2PKeSgkZAjudUUkDCRkDEWG397QFHQPjJhaibQUdALDueU0mBR0BirLb+9sBHQJYdz6mkAEhAyo7nVFJASEAAAAAAAIBIQA==\",\"dtype\":\"float64\",\"shape\":[200]},\"yVal_s\":{\"__ndarray__\":\"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\",\"dtype\":\"float64\",\"shape\":[200]}},\"selected\":{\"id\":\"54153\",\"type\":\"Selection\"},\"selection_policy\":{\"id\":\"54154\",\"type\":\"UnionRenderers\"}},\"id\":\"53299\",\"type\":\"ColumnDataSource\"},{\"attributes\":{\"data_source\":{\"id\":\"53299\",\"type\":\"ColumnDataSource\"},\"glyph\":{\"id\":\"53307\",\"type\":\"Line\"},\"hover_glyph\":null,\"muted_glyph\":null,\"nonselection_glyph\":{\"id\":\"53308\",\"type\":\"Line\"},\"selection_glyph\":null,\"view\":{\"id\":\"53310\",\"type\":\"CDSView\"}},\"id\":\"53309\",\"type\":\"GlyphRenderer\"},{\"attributes\":{\"source\":{\"id\":\"53299\",\"type\":\"ColumnDataSource\"}},\"id\":\"53310\",\"type\":\"CDSView\"},{\"attributes\":{\"active_drag\":\"auto\",\"active_inspect\":\"auto\",\"active_multi\":null,\"active_scroll\":\"auto\",\"active_tap\":\"auto\",\"tools\":[{\"id\":\"53285\",\"type\":\"PanTool\"},{\"id\":\"53286\",\"type\":\"WheelZoomTool\"},{\"id\":\"53287\",\"type\":\"BoxZoomTool\"},{\"id\":\"53288\",\"type\":\"SaveTool\"},{\"id\":\"53289\",\"type\":\"ResetTool\"},{\"id\":\"53290\",\"type\":\"HelpTool\"}]},\"id\":\"53291\",\"type\":\"Toolbar\"},{\"attributes\":{},\"id\":\"53285\",\"type\":\"PanTool\"},{\"attributes\":{},\"id\":\"54148\",\"type\":\"BasicTickFormatter\"},{\"attributes\":{\"callback\":null,\"data\":{\"cVal\":{\"__ndarray__\":\"YuX6ifYhCUD/N3xdrxqGPxrhNJrQ9QjAYtoA2rKHoD+JKW1OEMoIwE28xc/8X6s/yhOlHhqfCMCaUdua6f2yP9Y7b+BsdQjAccA9RX4auD/ZRiTvTU0IwEL1Igx9/7w/6NwfzlwnCMBu8Ugyt8rAP7w8B8/oAwjA1Xd8etDqwj+ir+M1juMHwE5FgVQc1cQ/TFx9h7fGB8AJ0az5lXvGP9uzWDaMrgfAu++iRZ4ayT+eaRAoh4IHwHumhCOZGMC/LYENtxmKCMBJsO0qb0v3P/j/CyZtCXa/65tnPwcK+b8Liv8wYCEJwFHR1gp1IPk/QJZLz9FD9r6iNo5F2yH5v3O4+FH6IQnANLX67/ch+T+859zAloqNvpEB/936Ifm/EUoFUPshCcDMfIo/+yH5P9WsZnadZji+6AOZT/sh+b/RuxhU+yEJwI1m6lL7Ifk/na85ew6j971HzsNT+yH5v1pXQFT7IQnADhIHVPsh+T9KHERidX/GvU7oHlT7Ifm/U69DVPshCcAYESdU+yH5PwAAAAAAAAAAGBEnVPsh+b9Tr0NU+yEJQE7oHlT7Ifk/ShxEYnV/xj0OEgdU+yH5v1pXQFT7IQlAR87DU/sh+T+drzl7DqP3PY1m6lL7Ifm/0bsYVPshCUDoA5lP+yH5P9WsZnadZjg+zHyKP/sh+b8RSgVQ+yEJQJEB/936Ifk/vOfcwJaKjT40tfrv9yH5v3O4+FH6IQlAojaORdsh+T9AlkvP0UP2PlHR1gp1IPm/C4r/MGAhCUDrm2c/Bwr5P/j/CyZtCXY/SbDtKm9L978tgQ23GYoIQHumhCOZGMA/nmkQKIeCB0C776JFnhrJv9uzWDaMrgdACdGs+ZV7xr9MXH2Ht8YHQE5FgVQc1cS/oq/jNY7jB0DVd3x60OrCv7w8B8/oAwhAbvFIMrfKwL/o3B/OXCcIQEL1Igx9/7y/2UYk701NCEBxwD1Ffhq4v9Y7b+BsdQhAmlHbmun9sr/KE6UeGp8IQE28xc/8X6u/iSltThDKCEBi2gDasoegvxrhNJrQ9QhA/zd8Xa8ahr8=\",\"dtype\":\"float64\",\"shape\":[100]},\"xVal\":{\"__ndarray__\":\"AAAAAAAAScAAAAAAAIBIwAAAAAAAAEjAAAAAAACAR8AAAAAAAABHwAAAAAAAgEbAAAAAAAAARsAAAAAAAIBFwAAAAAAAAEXAAAAAAACARMAAAAAAAABEwAAAAAAAgEPAAAAAAAAAQ8AAAAAAAIBCwAAAAAAAAELAAAAAAACAQcAAAAAAAABBwAAAAAAAgEDAAAAAAAAAQMAAAAAAAAA/wAAAAAAAAD7AAAAAAAAAPcAAAAAAAAA8wAAAAAAAADvAAAAAAAAAOsAAAAAAAAA5wAAAAAAAADjAAAAAAAAAN8AAAAAAAAA2wAAAAAAAADXAAAAAAAAANMAAAAAAAAAzwAAAAAAAADLAAAAAAAAAMcAAAAAAAAAwwAAAAAAAAC7AAAAAAAAALMAAAAAAAAAqwAAAAAAAACjAAAAAAAAAJsAAAAAAAAAkwAAAAAAAACLAAAAAAAAAIMAAAAAAAAAcwAAAAAAAABjAAAAAAAAAFMAAAAAAAAAQwAAAAAAAAAjAAAAAAAAAAMAAAAAAAADwvwAAAAAAAAAAAAAAAAAA8D8AAAAAAAAAQAAAAAAAAAhAAAAAAAAAEEAAAAAAAAAUQAAAAAAAABhAAAAAAAAAHEAAAAAAAAAgQAAAAAAAACJAAAAAAAAAJEAAAAAAAAAmQAAAAAAAAChAAAAAAAAAKkAAAAAAAAAsQAAAAAAAAC5AAAAAAAAAMEAAAAAAAAAxQAAAAAAAADJAAAAAAAAAM0AAAAAAAAA0QAAAAAAAADVAAAAAAAAANkAAAAAAAAA3QAAAAAAAADhAAAAAAAAAOUAAAAAAAAA6QAAAAAAAADtAAAAAAAAAPEAAAAAAAAA9QAAAAAAAAD5AAAAAAAAAP0AAAAAAAABAQAAAAAAAgEBAAAAAAAAAQUAAAAAAAIBBQAAAAAAAAEJAAAAAAACAQkAAAAAAAABDQAAAAAAAgENAAAAAAAAAREAAAAAAAIBEQAAAAAAAAEVAAAAAAACARUAAAAAAAABGQAAAAAAAgEZAAAAAAAAAR0AAAAAAAIBHQAAAAAAAAEhAAAAAAACASEA=\",\"dtype\":\"float64\",\"shape\":[100]},\"yVal\":{\"__ndarray__\":\"AAAAAAAAAAAAAAAAAAAAAAAAAAAAAAAAAAAAAAAAAAAAAAAAAAAAAAAAAAAAAAAAAAAAAAAAAAAAAAAAAAAAAAAAAAAAAAAAAAAAAAAAAAAAAAAAAAAAAAAAAAAAAAAAAAAAAAAAAAAAAAAAAAAAAAAAAAAAAAAAAAAAAAAAAAAAAAAAAAAAAAAAAAAAAAAAAAAAAAAAAAAAAAAAAAAAAAAAAAAAAAAAAAAAAAAAAAAAAAAAAAAAAAAAAAAAAAAAAAAAAAAAAAAAAAAAAAAAAAAAAAAAAAAAAAAAAAAAAAAAAAAAAAAAAAAAAAAAAAAAAAAAAAAAAAAAAAAAAAAAAAAAAAAAAAAAAAAAAAAAAAAAAAAAAAAAAAAAAAAAAAAAAAAAAAAAAAAAAAAAAAAAAAAAAAAAAAAAAAAAAAAAAAAAAAAAAAAAAAAAAAAAAAAAAAAAAAAAAAAAAAAAAAAAAAAAAAAAAAAAAAAAAAAAAAAAAAAAAAAAAAAAAAAAAAAAAAAAAAAAAAAAAAAAAAAAAAAAAAAAAAAAAAAAAAAAAAAAAAAAAAAAAAAAAAAAAAAAAAAAAAAAAAAAAAAAAAAAAAAAAAAAAAAAAAAAAAAAAAAAAAAAAAAAAAAAAAAAAAAAAAAAAAAAAAAAAAAAAAAAAAAAAAAAAAAAAAAAAAAAAAAAAAAAAAAAAAAAAAAAAAAAAAAAAAAAAAAAAAAAAAAAAAAAAAAAAAAAAAAAAAAAAAAAAAAAAAAAAAAAAAAAAAAAAAAAAAAAAAAAAAAAAAAAAAAAAAAAAAAAAAAAAAAAAAAAAAAAAAAAAAAAAAAAAAAAAAAAAAAAAAAAAAAAAAAAAAAAAAAAAAAAAAAAAAAAAAAAAAAAAAAAAAAAAAAAAAAAAAAAAAAAAAAAAAAAAAAAAAAAAAAAAAAAAAAAAAAAAAAAAAAAAAAAAAAAAAAAAAAAAAAAAAAAAAAAAAAAAAAAAAAAAAAAAAAAAAAAAAAAAAAAAAAAAAAAAAAAAAAAAAAAAAAAAAAAAAAAAAAAAAAAAAAAAAAAAAAAAAAAAAAAAAA=\",\"dtype\":\"float64\",\"shape\":[100]}},\"selected\":{\"id\":\"54151\",\"type\":\"Selection\"},\"selection_policy\":{\"id\":\"54152\",\"type\":\"UnionRenderers\"}},\"id\":\"53298\",\"type\":\"ColumnDataSource\"},{\"attributes\":{},\"id\":\"53286\",\"type\":\"WheelZoomTool\"},{\"attributes\":{\"overlay\":{\"id\":\"54155\",\"type\":\"BoxAnnotation\"}},\"id\":\"53287\",\"type\":\"BoxZoomTool\"},{\"attributes\":{},\"id\":\"54149\",\"type\":\"BasicTicker\"},{\"attributes\":{},\"id\":\"53288\",\"type\":\"SaveTool\"},{\"attributes\":{},\"id\":\"54150\",\"type\":\"BasicTickFormatter\"},{\"attributes\":{},\"id\":\"53289\",\"type\":\"ResetTool\"},{\"attributes\":{},\"id\":\"54151\",\"type\":\"Selection\"},{\"attributes\":{},\"id\":\"53290\",\"type\":\"HelpTool\"},{\"attributes\":{\"high\":3.1415926535754948,\"low\":-3.1415926535754948,\"palette\":[\"#313695\",\"#4575b4\",\"#74add1\",\"#abd9e9\",\"#e0f3f8\",\"#ffffbf\",\"#fee090\",\"#fdae61\",\"#f46d43\",\"#d73027\",\"#a50026\"]},\"id\":\"53300\",\"type\":\"LinearColorMapper\"},{\"attributes\":{},\"id\":\"54152\",\"type\":\"UnionRenderers\"},{\"attributes\":{\"text\":\"Electron wavefunction\"},\"id\":\"53265\",\"type\":\"Title\"},{\"attributes\":{},\"id\":\"54153\",\"type\":\"Selection\"},{\"attributes\":{},\"id\":\"53281\",\"type\":\"BasicTicker\"},{\"attributes\":{\"fill_color\":{\"field\":\"cVal\",\"transform\":{\"id\":\"53300\",\"type\":\"LinearColorMapper\"}},\"line_color\":{\"field\":\"cVal\",\"transform\":{\"id\":\"53300\",\"type\":\"LinearColorMapper\"}},\"x\":{\"field\":\"xVal\"},\"y\":{\"field\":\"yVal\"}},\"id\":\"53302\",\"type\":\"Circle\"},{\"attributes\":{\"callback\":null,\"end\":55.00000000000001,\"start\":-55.00000000000001},\"id\":\"53267\",\"type\":\"Range1d\"},{\"attributes\":{},\"id\":\"54154\",\"type\":\"UnionRenderers\"},{\"attributes\":{},\"id\":\"54146\",\"type\":\"BasicTickFormatter\"},{\"attributes\":{\"callback\":null},\"id\":\"53269\",\"type\":\"DataRange1d\"},{\"attributes\":{\"bottom_units\":\"screen\",\"fill_alpha\":{\"value\":0.5},\"fill_color\":{\"value\":\"lightgrey\"},\"left_units\":\"screen\",\"level\":\"overlay\",\"line_alpha\":{\"value\":1.0},\"line_color\":{\"value\":\"black\"},\"line_dash\":[4,4],\"line_width\":{\"value\":2},\"render_mode\":\"css\",\"right_units\":\"screen\",\"top_units\":\"screen\"},\"id\":\"54155\",\"type\":\"BoxAnnotation\"},{\"attributes\":{\"fill_alpha\":{\"value\":0.1},\"fill_color\":{\"value\":\"#1f77b4\"},\"line_alpha\":{\"value\":0.1},\"line_color\":{\"value\":\"#1f77b4\"},\"x\":{\"field\":\"xVal\"},\"y\":{\"field\":\"yVal\"}},\"id\":\"53303\",\"type\":\"Circle\"},{\"attributes\":{},\"id\":\"53271\",\"type\":\"LinearScale\"},{\"attributes\":{\"data_source\":{\"id\":\"53298\",\"type\":\"ColumnDataSource\"},\"glyph\":{\"id\":\"53302\",\"type\":\"Circle\"},\"hover_glyph\":null,\"muted_glyph\":null,\"nonselection_glyph\":{\"id\":\"53303\",\"type\":\"Circle\"},\"selection_glyph\":null,\"view\":{\"id\":\"53305\",\"type\":\"CDSView\"}},\"id\":\"53304\",\"type\":\"GlyphRenderer\"},{\"attributes\":{},\"id\":\"53273\",\"type\":\"LinearScale\"},{\"attributes\":{\"source\":{\"id\":\"53298\",\"type\":\"ColumnDataSource\"}},\"id\":\"53305\",\"type\":\"CDSView\"},{\"attributes\":{\"formatter\":{\"id\":\"54148\",\"type\":\"BasicTickFormatter\"},\"ticker\":{\"id\":\"53276\",\"type\":\"BasicTicker\"}},\"id\":\"53275\",\"type\":\"LinearAxis\"},{\"attributes\":{\"color_mapper\":{\"id\":\"53300\",\"type\":\"LinearColorMapper\"},\"formatter\":{\"id\":\"54150\",\"type\":\"BasicTickFormatter\"},\"location\":[150,0],\"orientation\":\"horizontal\",\"ticker\":{\"id\":\"54149\",\"type\":\"BasicTicker\"},\"width\":300},\"id\":\"53311\",\"type\":\"ColorBar\"},{\"attributes\":{},\"id\":\"53276\",\"type\":\"BasicTicker\"},{\"attributes\":{\"ticker\":{\"id\":\"53276\",\"type\":\"BasicTicker\"}},\"id\":\"53279\",\"type\":\"Grid\"},{\"attributes\":{\"line_color\":\"red\",\"x\":{\"field\":\"xVal_s\"},\"y\":{\"field\":\"yVal_s\"}},\"id\":\"53307\",\"type\":\"Line\"}],\"root_ids\":[\"53264\"]},\"title\":\"Bokeh Application\",\"version\":\"1.4.0\"}};\n",
       "  var render_items = [{\"docid\":\"4ba5580d-b1c2-47d3-bdd7-fae760b49d26\",\"roots\":{\"53264\":\"722df236-f76d-4d45-bd82-bf8efd7d42bd\"}}];\n",
       "  root.Bokeh.embed.embed_items_notebook(docs_json, render_items);\n",
       "\n",
       "  }\n",
       "  if (root.Bokeh !== undefined) {\n",
       "    embed_document(root);\n",
       "  } else {\n",
       "    var attempts = 0;\n",
       "    var timer = setInterval(function(root) {\n",
       "      if (root.Bokeh !== undefined) {\n",
       "        clearInterval(timer);\n",
       "        embed_document(root);\n",
       "      } else {\n",
       "        attempts++;\n",
       "        if (attempts > 100) {\n",
       "          clearInterval(timer);\n",
       "          console.log(\"Bokeh: ERROR: Unable to run BokehJS code because BokehJS library is missing\");\n",
       "        }\n",
       "      }\n",
       "    }, 10, root)\n",
       "  }\n",
       "})(window);"
      ],
      "application/vnd.bokehjs_exec.v0+json": ""
     },
     "metadata": {
      "application/vnd.bokehjs_exec.v0+json": {
       "id": "53264"
      }
     },
     "output_type": "display_data"
    }
   ],
   "source": [
    "# Plot the phase of the wavefunction at time = t*dt\n",
    "t = 0;\n",
    "phi_t = np.squeeze(phis[t]);\n",
    "pt = interp1d(lattx,np.squeeze(phis[t]), kind = 'cubic');\n",
    "rho_t = interp1d(lattx,np.squeeze(rhos[t]), kind = 'cubic');\n",
    "wavefunc_t = figure(plot_height=300, plot_width=700, title=\"Electron wavefunction\",x_range=[-1.1*a*M,1.1*a*M]);\n",
    "source4 = ColumnDataSource(data = {'xVal': lattx, 'yVal' : latty, 'cVal': phi_t});\n",
    "lattx_smooth = np.linspace(-a*M,a*(M-1),num = 200, endpoint = True);\n",
    "source5 = ColumnDataSource(data = {'xVal_s': lattx_smooth, 'yVal_s': rho_t(lattx_smooth)/rho_t(lattx_smooth).max()});\n",
    "\n",
    "#phis_smooth = np.empty(ts.size,dtype = object); # Initiate a container for the phase at different time slice\n",
    "#for ii in range(0,ts.size-1): # Option 1: use smoothed curve to show phase variation\n",
    "#    phis_smooth[ii] = interp1d(lattx,np.squeeze(phis[ii]), kind = 'cubic');\n",
    "#wavefunc_t.line('xVal','yVal', source = source4); \n",
    "\n",
    "mapper = linear_cmap(field_name = 'cVal', palette = RdYlBu11, low = min(phi_t), high = max(phi_t));\n",
    "wavefunc_t.circle('xVal','yVal',source = source4, size = 4, line_color = mapper, fill_color = mapper);\n",
    "wavefunc_t.line('xVal_s','yVal_s',source = source5, line_color = 'red');\n",
    "color_bar = ColorBar(color_mapper = mapper['transform'], width = 300, location = (150,0), orientation = \"horizontal\");\n",
    "wavefunc_t.add_layout(color_bar, 'below');\n",
    "show(wavefunc_t)"
   ]
  },
  {
   "cell_type": "code",
   "execution_count": 267,
   "metadata": {},
   "outputs": [],
   "source": [
    "def update(time):\n",
    "    time = int(time/dt);\n",
    "    pt = interp1d(lattx,np.squeeze(phis[t]), kind = 'cubic');\n",
    "    rho_t = interp1d(lattx,np.squeeze(rhos[time]), kind = 'cubic');\n",
    "    source4.data['cVal'] = np.squeeze(phis[time]);\n",
    "    source5.data['yVal_s'] = rho_t(lattx_smooth)/rho_t(lattx_smooth).max();\n",
    "    \n",
    "    push_notebook(wavefunc_t)"
   ]
  },
  {
   "cell_type": "code",
   "execution_count": 268,
   "metadata": {},
   "outputs": [
    {
     "data": {
      "text/html": [
       "\n",
       "\n",
       "\n",
       "\n",
       "\n",
       "\n",
       "  <div class=\"bk-root\" id=\"7ee87bbb-9e94-4475-9f92-feb988d50150\" data-root-id=\"52182\"></div>\n"
      ]
     },
     "metadata": {},
     "output_type": "display_data"
    },
    {
     "data": {
      "application/javascript": [
       "(function(root) {\n",
       "  function embed_document(root) {\n",
       "    \n",
       "  var docs_json = {\"82ffc0c1-c7ea-40a6-8945-09180dceccc7\":{\"roots\":{\"references\":[{\"attributes\":{\"below\":[{\"id\":\"52193\",\"type\":\"LinearAxis\"},{\"id\":\"52229\",\"type\":\"ColorBar\"}],\"center\":[{\"id\":\"52197\",\"type\":\"Grid\"},{\"id\":\"52202\",\"type\":\"Grid\"}],\"left\":[{\"id\":\"52198\",\"type\":\"LinearAxis\"}],\"plot_height\":300,\"plot_width\":700,\"renderers\":[{\"id\":\"52222\",\"type\":\"GlyphRenderer\"},{\"id\":\"52227\",\"type\":\"GlyphRenderer\"}],\"title\":{\"id\":\"52183\",\"type\":\"Title\"},\"toolbar\":{\"id\":\"52209\",\"type\":\"Toolbar\"},\"x_range\":{\"id\":\"52185\",\"type\":\"Range1d\"},\"x_scale\":{\"id\":\"52189\",\"type\":\"LinearScale\"},\"y_range\":{\"id\":\"52187\",\"type\":\"DataRange1d\"},\"y_scale\":{\"id\":\"52191\",\"type\":\"LinearScale\"}},\"id\":\"52182\",\"subtype\":\"Figure\",\"type\":\"Plot\"},{\"attributes\":{\"high\":3.1415926535754948,\"low\":-3.1415926535754948,\"palette\":[\"#313695\",\"#4575b4\",\"#74add1\",\"#abd9e9\",\"#e0f3f8\",\"#ffffbf\",\"#fee090\",\"#fdae61\",\"#f46d43\",\"#d73027\",\"#a50026\"]},\"id\":\"52218\",\"type\":\"LinearColorMapper\"},{\"attributes\":{},\"id\":\"53054\",\"type\":\"BasicTickFormatter\"},{\"attributes\":{\"active_drag\":\"auto\",\"active_inspect\":\"auto\",\"active_multi\":null,\"active_scroll\":\"auto\",\"active_tap\":\"auto\",\"tools\":[{\"id\":\"52203\",\"type\":\"PanTool\"},{\"id\":\"52204\",\"type\":\"WheelZoomTool\"},{\"id\":\"52205\",\"type\":\"BoxZoomTool\"},{\"id\":\"52206\",\"type\":\"SaveTool\"},{\"id\":\"52207\",\"type\":\"ResetTool\"},{\"id\":\"52208\",\"type\":\"HelpTool\"}]},\"id\":\"52209\",\"type\":\"Toolbar\"},{\"attributes\":{},\"id\":\"52203\",\"type\":\"PanTool\"},{\"attributes\":{},\"id\":\"53052\",\"type\":\"BasicTickFormatter\"},{\"attributes\":{},\"id\":\"52204\",\"type\":\"WheelZoomTool\"},{\"attributes\":{},\"id\":\"53055\",\"type\":\"BasicTicker\"},{\"attributes\":{\"overlay\":{\"id\":\"53061\",\"type\":\"BoxAnnotation\"}},\"id\":\"52205\",\"type\":\"BoxZoomTool\"},{\"attributes\":{},\"id\":\"53056\",\"type\":\"BasicTickFormatter\"},{\"attributes\":{},\"id\":\"52206\",\"type\":\"SaveTool\"},{\"attributes\":{},\"id\":\"53057\",\"type\":\"Selection\"},{\"attributes\":{\"callback\":null,\"data\":{\"xVal_s\":{\"__ndarray__\":\"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\",\"dtype\":\"float64\",\"shape\":[200]},\"yVal_s\":{\"__ndarray__\":\"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\",\"dtype\":\"float64\",\"shape\":[200]}},\"selected\":{\"id\":\"53059\",\"type\":\"Selection\"},\"selection_policy\":{\"id\":\"53060\",\"type\":\"UnionRenderers\"}},\"id\":\"52217\",\"type\":\"ColumnDataSource\"},{\"attributes\":{},\"id\":\"52207\",\"type\":\"ResetTool\"},{\"attributes\":{},\"id\":\"53058\",\"type\":\"UnionRenderers\"},{\"attributes\":{\"text\":\"Electron wavefunction\"},\"id\":\"52183\",\"type\":\"Title\"},{\"attributes\":{},\"id\":\"52208\",\"type\":\"HelpTool\"},{\"attributes\":{},\"id\":\"53059\",\"type\":\"Selection\"},{\"attributes\":{\"callback\":null,\"end\":55.00000000000001,\"start\":-55.00000000000001},\"id\":\"52185\",\"type\":\"Range1d\"},{\"attributes\":{},\"id\":\"53060\",\"type\":\"UnionRenderers\"},{\"attributes\":{\"callback\":null},\"id\":\"52187\",\"type\":\"DataRange1d\"},{\"attributes\":{\"callback\":null,\"data\":{\"cVal\":{\"__ndarray__\":\"YuX6ifYhCUD/N3xdrxqGPxrhNJrQ9QjAYtoA2rKHoD+JKW1OEMoIwE28xc/8X6s/yhOlHhqfCMCaUdua6f2yP9Y7b+BsdQjAccA9RX4auD/ZRiTvTU0IwEL1Igx9/7w/6NwfzlwnCMBu8Ugyt8rAP7w8B8/oAwjA1Xd8etDqwj+ir+M1juMHwE5FgVQc1cQ/TFx9h7fGB8AJ0az5lXvGP9uzWDaMrgfAu++iRZ4ayT+eaRAoh4IHwHumhCOZGMC/LYENtxmKCMBJsO0qb0v3P/j/CyZtCXa/65tnPwcK+b8Liv8wYCEJwFHR1gp1IPk/QJZLz9FD9r6iNo5F2yH5v3O4+FH6IQnANLX67/ch+T+859zAloqNvpEB/936Ifm/EUoFUPshCcDMfIo/+yH5P9WsZnadZji+6AOZT/sh+b/RuxhU+yEJwI1m6lL7Ifk/na85ew6j971HzsNT+yH5v1pXQFT7IQnADhIHVPsh+T9KHERidX/GvU7oHlT7Ifm/U69DVPshCcAYESdU+yH5PwAAAAAAAAAAGBEnVPsh+b9Tr0NU+yEJQE7oHlT7Ifk/ShxEYnV/xj0OEgdU+yH5v1pXQFT7IQlAR87DU/sh+T+drzl7DqP3PY1m6lL7Ifm/0bsYVPshCUDoA5lP+yH5P9WsZnadZjg+zHyKP/sh+b8RSgVQ+yEJQJEB/936Ifk/vOfcwJaKjT40tfrv9yH5v3O4+FH6IQlAojaORdsh+T9AlkvP0UP2PlHR1gp1IPm/C4r/MGAhCUDrm2c/Bwr5P/j/CyZtCXY/SbDtKm9L978tgQ23GYoIQHumhCOZGMA/nmkQKIeCB0C776JFnhrJv9uzWDaMrgdACdGs+ZV7xr9MXH2Ht8YHQE5FgVQc1cS/oq/jNY7jB0DVd3x60OrCv7w8B8/oAwhAbvFIMrfKwL/o3B/OXCcIQEL1Igx9/7y/2UYk701NCEBxwD1Ffhq4v9Y7b+BsdQhAmlHbmun9sr/KE6UeGp8IQE28xc/8X6u/iSltThDKCEBi2gDasoegvxrhNJrQ9QhA/zd8Xa8ahr8=\",\"dtype\":\"float64\",\"shape\":[100]},\"xVal\":{\"__ndarray__\":\"AAAAAAAAScAAAAAAAIBIwAAAAAAAAEjAAAAAAACAR8AAAAAAAABHwAAAAAAAgEbAAAAAAAAARsAAAAAAAIBFwAAAAAAAAEXAAAAAAACARMAAAAAAAABEwAAAAAAAgEPAAAAAAAAAQ8AAAAAAAIBCwAAAAAAAAELAAAAAAACAQcAAAAAAAABBwAAAAAAAgEDAAAAAAAAAQMAAAAAAAAA/wAAAAAAAAD7AAAAAAAAAPcAAAAAAAAA8wAAAAAAAADvAAAAAAAAAOsAAAAAAAAA5wAAAAAAAADjAAAAAAAAAN8AAAAAAAAA2wAAAAAAAADXAAAAAAAAANMAAAAAAAAAzwAAAAAAAADLAAAAAAAAAMcAAAAAAAAAwwAAAAAAAAC7AAAAAAAAALMAAAAAAAAAqwAAAAAAAACjAAAAAAAAAJsAAAAAAAAAkwAAAAAAAACLAAAAAAAAAIMAAAAAAAAAcwAAAAAAAABjAAAAAAAAAFMAAAAAAAAAQwAAAAAAAAAjAAAAAAAAAAMAAAAAAAADwvwAAAAAAAAAAAAAAAAAA8D8AAAAAAAAAQAAAAAAAAAhAAAAAAAAAEEAAAAAAAAAUQAAAAAAAABhAAAAAAAAAHEAAAAAAAAAgQAAAAAAAACJAAAAAAAAAJEAAAAAAAAAmQAAAAAAAAChAAAAAAAAAKkAAAAAAAAAsQAAAAAAAAC5AAAAAAAAAMEAAAAAAAAAxQAAAAAAAADJAAAAAAAAAM0AAAAAAAAA0QAAAAAAAADVAAAAAAAAANkAAAAAAAAA3QAAAAAAAADhAAAAAAAAAOUAAAAAAAAA6QAAAAAAAADtAAAAAAAAAPEAAAAAAAAA9QAAAAAAAAD5AAAAAAAAAP0AAAAAAAABAQAAAAAAAgEBAAAAAAAAAQUAAAAAAAIBBQAAAAAAAAEJAAAAAAACAQkAAAAAAAABDQAAAAAAAgENAAAAAAAAAREAAAAAAAIBEQAAAAAAAAEVAAAAAAACARUAAAAAAAABGQAAAAAAAgEZAAAAAAAAAR0AAAAAAAIBHQAAAAAAAAEhAAAAAAACASEA=\",\"dtype\":\"float64\",\"shape\":[100]},\"yVal\":{\"__ndarray__\":\"AAAAAAAAAAAAAAAAAAAAAAAAAAAAAAAAAAAAAAAAAAAAAAAAAAAAAAAAAAAAAAAAAAAAAAAAAAAAAAAAAAAAAAAAAAAAAAAAAAAAAAAAAAAAAAAAAAAAAAAAAAAAAAAAAAAAAAAAAAAAAAAAAAAAAAAAAAAAAAAAAAAAAAAAAAAAAAAAAAAAAAAAAAAAAAAAAAAAAAAAAAAAAAAAAAAAAAAAAAAAAAAAAAAAAAAAAAAAAAAAAAAAAAAAAAAAAAAAAAAAAAAAAAAAAAAAAAAAAAAAAAAAAAAAAAAAAAAAAAAAAAAAAAAAAAAAAAAAAAAAAAAAAAAAAAAAAAAAAAAAAAAAAAAAAAAAAAAAAAAAAAAAAAAAAAAAAAAAAAAAAAAAAAAAAAAAAAAAAAAAAAAAAAAAAAAAAAAAAAAAAAAAAAAAAAAAAAAAAAAAAAAAAAAAAAAAAAAAAAAAAAAAAAAAAAAAAAAAAAAAAAAAAAAAAAAAAAAAAAAAAAAAAAAAAAAAAAAAAAAAAAAAAAAAAAAAAAAAAAAAAAAAAAAAAAAAAAAAAAAAAAAAAAAAAAAAAAAAAAAAAAAAAAAAAAAAAAAAAAAAAAAAAAAAAAAAAAAAAAAAAAAAAAAAAAAAAAAAAAAAAAAAAAAAAAAAAAAAAAAAAAAAAAAAAAAAAAAAAAAAAAAAAAAAAAAAAAAAAAAAAAAAAAAAAAAAAAAAAAAAAAAAAAAAAAAAAAAAAAAAAAAAAAAAAAAAAAAAAAAAAAAAAAAAAAAAAAAAAAAAAAAAAAAAAAAAAAAAAAAAAAAAAAAAAAAAAAAAAAAAAAAAAAAAAAAAAAAAAAAAAAAAAAAAAAAAAAAAAAAAAAAAAAAAAAAAAAAAAAAAAAAAAAAAAAAAAAAAAAAAAAAAAAAAAAAAAAAAAAAAAAAAAAAAAAAAAAAAAAAAAAAAAAAAAAAAAAAAAAAAAAAAAAAAAAAAAAAAAAAAAAAAAAAAAAAAAAAAAAAAAAAAAAAAAAAAAAAAAAAAAAAAAAAAAAAAAAAAAAAAAAAAAAAAAAAAAAAAAAAAAAAAAAA=\",\"dtype\":\"float64\",\"shape\":[100]}},\"selected\":{\"id\":\"53057\",\"type\":\"Selection\"},\"selection_policy\":{\"id\":\"53058\",\"type\":\"UnionRenderers\"}},\"id\":\"52216\",\"type\":\"ColumnDataSource\"},{\"attributes\":{\"fill_color\":{\"field\":\"cVal\",\"transform\":{\"id\":\"52218\",\"type\":\"LinearColorMapper\"}},\"line_color\":{\"field\":\"cVal\",\"transform\":{\"id\":\"52218\",\"type\":\"LinearColorMapper\"}},\"size\":{\"units\":\"screen\",\"value\":10},\"x\":{\"field\":\"xVal\"},\"y\":{\"field\":\"yVal\"}},\"id\":\"52220\",\"type\":\"Circle\"},{\"attributes\":{\"bottom_units\":\"screen\",\"fill_alpha\":{\"value\":0.5},\"fill_color\":{\"value\":\"lightgrey\"},\"left_units\":\"screen\",\"level\":\"overlay\",\"line_alpha\":{\"value\":1.0},\"line_color\":{\"value\":\"black\"},\"line_dash\":[4,4],\"line_width\":{\"value\":2},\"render_mode\":\"css\",\"right_units\":\"screen\",\"top_units\":\"screen\"},\"id\":\"53061\",\"type\":\"BoxAnnotation\"},{\"attributes\":{},\"id\":\"52189\",\"type\":\"LinearScale\"},{\"attributes\":{\"fill_alpha\":{\"value\":0.1},\"fill_color\":{\"value\":\"#1f77b4\"},\"line_alpha\":{\"value\":0.1},\"line_color\":{\"value\":\"#1f77b4\"},\"size\":{\"units\":\"screen\",\"value\":10},\"x\":{\"field\":\"xVal\"},\"y\":{\"field\":\"yVal\"}},\"id\":\"52221\",\"type\":\"Circle\"},{\"attributes\":{},\"id\":\"52191\",\"type\":\"LinearScale\"},{\"attributes\":{\"data_source\":{\"id\":\"52216\",\"type\":\"ColumnDataSource\"},\"glyph\":{\"id\":\"52220\",\"type\":\"Circle\"},\"hover_glyph\":null,\"muted_glyph\":null,\"nonselection_glyph\":{\"id\":\"52221\",\"type\":\"Circle\"},\"selection_glyph\":null,\"view\":{\"id\":\"52223\",\"type\":\"CDSView\"}},\"id\":\"52222\",\"type\":\"GlyphRenderer\"},{\"attributes\":{\"formatter\":{\"id\":\"53054\",\"type\":\"BasicTickFormatter\"},\"ticker\":{\"id\":\"52194\",\"type\":\"BasicTicker\"}},\"id\":\"52193\",\"type\":\"LinearAxis\"},{\"attributes\":{\"source\":{\"id\":\"52216\",\"type\":\"ColumnDataSource\"}},\"id\":\"52223\",\"type\":\"CDSView\"},{\"attributes\":{},\"id\":\"52194\",\"type\":\"BasicTicker\"},{\"attributes\":{\"color_mapper\":{\"id\":\"52218\",\"type\":\"LinearColorMapper\"},\"formatter\":{\"id\":\"53056\",\"type\":\"BasicTickFormatter\"},\"location\":[150,0],\"orientation\":\"horizontal\",\"ticker\":{\"id\":\"53055\",\"type\":\"BasicTicker\"},\"width\":300},\"id\":\"52229\",\"type\":\"ColorBar\"},{\"attributes\":{\"ticker\":{\"id\":\"52194\",\"type\":\"BasicTicker\"}},\"id\":\"52197\",\"type\":\"Grid\"},{\"attributes\":{\"line_color\":\"red\",\"x\":{\"field\":\"xVal_s\"},\"y\":{\"field\":\"yVal_s\"}},\"id\":\"52225\",\"type\":\"Line\"},{\"attributes\":{\"formatter\":{\"id\":\"53052\",\"type\":\"BasicTickFormatter\"},\"ticker\":{\"id\":\"52199\",\"type\":\"BasicTicker\"}},\"id\":\"52198\",\"type\":\"LinearAxis\"},{\"attributes\":{\"line_alpha\":0.1,\"line_color\":\"#1f77b4\",\"x\":{\"field\":\"xVal_s\"},\"y\":{\"field\":\"yVal_s\"}},\"id\":\"52226\",\"type\":\"Line\"},{\"attributes\":{},\"id\":\"52199\",\"type\":\"BasicTicker\"},{\"attributes\":{\"data_source\":{\"id\":\"52217\",\"type\":\"ColumnDataSource\"},\"glyph\":{\"id\":\"52225\",\"type\":\"Line\"},\"hover_glyph\":null,\"muted_glyph\":null,\"nonselection_glyph\":{\"id\":\"52226\",\"type\":\"Line\"},\"selection_glyph\":null,\"view\":{\"id\":\"52228\",\"type\":\"CDSView\"}},\"id\":\"52227\",\"type\":\"GlyphRenderer\"},{\"attributes\":{\"dimension\":1,\"ticker\":{\"id\":\"52199\",\"type\":\"BasicTicker\"}},\"id\":\"52202\",\"type\":\"Grid\"},{\"attributes\":{\"source\":{\"id\":\"52217\",\"type\":\"ColumnDataSource\"}},\"id\":\"52228\",\"type\":\"CDSView\"}],\"root_ids\":[\"52182\"]},\"title\":\"Bokeh Application\",\"version\":\"1.4.0\"}};\n",
       "  var render_items = [{\"docid\":\"82ffc0c1-c7ea-40a6-8945-09180dceccc7\",\"notebook_comms_target\":\"53134\",\"roots\":{\"52182\":\"7ee87bbb-9e94-4475-9f92-feb988d50150\"}}];\n",
       "  root.Bokeh.embed.embed_items_notebook(docs_json, render_items);\n",
       "\n",
       "  }\n",
       "  if (root.Bokeh !== undefined) {\n",
       "    embed_document(root);\n",
       "  } else {\n",
       "    var attempts = 0;\n",
       "    var timer = setInterval(function(root) {\n",
       "      if (root.Bokeh !== undefined) {\n",
       "        clearInterval(timer);\n",
       "        embed_document(root);\n",
       "      } else {\n",
       "        attempts++;\n",
       "        if (attempts > 100) {\n",
       "          clearInterval(timer);\n",
       "          console.log(\"Bokeh: ERROR: Unable to run BokehJS code because BokehJS library is missing\");\n",
       "        }\n",
       "      }\n",
       "    }, 10, root)\n",
       "  }\n",
       "})(window);"
      ],
      "application/vnd.bokehjs_exec.v0+json": ""
     },
     "metadata": {
      "application/vnd.bokehjs_exec.v0+json": {
       "id": "52182"
      }
     },
     "output_type": "display_data"
    }
   ],
   "source": [
    "show(wavefunc_t, notebook_handle = True);"
   ]
  },
  {
   "cell_type": "code",
   "execution_count": 269,
   "metadata": {},
   "outputs": [
    {
     "data": {
      "application/vnd.jupyter.widget-view+json": {
       "model_id": "7f32441f453f4eceb7e8f4b57e23919d",
       "version_major": 2,
       "version_minor": 0
      },
      "text/plain": [
       "interactive(children=(FloatSlider(value=0.0, description='time', max=599.8000000000001), Output()), _dom_class…"
      ]
     },
     "metadata": {},
     "output_type": "display_data"
    }
   ],
   "source": [
    "interact(update, time = ipw.FloatSlider(min = 0, max = (endt-2)*dt, step = dt, value = 0));"
   ]
  },
  {
   "cell_type": "code",
   "execution_count": null,
   "metadata": {},
   "outputs": [],
   "source": [
    "#This animation is not functioning due to the current incompatibility between bokeh and tornado, should be resolved in furture updates.\n",
    "\n",
    "# def auto_update():\n",
    "#     global time;\n",
    "#     source_tt.data['cVal'] = np.squeeze(phis[t])\n",
    "#     source_tt.data['yVal'] = interp1d(lattice,np.squeeze(rhos[t]), kind = 'cubic')\n",
    "#     source_tt.trigger('data', source_tt.data, source_tt.data)\n",
    "#     if time < endt.size - 1:\n",
    "#         time = time + 1\n",
    "#     else:\n",
    "#         time = 0\n",
    "#         source_tt.data['cVal'] = np.squeeze(phis[0])\n",
    "#         source_tt.data['yVal'] = interp1d(lattice,np.squeeze(rhos[0]), kind = 'cubic')"
   ]
  },
  {
   "cell_type": "code",
   "execution_count": null,
   "metadata": {},
   "outputs": [],
   "source": [
    "#This animation is not functioning due to the current incompatibility between bokeh and tornado, should be resolved in furture updates.\n",
    "\n",
    "# session = push_session(curdoc())\n",
    "# time = 0; # set initial frame\n",
    "# source_tt = ColumnDataSource(data = {'xVal': lattx, 'yVal' : rhos[0], 'cVal': np.zeros(lattx.size)})\n",
    "# wavefunc_tt = figure(plot_height=300, plot_width=700, title=\"Evolution of electron wavefunction\",x_range=[-1.1*a*M,1.1*a*M]);\n",
    "\n",
    "# mapper = linear_cmap(field_name = 'cVal', palette = Spectral6, low = 0, high = 1);\n",
    "# wavefunc_tt.line(x = 'xVal', y = 'yVal', source = source_tt, line_color = 'red');\n",
    "# wavefunc_tt.circle('xPos','yPos',source = source4, size = 10, line_color = mapper, fill_color = mapper);\n",
    "\n",
    "# curdoc().add_periodic_callback(auto_update, 67)\n",
    "\n",
    "# session.show()\n",
    "# session.loop_until_closed()"
   ]
  },
  {
   "cell_type": "code",
   "execution_count": null,
   "metadata": {},
   "outputs": [],
   "source": []
  },
  {
   "cell_type": "code",
   "execution_count": null,
   "metadata": {},
   "outputs": [],
   "source": []
  }
 ],
 "metadata": {
  "kernelspec": {
   "display_name": "Python 3",
   "language": "python",
   "name": "python3"
  },
  "language_info": {
   "codemirror_mode": {
    "name": "ipython",
    "version": 3
   },
   "file_extension": ".py",
   "mimetype": "text/x-python",
   "name": "python",
   "nbconvert_exporter": "python",
   "pygments_lexer": "ipython3",
   "version": "3.6.9"
  }
 },
 "nbformat": 4,
 "nbformat_minor": 4
}
