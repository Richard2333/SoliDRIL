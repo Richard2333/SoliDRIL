{
 "cells": [
  {
   "cell_type": "code",
   "execution_count": 19,
   "metadata": {},
   "outputs": [
    {
     "data": {
      "text/html": [
       "\n",
       "    <div class=\"bk-root\">\n",
       "        <a href=\"https://bokeh.pydata.org\" target=\"_blank\" class=\"bk-logo bk-logo-small bk-logo-notebook\"></a>\n",
       "        <span id=\"3ad335d4-cbe1-4c24-a2b5-88f6cecf6440\">Loading BokehJS ...</span>\n",
       "    </div>"
      ]
     },
     "metadata": {},
     "output_type": "display_data"
    },
    {
     "data": {
      "application/javascript": [
       "\n",
       "(function(root) {\n",
       "  function now() {\n",
       "    return new Date();\n",
       "  }\n",
       "\n",
       "  var force = true;\n",
       "\n",
       "  if (typeof (root._bokeh_onload_callbacks) === \"undefined\" || force === true) {\n",
       "    root._bokeh_onload_callbacks = [];\n",
       "    root._bokeh_is_loading = undefined;\n",
       "  }\n",
       "\n",
       "  var JS_MIME_TYPE = 'application/javascript';\n",
       "  var HTML_MIME_TYPE = 'text/html';\n",
       "  var EXEC_MIME_TYPE = 'application/vnd.bokehjs_exec.v0+json';\n",
       "  var CLASS_NAME = 'output_bokeh rendered_html';\n",
       "\n",
       "  /**\n",
       "   * Render data to the DOM node\n",
       "   */\n",
       "  function render(props, node) {\n",
       "    var script = document.createElement(\"script\");\n",
       "    node.appendChild(script);\n",
       "  }\n",
       "\n",
       "  /**\n",
       "   * Handle when an output is cleared or removed\n",
       "   */\n",
       "  function handleClearOutput(event, handle) {\n",
       "    var cell = handle.cell;\n",
       "\n",
       "    var id = cell.output_area._bokeh_element_id;\n",
       "    var server_id = cell.output_area._bokeh_server_id;\n",
       "    // Clean up Bokeh references\n",
       "    if (id != null && id in Bokeh.index) {\n",
       "      Bokeh.index[id].model.document.clear();\n",
       "      delete Bokeh.index[id];\n",
       "    }\n",
       "\n",
       "    if (server_id !== undefined) {\n",
       "      // Clean up Bokeh references\n",
       "      var cmd = \"from bokeh.io.state import curstate; print(curstate().uuid_to_server['\" + server_id + \"'].get_sessions()[0].document.roots[0]._id)\";\n",
       "      cell.notebook.kernel.execute(cmd, {\n",
       "        iopub: {\n",
       "          output: function(msg) {\n",
       "            var id = msg.content.text.trim();\n",
       "            if (id in Bokeh.index) {\n",
       "              Bokeh.index[id].model.document.clear();\n",
       "              delete Bokeh.index[id];\n",
       "            }\n",
       "          }\n",
       "        }\n",
       "      });\n",
       "      // Destroy server and session\n",
       "      var cmd = \"import bokeh.io.notebook as ion; ion.destroy_server('\" + server_id + \"')\";\n",
       "      cell.notebook.kernel.execute(cmd);\n",
       "    }\n",
       "  }\n",
       "\n",
       "  /**\n",
       "   * Handle when a new output is added\n",
       "   */\n",
       "  function handleAddOutput(event, handle) {\n",
       "    var output_area = handle.output_area;\n",
       "    var output = handle.output;\n",
       "\n",
       "    // limit handleAddOutput to display_data with EXEC_MIME_TYPE content only\n",
       "    if ((output.output_type != \"display_data\") || (!output.data.hasOwnProperty(EXEC_MIME_TYPE))) {\n",
       "      return\n",
       "    }\n",
       "\n",
       "    var toinsert = output_area.element.find(\".\" + CLASS_NAME.split(' ')[0]);\n",
       "\n",
       "    if (output.metadata[EXEC_MIME_TYPE][\"id\"] !== undefined) {\n",
       "      toinsert[toinsert.length - 1].firstChild.textContent = output.data[JS_MIME_TYPE];\n",
       "      // store reference to embed id on output_area\n",
       "      output_area._bokeh_element_id = output.metadata[EXEC_MIME_TYPE][\"id\"];\n",
       "    }\n",
       "    if (output.metadata[EXEC_MIME_TYPE][\"server_id\"] !== undefined) {\n",
       "      var bk_div = document.createElement(\"div\");\n",
       "      bk_div.innerHTML = output.data[HTML_MIME_TYPE];\n",
       "      var script_attrs = bk_div.children[0].attributes;\n",
       "      for (var i = 0; i < script_attrs.length; i++) {\n",
       "        toinsert[toinsert.length - 1].firstChild.setAttribute(script_attrs[i].name, script_attrs[i].value);\n",
       "      }\n",
       "      // store reference to server id on output_area\n",
       "      output_area._bokeh_server_id = output.metadata[EXEC_MIME_TYPE][\"server_id\"];\n",
       "    }\n",
       "  }\n",
       "\n",
       "  function register_renderer(events, OutputArea) {\n",
       "\n",
       "    function append_mime(data, metadata, element) {\n",
       "      // create a DOM node to render to\n",
       "      var toinsert = this.create_output_subarea(\n",
       "        metadata,\n",
       "        CLASS_NAME,\n",
       "        EXEC_MIME_TYPE\n",
       "      );\n",
       "      this.keyboard_manager.register_events(toinsert);\n",
       "      // Render to node\n",
       "      var props = {data: data, metadata: metadata[EXEC_MIME_TYPE]};\n",
       "      render(props, toinsert[toinsert.length - 1]);\n",
       "      element.append(toinsert);\n",
       "      return toinsert\n",
       "    }\n",
       "\n",
       "    /* Handle when an output is cleared or removed */\n",
       "    events.on('clear_output.CodeCell', handleClearOutput);\n",
       "    events.on('delete.Cell', handleClearOutput);\n",
       "\n",
       "    /* Handle when a new output is added */\n",
       "    events.on('output_added.OutputArea', handleAddOutput);\n",
       "\n",
       "    /**\n",
       "     * Register the mime type and append_mime function with output_area\n",
       "     */\n",
       "    OutputArea.prototype.register_mime_type(EXEC_MIME_TYPE, append_mime, {\n",
       "      /* Is output safe? */\n",
       "      safe: true,\n",
       "      /* Index of renderer in `output_area.display_order` */\n",
       "      index: 0\n",
       "    });\n",
       "  }\n",
       "\n",
       "  // register the mime type if in Jupyter Notebook environment and previously unregistered\n",
       "  if (root.Jupyter !== undefined) {\n",
       "    var events = require('base/js/events');\n",
       "    var OutputArea = require('notebook/js/outputarea').OutputArea;\n",
       "\n",
       "    if (OutputArea.prototype.mime_types().indexOf(EXEC_MIME_TYPE) == -1) {\n",
       "      register_renderer(events, OutputArea);\n",
       "    }\n",
       "  }\n",
       "\n",
       "  \n",
       "  if (typeof (root._bokeh_timeout) === \"undefined\" || force === true) {\n",
       "    root._bokeh_timeout = Date.now() + 5000;\n",
       "    root._bokeh_failed_load = false;\n",
       "  }\n",
       "\n",
       "  var NB_LOAD_WARNING = {'data': {'text/html':\n",
       "     \"<div style='background-color: #fdd'>\\n\"+\n",
       "     \"<p>\\n\"+\n",
       "     \"BokehJS does not appear to have successfully loaded. If loading BokehJS from CDN, this \\n\"+\n",
       "     \"may be due to a slow or bad network connection. Possible fixes:\\n\"+\n",
       "     \"</p>\\n\"+\n",
       "     \"<ul>\\n\"+\n",
       "     \"<li>re-rerun `output_notebook()` to attempt to load from CDN again, or</li>\\n\"+\n",
       "     \"<li>use INLINE resources instead, as so:</li>\\n\"+\n",
       "     \"</ul>\\n\"+\n",
       "     \"<code>\\n\"+\n",
       "     \"from bokeh.resources import INLINE\\n\"+\n",
       "     \"output_notebook(resources=INLINE)\\n\"+\n",
       "     \"</code>\\n\"+\n",
       "     \"</div>\"}};\n",
       "\n",
       "  function display_loaded() {\n",
       "    var el = document.getElementById(\"3ad335d4-cbe1-4c24-a2b5-88f6cecf6440\");\n",
       "    if (el != null) {\n",
       "      el.textContent = \"BokehJS is loading...\";\n",
       "    }\n",
       "    if (root.Bokeh !== undefined) {\n",
       "      if (el != null) {\n",
       "        el.textContent = \"BokehJS \" + root.Bokeh.version + \" successfully loaded.\";\n",
       "      }\n",
       "    } else if (Date.now() < root._bokeh_timeout) {\n",
       "      setTimeout(display_loaded, 100)\n",
       "    }\n",
       "  }\n",
       "\n",
       "\n",
       "  function run_callbacks() {\n",
       "    try {\n",
       "      root._bokeh_onload_callbacks.forEach(function(callback) { callback() });\n",
       "    }\n",
       "    finally {\n",
       "      delete root._bokeh_onload_callbacks\n",
       "    }\n",
       "    console.info(\"Bokeh: all callbacks have finished\");\n",
       "  }\n",
       "\n",
       "  function load_libs(js_urls, callback) {\n",
       "    root._bokeh_onload_callbacks.push(callback);\n",
       "    if (root._bokeh_is_loading > 0) {\n",
       "      console.log(\"Bokeh: BokehJS is being loaded, scheduling callback at\", now());\n",
       "      return null;\n",
       "    }\n",
       "    if (js_urls == null || js_urls.length === 0) {\n",
       "      run_callbacks();\n",
       "      return null;\n",
       "    }\n",
       "    console.log(\"Bokeh: BokehJS not loaded, scheduling load and callback at\", now());\n",
       "    root._bokeh_is_loading = js_urls.length;\n",
       "    for (var i = 0; i < js_urls.length; i++) {\n",
       "      var url = js_urls[i];\n",
       "      var s = document.createElement('script');\n",
       "      s.src = url;\n",
       "      s.async = false;\n",
       "      s.onreadystatechange = s.onload = function() {\n",
       "        root._bokeh_is_loading--;\n",
       "        if (root._bokeh_is_loading === 0) {\n",
       "          console.log(\"Bokeh: all BokehJS libraries loaded\");\n",
       "          run_callbacks()\n",
       "        }\n",
       "      };\n",
       "      s.onerror = function() {\n",
       "        console.warn(\"failed to load library \" + url);\n",
       "      };\n",
       "      console.log(\"Bokeh: injecting script tag for BokehJS library: \", url);\n",
       "      document.getElementsByTagName(\"head\")[0].appendChild(s);\n",
       "    }\n",
       "  };var element = document.getElementById(\"3ad335d4-cbe1-4c24-a2b5-88f6cecf6440\");\n",
       "  if (element == null) {\n",
       "    console.log(\"Bokeh: ERROR: autoload.js configured with elementid '3ad335d4-cbe1-4c24-a2b5-88f6cecf6440' but no matching script tag was found. \")\n",
       "    return false;\n",
       "  }\n",
       "\n",
       "  var js_urls = [\"https://cdn.pydata.org/bokeh/release/bokeh-0.13.0.min.js\", \"https://cdn.pydata.org/bokeh/release/bokeh-widgets-0.13.0.min.js\", \"https://cdn.pydata.org/bokeh/release/bokeh-tables-0.13.0.min.js\", \"https://cdn.pydata.org/bokeh/release/bokeh-gl-0.13.0.min.js\"];\n",
       "\n",
       "  var inline_js = [\n",
       "    function(Bokeh) {\n",
       "      Bokeh.set_log_level(\"info\");\n",
       "    },\n",
       "    \n",
       "    function(Bokeh) {\n",
       "      \n",
       "    },\n",
       "    function(Bokeh) {\n",
       "      console.log(\"Bokeh: injecting CSS: https://cdn.pydata.org/bokeh/release/bokeh-0.13.0.min.css\");\n",
       "      Bokeh.embed.inject_css(\"https://cdn.pydata.org/bokeh/release/bokeh-0.13.0.min.css\");\n",
       "      console.log(\"Bokeh: injecting CSS: https://cdn.pydata.org/bokeh/release/bokeh-widgets-0.13.0.min.css\");\n",
       "      Bokeh.embed.inject_css(\"https://cdn.pydata.org/bokeh/release/bokeh-widgets-0.13.0.min.css\");\n",
       "      console.log(\"Bokeh: injecting CSS: https://cdn.pydata.org/bokeh/release/bokeh-tables-0.13.0.min.css\");\n",
       "      Bokeh.embed.inject_css(\"https://cdn.pydata.org/bokeh/release/bokeh-tables-0.13.0.min.css\");\n",
       "    }\n",
       "  ];\n",
       "\n",
       "  function run_inline_js() {\n",
       "    \n",
       "    if ((root.Bokeh !== undefined) || (force === true)) {\n",
       "      for (var i = 0; i < inline_js.length; i++) {\n",
       "        inline_js[i].call(root, root.Bokeh);\n",
       "      }if (force === true) {\n",
       "        display_loaded();\n",
       "      }} else if (Date.now() < root._bokeh_timeout) {\n",
       "      setTimeout(run_inline_js, 100);\n",
       "    } else if (!root._bokeh_failed_load) {\n",
       "      console.log(\"Bokeh: BokehJS failed to load within specified timeout.\");\n",
       "      root._bokeh_failed_load = true;\n",
       "    } else if (force !== true) {\n",
       "      var cell = $(document.getElementById(\"3ad335d4-cbe1-4c24-a2b5-88f6cecf6440\")).parents('.cell').data().cell;\n",
       "      cell.output_area.append_execute_result(NB_LOAD_WARNING)\n",
       "    }\n",
       "\n",
       "  }\n",
       "\n",
       "  if (root._bokeh_is_loading === 0) {\n",
       "    console.log(\"Bokeh: BokehJS loaded, going straight to plotting\");\n",
       "    run_inline_js();\n",
       "  } else {\n",
       "    load_libs(js_urls, function() {\n",
       "      console.log(\"Bokeh: BokehJS plotting callback run at\", now());\n",
       "      run_inline_js();\n",
       "    });\n",
       "  }\n",
       "}(window));"
      ],
      "application/vnd.bokehjs_load.v0+json": "\n(function(root) {\n  function now() {\n    return new Date();\n  }\n\n  var force = true;\n\n  if (typeof (root._bokeh_onload_callbacks) === \"undefined\" || force === true) {\n    root._bokeh_onload_callbacks = [];\n    root._bokeh_is_loading = undefined;\n  }\n\n  \n\n  \n  if (typeof (root._bokeh_timeout) === \"undefined\" || force === true) {\n    root._bokeh_timeout = Date.now() + 5000;\n    root._bokeh_failed_load = false;\n  }\n\n  var NB_LOAD_WARNING = {'data': {'text/html':\n     \"<div style='background-color: #fdd'>\\n\"+\n     \"<p>\\n\"+\n     \"BokehJS does not appear to have successfully loaded. If loading BokehJS from CDN, this \\n\"+\n     \"may be due to a slow or bad network connection. Possible fixes:\\n\"+\n     \"</p>\\n\"+\n     \"<ul>\\n\"+\n     \"<li>re-rerun `output_notebook()` to attempt to load from CDN again, or</li>\\n\"+\n     \"<li>use INLINE resources instead, as so:</li>\\n\"+\n     \"</ul>\\n\"+\n     \"<code>\\n\"+\n     \"from bokeh.resources import INLINE\\n\"+\n     \"output_notebook(resources=INLINE)\\n\"+\n     \"</code>\\n\"+\n     \"</div>\"}};\n\n  function display_loaded() {\n    var el = document.getElementById(\"3ad335d4-cbe1-4c24-a2b5-88f6cecf6440\");\n    if (el != null) {\n      el.textContent = \"BokehJS is loading...\";\n    }\n    if (root.Bokeh !== undefined) {\n      if (el != null) {\n        el.textContent = \"BokehJS \" + root.Bokeh.version + \" successfully loaded.\";\n      }\n    } else if (Date.now() < root._bokeh_timeout) {\n      setTimeout(display_loaded, 100)\n    }\n  }\n\n\n  function run_callbacks() {\n    try {\n      root._bokeh_onload_callbacks.forEach(function(callback) { callback() });\n    }\n    finally {\n      delete root._bokeh_onload_callbacks\n    }\n    console.info(\"Bokeh: all callbacks have finished\");\n  }\n\n  function load_libs(js_urls, callback) {\n    root._bokeh_onload_callbacks.push(callback);\n    if (root._bokeh_is_loading > 0) {\n      console.log(\"Bokeh: BokehJS is being loaded, scheduling callback at\", now());\n      return null;\n    }\n    if (js_urls == null || js_urls.length === 0) {\n      run_callbacks();\n      return null;\n    }\n    console.log(\"Bokeh: BokehJS not loaded, scheduling load and callback at\", now());\n    root._bokeh_is_loading = js_urls.length;\n    for (var i = 0; i < js_urls.length; i++) {\n      var url = js_urls[i];\n      var s = document.createElement('script');\n      s.src = url;\n      s.async = false;\n      s.onreadystatechange = s.onload = function() {\n        root._bokeh_is_loading--;\n        if (root._bokeh_is_loading === 0) {\n          console.log(\"Bokeh: all BokehJS libraries loaded\");\n          run_callbacks()\n        }\n      };\n      s.onerror = function() {\n        console.warn(\"failed to load library \" + url);\n      };\n      console.log(\"Bokeh: injecting script tag for BokehJS library: \", url);\n      document.getElementsByTagName(\"head\")[0].appendChild(s);\n    }\n  };var element = document.getElementById(\"3ad335d4-cbe1-4c24-a2b5-88f6cecf6440\");\n  if (element == null) {\n    console.log(\"Bokeh: ERROR: autoload.js configured with elementid '3ad335d4-cbe1-4c24-a2b5-88f6cecf6440' but no matching script tag was found. \")\n    return false;\n  }\n\n  var js_urls = [\"https://cdn.pydata.org/bokeh/release/bokeh-0.13.0.min.js\", \"https://cdn.pydata.org/bokeh/release/bokeh-widgets-0.13.0.min.js\", \"https://cdn.pydata.org/bokeh/release/bokeh-tables-0.13.0.min.js\", \"https://cdn.pydata.org/bokeh/release/bokeh-gl-0.13.0.min.js\"];\n\n  var inline_js = [\n    function(Bokeh) {\n      Bokeh.set_log_level(\"info\");\n    },\n    \n    function(Bokeh) {\n      \n    },\n    function(Bokeh) {\n      console.log(\"Bokeh: injecting CSS: https://cdn.pydata.org/bokeh/release/bokeh-0.13.0.min.css\");\n      Bokeh.embed.inject_css(\"https://cdn.pydata.org/bokeh/release/bokeh-0.13.0.min.css\");\n      console.log(\"Bokeh: injecting CSS: https://cdn.pydata.org/bokeh/release/bokeh-widgets-0.13.0.min.css\");\n      Bokeh.embed.inject_css(\"https://cdn.pydata.org/bokeh/release/bokeh-widgets-0.13.0.min.css\");\n      console.log(\"Bokeh: injecting CSS: https://cdn.pydata.org/bokeh/release/bokeh-tables-0.13.0.min.css\");\n      Bokeh.embed.inject_css(\"https://cdn.pydata.org/bokeh/release/bokeh-tables-0.13.0.min.css\");\n    }\n  ];\n\n  function run_inline_js() {\n    \n    if ((root.Bokeh !== undefined) || (force === true)) {\n      for (var i = 0; i < inline_js.length; i++) {\n        inline_js[i].call(root, root.Bokeh);\n      }if (force === true) {\n        display_loaded();\n      }} else if (Date.now() < root._bokeh_timeout) {\n      setTimeout(run_inline_js, 100);\n    } else if (!root._bokeh_failed_load) {\n      console.log(\"Bokeh: BokehJS failed to load within specified timeout.\");\n      root._bokeh_failed_load = true;\n    } else if (force !== true) {\n      var cell = $(document.getElementById(\"3ad335d4-cbe1-4c24-a2b5-88f6cecf6440\")).parents('.cell').data().cell;\n      cell.output_area.append_execute_result(NB_LOAD_WARNING)\n    }\n\n  }\n\n  if (root._bokeh_is_loading === 0) {\n    console.log(\"Bokeh: BokehJS loaded, going straight to plotting\");\n    run_inline_js();\n  } else {\n    load_libs(js_urls, function() {\n      console.log(\"Bokeh: BokehJS plotting callback run at\", now());\n      run_inline_js();\n    });\n  }\n}(window));"
     },
     "metadata": {},
     "output_type": "display_data"
    }
   ],
   "source": [
    "import numpy as np\n",
    "import cmath as cm\n",
    "from scipy.interpolate import interp1d\n",
    "from bokeh.palettes import Spectral6\n",
    "from bokeh.transform import linear_cmap\n",
    "from bokeh.io import push_notebook, output_notebook, show\n",
    "from bokeh.layouts import row, column\n",
    "from bokeh.plotting import figure\n",
    "from bokeh.models import ColumnDataSource, ColorBar\n",
    "\n",
    "import matplotlib.pyplot as plt\n",
    "output_notebook()\n",
    "%matplotlib inline"
   ]
  },
  {
   "cell_type": "code",
   "execution_count": 2,
   "metadata": {},
   "outputs": [
    {
     "data": {
      "text/html": [
       "\n",
       "\n",
       "\n",
       "\n",
       "\n",
       "\n",
       "  <div class=\"bk-root\" id=\"fa0d686c-eb0e-4845-9714-8f69cfcda198\"></div>\n"
      ]
     },
     "metadata": {},
     "output_type": "display_data"
    },
    {
     "data": {
      "application/javascript": [
       "(function(root) {\n",
       "  function embed_document(root) {\n",
       "    \n",
       "  var docs_json = {\"6e13bc44-2d75-4ada-92c0-d1d2275a8a0c\":{\"roots\":{\"references\":[{\"attributes\":{},\"id\":\"76b7a27b-88a3-4f9f-b7a7-b522a15ebfb5\",\"type\":\"BasicTickFormatter\"},{\"attributes\":{\"plot\":null,\"text\":\"1D atomic chain\"},\"id\":\"63f69624-a7b5-4464-931f-3ca0231e994c\",\"type\":\"Title\"},{\"attributes\":{\"source\":{\"id\":\"2c18daea-7ad7-4407-a711-8c73beb1ff5e\",\"type\":\"ColumnDataSource\"}},\"id\":\"e5e448f8-4e02-405b-9c6d-27c5c6229a82\",\"type\":\"CDSView\"},{\"attributes\":{\"callback\":null,\"end\":11.0,\"start\":-11.0},\"id\":\"9e067f01-6943-42b8-8219-27056df6f177\",\"type\":\"Range1d\"},{\"attributes\":{},\"id\":\"8b53f1b7-e88a-4457-acd7-96f81b2f2853\",\"type\":\"UnionRenderers\"},{\"attributes\":{},\"id\":\"333c4c5d-b0f8-44c2-83e1-1a736989ffc7\",\"type\":\"Selection\"},{\"attributes\":{},\"id\":\"0a040fd3-7bd5-4d37-a7e4-f6329f330791\",\"type\":\"PanTool\"},{\"attributes\":{\"active_drag\":\"auto\",\"active_inspect\":\"auto\",\"active_multi\":null,\"active_scroll\":\"auto\",\"active_tap\":\"auto\",\"tools\":[{\"id\":\"0a040fd3-7bd5-4d37-a7e4-f6329f330791\",\"type\":\"PanTool\"},{\"id\":\"21c381a2-ab35-4dbd-bfe7-dc8b27a7e7e7\",\"type\":\"WheelZoomTool\"},{\"id\":\"5de16164-66df-4aa2-8456-44a2c138ac3e\",\"type\":\"BoxZoomTool\"},{\"id\":\"e94c483b-bfe1-4c09-87c7-956a11037624\",\"type\":\"SaveTool\"},{\"id\":\"ac4020e1-1c8b-4c97-b6b5-5f6830cd22cc\",\"type\":\"ResetTool\"},{\"id\":\"310d3567-cb4a-48f4-b51c-8d102fe408fb\",\"type\":\"HelpTool\"}]},\"id\":\"e47429a2-0994-47f8-b8ff-eb23aad5b0dc\",\"type\":\"Toolbar\"},{\"attributes\":{\"fill_color\":{\"value\":\"black\"},\"size\":{\"units\":\"screen\",\"value\":10},\"x\":{\"field\":\"xVal\"},\"y\":{\"field\":\"yVal\"}},\"id\":\"64bff711-a5a0-46da-b7b2-6bb4cff33066\",\"type\":\"Circle\"},{\"attributes\":{\"data_source\":{\"id\":\"2c18daea-7ad7-4407-a711-8c73beb1ff5e\",\"type\":\"ColumnDataSource\"},\"glyph\":{\"id\":\"64bff711-a5a0-46da-b7b2-6bb4cff33066\",\"type\":\"Circle\"},\"hover_glyph\":null,\"muted_glyph\":null,\"nonselection_glyph\":{\"id\":\"bb8cb1de-fead-4e0f-9a5d-26ac4e10a55c\",\"type\":\"Circle\"},\"selection_glyph\":null,\"view\":{\"id\":\"e5e448f8-4e02-405b-9c6d-27c5c6229a82\",\"type\":\"CDSView\"}},\"id\":\"31409fb2-f413-434b-a2b5-856cdaa4cada\",\"type\":\"GlyphRenderer\"},{\"attributes\":{},\"id\":\"21c381a2-ab35-4dbd-bfe7-dc8b27a7e7e7\",\"type\":\"WheelZoomTool\"},{\"attributes\":{},\"id\":\"f2a40d72-a0f9-4eff-b3d5-3afa8d5a08bc\",\"type\":\"BasicTickFormatter\"},{\"attributes\":{\"overlay\":{\"id\":\"537ee38b-516f-4567-81ed-10702c5fee49\",\"type\":\"BoxAnnotation\"}},\"id\":\"5de16164-66df-4aa2-8456-44a2c138ac3e\",\"type\":\"BoxZoomTool\"},{\"attributes\":{\"callback\":null},\"id\":\"d883851b-5f26-4bc5-a5f4-83cf60ef218b\",\"type\":\"DataRange1d\"},{\"attributes\":{},\"id\":\"e94c483b-bfe1-4c09-87c7-956a11037624\",\"type\":\"SaveTool\"},{\"attributes\":{},\"id\":\"ac4020e1-1c8b-4c97-b6b5-5f6830cd22cc\",\"type\":\"ResetTool\"},{\"attributes\":{},\"id\":\"fa51de23-32e7-478a-acb4-28f69c797126\",\"type\":\"LinearScale\"},{\"attributes\":{\"fill_alpha\":{\"value\":0.1},\"fill_color\":{\"value\":\"#1f77b4\"},\"line_alpha\":{\"value\":0.1},\"line_color\":{\"value\":\"#1f77b4\"},\"size\":{\"units\":\"screen\",\"value\":10},\"x\":{\"field\":\"xVal\"},\"y\":{\"field\":\"yVal\"}},\"id\":\"bb8cb1de-fead-4e0f-9a5d-26ac4e10a55c\",\"type\":\"Circle\"},{\"attributes\":{},\"id\":\"2a03a296-6397-4231-96d3-ca496b0fa5dd\",\"type\":\"LinearScale\"},{\"attributes\":{},\"id\":\"310d3567-cb4a-48f4-b51c-8d102fe408fb\",\"type\":\"HelpTool\"},{\"attributes\":{\"axis_label\":\"Real space distance (arb. unit)\",\"formatter\":{\"id\":\"76b7a27b-88a3-4f9f-b7a7-b522a15ebfb5\",\"type\":\"BasicTickFormatter\"},\"plot\":{\"id\":\"d61c4ac7-a476-4c70-be1c-ef05de3b380a\",\"subtype\":\"Figure\",\"type\":\"Plot\"},\"ticker\":{\"id\":\"93535191-68a9-4cd7-8087-6865475905c9\",\"type\":\"BasicTicker\"}},\"id\":\"6bacb07d-eac5-4140-982d-4ab8fb6b0c78\",\"type\":\"LinearAxis\"},{\"attributes\":{},\"id\":\"93535191-68a9-4cd7-8087-6865475905c9\",\"type\":\"BasicTicker\"},{\"attributes\":{\"plot\":{\"id\":\"d61c4ac7-a476-4c70-be1c-ef05de3b380a\",\"subtype\":\"Figure\",\"type\":\"Plot\"},\"ticker\":{\"id\":\"93535191-68a9-4cd7-8087-6865475905c9\",\"type\":\"BasicTicker\"}},\"id\":\"3a457e4c-436d-44b3-a580-05047d5e4836\",\"type\":\"Grid\"},{\"attributes\":{\"formatter\":{\"id\":\"f2a40d72-a0f9-4eff-b3d5-3afa8d5a08bc\",\"type\":\"BasicTickFormatter\"},\"plot\":{\"id\":\"d61c4ac7-a476-4c70-be1c-ef05de3b380a\",\"subtype\":\"Figure\",\"type\":\"Plot\"},\"ticker\":{\"id\":\"89ee558d-05eb-47da-ac72-c7a70ad574db\",\"type\":\"BasicTicker\"}},\"id\":\"f878261c-602f-42ce-8272-febfc8a79a3b\",\"type\":\"LinearAxis\"},{\"attributes\":{},\"id\":\"89ee558d-05eb-47da-ac72-c7a70ad574db\",\"type\":\"BasicTicker\"},{\"attributes\":{\"dimension\":1,\"plot\":{\"id\":\"d61c4ac7-a476-4c70-be1c-ef05de3b380a\",\"subtype\":\"Figure\",\"type\":\"Plot\"},\"ticker\":{\"id\":\"89ee558d-05eb-47da-ac72-c7a70ad574db\",\"type\":\"BasicTicker\"}},\"id\":\"f8352872-a24c-4ac1-8144-dc80f43346c6\",\"type\":\"Grid\"},{\"attributes\":{\"bottom_units\":\"screen\",\"fill_alpha\":{\"value\":0.5},\"fill_color\":{\"value\":\"lightgrey\"},\"left_units\":\"screen\",\"level\":\"overlay\",\"line_alpha\":{\"value\":1.0},\"line_color\":{\"value\":\"black\"},\"line_dash\":[4,4],\"line_width\":{\"value\":2},\"plot\":null,\"render_mode\":\"css\",\"right_units\":\"screen\",\"top_units\":\"screen\"},\"id\":\"537ee38b-516f-4567-81ed-10702c5fee49\",\"type\":\"BoxAnnotation\"},{\"attributes\":{\"below\":[{\"id\":\"6bacb07d-eac5-4140-982d-4ab8fb6b0c78\",\"type\":\"LinearAxis\"}],\"left\":[{\"id\":\"f878261c-602f-42ce-8272-febfc8a79a3b\",\"type\":\"LinearAxis\"}],\"plot_height\":100,\"plot_width\":700,\"renderers\":[{\"id\":\"6bacb07d-eac5-4140-982d-4ab8fb6b0c78\",\"type\":\"LinearAxis\"},{\"id\":\"3a457e4c-436d-44b3-a580-05047d5e4836\",\"type\":\"Grid\"},{\"id\":\"f878261c-602f-42ce-8272-febfc8a79a3b\",\"type\":\"LinearAxis\"},{\"id\":\"f8352872-a24c-4ac1-8144-dc80f43346c6\",\"type\":\"Grid\"},{\"id\":\"537ee38b-516f-4567-81ed-10702c5fee49\",\"type\":\"BoxAnnotation\"},{\"id\":\"31409fb2-f413-434b-a2b5-856cdaa4cada\",\"type\":\"GlyphRenderer\"}],\"title\":{\"id\":\"63f69624-a7b5-4464-931f-3ca0231e994c\",\"type\":\"Title\"},\"toolbar\":{\"id\":\"e47429a2-0994-47f8-b8ff-eb23aad5b0dc\",\"type\":\"Toolbar\"},\"x_range\":{\"id\":\"9e067f01-6943-42b8-8219-27056df6f177\",\"type\":\"Range1d\"},\"x_scale\":{\"id\":\"fa51de23-32e7-478a-acb4-28f69c797126\",\"type\":\"LinearScale\"},\"y_range\":{\"id\":\"d883851b-5f26-4bc5-a5f4-83cf60ef218b\",\"type\":\"DataRange1d\"},\"y_scale\":{\"id\":\"2a03a296-6397-4231-96d3-ca496b0fa5dd\",\"type\":\"LinearScale\"}},\"id\":\"d61c4ac7-a476-4c70-be1c-ef05de3b380a\",\"subtype\":\"Figure\",\"type\":\"Plot\"},{\"attributes\":{\"callback\":null,\"data\":{\"xVal\":{\"__ndarray__\":\"AAAAAAAAJMAAAAAAAAAiwAAAAAAAACDAAAAAAAAAHMAAAAAAAAAYwAAAAAAAABTAAAAAAAAAEMAAAAAAAAAIwAAAAAAAAADAAAAAAAAA8L8AAAAAAAAAAAAAAAAAAPA/AAAAAAAAAEAAAAAAAAAIQAAAAAAAABBAAAAAAAAAFEAAAAAAAAAYQAAAAAAAABxAAAAAAAAAIEAAAAAAAAAiQAAAAAAAACRA\",\"dtype\":\"float64\",\"shape\":[21]},\"yVal\":{\"__ndarray__\":\"AAAAAAAAAAAAAAAAAAAAAAAAAAAAAAAAAAAAAAAAAAAAAAAAAAAAAAAAAAAAAAAAAAAAAAAAAAAAAAAAAAAAAAAAAAAAAAAAAAAAAAAAAAAAAAAAAAAAAAAAAAAAAAAAAAAAAAAAAAAAAAAAAAAAAAAAAAAAAAAAAAAAAAAAAAAAAAAAAAAAAAAAAAAAAAAAAAAAAAAAAAAAAAAAAAAAAAAAAAAAAAAA\",\"dtype\":\"float64\",\"shape\":[21]}},\"selected\":{\"id\":\"333c4c5d-b0f8-44c2-83e1-1a736989ffc7\",\"type\":\"Selection\"},\"selection_policy\":{\"id\":\"8b53f1b7-e88a-4457-acd7-96f81b2f2853\",\"type\":\"UnionRenderers\"}},\"id\":\"2c18daea-7ad7-4407-a711-8c73beb1ff5e\",\"type\":\"ColumnDataSource\"}],\"root_ids\":[\"d61c4ac7-a476-4c70-be1c-ef05de3b380a\"]},\"title\":\"Bokeh Application\",\"version\":\"0.13.0\"}};\n",
       "  var render_items = [{\"docid\":\"6e13bc44-2d75-4ada-92c0-d1d2275a8a0c\",\"roots\":{\"d61c4ac7-a476-4c70-be1c-ef05de3b380a\":\"fa0d686c-eb0e-4845-9714-8f69cfcda198\"}}];\n",
       "  root.Bokeh.embed.embed_items_notebook(docs_json, render_items);\n",
       "\n",
       "  }\n",
       "  if (root.Bokeh !== undefined) {\n",
       "    embed_document(root);\n",
       "  } else {\n",
       "    var attempts = 0;\n",
       "    var timer = setInterval(function(root) {\n",
       "      if (root.Bokeh !== undefined) {\n",
       "        embed_document(root);\n",
       "        clearInterval(timer);\n",
       "      }\n",
       "      attempts++;\n",
       "      if (attempts > 100) {\n",
       "        console.log(\"Bokeh: ERROR: Unable to run BokehJS code because BokehJS library is missing\")\n",
       "        clearInterval(timer);\n",
       "      }\n",
       "    }, 10, root)\n",
       "  }\n",
       "})(window);"
      ],
      "application/vnd.bokehjs_exec.v0+json": ""
     },
     "metadata": {
      "application/vnd.bokehjs_exec.v0+json": {
       "id": "d61c4ac7-a476-4c70-be1c-ef05de3b380a"
      }
     },
     "output_type": "display_data"
    }
   ],
   "source": [
    "N = 21; # Number of atomic sites\n",
    "M = int((N-1)/2); # Number of atomic sites on each side of the origin\n",
    "a = 1.0 # Real space distance between each site\n",
    "lattx = np.arange(-a*M,a*M+1,a); # '+1' because np.arange doesn't include the endpoint\n",
    "latty = np.zeros(lattx.size);\n",
    "lattice = figure(plot_height=100, plot_width=700, title=\"1D atomic chain\",x_range=[-1.1*a*M,1.1*a*M]);\n",
    "source1 = ColumnDataSource(data = {'xVal': lattx, 'yVal': latty});\n",
    "lattice.circle('xVal','yVal',source = source1, size = 10, line_color = 'black', fill_color = 'black');\n",
    "lattice.xaxis.axis_label = 'Real space distance (arb. unit)';\n",
    "show(lattice)"
   ]
  },
  {
   "cell_type": "code",
   "execution_count": 3,
   "metadata": {},
   "outputs": [],
   "source": [
    "k0 = 2*np.pi/(2*M*a);\n",
    "k = np.linspace(-M*k0,M*k0);\n",
    "energy = -2*np.cos(k);"
   ]
  },
  {
   "cell_type": "code",
   "execution_count": 4,
   "metadata": {},
   "outputs": [
    {
     "data": {
      "text/html": [
       "\n",
       "\n",
       "\n",
       "\n",
       "\n",
       "\n",
       "  <div class=\"bk-root\" id=\"3651dfcf-9bfb-47cd-bac1-d183a99e4ceb\"></div>\n"
      ]
     },
     "metadata": {},
     "output_type": "display_data"
    },
    {
     "data": {
      "application/javascript": [
       "(function(root) {\n",
       "  function embed_document(root) {\n",
       "    \n",
       "  var docs_json = {\"e05fe159-4000-4c4c-8de0-9dfce8f6eb84\":{\"roots\":{\"references\":[{\"attributes\":{},\"id\":\"cb999152-9641-4744-a6c8-a11cf91c26a4\",\"type\":\"Selection\"},{\"attributes\":{\"axis_label\":\"Energy (arb. Unit)\",\"formatter\":{\"id\":\"81096104-23fa-4486-a2ef-7b8796c9a000\",\"type\":\"BasicTickFormatter\"},\"plot\":{\"id\":\"dc1f1067-79f6-481f-924d-926106d2eed2\",\"subtype\":\"Figure\",\"type\":\"Plot\"},\"ticker\":{\"id\":\"5d2059e1-17b3-4f39-8b01-d1fb6ff737fd\",\"type\":\"BasicTicker\"}},\"id\":\"26402f9e-5009-4bd5-86c7-1fd2a9373434\",\"type\":\"LinearAxis\"},{\"attributes\":{\"plot\":null,\"text\":\"Energy band in reciprocal space\"},\"id\":\"d46ef9c5-b88a-4e46-bf16-2e9cbef87e31\",\"type\":\"Title\"},{\"attributes\":{\"line_alpha\":0.1,\"line_color\":\"#1f77b4\",\"x\":{\"field\":\"xVal\"},\"y\":{\"field\":\"yVal\"}},\"id\":\"86790709-c4d1-483f-8687-8f64199fb0f8\",\"type\":\"Line\"},{\"attributes\":{},\"id\":\"0e56b3dd-58dc-46b1-afaf-a7263886d86c\",\"type\":\"WheelZoomTool\"},{\"attributes\":{\"fill_color\":{\"value\":\"#1f77b4\"},\"line_color\":{\"value\":\"#1f77b4\"},\"size\":{\"units\":\"screen\",\"value\":6},\"x\":{\"field\":\"xVal\"},\"y\":{\"field\":\"yVal\"}},\"id\":\"2cbb2c62-193f-42c2-b3a9-8341d220fb7e\",\"type\":\"Circle\"},{\"attributes\":{\"plot\":{\"id\":\"dc1f1067-79f6-481f-924d-926106d2eed2\",\"subtype\":\"Figure\",\"type\":\"Plot\"},\"ticker\":{\"id\":\"cf8b4e45-3c99-4ca3-9c5e-44e61d6f833d\",\"type\":\"BasicTicker\"}},\"id\":\"5faaf852-7df0-4626-9fbb-7b7fb52c6aad\",\"type\":\"Grid\"},{\"attributes\":{\"overlay\":{\"id\":\"54672140-afff-4b34-a45e-2371c44a0589\",\"type\":\"BoxAnnotation\"}},\"id\":\"e0eed037-c73e-4010-be7e-8b44e3c86090\",\"type\":\"BoxZoomTool\"},{\"attributes\":{\"bottom_units\":\"screen\",\"fill_alpha\":{\"value\":0.5},\"fill_color\":{\"value\":\"lightgrey\"},\"left_units\":\"screen\",\"level\":\"overlay\",\"line_alpha\":{\"value\":1.0},\"line_color\":{\"value\":\"black\"},\"line_dash\":[4,4],\"line_width\":{\"value\":2},\"plot\":null,\"render_mode\":\"css\",\"right_units\":\"screen\",\"top_units\":\"screen\"},\"id\":\"54672140-afff-4b34-a45e-2371c44a0589\",\"type\":\"BoxAnnotation\"},{\"attributes\":{\"axis_label\":\"k-vector ( \\u03c0 )\",\"formatter\":{\"id\":\"cfa3b493-47a4-48d1-9c28-80b9df422f04\",\"type\":\"BasicTickFormatter\"},\"plot\":{\"id\":\"dc1f1067-79f6-481f-924d-926106d2eed2\",\"subtype\":\"Figure\",\"type\":\"Plot\"},\"ticker\":{\"id\":\"cf8b4e45-3c99-4ca3-9c5e-44e61d6f833d\",\"type\":\"BasicTicker\"}},\"id\":\"182c1a9c-8d81-495e-9da0-44ac4a208bed\",\"type\":\"LinearAxis\"},{\"attributes\":{},\"id\":\"e9acaadb-12de-4eea-aa0c-4657e19f7d76\",\"type\":\"PanTool\"},{\"attributes\":{},\"id\":\"8511d7d2-02ff-48b7-87e6-0dbaaef0ef82\",\"type\":\"LinearScale\"},{\"attributes\":{},\"id\":\"dac0e94f-025f-4dfe-bd9e-d30277c0d4ae\",\"type\":\"SaveTool\"},{\"attributes\":{\"callback\":null,\"data\":{\"xVal\":{\"__ndarray__\":\"AAAAAAAA8L+tD431obHuv1kfGutDY+2/Bi+n4OUU7L+yPjTWh8bqv15OwcspeOm/Cl5Owcsp6L+3bdu2bdvmv2N9aKwPjeW/EI31obE+5L+9nIKXU/Div2msD431oeG/FbycgpdT4L+El1Pwcgrev9u2bdu2bdu/NdaHxvrQ2L+O9aGxPjTWv+cUvJyCl9O/QDTWh8b60L8zp+DlFLzMv+XlFLycgse/kiRJkiRJwr+JxvrQWB+6v9yHxvrQWK+/SwUvp+DllL8iBS+n4OWUP8iHxvrQWK8/f8b60Fgfuj+SJEmSJEnCP+DlFLycgsc/Lqfg5RS8zD8+NNaHxvrQP+QUvJyCl9M/jvWhsT401j8y1ofG+tDYP9u2bdu2bds/gJdT8HIK3j8VvJyCl1PgP2esD431oeE/u5yCl1Pw4j8NjfWhsT7kP2J9aKwPjeU/t23btm3b5j8JXk7ByynoP15OwcspeOk/sD401ofG6j8EL6fg5RTsP1cfGutDY+0/qw+N9aGx7j8AAAAAAADwPw==\",\"dtype\":\"float64\",\"shape\":[50]},\"yVal\":{\"__ndarray__\":\"AAAAAAAAAEDs2Dtpvrz/PwDtSlsU9P4/CEzdVE2p/T9ATFPD1+H7P7G8Dy4upfk/F7m4xrf89j/R7YvioPPzP8ZC7AKslvA/UkcrZfjn6T9D99gxszXiP8aDzvTEbdQ/3jLpehBpsD9qu+8L95TIv4RFAuOQe9y/AO56B3Ya5r9v224zOprtvz8WF5nHTvK/LM8XKH2D9b/mvBvqw134v5SqNSWe0fq/cVzLqbzU/L/Gu28oql7+v+i1y7/uaP+/bM8hLSvv/79szyEtK+//v+m1y7/uaP+/x7tvKKpe/r9xXMupvNT8v5aqNSWe0fq/6bwb6sNd+L8wzxcofYP1v0IWF5nHTvK/b9tuMzqa7b8I7noHdhrmv4RFAuOQe9y/mrvvC/eUyL++Mul6EGmwP6+DzvTEbdQ/O/fYMbM14j9ERytl+OfpP8JC7AKslvA/0e2L4qDz8z8UubjGt/z2P7G8Dy4upfk/PExTw9fh+z8HTN1UTan9P/7sSlsU9P4/7Ng7ab68/z8AAAAAAAAAQA==\",\"dtype\":\"float64\",\"shape\":[50]}},\"selected\":{\"id\":\"cb999152-9641-4744-a6c8-a11cf91c26a4\",\"type\":\"Selection\"},\"selection_policy\":{\"id\":\"07950d77-0b82-4a0c-922d-03a5bb48519b\",\"type\":\"UnionRenderers\"}},\"id\":\"3b2df160-c6ac-4981-832c-c3a89b8bbbe6\",\"type\":\"ColumnDataSource\"},{\"attributes\":{},\"id\":\"47f20cda-8590-4440-b372-25d10d59ba03\",\"type\":\"ResetTool\"},{\"attributes\":{},\"id\":\"cf8b4e45-3c99-4ca3-9c5e-44e61d6f833d\",\"type\":\"BasicTicker\"},{\"attributes\":{\"callback\":null,\"end\":1.1,\"start\":-1.1},\"id\":\"0e4041b8-be17-4674-a803-657b6902907d\",\"type\":\"Range1d\"},{\"attributes\":{\"below\":[{\"id\":\"182c1a9c-8d81-495e-9da0-44ac4a208bed\",\"type\":\"LinearAxis\"}],\"left\":[{\"id\":\"26402f9e-5009-4bd5-86c7-1fd2a9373434\",\"type\":\"LinearAxis\"}],\"plot_height\":400,\"plot_width\":700,\"renderers\":[{\"id\":\"182c1a9c-8d81-495e-9da0-44ac4a208bed\",\"type\":\"LinearAxis\"},{\"id\":\"5faaf852-7df0-4626-9fbb-7b7fb52c6aad\",\"type\":\"Grid\"},{\"id\":\"26402f9e-5009-4bd5-86c7-1fd2a9373434\",\"type\":\"LinearAxis\"},{\"id\":\"33120d21-c4c4-4fa9-a3e8-a39f1a72d1e1\",\"type\":\"Grid\"},{\"id\":\"54672140-afff-4b34-a45e-2371c44a0589\",\"type\":\"BoxAnnotation\"},{\"id\":\"f42ba060-ae1b-4137-bd43-91aaedf27e68\",\"type\":\"GlyphRenderer\"},{\"id\":\"74915670-ea6e-4301-8985-cc7e02bb1406\",\"type\":\"GlyphRenderer\"}],\"title\":{\"id\":\"d46ef9c5-b88a-4e46-bf16-2e9cbef87e31\",\"type\":\"Title\"},\"toolbar\":{\"id\":\"83a6ddd5-afb8-4f74-b857-d6fafd6982f0\",\"type\":\"Toolbar\"},\"x_range\":{\"id\":\"0e4041b8-be17-4674-a803-657b6902907d\",\"type\":\"Range1d\"},\"x_scale\":{\"id\":\"8f605f65-0c75-4d46-b103-b2e804a57262\",\"type\":\"LinearScale\"},\"y_range\":{\"id\":\"acbd81ac-7541-4e61-9138-0f8506825ea0\",\"type\":\"Range1d\"},\"y_scale\":{\"id\":\"8511d7d2-02ff-48b7-87e6-0dbaaef0ef82\",\"type\":\"LinearScale\"}},\"id\":\"dc1f1067-79f6-481f-924d-926106d2eed2\",\"subtype\":\"Figure\",\"type\":\"Plot\"},{\"attributes\":{},\"id\":\"d7464a9a-7278-421a-899f-33281620db2e\",\"type\":\"HelpTool\"},{\"attributes\":{\"active_drag\":\"auto\",\"active_inspect\":\"auto\",\"active_multi\":null,\"active_scroll\":\"auto\",\"active_tap\":\"auto\",\"tools\":[{\"id\":\"e9acaadb-12de-4eea-aa0c-4657e19f7d76\",\"type\":\"PanTool\"},{\"id\":\"0e56b3dd-58dc-46b1-afaf-a7263886d86c\",\"type\":\"WheelZoomTool\"},{\"id\":\"e0eed037-c73e-4010-be7e-8b44e3c86090\",\"type\":\"BoxZoomTool\"},{\"id\":\"dac0e94f-025f-4dfe-bd9e-d30277c0d4ae\",\"type\":\"SaveTool\"},{\"id\":\"47f20cda-8590-4440-b372-25d10d59ba03\",\"type\":\"ResetTool\"},{\"id\":\"d7464a9a-7278-421a-899f-33281620db2e\",\"type\":\"HelpTool\"}]},\"id\":\"83a6ddd5-afb8-4f74-b857-d6fafd6982f0\",\"type\":\"Toolbar\"},{\"attributes\":{},\"id\":\"07950d77-0b82-4a0c-922d-03a5bb48519b\",\"type\":\"UnionRenderers\"},{\"attributes\":{\"fill_alpha\":{\"value\":0.1},\"fill_color\":{\"value\":\"#1f77b4\"},\"line_alpha\":{\"value\":0.1},\"line_color\":{\"value\":\"#1f77b4\"},\"size\":{\"units\":\"screen\",\"value\":6},\"x\":{\"field\":\"xVal\"},\"y\":{\"field\":\"yVal\"}},\"id\":\"0361ac42-ca6e-4388-b422-1b4ce1e3f301\",\"type\":\"Circle\"},{\"attributes\":{\"source\":{\"id\":\"3b2df160-c6ac-4981-832c-c3a89b8bbbe6\",\"type\":\"ColumnDataSource\"}},\"id\":\"64ce2380-f787-49df-bb47-bea29c372d9b\",\"type\":\"CDSView\"},{\"attributes\":{\"callback\":null,\"end\":2.4,\"start\":-2.395068942600807},\"id\":\"acbd81ac-7541-4e61-9138-0f8506825ea0\",\"type\":\"Range1d\"},{\"attributes\":{\"data_source\":{\"id\":\"3b2df160-c6ac-4981-832c-c3a89b8bbbe6\",\"type\":\"ColumnDataSource\"},\"glyph\":{\"id\":\"2cbb2c62-193f-42c2-b3a9-8341d220fb7e\",\"type\":\"Circle\"},\"hover_glyph\":null,\"muted_glyph\":null,\"nonselection_glyph\":{\"id\":\"0361ac42-ca6e-4388-b422-1b4ce1e3f301\",\"type\":\"Circle\"},\"selection_glyph\":null,\"view\":{\"id\":\"64ce2380-f787-49df-bb47-bea29c372d9b\",\"type\":\"CDSView\"}},\"id\":\"f42ba060-ae1b-4137-bd43-91aaedf27e68\",\"type\":\"GlyphRenderer\"},{\"attributes\":{},\"id\":\"8f605f65-0c75-4d46-b103-b2e804a57262\",\"type\":\"LinearScale\"},{\"attributes\":{},\"id\":\"81096104-23fa-4486-a2ef-7b8796c9a000\",\"type\":\"BasicTickFormatter\"},{\"attributes\":{},\"id\":\"5d2059e1-17b3-4f39-8b01-d1fb6ff737fd\",\"type\":\"BasicTicker\"},{\"attributes\":{\"source\":{\"id\":\"3b2df160-c6ac-4981-832c-c3a89b8bbbe6\",\"type\":\"ColumnDataSource\"}},\"id\":\"db756dab-870f-436e-932e-f4bd01889fac\",\"type\":\"CDSView\"},{\"attributes\":{\"dimension\":1,\"plot\":{\"id\":\"dc1f1067-79f6-481f-924d-926106d2eed2\",\"subtype\":\"Figure\",\"type\":\"Plot\"},\"ticker\":{\"id\":\"5d2059e1-17b3-4f39-8b01-d1fb6ff737fd\",\"type\":\"BasicTicker\"}},\"id\":\"33120d21-c4c4-4fa9-a3e8-a39f1a72d1e1\",\"type\":\"Grid\"},{\"attributes\":{\"data_source\":{\"id\":\"3b2df160-c6ac-4981-832c-c3a89b8bbbe6\",\"type\":\"ColumnDataSource\"},\"glyph\":{\"id\":\"c8e66810-4ca3-491f-a11d-9f4f53ba7923\",\"type\":\"Line\"},\"hover_glyph\":null,\"muted_glyph\":null,\"nonselection_glyph\":{\"id\":\"86790709-c4d1-483f-8687-8f64199fb0f8\",\"type\":\"Line\"},\"selection_glyph\":null,\"view\":{\"id\":\"db756dab-870f-436e-932e-f4bd01889fac\",\"type\":\"CDSView\"}},\"id\":\"74915670-ea6e-4301-8985-cc7e02bb1406\",\"type\":\"GlyphRenderer\"},{\"attributes\":{\"line_color\":\"#1f77b4\",\"x\":{\"field\":\"xVal\"},\"y\":{\"field\":\"yVal\"}},\"id\":\"c8e66810-4ca3-491f-a11d-9f4f53ba7923\",\"type\":\"Line\"},{\"attributes\":{},\"id\":\"cfa3b493-47a4-48d1-9c28-80b9df422f04\",\"type\":\"BasicTickFormatter\"}],\"root_ids\":[\"dc1f1067-79f6-481f-924d-926106d2eed2\"]},\"title\":\"Bokeh Application\",\"version\":\"0.13.0\"}};\n",
       "  var render_items = [{\"docid\":\"e05fe159-4000-4c4c-8de0-9dfce8f6eb84\",\"roots\":{\"dc1f1067-79f6-481f-924d-926106d2eed2\":\"3651dfcf-9bfb-47cd-bac1-d183a99e4ceb\"}}];\n",
       "  root.Bokeh.embed.embed_items_notebook(docs_json, render_items);\n",
       "\n",
       "  }\n",
       "  if (root.Bokeh !== undefined) {\n",
       "    embed_document(root);\n",
       "  } else {\n",
       "    var attempts = 0;\n",
       "    var timer = setInterval(function(root) {\n",
       "      if (root.Bokeh !== undefined) {\n",
       "        embed_document(root);\n",
       "        clearInterval(timer);\n",
       "      }\n",
       "      attempts++;\n",
       "      if (attempts > 100) {\n",
       "        console.log(\"Bokeh: ERROR: Unable to run BokehJS code because BokehJS library is missing\")\n",
       "        clearInterval(timer);\n",
       "      }\n",
       "    }, 10, root)\n",
       "  }\n",
       "})(window);"
      ],
      "application/vnd.bokehjs_exec.v0+json": ""
     },
     "metadata": {
      "application/vnd.bokehjs_exec.v0+json": {
       "id": "dc1f1067-79f6-481f-924d-926106d2eed2"
      }
     },
     "output_type": "display_data"
    }
   ],
   "source": [
    "# Calcualte resulting dispersion relation using periodic boundary condition (PC)\n",
    "band = figure(plot_height = 400, plot_width = 700, title='Energy band in reciprocal space', x_range = [-1.1*k0*M/np.pi,1.1*k0*M/np.pi], y_range= [1.2*energy.min(),1.2*energy.max()]);\n",
    "source2 = ColumnDataSource(data = {'xVal': k/np.pi, 'yVal' : energy});\n",
    "band.circle('xVal','yVal',source = source2,size = 6);\n",
    "band.line('xVal','yVal',source = source2);\n",
    "band.xaxis.axis_label='k-vector ( \\u03c0 )';\n",
    "band.yaxis.axis_label='Energy (arb. Unit)';\n",
    "show(band)"
   ]
  },
  {
   "cell_type": "code",
   "execution_count": 5,
   "metadata": {},
   "outputs": [],
   "source": [
    "# define the initial wavefunction (with an artificial Gaussian dist.)\n",
    "sigm = a/4;\n",
    "x0 = 0;\n",
    "x = np.linspace(-a*M,a*M+1,200);\n",
    "phi0 = 1/(np.sqrt(2*np.pi)*sigm)*np.exp(-1/2*( (x-x0)/sigm )**2);\n",
    "rho0 = np.conj(phi0)*phi0;"
   ]
  },
  {
   "cell_type": "code",
   "execution_count": 6,
   "metadata": {},
   "outputs": [
    {
     "data": {
      "text/html": [
       "\n",
       "\n",
       "\n",
       "\n",
       "\n",
       "\n",
       "  <div class=\"bk-root\" id=\"57e2b2e5-5c2a-4eff-9bfa-2147ebae7fdd\"></div>\n"
      ]
     },
     "metadata": {},
     "output_type": "display_data"
    },
    {
     "data": {
      "application/javascript": [
       "(function(root) {\n",
       "  function embed_document(root) {\n",
       "    \n",
       "  var docs_json = {\"d53c22cf-4139-4b12-8498-de1e2e5eae65\":{\"roots\":{\"references\":[{\"attributes\":{\"source\":{\"id\":\"ad2b8a77-354f-40be-8403-867c901c7cf0\",\"type\":\"ColumnDataSource\"}},\"id\":\"2f95fa25-ae85-465f-a61a-0ff24568f610\",\"type\":\"CDSView\"},{\"attributes\":{},\"id\":\"8b53f1b7-e88a-4457-acd7-96f81b2f2853\",\"type\":\"UnionRenderers\"},{\"attributes\":{},\"id\":\"3aed7014-4e8f-4254-b822-12a13e72d296\",\"type\":\"LinearScale\"},{\"attributes\":{},\"id\":\"333c4c5d-b0f8-44c2-83e1-1a736989ffc7\",\"type\":\"Selection\"},{\"attributes\":{},\"id\":\"5b6ef596-7d9a-4a98-b580-de0136ea9881\",\"type\":\"WheelZoomTool\"},{\"attributes\":{\"dimension\":1,\"plot\":{\"id\":\"f24b3a81-fac8-4066-bd65-a14a0e9d0f39\",\"subtype\":\"Figure\",\"type\":\"Plot\"},\"ticker\":{\"id\":\"712f1ffc-8815-4a4a-a192-5dc564a85573\",\"type\":\"BasicTicker\"}},\"id\":\"c28d0c5e-2732-4214-b17a-2b36be2eaea9\",\"type\":\"Grid\"},{\"attributes\":{\"fill_alpha\":{\"value\":0.1},\"fill_color\":{\"value\":\"#1f77b4\"},\"line_alpha\":{\"value\":0.1},\"line_color\":{\"value\":\"#1f77b4\"},\"size\":{\"units\":\"screen\",\"value\":10},\"x\":{\"field\":\"xVal\"},\"y\":{\"field\":\"yVal\"}},\"id\":\"e9b44240-ecb2-4d59-b91b-8d49d3c11ea7\",\"type\":\"Circle\"},{\"attributes\":{\"callback\":null,\"end\":1.2,\"start\":-1},\"id\":\"46832cae-2431-41ed-bd72-c4268b4c7b0a\",\"type\":\"Range1d\"},{\"attributes\":{\"line_color\":\"#1f77b4\",\"x\":{\"field\":\"xVal\"},\"y\":{\"field\":\"yVal\"}},\"id\":\"80e0214d-8a0e-47b9-8cc0-78f518f37666\",\"type\":\"Line\"},{\"attributes\":{\"plot\":{\"id\":\"f24b3a81-fac8-4066-bd65-a14a0e9d0f39\",\"subtype\":\"Figure\",\"type\":\"Plot\"},\"ticker\":{\"id\":\"ae9bd101-df2d-4419-a979-0abd7efc68c5\",\"type\":\"BasicTicker\"}},\"id\":\"ec180258-ce1f-4b9a-a66a-bc33a4e128f9\",\"type\":\"Grid\"},{\"attributes\":{\"bottom_units\":\"screen\",\"fill_alpha\":{\"value\":0.5},\"fill_color\":{\"value\":\"lightgrey\"},\"left_units\":\"screen\",\"level\":\"overlay\",\"line_alpha\":{\"value\":1.0},\"line_color\":{\"value\":\"black\"},\"line_dash\":[4,4],\"line_width\":{\"value\":2},\"plot\":null,\"render_mode\":\"css\",\"right_units\":\"screen\",\"top_units\":\"screen\"},\"id\":\"2a204288-3e46-4057-98ff-ffc8c2dbd576\",\"type\":\"BoxAnnotation\"},{\"attributes\":{},\"id\":\"1fbcc90a-f9bd-4ebb-a866-4ec661658035\",\"type\":\"SaveTool\"},{\"attributes\":{},\"id\":\"b2ae1c9d-e5ba-4b27-8d32-297d9f9b5975\",\"type\":\"LinearScale\"},{\"attributes\":{},\"id\":\"3df2d015-f0a2-476f-8865-4ed66a829651\",\"type\":\"ResetTool\"},{\"attributes\":{\"data_source\":{\"id\":\"ad2b8a77-354f-40be-8403-867c901c7cf0\",\"type\":\"ColumnDataSource\"},\"glyph\":{\"id\":\"80e0214d-8a0e-47b9-8cc0-78f518f37666\",\"type\":\"Line\"},\"hover_glyph\":null,\"muted_glyph\":null,\"nonselection_glyph\":{\"id\":\"a3a752bf-1189-4135-a800-69bd5a6fd4c2\",\"type\":\"Line\"},\"selection_glyph\":null,\"view\":{\"id\":\"2f95fa25-ae85-465f-a61a-0ff24568f610\",\"type\":\"CDSView\"}},\"id\":\"4dea626e-3ca1-4f44-8c07-3db19e5c1615\",\"type\":\"GlyphRenderer\"},{\"attributes\":{},\"id\":\"35f3fcc7-7fc3-4e2d-a7f8-dcd7eea5a36c\",\"type\":\"UnionRenderers\"},{\"attributes\":{\"axis_label\":\"Real space distance (arb. unit)\",\"formatter\":{\"id\":\"bcfffc27-5de1-4021-b1db-01ae0ed24d16\",\"type\":\"BasicTickFormatter\"},\"plot\":{\"id\":\"f24b3a81-fac8-4066-bd65-a14a0e9d0f39\",\"subtype\":\"Figure\",\"type\":\"Plot\"},\"ticker\":{\"id\":\"ae9bd101-df2d-4419-a979-0abd7efc68c5\",\"type\":\"BasicTicker\"}},\"id\":\"d5160472-2337-4c7a-9554-1790d1c8a897\",\"type\":\"LinearAxis\"},{\"attributes\":{\"active_drag\":\"auto\",\"active_inspect\":\"auto\",\"active_multi\":null,\"active_scroll\":\"auto\",\"active_tap\":\"auto\",\"tools\":[{\"id\":\"95c3e4c5-01f9-44c9-9387-12546f179c31\",\"type\":\"PanTool\"},{\"id\":\"5b6ef596-7d9a-4a98-b580-de0136ea9881\",\"type\":\"WheelZoomTool\"},{\"id\":\"a52f7d6a-82f5-48e5-acf5-601c8163f2d8\",\"type\":\"BoxZoomTool\"},{\"id\":\"1fbcc90a-f9bd-4ebb-a866-4ec661658035\",\"type\":\"SaveTool\"},{\"id\":\"3df2d015-f0a2-476f-8865-4ed66a829651\",\"type\":\"ResetTool\"},{\"id\":\"cae2fd67-822a-461e-b3ae-c0c61ed8aad4\",\"type\":\"HelpTool\"}]},\"id\":\"5bc5c7ae-63a7-4170-a575-a83dfa806a8a\",\"type\":\"Toolbar\"},{\"attributes\":{},\"id\":\"75997593-5518-460a-aba8-d950fb7a4eb3\",\"type\":\"BasicTickFormatter\"},{\"attributes\":{\"below\":[{\"id\":\"d5160472-2337-4c7a-9554-1790d1c8a897\",\"type\":\"LinearAxis\"}],\"left\":[{\"id\":\"661d07fd-2213-4121-88a7-98ca2477eda8\",\"type\":\"LinearAxis\"}],\"plot_height\":400,\"plot_width\":700,\"renderers\":[{\"id\":\"d5160472-2337-4c7a-9554-1790d1c8a897\",\"type\":\"LinearAxis\"},{\"id\":\"ec180258-ce1f-4b9a-a66a-bc33a4e128f9\",\"type\":\"Grid\"},{\"id\":\"661d07fd-2213-4121-88a7-98ca2477eda8\",\"type\":\"LinearAxis\"},{\"id\":\"c28d0c5e-2732-4214-b17a-2b36be2eaea9\",\"type\":\"Grid\"},{\"id\":\"2a204288-3e46-4057-98ff-ffc8c2dbd576\",\"type\":\"BoxAnnotation\"},{\"id\":\"4dea626e-3ca1-4f44-8c07-3db19e5c1615\",\"type\":\"GlyphRenderer\"},{\"id\":\"464139b3-3b26-48bb-ae27-c7777748cea5\",\"type\":\"GlyphRenderer\"}],\"title\":{\"id\":\"e0737283-0f96-4d04-bfdb-d59f79df6770\",\"type\":\"Title\"},\"toolbar\":{\"id\":\"5bc5c7ae-63a7-4170-a575-a83dfa806a8a\",\"type\":\"Toolbar\"},\"x_range\":{\"id\":\"3d0eb22c-5482-4c95-ac40-28f1e9be2557\",\"type\":\"Range1d\"},\"x_scale\":{\"id\":\"3aed7014-4e8f-4254-b822-12a13e72d296\",\"type\":\"LinearScale\"},\"y_range\":{\"id\":\"46832cae-2431-41ed-bd72-c4268b4c7b0a\",\"type\":\"Range1d\"},\"y_scale\":{\"id\":\"b2ae1c9d-e5ba-4b27-8d32-297d9f9b5975\",\"type\":\"LinearScale\"}},\"id\":\"f24b3a81-fac8-4066-bd65-a14a0e9d0f39\",\"subtype\":\"Figure\",\"type\":\"Plot\"},{\"attributes\":{},\"id\":\"61b3c01a-18ef-487e-bcc1-fa9fce2d9fd5\",\"type\":\"Selection\"},{\"attributes\":{\"fill_color\":{\"value\":\"black\"},\"size\":{\"units\":\"screen\",\"value\":10},\"x\":{\"field\":\"xVal\"},\"y\":{\"field\":\"yVal\"}},\"id\":\"4991846e-90d1-406d-a58d-650f4fbb71c6\",\"type\":\"Circle\"},{\"attributes\":{\"callback\":null,\"data\":{\"xVal\":{\"__ndarray__\":\"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\",\"dtype\":\"float64\",\"shape\":[200]},\"yVal\":{\"__ndarray__\":\"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\",\"dtype\":\"float64\",\"shape\":[200]}},\"selected\":{\"id\":\"61b3c01a-18ef-487e-bcc1-fa9fce2d9fd5\",\"type\":\"Selection\"},\"selection_policy\":{\"id\":\"35f3fcc7-7fc3-4e2d-a7f8-dcd7eea5a36c\",\"type\":\"UnionRenderers\"}},\"id\":\"ad2b8a77-354f-40be-8403-867c901c7cf0\",\"type\":\"ColumnDataSource\"},{\"attributes\":{\"callback\":null,\"end\":11.0,\"start\":-11.0},\"id\":\"3d0eb22c-5482-4c95-ac40-28f1e9be2557\",\"type\":\"Range1d\"},{\"attributes\":{},\"id\":\"95c3e4c5-01f9-44c9-9387-12546f179c31\",\"type\":\"PanTool\"},{\"attributes\":{\"overlay\":{\"id\":\"2a204288-3e46-4057-98ff-ffc8c2dbd576\",\"type\":\"BoxAnnotation\"}},\"id\":\"a52f7d6a-82f5-48e5-acf5-601c8163f2d8\",\"type\":\"BoxZoomTool\"},{\"attributes\":{\"data_source\":{\"id\":\"2c18daea-7ad7-4407-a711-8c73beb1ff5e\",\"type\":\"ColumnDataSource\"},\"glyph\":{\"id\":\"4991846e-90d1-406d-a58d-650f4fbb71c6\",\"type\":\"Circle\"},\"hover_glyph\":null,\"muted_glyph\":null,\"nonselection_glyph\":{\"id\":\"e9b44240-ecb2-4d59-b91b-8d49d3c11ea7\",\"type\":\"Circle\"},\"selection_glyph\":null,\"view\":{\"id\":\"6bc2f5e5-d967-4db2-9774-77f6f4825855\",\"type\":\"CDSView\"}},\"id\":\"464139b3-3b26-48bb-ae27-c7777748cea5\",\"type\":\"GlyphRenderer\"},{\"attributes\":{\"axis_label\":\"Probability density\",\"formatter\":{\"id\":\"75997593-5518-460a-aba8-d950fb7a4eb3\",\"type\":\"BasicTickFormatter\"},\"plot\":{\"id\":\"f24b3a81-fac8-4066-bd65-a14a0e9d0f39\",\"subtype\":\"Figure\",\"type\":\"Plot\"},\"ticker\":{\"id\":\"712f1ffc-8815-4a4a-a192-5dc564a85573\",\"type\":\"BasicTicker\"}},\"id\":\"661d07fd-2213-4121-88a7-98ca2477eda8\",\"type\":\"LinearAxis\"},{\"attributes\":{\"source\":{\"id\":\"2c18daea-7ad7-4407-a711-8c73beb1ff5e\",\"type\":\"ColumnDataSource\"}},\"id\":\"6bc2f5e5-d967-4db2-9774-77f6f4825855\",\"type\":\"CDSView\"},{\"attributes\":{},\"id\":\"712f1ffc-8815-4a4a-a192-5dc564a85573\",\"type\":\"BasicTicker\"},{\"attributes\":{},\"id\":\"cae2fd67-822a-461e-b3ae-c0c61ed8aad4\",\"type\":\"HelpTool\"},{\"attributes\":{\"line_alpha\":0.1,\"line_color\":\"#1f77b4\",\"x\":{\"field\":\"xVal\"},\"y\":{\"field\":\"yVal\"}},\"id\":\"a3a752bf-1189-4135-a800-69bd5a6fd4c2\",\"type\":\"Line\"},{\"attributes\":{\"plot\":null,\"text\":\"Initial wavefunction in real space\"},\"id\":\"e0737283-0f96-4d04-bfdb-d59f79df6770\",\"type\":\"Title\"},{\"attributes\":{},\"id\":\"ae9bd101-df2d-4419-a979-0abd7efc68c5\",\"type\":\"BasicTicker\"},{\"attributes\":{},\"id\":\"bcfffc27-5de1-4021-b1db-01ae0ed24d16\",\"type\":\"BasicTickFormatter\"},{\"attributes\":{\"callback\":null,\"data\":{\"xVal\":{\"__ndarray__\":\"AAAAAAAAJMAAAAAAAAAiwAAAAAAAACDAAAAAAAAAHMAAAAAAAAAYwAAAAAAAABTAAAAAAAAAEMAAAAAAAAAIwAAAAAAAAADAAAAAAAAA8L8AAAAAAAAAAAAAAAAAAPA/AAAAAAAAAEAAAAAAAAAIQAAAAAAAABBAAAAAAAAAFEAAAAAAAAAYQAAAAAAAABxAAAAAAAAAIEAAAAAAAAAiQAAAAAAAACRA\",\"dtype\":\"float64\",\"shape\":[21]},\"yVal\":{\"__ndarray__\":\"AAAAAAAAAAAAAAAAAAAAAAAAAAAAAAAAAAAAAAAAAAAAAAAAAAAAAAAAAAAAAAAAAAAAAAAAAAAAAAAAAAAAAAAAAAAAAAAAAAAAAAAAAAAAAAAAAAAAAAAAAAAAAAAAAAAAAAAAAAAAAAAAAAAAAAAAAAAAAAAAAAAAAAAAAAAAAAAAAAAAAAAAAAAAAAAAAAAAAAAAAAAAAAAAAAAAAAAAAAAAAAAA\",\"dtype\":\"float64\",\"shape\":[21]}},\"selected\":{\"id\":\"333c4c5d-b0f8-44c2-83e1-1a736989ffc7\",\"type\":\"Selection\"},\"selection_policy\":{\"id\":\"8b53f1b7-e88a-4457-acd7-96f81b2f2853\",\"type\":\"UnionRenderers\"}},\"id\":\"2c18daea-7ad7-4407-a711-8c73beb1ff5e\",\"type\":\"ColumnDataSource\"}],\"root_ids\":[\"f24b3a81-fac8-4066-bd65-a14a0e9d0f39\"]},\"title\":\"Bokeh Application\",\"version\":\"0.13.0\"}};\n",
       "  var render_items = [{\"docid\":\"d53c22cf-4139-4b12-8498-de1e2e5eae65\",\"roots\":{\"f24b3a81-fac8-4066-bd65-a14a0e9d0f39\":\"57e2b2e5-5c2a-4eff-9bfa-2147ebae7fdd\"}}];\n",
       "  root.Bokeh.embed.embed_items_notebook(docs_json, render_items);\n",
       "\n",
       "  }\n",
       "  if (root.Bokeh !== undefined) {\n",
       "    embed_document(root);\n",
       "  } else {\n",
       "    var attempts = 0;\n",
       "    var timer = setInterval(function(root) {\n",
       "      if (root.Bokeh !== undefined) {\n",
       "        embed_document(root);\n",
       "        clearInterval(timer);\n",
       "      }\n",
       "      attempts++;\n",
       "      if (attempts > 100) {\n",
       "        console.log(\"Bokeh: ERROR: Unable to run BokehJS code because BokehJS library is missing\")\n",
       "        clearInterval(timer);\n",
       "      }\n",
       "    }, 10, root)\n",
       "  }\n",
       "})(window);"
      ],
      "application/vnd.bokehjs_exec.v0+json": ""
     },
     "metadata": {
      "application/vnd.bokehjs_exec.v0+json": {
       "id": "f24b3a81-fac8-4066-bd65-a14a0e9d0f39"
      }
     },
     "output_type": "display_data"
    }
   ],
   "source": [
    "# Initialize an electron at the center of the 1D chain with a gaussian distribution to indicates its probability density\n",
    "dist0 = figure(plot_height = 400, plot_width = 700, title='Initial wavefunction in real space', x_range = [-1.1*a*M,1.1*a*M], y_range = [-1, 1.2]);\n",
    "source3 = ColumnDataSource(data = {'xVal': x, 'yVal': rho0/rho0.max()});\n",
    "dist0.line('xVal','yVal', source = source3);\n",
    "dist0.circle('xVal','yVal',source = source1, size = 10, line_color = 'black', fill_color = 'black');\n",
    "dist0.xaxis.axis_label='Real space distance (arb. unit)';\n",
    "dist0.yaxis.axis_label='Probability density';\n",
    "show(dist0)"
   ]
  },
  {
   "cell_type": "code",
   "execution_count": 7,
   "metadata": {},
   "outputs": [],
   "source": [
    "# Construct hamiltonian using occupation number basis and set initial wavefunction\n",
    "asd = np.zeros((N-1,N-1),complex);\n",
    "np.fill_diagonal(asd,-1);\n",
    "b = np.append(asd,np.zeros((N-1,1),complex), axis = 1);\n",
    "c = np.append(np.zeros((1,N),complex),b,axis = 0);\n",
    "hamil = c + np.transpose(c);\n",
    "np.fill_diagonal(hamil,1);\n",
    "psi0 = np.zeros((N,1),complex);\n",
    "psi0[M][0] = 1;\n",
    "hamil[N-1][0] = np.exp(-1j*np.pi);\n",
    "hamil[0][N-1] = np.exp(-1j*np.pi);"
   ]
  },
  {
   "cell_type": "code",
   "execution_count": 14,
   "metadata": {},
   "outputs": [],
   "source": [
    "# Define time evolution operator\n",
    "dt = 0.05; # Define time step\n",
    "endt = 300.0;\n",
    "diaganol = np.ones(N);\n",
    "evol = np.diag(diaganol)-1.j*hamil*dt; # Use first order Taylor expansion to approximate the evolution operator\n",
    "ts = np.arange(0,endt*dt,dt);\n",
    "psis = np.empty(ts.size,dtype = object); # Initiate a container for the wavefunctions at different time slice\n",
    "phis = np.empty(ts.size,dtype = object); # Initiate a container for the phase at different time slice\n",
    "phis_smooth = np.empty(ts.size,dtype = object); # Initiate a container for the phase at different time slice\n",
    "rhos = np.empty(ts.size,dtype = object); # Initiate a container for the probability density at different time slice\n",
    "psis[0]=psi0;\n",
    "for ii in range(1,ts.size):\n",
    "    psis[ii] = np.dot(evol,psis[ii-1]);\n",
    "lattx2 = np.arange(-M*a,a*M,a/10.0);\n",
    "for ii in range(0,ts.size-1):\n",
    "    phis[ii] = np.angle((psis[ii]));\n",
    "    rhos[ii] = np.dot(np.transpose(np.conj(psis[ii])),psis[ii]);\n",
    "#    phis_smooth[ii] = interp1d(lattx,np.squeeze(phis[ii]), kind = 'cubic'); # Optional: smooth the phase data for curve ploting"
   ]
  },
  {
   "cell_type": "code",
   "execution_count": 51,
   "metadata": {
    "scrolled": false
   },
   "outputs": [
    {
     "data": {
      "text/html": [
       "\n",
       "\n",
       "\n",
       "\n",
       "\n",
       "\n",
       "  <div class=\"bk-root\" id=\"4ea2fb3f-9bc8-4bda-8e87-eb672db0cc1c\"></div>\n"
      ]
     },
     "metadata": {},
     "output_type": "display_data"
    },
    {
     "data": {
      "application/javascript": [
       "(function(root) {\n",
       "  function embed_document(root) {\n",
       "    \n",
       "  var docs_json = {\"b90e0299-fa5c-45bc-a691-4225288316e5\":{\"roots\":{\"references\":[{\"attributes\":{},\"id\":\"a3b726ed-69d7-47fe-ad1c-a01cfff64fd4\",\"type\":\"UnionRenderers\"},{\"attributes\":{\"callback\":null,\"end\":11.0,\"start\":-11.0},\"id\":\"f335ff21-2d88-4662-8d00-2e50915304c8\",\"type\":\"Range1d\"},{\"attributes\":{\"plot\":null,\"text\":\"Eventual wavefunction\"},\"id\":\"7a15d402-4acd-4647-a475-5d36bb1f9171\",\"type\":\"Title\"},{\"attributes\":{\"formatter\":{\"id\":\"1d2a4de2-b895-4fb5-84ef-3041034974fd\",\"type\":\"BasicTickFormatter\"},\"plot\":{\"id\":\"04f7f1e7-33a4-434a-aa05-9e98ca49c8f0\",\"subtype\":\"Figure\",\"type\":\"Plot\"},\"ticker\":{\"id\":\"af923d6d-1a30-4d4d-9c44-ba27ed675d72\",\"type\":\"BasicTicker\"}},\"id\":\"95347d16-dff9-4bb2-93f1-b9f5845fb7c3\",\"type\":\"LinearAxis\"},{\"attributes\":{\"source\":{\"id\":\"8896c396-5611-42a7-b26c-46cfd4d94486\",\"type\":\"ColumnDataSource\"}},\"id\":\"660ba831-ae81-4f00-a05b-9bbd73b17da3\",\"type\":\"CDSView\"},{\"attributes\":{},\"id\":\"10303f21-bac7-47e1-b18f-2749763cf85d\",\"type\":\"ResetTool\"},{\"attributes\":{},\"id\":\"abfc662a-3fc4-490f-be07-85b3481a88d7\",\"type\":\"BasicTickFormatter\"},{\"attributes\":{},\"id\":\"af923d6d-1a30-4d4d-9c44-ba27ed675d72\",\"type\":\"BasicTicker\"},{\"attributes\":{},\"id\":\"4da674a2-5c3c-496a-be87-0276f3b32e36\",\"type\":\"SaveTool\"},{\"attributes\":{},\"id\":\"9047edf2-76a9-479d-8a53-5915db0e7ade\",\"type\":\"LinearScale\"},{\"attributes\":{\"high\":2.862867573510696,\"low\":-2.102554770552679,\"palette\":[\"#3288bd\",\"#99d594\",\"#e6f598\",\"#fee08b\",\"#fc8d59\",\"#d53e4f\"]},\"id\":\"328217bb-a45c-45ca-9c1b-62023be6a0e1\",\"type\":\"LinearColorMapper\"},{\"attributes\":{\"callback\":null},\"id\":\"0a29619f-12cc-4cf2-b66f-7843aee6b584\",\"type\":\"DataRange1d\"},{\"attributes\":{},\"id\":\"0ddc97b7-066e-44ff-91fd-eb1e778d5fe0\",\"type\":\"WheelZoomTool\"},{\"attributes\":{},\"id\":\"75229ce3-0e0f-427b-ada3-362cb41cc9f1\",\"type\":\"Selection\"},{\"attributes\":{\"fill_color\":{\"field\":\"cVal\",\"transform\":{\"id\":\"328217bb-a45c-45ca-9c1b-62023be6a0e1\",\"type\":\"LinearColorMapper\"}},\"line_color\":{\"field\":\"cVal\",\"transform\":{\"id\":\"328217bb-a45c-45ca-9c1b-62023be6a0e1\",\"type\":\"LinearColorMapper\"}},\"size\":{\"units\":\"screen\",\"value\":10},\"x\":{\"field\":\"xVal\"},\"y\":{\"field\":\"yVal\"}},\"id\":\"13ec7e3d-9d7f-4aa3-be4f-12ff315e9cb6\",\"type\":\"Circle\"},{\"attributes\":{},\"id\":\"5efc9e86-1f28-4294-ab87-b671e9f48e10\",\"type\":\"BasicTickFormatter\"},{\"attributes\":{\"bottom_units\":\"screen\",\"fill_alpha\":{\"value\":0.5},\"fill_color\":{\"value\":\"lightgrey\"},\"left_units\":\"screen\",\"level\":\"overlay\",\"line_alpha\":{\"value\":1.0},\"line_color\":{\"value\":\"black\"},\"line_dash\":[4,4],\"line_width\":{\"value\":2},\"plot\":null,\"render_mode\":\"css\",\"right_units\":\"screen\",\"top_units\":\"screen\"},\"id\":\"fb617fc9-89fc-4d90-8ee0-21df9faebb81\",\"type\":\"BoxAnnotation\"},{\"attributes\":{\"overlay\":{\"id\":\"fb617fc9-89fc-4d90-8ee0-21df9faebb81\",\"type\":\"BoxAnnotation\"}},\"id\":\"674b052a-006b-483d-b0c7-618bf37fd238\",\"type\":\"BoxZoomTool\"},{\"attributes\":{\"formatter\":{\"id\":\"5efc9e86-1f28-4294-ab87-b671e9f48e10\",\"type\":\"BasicTickFormatter\"},\"plot\":{\"id\":\"04f7f1e7-33a4-434a-aa05-9e98ca49c8f0\",\"subtype\":\"Figure\",\"type\":\"Plot\"},\"ticker\":{\"id\":\"3273c5c7-96f2-470f-a092-903d78e64add\",\"type\":\"BasicTicker\"}},\"id\":\"0ecb6398-2fbc-4113-af8d-b7e42a552c15\",\"type\":\"LinearAxis\"},{\"attributes\":{},\"id\":\"3273c5c7-96f2-470f-a092-903d78e64add\",\"type\":\"BasicTicker\"},{\"attributes\":{\"dimension\":1,\"plot\":{\"id\":\"04f7f1e7-33a4-434a-aa05-9e98ca49c8f0\",\"subtype\":\"Figure\",\"type\":\"Plot\"},\"ticker\":{\"id\":\"3273c5c7-96f2-470f-a092-903d78e64add\",\"type\":\"BasicTicker\"}},\"id\":\"5e5107ea-77d1-447a-ac7a-0a17fed07c2d\",\"type\":\"Grid\"},{\"attributes\":{\"below\":[{\"id\":\"95347d16-dff9-4bb2-93f1-b9f5845fb7c3\",\"type\":\"LinearAxis\"},{\"id\":\"5aca6f2b-6945-43f0-a584-f91deb63ca7a\",\"type\":\"ColorBar\"}],\"left\":[{\"id\":\"0ecb6398-2fbc-4113-af8d-b7e42a552c15\",\"type\":\"LinearAxis\"}],\"plot_height\":300,\"plot_width\":700,\"renderers\":[{\"id\":\"95347d16-dff9-4bb2-93f1-b9f5845fb7c3\",\"type\":\"LinearAxis\"},{\"id\":\"f73eba11-0087-4173-add5-f54222676da9\",\"type\":\"Grid\"},{\"id\":\"0ecb6398-2fbc-4113-af8d-b7e42a552c15\",\"type\":\"LinearAxis\"},{\"id\":\"5e5107ea-77d1-447a-ac7a-0a17fed07c2d\",\"type\":\"Grid\"},{\"id\":\"fb617fc9-89fc-4d90-8ee0-21df9faebb81\",\"type\":\"BoxAnnotation\"},{\"id\":\"f84bc2d0-11b9-4ae7-a749-206df6e8b107\",\"type\":\"GlyphRenderer\"},{\"id\":\"5aca6f2b-6945-43f0-a584-f91deb63ca7a\",\"type\":\"ColorBar\"}],\"title\":{\"id\":\"7a15d402-4acd-4647-a475-5d36bb1f9171\",\"type\":\"Title\"},\"toolbar\":{\"id\":\"0bf6749e-fd34-42de-bb07-bc442fc1a94e\",\"type\":\"Toolbar\"},\"x_range\":{\"id\":\"f335ff21-2d88-4662-8d00-2e50915304c8\",\"type\":\"Range1d\"},\"x_scale\":{\"id\":\"e0009ab8-0dec-47e8-b37a-39d66a73dbfa\",\"type\":\"LinearScale\"},\"y_range\":{\"id\":\"0a29619f-12cc-4cf2-b66f-7843aee6b584\",\"type\":\"DataRange1d\"},\"y_scale\":{\"id\":\"9047edf2-76a9-479d-8a53-5915db0e7ade\",\"type\":\"LinearScale\"}},\"id\":\"04f7f1e7-33a4-434a-aa05-9e98ca49c8f0\",\"subtype\":\"Figure\",\"type\":\"Plot\"},{\"attributes\":{},\"id\":\"819e9558-d71d-43f3-ab0c-98150b0328a4\",\"type\":\"PanTool\"},{\"attributes\":{},\"id\":\"1d2a4de2-b895-4fb5-84ef-3041034974fd\",\"type\":\"BasicTickFormatter\"},{\"attributes\":{\"fill_alpha\":{\"value\":0.1},\"fill_color\":{\"value\":\"#1f77b4\"},\"line_alpha\":{\"value\":0.1},\"line_color\":{\"value\":\"#1f77b4\"},\"size\":{\"units\":\"screen\",\"value\":10},\"x\":{\"field\":\"xVal\"},\"y\":{\"field\":\"yVal\"}},\"id\":\"bb92c307-06b9-4082-b2be-652137abc790\",\"type\":\"Circle\"},{\"attributes\":{\"callback\":null,\"data\":{\"cVal\":{\"__ndarray__\":\"wtQPUmaF8b/7DkgdJ+cGQC9C4ls4S/U/S0kCPNgA478gc6CcfCQGQJPUUEhiPJu/kJRMPAjSAMA1KYNYiQPrP+VheldcD/2/treDBKIR+z/EscksRo77v7W3gwSiEfs/5WF6V1wP/b81KYNYiQPrP5CUTDwI0gDAptRQSGI8m78ec6CcfCQGQFBJAjzYAOO/LkLiWzhL9T/7DkgdJ+cGQL/UD1JmhfG/\",\"dtype\":\"float64\",\"shape\":[21]},\"xVal\":{\"__ndarray__\":\"AAAAAAAAJMAAAAAAAAAiwAAAAAAAACDAAAAAAAAAHMAAAAAAAAAYwAAAAAAAABTAAAAAAAAAEMAAAAAAAAAIwAAAAAAAAADAAAAAAAAA8L8AAAAAAAAAAAAAAAAAAPA/AAAAAAAAAEAAAAAAAAAIQAAAAAAAABBAAAAAAAAAFEAAAAAAAAAYQAAAAAAAABxAAAAAAAAAIEAAAAAAAAAiQAAAAAAAACRA\",\"dtype\":\"float64\",\"shape\":[21]},\"yVal\":{\"__ndarray__\":\"AAAAAAAAAAAAAAAAAAAAAAAAAAAAAAAAAAAAAAAAAAAAAAAAAAAAAAAAAAAAAAAAAAAAAAAAAAAAAAAAAAAAAAAAAAAAAAAAAAAAAAAAAAAAAAAAAAAAAAAAAAAAAAAAAAAAAAAAAAAAAAAAAAAAAAAAAAAAAAAAAAAAAAAAAAAAAAAAAAAAAAAAAAAAAAAAAAAAAAAAAAAAAAAAAAAAAAAAAAAAAAAA\",\"dtype\":\"float64\",\"shape\":[21]}},\"selected\":{\"id\":\"75229ce3-0e0f-427b-ada3-362cb41cc9f1\",\"type\":\"Selection\"},\"selection_policy\":{\"id\":\"a3b726ed-69d7-47fe-ad1c-a01cfff64fd4\",\"type\":\"UnionRenderers\"}},\"id\":\"8896c396-5611-42a7-b26c-46cfd4d94486\",\"type\":\"ColumnDataSource\"},{\"attributes\":{\"data_source\":{\"id\":\"8896c396-5611-42a7-b26c-46cfd4d94486\",\"type\":\"ColumnDataSource\"},\"glyph\":{\"id\":\"13ec7e3d-9d7f-4aa3-be4f-12ff315e9cb6\",\"type\":\"Circle\"},\"hover_glyph\":null,\"muted_glyph\":null,\"nonselection_glyph\":{\"id\":\"bb92c307-06b9-4082-b2be-652137abc790\",\"type\":\"Circle\"},\"selection_glyph\":null,\"view\":{\"id\":\"660ba831-ae81-4f00-a05b-9bbd73b17da3\",\"type\":\"CDSView\"}},\"id\":\"f84bc2d0-11b9-4ae7-a749-206df6e8b107\",\"type\":\"GlyphRenderer\"},{\"attributes\":{},\"id\":\"d6e9a59e-306d-462e-b067-d9f76f3f3d6f\",\"type\":\"HelpTool\"},{\"attributes\":{\"active_drag\":\"auto\",\"active_inspect\":\"auto\",\"active_multi\":null,\"active_scroll\":\"auto\",\"active_tap\":\"auto\",\"tools\":[{\"id\":\"819e9558-d71d-43f3-ab0c-98150b0328a4\",\"type\":\"PanTool\"},{\"id\":\"0ddc97b7-066e-44ff-91fd-eb1e778d5fe0\",\"type\":\"WheelZoomTool\"},{\"id\":\"674b052a-006b-483d-b0c7-618bf37fd238\",\"type\":\"BoxZoomTool\"},{\"id\":\"4da674a2-5c3c-496a-be87-0276f3b32e36\",\"type\":\"SaveTool\"},{\"id\":\"10303f21-bac7-47e1-b18f-2749763cf85d\",\"type\":\"ResetTool\"},{\"id\":\"d6e9a59e-306d-462e-b067-d9f76f3f3d6f\",\"type\":\"HelpTool\"}]},\"id\":\"0bf6749e-fd34-42de-bb07-bc442fc1a94e\",\"type\":\"Toolbar\"},{\"attributes\":{\"color_mapper\":{\"id\":\"328217bb-a45c-45ca-9c1b-62023be6a0e1\",\"type\":\"LinearColorMapper\"},\"formatter\":{\"id\":\"abfc662a-3fc4-490f-be07-85b3481a88d7\",\"type\":\"BasicTickFormatter\"},\"location\":[0,0],\"orientation\":\"horizontal\",\"plot\":{\"id\":\"04f7f1e7-33a4-434a-aa05-9e98ca49c8f0\",\"subtype\":\"Figure\",\"type\":\"Plot\"},\"ticker\":{\"id\":\"5ae6b6a2-87ca-46f8-8476-5f977ffbd0d1\",\"type\":\"BasicTicker\"},\"width\":300},\"id\":\"5aca6f2b-6945-43f0-a584-f91deb63ca7a\",\"type\":\"ColorBar\"},{\"attributes\":{},\"id\":\"e0009ab8-0dec-47e8-b37a-39d66a73dbfa\",\"type\":\"LinearScale\"},{\"attributes\":{},\"id\":\"5ae6b6a2-87ca-46f8-8476-5f977ffbd0d1\",\"type\":\"BasicTicker\"},{\"attributes\":{\"plot\":{\"id\":\"04f7f1e7-33a4-434a-aa05-9e98ca49c8f0\",\"subtype\":\"Figure\",\"type\":\"Plot\"},\"ticker\":{\"id\":\"af923d6d-1a30-4d4d-9c44-ba27ed675d72\",\"type\":\"BasicTicker\"}},\"id\":\"f73eba11-0087-4173-add5-f54222676da9\",\"type\":\"Grid\"}],\"root_ids\":[\"04f7f1e7-33a4-434a-aa05-9e98ca49c8f0\"]},\"title\":\"Bokeh Application\",\"version\":\"0.13.0\"}};\n",
       "  var render_items = [{\"docid\":\"b90e0299-fa5c-45bc-a691-4225288316e5\",\"roots\":{\"04f7f1e7-33a4-434a-aa05-9e98ca49c8f0\":\"4ea2fb3f-9bc8-4bda-8e87-eb672db0cc1c\"}}];\n",
       "  root.Bokeh.embed.embed_items_notebook(docs_json, render_items);\n",
       "\n",
       "  }\n",
       "  if (root.Bokeh !== undefined) {\n",
       "    embed_document(root);\n",
       "  } else {\n",
       "    var attempts = 0;\n",
       "    var timer = setInterval(function(root) {\n",
       "      if (root.Bokeh !== undefined) {\n",
       "        embed_document(root);\n",
       "        clearInterval(timer);\n",
       "      }\n",
       "      attempts++;\n",
       "      if (attempts > 100) {\n",
       "        console.log(\"Bokeh: ERROR: Unable to run BokehJS code because BokehJS library is missing\")\n",
       "        clearInterval(timer);\n",
       "      }\n",
       "    }, 10, root)\n",
       "  }\n",
       "})(window);"
      ],
      "application/vnd.bokehjs_exec.v0+json": ""
     },
     "metadata": {
      "application/vnd.bokehjs_exec.v0+json": {
       "id": "04f7f1e7-33a4-434a-aa05-9e98ca49c8f0"
      }
     },
     "output_type": "display_data"
    }
   ],
   "source": [
    "# Plot the phase of the wavefunction at time = endt\n",
    "t = 100;\n",
    "phi_t = np.squeeze(phis[t]);\n",
    "phase = figure(plot_height=300, plot_width=700, title=\"Eventual wavefunction\",x_range=[-1.1*a*M,1.1*a*M]);\n",
    "source4 = ColumnDataSource(data = {'xVal': lattx, 'yVal' : latty, 'cVal': phi_t});\n",
    "#phase.line('xVal','yVal', source = source4); # Option 1: use smoothed curve to show phase variation\n",
    "mapper = linear_cmap(field_name = 'cVal', palette = Spectral6, low = min(phi_t), high = max(phi_t));\n",
    "phase.circle('xVal','yVal',source = source4, size = 10, line_color = mapper, fill_color = mapper);\n",
    "color_bar = ColorBar(color_mapper = mapper['transform'], width = 300, location = (0,0), orientation = \"horizontal\")\n",
    "phase.add_layout(color_bar, 'below');\n",
    "show(phase)"
   ]
  },
  {
   "cell_type": "code",
   "execution_count": 28,
   "metadata": {},
   "outputs": [
    {
     "ename": "TypeError",
     "evalue": "'ColumnDataSource' object is not callable",
     "output_type": "error",
     "traceback": [
      "\u001b[1;31m---------------------------------------------------------------------------\u001b[0m",
      "\u001b[1;31mTypeError\u001b[0m                                 Traceback (most recent call last)",
      "\u001b[1;32m<ipython-input-28-6d638aaa8944>\u001b[0m in \u001b[0;36m<module>\u001b[1;34m\u001b[0m\n\u001b[1;32m----> 1\u001b[1;33m \u001b[0msource4\u001b[0m\u001b[1;33m(\u001b[0m\u001b[1;34m'yVal'\u001b[0m\u001b[1;33m)\u001b[0m\u001b[1;33m\u001b[0m\u001b[1;33m\u001b[0m\u001b[0m\n\u001b[0m",
      "\u001b[1;31mTypeError\u001b[0m: 'ColumnDataSource' object is not callable"
     ]
    }
   ],
   "source": [
    "source4('yVal')"
   ]
  },
  {
   "cell_type": "code",
   "execution_count": null,
   "metadata": {},
   "outputs": [],
   "source": []
  }
 ],
 "metadata": {
  "kernelspec": {
   "display_name": "Python 3",
   "language": "python",
   "name": "python3"
  },
  "language_info": {
   "codemirror_mode": {
    "name": "ipython",
    "version": 3
   },
   "file_extension": ".py",
   "mimetype": "text/x-python",
   "name": "python",
   "nbconvert_exporter": "python",
   "pygments_lexer": "ipython3",
   "version": "3.6.8"
  }
 },
 "nbformat": 4,
 "nbformat_minor": 2
}
