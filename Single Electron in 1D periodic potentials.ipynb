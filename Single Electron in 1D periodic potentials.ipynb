{
 "cells": [
  {
   "cell_type": "code",
   "execution_count": 133,
   "metadata": {},
   "outputs": [
    {
     "data": {
      "text/html": [
       "\n",
       "    <div class=\"bk-root\">\n",
       "        <a href=\"https://bokeh.org\" target=\"_blank\" class=\"bk-logo bk-logo-small bk-logo-notebook\"></a>\n",
       "        <span id=\"17212\">Loading BokehJS ...</span>\n",
       "    </div>"
      ]
     },
     "metadata": {},
     "output_type": "display_data"
    },
    {
     "data": {
      "application/javascript": [
       "\n",
       "(function(root) {\n",
       "  function now() {\n",
       "    return new Date();\n",
       "  }\n",
       "\n",
       "  var force = true;\n",
       "\n",
       "  if (typeof root._bokeh_onload_callbacks === \"undefined\" || force === true) {\n",
       "    root._bokeh_onload_callbacks = [];\n",
       "    root._bokeh_is_loading = undefined;\n",
       "  }\n",
       "\n",
       "  var JS_MIME_TYPE = 'application/javascript';\n",
       "  var HTML_MIME_TYPE = 'text/html';\n",
       "  var EXEC_MIME_TYPE = 'application/vnd.bokehjs_exec.v0+json';\n",
       "  var CLASS_NAME = 'output_bokeh rendered_html';\n",
       "\n",
       "  /**\n",
       "   * Render data to the DOM node\n",
       "   */\n",
       "  function render(props, node) {\n",
       "    var script = document.createElement(\"script\");\n",
       "    node.appendChild(script);\n",
       "  }\n",
       "\n",
       "  /**\n",
       "   * Handle when an output is cleared or removed\n",
       "   */\n",
       "  function handleClearOutput(event, handle) {\n",
       "    var cell = handle.cell;\n",
       "\n",
       "    var id = cell.output_area._bokeh_element_id;\n",
       "    var server_id = cell.output_area._bokeh_server_id;\n",
       "    // Clean up Bokeh references\n",
       "    if (id != null && id in Bokeh.index) {\n",
       "      Bokeh.index[id].model.document.clear();\n",
       "      delete Bokeh.index[id];\n",
       "    }\n",
       "\n",
       "    if (server_id !== undefined) {\n",
       "      // Clean up Bokeh references\n",
       "      var cmd = \"from bokeh.io.state import curstate; print(curstate().uuid_to_server['\" + server_id + \"'].get_sessions()[0].document.roots[0]._id)\";\n",
       "      cell.notebook.kernel.execute(cmd, {\n",
       "        iopub: {\n",
       "          output: function(msg) {\n",
       "            var id = msg.content.text.trim();\n",
       "            if (id in Bokeh.index) {\n",
       "              Bokeh.index[id].model.document.clear();\n",
       "              delete Bokeh.index[id];\n",
       "            }\n",
       "          }\n",
       "        }\n",
       "      });\n",
       "      // Destroy server and session\n",
       "      var cmd = \"import bokeh.io.notebook as ion; ion.destroy_server('\" + server_id + \"')\";\n",
       "      cell.notebook.kernel.execute(cmd);\n",
       "    }\n",
       "  }\n",
       "\n",
       "  /**\n",
       "   * Handle when a new output is added\n",
       "   */\n",
       "  function handleAddOutput(event, handle) {\n",
       "    var output_area = handle.output_area;\n",
       "    var output = handle.output;\n",
       "\n",
       "    // limit handleAddOutput to display_data with EXEC_MIME_TYPE content only\n",
       "    if ((output.output_type != \"display_data\") || (!output.data.hasOwnProperty(EXEC_MIME_TYPE))) {\n",
       "      return\n",
       "    }\n",
       "\n",
       "    var toinsert = output_area.element.find(\".\" + CLASS_NAME.split(' ')[0]);\n",
       "\n",
       "    if (output.metadata[EXEC_MIME_TYPE][\"id\"] !== undefined) {\n",
       "      toinsert[toinsert.length - 1].firstChild.textContent = output.data[JS_MIME_TYPE];\n",
       "      // store reference to embed id on output_area\n",
       "      output_area._bokeh_element_id = output.metadata[EXEC_MIME_TYPE][\"id\"];\n",
       "    }\n",
       "    if (output.metadata[EXEC_MIME_TYPE][\"server_id\"] !== undefined) {\n",
       "      var bk_div = document.createElement(\"div\");\n",
       "      bk_div.innerHTML = output.data[HTML_MIME_TYPE];\n",
       "      var script_attrs = bk_div.children[0].attributes;\n",
       "      for (var i = 0; i < script_attrs.length; i++) {\n",
       "        toinsert[toinsert.length - 1].firstChild.setAttribute(script_attrs[i].name, script_attrs[i].value);\n",
       "      }\n",
       "      // store reference to server id on output_area\n",
       "      output_area._bokeh_server_id = output.metadata[EXEC_MIME_TYPE][\"server_id\"];\n",
       "    }\n",
       "  }\n",
       "\n",
       "  function register_renderer(events, OutputArea) {\n",
       "\n",
       "    function append_mime(data, metadata, element) {\n",
       "      // create a DOM node to render to\n",
       "      var toinsert = this.create_output_subarea(\n",
       "        metadata,\n",
       "        CLASS_NAME,\n",
       "        EXEC_MIME_TYPE\n",
       "      );\n",
       "      this.keyboard_manager.register_events(toinsert);\n",
       "      // Render to node\n",
       "      var props = {data: data, metadata: metadata[EXEC_MIME_TYPE]};\n",
       "      render(props, toinsert[toinsert.length - 1]);\n",
       "      element.append(toinsert);\n",
       "      return toinsert\n",
       "    }\n",
       "\n",
       "    /* Handle when an output is cleared or removed */\n",
       "    events.on('clear_output.CodeCell', handleClearOutput);\n",
       "    events.on('delete.Cell', handleClearOutput);\n",
       "\n",
       "    /* Handle when a new output is added */\n",
       "    events.on('output_added.OutputArea', handleAddOutput);\n",
       "\n",
       "    /**\n",
       "     * Register the mime type and append_mime function with output_area\n",
       "     */\n",
       "    OutputArea.prototype.register_mime_type(EXEC_MIME_TYPE, append_mime, {\n",
       "      /* Is output safe? */\n",
       "      safe: true,\n",
       "      /* Index of renderer in `output_area.display_order` */\n",
       "      index: 0\n",
       "    });\n",
       "  }\n",
       "\n",
       "  // register the mime type if in Jupyter Notebook environment and previously unregistered\n",
       "  if (root.Jupyter !== undefined) {\n",
       "    var events = require('base/js/events');\n",
       "    var OutputArea = require('notebook/js/outputarea').OutputArea;\n",
       "\n",
       "    if (OutputArea.prototype.mime_types().indexOf(EXEC_MIME_TYPE) == -1) {\n",
       "      register_renderer(events, OutputArea);\n",
       "    }\n",
       "  }\n",
       "\n",
       "  \n",
       "  if (typeof (root._bokeh_timeout) === \"undefined\" || force === true) {\n",
       "    root._bokeh_timeout = Date.now() + 5000;\n",
       "    root._bokeh_failed_load = false;\n",
       "  }\n",
       "\n",
       "  var NB_LOAD_WARNING = {'data': {'text/html':\n",
       "     \"<div style='background-color: #fdd'>\\n\"+\n",
       "     \"<p>\\n\"+\n",
       "     \"BokehJS does not appear to have successfully loaded. If loading BokehJS from CDN, this \\n\"+\n",
       "     \"may be due to a slow or bad network connection. Possible fixes:\\n\"+\n",
       "     \"</p>\\n\"+\n",
       "     \"<ul>\\n\"+\n",
       "     \"<li>re-rerun `output_notebook()` to attempt to load from CDN again, or</li>\\n\"+\n",
       "     \"<li>use INLINE resources instead, as so:</li>\\n\"+\n",
       "     \"</ul>\\n\"+\n",
       "     \"<code>\\n\"+\n",
       "     \"from bokeh.resources import INLINE\\n\"+\n",
       "     \"output_notebook(resources=INLINE)\\n\"+\n",
       "     \"</code>\\n\"+\n",
       "     \"</div>\"}};\n",
       "\n",
       "  function display_loaded() {\n",
       "    var el = document.getElementById(\"17212\");\n",
       "    if (el != null) {\n",
       "      el.textContent = \"BokehJS is loading...\";\n",
       "    }\n",
       "    if (root.Bokeh !== undefined) {\n",
       "      if (el != null) {\n",
       "        el.textContent = \"BokehJS \" + root.Bokeh.version + \" successfully loaded.\";\n",
       "      }\n",
       "    } else if (Date.now() < root._bokeh_timeout) {\n",
       "      setTimeout(display_loaded, 100)\n",
       "    }\n",
       "  }\n",
       "\n",
       "\n",
       "  function run_callbacks() {\n",
       "    try {\n",
       "      root._bokeh_onload_callbacks.forEach(function(callback) {\n",
       "        if (callback != null)\n",
       "          callback();\n",
       "      });\n",
       "    } finally {\n",
       "      delete root._bokeh_onload_callbacks\n",
       "    }\n",
       "    console.debug(\"Bokeh: all callbacks have finished\");\n",
       "  }\n",
       "\n",
       "  function load_libs(css_urls, js_urls, callback) {\n",
       "    if (css_urls == null) css_urls = [];\n",
       "    if (js_urls == null) js_urls = [];\n",
       "\n",
       "    root._bokeh_onload_callbacks.push(callback);\n",
       "    if (root._bokeh_is_loading > 0) {\n",
       "      console.debug(\"Bokeh: BokehJS is being loaded, scheduling callback at\", now());\n",
       "      return null;\n",
       "    }\n",
       "    if (js_urls == null || js_urls.length === 0) {\n",
       "      run_callbacks();\n",
       "      return null;\n",
       "    }\n",
       "    console.debug(\"Bokeh: BokehJS not loaded, scheduling load and callback at\", now());\n",
       "    root._bokeh_is_loading = css_urls.length + js_urls.length;\n",
       "\n",
       "    function on_load() {\n",
       "      root._bokeh_is_loading--;\n",
       "      if (root._bokeh_is_loading === 0) {\n",
       "        console.debug(\"Bokeh: all BokehJS libraries/stylesheets loaded\");\n",
       "        run_callbacks()\n",
       "      }\n",
       "    }\n",
       "\n",
       "    function on_error() {\n",
       "      console.error(\"failed to load \" + url);\n",
       "    }\n",
       "\n",
       "    for (var i = 0; i < css_urls.length; i++) {\n",
       "      var url = css_urls[i];\n",
       "      const element = document.createElement(\"link\");\n",
       "      element.onload = on_load;\n",
       "      element.onerror = on_error;\n",
       "      element.rel = \"stylesheet\";\n",
       "      element.type = \"text/css\";\n",
       "      element.href = url;\n",
       "      console.debug(\"Bokeh: injecting link tag for BokehJS stylesheet: \", url);\n",
       "      document.body.appendChild(element);\n",
       "    }\n",
       "\n",
       "    for (var i = 0; i < js_urls.length; i++) {\n",
       "      var url = js_urls[i];\n",
       "      var element = document.createElement('script');\n",
       "      element.onload = on_load;\n",
       "      element.onerror = on_error;\n",
       "      element.async = false;\n",
       "      element.src = url;\n",
       "      console.debug(\"Bokeh: injecting script tag for BokehJS library: \", url);\n",
       "      document.head.appendChild(element);\n",
       "    }\n",
       "  };var element = document.getElementById(\"17212\");\n",
       "  if (element == null) {\n",
       "    console.error(\"Bokeh: ERROR: autoload.js configured with elementid '17212' but no matching script tag was found. \")\n",
       "    return false;\n",
       "  }\n",
       "\n",
       "  function inject_raw_css(css) {\n",
       "    const element = document.createElement(\"style\");\n",
       "    element.appendChild(document.createTextNode(css));\n",
       "    document.body.appendChild(element);\n",
       "  }\n",
       "\n",
       "  \n",
       "  var js_urls = [\"https://cdn.pydata.org/bokeh/release/bokeh-1.4.0.min.js\", \"https://cdn.pydata.org/bokeh/release/bokeh-widgets-1.4.0.min.js\", \"https://cdn.pydata.org/bokeh/release/bokeh-tables-1.4.0.min.js\", \"https://cdn.pydata.org/bokeh/release/bokeh-gl-1.4.0.min.js\"];\n",
       "  var css_urls = [];\n",
       "  \n",
       "\n",
       "  var inline_js = [\n",
       "    function(Bokeh) {\n",
       "      Bokeh.set_log_level(\"info\");\n",
       "    },\n",
       "    function(Bokeh) {\n",
       "    \n",
       "    \n",
       "    }\n",
       "  ];\n",
       "\n",
       "  function run_inline_js() {\n",
       "    \n",
       "    if (root.Bokeh !== undefined || force === true) {\n",
       "      \n",
       "    for (var i = 0; i < inline_js.length; i++) {\n",
       "      inline_js[i].call(root, root.Bokeh);\n",
       "    }\n",
       "    if (force === true) {\n",
       "        display_loaded();\n",
       "      }} else if (Date.now() < root._bokeh_timeout) {\n",
       "      setTimeout(run_inline_js, 100);\n",
       "    } else if (!root._bokeh_failed_load) {\n",
       "      console.log(\"Bokeh: BokehJS failed to load within specified timeout.\");\n",
       "      root._bokeh_failed_load = true;\n",
       "    } else if (force !== true) {\n",
       "      var cell = $(document.getElementById(\"17212\")).parents('.cell').data().cell;\n",
       "      cell.output_area.append_execute_result(NB_LOAD_WARNING)\n",
       "    }\n",
       "\n",
       "  }\n",
       "\n",
       "  if (root._bokeh_is_loading === 0) {\n",
       "    console.debug(\"Bokeh: BokehJS loaded, going straight to plotting\");\n",
       "    run_inline_js();\n",
       "  } else {\n",
       "    load_libs(css_urls, js_urls, function() {\n",
       "      console.debug(\"Bokeh: BokehJS plotting callback run at\", now());\n",
       "      run_inline_js();\n",
       "    });\n",
       "  }\n",
       "}(window));"
      ],
      "application/vnd.bokehjs_load.v0+json": "\n(function(root) {\n  function now() {\n    return new Date();\n  }\n\n  var force = true;\n\n  if (typeof root._bokeh_onload_callbacks === \"undefined\" || force === true) {\n    root._bokeh_onload_callbacks = [];\n    root._bokeh_is_loading = undefined;\n  }\n\n  \n\n  \n  if (typeof (root._bokeh_timeout) === \"undefined\" || force === true) {\n    root._bokeh_timeout = Date.now() + 5000;\n    root._bokeh_failed_load = false;\n  }\n\n  var NB_LOAD_WARNING = {'data': {'text/html':\n     \"<div style='background-color: #fdd'>\\n\"+\n     \"<p>\\n\"+\n     \"BokehJS does not appear to have successfully loaded. If loading BokehJS from CDN, this \\n\"+\n     \"may be due to a slow or bad network connection. Possible fixes:\\n\"+\n     \"</p>\\n\"+\n     \"<ul>\\n\"+\n     \"<li>re-rerun `output_notebook()` to attempt to load from CDN again, or</li>\\n\"+\n     \"<li>use INLINE resources instead, as so:</li>\\n\"+\n     \"</ul>\\n\"+\n     \"<code>\\n\"+\n     \"from bokeh.resources import INLINE\\n\"+\n     \"output_notebook(resources=INLINE)\\n\"+\n     \"</code>\\n\"+\n     \"</div>\"}};\n\n  function display_loaded() {\n    var el = document.getElementById(\"17212\");\n    if (el != null) {\n      el.textContent = \"BokehJS is loading...\";\n    }\n    if (root.Bokeh !== undefined) {\n      if (el != null) {\n        el.textContent = \"BokehJS \" + root.Bokeh.version + \" successfully loaded.\";\n      }\n    } else if (Date.now() < root._bokeh_timeout) {\n      setTimeout(display_loaded, 100)\n    }\n  }\n\n\n  function run_callbacks() {\n    try {\n      root._bokeh_onload_callbacks.forEach(function(callback) {\n        if (callback != null)\n          callback();\n      });\n    } finally {\n      delete root._bokeh_onload_callbacks\n    }\n    console.debug(\"Bokeh: all callbacks have finished\");\n  }\n\n  function load_libs(css_urls, js_urls, callback) {\n    if (css_urls == null) css_urls = [];\n    if (js_urls == null) js_urls = [];\n\n    root._bokeh_onload_callbacks.push(callback);\n    if (root._bokeh_is_loading > 0) {\n      console.debug(\"Bokeh: BokehJS is being loaded, scheduling callback at\", now());\n      return null;\n    }\n    if (js_urls == null || js_urls.length === 0) {\n      run_callbacks();\n      return null;\n    }\n    console.debug(\"Bokeh: BokehJS not loaded, scheduling load and callback at\", now());\n    root._bokeh_is_loading = css_urls.length + js_urls.length;\n\n    function on_load() {\n      root._bokeh_is_loading--;\n      if (root._bokeh_is_loading === 0) {\n        console.debug(\"Bokeh: all BokehJS libraries/stylesheets loaded\");\n        run_callbacks()\n      }\n    }\n\n    function on_error() {\n      console.error(\"failed to load \" + url);\n    }\n\n    for (var i = 0; i < css_urls.length; i++) {\n      var url = css_urls[i];\n      const element = document.createElement(\"link\");\n      element.onload = on_load;\n      element.onerror = on_error;\n      element.rel = \"stylesheet\";\n      element.type = \"text/css\";\n      element.href = url;\n      console.debug(\"Bokeh: injecting link tag for BokehJS stylesheet: \", url);\n      document.body.appendChild(element);\n    }\n\n    for (var i = 0; i < js_urls.length; i++) {\n      var url = js_urls[i];\n      var element = document.createElement('script');\n      element.onload = on_load;\n      element.onerror = on_error;\n      element.async = false;\n      element.src = url;\n      console.debug(\"Bokeh: injecting script tag for BokehJS library: \", url);\n      document.head.appendChild(element);\n    }\n  };var element = document.getElementById(\"17212\");\n  if (element == null) {\n    console.error(\"Bokeh: ERROR: autoload.js configured with elementid '17212' but no matching script tag was found. \")\n    return false;\n  }\n\n  function inject_raw_css(css) {\n    const element = document.createElement(\"style\");\n    element.appendChild(document.createTextNode(css));\n    document.body.appendChild(element);\n  }\n\n  \n  var js_urls = [\"https://cdn.pydata.org/bokeh/release/bokeh-1.4.0.min.js\", \"https://cdn.pydata.org/bokeh/release/bokeh-widgets-1.4.0.min.js\", \"https://cdn.pydata.org/bokeh/release/bokeh-tables-1.4.0.min.js\", \"https://cdn.pydata.org/bokeh/release/bokeh-gl-1.4.0.min.js\"];\n  var css_urls = [];\n  \n\n  var inline_js = [\n    function(Bokeh) {\n      Bokeh.set_log_level(\"info\");\n    },\n    function(Bokeh) {\n    \n    \n    }\n  ];\n\n  function run_inline_js() {\n    \n    if (root.Bokeh !== undefined || force === true) {\n      \n    for (var i = 0; i < inline_js.length; i++) {\n      inline_js[i].call(root, root.Bokeh);\n    }\n    if (force === true) {\n        display_loaded();\n      }} else if (Date.now() < root._bokeh_timeout) {\n      setTimeout(run_inline_js, 100);\n    } else if (!root._bokeh_failed_load) {\n      console.log(\"Bokeh: BokehJS failed to load within specified timeout.\");\n      root._bokeh_failed_load = true;\n    } else if (force !== true) {\n      var cell = $(document.getElementById(\"17212\")).parents('.cell').data().cell;\n      cell.output_area.append_execute_result(NB_LOAD_WARNING)\n    }\n\n  }\n\n  if (root._bokeh_is_loading === 0) {\n    console.debug(\"Bokeh: BokehJS loaded, going straight to plotting\");\n    run_inline_js();\n  } else {\n    load_libs(css_urls, js_urls, function() {\n      console.debug(\"Bokeh: BokehJS plotting callback run at\", now());\n      run_inline_js();\n    });\n  }\n}(window));"
     },
     "metadata": {},
     "output_type": "display_data"
    }
   ],
   "source": [
    "import numpy as np\n",
    "import pandas as pd\n",
    "import ipywidgets as ipw\n",
    "\n",
    "from scipy.interpolate import interp1d\n",
    "from bokeh.palettes import RdYlBu11\n",
    "from bokeh.transform import linear_cmap\n",
    "from bokeh.io import push_notebook, output_notebook, show\n",
    "from bokeh.layouts import row, column\n",
    "from bokeh.plotting import figure, curdoc\n",
    "from bokeh.models import ColumnDataSource, ColorBar, BasicTickFormatter, BasicTicker, FixedTicker, FuncTickFormatter\n",
    "from bokeh.client import push_session\n",
    "\n",
    "from ipywidgets import interact\n",
    "\n",
    "import matplotlib.pyplot as plt\n",
    "import matplotlib.animation as anim\n",
    "output_notebook()"
   ]
  },
  {
   "cell_type": "code",
   "execution_count": 182,
   "metadata": {},
   "outputs": [
    {
     "data": {
      "text/html": [
       "\n",
       "\n",
       "\n",
       "\n",
       "\n",
       "\n",
       "  <div class=\"bk-root\" id=\"410fcc97-3f13-43ca-a9e3-c42da07fb349\" data-root-id=\"25650\"></div>\n"
      ]
     },
     "metadata": {},
     "output_type": "display_data"
    },
    {
     "data": {
      "application/javascript": [
       "(function(root) {\n",
       "  function embed_document(root) {\n",
       "    \n",
       "  var docs_json = {\"7d981ef0-1364-4f8d-8490-7fac0dc2f84c\":{\"roots\":{\"references\":[{\"attributes\":{\"below\":[{\"id\":\"25661\",\"type\":\"LinearAxis\"}],\"center\":[{\"id\":\"25665\",\"type\":\"Grid\"},{\"id\":\"25670\",\"type\":\"Grid\"}],\"left\":[{\"id\":\"25666\",\"type\":\"LinearAxis\"}],\"plot_height\":100,\"plot_width\":700,\"renderers\":[{\"id\":\"25688\",\"type\":\"GlyphRenderer\"}],\"title\":{\"id\":\"25651\",\"type\":\"Title\"},\"toolbar\":{\"id\":\"25677\",\"type\":\"Toolbar\"},\"x_range\":{\"id\":\"25653\",\"type\":\"Range1d\"},\"x_scale\":{\"id\":\"25657\",\"type\":\"LinearScale\"},\"y_range\":{\"id\":\"25655\",\"type\":\"DataRange1d\"},\"y_scale\":{\"id\":\"25659\",\"type\":\"LinearScale\"}},\"id\":\"25650\",\"subtype\":\"Figure\",\"type\":\"Plot\"},{\"attributes\":{},\"id\":\"26224\",\"type\":\"BasicTickFormatter\"},{\"attributes\":{},\"id\":\"26225\",\"type\":\"Selection\"},{\"attributes\":{},\"id\":\"25657\",\"type\":\"LinearScale\"},{\"attributes\":{\"fill_alpha\":{\"value\":0.1},\"fill_color\":{\"value\":\"#1f77b4\"},\"line_alpha\":{\"value\":0.1},\"line_color\":{\"value\":\"#1f77b4\"},\"size\":{\"units\":\"screen\",\"value\":10},\"x\":{\"field\":\"xVal\"},\"y\":{\"field\":\"yVal\"}},\"id\":\"25687\",\"type\":\"Circle\"},{\"attributes\":{},\"id\":\"26226\",\"type\":\"UnionRenderers\"},{\"attributes\":{\"overlay\":{\"id\":\"26227\",\"type\":\"BoxAnnotation\"}},\"id\":\"25673\",\"type\":\"BoxZoomTool\"},{\"attributes\":{\"formatter\":{\"id\":\"26222\",\"type\":\"BasicTickFormatter\"},\"ticker\":{\"id\":\"25667\",\"type\":\"BasicTicker\"}},\"id\":\"25666\",\"type\":\"LinearAxis\"},{\"attributes\":{\"callback\":null,\"data\":{\"xVal\":{\"__ndarray__\":\"AAAAAAAAOcAAAAAAAAA4wAAAAAAAADfAAAAAAAAANsAAAAAAAAA1wAAAAAAAADTAAAAAAAAAM8AAAAAAAAAywAAAAAAAADHAAAAAAAAAMMAAAAAAAAAuwAAAAAAAACzAAAAAAAAAKsAAAAAAAAAowAAAAAAAACbAAAAAAAAAJMAAAAAAAAAiwAAAAAAAACDAAAAAAAAAHMAAAAAAAAAYwAAAAAAAABTAAAAAAAAAEMAAAAAAAAAIwAAAAAAAAADAAAAAAAAA8L8AAAAAAAAAAAAAAAAAAPA/AAAAAAAAAEAAAAAAAAAIQAAAAAAAABBAAAAAAAAAFEAAAAAAAAAYQAAAAAAAABxAAAAAAAAAIEAAAAAAAAAiQAAAAAAAACRAAAAAAAAAJkAAAAAAAAAoQAAAAAAAACpAAAAAAAAALEAAAAAAAAAuQAAAAAAAADBAAAAAAAAAMUAAAAAAAAAyQAAAAAAAADNAAAAAAAAANEAAAAAAAAA1QAAAAAAAADZAAAAAAAAAN0AAAAAAAAA4QA==\",\"dtype\":\"float64\",\"shape\":[50]},\"yVal\":{\"__ndarray__\":\"AAAAAAAAAAAAAAAAAAAAAAAAAAAAAAAAAAAAAAAAAAAAAAAAAAAAAAAAAAAAAAAAAAAAAAAAAAAAAAAAAAAAAAAAAAAAAAAAAAAAAAAAAAAAAAAAAAAAAAAAAAAAAAAAAAAAAAAAAAAAAAAAAAAAAAAAAAAAAAAAAAAAAAAAAAAAAAAAAAAAAAAAAAAAAAAAAAAAAAAAAAAAAAAAAAAAAAAAAAAAAAAAAAAAAAAAAAAAAAAAAAAAAAAAAAAAAAAAAAAAAAAAAAAAAAAAAAAAAAAAAAAAAAAAAAAAAAAAAAAAAAAAAAAAAAAAAAAAAAAAAAAAAAAAAAAAAAAAAAAAAAAAAAAAAAAAAAAAAAAAAAAAAAAAAAAAAAAAAAAAAAAAAAAAAAAAAAAAAAAAAAAAAAAAAAAAAAAAAAAAAAAAAAAAAAAAAAAAAAAAAAAAAAAAAAAAAAAAAAAAAAAAAAAAAAAAAAAAAAAAAAAAAAAAAAAAAAAAAAAAAAAAAAAAAAAAAAAAAAAAAAAAAAAAAAAAAA==\",\"dtype\":\"float64\",\"shape\":[50]}},\"selected\":{\"id\":\"26225\",\"type\":\"Selection\"},\"selection_policy\":{\"id\":\"26226\",\"type\":\"UnionRenderers\"}},\"id\":\"25684\",\"type\":\"ColumnDataSource\"},{\"attributes\":{\"data_source\":{\"id\":\"25684\",\"type\":\"ColumnDataSource\"},\"glyph\":{\"id\":\"25686\",\"type\":\"Circle\"},\"hover_glyph\":null,\"muted_glyph\":null,\"nonselection_glyph\":{\"id\":\"25687\",\"type\":\"Circle\"},\"selection_glyph\":null,\"view\":{\"id\":\"25689\",\"type\":\"CDSView\"}},\"id\":\"25688\",\"type\":\"GlyphRenderer\"},{\"attributes\":{\"bottom_units\":\"screen\",\"fill_alpha\":{\"value\":0.5},\"fill_color\":{\"value\":\"lightgrey\"},\"left_units\":\"screen\",\"level\":\"overlay\",\"line_alpha\":{\"value\":1.0},\"line_color\":{\"value\":\"black\"},\"line_dash\":[4,4],\"line_width\":{\"value\":2},\"render_mode\":\"css\",\"right_units\":\"screen\",\"top_units\":\"screen\"},\"id\":\"26227\",\"type\":\"BoxAnnotation\"},{\"attributes\":{\"text\":\"1D atomic chain\"},\"id\":\"25651\",\"type\":\"Title\"},{\"attributes\":{\"ticker\":{\"id\":\"25662\",\"type\":\"BasicTicker\"}},\"id\":\"25665\",\"type\":\"Grid\"},{\"attributes\":{},\"id\":\"25662\",\"type\":\"BasicTicker\"},{\"attributes\":{},\"id\":\"25659\",\"type\":\"LinearScale\"},{\"attributes\":{},\"id\":\"25671\",\"type\":\"PanTool\"},{\"attributes\":{},\"id\":\"25675\",\"type\":\"ResetTool\"},{\"attributes\":{\"active_drag\":\"auto\",\"active_inspect\":\"auto\",\"active_multi\":null,\"active_scroll\":\"auto\",\"active_tap\":\"auto\",\"tools\":[{\"id\":\"25671\",\"type\":\"PanTool\"},{\"id\":\"25672\",\"type\":\"WheelZoomTool\"},{\"id\":\"25673\",\"type\":\"BoxZoomTool\"},{\"id\":\"25674\",\"type\":\"SaveTool\"},{\"id\":\"25675\",\"type\":\"ResetTool\"},{\"id\":\"25676\",\"type\":\"HelpTool\"}]},\"id\":\"25677\",\"type\":\"Toolbar\"},{\"attributes\":{\"axis_label\":\"Real space distance (arb. unit)\",\"formatter\":{\"id\":\"26224\",\"type\":\"BasicTickFormatter\"},\"ticker\":{\"id\":\"25662\",\"type\":\"BasicTicker\"}},\"id\":\"25661\",\"type\":\"LinearAxis\"},{\"attributes\":{},\"id\":\"25672\",\"type\":\"WheelZoomTool\"},{\"attributes\":{},\"id\":\"25667\",\"type\":\"BasicTicker\"},{\"attributes\":{},\"id\":\"25676\",\"type\":\"HelpTool\"},{\"attributes\":{\"fill_color\":{\"value\":\"black\"},\"size\":{\"units\":\"screen\",\"value\":10},\"x\":{\"field\":\"xVal\"},\"y\":{\"field\":\"yVal\"}},\"id\":\"25686\",\"type\":\"Circle\"},{\"attributes\":{},\"id\":\"25674\",\"type\":\"SaveTool\"},{\"attributes\":{},\"id\":\"26222\",\"type\":\"BasicTickFormatter\"},{\"attributes\":{\"callback\":null,\"end\":27.500000000000004,\"start\":-27.500000000000004},\"id\":\"25653\",\"type\":\"Range1d\"},{\"attributes\":{\"dimension\":1,\"ticker\":{\"id\":\"25667\",\"type\":\"BasicTicker\"}},\"id\":\"25670\",\"type\":\"Grid\"},{\"attributes\":{\"source\":{\"id\":\"25684\",\"type\":\"ColumnDataSource\"}},\"id\":\"25689\",\"type\":\"CDSView\"},{\"attributes\":{\"callback\":null},\"id\":\"25655\",\"type\":\"DataRange1d\"}],\"root_ids\":[\"25650\"]},\"title\":\"Bokeh Application\",\"version\":\"1.4.0\"}};\n",
       "  var render_items = [{\"docid\":\"7d981ef0-1364-4f8d-8490-7fac0dc2f84c\",\"roots\":{\"25650\":\"410fcc97-3f13-43ca-a9e3-c42da07fb349\"}}];\n",
       "  root.Bokeh.embed.embed_items_notebook(docs_json, render_items);\n",
       "\n",
       "  }\n",
       "  if (root.Bokeh !== undefined) {\n",
       "    embed_document(root);\n",
       "  } else {\n",
       "    var attempts = 0;\n",
       "    var timer = setInterval(function(root) {\n",
       "      if (root.Bokeh !== undefined) {\n",
       "        clearInterval(timer);\n",
       "        embed_document(root);\n",
       "      } else {\n",
       "        attempts++;\n",
       "        if (attempts > 100) {\n",
       "          clearInterval(timer);\n",
       "          console.log(\"Bokeh: ERROR: Unable to run BokehJS code because BokehJS library is missing\");\n",
       "        }\n",
       "      }\n",
       "    }, 10, root)\n",
       "  }\n",
       "})(window);"
      ],
      "application/vnd.bokehjs_exec.v0+json": ""
     },
     "metadata": {
      "application/vnd.bokehjs_exec.v0+json": {
       "id": "25650"
      }
     },
     "output_type": "display_data"
    }
   ],
   "source": [
    "N = 50; # Number of atomic sites\n",
    "M = int((N)/2); # Number of atomic sites on each side of the origin\n",
    "a = 1.0 # Real space distance between each site\n",
    "lattx = np.arange(-a*M,a*M,a); # '+1' because np.arange doesn't include the endpoint\n",
    "latty = np.zeros(lattx.size);\n",
    "lattice = figure(plot_height=100, plot_width=700, title=\"1D atomic chain\",x_range=[-1.1*a*M,1.1*a*M]);\n",
    "source1 = ColumnDataSource(data = {'xVal': lattx, 'yVal': latty});\n",
    "lattice.circle('xVal','yVal',source = source1, size = 10, line_color = 'black', fill_color = 'black');\n",
    "lattice.xaxis.axis_label = 'Real space distance (arb. unit)';\n",
    "show(lattice)"
   ]
  },
  {
   "cell_type": "code",
   "execution_count": 183,
   "metadata": {},
   "outputs": [],
   "source": [
    "k0 = 2*np.pi/(N*a);\n",
    "k = np.linspace(-M*k0,(M-1)*k0);\n",
    "energy = -2*np.cos(k);"
   ]
  },
  {
   "cell_type": "code",
   "execution_count": 184,
   "metadata": {},
   "outputs": [
    {
     "data": {
      "text/html": [
       "\n",
       "\n",
       "\n",
       "\n",
       "\n",
       "\n",
       "  <div class=\"bk-root\" id=\"ab272950-3c88-4b3a-9f84-6ec3af6fe970\" data-root-id=\"26276\"></div>\n"
      ]
     },
     "metadata": {},
     "output_type": "display_data"
    },
    {
     "data": {
      "application/javascript": [
       "(function(root) {\n",
       "  function embed_document(root) {\n",
       "    \n",
       "  var docs_json = {\"4e027b9e-af92-4e00-b592-565974da78ad\":{\"roots\":{\"references\":[{\"attributes\":{\"below\":[{\"id\":\"26287\",\"type\":\"LinearAxis\"}],\"center\":[{\"id\":\"26291\",\"type\":\"Grid\"},{\"id\":\"26296\",\"type\":\"Grid\"}],\"left\":[{\"id\":\"26292\",\"type\":\"LinearAxis\"}],\"plot_height\":400,\"plot_width\":700,\"renderers\":[{\"id\":\"26314\",\"type\":\"GlyphRenderer\"},{\"id\":\"26319\",\"type\":\"GlyphRenderer\"}],\"title\":{\"id\":\"26277\",\"type\":\"Title\"},\"toolbar\":{\"id\":\"26303\",\"type\":\"Toolbar\"},\"x_range\":{\"id\":\"26279\",\"type\":\"Range1d\"},\"x_scale\":{\"id\":\"26283\",\"type\":\"LinearScale\"},\"y_range\":{\"id\":\"26281\",\"type\":\"Range1d\"},\"y_scale\":{\"id\":\"26285\",\"type\":\"LinearScale\"}},\"id\":\"26276\",\"subtype\":\"Figure\",\"type\":\"Plot\"},{\"attributes\":{\"source\":{\"id\":\"26310\",\"type\":\"ColumnDataSource\"}},\"id\":\"26320\",\"type\":\"CDSView\"},{\"attributes\":{},\"id\":\"26283\",\"type\":\"LinearScale\"},{\"attributes\":{},\"id\":\"26863\",\"type\":\"BasicTickFormatter\"},{\"attributes\":{\"callback\":null,\"end\":2.4,\"start\":-2.4},\"id\":\"26281\",\"type\":\"Range1d\"},{\"attributes\":{},\"id\":\"26302\",\"type\":\"HelpTool\"},{\"attributes\":{},\"id\":\"26864\",\"type\":\"Selection\"},{\"attributes\":{\"callback\":null,\"end\":1.1000000000000003,\"start\":-1.1000000000000003},\"id\":\"26279\",\"type\":\"Range1d\"},{\"attributes\":{},\"id\":\"26865\",\"type\":\"UnionRenderers\"},{\"attributes\":{\"text\":\"Energy band in reciprocal space\"},\"id\":\"26277\",\"type\":\"Title\"},{\"attributes\":{\"fill_color\":{\"value\":\"#1f77b4\"},\"line_color\":{\"value\":\"#1f77b4\"},\"size\":{\"units\":\"screen\",\"value\":6},\"x\":{\"field\":\"xVal\"},\"y\":{\"field\":\"yVal\"}},\"id\":\"26312\",\"type\":\"Circle\"},{\"attributes\":{\"overlay\":{\"id\":\"26866\",\"type\":\"BoxAnnotation\"}},\"id\":\"26299\",\"type\":\"BoxZoomTool\"},{\"attributes\":{},\"id\":\"26861\",\"type\":\"BasicTickFormatter\"},{\"attributes\":{\"line_color\":\"#1f77b4\",\"x\":{\"field\":\"xVal\"},\"y\":{\"field\":\"yVal\"}},\"id\":\"26317\",\"type\":\"Line\"},{\"attributes\":{},\"id\":\"26301\",\"type\":\"ResetTool\"},{\"attributes\":{\"source\":{\"id\":\"26310\",\"type\":\"ColumnDataSource\"}},\"id\":\"26315\",\"type\":\"CDSView\"},{\"attributes\":{\"active_drag\":\"auto\",\"active_inspect\":\"auto\",\"active_multi\":null,\"active_scroll\":\"auto\",\"active_tap\":\"auto\",\"tools\":[{\"id\":\"26297\",\"type\":\"PanTool\"},{\"id\":\"26298\",\"type\":\"WheelZoomTool\"},{\"id\":\"26299\",\"type\":\"BoxZoomTool\"},{\"id\":\"26300\",\"type\":\"SaveTool\"},{\"id\":\"26301\",\"type\":\"ResetTool\"},{\"id\":\"26302\",\"type\":\"HelpTool\"}]},\"id\":\"26303\",\"type\":\"Toolbar\"},{\"attributes\":{},\"id\":\"26300\",\"type\":\"SaveTool\"},{\"attributes\":{\"callback\":null,\"data\":{\"xVal\":{\"__ndarray__\":\"AQAAAAAA8L+5HoXrUbjuv3I9CtejcO2/KlyPwvUo7L/iehSuR+Hqv5uZmZmZmem/U7gehetR6L8M16NwPQrnv8T1KFyPwuW/exSuR+F65L80MzMzMzPjv+xRuB6F6+G/pXA9Ctej4L+6HoXrUbjevypcj8L1KNy/m5mZmZmZ2b8M16NwPQrXv3sUrkfhetS/7lG4HoXr0b+6HoXrUbjOv5+ZmZmZmcm/fhSuR+F6xL+6HoXrUbi+v4MUrkfherS/gxSuR+F6pL8AAAAAAAAAAG8UrkfheqQ/eRSuR+F6tD+6HoXrUbi+P3kUrkfhesQ/mpmZmZmZyT+1HoXrUbjOP+tRuB6F69E/exSuR+F61D8M16NwPQrXP5eZmZmZmdk/J1yPwvUo3D+4HoXrUbjeP6RwPQrXo+A/7FG4HoXr4T8yMzMzMzPjP3oUrkfheuQ/wvUoXI/C5T8K16NwPQrnP1O4HoXrUeg/m5mZmZmZ6T/hehSuR+HqPylcj8L1KOw/cT0K16Nw7T+5HoXrUbjuPw==\",\"dtype\":\"float64\",\"shape\":[50]},\"yVal\":{\"__ndarray__\":\"AAAAAAAAAEAD2YBUZ7//P+EeEB2i/v4/5VrvnbrA/T9ZwIFOtAr8P6r0l5t34/k/F7jSA7ZT9z+/AbX+xmX0P1MrGDx+JfE/nYElyfc/6z9W6S8378bjP4B6A2Uc/Nc/i5PgGwoTwD9kk+AbChPAv3V6A2Uc/Ne/TekvN+/G47+YgSXJ9z/rv1ArGDx+JfG/uQG1/sZl9L8VuNIDtlP3v6b0l5t34/m/WMCBTrQK/L/kWu+dusD9v+AeEB2i/v6/AtmAVGe//78AAAAAAAAAwAPZgFRnv/+/4R4QHaL+/r/kWu+dusD9v1rAgU60Cvy/qPSXm3fj+b8YuNIDtlP3v70Btf7GZfS/UCsYPH4l8b+YgSXJ9z/rv1jpLzfvxuO/hHoDZRz817+Ek+AbChPAv3uT4BsKE8A/gHoDZRz81z9H6S8378bjP5aBJcn3P+s/TysYPH4l8T+8AbX+xmX0Pxe40gO2U/c/qvSXm3fj+T9XwIFOtAr8P+Ra7526wP0/4B4QHaL+/j8D2YBUZ7//Pw==\",\"dtype\":\"float64\",\"shape\":[50]}},\"selected\":{\"id\":\"26864\",\"type\":\"Selection\"},\"selection_policy\":{\"id\":\"26865\",\"type\":\"UnionRenderers\"}},\"id\":\"26310\",\"type\":\"ColumnDataSource\"},{\"attributes\":{},\"id\":\"26288\",\"type\":\"BasicTicker\"},{\"attributes\":{},\"id\":\"26298\",\"type\":\"WheelZoomTool\"},{\"attributes\":{\"bottom_units\":\"screen\",\"fill_alpha\":{\"value\":0.5},\"fill_color\":{\"value\":\"lightgrey\"},\"left_units\":\"screen\",\"level\":\"overlay\",\"line_alpha\":{\"value\":1.0},\"line_color\":{\"value\":\"black\"},\"line_dash\":[4,4],\"line_width\":{\"value\":2},\"render_mode\":\"css\",\"right_units\":\"screen\",\"top_units\":\"screen\"},\"id\":\"26866\",\"type\":\"BoxAnnotation\"},{\"attributes\":{},\"id\":\"26293\",\"type\":\"BasicTicker\"},{\"attributes\":{},\"id\":\"26297\",\"type\":\"PanTool\"},{\"attributes\":{\"dimension\":1,\"ticker\":{\"id\":\"26293\",\"type\":\"BasicTicker\"}},\"id\":\"26296\",\"type\":\"Grid\"},{\"attributes\":{\"axis_label\":\"Energy (arb. Unit)\",\"formatter\":{\"id\":\"26861\",\"type\":\"BasicTickFormatter\"},\"ticker\":{\"id\":\"26293\",\"type\":\"BasicTicker\"}},\"id\":\"26292\",\"type\":\"LinearAxis\"},{\"attributes\":{\"data_source\":{\"id\":\"26310\",\"type\":\"ColumnDataSource\"},\"glyph\":{\"id\":\"26312\",\"type\":\"Circle\"},\"hover_glyph\":null,\"muted_glyph\":null,\"nonselection_glyph\":{\"id\":\"26313\",\"type\":\"Circle\"},\"selection_glyph\":null,\"view\":{\"id\":\"26315\",\"type\":\"CDSView\"}},\"id\":\"26314\",\"type\":\"GlyphRenderer\"},{\"attributes\":{\"fill_alpha\":{\"value\":0.1},\"fill_color\":{\"value\":\"#1f77b4\"},\"line_alpha\":{\"value\":0.1},\"line_color\":{\"value\":\"#1f77b4\"},\"size\":{\"units\":\"screen\",\"value\":6},\"x\":{\"field\":\"xVal\"},\"y\":{\"field\":\"yVal\"}},\"id\":\"26313\",\"type\":\"Circle\"},{\"attributes\":{\"ticker\":{\"id\":\"26288\",\"type\":\"BasicTicker\"}},\"id\":\"26291\",\"type\":\"Grid\"},{\"attributes\":{\"line_alpha\":0.1,\"line_color\":\"#1f77b4\",\"x\":{\"field\":\"xVal\"},\"y\":{\"field\":\"yVal\"}},\"id\":\"26318\",\"type\":\"Line\"},{\"attributes\":{},\"id\":\"26285\",\"type\":\"LinearScale\"},{\"attributes\":{\"data_source\":{\"id\":\"26310\",\"type\":\"ColumnDataSource\"},\"glyph\":{\"id\":\"26317\",\"type\":\"Line\"},\"hover_glyph\":null,\"muted_glyph\":null,\"nonselection_glyph\":{\"id\":\"26318\",\"type\":\"Line\"},\"selection_glyph\":null,\"view\":{\"id\":\"26320\",\"type\":\"CDSView\"}},\"id\":\"26319\",\"type\":\"GlyphRenderer\"},{\"attributes\":{\"axis_label\":\"k-vector ( \\u03c0 )\",\"formatter\":{\"id\":\"26863\",\"type\":\"BasicTickFormatter\"},\"ticker\":{\"id\":\"26288\",\"type\":\"BasicTicker\"}},\"id\":\"26287\",\"type\":\"LinearAxis\"}],\"root_ids\":[\"26276\"]},\"title\":\"Bokeh Application\",\"version\":\"1.4.0\"}};\n",
       "  var render_items = [{\"docid\":\"4e027b9e-af92-4e00-b592-565974da78ad\",\"roots\":{\"26276\":\"ab272950-3c88-4b3a-9f84-6ec3af6fe970\"}}];\n",
       "  root.Bokeh.embed.embed_items_notebook(docs_json, render_items);\n",
       "\n",
       "  }\n",
       "  if (root.Bokeh !== undefined) {\n",
       "    embed_document(root);\n",
       "  } else {\n",
       "    var attempts = 0;\n",
       "    var timer = setInterval(function(root) {\n",
       "      if (root.Bokeh !== undefined) {\n",
       "        clearInterval(timer);\n",
       "        embed_document(root);\n",
       "      } else {\n",
       "        attempts++;\n",
       "        if (attempts > 100) {\n",
       "          clearInterval(timer);\n",
       "          console.log(\"Bokeh: ERROR: Unable to run BokehJS code because BokehJS library is missing\");\n",
       "        }\n",
       "      }\n",
       "    }, 10, root)\n",
       "  }\n",
       "})(window);"
      ],
      "application/vnd.bokehjs_exec.v0+json": ""
     },
     "metadata": {
      "application/vnd.bokehjs_exec.v0+json": {
       "id": "26276"
      }
     },
     "output_type": "display_data"
    }
   ],
   "source": [
    "# Calcualte resulting dispersion relation using periodic boundary condition (PC)\n",
    "band = figure(plot_height = 400, plot_width = 700, title='Energy band in reciprocal space', x_range = [-1.1*k0*M/np.pi,1.1*k0*M/np.pi], y_range= [1.2*energy.min(),1.2*energy.max()]);\n",
    "source2 = ColumnDataSource(data = {'xVal': k/np.pi, 'yVal' : energy});\n",
    "band.circle('xVal','yVal',source = source2,size = 6);\n",
    "band.line('xVal','yVal',source = source2);\n",
    "band.xaxis.axis_label='k-vector ( \\u03c0 )';\n",
    "band.yaxis.axis_label='Energy (arb. Unit)';\n",
    "show(band)"
   ]
  },
  {
   "cell_type": "code",
   "execution_count": 212,
   "metadata": {},
   "outputs": [],
   "source": [
    "# define the initial wavefunction (with an artificial Gaussian dist. in k-space)\n",
    "sigm = 4*k0;\n",
    "kk0 = 12*k0;\n",
    "kk = np.linspace(-M*k0,(M-1)*k0, 200);\n",
    "phi_k0 = 1/(np.sqrt(2*np.pi)*sigm)*np.exp(-1/2*( (kk-kk0)/sigm )**2);"
   ]
  },
  {
   "cell_type": "code",
   "execution_count": 213,
   "metadata": {},
   "outputs": [
    {
     "data": {
      "text/html": [
       "\n",
       "\n",
       "\n",
       "\n",
       "\n",
       "\n",
       "  <div class=\"bk-root\" id=\"308cca60-dd35-4dff-ba37-390b9462556d\" data-root-id=\"31896\"></div>\n"
      ]
     },
     "metadata": {},
     "output_type": "display_data"
    },
    {
     "data": {
      "application/javascript": [
       "(function(root) {\n",
       "  function embed_document(root) {\n",
       "    \n",
       "  var docs_json = {\"285e95cf-0bd4-4219-96a6-a513eb7922d7\":{\"roots\":{\"references\":[{\"attributes\":{\"below\":[{\"id\":\"31907\",\"type\":\"LinearAxis\"}],\"center\":[{\"id\":\"31911\",\"type\":\"Grid\"},{\"id\":\"31916\",\"type\":\"Grid\"}],\"left\":[{\"id\":\"31912\",\"type\":\"LinearAxis\"}],\"plot_height\":400,\"plot_width\":700,\"renderers\":[{\"id\":\"31934\",\"type\":\"GlyphRenderer\"},{\"id\":\"31939\",\"type\":\"GlyphRenderer\"}],\"title\":{\"id\":\"31897\",\"type\":\"Title\"},\"toolbar\":{\"id\":\"31923\",\"type\":\"Toolbar\"},\"x_range\":{\"id\":\"31899\",\"type\":\"Range1d\"},\"x_scale\":{\"id\":\"31903\",\"type\":\"LinearScale\"},\"y_range\":{\"id\":\"31901\",\"type\":\"Range1d\"},\"y_scale\":{\"id\":\"31905\",\"type\":\"LinearScale\"}},\"id\":\"31896\",\"subtype\":\"Figure\",\"type\":\"Plot\"},{\"attributes\":{\"overlay\":{\"id\":\"32564\",\"type\":\"BoxAnnotation\"}},\"id\":\"31919\",\"type\":\"BoxZoomTool\"},{\"attributes\":{\"callback\":null,\"data\":{\"xVal\":{\"__ndarray__\":\"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\",\"dtype\":\"float64\",\"shape\":[200]},\"yVal\":{\"__ndarray__\":\"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\",\"dtype\":\"float64\",\"shape\":[200]}},\"selected\":{\"id\":\"32560\",\"type\":\"Selection\"},\"selection_policy\":{\"id\":\"32561\",\"type\":\"UnionRenderers\"}},\"id\":\"31930\",\"type\":\"ColumnDataSource\"},{\"attributes\":{\"axis_label\":\"k-space distance (arb. unit)\",\"formatter\":{\"id\":\"32559\",\"type\":\"BasicTickFormatter\"},\"ticker\":{\"id\":\"31908\",\"type\":\"BasicTicker\"}},\"id\":\"31907\",\"type\":\"LinearAxis\"},{\"attributes\":{},\"id\":\"32560\",\"type\":\"Selection\"},{\"attributes\":{\"text\":\"Initial wavefunction in real space\"},\"id\":\"31897\",\"type\":\"Title\"},{\"attributes\":{},\"id\":\"32561\",\"type\":\"UnionRenderers\"},{\"attributes\":{},\"id\":\"31921\",\"type\":\"ResetTool\"},{\"attributes\":{},\"id\":\"31922\",\"type\":\"HelpTool\"},{\"attributes\":{},\"id\":\"26864\",\"type\":\"Selection\"},{\"attributes\":{\"bottom_units\":\"screen\",\"fill_alpha\":{\"value\":0.5},\"fill_color\":{\"value\":\"lightgrey\"},\"left_units\":\"screen\",\"level\":\"overlay\",\"line_alpha\":{\"value\":1.0},\"line_color\":{\"value\":\"black\"},\"line_dash\":[4,4],\"line_width\":{\"value\":2},\"render_mode\":\"css\",\"right_units\":\"screen\",\"top_units\":\"screen\"},\"id\":\"32564\",\"type\":\"BoxAnnotation\"},{\"attributes\":{\"callback\":null,\"end\":1.1000000000000003,\"start\":-1.1000000000000003},\"id\":\"31899\",\"type\":\"Range1d\"},{\"attributes\":{\"dimension\":1,\"ticker\":{\"id\":\"31913\",\"type\":\"BasicTicker\"}},\"id\":\"31916\",\"type\":\"Grid\"},{\"attributes\":{\"source\":{\"id\":\"26310\",\"type\":\"ColumnDataSource\"}},\"id\":\"31940\",\"type\":\"CDSView\"},{\"attributes\":{},\"id\":\"26865\",\"type\":\"UnionRenderers\"},{\"attributes\":{},\"id\":\"31913\",\"type\":\"BasicTicker\"},{\"attributes\":{},\"id\":\"31920\",\"type\":\"SaveTool\"},{\"attributes\":{\"callback\":null,\"end\":2.4,\"start\":-2.4},\"id\":\"31901\",\"type\":\"Range1d\"},{\"attributes\":{\"active_drag\":\"auto\",\"active_inspect\":\"auto\",\"active_multi\":null,\"active_scroll\":\"auto\",\"active_tap\":\"auto\",\"tools\":[{\"id\":\"31917\",\"type\":\"PanTool\"},{\"id\":\"31918\",\"type\":\"WheelZoomTool\"},{\"id\":\"31919\",\"type\":\"BoxZoomTool\"},{\"id\":\"31920\",\"type\":\"SaveTool\"},{\"id\":\"31921\",\"type\":\"ResetTool\"},{\"id\":\"31922\",\"type\":\"HelpTool\"}]},\"id\":\"31923\",\"type\":\"Toolbar\"},{\"attributes\":{},\"id\":\"31903\",\"type\":\"LinearScale\"},{\"attributes\":{\"data_source\":{\"id\":\"31930\",\"type\":\"ColumnDataSource\"},\"glyph\":{\"id\":\"31932\",\"type\":\"Line\"},\"hover_glyph\":null,\"muted_glyph\":null,\"nonselection_glyph\":{\"id\":\"31933\",\"type\":\"Line\"},\"selection_glyph\":null,\"view\":{\"id\":\"31935\",\"type\":\"CDSView\"}},\"id\":\"31934\",\"type\":\"GlyphRenderer\"},{\"attributes\":{\"axis_label\":\"Probability density\",\"formatter\":{\"id\":\"32557\",\"type\":\"BasicTickFormatter\"},\"ticker\":{\"id\":\"31913\",\"type\":\"BasicTicker\"}},\"id\":\"31912\",\"type\":\"LinearAxis\"},{\"attributes\":{},\"id\":\"31908\",\"type\":\"BasicTicker\"},{\"attributes\":{\"callback\":null,\"data\":{\"xVal\":{\"__ndarray__\":\"AQAAAAAA8L+5HoXrUbjuv3I9CtejcO2/KlyPwvUo7L/iehSuR+Hqv5uZmZmZmem/U7gehetR6L8M16NwPQrnv8T1KFyPwuW/exSuR+F65L80MzMzMzPjv+xRuB6F6+G/pXA9Ctej4L+6HoXrUbjevypcj8L1KNy/m5mZmZmZ2b8M16NwPQrXv3sUrkfhetS/7lG4HoXr0b+6HoXrUbjOv5+ZmZmZmcm/fhSuR+F6xL+6HoXrUbi+v4MUrkfherS/gxSuR+F6pL8AAAAAAAAAAG8UrkfheqQ/eRSuR+F6tD+6HoXrUbi+P3kUrkfhesQ/mpmZmZmZyT+1HoXrUbjOP+tRuB6F69E/exSuR+F61D8M16NwPQrXP5eZmZmZmdk/J1yPwvUo3D+4HoXrUbjeP6RwPQrXo+A/7FG4HoXr4T8yMzMzMzPjP3oUrkfheuQ/wvUoXI/C5T8K16NwPQrnP1O4HoXrUeg/m5mZmZmZ6T/hehSuR+HqPylcj8L1KOw/cT0K16Nw7T+5HoXrUbjuPw==\",\"dtype\":\"float64\",\"shape\":[50]},\"yVal\":{\"__ndarray__\":\"AAAAAAAAAEAD2YBUZ7//P+EeEB2i/v4/5VrvnbrA/T9ZwIFOtAr8P6r0l5t34/k/F7jSA7ZT9z+/AbX+xmX0P1MrGDx+JfE/nYElyfc/6z9W6S8378bjP4B6A2Uc/Nc/i5PgGwoTwD9kk+AbChPAv3V6A2Uc/Ne/TekvN+/G47+YgSXJ9z/rv1ArGDx+JfG/uQG1/sZl9L8VuNIDtlP3v6b0l5t34/m/WMCBTrQK/L/kWu+dusD9v+AeEB2i/v6/AtmAVGe//78AAAAAAAAAwAPZgFRnv/+/4R4QHaL+/r/kWu+dusD9v1rAgU60Cvy/qPSXm3fj+b8YuNIDtlP3v70Btf7GZfS/UCsYPH4l8b+YgSXJ9z/rv1jpLzfvxuO/hHoDZRz817+Ek+AbChPAv3uT4BsKE8A/gHoDZRz81z9H6S8378bjP5aBJcn3P+s/TysYPH4l8T+8AbX+xmX0Pxe40gO2U/c/qvSXm3fj+T9XwIFOtAr8P+Ra7526wP0/4B4QHaL+/j8D2YBUZ7//Pw==\",\"dtype\":\"float64\",\"shape\":[50]}},\"selected\":{\"id\":\"26864\",\"type\":\"Selection\"},\"selection_policy\":{\"id\":\"26865\",\"type\":\"UnionRenderers\"}},\"id\":\"26310\",\"type\":\"ColumnDataSource\"},{\"attributes\":{},\"id\":\"32559\",\"type\":\"BasicTickFormatter\"},{\"attributes\":{},\"id\":\"31905\",\"type\":\"LinearScale\"},{\"attributes\":{\"data_source\":{\"id\":\"26310\",\"type\":\"ColumnDataSource\"},\"glyph\":{\"id\":\"31937\",\"type\":\"Circle\"},\"hover_glyph\":null,\"muted_glyph\":null,\"nonselection_glyph\":{\"id\":\"31938\",\"type\":\"Circle\"},\"selection_glyph\":null,\"view\":{\"id\":\"31940\",\"type\":\"CDSView\"}},\"id\":\"31939\",\"type\":\"GlyphRenderer\"},{\"attributes\":{\"ticker\":{\"id\":\"31908\",\"type\":\"BasicTicker\"}},\"id\":\"31911\",\"type\":\"Grid\"},{\"attributes\":{},\"id\":\"32557\",\"type\":\"BasicTickFormatter\"},{\"attributes\":{\"line_color\":\"red\",\"x\":{\"field\":\"xVal\"},\"y\":{\"field\":\"yVal\"}},\"id\":\"31932\",\"type\":\"Line\"},{\"attributes\":{\"fill_color\":{\"value\":\"black\"},\"size\":{\"units\":\"screen\",\"value\":10},\"x\":{\"field\":\"xVal\"},\"y\":{\"field\":\"yVal\"}},\"id\":\"31937\",\"type\":\"Circle\"},{\"attributes\":{},\"id\":\"31918\",\"type\":\"WheelZoomTool\"},{\"attributes\":{\"fill_alpha\":{\"value\":0.1},\"fill_color\":{\"value\":\"#1f77b4\"},\"line_alpha\":{\"value\":0.1},\"line_color\":{\"value\":\"#1f77b4\"},\"size\":{\"units\":\"screen\",\"value\":10},\"x\":{\"field\":\"xVal\"},\"y\":{\"field\":\"yVal\"}},\"id\":\"31938\",\"type\":\"Circle\"},{\"attributes\":{\"line_alpha\":0.1,\"line_color\":\"#1f77b4\",\"x\":{\"field\":\"xVal\"},\"y\":{\"field\":\"yVal\"}},\"id\":\"31933\",\"type\":\"Line\"},{\"attributes\":{\"source\":{\"id\":\"31930\",\"type\":\"ColumnDataSource\"}},\"id\":\"31935\",\"type\":\"CDSView\"},{\"attributes\":{},\"id\":\"31917\",\"type\":\"PanTool\"}],\"root_ids\":[\"31896\"]},\"title\":\"Bokeh Application\",\"version\":\"1.4.0\"}};\n",
       "  var render_items = [{\"docid\":\"285e95cf-0bd4-4219-96a6-a513eb7922d7\",\"roots\":{\"31896\":\"308cca60-dd35-4dff-ba37-390b9462556d\"}}];\n",
       "  root.Bokeh.embed.embed_items_notebook(docs_json, render_items);\n",
       "\n",
       "  }\n",
       "  if (root.Bokeh !== undefined) {\n",
       "    embed_document(root);\n",
       "  } else {\n",
       "    var attempts = 0;\n",
       "    var timer = setInterval(function(root) {\n",
       "      if (root.Bokeh !== undefined) {\n",
       "        clearInterval(timer);\n",
       "        embed_document(root);\n",
       "      } else {\n",
       "        attempts++;\n",
       "        if (attempts > 100) {\n",
       "          clearInterval(timer);\n",
       "          console.log(\"Bokeh: ERROR: Unable to run BokehJS code because BokehJS library is missing\");\n",
       "        }\n",
       "      }\n",
       "    }, 10, root)\n",
       "  }\n",
       "})(window);"
      ],
      "application/vnd.bokehjs_exec.v0+json": ""
     },
     "metadata": {
      "application/vnd.bokehjs_exec.v0+json": {
       "id": "31896"
      }
     },
     "output_type": "display_data"
    }
   ],
   "source": [
    "# Initialize an electron at the center of the 1D chain with a gaussian distribution to indicates its probability density\n",
    "dist0 = figure(plot_height = 400, plot_width = 700, title='Initial wavefunction in real space', x_range = [-1.1*k0*M/np.pi,1.1*k0*M/np.pi], y_range= [1.2*energy.min(),1.2*energy.max()]);\n",
    "source3 = ColumnDataSource(data = {'xVal': kk/np.pi, 'yVal': phi_k0/phi_k0.max()});\n",
    "dist0.line('xVal','yVal', source = source3, line_color = 'red');\n",
    "dist0.circle('xVal','yVal',source = source2, size = 10, line_color = 'black', fill_color = 'black');\n",
    "dist0.xaxis.axis_label='k-space distance (arb. unit)';\n",
    "dist0.yaxis.axis_label='Probability density';\n",
    "show(dist0)"
   ]
  },
  {
   "cell_type": "code",
   "execution_count": 214,
   "metadata": {},
   "outputs": [],
   "source": [
    "phi_k0 = 1/(np.sqrt(2*np.pi)*sigm)*np.exp(-1/2*( (k-kk0)/sigm )**2);\n",
    "phi_r0 = np.empty(N, dtype = complex);\n",
    "for nn in range(0,N):\n",
    "    psi0 = 0;\n",
    "    for kn in range(k.size):\n",
    "        psi0 = psi0 + phi_k0[kn]*np.exp(-1j*k[kn]*nn*a);\n",
    "    phi_r0[nn] = psi0;\n",
    "    rho0[nn] = np.abs(psi0);"
   ]
  },
  {
   "cell_type": "code",
   "execution_count": 215,
   "metadata": {},
   "outputs": [
    {
     "name": "stdout",
     "output_type": "stream",
     "text": [
      "[[ 0.+0.j -1.+0.j  0.+0.j ...  0.+0.j  0.+0.j -1.+0.j]\n",
      " [-1.+0.j  0.+0.j -1.+0.j ...  0.+0.j  0.+0.j  0.+0.j]\n",
      " [ 0.+0.j -1.+0.j  0.+0.j ...  0.+0.j  0.+0.j  0.+0.j]\n",
      " ...\n",
      " [ 0.+0.j  0.+0.j  0.+0.j ...  0.+0.j -1.+0.j  0.+0.j]\n",
      " [ 0.+0.j  0.+0.j  0.+0.j ... -1.+0.j  0.+0.j -1.+0.j]\n",
      " [-1.+0.j  0.+0.j  0.+0.j ...  0.+0.j -1.+0.j  0.+0.j]]\n"
     ]
    }
   ],
   "source": [
    "# Construct hamiltonian using occupation number basis and set initial wavefunction\n",
    "asd = np.zeros((N-1,N-1),complex);\n",
    "np.fill_diagonal(asd,-1);\n",
    "b = np.append(asd,np.zeros((N-1,1),complex), axis = 1);\n",
    "c = np.append(np.zeros((1,N),complex),b,axis = 0);\n",
    "hamil = c + np.transpose(c);\n",
    "np.fill_diagonal(hamil,0);\n",
    "psi0 = np.zeros((N,1),complex);\n",
    "rho0 = np.zeros((N,1), float);\n",
    "\n",
    "# # Define real space wavefunction using occupation number basis\n",
    "# for nn in range(0, N):\n",
    "#     psi0[nn][0] = np.exp(-1j*k0*(nn+1));\n",
    "# #     psi0[nn][0] = 0 + 1j*2*k0*(nn+1)\n",
    "# psi0[M+4][0] = np.exp(-1j*2*k0*(M+5))\n",
    "# # psi0[M+4][0] = 1 + 1j*1*k0*(M+5);\n",
    "\n",
    "phi_k0 = 1/(np.sqrt(2*np.pi)*sigm)*np.exp(-1/2*( (k-kk0)/sigm )**2);\n",
    "for nn in range(0,psi0.size):\n",
    "    psi_temp = 0;\n",
    "    for kn in range(k.size):\n",
    "        psi_temp = psi_temp + phi_k0[kn]*np.exp(-1j*(k[kn]*(nn-M)*a));\n",
    "    psi0[nn][0] = psi_temp;\n",
    "    rho0[nn][0] = np.abs(psi0[nn][0]);\n",
    "\n",
    "hamil[N-1][0] = -1; #Apply periodic boundry condition\n",
    "hamil[0][N-1] = -1;\n",
    "print(hamil)"
   ]
  },
  {
   "cell_type": "code",
   "execution_count": 221,
   "metadata": {},
   "outputs": [],
   "source": [
    "# Define time evolution operator\n",
    "dt = 0.1; # Define time step\n",
    "endt = 6000;\n",
    "diaganol = np.ones(N);\n",
    "evol = np.diag(diaganol)+1.j*hamil*dt; # Use first order Taylor expansion to approximate the evolution operator\n",
    "ts = np.arange(0,endt*dt,dt);\n",
    "psis = np.empty(ts.size,dtype = object); # Initiate a container for the wavefunctions at different time slice\n",
    "phis = np.empty(ts.size,dtype = object); # Initiate a container for the phase at different time slice\n",
    "rhos = np.empty(ts.size,dtype = object); # Initiate a container for the probability density at different time slice\n",
    "psis[0]=psi0;\n",
    "for ii in range(1,ts.size):\n",
    "    psis[ii] = np.dot(evol,psis[ii-1]);\n",
    "lattx2 = np.arange(-M*a,a*(M-1),a/10.0);\n",
    "for ii in range(0,ts.size-1):\n",
    "    phis[ii] = np.angle((psis[ii]));\n",
    "    rhos[ii] = np.abs(psis[ii]);"
   ]
  },
  {
   "cell_type": "code",
   "execution_count": 222,
   "metadata": {},
   "outputs": [
    {
     "data": {
      "text/html": [
       "\n",
       "\n",
       "\n",
       "\n",
       "\n",
       "\n",
       "  <div class=\"bk-root\" id=\"eb52f45a-d805-480f-b2bd-ccfe81f057bc\" data-root-id=\"34276\"></div>\n"
      ]
     },
     "metadata": {},
     "output_type": "display_data"
    },
    {
     "data": {
      "application/javascript": [
       "(function(root) {\n",
       "  function embed_document(root) {\n",
       "    \n",
       "  var docs_json = {\"b8c5c022-bf24-42d1-a828-ee513faa0581\":{\"roots\":{\"references\":[{\"attributes\":{\"below\":[{\"id\":\"34287\",\"type\":\"LinearAxis\"},{\"id\":\"34323\",\"type\":\"ColorBar\"}],\"center\":[{\"id\":\"34291\",\"type\":\"Grid\"},{\"id\":\"34296\",\"type\":\"Grid\"}],\"left\":[{\"id\":\"34292\",\"type\":\"LinearAxis\"}],\"plot_height\":300,\"plot_width\":700,\"renderers\":[{\"id\":\"34316\",\"type\":\"GlyphRenderer\"},{\"id\":\"34321\",\"type\":\"GlyphRenderer\"}],\"title\":{\"id\":\"34277\",\"type\":\"Title\"},\"toolbar\":{\"id\":\"34303\",\"type\":\"Toolbar\"},\"x_range\":{\"id\":\"34279\",\"type\":\"Range1d\"},\"x_scale\":{\"id\":\"34283\",\"type\":\"LinearScale\"},\"y_range\":{\"id\":\"34281\",\"type\":\"DataRange1d\"},\"y_scale\":{\"id\":\"34285\",\"type\":\"LinearScale\"}},\"id\":\"34276\",\"subtype\":\"Figure\",\"type\":\"Plot\"},{\"attributes\":{\"ticker\":{\"id\":\"34288\",\"type\":\"BasicTicker\"}},\"id\":\"34291\",\"type\":\"Grid\"},{\"attributes\":{},\"id\":\"34969\",\"type\":\"Selection\"},{\"attributes\":{\"formatter\":{\"id\":\"34962\",\"type\":\"BasicTickFormatter\"},\"ticker\":{\"id\":\"34293\",\"type\":\"BasicTicker\"}},\"id\":\"34292\",\"type\":\"LinearAxis\"},{\"attributes\":{\"text\":\"Electron wavefunction\"},\"id\":\"34277\",\"type\":\"Title\"},{\"attributes\":{\"fill_color\":{\"field\":\"cVal\",\"transform\":{\"id\":\"34312\",\"type\":\"LinearColorMapper\"}},\"line_color\":{\"field\":\"cVal\",\"transform\":{\"id\":\"34312\",\"type\":\"LinearColorMapper\"}},\"size\":{\"units\":\"screen\",\"value\":10},\"x\":{\"field\":\"xVal\"},\"y\":{\"field\":\"yVal\"}},\"id\":\"34314\",\"type\":\"Circle\"},{\"attributes\":{\"callback\":null,\"data\":{\"xVal_s\":{\"__ndarray__\":\"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\",\"dtype\":\"float64\",\"shape\":[200]},\"yVal_s\":{\"__ndarray__\":\"QkN6tpMsNz8P9PNINS03P5Z3lvQTLzc/h6TrQDEyNz+VUX21jjY3P3VV1dktPDc/1oZ9NRBDNz9vvP9PN0s3P+7M5bCkVDc/apDMDFpfNz8WWnkdWms3P/5rhvqneDc/ZWGtu0aHNz/YmkeVOZc3PzzQe4SEqDc/QHpm3Cu7Nz9diXfwM883P/93Vi+h5Dc/ntiQ8Hj7Nz+srvMBwRM4Pz6vOTJ/LTg/I++YZblIOD/o2N1idmU4P2HYuni9gzg/U5O695WjOD+oC11GB8U4PyLBr+wZ6Dg/Zk4+P9cMOT+Nw+CWSDM5P1rM3VN3Wzk/CPNRU22FOT9IW+/ZNLE5P2bSii/Y3jk/IvNovWEOOj9N7DfK3j86P/Bpy2Zfczo/Y0KMwfOoOj8v2gHbq+A6P5T8CWWSGjs/lqBFAaxWOz9mGIb8/JQ7P1a28yuK1Ts/Fuh6rW4YPD8jA6aE4108P3K3sM0jpjw/n1LNg2nxPD/Ua0Bzpz89P5N2XAxgkD0/zYCJ1wvjPT9LQFGjJTc+P8lJqNIVjT4/cSb4Qf/mPj9rqPEXNUc/P64/D4UGsD8/hKhadFIQQD8sapbqsEhAP5m9Vu3RfEA/Hh8nh2uoQD+0ihuYrcxAP6V5lm8m+UA/El8sa7g/QT98OkNhRLJBP/sSd7XOVEI/+oEFqOP/Qj9OFQXKj4NDP1VkBrPfr0M/3u8yVTphQz9AIuAugaJCP92qe66DiUE/BTlzQhEsQD9eIU05yGU+P93XV4IC30E/XB6xFB0tTD/oHWKt8wxZP4JO3B6R72U/WgwC6I85cj8L1EdJWqV8P2AyIy34a4U/SLKT7g/Ljj/I8tf/+6qVP3htwhvwE54/aSjDngeXpD+453xbJcarP1D+m/LxerI/RsTvFntHuD8vQAXED32/P6l0JwGlJsQ/wpByaDpnyT8i/GKSrYPPP9mA55mmP9M/rA7zdWMt1z/QDxU0VHvbP6iM5mSAB+A/2ByVW99m4j/rWPeHJM7kP1ewNfIDK+c/TBS474Zn6T8dukWCnW3rP7MDosx8J+0/z7CduMCE7j/Vt0vOAXrvP2mSf3AI/O8/AAAAAAAA8D+Xrr6uZIXvP5nk2xnflu4/VSiE3qY/7T9rfPUQE4vrP/PJdfsIiek/nulbrzhP5z8cpuAqsvPkP1DAet51jOI/VKaGRzQs4D8SyNrFVMHbPyrkTuFabtc/QH66Mgl60z/7S2darerPP03cqJ2owMk/WmJjerVyxD9eJw5g9Pq/PxXF7TyRrbg/f5h5om7Msj/6TczOVUasPx/PnhHP+qQ/JBybKrOsnj8NGLWknx2WP+AUHT5xdY8/6jO7mK/shT/P/dcvgGZ9P5VLijYGxHI/jdUMPVGqZj/tFdNZe/RZP105OhPkJE0/xcetFP89Qj/W/t1hKG8+P70I7ODvFEA/e2K4gd11QT9PTVtrrJNCP/UgqtKMWEM/Gy43Sa+uQz/CxJnORYlDP+3bZSSSCUM/PoMCG4ZfQj/TLFkhFbtBP3XM5bxJRUE/Gi2E+In8QD+Rzxyn+85APx1BG2u8qkA/w4MrI8d/QD/5ll1XDExAPzUJAbTQE0A/gwD04cG2Pz9M2EC1Wk0/P0vlw9Gu7D4/NucFxXOSPj95FlZoVjw+P6vTHcco6D0/jaRu0mKVPT+EyJLEh0Q9PzMKIhUf9jw/cN9uyqiqPD9wDEvIOmI8P5DZfdabHDw/IyrM2JDZOz82jzo64Jg7P4k4jV5sWjs/sNpIJTAeOz/S/ZlBJ+Q6PweVHCtNrDo/1il9u5d2Oj+tFq4H90I6P2qITuFaETo/a5rOLbPhOT8YCUlh8rM5P+Fl0gQOiDk/Qfx30PtdOT+GukF+sTU5Pw7SXCYlDzk/QM1EZk3qOD+KNZHlIMc4P+XkU06WpTg/ViEqAaWFOD+qxw2PRWc4Pziz06VwSjg/FlpH9B4vOD8sdeKjSRU4P0b0v8/q/Dc/VYQ3r/zlNz+dgP15edA3P0D5OMdbvDc//VsIDZ+pNz8sr1LhPpg3P68aINo2iDc/tZSj8IJ5Nz+BIhIyIGw3P4zrQ9sLYDc/VBcRKUNVNz9UzVFYw0s3Pws13qWJQzc/73WOTpM8Nz+AtzqP3TY3Pw==\",\"dtype\":\"float64\",\"shape\":[200]}},\"selected\":{\"id\":\"34969\",\"type\":\"Selection\"},\"selection_policy\":{\"id\":\"34970\",\"type\":\"UnionRenderers\"}},\"id\":\"34311\",\"type\":\"ColumnDataSource\"},{\"attributes\":{},\"id\":\"34970\",\"type\":\"UnionRenderers\"},{\"attributes\":{\"callback\":null,\"end\":27.500000000000004,\"start\":-27.500000000000004},\"id\":\"34279\",\"type\":\"Range1d\"},{\"attributes\":{\"bottom_units\":\"screen\",\"fill_alpha\":{\"value\":0.5},\"fill_color\":{\"value\":\"lightgrey\"},\"left_units\":\"screen\",\"level\":\"overlay\",\"line_alpha\":{\"value\":1.0},\"line_color\":{\"value\":\"black\"},\"line_dash\":[4,4],\"line_width\":{\"value\":2},\"render_mode\":\"css\",\"right_units\":\"screen\",\"top_units\":\"screen\"},\"id\":\"34971\",\"type\":\"BoxAnnotation\"},{\"attributes\":{\"fill_alpha\":{\"value\":0.1},\"fill_color\":{\"value\":\"#1f77b4\"},\"line_alpha\":{\"value\":0.1},\"line_color\":{\"value\":\"#1f77b4\"},\"size\":{\"units\":\"screen\",\"value\":10},\"x\":{\"field\":\"xVal\"},\"y\":{\"field\":\"yVal\"}},\"id\":\"34315\",\"type\":\"Circle\"},{\"attributes\":{\"callback\":null},\"id\":\"34281\",\"type\":\"DataRange1d\"},{\"attributes\":{\"data_source\":{\"id\":\"34310\",\"type\":\"ColumnDataSource\"},\"glyph\":{\"id\":\"34314\",\"type\":\"Circle\"},\"hover_glyph\":null,\"muted_glyph\":null,\"nonselection_glyph\":{\"id\":\"34315\",\"type\":\"Circle\"},\"selection_glyph\":null,\"view\":{\"id\":\"34317\",\"type\":\"CDSView\"}},\"id\":\"34316\",\"type\":\"GlyphRenderer\"},{\"attributes\":{},\"id\":\"34283\",\"type\":\"LinearScale\"},{\"attributes\":{\"source\":{\"id\":\"34310\",\"type\":\"ColumnDataSource\"}},\"id\":\"34317\",\"type\":\"CDSView\"},{\"attributes\":{},\"id\":\"34285\",\"type\":\"LinearScale\"},{\"attributes\":{\"color_mapper\":{\"id\":\"34312\",\"type\":\"LinearColorMapper\"},\"formatter\":{\"id\":\"34966\",\"type\":\"BasicTickFormatter\"},\"location\":[150,0],\"orientation\":\"horizontal\",\"ticker\":{\"id\":\"34965\",\"type\":\"BasicTicker\"},\"width\":300},\"id\":\"34323\",\"type\":\"ColorBar\"},{\"attributes\":{\"formatter\":{\"id\":\"34964\",\"type\":\"BasicTickFormatter\"},\"ticker\":{\"id\":\"34288\",\"type\":\"BasicTicker\"}},\"id\":\"34287\",\"type\":\"LinearAxis\"},{\"attributes\":{},\"id\":\"34288\",\"type\":\"BasicTicker\"},{\"attributes\":{\"line_color\":\"red\",\"x\":{\"field\":\"xVal_s\"},\"y\":{\"field\":\"yVal_s\"}},\"id\":\"34319\",\"type\":\"Line\"},{\"attributes\":{},\"id\":\"34293\",\"type\":\"BasicTicker\"},{\"attributes\":{\"line_alpha\":0.1,\"line_color\":\"#1f77b4\",\"x\":{\"field\":\"xVal_s\"},\"y\":{\"field\":\"yVal_s\"}},\"id\":\"34320\",\"type\":\"Line\"},{\"attributes\":{\"dimension\":1,\"ticker\":{\"id\":\"34293\",\"type\":\"BasicTicker\"}},\"id\":\"34296\",\"type\":\"Grid\"},{\"attributes\":{\"data_source\":{\"id\":\"34311\",\"type\":\"ColumnDataSource\"},\"glyph\":{\"id\":\"34319\",\"type\":\"Line\"},\"hover_glyph\":null,\"muted_glyph\":null,\"nonselection_glyph\":{\"id\":\"34320\",\"type\":\"Line\"},\"selection_glyph\":null,\"view\":{\"id\":\"34322\",\"type\":\"CDSView\"}},\"id\":\"34321\",\"type\":\"GlyphRenderer\"},{\"attributes\":{\"source\":{\"id\":\"34311\",\"type\":\"ColumnDataSource\"}},\"id\":\"34322\",\"type\":\"CDSView\"},{\"attributes\":{},\"id\":\"34962\",\"type\":\"BasicTickFormatter\"},{\"attributes\":{\"high\":3.102810147398138,\"low\":-3.102810147398138,\"palette\":[\"#313695\",\"#4575b4\",\"#74add1\",\"#abd9e9\",\"#e0f3f8\",\"#ffffbf\",\"#fee090\",\"#fdae61\",\"#f46d43\",\"#d73027\",\"#a50026\"]},\"id\":\"34312\",\"type\":\"LinearColorMapper\"},{\"attributes\":{\"active_drag\":\"auto\",\"active_inspect\":\"auto\",\"active_multi\":null,\"active_scroll\":\"auto\",\"active_tap\":\"auto\",\"tools\":[{\"id\":\"34297\",\"type\":\"PanTool\"},{\"id\":\"34298\",\"type\":\"WheelZoomTool\"},{\"id\":\"34299\",\"type\":\"BoxZoomTool\"},{\"id\":\"34300\",\"type\":\"SaveTool\"},{\"id\":\"34301\",\"type\":\"ResetTool\"},{\"id\":\"34302\",\"type\":\"HelpTool\"}]},\"id\":\"34303\",\"type\":\"Toolbar\"},{\"attributes\":{},\"id\":\"34297\",\"type\":\"PanTool\"},{\"attributes\":{},\"id\":\"34964\",\"type\":\"BasicTickFormatter\"},{\"attributes\":{},\"id\":\"34298\",\"type\":\"WheelZoomTool\"},{\"attributes\":{\"callback\":null,\"data\":{\"cVal\":{\"__ndarray__\":\"VGgBNW2+Qb3wLGYgjtIIwNTgSo6wz7M/rF9k1yk1CMAhrAgxRqDDP7mxhRZSnAfAIX4NuXb0zD/xTdy3pAsHwNwB/rLP0dI/AfQGK8GHBsDji1mL8avWP48aH7/4FgbAJxHRs3vM2T/UsdqXQsIFwFcOmcqA2ds/i9QJCayhBcDiMIQ/n23ePyMx86QUZgHA4ViEkwbz+79+S5jC3HUGQEyNAZhU5PM/eP62b8FH0L92Jck/oRz8v7JAadZtIQhAea5Ia60c+D8AAAAAAAAAAHmuSGutHPi/skBp1m0hCMB2Jck/oRz8P3j+tm/BR9A/TI0BmFTk879+S5jC3HUGwOFYhJMG8/s/IzHzpBRmAUDiMIQ/n23ev4vUCQmsoQVAVw6ZyoDZ27/UsdqXQsIFQCcR0bN7zNm/jxofv/gWBkDji1mL8avWvwH0BivBhwZA3AH+ss/R0r/xTdy3pAsHQCF+Dbl29My/ubGFFlKcB0AhrAgxRqDDv6xfZNcpNQhA1OBKjrDPs7/wLGYgjtIIQA==\",\"dtype\":\"float64\",\"shape\":[50]},\"xVal\":{\"__ndarray__\":\"AAAAAAAAOcAAAAAAAAA4wAAAAAAAADfAAAAAAAAANsAAAAAAAAA1wAAAAAAAADTAAAAAAAAAM8AAAAAAAAAywAAAAAAAADHAAAAAAAAAMMAAAAAAAAAuwAAAAAAAACzAAAAAAAAAKsAAAAAAAAAowAAAAAAAACbAAAAAAAAAJMAAAAAAAAAiwAAAAAAAACDAAAAAAAAAHMAAAAAAAAAYwAAAAAAAABTAAAAAAAAAEMAAAAAAAAAIwAAAAAAAAADAAAAAAAAA8L8AAAAAAAAAAAAAAAAAAPA/AAAAAAAAAEAAAAAAAAAIQAAAAAAAABBAAAAAAAAAFEAAAAAAAAAYQAAAAAAAABxAAAAAAAAAIEAAAAAAAAAiQAAAAAAAACRAAAAAAAAAJkAAAAAAAAAoQAAAAAAAACpAAAAAAAAALEAAAAAAAAAuQAAAAAAAADBAAAAAAAAAMUAAAAAAAAAyQAAAAAAAADNAAAAAAAAANEAAAAAAAAA1QAAAAAAAADZAAAAAAAAAN0AAAAAAAAA4QA==\",\"dtype\":\"float64\",\"shape\":[50]},\"yVal\":{\"__ndarray__\":\"AAAAAAAAAAAAAAAAAAAAAAAAAAAAAAAAAAAAAAAAAAAAAAAAAAAAAAAAAAAAAAAAAAAAAAAAAAAAAAAAAAAAAAAAAAAAAAAAAAAAAAAAAAAAAAAAAAAAAAAAAAAAAAAAAAAAAAAAAAAAAAAAAAAAAAAAAAAAAAAAAAAAAAAAAAAAAAAAAAAAAAAAAAAAAAAAAAAAAAAAAAAAAAAAAAAAAAAAAAAAAAAAAAAAAAAAAAAAAAAAAAAAAAAAAAAAAAAAAAAAAAAAAAAAAAAAAAAAAAAAAAAAAAAAAAAAAAAAAAAAAAAAAAAAAAAAAAAAAAAAAAAAAAAAAAAAAAAAAAAAAAAAAAAAAAAAAAAAAAAAAAAAAAAAAAAAAAAAAAAAAAAAAAAAAAAAAAAAAAAAAAAAAAAAAAAAAAAAAAAAAAAAAAAAAAAAAAAAAAAAAAAAAAAAAAAAAAAAAAAAAAAAAAAAAAAAAAAAAAAAAAAAAAAAAAAAAAAAAAAAAAAAAAAAAAAAAAAAAAAAAAAAAAAAAAAAAA==\",\"dtype\":\"float64\",\"shape\":[50]}},\"selected\":{\"id\":\"34967\",\"type\":\"Selection\"},\"selection_policy\":{\"id\":\"34968\",\"type\":\"UnionRenderers\"}},\"id\":\"34310\",\"type\":\"ColumnDataSource\"},{\"attributes\":{},\"id\":\"34965\",\"type\":\"BasicTicker\"},{\"attributes\":{\"overlay\":{\"id\":\"34971\",\"type\":\"BoxAnnotation\"}},\"id\":\"34299\",\"type\":\"BoxZoomTool\"},{\"attributes\":{},\"id\":\"34966\",\"type\":\"BasicTickFormatter\"},{\"attributes\":{},\"id\":\"34300\",\"type\":\"SaveTool\"},{\"attributes\":{},\"id\":\"34967\",\"type\":\"Selection\"},{\"attributes\":{},\"id\":\"34301\",\"type\":\"ResetTool\"},{\"attributes\":{},\"id\":\"34968\",\"type\":\"UnionRenderers\"},{\"attributes\":{},\"id\":\"34302\",\"type\":\"HelpTool\"}],\"root_ids\":[\"34276\"]},\"title\":\"Bokeh Application\",\"version\":\"1.4.0\"}};\n",
       "  var render_items = [{\"docid\":\"b8c5c022-bf24-42d1-a828-ee513faa0581\",\"roots\":{\"34276\":\"eb52f45a-d805-480f-b2bd-ccfe81f057bc\"}}];\n",
       "  root.Bokeh.embed.embed_items_notebook(docs_json, render_items);\n",
       "\n",
       "  }\n",
       "  if (root.Bokeh !== undefined) {\n",
       "    embed_document(root);\n",
       "  } else {\n",
       "    var attempts = 0;\n",
       "    var timer = setInterval(function(root) {\n",
       "      if (root.Bokeh !== undefined) {\n",
       "        clearInterval(timer);\n",
       "        embed_document(root);\n",
       "      } else {\n",
       "        attempts++;\n",
       "        if (attempts > 100) {\n",
       "          clearInterval(timer);\n",
       "          console.log(\"Bokeh: ERROR: Unable to run BokehJS code because BokehJS library is missing\");\n",
       "        }\n",
       "      }\n",
       "    }, 10, root)\n",
       "  }\n",
       "})(window);"
      ],
      "application/vnd.bokehjs_exec.v0+json": ""
     },
     "metadata": {
      "application/vnd.bokehjs_exec.v0+json": {
       "id": "34276"
      }
     },
     "output_type": "display_data"
    }
   ],
   "source": [
    "# Plot the phase of the wavefunction at time = t*dt\n",
    "t = 0;\n",
    "phi_t = np.squeeze(phis[t]);\n",
    "pt = interp1d(lattx,np.squeeze(phis[t]), kind = 'cubic');\n",
    "rho_t = interp1d(lattx,np.squeeze(rhos[t]), kind = 'cubic');\n",
    "wavefunc_t = figure(plot_height=300, plot_width=700, title=\"Electron wavefunction\",x_range=[-1.1*a*M,1.1*a*M]);\n",
    "source4 = ColumnDataSource(data = {'xVal': lattx, 'yVal' : latty, 'cVal': phi_t});\n",
    "lattx_smooth = np.linspace(-a*M,a*(M-1),num = 200, endpoint = True);\n",
    "source5 = ColumnDataSource(data = {'xVal_s': lattx_smooth, 'yVal_s': rho_t(lattx_smooth)/rho_t(lattx_smooth).max()});\n",
    "\n",
    "#phis_smooth = np.empty(ts.size,dtype = object); # Initiate a container for the phase at different time slice\n",
    "#for ii in range(0,ts.size-1): # Option 1: use smoothed curve to show phase variation\n",
    "#    phis_smooth[ii] = interp1d(lattx,np.squeeze(phis[ii]), kind = 'cubic');\n",
    "#wavefunc_t.line('xVal','yVal', source = source4); \n",
    "\n",
    "mapper = linear_cmap(field_name = 'cVal', palette = RdYlBu11, low = min(phi_t), high = max(phi_t));\n",
    "wavefunc_t.circle('xVal','yVal',source = source4, size = 10, line_color = mapper, fill_color = mapper);\n",
    "wavefunc_t.line('xVal_s','yVal_s',source = source5, line_color = 'red');\n",
    "color_bar = ColorBar(color_mapper = mapper['transform'], width = 300, location = (150,0), orientation = \"horizontal\");\n",
    "wavefunc_t.add_layout(color_bar, 'below');\n",
    "show(wavefunc_t)"
   ]
  },
  {
   "cell_type": "code",
   "execution_count": 223,
   "metadata": {},
   "outputs": [],
   "source": [
    "def update(time):\n",
    "    time = int(time/dt);\n",
    "    pt = interp1d(lattx,np.squeeze(phis[t]), kind = 'cubic');\n",
    "    rho_t = interp1d(lattx,np.squeeze(rhos[time]), kind = 'cubic');\n",
    "    source4.data['cVal'] = np.squeeze(phis[time]);\n",
    "    source5.data['yVal_s'] = rho_t(lattx_smooth)/rho_t(lattx_smooth).max();\n",
    "    \n",
    "    push_notebook(wavefunc_t)"
   ]
  },
  {
   "cell_type": "code",
   "execution_count": 224,
   "metadata": {},
   "outputs": [
    {
     "data": {
      "text/html": [
       "\n",
       "\n",
       "\n",
       "\n",
       "\n",
       "\n",
       "  <div class=\"bk-root\" id=\"7715feca-73cd-4811-a7dc-368e81b6b2e1\" data-root-id=\"34276\"></div>\n"
      ]
     },
     "metadata": {},
     "output_type": "display_data"
    },
    {
     "data": {
      "application/javascript": [
       "(function(root) {\n",
       "  function embed_document(root) {\n",
       "    \n",
       "  var docs_json = {\"935c2cc3-3685-46a3-904b-980cb547513b\":{\"roots\":{\"references\":[{\"attributes\":{\"below\":[{\"id\":\"34287\",\"type\":\"LinearAxis\"},{\"id\":\"34323\",\"type\":\"ColorBar\"}],\"center\":[{\"id\":\"34291\",\"type\":\"Grid\"},{\"id\":\"34296\",\"type\":\"Grid\"}],\"left\":[{\"id\":\"34292\",\"type\":\"LinearAxis\"}],\"plot_height\":300,\"plot_width\":700,\"renderers\":[{\"id\":\"34316\",\"type\":\"GlyphRenderer\"},{\"id\":\"34321\",\"type\":\"GlyphRenderer\"}],\"title\":{\"id\":\"34277\",\"type\":\"Title\"},\"toolbar\":{\"id\":\"34303\",\"type\":\"Toolbar\"},\"x_range\":{\"id\":\"34279\",\"type\":\"Range1d\"},\"x_scale\":{\"id\":\"34283\",\"type\":\"LinearScale\"},\"y_range\":{\"id\":\"34281\",\"type\":\"DataRange1d\"},\"y_scale\":{\"id\":\"34285\",\"type\":\"LinearScale\"}},\"id\":\"34276\",\"subtype\":\"Figure\",\"type\":\"Plot\"},{\"attributes\":{\"ticker\":{\"id\":\"34288\",\"type\":\"BasicTicker\"}},\"id\":\"34291\",\"type\":\"Grid\"},{\"attributes\":{},\"id\":\"34969\",\"type\":\"Selection\"},{\"attributes\":{\"formatter\":{\"id\":\"34962\",\"type\":\"BasicTickFormatter\"},\"ticker\":{\"id\":\"34293\",\"type\":\"BasicTicker\"}},\"id\":\"34292\",\"type\":\"LinearAxis\"},{\"attributes\":{\"text\":\"Electron wavefunction\"},\"id\":\"34277\",\"type\":\"Title\"},{\"attributes\":{\"fill_color\":{\"field\":\"cVal\",\"transform\":{\"id\":\"34312\",\"type\":\"LinearColorMapper\"}},\"line_color\":{\"field\":\"cVal\",\"transform\":{\"id\":\"34312\",\"type\":\"LinearColorMapper\"}},\"size\":{\"units\":\"screen\",\"value\":10},\"x\":{\"field\":\"xVal\"},\"y\":{\"field\":\"yVal\"}},\"id\":\"34314\",\"type\":\"Circle\"},{\"attributes\":{\"callback\":null,\"data\":{\"xVal_s\":{\"__ndarray__\":\"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\",\"dtype\":\"float64\",\"shape\":[200]},\"yVal_s\":{\"__ndarray__\":\"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\",\"dtype\":\"float64\",\"shape\":[200]}},\"selected\":{\"id\":\"34969\",\"type\":\"Selection\"},\"selection_policy\":{\"id\":\"34970\",\"type\":\"UnionRenderers\"}},\"id\":\"34311\",\"type\":\"ColumnDataSource\"},{\"attributes\":{},\"id\":\"34970\",\"type\":\"UnionRenderers\"},{\"attributes\":{\"callback\":null,\"end\":27.500000000000004,\"start\":-27.500000000000004},\"id\":\"34279\",\"type\":\"Range1d\"},{\"attributes\":{\"bottom_units\":\"screen\",\"fill_alpha\":{\"value\":0.5},\"fill_color\":{\"value\":\"lightgrey\"},\"left_units\":\"screen\",\"level\":\"overlay\",\"line_alpha\":{\"value\":1.0},\"line_color\":{\"value\":\"black\"},\"line_dash\":[4,4],\"line_width\":{\"value\":2},\"render_mode\":\"css\",\"right_units\":\"screen\",\"top_units\":\"screen\"},\"id\":\"34971\",\"type\":\"BoxAnnotation\"},{\"attributes\":{\"fill_alpha\":{\"value\":0.1},\"fill_color\":{\"value\":\"#1f77b4\"},\"line_alpha\":{\"value\":0.1},\"line_color\":{\"value\":\"#1f77b4\"},\"size\":{\"units\":\"screen\",\"value\":10},\"x\":{\"field\":\"xVal\"},\"y\":{\"field\":\"yVal\"}},\"id\":\"34315\",\"type\":\"Circle\"},{\"attributes\":{\"callback\":null},\"id\":\"34281\",\"type\":\"DataRange1d\"},{\"attributes\":{\"data_source\":{\"id\":\"34310\",\"type\":\"ColumnDataSource\"},\"glyph\":{\"id\":\"34314\",\"type\":\"Circle\"},\"hover_glyph\":null,\"muted_glyph\":null,\"nonselection_glyph\":{\"id\":\"34315\",\"type\":\"Circle\"},\"selection_glyph\":null,\"view\":{\"id\":\"34317\",\"type\":\"CDSView\"}},\"id\":\"34316\",\"type\":\"GlyphRenderer\"},{\"attributes\":{},\"id\":\"34283\",\"type\":\"LinearScale\"},{\"attributes\":{\"source\":{\"id\":\"34310\",\"type\":\"ColumnDataSource\"}},\"id\":\"34317\",\"type\":\"CDSView\"},{\"attributes\":{},\"id\":\"34285\",\"type\":\"LinearScale\"},{\"attributes\":{\"color_mapper\":{\"id\":\"34312\",\"type\":\"LinearColorMapper\"},\"formatter\":{\"id\":\"34966\",\"type\":\"BasicTickFormatter\"},\"location\":[150,0],\"orientation\":\"horizontal\",\"ticker\":{\"id\":\"34965\",\"type\":\"BasicTicker\"},\"width\":300},\"id\":\"34323\",\"type\":\"ColorBar\"},{\"attributes\":{\"formatter\":{\"id\":\"34964\",\"type\":\"BasicTickFormatter\"},\"ticker\":{\"id\":\"34288\",\"type\":\"BasicTicker\"}},\"id\":\"34287\",\"type\":\"LinearAxis\"},{\"attributes\":{},\"id\":\"34288\",\"type\":\"BasicTicker\"},{\"attributes\":{\"line_color\":\"red\",\"x\":{\"field\":\"xVal_s\"},\"y\":{\"field\":\"yVal_s\"}},\"id\":\"34319\",\"type\":\"Line\"},{\"attributes\":{},\"id\":\"34293\",\"type\":\"BasicTicker\"},{\"attributes\":{\"line_alpha\":0.1,\"line_color\":\"#1f77b4\",\"x\":{\"field\":\"xVal_s\"},\"y\":{\"field\":\"yVal_s\"}},\"id\":\"34320\",\"type\":\"Line\"},{\"attributes\":{\"dimension\":1,\"ticker\":{\"id\":\"34293\",\"type\":\"BasicTicker\"}},\"id\":\"34296\",\"type\":\"Grid\"},{\"attributes\":{\"data_source\":{\"id\":\"34311\",\"type\":\"ColumnDataSource\"},\"glyph\":{\"id\":\"34319\",\"type\":\"Line\"},\"hover_glyph\":null,\"muted_glyph\":null,\"nonselection_glyph\":{\"id\":\"34320\",\"type\":\"Line\"},\"selection_glyph\":null,\"view\":{\"id\":\"34322\",\"type\":\"CDSView\"}},\"id\":\"34321\",\"type\":\"GlyphRenderer\"},{\"attributes\":{\"source\":{\"id\":\"34311\",\"type\":\"ColumnDataSource\"}},\"id\":\"34322\",\"type\":\"CDSView\"},{\"attributes\":{},\"id\":\"34962\",\"type\":\"BasicTickFormatter\"},{\"attributes\":{\"high\":3.102810147398138,\"low\":-3.102810147398138,\"palette\":[\"#313695\",\"#4575b4\",\"#74add1\",\"#abd9e9\",\"#e0f3f8\",\"#ffffbf\",\"#fee090\",\"#fdae61\",\"#f46d43\",\"#d73027\",\"#a50026\"]},\"id\":\"34312\",\"type\":\"LinearColorMapper\"},{\"attributes\":{\"active_drag\":\"auto\",\"active_inspect\":\"auto\",\"active_multi\":null,\"active_scroll\":\"auto\",\"active_tap\":\"auto\",\"tools\":[{\"id\":\"34297\",\"type\":\"PanTool\"},{\"id\":\"34298\",\"type\":\"WheelZoomTool\"},{\"id\":\"34299\",\"type\":\"BoxZoomTool\"},{\"id\":\"34300\",\"type\":\"SaveTool\"},{\"id\":\"34301\",\"type\":\"ResetTool\"},{\"id\":\"34302\",\"type\":\"HelpTool\"}]},\"id\":\"34303\",\"type\":\"Toolbar\"},{\"attributes\":{},\"id\":\"34297\",\"type\":\"PanTool\"},{\"attributes\":{},\"id\":\"34964\",\"type\":\"BasicTickFormatter\"},{\"attributes\":{},\"id\":\"34298\",\"type\":\"WheelZoomTool\"},{\"attributes\":{\"callback\":null,\"data\":{\"cVal\":{\"__ndarray__\":\"VGgBNW2+Qb3wLGYgjtIIwNTgSo6wz7M/rF9k1yk1CMAhrAgxRqDDP7mxhRZSnAfAIX4NuXb0zD/xTdy3pAsHwNwB/rLP0dI/AfQGK8GHBsDji1mL8avWP48aH7/4FgbAJxHRs3vM2T/UsdqXQsIFwFcOmcqA2ds/i9QJCayhBcDiMIQ/n23ePyMx86QUZgHA4ViEkwbz+79+S5jC3HUGQEyNAZhU5PM/eP62b8FH0L92Jck/oRz8v7JAadZtIQhAea5Ia60c+D8AAAAAAAAAAHmuSGutHPi/skBp1m0hCMB2Jck/oRz8P3j+tm/BR9A/TI0BmFTk879+S5jC3HUGwOFYhJMG8/s/IzHzpBRmAUDiMIQ/n23ev4vUCQmsoQVAVw6ZyoDZ27/UsdqXQsIFQCcR0bN7zNm/jxofv/gWBkDji1mL8avWvwH0BivBhwZA3AH+ss/R0r/xTdy3pAsHQCF+Dbl29My/ubGFFlKcB0AhrAgxRqDDv6xfZNcpNQhA1OBKjrDPs7/wLGYgjtIIQA==\",\"dtype\":\"float64\",\"shape\":[50]},\"xVal\":{\"__ndarray__\":\"AAAAAAAAOcAAAAAAAAA4wAAAAAAAADfAAAAAAAAANsAAAAAAAAA1wAAAAAAAADTAAAAAAAAAM8AAAAAAAAAywAAAAAAAADHAAAAAAAAAMMAAAAAAAAAuwAAAAAAAACzAAAAAAAAAKsAAAAAAAAAowAAAAAAAACbAAAAAAAAAJMAAAAAAAAAiwAAAAAAAACDAAAAAAAAAHMAAAAAAAAAYwAAAAAAAABTAAAAAAAAAEMAAAAAAAAAIwAAAAAAAAADAAAAAAAAA8L8AAAAAAAAAAAAAAAAAAPA/AAAAAAAAAEAAAAAAAAAIQAAAAAAAABBAAAAAAAAAFEAAAAAAAAAYQAAAAAAAABxAAAAAAAAAIEAAAAAAAAAiQAAAAAAAACRAAAAAAAAAJkAAAAAAAAAoQAAAAAAAACpAAAAAAAAALEAAAAAAAAAuQAAAAAAAADBAAAAAAAAAMUAAAAAAAAAyQAAAAAAAADNAAAAAAAAANEAAAAAAAAA1QAAAAAAAADZAAAAAAAAAN0AAAAAAAAA4QA==\",\"dtype\":\"float64\",\"shape\":[50]},\"yVal\":{\"__ndarray__\":\"AAAAAAAAAAAAAAAAAAAAAAAAAAAAAAAAAAAAAAAAAAAAAAAAAAAAAAAAAAAAAAAAAAAAAAAAAAAAAAAAAAAAAAAAAAAAAAAAAAAAAAAAAAAAAAAAAAAAAAAAAAAAAAAAAAAAAAAAAAAAAAAAAAAAAAAAAAAAAAAAAAAAAAAAAAAAAAAAAAAAAAAAAAAAAAAAAAAAAAAAAAAAAAAAAAAAAAAAAAAAAAAAAAAAAAAAAAAAAAAAAAAAAAAAAAAAAAAAAAAAAAAAAAAAAAAAAAAAAAAAAAAAAAAAAAAAAAAAAAAAAAAAAAAAAAAAAAAAAAAAAAAAAAAAAAAAAAAAAAAAAAAAAAAAAAAAAAAAAAAAAAAAAAAAAAAAAAAAAAAAAAAAAAAAAAAAAAAAAAAAAAAAAAAAAAAAAAAAAAAAAAAAAAAAAAAAAAAAAAAAAAAAAAAAAAAAAAAAAAAAAAAAAAAAAAAAAAAAAAAAAAAAAAAAAAAAAAAAAAAAAAAAAAAAAAAAAAAAAAAAAAAAAAAAAAAAAA==\",\"dtype\":\"float64\",\"shape\":[50]}},\"selected\":{\"id\":\"34967\",\"type\":\"Selection\"},\"selection_policy\":{\"id\":\"34968\",\"type\":\"UnionRenderers\"}},\"id\":\"34310\",\"type\":\"ColumnDataSource\"},{\"attributes\":{},\"id\":\"34965\",\"type\":\"BasicTicker\"},{\"attributes\":{\"overlay\":{\"id\":\"34971\",\"type\":\"BoxAnnotation\"}},\"id\":\"34299\",\"type\":\"BoxZoomTool\"},{\"attributes\":{},\"id\":\"34966\",\"type\":\"BasicTickFormatter\"},{\"attributes\":{},\"id\":\"34300\",\"type\":\"SaveTool\"},{\"attributes\":{},\"id\":\"34967\",\"type\":\"Selection\"},{\"attributes\":{},\"id\":\"34301\",\"type\":\"ResetTool\"},{\"attributes\":{},\"id\":\"34968\",\"type\":\"UnionRenderers\"},{\"attributes\":{},\"id\":\"34302\",\"type\":\"HelpTool\"}],\"root_ids\":[\"34276\"]},\"title\":\"Bokeh Application\",\"version\":\"1.4.0\"}};\n",
       "  var render_items = [{\"docid\":\"935c2cc3-3685-46a3-904b-980cb547513b\",\"notebook_comms_target\":\"35044\",\"roots\":{\"34276\":\"7715feca-73cd-4811-a7dc-368e81b6b2e1\"}}];\n",
       "  root.Bokeh.embed.embed_items_notebook(docs_json, render_items);\n",
       "\n",
       "  }\n",
       "  if (root.Bokeh !== undefined) {\n",
       "    embed_document(root);\n",
       "  } else {\n",
       "    var attempts = 0;\n",
       "    var timer = setInterval(function(root) {\n",
       "      if (root.Bokeh !== undefined) {\n",
       "        clearInterval(timer);\n",
       "        embed_document(root);\n",
       "      } else {\n",
       "        attempts++;\n",
       "        if (attempts > 100) {\n",
       "          clearInterval(timer);\n",
       "          console.log(\"Bokeh: ERROR: Unable to run BokehJS code because BokehJS library is missing\");\n",
       "        }\n",
       "      }\n",
       "    }, 10, root)\n",
       "  }\n",
       "})(window);"
      ],
      "application/vnd.bokehjs_exec.v0+json": ""
     },
     "metadata": {
      "application/vnd.bokehjs_exec.v0+json": {
       "id": "34276"
      }
     },
     "output_type": "display_data"
    }
   ],
   "source": [
    "show(wavefunc_t, notebook_handle = True);"
   ]
  },
  {
   "cell_type": "code",
   "execution_count": 225,
   "metadata": {},
   "outputs": [
    {
     "data": {
      "application/vnd.jupyter.widget-view+json": {
       "model_id": "47bfc2afe6ab4da7a1db4caf7552338b",
       "version_major": 2,
       "version_minor": 0
      },
      "text/plain": [
       "interactive(children=(FloatSlider(value=0.0, description='time', max=599.8000000000001), Output()), _dom_class…"
      ]
     },
     "metadata": {},
     "output_type": "display_data"
    }
   ],
   "source": [
    "interact(update, time = ipw.FloatSlider(min = 0, max = (endt-2)*dt, step = dt, value = 0));"
   ]
  },
  {
   "cell_type": "code",
   "execution_count": null,
   "metadata": {},
   "outputs": [],
   "source": [
    "#This animation is not functioning due to the current incompatibility between bokeh and tornado, should be resolved in furture updates.\n",
    "\n",
    "# def auto_update():\n",
    "#     global time;\n",
    "#     source_tt.data['cVal'] = np.squeeze(phis[t])\n",
    "#     source_tt.data['yVal'] = interp1d(lattice,np.squeeze(rhos[t]), kind = 'cubic')\n",
    "#     source_tt.trigger('data', source_tt.data, source_tt.data)\n",
    "#     if time < endt.size - 1:\n",
    "#         time = time + 1\n",
    "#     else:\n",
    "#         time = 0\n",
    "#         source_tt.data['cVal'] = np.squeeze(phis[0])\n",
    "#         source_tt.data['yVal'] = interp1d(lattice,np.squeeze(rhos[0]), kind = 'cubic')"
   ]
  },
  {
   "cell_type": "code",
   "execution_count": null,
   "metadata": {},
   "outputs": [],
   "source": [
    "#This animation is not functioning due to the current incompatibility between bokeh and tornado, should be resolved in furture updates.\n",
    "\n",
    "# session = push_session(curdoc())\n",
    "# time = 0; # set initial frame\n",
    "# source_tt = ColumnDataSource(data = {'xVal': lattx, 'yVal' : rhos[0], 'cVal': np.zeros(lattx.size)})\n",
    "# wavefunc_tt = figure(plot_height=300, plot_width=700, title=\"Evolution of electron wavefunction\",x_range=[-1.1*a*M,1.1*a*M]);\n",
    "\n",
    "# mapper = linear_cmap(field_name = 'cVal', palette = Spectral6, low = 0, high = 1);\n",
    "# wavefunc_tt.line(x = 'xVal', y = 'yVal', source = source_tt, line_color = 'red');\n",
    "# wavefunc_tt.circle('xPos','yPos',source = source4, size = 10, line_color = mapper, fill_color = mapper);\n",
    "\n",
    "# curdoc().add_periodic_callback(auto_update, 67)\n",
    "\n",
    "# session.show()\n",
    "# session.loop_until_closed()"
   ]
  },
  {
   "cell_type": "code",
   "execution_count": null,
   "metadata": {},
   "outputs": [],
   "source": []
  },
  {
   "cell_type": "code",
   "execution_count": null,
   "metadata": {},
   "outputs": [],
   "source": []
  }
 ],
 "metadata": {
  "kernelspec": {
   "display_name": "Python 3",
   "language": "python",
   "name": "python3"
  },
  "language_info": {
   "codemirror_mode": {
    "name": "ipython",
    "version": 3
   },
   "file_extension": ".py",
   "mimetype": "text/x-python",
   "name": "python",
   "nbconvert_exporter": "python",
   "pygments_lexer": "ipython3",
   "version": "3.6.9"
  }
 },
 "nbformat": 4,
 "nbformat_minor": 4
}
