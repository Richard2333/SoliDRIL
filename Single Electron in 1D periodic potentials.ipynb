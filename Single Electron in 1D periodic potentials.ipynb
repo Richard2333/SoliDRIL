{
 "cells": [
  {
   "cell_type": "code",
   "execution_count": 275,
   "metadata": {},
   "outputs": [],
   "source": [
    "k0 = 2*np.pi/(N*a);\n",
    "k = np.linspace(-M*k0,(M-1)*k0,N);\n",
    "energy = -2*np.cos(k);"
   ]
  },
  {
   "cell_type": "code",
   "execution_count": 276,
   "metadata": {},
   "outputs": [
    {
     "data": {
      "text/html": [
       "\n",
       "\n",
       "\n",
       "\n",
       "\n",
       "\n",
       "  <div class=\"bk-root\" id=\"c38dd824-b457-462a-a971-abee7d366dd4\" data-root-id=\"57077\"></div>\n"
      ]
     },
     "metadata": {},
     "output_type": "display_data"
    },
    {
     "data": {
      "application/javascript": [
       "(function(root) {\n",
       "  function embed_document(root) {\n",
       "    \n",
       "  var docs_json = {\"9ddeef90-2c26-428d-8bda-b5e5d71a863d\":{\"roots\":{\"references\":[{\"attributes\":{\"below\":[{\"id\":\"57088\",\"type\":\"LinearAxis\"}],\"center\":[{\"id\":\"57092\",\"type\":\"Grid\"},{\"id\":\"57097\",\"type\":\"Grid\"}],\"left\":[{\"id\":\"57093\",\"type\":\"LinearAxis\"}],\"plot_height\":400,\"plot_width\":700,\"renderers\":[{\"id\":\"57115\",\"type\":\"GlyphRenderer\"},{\"id\":\"57120\",\"type\":\"GlyphRenderer\"}],\"title\":{\"id\":\"57078\",\"type\":\"Title\"},\"toolbar\":{\"id\":\"57104\",\"type\":\"Toolbar\"},\"x_range\":{\"id\":\"57080\",\"type\":\"Range1d\"},\"x_scale\":{\"id\":\"57084\",\"type\":\"LinearScale\"},\"y_range\":{\"id\":\"57082\",\"type\":\"Range1d\"},\"y_scale\":{\"id\":\"57086\",\"type\":\"LinearScale\"}},\"id\":\"57077\",\"subtype\":\"Figure\",\"type\":\"Plot\"},{\"attributes\":{},\"id\":\"57994\",\"type\":\"BasicTickFormatter\"},{\"attributes\":{},\"id\":\"57084\",\"type\":\"LinearScale\"},{\"attributes\":{},\"id\":\"57995\",\"type\":\"Selection\"},{\"attributes\":{\"callback\":null,\"end\":2.4,\"start\":-2.4},\"id\":\"57082\",\"type\":\"Range1d\"},{\"attributes\":{},\"id\":\"57103\",\"type\":\"HelpTool\"},{\"attributes\":{},\"id\":\"57996\",\"type\":\"UnionRenderers\"},{\"attributes\":{\"callback\":null,\"end\":1.1000000000000003,\"start\":-1.1000000000000003},\"id\":\"57080\",\"type\":\"Range1d\"},{\"attributes\":{\"bottom_units\":\"screen\",\"fill_alpha\":{\"value\":0.5},\"fill_color\":{\"value\":\"lightgrey\"},\"left_units\":\"screen\",\"level\":\"overlay\",\"line_alpha\":{\"value\":1.0},\"line_color\":{\"value\":\"black\"},\"line_dash\":[4,4],\"line_width\":{\"value\":2},\"render_mode\":\"css\",\"right_units\":\"screen\",\"top_units\":\"screen\"},\"id\":\"57997\",\"type\":\"BoxAnnotation\"},{\"attributes\":{\"text\":\"Energy band in reciprocal space\"},\"id\":\"57078\",\"type\":\"Title\"},{\"attributes\":{\"fill_color\":{\"value\":\"#1f77b4\"},\"line_color\":{\"value\":\"#1f77b4\"},\"size\":{\"units\":\"screen\",\"value\":6},\"x\":{\"field\":\"xVal\"},\"y\":{\"field\":\"yVal\"}},\"id\":\"57113\",\"type\":\"Circle\"},{\"attributes\":{},\"id\":\"57098\",\"type\":\"PanTool\"},{\"attributes\":{\"line_alpha\":0.1,\"line_color\":\"#1f77b4\",\"x\":{\"field\":\"xVal\"},\"y\":{\"field\":\"yVal\"}},\"id\":\"57119\",\"type\":\"Line\"},{\"attributes\":{\"active_drag\":\"auto\",\"active_inspect\":\"auto\",\"active_multi\":null,\"active_scroll\":\"auto\",\"active_tap\":\"auto\",\"tools\":[{\"id\":\"57098\",\"type\":\"PanTool\"},{\"id\":\"57099\",\"type\":\"WheelZoomTool\"},{\"id\":\"57100\",\"type\":\"BoxZoomTool\"},{\"id\":\"57101\",\"type\":\"SaveTool\"},{\"id\":\"57102\",\"type\":\"ResetTool\"},{\"id\":\"57103\",\"type\":\"HelpTool\"}]},\"id\":\"57104\",\"type\":\"Toolbar\"},{\"attributes\":{},\"id\":\"57099\",\"type\":\"WheelZoomTool\"},{\"attributes\":{\"data_source\":{\"id\":\"57111\",\"type\":\"ColumnDataSource\"},\"glyph\":{\"id\":\"57118\",\"type\":\"Line\"},\"hover_glyph\":null,\"muted_glyph\":null,\"nonselection_glyph\":{\"id\":\"57119\",\"type\":\"Line\"},\"selection_glyph\":null,\"view\":{\"id\":\"57121\",\"type\":\"CDSView\"}},\"id\":\"57120\",\"type\":\"GlyphRenderer\"},{\"attributes\":{},\"id\":\"57101\",\"type\":\"SaveTool\"},{\"attributes\":{\"callback\":null,\"data\":{\"xVal\":{\"__ndarray__\":\"AQAAAAAA8L+5HoXrUbjuv3I9CtejcO2/KlyPwvUo7L/iehSuR+Hqv5uZmZmZmem/U7gehetR6L8M16NwPQrnv8T1KFyPwuW/exSuR+F65L80MzMzMzPjv+xRuB6F6+G/pXA9Ctej4L+6HoXrUbjevypcj8L1KNy/m5mZmZmZ2b8M16NwPQrXv3sUrkfhetS/7lG4HoXr0b+6HoXrUbjOv5+ZmZmZmcm/fhSuR+F6xL+6HoXrUbi+v4MUrkfherS/gxSuR+F6pL8AAAAAAAAAAG8UrkfheqQ/eRSuR+F6tD+6HoXrUbi+P3kUrkfhesQ/mpmZmZmZyT+1HoXrUbjOP+tRuB6F69E/exSuR+F61D8M16NwPQrXP5eZmZmZmdk/J1yPwvUo3D+4HoXrUbjeP6RwPQrXo+A/7FG4HoXr4T8yMzMzMzPjP3oUrkfheuQ/wvUoXI/C5T8K16NwPQrnP1O4HoXrUeg/m5mZmZmZ6T/hehSuR+HqPylcj8L1KOw/cT0K16Nw7T+5HoXrUbjuPw==\",\"dtype\":\"float64\",\"shape\":[50]},\"yVal\":{\"__ndarray__\":\"AAAAAAAAAEAD2YBUZ7//P+EeEB2i/v4/5VrvnbrA/T9ZwIFOtAr8P6r0l5t34/k/F7jSA7ZT9z+/AbX+xmX0P1MrGDx+JfE/nYElyfc/6z9W6S8378bjP4B6A2Uc/Nc/i5PgGwoTwD9kk+AbChPAv3V6A2Uc/Ne/TekvN+/G47+YgSXJ9z/rv1ArGDx+JfG/uQG1/sZl9L8VuNIDtlP3v6b0l5t34/m/WMCBTrQK/L/kWu+dusD9v+AeEB2i/v6/AtmAVGe//78AAAAAAAAAwAPZgFRnv/+/4R4QHaL+/r/kWu+dusD9v1rAgU60Cvy/qPSXm3fj+b8YuNIDtlP3v70Btf7GZfS/UCsYPH4l8b+YgSXJ9z/rv1jpLzfvxuO/hHoDZRz817+Ek+AbChPAv3uT4BsKE8A/gHoDZRz81z9H6S8378bjP5aBJcn3P+s/TysYPH4l8T+8AbX+xmX0Pxe40gO2U/c/qvSXm3fj+T9XwIFOtAr8P+Ra7526wP0/4B4QHaL+/j8D2YBUZ7//Pw==\",\"dtype\":\"float64\",\"shape\":[50]}},\"selected\":{\"id\":\"57995\",\"type\":\"Selection\"},\"selection_policy\":{\"id\":\"57996\",\"type\":\"UnionRenderers\"}},\"id\":\"57111\",\"type\":\"ColumnDataSource\"},{\"attributes\":{\"source\":{\"id\":\"57111\",\"type\":\"ColumnDataSource\"}},\"id\":\"57121\",\"type\":\"CDSView\"},{\"attributes\":{},\"id\":\"57089\",\"type\":\"BasicTicker\"},{\"attributes\":{\"overlay\":{\"id\":\"57997\",\"type\":\"BoxAnnotation\"}},\"id\":\"57100\",\"type\":\"BoxZoomTool\"},{\"attributes\":{},\"id\":\"57102\",\"type\":\"ResetTool\"},{\"attributes\":{},\"id\":\"57094\",\"type\":\"BasicTicker\"},{\"attributes\":{},\"id\":\"57992\",\"type\":\"BasicTickFormatter\"},{\"attributes\":{\"dimension\":1,\"ticker\":{\"id\":\"57094\",\"type\":\"BasicTicker\"}},\"id\":\"57097\",\"type\":\"Grid\"},{\"attributes\":{\"axis_label\":\"Energy (arb. Unit)\",\"formatter\":{\"id\":\"57992\",\"type\":\"BasicTickFormatter\"},\"ticker\":{\"id\":\"57094\",\"type\":\"BasicTicker\"}},\"id\":\"57093\",\"type\":\"LinearAxis\"},{\"attributes\":{\"source\":{\"id\":\"57111\",\"type\":\"ColumnDataSource\"}},\"id\":\"57116\",\"type\":\"CDSView\"},{\"attributes\":{\"ticker\":{\"id\":\"57089\",\"type\":\"BasicTicker\"}},\"id\":\"57092\",\"type\":\"Grid\"},{\"attributes\":{\"data_source\":{\"id\":\"57111\",\"type\":\"ColumnDataSource\"},\"glyph\":{\"id\":\"57113\",\"type\":\"Circle\"},\"hover_glyph\":null,\"muted_glyph\":null,\"nonselection_glyph\":{\"id\":\"57114\",\"type\":\"Circle\"},\"selection_glyph\":null,\"view\":{\"id\":\"57116\",\"type\":\"CDSView\"}},\"id\":\"57115\",\"type\":\"GlyphRenderer\"},{\"attributes\":{\"line_color\":\"#1f77b4\",\"x\":{\"field\":\"xVal\"},\"y\":{\"field\":\"yVal\"}},\"id\":\"57118\",\"type\":\"Line\"},{\"attributes\":{},\"id\":\"57086\",\"type\":\"LinearScale\"},{\"attributes\":{\"axis_label\":\"k-vector ( \\u03c0 )\",\"formatter\":{\"id\":\"57994\",\"type\":\"BasicTickFormatter\"},\"ticker\":{\"id\":\"57089\",\"type\":\"BasicTicker\"}},\"id\":\"57088\",\"type\":\"LinearAxis\"},{\"attributes\":{\"fill_alpha\":{\"value\":0.1},\"fill_color\":{\"value\":\"#1f77b4\"},\"line_alpha\":{\"value\":0.1},\"line_color\":{\"value\":\"#1f77b4\"},\"size\":{\"units\":\"screen\",\"value\":6},\"x\":{\"field\":\"xVal\"},\"y\":{\"field\":\"yVal\"}},\"id\":\"57114\",\"type\":\"Circle\"}],\"root_ids\":[\"57077\"]},\"title\":\"Bokeh Application\",\"version\":\"1.4.0\"}};\n",
       "  var render_items = [{\"docid\":\"9ddeef90-2c26-428d-8bda-b5e5d71a863d\",\"roots\":{\"57077\":\"c38dd824-b457-462a-a971-abee7d366dd4\"}}];\n",
       "  root.Bokeh.embed.embed_items_notebook(docs_json, render_items);\n",
       "\n",
       "  }\n",
       "  if (root.Bokeh !== undefined) {\n",
       "    embed_document(root);\n",
       "  } else {\n",
       "    var attempts = 0;\n",
       "    var timer = setInterval(function(root) {\n",
       "      if (root.Bokeh !== undefined) {\n",
       "        clearInterval(timer);\n",
       "        embed_document(root);\n",
       "      } else {\n",
       "        attempts++;\n",
       "        if (attempts > 100) {\n",
       "          clearInterval(timer);\n",
       "          console.log(\"Bokeh: ERROR: Unable to run BokehJS code because BokehJS library is missing\");\n",
       "        }\n",
       "      }\n",
       "    }, 10, root)\n",
       "  }\n",
       "})(window);"
      ],
      "application/vnd.bokehjs_exec.v0+json": ""
     },
     "metadata": {
      "application/vnd.bokehjs_exec.v0+json": {
       "id": "57077"
      }
     },
     "output_type": "display_data"
    }
   ],
   "source": [
    "# Calcualte resulting dispersion relation using periodic boundary condition (PC)\n",
    "band = figure(plot_height = 400, plot_width = 700, title='Energy band in reciprocal space', x_range = [-1.1*k0*M/np.pi,1.1*k0*M/np.pi], y_range= [1.2*energy.min(),1.2*energy.max()]);\n",
    "source2 = ColumnDataSource(data = {'xVal': k/np.pi, 'yVal' : energy});\n",
    "band.circle('xVal','yVal',source = source2,size = 6);\n",
    "band.line('xVal','yVal',source = source2);\n",
    "band.xaxis.axis_label='k-vector ( \\u03c0 )';\n",
    "band.yaxis.axis_label='Energy (arb. Unit)';\n",
    "show(band)"
   ]
  },
  {
   "cell_type": "code",
   "execution_count": 281,
   "metadata": {},
   "outputs": [],
   "source": [
    "# define the initial wavefunction (with an artificial Gaussian dist. in k-space)\n",
    "sigm = 3*k0;\n",
    "kk0 = 12*k0;\n",
    "kk = np.linspace(-M*k0,(M-1)*k0, 200);\n",
    "phi_k0 = 1/(np.sqrt(2*np.pi)*sigm)*np.exp(-1/2*( (kk-kk0)/sigm )**2);"
   ]
  },
  {
   "cell_type": "code",
   "execution_count": 282,
   "metadata": {},
   "outputs": [
    {
     "data": {
      "text/html": [
       "\n",
       "\n",
       "\n",
       "\n",
       "\n",
       "\n",
       "  <div class=\"bk-root\" id=\"fc418c2b-8915-4204-b8f2-7a09e7d58d76\" data-root-id=\"60038\"></div>\n"
      ]
     },
     "metadata": {},
     "output_type": "display_data"
    },
    {
     "data": {
      "application/javascript": [
       "(function(root) {\n",
       "  function embed_document(root) {\n",
       "    \n",
       "  var docs_json = {\"09ac8832-c400-4589-835a-e6ecd8f0ab8f\":{\"roots\":{\"references\":[{\"attributes\":{\"below\":[{\"id\":\"60049\",\"type\":\"LinearAxis\"}],\"center\":[{\"id\":\"60053\",\"type\":\"Grid\"},{\"id\":\"60058\",\"type\":\"Grid\"}],\"left\":[{\"id\":\"60054\",\"type\":\"LinearAxis\"}],\"plot_height\":400,\"plot_width\":700,\"renderers\":[{\"id\":\"60076\",\"type\":\"GlyphRenderer\"},{\"id\":\"60081\",\"type\":\"GlyphRenderer\"}],\"title\":{\"id\":\"60039\",\"type\":\"Title\"},\"toolbar\":{\"id\":\"60065\",\"type\":\"Toolbar\"},\"x_range\":{\"id\":\"60041\",\"type\":\"Range1d\"},\"x_scale\":{\"id\":\"60045\",\"type\":\"LinearScale\"},\"y_range\":{\"id\":\"60043\",\"type\":\"Range1d\"},\"y_scale\":{\"id\":\"60047\",\"type\":\"LinearScale\"}},\"id\":\"60038\",\"subtype\":\"Figure\",\"type\":\"Plot\"},{\"attributes\":{},\"id\":\"60985\",\"type\":\"UnionRenderers\"},{\"attributes\":{},\"id\":\"57995\",\"type\":\"Selection\"},{\"attributes\":{},\"id\":\"60055\",\"type\":\"BasicTicker\"},{\"attributes\":{},\"id\":\"57996\",\"type\":\"UnionRenderers\"},{\"attributes\":{\"source\":{\"id\":\"57111\",\"type\":\"ColumnDataSource\"}},\"id\":\"60082\",\"type\":\"CDSView\"},{\"attributes\":{\"data_source\":{\"id\":\"57111\",\"type\":\"ColumnDataSource\"},\"glyph\":{\"id\":\"60079\",\"type\":\"Circle\"},\"hover_glyph\":null,\"muted_glyph\":null,\"nonselection_glyph\":{\"id\":\"60080\",\"type\":\"Circle\"},\"selection_glyph\":null,\"view\":{\"id\":\"60082\",\"type\":\"CDSView\"}},\"id\":\"60081\",\"type\":\"GlyphRenderer\"},{\"attributes\":{\"fill_color\":{\"value\":\"black\"},\"size\":{\"units\":\"screen\",\"value\":6},\"x\":{\"field\":\"xVal\"},\"y\":{\"field\":\"yVal\"}},\"id\":\"60079\",\"type\":\"Circle\"},{\"attributes\":{},\"id\":\"60045\",\"type\":\"LinearScale\"},{\"attributes\":{\"data_source\":{\"id\":\"60072\",\"type\":\"ColumnDataSource\"},\"glyph\":{\"id\":\"60074\",\"type\":\"Line\"},\"hover_glyph\":null,\"muted_glyph\":null,\"nonselection_glyph\":{\"id\":\"60075\",\"type\":\"Line\"},\"selection_glyph\":null,\"view\":{\"id\":\"60077\",\"type\":\"CDSView\"}},\"id\":\"60076\",\"type\":\"GlyphRenderer\"},{\"attributes\":{\"fill_alpha\":{\"value\":0.1},\"fill_color\":{\"value\":\"#1f77b4\"},\"line_alpha\":{\"value\":0.1},\"line_color\":{\"value\":\"#1f77b4\"},\"size\":{\"units\":\"screen\",\"value\":6},\"x\":{\"field\":\"xVal\"},\"y\":{\"field\":\"yVal\"}},\"id\":\"60080\",\"type\":\"Circle\"},{\"attributes\":{},\"id\":\"60047\",\"type\":\"LinearScale\"},{\"attributes\":{\"callback\":null,\"end\":2.4,\"start\":-2.4},\"id\":\"60043\",\"type\":\"Range1d\"},{\"attributes\":{\"axis_label\":\"k-space distance (arb. unit)\",\"formatter\":{\"id\":\"60983\",\"type\":\"BasicTickFormatter\"},\"ticker\":{\"id\":\"60050\",\"type\":\"BasicTicker\"}},\"id\":\"60049\",\"type\":\"LinearAxis\"},{\"attributes\":{},\"id\":\"60063\",\"type\":\"ResetTool\"},{\"attributes\":{\"ticker\":{\"id\":\"60050\",\"type\":\"BasicTicker\"}},\"id\":\"60053\",\"type\":\"Grid\"},{\"attributes\":{\"line_alpha\":0.1,\"line_color\":\"#1f77b4\",\"x\":{\"field\":\"xVal\"},\"y\":{\"field\":\"yVal\"}},\"id\":\"60075\",\"type\":\"Line\"},{\"attributes\":{\"dimension\":1,\"ticker\":{\"id\":\"60055\",\"type\":\"BasicTicker\"}},\"id\":\"60058\",\"type\":\"Grid\"},{\"attributes\":{},\"id\":\"60050\",\"type\":\"BasicTicker\"},{\"attributes\":{\"source\":{\"id\":\"60072\",\"type\":\"ColumnDataSource\"}},\"id\":\"60077\",\"type\":\"CDSView\"},{\"attributes\":{\"text\":\"Initial wavefunction in real space\"},\"id\":\"60039\",\"type\":\"Title\"},{\"attributes\":{\"callback\":null,\"data\":{\"xVal\":{\"__ndarray__\":\"AQAAAAAA8L+5HoXrUbjuv3I9CtejcO2/KlyPwvUo7L/iehSuR+Hqv5uZmZmZmem/U7gehetR6L8M16NwPQrnv8T1KFyPwuW/exSuR+F65L80MzMzMzPjv+xRuB6F6+G/pXA9Ctej4L+6HoXrUbjevypcj8L1KNy/m5mZmZmZ2b8M16NwPQrXv3sUrkfhetS/7lG4HoXr0b+6HoXrUbjOv5+ZmZmZmcm/fhSuR+F6xL+6HoXrUbi+v4MUrkfherS/gxSuR+F6pL8AAAAAAAAAAG8UrkfheqQ/eRSuR+F6tD+6HoXrUbi+P3kUrkfhesQ/mpmZmZmZyT+1HoXrUbjOP+tRuB6F69E/exSuR+F61D8M16NwPQrXP5eZmZmZmdk/J1yPwvUo3D+4HoXrUbjeP6RwPQrXo+A/7FG4HoXr4T8yMzMzMzPjP3oUrkfheuQ/wvUoXI/C5T8K16NwPQrnP1O4HoXrUeg/m5mZmZmZ6T/hehSuR+HqPylcj8L1KOw/cT0K16Nw7T+5HoXrUbjuPw==\",\"dtype\":\"float64\",\"shape\":[50]},\"yVal\":{\"__ndarray__\":\"AAAAAAAAAEAD2YBUZ7//P+EeEB2i/v4/5VrvnbrA/T9ZwIFOtAr8P6r0l5t34/k/F7jSA7ZT9z+/AbX+xmX0P1MrGDx+JfE/nYElyfc/6z9W6S8378bjP4B6A2Uc/Nc/i5PgGwoTwD9kk+AbChPAv3V6A2Uc/Ne/TekvN+/G47+YgSXJ9z/rv1ArGDx+JfG/uQG1/sZl9L8VuNIDtlP3v6b0l5t34/m/WMCBTrQK/L/kWu+dusD9v+AeEB2i/v6/AtmAVGe//78AAAAAAAAAwAPZgFRnv/+/4R4QHaL+/r/kWu+dusD9v1rAgU60Cvy/qPSXm3fj+b8YuNIDtlP3v70Btf7GZfS/UCsYPH4l8b+YgSXJ9z/rv1jpLzfvxuO/hHoDZRz817+Ek+AbChPAv3uT4BsKE8A/gHoDZRz81z9H6S8378bjP5aBJcn3P+s/TysYPH4l8T+8AbX+xmX0Pxe40gO2U/c/qvSXm3fj+T9XwIFOtAr8P+Ra7526wP0/4B4QHaL+/j8D2YBUZ7//Pw==\",\"dtype\":\"float64\",\"shape\":[50]}},\"selected\":{\"id\":\"57995\",\"type\":\"Selection\"},\"selection_policy\":{\"id\":\"57996\",\"type\":\"UnionRenderers\"}},\"id\":\"57111\",\"type\":\"ColumnDataSource\"},{\"attributes\":{\"callback\":null,\"end\":1.1000000000000003,\"start\":-1.1000000000000003},\"id\":\"60041\",\"type\":\"Range1d\"},{\"attributes\":{\"bottom_units\":\"screen\",\"fill_alpha\":{\"value\":0.5},\"fill_color\":{\"value\":\"lightgrey\"},\"left_units\":\"screen\",\"level\":\"overlay\",\"line_alpha\":{\"value\":1.0},\"line_color\":{\"value\":\"black\"},\"line_dash\":[4,4],\"line_width\":{\"value\":2},\"render_mode\":\"css\",\"right_units\":\"screen\",\"top_units\":\"screen\"},\"id\":\"60988\",\"type\":\"BoxAnnotation\"},{\"attributes\":{\"callback\":null,\"data\":{\"xVal\":{\"__ndarray__\":\"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\",\"dtype\":\"float64\",\"shape\":[200]},\"yVal\":{\"__ndarray__\":\"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\",\"dtype\":\"float64\",\"shape\":[200]}},\"selected\":{\"id\":\"60984\",\"type\":\"Selection\"},\"selection_policy\":{\"id\":\"60985\",\"type\":\"UnionRenderers\"}},\"id\":\"60072\",\"type\":\"ColumnDataSource\"},{\"attributes\":{},\"id\":\"60984\",\"type\":\"Selection\"},{\"attributes\":{\"axis_label\":\"Probability density\",\"formatter\":{\"id\":\"60981\",\"type\":\"BasicTickFormatter\"},\"ticker\":{\"id\":\"60055\",\"type\":\"BasicTicker\"}},\"id\":\"60054\",\"type\":\"LinearAxis\"},{\"attributes\":{},\"id\":\"60062\",\"type\":\"SaveTool\"},{\"attributes\":{\"overlay\":{\"id\":\"60988\",\"type\":\"BoxAnnotation\"}},\"id\":\"60061\",\"type\":\"BoxZoomTool\"},{\"attributes\":{},\"id\":\"60060\",\"type\":\"WheelZoomTool\"},{\"attributes\":{\"active_drag\":\"auto\",\"active_inspect\":\"auto\",\"active_multi\":null,\"active_scroll\":\"auto\",\"active_tap\":\"auto\",\"tools\":[{\"id\":\"60059\",\"type\":\"PanTool\"},{\"id\":\"60060\",\"type\":\"WheelZoomTool\"},{\"id\":\"60061\",\"type\":\"BoxZoomTool\"},{\"id\":\"60062\",\"type\":\"SaveTool\"},{\"id\":\"60063\",\"type\":\"ResetTool\"},{\"id\":\"60064\",\"type\":\"HelpTool\"}]},\"id\":\"60065\",\"type\":\"Toolbar\"},{\"attributes\":{},\"id\":\"60981\",\"type\":\"BasicTickFormatter\"},{\"attributes\":{},\"id\":\"60059\",\"type\":\"PanTool\"},{\"attributes\":{\"line_color\":\"red\",\"x\":{\"field\":\"xVal\"},\"y\":{\"field\":\"yVal\"}},\"id\":\"60074\",\"type\":\"Line\"},{\"attributes\":{},\"id\":\"60064\",\"type\":\"HelpTool\"},{\"attributes\":{},\"id\":\"60983\",\"type\":\"BasicTickFormatter\"}],\"root_ids\":[\"60038\"]},\"title\":\"Bokeh Application\",\"version\":\"1.4.0\"}};\n",
       "  var render_items = [{\"docid\":\"09ac8832-c400-4589-835a-e6ecd8f0ab8f\",\"roots\":{\"60038\":\"fc418c2b-8915-4204-b8f2-7a09e7d58d76\"}}];\n",
       "  root.Bokeh.embed.embed_items_notebook(docs_json, render_items);\n",
       "\n",
       "  }\n",
       "  if (root.Bokeh !== undefined) {\n",
       "    embed_document(root);\n",
       "  } else {\n",
       "    var attempts = 0;\n",
       "    var timer = setInterval(function(root) {\n",
       "      if (root.Bokeh !== undefined) {\n",
       "        clearInterval(timer);\n",
       "        embed_document(root);\n",
       "      } else {\n",
       "        attempts++;\n",
       "        if (attempts > 100) {\n",
       "          clearInterval(timer);\n",
       "          console.log(\"Bokeh: ERROR: Unable to run BokehJS code because BokehJS library is missing\");\n",
       "        }\n",
       "      }\n",
       "    }, 10, root)\n",
       "  }\n",
       "})(window);"
      ],
      "application/vnd.bokehjs_exec.v0+json": ""
     },
     "metadata": {
      "application/vnd.bokehjs_exec.v0+json": {
       "id": "60038"
      }
     },
     "output_type": "display_data"
    }
   ],
   "source": [
    "# Initialize an electron at the center of the 1D chain with a gaussian distribution to indicates its probability density\n",
    "dist0 = figure(plot_height = 400, plot_width = 700, title='Initial wavefunction in real space', x_range = [-1.1*k0*M/np.pi,1.1*k0*M/np.pi], y_range= [1.2*energy.min(),1.2*energy.max()]);\n",
    "source3 = ColumnDataSource(data = {'xVal': kk/np.pi, 'yVal': phi_k0/phi_k0.max()});\n",
    "dist0.line('xVal','yVal', source = source3, line_color = 'red');\n",
    "dist0.circle('xVal','yVal',source = source2, size = 6, line_color = 'black', fill_color = 'black');\n",
    "dist0.xaxis.axis_label='k-space distance (arb. unit)';\n",
    "dist0.yaxis.axis_label='Probability density';\n",
    "show(dist0)"
   ]
  },
  {
   "cell_type": "code",
   "execution_count": 283,
   "metadata": {},
   "outputs": [
    {
     "name": "stdout",
     "output_type": "stream",
     "text": [
      "[[ 0.+0.j -1.+0.j  0.+0.j ...  0.+0.j  0.+0.j -1.+0.j]\n",
      " [-1.+0.j  0.+0.j -1.+0.j ...  0.+0.j  0.+0.j  0.+0.j]\n",
      " [ 0.+0.j -1.+0.j  0.+0.j ...  0.+0.j  0.+0.j  0.+0.j]\n",
      " ...\n",
      " [ 0.+0.j  0.+0.j  0.+0.j ...  0.+0.j -1.+0.j  0.+0.j]\n",
      " [ 0.+0.j  0.+0.j  0.+0.j ... -1.+0.j  0.+0.j -1.+0.j]\n",
      " [-1.+0.j  0.+0.j  0.+0.j ...  0.+0.j -1.+0.j  0.+0.j]]\n"
     ]
    }
   ],
   "source": [
    "# Construct hamiltonian using occupation number basis and set initial wavefunction\n",
    "asd = np.zeros((N-1,N-1),complex);\n",
    "np.fill_diagonal(asd,-1);\n",
    "b = np.append(asd,np.zeros((N-1,1),complex), axis = 1);\n",
    "c = np.append(np.zeros((1,N),complex),b,axis = 0);\n",
    "hamil = c + np.transpose(c);\n",
    "np.fill_diagonal(hamil,0);\n",
    "psi0 = np.zeros((N,1),complex);\n",
    "rho0 = np.zeros((N,1), float);\n",
    "\n",
    "phi_k0 = 1/(np.sqrt(2*np.pi)*sigm)*np.exp(-1/2*( (k-kk0)/sigm )**2);\n",
    "for nn in range(0,psi0.size):\n",
    "    psi_temp = 0;\n",
    "    for kn in range(k.size):\n",
    "        psi_temp = psi_temp + phi_k0[kn]*np.exp(-1j*(k[kn]*(nn-M)*a));\n",
    "    psi0[nn][0] = psi_temp;\n",
    "    rho0[nn][0] = np.abs(psi0[nn][0]);\n",
    "\n",
    "hamil[N-1][0] = -1; #Apply periodic boundry condition\n",
    "hamil[0][N-1] = -1;\n",
    "print(hamil)"
   ]
  },
  {
   "cell_type": "code",
   "execution_count": 284,
   "metadata": {},
   "outputs": [],
   "source": [
    "# Define time evolution operator\n",
    "dt = 0.1; # Define time step\n",
    "endt = 6000;\n",
    "diaganol = np.ones(N);\n",
    "evol = np.diag(diaganol)+1.j*hamil*dt; # Use first order Taylor expansion to approximate the evolution operator\n",
    "ts = np.arange(0,endt*dt,dt);\n",
    "psis = np.empty(ts.size,dtype = object); # Initiate a container for the wavefunctions at different time slice\n",
    "phis = np.empty(ts.size,dtype = object); # Initiate a container for the phase at different time slice\n",
    "rhos = np.empty(ts.size,dtype = object); # Initiate a container for the probability density at different time slice\n",
    "psis[0]=psi0;\n",
    "for ii in range(1,ts.size):\n",
    "    psis[ii] = np.dot(evol,psis[ii-1]);\n",
    "lattx2 = np.arange(-M*a,a*(M-1),a/10.0);\n",
    "for ii in range(0,ts.size-1):\n",
    "    phis[ii] = np.angle((psis[ii]));\n",
    "    rhos[ii] = np.abs(psis[ii]);"
   ]
  },
  {
   "cell_type": "code",
   "execution_count": 286,
   "metadata": {},
   "outputs": [
    {
     "data": {
      "text/html": [
       "\n",
       "\n",
       "\n",
       "\n",
       "\n",
       "\n",
       "  <div class=\"bk-root\" id=\"5eadd5be-bcac-4ce3-b822-b8b9b7d17e58\" data-root-id=\"62087\"></div>\n"
      ]
     },
     "metadata": {},
     "output_type": "display_data"
    },
    {
     "data": {
      "application/javascript": [
       "(function(root) {\n",
       "  function embed_document(root) {\n",
       "    \n",
       "  var docs_json = {\"001743e5-6c5f-418e-bc2f-9d40bf93ae54\":{\"roots\":{\"references\":[{\"attributes\":{\"below\":[{\"id\":\"62098\",\"type\":\"LinearAxis\"},{\"id\":\"62134\",\"type\":\"ColorBar\"}],\"center\":[{\"id\":\"62102\",\"type\":\"Grid\"},{\"id\":\"62107\",\"type\":\"Grid\"}],\"left\":[{\"id\":\"62103\",\"type\":\"LinearAxis\"}],\"plot_height\":300,\"plot_width\":700,\"renderers\":[{\"id\":\"62127\",\"type\":\"GlyphRenderer\"},{\"id\":\"62132\",\"type\":\"GlyphRenderer\"}],\"title\":{\"id\":\"62088\",\"type\":\"Title\"},\"toolbar\":{\"id\":\"62114\",\"type\":\"Toolbar\"},\"x_range\":{\"id\":\"62090\",\"type\":\"Range1d\"},\"x_scale\":{\"id\":\"62094\",\"type\":\"LinearScale\"},\"y_range\":{\"id\":\"62092\",\"type\":\"DataRange1d\"},\"y_scale\":{\"id\":\"62096\",\"type\":\"LinearScale\"}},\"id\":\"62087\",\"subtype\":\"Figure\",\"type\":\"Plot\"},{\"attributes\":{\"dimension\":1,\"ticker\":{\"id\":\"62104\",\"type\":\"BasicTicker\"}},\"id\":\"62107\",\"type\":\"Grid\"},{\"attributes\":{},\"id\":\"62112\",\"type\":\"ResetTool\"},{\"attributes\":{},\"id\":\"63058\",\"type\":\"BasicTicker\"},{\"attributes\":{\"fill_color\":{\"field\":\"cVal\",\"transform\":{\"id\":\"62123\",\"type\":\"LinearColorMapper\"}},\"line_color\":{\"field\":\"cVal\",\"transform\":{\"id\":\"62123\",\"type\":\"LinearColorMapper\"}},\"size\":{\"units\":\"screen\",\"value\":6},\"x\":{\"field\":\"xVal\"},\"y\":{\"field\":\"yVal\"}},\"id\":\"62125\",\"type\":\"Circle\"},{\"attributes\":{},\"id\":\"62113\",\"type\":\"HelpTool\"},{\"attributes\":{\"high\":3.117931304092257,\"low\":-3.117931304092257,\"palette\":[\"#313695\",\"#4575b4\",\"#74add1\",\"#abd9e9\",\"#e0f3f8\",\"#ffffbf\",\"#fee090\",\"#fdae61\",\"#f46d43\",\"#d73027\",\"#a50026\"]},\"id\":\"62123\",\"type\":\"LinearColorMapper\"},{\"attributes\":{\"fill_alpha\":{\"value\":0.1},\"fill_color\":{\"value\":\"#1f77b4\"},\"line_alpha\":{\"value\":0.1},\"line_color\":{\"value\":\"#1f77b4\"},\"size\":{\"units\":\"screen\",\"value\":6},\"x\":{\"field\":\"xVal\"},\"y\":{\"field\":\"yVal\"}},\"id\":\"62126\",\"type\":\"Circle\"},{\"attributes\":{\"formatter\":{\"id\":\"63055\",\"type\":\"BasicTickFormatter\"},\"ticker\":{\"id\":\"62104\",\"type\":\"BasicTicker\"}},\"id\":\"62103\",\"type\":\"LinearAxis\"},{\"attributes\":{\"data_source\":{\"id\":\"62121\",\"type\":\"ColumnDataSource\"},\"glyph\":{\"id\":\"62125\",\"type\":\"Circle\"},\"hover_glyph\":null,\"muted_glyph\":null,\"nonselection_glyph\":{\"id\":\"62126\",\"type\":\"Circle\"},\"selection_glyph\":null,\"view\":{\"id\":\"62128\",\"type\":\"CDSView\"}},\"id\":\"62127\",\"type\":\"GlyphRenderer\"},{\"attributes\":{},\"id\":\"62104\",\"type\":\"BasicTicker\"},{\"attributes\":{},\"id\":\"63057\",\"type\":\"BasicTickFormatter\"},{\"attributes\":{\"source\":{\"id\":\"62121\",\"type\":\"ColumnDataSource\"}},\"id\":\"62128\",\"type\":\"CDSView\"},{\"attributes\":{\"color_mapper\":{\"id\":\"62123\",\"type\":\"LinearColorMapper\"},\"formatter\":{\"id\":\"63059\",\"type\":\"BasicTickFormatter\"},\"location\":[150,0],\"orientation\":\"horizontal\",\"ticker\":{\"id\":\"63058\",\"type\":\"BasicTicker\"},\"width\":300},\"id\":\"62134\",\"type\":\"ColorBar\"},{\"attributes\":{\"line_color\":\"red\",\"x\":{\"field\":\"xVal_s\"},\"y\":{\"field\":\"yVal_s\"}},\"id\":\"62130\",\"type\":\"Line\"},{\"attributes\":{\"overlay\":{\"id\":\"63064\",\"type\":\"BoxAnnotation\"}},\"id\":\"62110\",\"type\":\"BoxZoomTool\"},{\"attributes\":{\"line_alpha\":0.1,\"line_color\":\"#1f77b4\",\"x\":{\"field\":\"xVal_s\"},\"y\":{\"field\":\"yVal_s\"}},\"id\":\"62131\",\"type\":\"Line\"},{\"attributes\":{\"active_drag\":\"auto\",\"active_inspect\":\"auto\",\"active_multi\":null,\"active_scroll\":\"auto\",\"active_tap\":\"auto\",\"tools\":[{\"id\":\"62108\",\"type\":\"PanTool\"},{\"id\":\"62109\",\"type\":\"WheelZoomTool\"},{\"id\":\"62110\",\"type\":\"BoxZoomTool\"},{\"id\":\"62111\",\"type\":\"SaveTool\"},{\"id\":\"62112\",\"type\":\"ResetTool\"},{\"id\":\"62113\",\"type\":\"HelpTool\"}]},\"id\":\"62114\",\"type\":\"Toolbar\"},{\"attributes\":{\"data_source\":{\"id\":\"62122\",\"type\":\"ColumnDataSource\"},\"glyph\":{\"id\":\"62130\",\"type\":\"Line\"},\"hover_glyph\":null,\"muted_glyph\":null,\"nonselection_glyph\":{\"id\":\"62131\",\"type\":\"Line\"},\"selection_glyph\":null,\"view\":{\"id\":\"62133\",\"type\":\"CDSView\"}},\"id\":\"62132\",\"type\":\"GlyphRenderer\"},{\"attributes\":{\"callback\":null,\"data\":{\"cVal\":{\"__ndarray__\":\"CQlihH4/s73LAbL3hfEIwLRHuDUPH6g/up5AplaSCMAkAqbIeq+3P3f4k7xwOAjAwRHoAkE1wT/39ONWq+cHwARX/jJ+4cU/Jc8QesyhB8A7KsqdIPjIP9HCQIxmBwjAvoVDcqNC2j+uzSZHidfwv8bnzNyWxwHAXjVMqvkwBEBcZAxxswrwP62CYhcBHOC/Y4uyABAVAMCKKmTFFR4GQGd+3krlGvQ/6urqaAEW0L/iL0m/9CX8vy/xhTmhIAhAJssMeo8g+D8AAAAAAAAAACbLDHqPIPi/L/GFOaEgCMDiL0m/9CX8P+rq6mgBFtA/Z37eSuUa9L+KKmTFFR4GwGOLsgAQFQBArYJiFwEc4D9cZAxxswrwv141TKr5MATAxufM3JbHAUCuzSZHidfwP76FQ3KjQtq/0cJAjGYHCEA7KsqdIPjIvyXPEHrMoQdABFf+Mn7hxb/39ONWq+cHQMER6AJBNcG/d/iTvHA4CEAkAqbIeq+3v7qeQKZWkghAtEe4NQ8fqL/LAbL3hfEIQA==\",\"dtype\":\"float64\",\"shape\":[50]},\"xVal\":{\"__ndarray__\":\"AAAAAAAAOcAAAAAAAAA4wAAAAAAAADfAAAAAAAAANsAAAAAAAAA1wAAAAAAAADTAAAAAAAAAM8AAAAAAAAAywAAAAAAAADHAAAAAAAAAMMAAAAAAAAAuwAAAAAAAACzAAAAAAAAAKsAAAAAAAAAowAAAAAAAACbAAAAAAAAAJMAAAAAAAAAiwAAAAAAAACDAAAAAAAAAHMAAAAAAAAAYwAAAAAAAABTAAAAAAAAAEMAAAAAAAAAIwAAAAAAAAADAAAAAAAAA8L8AAAAAAAAAAAAAAAAAAPA/AAAAAAAAAEAAAAAAAAAIQAAAAAAAABBAAAAAAAAAFEAAAAAAAAAYQAAAAAAAABxAAAAAAAAAIEAAAAAAAAAiQAAAAAAAACRAAAAAAAAAJkAAAAAAAAAoQAAAAAAAACpAAAAAAAAALEAAAAAAAAAuQAAAAAAAADBAAAAAAAAAMUAAAAAAAAAyQAAAAAAAADNAAAAAAAAANEAAAAAAAAA1QAAAAAAAADZAAAAAAAAAN0AAAAAAAAA4QA==\",\"dtype\":\"float64\",\"shape\":[50]},\"yVal\":{\"__ndarray__\":\"AAAAAAAAAAAAAAAAAAAAAAAAAAAAAAAAAAAAAAAAAAAAAAAAAAAAAAAAAAAAAAAAAAAAAAAAAAAAAAAAAAAAAAAAAAAAAAAAAAAAAAAAAAAAAAAAAAAAAAAAAAAAAAAAAAAAAAAAAAAAAAAAAAAAAAAAAAAAAAAAAAAAAAAAAAAAAAAAAAAAAAAAAAAAAAAAAAAAAAAAAAAAAAAAAAAAAAAAAAAAAAAAAAAAAAAAAAAAAAAAAAAAAAAAAAAAAAAAAAAAAAAAAAAAAAAAAAAAAAAAAAAAAAAAAAAAAAAAAAAAAAAAAAAAAAAAAAAAAAAAAAAAAAAAAAAAAAAAAAAAAAAAAAAAAAAAAAAAAAAAAAAAAAAAAAAAAAAAAAAAAAAAAAAAAAAAAAAAAAAAAAAAAAAAAAAAAAAAAAAAAAAAAAAAAAAAAAAAAAAAAAAAAAAAAAAAAAAAAAAAAAAAAAAAAAAAAAAAAAAAAAAAAAAAAAAAAAAAAAAAAAAAAAAAAAAAAAAAAAAAAAAAAAAAAAAAAA==\",\"dtype\":\"float64\",\"shape\":[50]}},\"selected\":{\"id\":\"63060\",\"type\":\"Selection\"},\"selection_policy\":{\"id\":\"63061\",\"type\":\"UnionRenderers\"}},\"id\":\"62121\",\"type\":\"ColumnDataSource\"},{\"attributes\":{\"callback\":null},\"id\":\"62092\",\"type\":\"DataRange1d\"},{\"attributes\":{},\"id\":\"63059\",\"type\":\"BasicTickFormatter\"},{\"attributes\":{},\"id\":\"63055\",\"type\":\"BasicTickFormatter\"},{\"attributes\":{},\"id\":\"62111\",\"type\":\"SaveTool\"},{\"attributes\":{},\"id\":\"63060\",\"type\":\"Selection\"},{\"attributes\":{},\"id\":\"62109\",\"type\":\"WheelZoomTool\"},{\"attributes\":{\"callback\":null,\"end\":27.500000000000004,\"start\":-27.500000000000004},\"id\":\"62090\",\"type\":\"Range1d\"},{\"attributes\":{\"callback\":null,\"data\":{\"xVal_s\":{\"__ndarray__\":\"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\",\"dtype\":\"float64\",\"shape\":[200]},\"yVal_s\":{\"__ndarray__\":\"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\",\"dtype\":\"float64\",\"shape\":[200]}},\"selected\":{\"id\":\"63062\",\"type\":\"Selection\"},\"selection_policy\":{\"id\":\"63063\",\"type\":\"UnionRenderers\"}},\"id\":\"62122\",\"type\":\"ColumnDataSource\"},{\"attributes\":{},\"id\":\"62108\",\"type\":\"PanTool\"},{\"attributes\":{},\"id\":\"63061\",\"type\":\"UnionRenderers\"},{\"attributes\":{\"source\":{\"id\":\"62122\",\"type\":\"ColumnDataSource\"}},\"id\":\"62133\",\"type\":\"CDSView\"},{\"attributes\":{},\"id\":\"62099\",\"type\":\"BasicTicker\"},{\"attributes\":{},\"id\":\"63062\",\"type\":\"Selection\"},{\"attributes\":{},\"id\":\"62096\",\"type\":\"LinearScale\"},{\"attributes\":{},\"id\":\"63063\",\"type\":\"UnionRenderers\"},{\"attributes\":{},\"id\":\"62094\",\"type\":\"LinearScale\"},{\"attributes\":{\"ticker\":{\"id\":\"62099\",\"type\":\"BasicTicker\"}},\"id\":\"62102\",\"type\":\"Grid\"},{\"attributes\":{\"text\":\"Electron wavefunction\"},\"id\":\"62088\",\"type\":\"Title\"},{\"attributes\":{\"bottom_units\":\"screen\",\"fill_alpha\":{\"value\":0.5},\"fill_color\":{\"value\":\"lightgrey\"},\"left_units\":\"screen\",\"level\":\"overlay\",\"line_alpha\":{\"value\":1.0},\"line_color\":{\"value\":\"black\"},\"line_dash\":[4,4],\"line_width\":{\"value\":2},\"render_mode\":\"css\",\"right_units\":\"screen\",\"top_units\":\"screen\"},\"id\":\"63064\",\"type\":\"BoxAnnotation\"},{\"attributes\":{\"formatter\":{\"id\":\"63057\",\"type\":\"BasicTickFormatter\"},\"ticker\":{\"id\":\"62099\",\"type\":\"BasicTicker\"}},\"id\":\"62098\",\"type\":\"LinearAxis\"}],\"root_ids\":[\"62087\"]},\"title\":\"Bokeh Application\",\"version\":\"1.4.0\"}};\n",
       "  var render_items = [{\"docid\":\"001743e5-6c5f-418e-bc2f-9d40bf93ae54\",\"roots\":{\"62087\":\"5eadd5be-bcac-4ce3-b822-b8b9b7d17e58\"}}];\n",
       "  root.Bokeh.embed.embed_items_notebook(docs_json, render_items);\n",
       "\n",
       "  }\n",
       "  if (root.Bokeh !== undefined) {\n",
       "    embed_document(root);\n",
       "  } else {\n",
       "    var attempts = 0;\n",
       "    var timer = setInterval(function(root) {\n",
       "      if (root.Bokeh !== undefined) {\n",
       "        clearInterval(timer);\n",
       "        embed_document(root);\n",
       "      } else {\n",
       "        attempts++;\n",
       "        if (attempts > 100) {\n",
       "          clearInterval(timer);\n",
       "          console.log(\"Bokeh: ERROR: Unable to run BokehJS code because BokehJS library is missing\");\n",
       "        }\n",
       "      }\n",
       "    }, 10, root)\n",
       "  }\n",
       "})(window);"
      ],
      "application/vnd.bokehjs_exec.v0+json": ""
     },
     "metadata": {
      "application/vnd.bokehjs_exec.v0+json": {
       "id": "62087"
      }
     },
     "output_type": "display_data"
    }
   ],
   "source": [
    "# Plot the phase of the wavefunction at time = t*dt\n",
    "t = 0;\n",
    "phi_t = np.squeeze(phis[t]);\n",
    "pt = interp1d(lattx,np.squeeze(phis[t]), kind = 'cubic');\n",
    "rho_t = interp1d(lattx,np.squeeze(rhos[t]), kind = 'cubic');\n",
    "wavefunc_t = figure(plot_height=300, plot_width=700, title=\"Electron wavefunction\",x_range=[-1.1*a*M,1.1*a*M]);\n",
    "source4 = ColumnDataSource(data = {'xVal': lattx, 'yVal' : latty, 'cVal': phi_t});\n",
    "lattx_smooth = np.linspace(-a*M,a*(M-1),num = 200, endpoint = True);\n",
    "source5 = ColumnDataSource(data = {'xVal_s': lattx_smooth, 'yVal_s': rho_t(lattx_smooth)/rho_t(lattx_smooth).max()});\n",
    "\n",
    "#phis_smooth = np.empty(ts.size,dtype = object); # Initiate a container for the phase at different time slice\n",
    "#for ii in range(0,ts.size-1): # Option 1: use smoothed curve to show phase variation\n",
    "#    phis_smooth[ii] = interp1d(lattx,np.squeeze(phis[ii]), kind = 'cubic');\n",
    "#wavefunc_t.line('xVal','yVal', source = source4); \n",
    "\n",
    "mapper = linear_cmap(field_name = 'cVal', palette = RdYlBu11, low = min(phi_t), high = max(phi_t));\n",
    "wavefunc_t.circle('xVal','yVal',source = source4, size = 6, line_color = mapper, fill_color = mapper);\n",
    "wavefunc_t.line('xVal_s','yVal_s',source = source5, line_color = 'red');\n",
    "color_bar = ColorBar(color_mapper = mapper['transform'], width = 300, location = (150,0), orientation = \"horizontal\");\n",
    "wavefunc_t.add_layout(color_bar, 'below');\n",
    "show(wavefunc_t)"
   ]
  },
  {
   "cell_type": "code",
   "execution_count": 287,
   "metadata": {},
   "outputs": [],
   "source": [
    "def update(time):\n",
    "    time = int(time/dt);\n",
    "    pt = interp1d(lattx,np.squeeze(phis[t]), kind = 'cubic');\n",
    "    rho_t = interp1d(lattx,np.squeeze(rhos[time]), kind = 'cubic');\n",
    "    source4.data['cVal'] = np.squeeze(phis[time]);\n",
    "    source5.data['yVal_s'] = rho_t(lattx_smooth)/rho_t(lattx_smooth).max();\n",
    "    \n",
    "    push_notebook(wavefunc_t)"
   ]
  },
  {
   "cell_type": "code",
   "execution_count": 288,
   "metadata": {},
   "outputs": [
    {
     "data": {
      "text/html": [
       "\n",
       "\n",
       "\n",
       "\n",
       "\n",
       "\n",
       "  <div class=\"bk-root\" id=\"5bef5282-e104-4135-a54a-dc651b2163a6\" data-root-id=\"62087\"></div>\n"
      ]
     },
     "metadata": {},
     "output_type": "display_data"
    },
    {
     "data": {
      "application/javascript": [
       "(function(root) {\n",
       "  function embed_document(root) {\n",
       "    \n",
       "  var docs_json = {\"a99c99e5-b5bf-47b5-b061-9be312de0a16\":{\"roots\":{\"references\":[{\"attributes\":{\"below\":[{\"id\":\"62098\",\"type\":\"LinearAxis\"},{\"id\":\"62134\",\"type\":\"ColorBar\"}],\"center\":[{\"id\":\"62102\",\"type\":\"Grid\"},{\"id\":\"62107\",\"type\":\"Grid\"}],\"left\":[{\"id\":\"62103\",\"type\":\"LinearAxis\"}],\"plot_height\":300,\"plot_width\":700,\"renderers\":[{\"id\":\"62127\",\"type\":\"GlyphRenderer\"},{\"id\":\"62132\",\"type\":\"GlyphRenderer\"}],\"title\":{\"id\":\"62088\",\"type\":\"Title\"},\"toolbar\":{\"id\":\"62114\",\"type\":\"Toolbar\"},\"x_range\":{\"id\":\"62090\",\"type\":\"Range1d\"},\"x_scale\":{\"id\":\"62094\",\"type\":\"LinearScale\"},\"y_range\":{\"id\":\"62092\",\"type\":\"DataRange1d\"},\"y_scale\":{\"id\":\"62096\",\"type\":\"LinearScale\"}},\"id\":\"62087\",\"subtype\":\"Figure\",\"type\":\"Plot\"},{\"attributes\":{\"dimension\":1,\"ticker\":{\"id\":\"62104\",\"type\":\"BasicTicker\"}},\"id\":\"62107\",\"type\":\"Grid\"},{\"attributes\":{},\"id\":\"62112\",\"type\":\"ResetTool\"},{\"attributes\":{},\"id\":\"63058\",\"type\":\"BasicTicker\"},{\"attributes\":{\"fill_color\":{\"field\":\"cVal\",\"transform\":{\"id\":\"62123\",\"type\":\"LinearColorMapper\"}},\"line_color\":{\"field\":\"cVal\",\"transform\":{\"id\":\"62123\",\"type\":\"LinearColorMapper\"}},\"size\":{\"units\":\"screen\",\"value\":6},\"x\":{\"field\":\"xVal\"},\"y\":{\"field\":\"yVal\"}},\"id\":\"62125\",\"type\":\"Circle\"},{\"attributes\":{},\"id\":\"62113\",\"type\":\"HelpTool\"},{\"attributes\":{\"high\":3.117931304092257,\"low\":-3.117931304092257,\"palette\":[\"#313695\",\"#4575b4\",\"#74add1\",\"#abd9e9\",\"#e0f3f8\",\"#ffffbf\",\"#fee090\",\"#fdae61\",\"#f46d43\",\"#d73027\",\"#a50026\"]},\"id\":\"62123\",\"type\":\"LinearColorMapper\"},{\"attributes\":{\"fill_alpha\":{\"value\":0.1},\"fill_color\":{\"value\":\"#1f77b4\"},\"line_alpha\":{\"value\":0.1},\"line_color\":{\"value\":\"#1f77b4\"},\"size\":{\"units\":\"screen\",\"value\":6},\"x\":{\"field\":\"xVal\"},\"y\":{\"field\":\"yVal\"}},\"id\":\"62126\",\"type\":\"Circle\"},{\"attributes\":{\"formatter\":{\"id\":\"63055\",\"type\":\"BasicTickFormatter\"},\"ticker\":{\"id\":\"62104\",\"type\":\"BasicTicker\"}},\"id\":\"62103\",\"type\":\"LinearAxis\"},{\"attributes\":{\"data_source\":{\"id\":\"62121\",\"type\":\"ColumnDataSource\"},\"glyph\":{\"id\":\"62125\",\"type\":\"Circle\"},\"hover_glyph\":null,\"muted_glyph\":null,\"nonselection_glyph\":{\"id\":\"62126\",\"type\":\"Circle\"},\"selection_glyph\":null,\"view\":{\"id\":\"62128\",\"type\":\"CDSView\"}},\"id\":\"62127\",\"type\":\"GlyphRenderer\"},{\"attributes\":{},\"id\":\"62104\",\"type\":\"BasicTicker\"},{\"attributes\":{},\"id\":\"63057\",\"type\":\"BasicTickFormatter\"},{\"attributes\":{\"source\":{\"id\":\"62121\",\"type\":\"ColumnDataSource\"}},\"id\":\"62128\",\"type\":\"CDSView\"},{\"attributes\":{\"color_mapper\":{\"id\":\"62123\",\"type\":\"LinearColorMapper\"},\"formatter\":{\"id\":\"63059\",\"type\":\"BasicTickFormatter\"},\"location\":[150,0],\"orientation\":\"horizontal\",\"ticker\":{\"id\":\"63058\",\"type\":\"BasicTicker\"},\"width\":300},\"id\":\"62134\",\"type\":\"ColorBar\"},{\"attributes\":{\"line_color\":\"red\",\"x\":{\"field\":\"xVal_s\"},\"y\":{\"field\":\"yVal_s\"}},\"id\":\"62130\",\"type\":\"Line\"},{\"attributes\":{\"overlay\":{\"id\":\"63064\",\"type\":\"BoxAnnotation\"}},\"id\":\"62110\",\"type\":\"BoxZoomTool\"},{\"attributes\":{\"line_alpha\":0.1,\"line_color\":\"#1f77b4\",\"x\":{\"field\":\"xVal_s\"},\"y\":{\"field\":\"yVal_s\"}},\"id\":\"62131\",\"type\":\"Line\"},{\"attributes\":{\"active_drag\":\"auto\",\"active_inspect\":\"auto\",\"active_multi\":null,\"active_scroll\":\"auto\",\"active_tap\":\"auto\",\"tools\":[{\"id\":\"62108\",\"type\":\"PanTool\"},{\"id\":\"62109\",\"type\":\"WheelZoomTool\"},{\"id\":\"62110\",\"type\":\"BoxZoomTool\"},{\"id\":\"62111\",\"type\":\"SaveTool\"},{\"id\":\"62112\",\"type\":\"ResetTool\"},{\"id\":\"62113\",\"type\":\"HelpTool\"}]},\"id\":\"62114\",\"type\":\"Toolbar\"},{\"attributes\":{\"data_source\":{\"id\":\"62122\",\"type\":\"ColumnDataSource\"},\"glyph\":{\"id\":\"62130\",\"type\":\"Line\"},\"hover_glyph\":null,\"muted_glyph\":null,\"nonselection_glyph\":{\"id\":\"62131\",\"type\":\"Line\"},\"selection_glyph\":null,\"view\":{\"id\":\"62133\",\"type\":\"CDSView\"}},\"id\":\"62132\",\"type\":\"GlyphRenderer\"},{\"attributes\":{\"callback\":null,\"data\":{\"cVal\":{\"__ndarray__\":\"CQlihH4/s73LAbL3hfEIwLRHuDUPH6g/up5AplaSCMAkAqbIeq+3P3f4k7xwOAjAwRHoAkE1wT/39ONWq+cHwARX/jJ+4cU/Jc8QesyhB8A7KsqdIPjIP9HCQIxmBwjAvoVDcqNC2j+uzSZHidfwv8bnzNyWxwHAXjVMqvkwBEBcZAxxswrwP62CYhcBHOC/Y4uyABAVAMCKKmTFFR4GQGd+3krlGvQ/6urqaAEW0L/iL0m/9CX8vy/xhTmhIAhAJssMeo8g+D8AAAAAAAAAACbLDHqPIPi/L/GFOaEgCMDiL0m/9CX8P+rq6mgBFtA/Z37eSuUa9L+KKmTFFR4GwGOLsgAQFQBArYJiFwEc4D9cZAxxswrwv141TKr5MATAxufM3JbHAUCuzSZHidfwP76FQ3KjQtq/0cJAjGYHCEA7KsqdIPjIvyXPEHrMoQdABFf+Mn7hxb/39ONWq+cHQMER6AJBNcG/d/iTvHA4CEAkAqbIeq+3v7qeQKZWkghAtEe4NQ8fqL/LAbL3hfEIQA==\",\"dtype\":\"float64\",\"shape\":[50]},\"xVal\":{\"__ndarray__\":\"AAAAAAAAOcAAAAAAAAA4wAAAAAAAADfAAAAAAAAANsAAAAAAAAA1wAAAAAAAADTAAAAAAAAAM8AAAAAAAAAywAAAAAAAADHAAAAAAAAAMMAAAAAAAAAuwAAAAAAAACzAAAAAAAAAKsAAAAAAAAAowAAAAAAAACbAAAAAAAAAJMAAAAAAAAAiwAAAAAAAACDAAAAAAAAAHMAAAAAAAAAYwAAAAAAAABTAAAAAAAAAEMAAAAAAAAAIwAAAAAAAAADAAAAAAAAA8L8AAAAAAAAAAAAAAAAAAPA/AAAAAAAAAEAAAAAAAAAIQAAAAAAAABBAAAAAAAAAFEAAAAAAAAAYQAAAAAAAABxAAAAAAAAAIEAAAAAAAAAiQAAAAAAAACRAAAAAAAAAJkAAAAAAAAAoQAAAAAAAACpAAAAAAAAALEAAAAAAAAAuQAAAAAAAADBAAAAAAAAAMUAAAAAAAAAyQAAAAAAAADNAAAAAAAAANEAAAAAAAAA1QAAAAAAAADZAAAAAAAAAN0AAAAAAAAA4QA==\",\"dtype\":\"float64\",\"shape\":[50]},\"yVal\":{\"__ndarray__\":\"AAAAAAAAAAAAAAAAAAAAAAAAAAAAAAAAAAAAAAAAAAAAAAAAAAAAAAAAAAAAAAAAAAAAAAAAAAAAAAAAAAAAAAAAAAAAAAAAAAAAAAAAAAAAAAAAAAAAAAAAAAAAAAAAAAAAAAAAAAAAAAAAAAAAAAAAAAAAAAAAAAAAAAAAAAAAAAAAAAAAAAAAAAAAAAAAAAAAAAAAAAAAAAAAAAAAAAAAAAAAAAAAAAAAAAAAAAAAAAAAAAAAAAAAAAAAAAAAAAAAAAAAAAAAAAAAAAAAAAAAAAAAAAAAAAAAAAAAAAAAAAAAAAAAAAAAAAAAAAAAAAAAAAAAAAAAAAAAAAAAAAAAAAAAAAAAAAAAAAAAAAAAAAAAAAAAAAAAAAAAAAAAAAAAAAAAAAAAAAAAAAAAAAAAAAAAAAAAAAAAAAAAAAAAAAAAAAAAAAAAAAAAAAAAAAAAAAAAAAAAAAAAAAAAAAAAAAAAAAAAAAAAAAAAAAAAAAAAAAAAAAAAAAAAAAAAAAAAAAAAAAAAAAAAAAAAAA==\",\"dtype\":\"float64\",\"shape\":[50]}},\"selected\":{\"id\":\"63060\",\"type\":\"Selection\"},\"selection_policy\":{\"id\":\"63061\",\"type\":\"UnionRenderers\"}},\"id\":\"62121\",\"type\":\"ColumnDataSource\"},{\"attributes\":{\"callback\":null},\"id\":\"62092\",\"type\":\"DataRange1d\"},{\"attributes\":{},\"id\":\"63059\",\"type\":\"BasicTickFormatter\"},{\"attributes\":{},\"id\":\"63055\",\"type\":\"BasicTickFormatter\"},{\"attributes\":{},\"id\":\"62111\",\"type\":\"SaveTool\"},{\"attributes\":{},\"id\":\"63060\",\"type\":\"Selection\"},{\"attributes\":{},\"id\":\"62109\",\"type\":\"WheelZoomTool\"},{\"attributes\":{\"callback\":null,\"end\":27.500000000000004,\"start\":-27.500000000000004},\"id\":\"62090\",\"type\":\"Range1d\"},{\"attributes\":{\"callback\":null,\"data\":{\"xVal_s\":{\"__ndarray__\":\"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\",\"dtype\":\"float64\",\"shape\":[200]},\"yVal_s\":{\"__ndarray__\":\"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\",\"dtype\":\"float64\",\"shape\":[200]}},\"selected\":{\"id\":\"63062\",\"type\":\"Selection\"},\"selection_policy\":{\"id\":\"63063\",\"type\":\"UnionRenderers\"}},\"id\":\"62122\",\"type\":\"ColumnDataSource\"},{\"attributes\":{},\"id\":\"62108\",\"type\":\"PanTool\"},{\"attributes\":{},\"id\":\"63061\",\"type\":\"UnionRenderers\"},{\"attributes\":{\"source\":{\"id\":\"62122\",\"type\":\"ColumnDataSource\"}},\"id\":\"62133\",\"type\":\"CDSView\"},{\"attributes\":{},\"id\":\"62099\",\"type\":\"BasicTicker\"},{\"attributes\":{},\"id\":\"63062\",\"type\":\"Selection\"},{\"attributes\":{},\"id\":\"62096\",\"type\":\"LinearScale\"},{\"attributes\":{},\"id\":\"63063\",\"type\":\"UnionRenderers\"},{\"attributes\":{},\"id\":\"62094\",\"type\":\"LinearScale\"},{\"attributes\":{\"ticker\":{\"id\":\"62099\",\"type\":\"BasicTicker\"}},\"id\":\"62102\",\"type\":\"Grid\"},{\"attributes\":{\"text\":\"Electron wavefunction\"},\"id\":\"62088\",\"type\":\"Title\"},{\"attributes\":{\"bottom_units\":\"screen\",\"fill_alpha\":{\"value\":0.5},\"fill_color\":{\"value\":\"lightgrey\"},\"left_units\":\"screen\",\"level\":\"overlay\",\"line_alpha\":{\"value\":1.0},\"line_color\":{\"value\":\"black\"},\"line_dash\":[4,4],\"line_width\":{\"value\":2},\"render_mode\":\"css\",\"right_units\":\"screen\",\"top_units\":\"screen\"},\"id\":\"63064\",\"type\":\"BoxAnnotation\"},{\"attributes\":{\"formatter\":{\"id\":\"63057\",\"type\":\"BasicTickFormatter\"},\"ticker\":{\"id\":\"62099\",\"type\":\"BasicTicker\"}},\"id\":\"62098\",\"type\":\"LinearAxis\"}],\"root_ids\":[\"62087\"]},\"title\":\"Bokeh Application\",\"version\":\"1.4.0\"}};\n",
       "  var render_items = [{\"docid\":\"a99c99e5-b5bf-47b5-b061-9be312de0a16\",\"notebook_comms_target\":\"63137\",\"roots\":{\"62087\":\"5bef5282-e104-4135-a54a-dc651b2163a6\"}}];\n",
       "  root.Bokeh.embed.embed_items_notebook(docs_json, render_items);\n",
       "\n",
       "  }\n",
       "  if (root.Bokeh !== undefined) {\n",
       "    embed_document(root);\n",
       "  } else {\n",
       "    var attempts = 0;\n",
       "    var timer = setInterval(function(root) {\n",
       "      if (root.Bokeh !== undefined) {\n",
       "        clearInterval(timer);\n",
       "        embed_document(root);\n",
       "      } else {\n",
       "        attempts++;\n",
       "        if (attempts > 100) {\n",
       "          clearInterval(timer);\n",
       "          console.log(\"Bokeh: ERROR: Unable to run BokehJS code because BokehJS library is missing\");\n",
       "        }\n",
       "      }\n",
       "    }, 10, root)\n",
       "  }\n",
       "})(window);"
      ],
      "application/vnd.bokehjs_exec.v0+json": ""
     },
     "metadata": {
      "application/vnd.bokehjs_exec.v0+json": {
       "id": "62087"
      }
     },
     "output_type": "display_data"
    }
   ],
   "source": [
    "show(wavefunc_t, notebook_handle = True);"
   ]
  },
  {
   "cell_type": "code",
   "execution_count": 289,
   "metadata": {},
   "outputs": [
    {
     "data": {
      "application/vnd.jupyter.widget-view+json": {
       "model_id": "dcab1aa6076044cfae35f36f069990aa",
       "version_major": 2,
       "version_minor": 0
      },
      "text/plain": [
       "interactive(children=(FloatSlider(value=0.0, description='time', max=599.8000000000001), Output()), _dom_class…"
      ]
     },
     "metadata": {},
     "output_type": "display_data"
    }
   ],
   "source": [
    "interact(update, time = ipw.FloatSlider(min = 0, max = (endt-2)*dt, step = dt, value = 0));"
   ]
  },
  {
   "cell_type": "code",
   "execution_count": null,
   "metadata": {},
   "outputs": [],
   "source": [
    "#This animation is not functioning due to the current incompatibility between bokeh and tornado, should be resolved in furture updates.\n",
    "\n",
    "# def auto_update():\n",
    "#     global time;\n",
    "#     source_tt.data['cVal'] = np.squeeze(phis[t])\n",
    "#     source_tt.data['yVal'] = interp1d(lattice,np.squeeze(rhos[t]), kind = 'cubic')\n",
    "#     source_tt.trigger('data', source_tt.data, source_tt.data)\n",
    "#     if time < endt.size - 1:\n",
    "#         time = time + 1\n",
    "#     else:\n",
    "#         time = 0\n",
    "#         source_tt.data['cVal'] = np.squeeze(phis[0])\n",
    "#         source_tt.data['yVal'] = interp1d(lattice,np.squeeze(rhos[0]), kind = 'cubic')"
   ]
  },
  {
   "cell_type": "code",
   "execution_count": null,
   "metadata": {},
   "outputs": [],
   "source": [
    "#This animation is not functioning due to the current incompatibility between bokeh and tornado, should be resolved in furture updates.\n",
    "\n",
    "# session = push_session(curdoc())\n",
    "# time = 0; # set initial frame\n",
    "# source_tt = ColumnDataSource(data = {'xVal': lattx, 'yVal' : rhos[0], 'cVal': np.zeros(lattx.size)})\n",
    "# wavefunc_tt = figure(plot_height=300, plot_width=700, title=\"Evolution of electron wavefunction\",x_range=[-1.1*a*M,1.1*a*M]);\n",
    "\n",
    "# mapper = linear_cmap(field_name = 'cVal', palette = Spectral6, low = 0, high = 1);\n",
    "# wavefunc_tt.line(x = 'xVal', y = 'yVal', source = source_tt, line_color = 'red');\n",
    "# wavefunc_tt.circle('xPos','yPos',source = source4, size = 10, line_color = mapper, fill_color = mapper);\n",
    "\n",
    "# curdoc().add_periodic_callback(auto_update, 67)\n",
    "\n",
    "# session.show()\n",
    "# session.loop_until_closed()"
   ]
  },
  {
   "cell_type": "code",
   "execution_count": null,
   "metadata": {},
   "outputs": [],
   "source": []
  },
  {
   "cell_type": "code",
   "execution_count": null,
   "metadata": {},
   "outputs": [],
   "source": []
  }
 ],
 "metadata": {
  "kernelspec": {
   "display_name": "Python 3",
   "language": "python",
   "name": "python3"
  },
  "language_info": {
   "codemirror_mode": {
    "name": "ipython",
    "version": 3
   },
   "file_extension": ".py",
   "mimetype": "text/x-python",
   "name": "python",
   "nbconvert_exporter": "python",
   "pygments_lexer": "ipython3",
   "version": "3.6.9"
  }
 },
 "nbformat": 4,
 "nbformat_minor": 4
}
