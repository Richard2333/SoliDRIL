{
 "cells": [
  {
   "cell_type": "markdown",
   "metadata": {},
   "source": [
    "# Hund's Rules\n",
    "In this notebook we give a simple introduction on the Hund's rule: how electrons fill in the orbitals.\n",
    "The Hund's rules contain 3 terms:\n",
    "1 \n",
    "2"
   ]
  },
  {
   "cell_type": "code",
   "execution_count": 87,
   "metadata": {},
   "outputs": [],
   "source": [
    "import numpy as np\n",
    "import matplotlib.pyplot as plt\n",
    "\n",
    "# from __future__ import print_function\n",
    "from ipywidgets import interact, interactive, fixed, interact_manual\n",
    "import ipywidgets as widgets\n",
    "\n"
   ]
  },
  {
   "cell_type": "code",
   "execution_count": 88,
   "metadata": {},
   "outputs": [],
   "source": [
    "def interactive_hund(orbit,elecs):\n",
    "    nn=orbit*2-1;\n",
    "    plt.xlim(0,nn+1);\n",
    "    plt.ylim(-0.5,1.5);\n",
    "    #plt.axis('scaled')\n",
    "    print('orbits=',nn)\n",
    "    if (elecs<=nn):\n",
    "        for x in range(0,elecs):\n",
    "            plt.arrow(x+1,0,0,1,head_width=0.2)\n",
    "    else:\n",
    "        for x in range(0,elecs-nn):\n",
    "            plt.arrow(x+1,0,0,1,head_width=0.2)\n",
    "            plt.arrow(x+1.2,1.2,0,-1,head_width=0.2)\n",
    "            #plt.arrow(nn-x+0.2,1.2,0,-1,head_width=0.2)\n",
    "        for x in range(elecs-nn,nn):\n",
    "            plt.arrow(x+1,0,0,1,head_width=0.2)\n",
    "    \n",
    "    return\n",
    "def interactive_hunds(ob):\n",
    "    interact(interactive_hund,orbit=fixed(ob),elecs=(1,ob*4-2))\n",
    "    return"
   ]
  },
  {
   "cell_type": "code",
   "execution_count": 89,
   "metadata": {},
   "outputs": [
    {
     "data": {
      "application/vnd.jupyter.widget-view+json": {
       "model_id": "c34aed2f7d29449fa111d409d94c1fb6",
       "version_major": 2,
       "version_minor": 0
      },
      "text/plain": [
       "interactive(children=(IntSlider(value=2, description='ob', max=4, min=1), Output()), _dom_classes=('widget-int…"
      ]
     },
     "metadata": {},
     "output_type": "display_data"
    },
    {
     "data": {
      "text/plain": [
       "<function __main__.interactive_hunds(ob)>"
      ]
     },
     "execution_count": 89,
     "metadata": {},
     "output_type": "execute_result"
    }
   ],
   "source": [
    "interact(interactive_hunds,ob=(1,4))"
   ]
  },
  {
   "cell_type": "code",
   "execution_count": null,
   "metadata": {},
   "outputs": [],
   "source": []
  }
 ],
 "metadata": {
  "kernelspec": {
   "display_name": "Python 3",
   "language": "python",
   "name": "python3"
  },
  "language_info": {
   "codemirror_mode": {
    "name": "ipython",
    "version": 3
   },
   "file_extension": ".py",
   "mimetype": "text/x-python",
   "name": "python",
   "nbconvert_exporter": "python",
   "pygments_lexer": "ipython3",
   "version": "3.6.9"
  }
 },
 "nbformat": 4,
 "nbformat_minor": 4
}
