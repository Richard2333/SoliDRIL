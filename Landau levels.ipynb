{
 "cells": [
  {
   "cell_type": "code",
   "execution_count": null,
   "metadata": {},
   "outputs": [],
   "source": [
    "import numpy as np\n",
    "import ipywidgets as ipw\n",
    "\n",
    "from bokeh.io import push_notebook, output_notebook, show\n",
    "from bokeh.layouts import row, column\n",
    "from bokeh.plotting import figure\n",
    "from bokeh.models import ColumnDataSource\n",
    "output_notebook()\n",
    "\n",
    "from ipywidgets import interact\n",
    "\n",
    "from collections import OrderedDict\n",
    "old_settings = np.seterr(over = 'ignore') #Ignore warnings about overflow data points"
   ]
  },
  {
   "cell_type": "code",
   "execution_count": null,
   "metadata": {},
   "outputs": [],
   "source": [
    "kz = np.linspace(-np.pi, np.pi);\n",
    "Ez = -2*np.cos(kz)-3.0;\n",
    "B = 0.5; # Magnetic field\n",
    "hbar = 1.0;\n",
    "e = 1; # Electron charge\n",
    "m = 1; # (free) Electron mass\n",
    "c = 1; # Speed of light\n",
    "wc = e*B/(m*c); # Cyclotron frequency"
   ]
  },
  {
   "cell_type": "code",
   "execution_count": null,
   "metadata": {},
   "outputs": [],
   "source": [
    "# Define the Fermi surface in zero magnetic field\n",
    "freeE = figure(plot_height=350, plot_width=400, title=\"Dispersion relationship of a free electron\",\n",
    "              tools=\"pan,reset,save,wheel_zoom\", x_range = [-1.1*np.amin(Ez), 1.1*np.amin(Ez)],\n",
    "              y_range = [np.amin(kz), np.amax(kz)]);\n",
    "source = ColumnDataSource(data = {'xVal':Ez, 'yVal':kz, 'xxVal':-Ez});\n",
    "freeE.line('xVal', 'yVal', source = source, line_width=2, line_alpha=1);\n",
    "freeE.line('xxVal', 'yVal', source = source, line_width=2, line_alpha=1);"
   ]
  },
  {
   "cell_type": "code",
   "execution_count": null,
   "metadata": {},
   "outputs": [],
   "source": [
    "dE = hbar*wc;\n",
    "dA = 2*m*np.pi*wc/hbar;\n",
    "A = np.arange(0, 31*dA, dA);\n",
    "kk = np.sqrt(A)/np.pi;\n",
    "kF = np.array([-kk,kk]);\n",
    "kF.flatten()\n",
    "Ef = -2*np.cos(kF)-3.0;\n",
    "gExy = m/(np.pi*hbar**2);\n",
    "source2 = ColumnDataSource(data = {'xVal':Ef, 'yVal': kF, 'xxVal': -Ef});\n",
    "freeE.circle('xVal','yVal', source = source2, line_width = 2, line_alpha = 0.2);\n",
    "freeE.circle('xxVal','yVal', source = source2, line_width = 2, line_alpha = 0.2);\n",
    "freeE.xaxis.axis_label = 'kx & ky';\n",
    "freeE.yaxis.axis_label = 'kz'\n",
    "show(freeE)"
   ]
  },
  {
   "cell_type": "code",
   "execution_count": null,
   "metadata": {},
   "outputs": [],
   "source": [
    "# Plot the histogram of states per energy interval\n",
    "dEf = np.diff(Ef);\n",
    "bWidth = np.amax(np.abs(dEf)); # Define the bin width of the histogram so minimum it contains one kxy tube\n",
    "histoN = (2*np.amax(kz)/bWidth).astype(int); # calculate the number of bars in the histogram\n",
    "kCount = np.empty(histoN, dtype = np.int8); # Declare an array to store histogram information\n",
    "gEs = np.linspace(kz.min(),kz.max(), histoN);\n",
    "zero = np.zeros(histoN);\n",
    "for idx in range(histoN-1):\n",
    "    kCount[idx] = len(kF[ (kF > gEs[idx]) & (kF <= gEs[idx+1]) ]);\n",
    "histo = figure(plot_height=350, plot_width=300, title=\"allowed states per Energy interval\",\n",
    "              tools=\"pan,reset,save,wheel_zoom\", y_range = [1.1*np.amin(gEs), 1.1*np.amax(gEs)],\n",
    "              x_range = [0, 1.1*np.amax(kCount)]);\n",
    "histo.xaxis[0].axis_label='Number of states';\n",
    "histo.yaxis[0].axis_label='Energy (eV)';\n",
    "source1 = ColumnDataSource(data = {'bottom': gEs, 'top': gEs + bWidth, 'right': kCount*gExy, 'left': zero});\n",
    "histo.quad(bottom = 'bottom', top = 'top', right = 'right', left = 'left', source = source1,\n",
    "           fill_color=\"navy\", line_color=\"white\", alpha=1);\n",
    "show(histo)"
   ]
  },
  {
   "cell_type": "code",
   "execution_count": null,
   "metadata": {},
   "outputs": [],
   "source": []
  },
  {
   "cell_type": "code",
   "execution_count": null,
   "metadata": {},
   "outputs": [],
   "source": []
  }
 ],
 "metadata": {
  "kernelspec": {
   "display_name": "Python 3",
   "language": "python",
   "name": "python3"
  },
  "language_info": {
   "codemirror_mode": {
    "name": "ipython",
    "version": 3
   },
   "file_extension": ".py",
   "mimetype": "text/x-python",
   "name": "python",
   "nbconvert_exporter": "python",
   "pygments_lexer": "ipython3",
   "version": "3.6.8"
  }
 },
 "nbformat": 4,
 "nbformat_minor": 4
}
