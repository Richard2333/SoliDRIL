{
 "cells": [
  {
   "cell_type": "code",
   "execution_count": 6,
   "metadata": {},
   "outputs": [],
   "source": [
    "# import numpy as np\n",
    "from numpy import linalg as LA\n",
    "import matplotlib.pyplot as plt\n",
    "\n",
    "# from __future__ import print_function\n",
    "from ipywidgets import interact, interactive, fixed, interact_manual\n",
    "import ipywidgets as widgets\n",
    "\n",
    "%matplotlib inline"
   ]
  },
  {
   "cell_type": "markdown",
   "metadata": {},
   "source": [
    "# Tight-binding model of 1d chain\n",
    "\n",
    "## Introduction\n",
    "This notebook is intended to give a very basic example to the band structure calculation, with the model of one-dimensional atom chains.\n"
   ]
  },
  {
   "cell_type": "markdown",
   "metadata": {},
   "source": [
    "One can write the Hamiltonian by projecting the intercell and intracell hoppings to lattice A and B: \n",
    "$$H_1^{ab}=\\langle \\psi_A | H_1 | \\psi_B \\rangle = \\gamma _1  $$\n",
    "$$H_2^{ab}=\\langle \\psi_A | H_2 | \\psi_B \\rangle = \\gamma_2 $$\n",
    "$$H = H_1 + H_2$$\n",
    "Under such projection, the Hamiltonian is thus converted into a form of 2x2 matrices."
   ]
  },
  {
   "cell_type": "markdown",
   "metadata": {},
   "source": [
    "With the Bloch functions, the intercell hopping is then:\n",
    "$$H_2^{ab}=\\langle \\psi_A | H_2 | \\exp(-ik) \\psi_B \\rangle =\\gamma_2 \\exp(-ik)$$\n",
    "considering the sublattice potentials $\\varepsilon_1$ and $\\varepsilon_1$ on A and B, we write the Hamiltonian matrix in terms of wavevector k:\n",
    "$$H_{00}=\\left(\\begin{array}{cc}\n",
    "\\varepsilon_1 & \\gamma_1\\\\\n",
    "\\gamma_1 & \\varepsilon_2\n",
    "\\end{array}\\right)$$\n",
    "$$H_{01}=\\left(\\begin{array}{cc}\n",
    "0 & \\gamma_2 \\exp(ik)\\\\\n",
    "0 & 0\n",
    "\\end{array}\\right)$$\n",
    "$$H_{10}=\\left(\\begin{array}{cc}\n",
    "0 & 0\\\\\n",
    "\\gamma_2\\exp(-ik) & 0\n",
    "\\end{array}\\right)$$"
   ]
  },
  {
   "cell_type": "markdown",
   "metadata": {},
   "source": [
    "The whole Hamiltonian matrix writes:\n",
    "$$H(k)=H_{00}+H_{01}+H_{10}=\\left(\\begin{array}{cc}\n",
    "\\varepsilon_1 & \\gamma_1+\\gamma_2 \\exp(ik)\\\\\n",
    "\\gamma_1+\\gamma_2\\exp(-ik) & \\varepsilon_2\n",
    "\\end{array}\\right)$$\n",
    "\n",
    "In order to calculate the bands, one should diagonalize the Hamiltonian $H(k)$ for each point of $k$. That's to solve the quadratic equation:\n",
    "$$ (\\lambda-\\varepsilon_1)(\\lambda-\\varepsilon_2) = (\\gamma_1 + \\gamma_2\\cos(k))^2 + (\\gamma_2\\sin(k))^2$$\n",
    "<!---and the answer is :\n",
    "#$$\\lambda=\\pm \\sqrt{(\\gamma_1 + \\gamma_2\\cos(k))^2 + (\\gamma_2\\sin(k))^2}$$--->"
   ]
  },
  {
   "attachments": {
    "image.png": {
     "image/png": "[encoded data removed]"
    }
   },
   "cell_type": "markdown",
   "metadata": {},
   "source": [
    "![image.png](attachment:image.png)  "
   ]
  },
  {
   "cell_type": "code",
   "execution_count": 12,
   "metadata": {},
   "outputs": [],
   "source": [
    "def interactive_1dband(gamma_1,gamma_2,epsilon_1,epsilon_2):\n",
    "    nk=40\n",
    "    k=np.linspace(-1.0*np.pi,1.0*np.pi,nk)\n",
    "    c=-(gamma_1+gamma_2*np.cos(k))**2-(gamma_2*np.sin(k))**2+epsilon_1*epsilon_2\n",
    "    b=-(epsilon_1+epsilon_2)\n",
    "    a=1\n",
    "    \n",
    "    x1=(-b+np.sqrt(b**2-4*a*c))/(2*a)\n",
    "    x2=(-b-np.sqrt(b**2-4*a*c))/(2*a)\n",
    "    plt.ylim(-4.2, 4.2)\n",
    "    plt.plot(k,x1)\n",
    "    plt.plot(k,x2)\n",
    "    #fix nk"
   ]
  },
  {
   "cell_type": "code",
   "execution_count": 13,
   "metadata": {},
   "outputs": [
    {
     "data": {
      "application/vnd.jupyter.widget-view+json": {
       "model_id": "1dce28939ca643439eee7613978fad9a",
       "version_major": 2,
       "version_minor": 0
      },
      "text/plain": [
       "interactive(children=(FloatSlider(value=1.0, description='gamma_1', max=1.5, min=0.5), FloatSlider(value=1.0, …"
      ]
     },
     "metadata": {},
     "output_type": "display_data"
    },
    {
     "data": {
      "text/plain": [
       "<function __main__.interactive_1dband(gamma_1, gamma_2, epsilon_1, epsilon_2)>"
      ]
     },
     "execution_count": 13,
     "metadata": {},
     "output_type": "execute_result"
    }
   ],
   "source": [
    "interact(interactive_1dband,gamma_1=(0.5,1.5),gamma_2=(0.5,1.5),epsilon_1=(0.0,1.0),epsilon_2=(0.0,1.0))"
   ]
  },
  {
   "cell_type": "markdown",
   "metadata": {},
   "source": [
    "We show the Hamiltonian in finite 1D chain"
   ]
  },
  {
   "cell_type": "markdown",
   "metadata": {},
   "source": [
    "# Questions\n",
    "\n",
    "- At what parameters will the system be gapless? Show the condition in terms of $\\gamma_1, \\gamma_2, \\varepsilon_1, \\varepsilon_2$\n",
    "- In the special case $\\gamma_1 = \\gamma_2 , \\varepsilon=0$, discuss the difference to the original system."
   ]
  },
  {
   "cell_type": "code",
   "execution_count": null,
   "metadata": {},
   "outputs": [],
   "source": []
  }
 ],
 "metadata": {
  "kernelspec": {
   "display_name": "Python 3",
   "language": "python",
   "name": "python3"
  },
  "language_info": {
   "codemirror_mode": {
    "name": "ipython",
    "version": 3
   },
   "file_extension": ".py",
   "mimetype": "text/x-python",
   "name": "python",
   "nbconvert_exporter": "python",
   "pygments_lexer": "ipython3",
   "version": "3.6.9"
  }
 },
 "nbformat": 4,
 "nbformat_minor": 4
}
