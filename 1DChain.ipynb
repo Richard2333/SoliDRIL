{
 "cells": [
  {
   "cell_type": "code",
   "execution_count": 1,
   "metadata": {},
   "outputs": [],
   "source": [
    "import numpy as np\n",
    "import matplotlib.pyplot as plt\n",
    "\n",
    "# from __future__ import print_function\n",
    "from ipywidgets import interact, interactive, fixed, interact_manual\n",
    "import ipywidgets as widgets\n",
    "\n",
    "%matplotlib inline"
   ]
  },
  {
   "cell_type": "markdown",
   "metadata": {},
   "source": [
    "# Tight-binding model of 1d chain\n",
    "\n",
    "## Introduction\n",
    "This notebook is intended to give a very basic example to the band structure calculation, with the model of one-dimensional atom chains.\n"
   ]
  },
  {
   "cell_type": "markdown",
   "metadata": {},
   "source": [
    "One can write the Hamiltonian by projecting to lattice A and B: \n",
    "$$H_1^{ab}=\\langle \\psi_A | H_1 | \\psi_B \\rangle = t $$\n",
    "$$H_2^{ab}=\\langle \\psi_A | H_2 | \\psi_B \\rangle = t' $$\n",
    "$$H = H_1 + H_2$$\n",
    "Under such projection, the Hamiltonian is thus converted into a form of 2x2 matrices."
   ]
  },
  {
   "cell_type": "markdown",
   "metadata": {},
   "source": [
    "With the Bloch functions, the intercell hopping is then:\n",
    "$$H_2^{ab}=\\langle \\psi_A | H_2 | \\exp(-ik) \\psi_B \\rangle =t' \\exp(-ik)$$\n",
    "we write the Hamiltonian matrix in terms of wavevector k:\n",
    "$$H_{00}=\\left(\\begin{array}{cc}\n",
    "0 & t\\\\\n",
    "t & 0\n",
    "\\end{array}\\right)$$\n",
    "$$H_{01}=\\left(\\begin{array}{cc}\n",
    "0 & t' \\exp(ik)\\\\\n",
    "0 & 0\n",
    "\\end{array}\\right)$$\n",
    "$$H_{10}=\\left(\\begin{array}{cc}\n",
    "0 & 0\\\\\n",
    "t'\\exp(-ik) & 0\n",
    "\\end{array}\\right)$$"
   ]
  },
  {
   "cell_type": "markdown",
   "metadata": {},
   "source": [
    "The whole Hamiltonian matrix writes:\n",
    "$$H(k)=H_{00}+H_{01}+H_{10}=\\left(\\begin{array}{cc}\n",
    "0 & t+t' \\exp(ik)\\\\\n",
    "t+t'\\exp(-ik) & 0\n",
    "\\end{array}\\right)$$\n",
    "\n",
    "In order to calculate the bands, one should diagonalize the Hamiltonian $H(k)$ for each point of $k$. That's to solve the quadratic equation:\n",
    "$$ \\lambda ^2 = (t + t'\\cos(k))^2 + (t'\\sin(k))^2$$\n",
    "and the answer is :\n",
    "$$\\lambda=\\pm \\sqrt{(t + t'\\cos(k))^2 + (t'\\sin(k))^2}$$"
   ]
  },
  {
   "cell_type": "code",
   "execution_count": 2,
   "metadata": {},
   "outputs": [
    {
     "data": {
      "text/plain": [
       "Text(0.5, 1.0, 'an illustration of the 1D chain')"
      ]
     },
     "execution_count": 2,
     "metadata": {},
     "output_type": "execute_result"
    },
    {
     "data": {
      "image/png": "[encoded data removed]",
      "text/plain": [
       "<Figure size 432x288 with 1 Axes>"
      ]
     },
     "metadata": {
      "needs_background": "light"
     },
     "output_type": "display_data"
    }
   ],
   "source": [
    "x=np.linspace(1,8,8)\n",
    "y = np.zeros(8)\n",
    "plt.ylim(-1,1)\n",
    "plt.plot(x, y, 'o')\n",
    "plt.plot(x+0.4, y+0.1, 'o')\n",
    "plt.axis([0,10,-1,1])\n",
    "\n",
    "#plt.axis('equal')\n",
    "plt.axis('off')\n",
    "plt.title('an illustration of the 1D chain')"
   ]
  },
  {
   "cell_type": "code",
   "execution_count": 3,
   "metadata": {},
   "outputs": [],
   "source": [
    "def interactive_1dband(t,t1,nk):\n",
    "    k=np.linspace(-1.0*np.pi,1.0*np.pi,nk)\n",
    "    b1=-np.sqrt((t+t1*np.cos(k))**2+(t1*np.sin(k))**2)\n",
    "    b2=-b1\n",
    "    plt.scatter(k,b1)\n",
    "    plt.plot(k,b2)"
   ]
  },
  {
   "cell_type": "code",
   "execution_count": 5,
   "metadata": {},
   "outputs": [
    {
     "data": {
      "application/vnd.jupyter.widget-view+json": {
       "model_id": "355f3d2d265b496183d7bd4585b80c82",
       "version_major": 2,
       "version_minor": 0
      },
      "text/plain": [
       "interactive(children=(FloatSlider(value=1.0, description='t', max=1.5, min=0.5), FloatSlider(value=1.0, descri…"
      ]
     },
     "metadata": {},
     "output_type": "display_data"
    },
    {
     "data": {
      "text/plain": [
       "<function __main__.interactive_1dband(t, t1, nk)>"
      ]
     },
     "execution_count": 5,
     "metadata": {},
     "output_type": "execute_result"
    }
   ],
   "source": [
    "interact(interactive_1dband,t=(0.5,1.5),t1=(0.5,1.5),nk=(5,100))"
   ]
  },
  {
   "cell_type": "markdown",
   "metadata": {},
   "source": [
    "We show the Hamiltonian in finite 1D chain"
   ]
  },
  {
   "cell_type": "code",
   "execution_count": 64,
   "metadata": {},
   "outputs": [],
   "source": [
    "def buildham(t,t1,nq):\n",
    "    part1=np.array([[0.0, 1.0], [0.0, 0.0]])\n",
    "    part2=np.array([[0.0,0.0],  [1.0,0.0]])\n",
    "    y=np.ones(nq)\n",
    "\n",
    "    mat1=np.diag(y,-1)*t+np.diag(y,1)*t1\n",
    "    mat1[nq,0]=t1\n",
    "    mat1[0,nq]=t\n",
    "    mat2=np.transpose(mat1)\n",
    "\n",
    "    mat=np.kron(part1,mat1)+np.kron(part2,mat2)\n",
    "    #print(mat)"
   ]
  },
  {
   "cell_type": "code",
   "execution_count": null,
   "metadata": {},
   "outputs": [],
   "source": []
  }
 ],
 "metadata": {
  "kernelspec": {
   "display_name": "Python 3",
   "language": "python",
   "name": "python3"
  },
  "language_info": {
   "codemirror_mode": {
    "name": "ipython",
    "version": 3
   },
   "file_extension": ".py",
   "mimetype": "text/x-python",
   "name": "python",
   "nbconvert_exporter": "python",
   "pygments_lexer": "ipython3",
   "version": "3.6.9"
  }
 },
 "nbformat": 4,
 "nbformat_minor": 4
}
