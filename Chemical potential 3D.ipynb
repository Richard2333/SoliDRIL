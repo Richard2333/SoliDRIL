{
 "cells": [
  {
   "cell_type": "markdown",
   "metadata": {},
   "source": [
    "# Chemical potential in 3D lattice\n",
    "\n",
    "## Introduction\n",
    "\n",
    "This notebook gives a simple illustration to the chemical potential if Fermions in 3D, following the Fermi-Dirac statistics and density of states."
   ]
  },
  {
   "cell_type": "code",
   "execution_count": 1,
   "metadata": {},
   "outputs": [],
   "source": [
    "import matplotlib.pyplot as plt\n",
    "import numpy as np\n",
    "from ipywidgets import interactive as jupyter_interactive\n",
    "from ipywidgets import interact\n",
    "\n",
    "%matplotlib notebook"
   ]
  },
  {
   "cell_type": "code",
   "execution_count": 41,
   "metadata": {},
   "outputs": [],
   "source": [
    "def interactive_chem(kt):\n",
    "    '''\n",
    "    :param k: wave number\n",
    "    '''\n",
    "    kBT = 0.001 # Boltzmann constant measured interms of chemical potential\n",
    "    E_min = 0.0001\n",
    "    E_max = 3.00\n",
    "    factor = 1.0\n",
    "    N = 200\n",
    "\n",
    "    # Set up the variable space for 1D plot\n",
    "    En_mu = np.linspace(E_min, E_max, N) #Energy measured in units of chemical potential\n",
    "    \n",
    "    f = 1.0/(np.exp( (factor*En_mu-1)/kt )+1) # Occupation number according to F-D statistics\n",
    "    df = np.gradient(f) # Take the first derivative of the F-D distribution.\n",
    "   \n",
    "    \n",
    "    c_f = np.sqrt(En_mu)/(np.exp( (factor*En_mu-1)/kt )+1) # Occupation number according to F-D statistics\n",
    "    c_df = np.gradient(f) # Take the first derivative of the F-D distribution.\n",
    "    \n",
    "    plt.subplot(121)\n",
    "    plt.plot(En_mu, f)\n",
    "    plt.plot(En_mu, c_f)\n",
    "    \n",
    "    plt.subplot(122)\n",
    "    plt.plot(En_mu, -df)\n",
    "    plt.plot(En_mu, -c_df)\n"
   ]
  },
  {
   "cell_type": "code",
   "execution_count": 42,
   "metadata": {},
   "outputs": [
    {
     "data": {
      "application/vnd.jupyter.widget-view+json": {
       "model_id": "d38338ee27b142e5994ae176df5d4795",
       "version_major": 2,
       "version_minor": 0
      },
      "text/plain": [
       "interactive(children=(FloatSlider(value=0.049100000000000005, description='kt', max=0.1, min=0.0001, step=0.00…"
      ]
     },
     "metadata": {},
     "output_type": "display_data"
    },
    {
     "data": {
      "text/plain": [
       "<function __main__.interactive_chem(kt)>"
      ]
     },
     "execution_count": 42,
     "metadata": {},
     "output_type": "execute_result"
    }
   ],
   "source": [
    "interact(interactive_chem,kt=(0.0001,0.10,0.001))"
   ]
  },
  {
   "cell_type": "code",
   "execution_count": null,
   "metadata": {},
   "outputs": [],
   "source": []
  }
 ],
 "metadata": {
  "kernelspec": {
   "display_name": "Python 3",
   "language": "python",
   "name": "python3"
  },
  "language_info": {
   "codemirror_mode": {
    "name": "ipython",
    "version": 3
   },
   "file_extension": ".py",
   "mimetype": "text/x-python",
   "name": "python",
   "nbconvert_exporter": "python",
   "pygments_lexer": "ipython3",
   "version": "3.6.8"
  }
 },
 "nbformat": 4,
 "nbformat_minor": 4
}
