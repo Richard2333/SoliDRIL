{
 "cells": [
  {
   "cell_type": "code",
   "execution_count": null,
   "metadata": {},
   "outputs": [],
   "source": [
    "import numpy as np\n",
    "import ipywidgets as ipw\n",
    "\n",
    "from bokeh.io import push_notebook, output_notebook, show\n",
    "from bokeh.layouts import row, column\n",
    "from bokeh.plotting import figure\n",
    "from bokeh.models import ColumnDataSource\n",
    "output_notebook()\n",
    "\n",
    "from ipywidgets import interact\n",
    "\n",
    "from collections import OrderedDict\n",
    "old_settings = np.seterr(over = 'ignore') #Ignore warnings about overflow data points"
   ]
  },
  {
   "cell_type": "code",
   "execution_count": null,
   "metadata": {},
   "outputs": [],
   "source": [
    "A = np.linspace(0.5, 10.5, 100);\n",
    "kx = np.sqrt(A/np.pi);\n",
    "kx = np.array([np.flip(-kx),kx])\n",
    "kx.flatten();\n",
    "kz = -2*np.cos(kx)-0.2;\n",
    "kz_d = np.linspace(np.min(kz),np.max(kz),25);\n",
    "counts = np.empty(np.size(kz_d),dtype=np.int8);\n",
    "for idx in range(np.size(kz_d)-1):\n",
    "    counts[idx] = len( kz[(kz >= kz_d[idx]) & (kz <= kz_d[idx+1]) ]);"
   ]
  },
  {
   "cell_type": "code",
   "execution_count": null,
   "metadata": {},
   "outputs": [],
   "source": [
    "freeE = figure(plot_height=350, plot_width=400, title=\"Dispersion relationship of a free electron\",\n",
    "              tools=\"pan,reset,save,wheel_zoom\", x_range = [1.5*np.amin(kx), 1.5*np.amax(kx)],\n",
    "              y_range = [np.amin(kz), -np.amin(kz)]);\n",
    "source1 = ColumnDataSource(data = {'xVal':kz, 'yVal':kx, 'xxVal':-kz});\n",
    "freeE.line('xVal', 'yVal', source = source1, line_width=2, line_alpha=1);\n",
    "freeE.line('xxVal', 'yVal', source = source1, line_width=2, line_alpha=1);\n",
    "show(freeE)"
   ]
  },
  {
   "cell_type": "code",
   "execution_count": null,
   "metadata": {},
   "outputs": [],
   "source": []
  },
  {
   "cell_type": "code",
   "execution_count": null,
   "metadata": {},
   "outputs": [],
   "source": []
  }
 ],
 "metadata": {
  "kernelspec": {
   "display_name": "Python 3",
   "language": "python",
   "name": "python3"
  },
  "language_info": {
   "codemirror_mode": {
    "name": "ipython",
    "version": 3
   },
   "file_extension": ".py",
   "mimetype": "text/x-python",
   "name": "python",
   "nbconvert_exporter": "python",
   "pygments_lexer": "ipython3",
   "version": "3.6.8"
  }
 },
 "nbformat": 4,
 "nbformat_minor": 4
}
