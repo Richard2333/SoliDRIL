{
 "cells": [
  {
   "cell_type": "code",
   "execution_count": 1,
   "metadata": {},
   "outputs": [
    {
     "data": {
      "text/html": [
       "\n",
       "    <div class=\"bk-root\">\n",
       "        <a href=\"https://bokeh.org\" target=\"_blank\" class=\"bk-logo bk-logo-small bk-logo-notebook\"></a>\n",
       "        <span id=\"1001\">Loading BokehJS ...</span>\n",
       "    </div>"
      ]
     },
     "metadata": {},
     "output_type": "display_data"
    },
    {
     "data": {
      "application/javascript": [
       "\n",
       "(function(root) {\n",
       "  function now() {\n",
       "    return new Date();\n",
       "  }\n",
       "\n",
       "  var force = true;\n",
       "\n",
       "  if (typeof root._bokeh_onload_callbacks === \"undefined\" || force === true) {\n",
       "    root._bokeh_onload_callbacks = [];\n",
       "    root._bokeh_is_loading = undefined;\n",
       "  }\n",
       "\n",
       "  var JS_MIME_TYPE = 'application/javascript';\n",
       "  var HTML_MIME_TYPE = 'text/html';\n",
       "  var EXEC_MIME_TYPE = 'application/vnd.bokehjs_exec.v0+json';\n",
       "  var CLASS_NAME = 'output_bokeh rendered_html';\n",
       "\n",
       "  /**\n",
       "   * Render data to the DOM node\n",
       "   */\n",
       "  function render(props, node) {\n",
       "    var script = document.createElement(\"script\");\n",
       "    node.appendChild(script);\n",
       "  }\n",
       "\n",
       "  /**\n",
       "   * Handle when an output is cleared or removed\n",
       "   */\n",
       "  function handleClearOutput(event, handle) {\n",
       "    var cell = handle.cell;\n",
       "\n",
       "    var id = cell.output_area._bokeh_element_id;\n",
       "    var server_id = cell.output_area._bokeh_server_id;\n",
       "    // Clean up Bokeh references\n",
       "    if (id != null && id in Bokeh.index) {\n",
       "      Bokeh.index[id].model.document.clear();\n",
       "      delete Bokeh.index[id];\n",
       "    }\n",
       "\n",
       "    if (server_id !== undefined) {\n",
       "      // Clean up Bokeh references\n",
       "      var cmd = \"from bokeh.io.state import curstate; print(curstate().uuid_to_server['\" + server_id + \"'].get_sessions()[0].document.roots[0]._id)\";\n",
       "      cell.notebook.kernel.execute(cmd, {\n",
       "        iopub: {\n",
       "          output: function(msg) {\n",
       "            var id = msg.content.text.trim();\n",
       "            if (id in Bokeh.index) {\n",
       "              Bokeh.index[id].model.document.clear();\n",
       "              delete Bokeh.index[id];\n",
       "            }\n",
       "          }\n",
       "        }\n",
       "      });\n",
       "      // Destroy server and session\n",
       "      var cmd = \"import bokeh.io.notebook as ion; ion.destroy_server('\" + server_id + \"')\";\n",
       "      cell.notebook.kernel.execute(cmd);\n",
       "    }\n",
       "  }\n",
       "\n",
       "  /**\n",
       "   * Handle when a new output is added\n",
       "   */\n",
       "  function handleAddOutput(event, handle) {\n",
       "    var output_area = handle.output_area;\n",
       "    var output = handle.output;\n",
       "\n",
       "    // limit handleAddOutput to display_data with EXEC_MIME_TYPE content only\n",
       "    if ((output.output_type != \"display_data\") || (!output.data.hasOwnProperty(EXEC_MIME_TYPE))) {\n",
       "      return\n",
       "    }\n",
       "\n",
       "    var toinsert = output_area.element.find(\".\" + CLASS_NAME.split(' ')[0]);\n",
       "\n",
       "    if (output.metadata[EXEC_MIME_TYPE][\"id\"] !== undefined) {\n",
       "      toinsert[toinsert.length - 1].firstChild.textContent = output.data[JS_MIME_TYPE];\n",
       "      // store reference to embed id on output_area\n",
       "      output_area._bokeh_element_id = output.metadata[EXEC_MIME_TYPE][\"id\"];\n",
       "    }\n",
       "    if (output.metadata[EXEC_MIME_TYPE][\"server_id\"] !== undefined) {\n",
       "      var bk_div = document.createElement(\"div\");\n",
       "      bk_div.innerHTML = output.data[HTML_MIME_TYPE];\n",
       "      var script_attrs = bk_div.children[0].attributes;\n",
       "      for (var i = 0; i < script_attrs.length; i++) {\n",
       "        toinsert[toinsert.length - 1].firstChild.setAttribute(script_attrs[i].name, script_attrs[i].value);\n",
       "      }\n",
       "      // store reference to server id on output_area\n",
       "      output_area._bokeh_server_id = output.metadata[EXEC_MIME_TYPE][\"server_id\"];\n",
       "    }\n",
       "  }\n",
       "\n",
       "  function register_renderer(events, OutputArea) {\n",
       "\n",
       "    function append_mime(data, metadata, element) {\n",
       "      // create a DOM node to render to\n",
       "      var toinsert = this.create_output_subarea(\n",
       "        metadata,\n",
       "        CLASS_NAME,\n",
       "        EXEC_MIME_TYPE\n",
       "      );\n",
       "      this.keyboard_manager.register_events(toinsert);\n",
       "      // Render to node\n",
       "      var props = {data: data, metadata: metadata[EXEC_MIME_TYPE]};\n",
       "      render(props, toinsert[toinsert.length - 1]);\n",
       "      element.append(toinsert);\n",
       "      return toinsert\n",
       "    }\n",
       "\n",
       "    /* Handle when an output is cleared or removed */\n",
       "    events.on('clear_output.CodeCell', handleClearOutput);\n",
       "    events.on('delete.Cell', handleClearOutput);\n",
       "\n",
       "    /* Handle when a new output is added */\n",
       "    events.on('output_added.OutputArea', handleAddOutput);\n",
       "\n",
       "    /**\n",
       "     * Register the mime type and append_mime function with output_area\n",
       "     */\n",
       "    OutputArea.prototype.register_mime_type(EXEC_MIME_TYPE, append_mime, {\n",
       "      /* Is output safe? */\n",
       "      safe: true,\n",
       "      /* Index of renderer in `output_area.display_order` */\n",
       "      index: 0\n",
       "    });\n",
       "  }\n",
       "\n",
       "  // register the mime type if in Jupyter Notebook environment and previously unregistered\n",
       "  if (root.Jupyter !== undefined) {\n",
       "    var events = require('base/js/events');\n",
       "    var OutputArea = require('notebook/js/outputarea').OutputArea;\n",
       "\n",
       "    if (OutputArea.prototype.mime_types().indexOf(EXEC_MIME_TYPE) == -1) {\n",
       "      register_renderer(events, OutputArea);\n",
       "    }\n",
       "  }\n",
       "\n",
       "  \n",
       "  if (typeof (root._bokeh_timeout) === \"undefined\" || force === true) {\n",
       "    root._bokeh_timeout = Date.now() + 5000;\n",
       "    root._bokeh_failed_load = false;\n",
       "  }\n",
       "\n",
       "  var NB_LOAD_WARNING = {'data': {'text/html':\n",
       "     \"<div style='background-color: #fdd'>\\n\"+\n",
       "     \"<p>\\n\"+\n",
       "     \"BokehJS does not appear to have successfully loaded. If loading BokehJS from CDN, this \\n\"+\n",
       "     \"may be due to a slow or bad network connection. Possible fixes:\\n\"+\n",
       "     \"</p>\\n\"+\n",
       "     \"<ul>\\n\"+\n",
       "     \"<li>re-rerun `output_notebook()` to attempt to load from CDN again, or</li>\\n\"+\n",
       "     \"<li>use INLINE resources instead, as so:</li>\\n\"+\n",
       "     \"</ul>\\n\"+\n",
       "     \"<code>\\n\"+\n",
       "     \"from bokeh.resources import INLINE\\n\"+\n",
       "     \"output_notebook(resources=INLINE)\\n\"+\n",
       "     \"</code>\\n\"+\n",
       "     \"</div>\"}};\n",
       "\n",
       "  function display_loaded() {\n",
       "    var el = document.getElementById(\"1001\");\n",
       "    if (el != null) {\n",
       "      el.textContent = \"BokehJS is loading...\";\n",
       "    }\n",
       "    if (root.Bokeh !== undefined) {\n",
       "      if (el != null) {\n",
       "        el.textContent = \"BokehJS \" + root.Bokeh.version + \" successfully loaded.\";\n",
       "      }\n",
       "    } else if (Date.now() < root._bokeh_timeout) {\n",
       "      setTimeout(display_loaded, 100)\n",
       "    }\n",
       "  }\n",
       "\n",
       "\n",
       "  function run_callbacks() {\n",
       "    try {\n",
       "      root._bokeh_onload_callbacks.forEach(function(callback) {\n",
       "        if (callback != null)\n",
       "          callback();\n",
       "      });\n",
       "    } finally {\n",
       "      delete root._bokeh_onload_callbacks\n",
       "    }\n",
       "    console.debug(\"Bokeh: all callbacks have finished\");\n",
       "  }\n",
       "\n",
       "  function load_libs(css_urls, js_urls, callback) {\n",
       "    if (css_urls == null) css_urls = [];\n",
       "    if (js_urls == null) js_urls = [];\n",
       "\n",
       "    root._bokeh_onload_callbacks.push(callback);\n",
       "    if (root._bokeh_is_loading > 0) {\n",
       "      console.debug(\"Bokeh: BokehJS is being loaded, scheduling callback at\", now());\n",
       "      return null;\n",
       "    }\n",
       "    if (js_urls == null || js_urls.length === 0) {\n",
       "      run_callbacks();\n",
       "      return null;\n",
       "    }\n",
       "    console.debug(\"Bokeh: BokehJS not loaded, scheduling load and callback at\", now());\n",
       "    root._bokeh_is_loading = css_urls.length + js_urls.length;\n",
       "\n",
       "    function on_load() {\n",
       "      root._bokeh_is_loading--;\n",
       "      if (root._bokeh_is_loading === 0) {\n",
       "        console.debug(\"Bokeh: all BokehJS libraries/stylesheets loaded\");\n",
       "        run_callbacks()\n",
       "      }\n",
       "    }\n",
       "\n",
       "    function on_error() {\n",
       "      console.error(\"failed to load \" + url);\n",
       "    }\n",
       "\n",
       "    for (var i = 0; i < css_urls.length; i++) {\n",
       "      var url = css_urls[i];\n",
       "      const element = document.createElement(\"link\");\n",
       "      element.onload = on_load;\n",
       "      element.onerror = on_error;\n",
       "      element.rel = \"stylesheet\";\n",
       "      element.type = \"text/css\";\n",
       "      element.href = url;\n",
       "      console.debug(\"Bokeh: injecting link tag for BokehJS stylesheet: \", url);\n",
       "      document.body.appendChild(element);\n",
       "    }\n",
       "\n",
       "    for (var i = 0; i < js_urls.length; i++) {\n",
       "      var url = js_urls[i];\n",
       "      var element = document.createElement('script');\n",
       "      element.onload = on_load;\n",
       "      element.onerror = on_error;\n",
       "      element.async = false;\n",
       "      element.src = url;\n",
       "      console.debug(\"Bokeh: injecting script tag for BokehJS library: \", url);\n",
       "      document.head.appendChild(element);\n",
       "    }\n",
       "  };var element = document.getElementById(\"1001\");\n",
       "  if (element == null) {\n",
       "    console.error(\"Bokeh: ERROR: autoload.js configured with elementid '1001' but no matching script tag was found. \")\n",
       "    return false;\n",
       "  }\n",
       "\n",
       "  function inject_raw_css(css) {\n",
       "    const element = document.createElement(\"style\");\n",
       "    element.appendChild(document.createTextNode(css));\n",
       "    document.body.appendChild(element);\n",
       "  }\n",
       "\n",
       "  \n",
       "  var js_urls = [\"https://cdn.pydata.org/bokeh/release/bokeh-1.4.0.min.js\", \"https://cdn.pydata.org/bokeh/release/bokeh-widgets-1.4.0.min.js\", \"https://cdn.pydata.org/bokeh/release/bokeh-tables-1.4.0.min.js\", \"https://cdn.pydata.org/bokeh/release/bokeh-gl-1.4.0.min.js\"];\n",
       "  var css_urls = [];\n",
       "  \n",
       "\n",
       "  var inline_js = [\n",
       "    function(Bokeh) {\n",
       "      Bokeh.set_log_level(\"info\");\n",
       "    },\n",
       "    function(Bokeh) {\n",
       "    \n",
       "    \n",
       "    }\n",
       "  ];\n",
       "\n",
       "  function run_inline_js() {\n",
       "    \n",
       "    if (root.Bokeh !== undefined || force === true) {\n",
       "      \n",
       "    for (var i = 0; i < inline_js.length; i++) {\n",
       "      inline_js[i].call(root, root.Bokeh);\n",
       "    }\n",
       "    if (force === true) {\n",
       "        display_loaded();\n",
       "      }} else if (Date.now() < root._bokeh_timeout) {\n",
       "      setTimeout(run_inline_js, 100);\n",
       "    } else if (!root._bokeh_failed_load) {\n",
       "      console.log(\"Bokeh: BokehJS failed to load within specified timeout.\");\n",
       "      root._bokeh_failed_load = true;\n",
       "    } else if (force !== true) {\n",
       "      var cell = $(document.getElementById(\"1001\")).parents('.cell').data().cell;\n",
       "      cell.output_area.append_execute_result(NB_LOAD_WARNING)\n",
       "    }\n",
       "\n",
       "  }\n",
       "\n",
       "  if (root._bokeh_is_loading === 0) {\n",
       "    console.debug(\"Bokeh: BokehJS loaded, going straight to plotting\");\n",
       "    run_inline_js();\n",
       "  } else {\n",
       "    load_libs(css_urls, js_urls, function() {\n",
       "      console.debug(\"Bokeh: BokehJS plotting callback run at\", now());\n",
       "      run_inline_js();\n",
       "    });\n",
       "  }\n",
       "}(window));"
      ],
      "application/vnd.bokehjs_load.v0+json": "\n(function(root) {\n  function now() {\n    return new Date();\n  }\n\n  var force = true;\n\n  if (typeof root._bokeh_onload_callbacks === \"undefined\" || force === true) {\n    root._bokeh_onload_callbacks = [];\n    root._bokeh_is_loading = undefined;\n  }\n\n  \n\n  \n  if (typeof (root._bokeh_timeout) === \"undefined\" || force === true) {\n    root._bokeh_timeout = Date.now() + 5000;\n    root._bokeh_failed_load = false;\n  }\n\n  var NB_LOAD_WARNING = {'data': {'text/html':\n     \"<div style='background-color: #fdd'>\\n\"+\n     \"<p>\\n\"+\n     \"BokehJS does not appear to have successfully loaded. If loading BokehJS from CDN, this \\n\"+\n     \"may be due to a slow or bad network connection. Possible fixes:\\n\"+\n     \"</p>\\n\"+\n     \"<ul>\\n\"+\n     \"<li>re-rerun `output_notebook()` to attempt to load from CDN again, or</li>\\n\"+\n     \"<li>use INLINE resources instead, as so:</li>\\n\"+\n     \"</ul>\\n\"+\n     \"<code>\\n\"+\n     \"from bokeh.resources import INLINE\\n\"+\n     \"output_notebook(resources=INLINE)\\n\"+\n     \"</code>\\n\"+\n     \"</div>\"}};\n\n  function display_loaded() {\n    var el = document.getElementById(\"1001\");\n    if (el != null) {\n      el.textContent = \"BokehJS is loading...\";\n    }\n    if (root.Bokeh !== undefined) {\n      if (el != null) {\n        el.textContent = \"BokehJS \" + root.Bokeh.version + \" successfully loaded.\";\n      }\n    } else if (Date.now() < root._bokeh_timeout) {\n      setTimeout(display_loaded, 100)\n    }\n  }\n\n\n  function run_callbacks() {\n    try {\n      root._bokeh_onload_callbacks.forEach(function(callback) {\n        if (callback != null)\n          callback();\n      });\n    } finally {\n      delete root._bokeh_onload_callbacks\n    }\n    console.debug(\"Bokeh: all callbacks have finished\");\n  }\n\n  function load_libs(css_urls, js_urls, callback) {\n    if (css_urls == null) css_urls = [];\n    if (js_urls == null) js_urls = [];\n\n    root._bokeh_onload_callbacks.push(callback);\n    if (root._bokeh_is_loading > 0) {\n      console.debug(\"Bokeh: BokehJS is being loaded, scheduling callback at\", now());\n      return null;\n    }\n    if (js_urls == null || js_urls.length === 0) {\n      run_callbacks();\n      return null;\n    }\n    console.debug(\"Bokeh: BokehJS not loaded, scheduling load and callback at\", now());\n    root._bokeh_is_loading = css_urls.length + js_urls.length;\n\n    function on_load() {\n      root._bokeh_is_loading--;\n      if (root._bokeh_is_loading === 0) {\n        console.debug(\"Bokeh: all BokehJS libraries/stylesheets loaded\");\n        run_callbacks()\n      }\n    }\n\n    function on_error() {\n      console.error(\"failed to load \" + url);\n    }\n\n    for (var i = 0; i < css_urls.length; i++) {\n      var url = css_urls[i];\n      const element = document.createElement(\"link\");\n      element.onload = on_load;\n      element.onerror = on_error;\n      element.rel = \"stylesheet\";\n      element.type = \"text/css\";\n      element.href = url;\n      console.debug(\"Bokeh: injecting link tag for BokehJS stylesheet: \", url);\n      document.body.appendChild(element);\n    }\n\n    for (var i = 0; i < js_urls.length; i++) {\n      var url = js_urls[i];\n      var element = document.createElement('script');\n      element.onload = on_load;\n      element.onerror = on_error;\n      element.async = false;\n      element.src = url;\n      console.debug(\"Bokeh: injecting script tag for BokehJS library: \", url);\n      document.head.appendChild(element);\n    }\n  };var element = document.getElementById(\"1001\");\n  if (element == null) {\n    console.error(\"Bokeh: ERROR: autoload.js configured with elementid '1001' but no matching script tag was found. \")\n    return false;\n  }\n\n  function inject_raw_css(css) {\n    const element = document.createElement(\"style\");\n    element.appendChild(document.createTextNode(css));\n    document.body.appendChild(element);\n  }\n\n  \n  var js_urls = [\"https://cdn.pydata.org/bokeh/release/bokeh-1.4.0.min.js\", \"https://cdn.pydata.org/bokeh/release/bokeh-widgets-1.4.0.min.js\", \"https://cdn.pydata.org/bokeh/release/bokeh-tables-1.4.0.min.js\", \"https://cdn.pydata.org/bokeh/release/bokeh-gl-1.4.0.min.js\"];\n  var css_urls = [];\n  \n\n  var inline_js = [\n    function(Bokeh) {\n      Bokeh.set_log_level(\"info\");\n    },\n    function(Bokeh) {\n    \n    \n    }\n  ];\n\n  function run_inline_js() {\n    \n    if (root.Bokeh !== undefined || force === true) {\n      \n    for (var i = 0; i < inline_js.length; i++) {\n      inline_js[i].call(root, root.Bokeh);\n    }\n    if (force === true) {\n        display_loaded();\n      }} else if (Date.now() < root._bokeh_timeout) {\n      setTimeout(run_inline_js, 100);\n    } else if (!root._bokeh_failed_load) {\n      console.log(\"Bokeh: BokehJS failed to load within specified timeout.\");\n      root._bokeh_failed_load = true;\n    } else if (force !== true) {\n      var cell = $(document.getElementById(\"1001\")).parents('.cell').data().cell;\n      cell.output_area.append_execute_result(NB_LOAD_WARNING)\n    }\n\n  }\n\n  if (root._bokeh_is_loading === 0) {\n    console.debug(\"Bokeh: BokehJS loaded, going straight to plotting\");\n    run_inline_js();\n  } else {\n    load_libs(css_urls, js_urls, function() {\n      console.debug(\"Bokeh: BokehJS plotting callback run at\", now());\n      run_inline_js();\n    });\n  }\n}(window));"
     },
     "metadata": {},
     "output_type": "display_data"
    }
   ],
   "source": [
    "import numpy as np\n",
    "from bokeh.plotting import figure, show\n",
    "from bokeh.layouts import grid, column, row\n",
    "from bokeh.io import output_notebook\n",
    "from bokeh.models import Span, Arrow, VeeHead\n",
    "output_notebook()"
   ]
  },
  {
   "cell_type": "markdown",
   "metadata": {},
   "source": [
    "# Brillouin zones of the two-dimensional square lattice\n",
    "\n",
    "This notebook demonstrates construction of the first three Brillouin zones of square lattice"
   ]
  },
  {
   "cell_type": "code",
   "execution_count": 2,
   "metadata": {},
   "outputs": [],
   "source": [
    "# Constructing real space lattice\n",
    "a1 = np.array([0,2]);\n",
    "a2 = np.array([2,0]);\n",
    "N = 3;\n",
    "x = range(-N, N+1)*np.linalg.norm(a1);\n",
    "y = range(-N, N+1)*np.linalg.norm(a2);\n",
    "xg,yg = np.meshgrid(x,y);"
   ]
  },
  {
   "cell_type": "code",
   "execution_count": 3,
   "metadata": {},
   "outputs": [],
   "source": [
    "# Constructing reciprocal space lattice\n",
    "b1 = np.array([0,2*np.pi / a1[1]]);\n",
    "b2 = np.array([2*np.pi / a2[0],0]);\n",
    "N = 3;\n",
    "xx = range(-N, N+1)*np.linalg.norm(b1);\n",
    "yy = range(-N, N+1)*np.linalg.norm(b2);\n",
    "xxg,yyg = np.meshgrid(xx,yy);"
   ]
  },
  {
   "cell_type": "code",
   "execution_count": 4,
   "metadata": {},
   "outputs": [],
   "source": [
    "real = figure(title = \"Real space lattice\", tools = \"\", x_range = [-10, 10], y_range = [-10, 10], plot_width = 400, plot_height = 400);\n",
    "real.circle(xg.flatten(),yg.flatten(),size = 10,fill_color = \"blue\",line_color = None,line_width = 3);"
   ]
  },
  {
   "cell_type": "code",
   "execution_count": 5,
   "metadata": {},
   "outputs": [],
   "source": [
    "img = figure(title = \"Reciprocal space lattice\", tools = \"\", x_range = [-10, 10], y_range = [-10, 10], plot_width = 400, plot_height = 400);\n",
    "img.circle(xxg.flatten(),yyg.flatten(),size = 10,fill_color = \"red\", line_color = None,line_width = 3);"
   ]
  },
  {
   "cell_type": "code",
   "execution_count": 6,
   "metadata": {},
   "outputs": [
    {
     "data": {
      "text/html": [
       "\n",
       "\n",
       "\n",
       "\n",
       "\n",
       "\n",
       "  <div class=\"bk-root\" id=\"d6dbd7aa-e9d3-48f8-9c00-b79ab4207216\" data-root-id=\"1056\"></div>\n"
      ]
     },
     "metadata": {},
     "output_type": "display_data"
    },
    {
     "data": {
      "application/javascript": [
       "(function(root) {\n",
       "  function embed_document(root) {\n",
       "    \n",
       "  var docs_json = {\"2c1656cc-6313-461f-85f8-872827d294a3\":{\"roots\":{\"references\":[{\"attributes\":{\"children\":[{\"id\":\"1002\",\"subtype\":\"Figure\",\"type\":\"Plot\"},{\"id\":\"1029\",\"subtype\":\"Figure\",\"type\":\"Plot\"}]},\"id\":\"1056\",\"type\":\"Row\"},{\"attributes\":{\"ticker\":{\"id\":\"1014\",\"type\":\"BasicTicker\"}},\"id\":\"1017\",\"type\":\"Grid\"},{\"attributes\":{},\"id\":\"1041\",\"type\":\"BasicTicker\"},{\"attributes\":{\"formatter\":{\"id\":\"1060\",\"type\":\"BasicTickFormatter\"},\"ticker\":{\"id\":\"1019\",\"type\":\"BasicTicker\"}},\"id\":\"1018\",\"type\":\"LinearAxis\"},{\"attributes\":{\"ticker\":{\"id\":\"1041\",\"type\":\"BasicTicker\"}},\"id\":\"1044\",\"type\":\"Grid\"},{\"attributes\":{},\"id\":\"1069\",\"type\":\"UnionRenderers\"},{\"attributes\":{},\"id\":\"1019\",\"type\":\"BasicTicker\"},{\"attributes\":{},\"id\":\"1064\",\"type\":\"BasicTickFormatter\"},{\"attributes\":{\"formatter\":{\"id\":\"1064\",\"type\":\"BasicTickFormatter\"},\"ticker\":{\"id\":\"1046\",\"type\":\"BasicTicker\"}},\"id\":\"1045\",\"type\":\"LinearAxis\"},{\"attributes\":{},\"id\":\"1070\",\"type\":\"Selection\"},{\"attributes\":{},\"id\":\"1062\",\"type\":\"BasicTickFormatter\"},{\"attributes\":{\"dimension\":1,\"ticker\":{\"id\":\"1019\",\"type\":\"BasicTicker\"}},\"id\":\"1022\",\"type\":\"Grid\"},{\"attributes\":{},\"id\":\"1046\",\"type\":\"BasicTicker\"},{\"attributes\":{},\"id\":\"1067\",\"type\":\"UnionRenderers\"},{\"attributes\":{\"fill_alpha\":{\"value\":0.1},\"fill_color\":{\"value\":\"#1f77b4\"},\"line_alpha\":{\"value\":0.1},\"line_color\":{\"value\":\"#1f77b4\"},\"line_width\":{\"value\":3},\"size\":{\"units\":\"screen\",\"value\":10},\"x\":{\"field\":\"x\"},\"y\":{\"field\":\"y\"}},\"id\":\"1026\",\"type\":\"Circle\"},{\"attributes\":{\"dimension\":1,\"ticker\":{\"id\":\"1046\",\"type\":\"BasicTicker\"}},\"id\":\"1049\",\"type\":\"Grid\"},{\"attributes\":{\"active_drag\":\"auto\",\"active_inspect\":\"auto\",\"active_multi\":null,\"active_scroll\":\"auto\",\"active_tap\":\"auto\"},\"id\":\"1050\",\"type\":\"Toolbar\"},{\"attributes\":{\"active_drag\":\"auto\",\"active_inspect\":\"auto\",\"active_multi\":null,\"active_scroll\":\"auto\",\"active_tap\":\"auto\"},\"id\":\"1023\",\"type\":\"Toolbar\"},{\"attributes\":{\"below\":[{\"id\":\"1040\",\"type\":\"LinearAxis\"}],\"center\":[{\"id\":\"1044\",\"type\":\"Grid\"},{\"id\":\"1049\",\"type\":\"Grid\"}],\"left\":[{\"id\":\"1045\",\"type\":\"LinearAxis\"}],\"plot_height\":400,\"plot_width\":400,\"renderers\":[{\"id\":\"1054\",\"type\":\"GlyphRenderer\"}],\"title\":{\"id\":\"1030\",\"type\":\"Title\"},\"toolbar\":{\"id\":\"1050\",\"type\":\"Toolbar\"},\"x_range\":{\"id\":\"1032\",\"type\":\"Range1d\"},\"x_scale\":{\"id\":\"1036\",\"type\":\"LinearScale\"},\"y_range\":{\"id\":\"1034\",\"type\":\"Range1d\"},\"y_scale\":{\"id\":\"1038\",\"type\":\"LinearScale\"}},\"id\":\"1029\",\"subtype\":\"Figure\",\"type\":\"Plot\"},{\"attributes\":{},\"id\":\"1066\",\"type\":\"BasicTickFormatter\"},{\"attributes\":{\"fill_color\":{\"value\":\"red\"},\"line_color\":{\"value\":null},\"line_width\":{\"value\":3},\"size\":{\"units\":\"screen\",\"value\":10},\"x\":{\"field\":\"x\"},\"y\":{\"field\":\"y\"}},\"id\":\"1052\",\"type\":\"Circle\"},{\"attributes\":{\"fill_alpha\":{\"value\":0.1},\"fill_color\":{\"value\":\"#1f77b4\"},\"line_alpha\":{\"value\":0.1},\"line_color\":{\"value\":\"#1f77b4\"},\"line_width\":{\"value\":3},\"size\":{\"units\":\"screen\",\"value\":10},\"x\":{\"field\":\"x\"},\"y\":{\"field\":\"y\"}},\"id\":\"1053\",\"type\":\"Circle\"},{\"attributes\":{\"callback\":null,\"data\":{\"x\":{\"__ndarray__\":\"0iEzf3zZIsAYLURU+yEZwBgtRFT7IQnAAAAAAAAAAAAYLURU+yEJQBgtRFT7IRlA0iEzf3zZIkDSITN/fNkiwBgtRFT7IRnAGC1EVPshCcAAAAAAAAAAABgtRFT7IQlAGC1EVPshGUDSITN/fNkiQNIhM3982SLAGC1EVPshGcAYLURU+yEJwAAAAAAAAAAAGC1EVPshCUAYLURU+yEZQNIhM3982SJA0iEzf3zZIsAYLURU+yEZwBgtRFT7IQnAAAAAAAAAAAAYLURU+yEJQBgtRFT7IRlA0iEzf3zZIkDSITN/fNkiwBgtRFT7IRnAGC1EVPshCcAAAAAAAAAAABgtRFT7IQlAGC1EVPshGUDSITN/fNkiQNIhM3982SLAGC1EVPshGcAYLURU+yEJwAAAAAAAAAAAGC1EVPshCUAYLURU+yEZQNIhM3982SJA0iEzf3zZIsAYLURU+yEZwBgtRFT7IQnAAAAAAAAAAAAYLURU+yEJQBgtRFT7IRlA0iEzf3zZIkA=\",\"dtype\":\"float64\",\"shape\":[49]},\"y\":{\"__ndarray__\":\"0iEzf3zZIsDSITN/fNkiwNIhM3982SLA0iEzf3zZIsDSITN/fNkiwNIhM3982SLA0iEzf3zZIsAYLURU+yEZwBgtRFT7IRnAGC1EVPshGcAYLURU+yEZwBgtRFT7IRnAGC1EVPshGcAYLURU+yEZwBgtRFT7IQnAGC1EVPshCcAYLURU+yEJwBgtRFT7IQnAGC1EVPshCcAYLURU+yEJwBgtRFT7IQnAAAAAAAAAAAAAAAAAAAAAAAAAAAAAAAAAAAAAAAAAAAAAAAAAAAAAAAAAAAAAAAAAAAAAAAAAAAAYLURU+yEJQBgtRFT7IQlAGC1EVPshCUAYLURU+yEJQBgtRFT7IQlAGC1EVPshCUAYLURU+yEJQBgtRFT7IRlAGC1EVPshGUAYLURU+yEZQBgtRFT7IRlAGC1EVPshGUAYLURU+yEZQBgtRFT7IRlA0iEzf3zZIkDSITN/fNkiQNIhM3982SJA0iEzf3zZIkDSITN/fNkiQNIhM3982SJA0iEzf3zZIkA=\",\"dtype\":\"float64\",\"shape\":[49]}},\"selected\":{\"id\":\"1070\",\"type\":\"Selection\"},\"selection_policy\":{\"id\":\"1069\",\"type\":\"UnionRenderers\"}},\"id\":\"1051\",\"type\":\"ColumnDataSource\"},{\"attributes\":{\"callback\":null,\"data\":{\"x\":{\"__ndarray__\":\"AAAAAAAAGMAAAAAAAAAQwAAAAAAAAADAAAAAAAAAAAAAAAAAAAAAQAAAAAAAABBAAAAAAAAAGEAAAAAAAAAYwAAAAAAAABDAAAAAAAAAAMAAAAAAAAAAAAAAAAAAAABAAAAAAAAAEEAAAAAAAAAYQAAAAAAAABjAAAAAAAAAEMAAAAAAAAAAwAAAAAAAAAAAAAAAAAAAAEAAAAAAAAAQQAAAAAAAABhAAAAAAAAAGMAAAAAAAAAQwAAAAAAAAADAAAAAAAAAAAAAAAAAAAAAQAAAAAAAABBAAAAAAAAAGEAAAAAAAAAYwAAAAAAAABDAAAAAAAAAAMAAAAAAAAAAAAAAAAAAAABAAAAAAAAAEEAAAAAAAAAYQAAAAAAAABjAAAAAAAAAEMAAAAAAAAAAwAAAAAAAAAAAAAAAAAAAAEAAAAAAAAAQQAAAAAAAABhAAAAAAAAAGMAAAAAAAAAQwAAAAAAAAADAAAAAAAAAAAAAAAAAAAAAQAAAAAAAABBAAAAAAAAAGEA=\",\"dtype\":\"float64\",\"shape\":[49]},\"y\":{\"__ndarray__\":\"AAAAAAAAGMAAAAAAAAAYwAAAAAAAABjAAAAAAAAAGMAAAAAAAAAYwAAAAAAAABjAAAAAAAAAGMAAAAAAAAAQwAAAAAAAABDAAAAAAAAAEMAAAAAAAAAQwAAAAAAAABDAAAAAAAAAEMAAAAAAAAAQwAAAAAAAAADAAAAAAAAAAMAAAAAAAAAAwAAAAAAAAADAAAAAAAAAAMAAAAAAAAAAwAAAAAAAAADAAAAAAAAAAAAAAAAAAAAAAAAAAAAAAAAAAAAAAAAAAAAAAAAAAAAAAAAAAAAAAAAAAAAAAAAAAAAAAAAAAAAAQAAAAAAAAABAAAAAAAAAAEAAAAAAAAAAQAAAAAAAAABAAAAAAAAAAEAAAAAAAAAAQAAAAAAAABBAAAAAAAAAEEAAAAAAAAAQQAAAAAAAABBAAAAAAAAAEEAAAAAAAAAQQAAAAAAAABBAAAAAAAAAGEAAAAAAAAAYQAAAAAAAABhAAAAAAAAAGEAAAAAAAAAYQAAAAAAAABhAAAAAAAAAGEA=\",\"dtype\":\"float64\",\"shape\":[49]}},\"selected\":{\"id\":\"1068\",\"type\":\"Selection\"},\"selection_policy\":{\"id\":\"1067\",\"type\":\"UnionRenderers\"}},\"id\":\"1024\",\"type\":\"ColumnDataSource\"},{\"attributes\":{\"below\":[{\"id\":\"1013\",\"type\":\"LinearAxis\"}],\"center\":[{\"id\":\"1017\",\"type\":\"Grid\"},{\"id\":\"1022\",\"type\":\"Grid\"}],\"left\":[{\"id\":\"1018\",\"type\":\"LinearAxis\"}],\"plot_height\":400,\"plot_width\":400,\"renderers\":[{\"id\":\"1027\",\"type\":\"GlyphRenderer\"}],\"title\":{\"id\":\"1003\",\"type\":\"Title\"},\"toolbar\":{\"id\":\"1023\",\"type\":\"Toolbar\"},\"x_range\":{\"id\":\"1005\",\"type\":\"Range1d\"},\"x_scale\":{\"id\":\"1009\",\"type\":\"LinearScale\"},\"y_range\":{\"id\":\"1007\",\"type\":\"Range1d\"},\"y_scale\":{\"id\":\"1011\",\"type\":\"LinearScale\"}},\"id\":\"1002\",\"subtype\":\"Figure\",\"type\":\"Plot\"},{\"attributes\":{\"data_source\":{\"id\":\"1051\",\"type\":\"ColumnDataSource\"},\"glyph\":{\"id\":\"1052\",\"type\":\"Circle\"},\"hover_glyph\":null,\"muted_glyph\":null,\"nonselection_glyph\":{\"id\":\"1053\",\"type\":\"Circle\"},\"selection_glyph\":null,\"view\":{\"id\":\"1055\",\"type\":\"CDSView\"}},\"id\":\"1054\",\"type\":\"GlyphRenderer\"},{\"attributes\":{},\"id\":\"1060\",\"type\":\"BasicTickFormatter\"},{\"attributes\":{\"source\":{\"id\":\"1051\",\"type\":\"ColumnDataSource\"}},\"id\":\"1055\",\"type\":\"CDSView\"},{\"attributes\":{\"text\":\"Real space lattice\"},\"id\":\"1003\",\"type\":\"Title\"},{\"attributes\":{\"text\":\"Reciprocal space lattice\"},\"id\":\"1030\",\"type\":\"Title\"},{\"attributes\":{\"data_source\":{\"id\":\"1024\",\"type\":\"ColumnDataSource\"},\"glyph\":{\"id\":\"1025\",\"type\":\"Circle\"},\"hover_glyph\":null,\"muted_glyph\":null,\"nonselection_glyph\":{\"id\":\"1026\",\"type\":\"Circle\"},\"selection_glyph\":null,\"view\":{\"id\":\"1028\",\"type\":\"CDSView\"}},\"id\":\"1027\",\"type\":\"GlyphRenderer\"},{\"attributes\":{\"callback\":null,\"end\":10,\"start\":-10},\"id\":\"1005\",\"type\":\"Range1d\"},{\"attributes\":{\"callback\":null,\"end\":10,\"start\":-10},\"id\":\"1032\",\"type\":\"Range1d\"},{\"attributes\":{\"callback\":null,\"end\":10,\"start\":-10},\"id\":\"1007\",\"type\":\"Range1d\"},{\"attributes\":{\"callback\":null,\"end\":10,\"start\":-10},\"id\":\"1034\",\"type\":\"Range1d\"},{\"attributes\":{},\"id\":\"1009\",\"type\":\"LinearScale\"},{\"attributes\":{},\"id\":\"1036\",\"type\":\"LinearScale\"},{\"attributes\":{},\"id\":\"1011\",\"type\":\"LinearScale\"},{\"attributes\":{},\"id\":\"1038\",\"type\":\"LinearScale\"},{\"attributes\":{\"source\":{\"id\":\"1024\",\"type\":\"ColumnDataSource\"}},\"id\":\"1028\",\"type\":\"CDSView\"},{\"attributes\":{\"fill_color\":{\"value\":\"blue\"},\"line_color\":{\"value\":null},\"line_width\":{\"value\":3},\"size\":{\"units\":\"screen\",\"value\":10},\"x\":{\"field\":\"x\"},\"y\":{\"field\":\"y\"}},\"id\":\"1025\",\"type\":\"Circle\"},{\"attributes\":{\"formatter\":{\"id\":\"1062\",\"type\":\"BasicTickFormatter\"},\"ticker\":{\"id\":\"1014\",\"type\":\"BasicTicker\"}},\"id\":\"1013\",\"type\":\"LinearAxis\"},{\"attributes\":{},\"id\":\"1068\",\"type\":\"Selection\"},{\"attributes\":{\"formatter\":{\"id\":\"1066\",\"type\":\"BasicTickFormatter\"},\"ticker\":{\"id\":\"1041\",\"type\":\"BasicTicker\"}},\"id\":\"1040\",\"type\":\"LinearAxis\"},{\"attributes\":{},\"id\":\"1014\",\"type\":\"BasicTicker\"}],\"root_ids\":[\"1056\"]},\"title\":\"Bokeh Application\",\"version\":\"1.4.0\"}};\n",
       "  var render_items = [{\"docid\":\"2c1656cc-6313-461f-85f8-872827d294a3\",\"roots\":{\"1056\":\"d6dbd7aa-e9d3-48f8-9c00-b79ab4207216\"}}];\n",
       "  root.Bokeh.embed.embed_items_notebook(docs_json, render_items);\n",
       "\n",
       "  }\n",
       "  if (root.Bokeh !== undefined) {\n",
       "    embed_document(root);\n",
       "  } else {\n",
       "    var attempts = 0;\n",
       "    var timer = setInterval(function(root) {\n",
       "      if (root.Bokeh !== undefined) {\n",
       "        clearInterval(timer);\n",
       "        embed_document(root);\n",
       "      } else {\n",
       "        attempts++;\n",
       "        if (attempts > 100) {\n",
       "          clearInterval(timer);\n",
       "          console.log(\"Bokeh: ERROR: Unable to run BokehJS code because BokehJS library is missing\");\n",
       "        }\n",
       "      }\n",
       "    }, 10, root)\n",
       "  }\n",
       "})(window);"
      ],
      "application/vnd.bokehjs_exec.v0+json": ""
     },
     "metadata": {
      "application/vnd.bokehjs_exec.v0+json": {
       "id": "1056"
      }
     },
     "output_type": "display_data"
    }
   ],
   "source": [
    "# plot the real and reciprocal lattice\n",
    "show(row(real,img))"
   ]
  },
  {
   "cell_type": "markdown",
   "metadata": {},
   "source": [
    "# Constrution of the first Brillouin zone"
   ]
  },
  {
   "cell_type": "code",
   "execution_count": 7,
   "metadata": {},
   "outputs": [
    {
     "data": {
      "text/html": [
       "\n",
       "\n",
       "\n",
       "\n",
       "\n",
       "\n",
       "  <div class=\"bk-root\" id=\"a50c309d-5798-411f-b9cf-90a3b189acb4\" data-root-id=\"1252\"></div>\n"
      ]
     },
     "metadata": {},
     "output_type": "display_data"
    },
    {
     "data": {
      "application/javascript": [
       "(function(root) {\n",
       "  function embed_document(root) {\n",
       "    \n",
       "  var docs_json = {\"a539e80e-0dbf-4282-a689-38de41088f7b\":{\"roots\":{\"references\":[{\"attributes\":{\"children\":[{\"id\":\"1002\",\"subtype\":\"Figure\",\"type\":\"Plot\"},{\"id\":\"1029\",\"subtype\":\"Figure\",\"type\":\"Plot\"}]},\"id\":\"1252\",\"type\":\"Row\"},{\"attributes\":{\"ticker\":{\"id\":\"1014\",\"type\":\"BasicTicker\"}},\"id\":\"1017\",\"type\":\"Grid\"},{\"attributes\":{\"end\":{\"id\":\"1176\",\"type\":\"VeeHead\"},\"source\":null,\"start\":null,\"x_end\":{\"value\":3.141592653589793},\"x_start\":{\"value\":0},\"y_end\":{\"value\":0},\"y_start\":{\"value\":0}},\"id\":\"1177\",\"type\":\"Arrow\"},{\"attributes\":{},\"id\":\"1041\",\"type\":\"BasicTicker\"},{\"attributes\":{\"formatter\":{\"id\":\"1060\",\"type\":\"BasicTickFormatter\"},\"ticker\":{\"id\":\"1019\",\"type\":\"BasicTicker\"}},\"id\":\"1018\",\"type\":\"LinearAxis\"},{\"attributes\":{\"size\":10},\"id\":\"1182\",\"type\":\"VeeHead\"},{\"attributes\":{\"ticker\":{\"id\":\"1041\",\"type\":\"BasicTicker\"}},\"id\":\"1044\",\"type\":\"Grid\"},{\"attributes\":{},\"id\":\"1069\",\"type\":\"UnionRenderers\"},{\"attributes\":{\"end\":{\"id\":\"1179\",\"type\":\"VeeHead\"},\"source\":null,\"start\":null,\"x_end\":{\"value\":-3.141592653589793},\"x_start\":{\"value\":0},\"y_end\":{\"value\":0},\"y_start\":{\"value\":0}},\"id\":\"1180\",\"type\":\"Arrow\"},{\"attributes\":{},\"id\":\"1019\",\"type\":\"BasicTicker\"},{\"attributes\":{\"formatter\":{\"id\":\"1064\",\"type\":\"BasicTickFormatter\"},\"ticker\":{\"id\":\"1046\",\"type\":\"BasicTicker\"}},\"id\":\"1045\",\"type\":\"LinearAxis\"},{\"attributes\":{},\"id\":\"1064\",\"type\":\"BasicTickFormatter\"},{\"attributes\":{},\"id\":\"1070\",\"type\":\"Selection\"},{\"attributes\":{},\"id\":\"1062\",\"type\":\"BasicTickFormatter\"},{\"attributes\":{\"dimension\":1,\"ticker\":{\"id\":\"1019\",\"type\":\"BasicTicker\"}},\"id\":\"1022\",\"type\":\"Grid\"},{\"attributes\":{\"size\":10},\"id\":\"1185\",\"type\":\"VeeHead\"},{\"attributes\":{},\"id\":\"1046\",\"type\":\"BasicTicker\"},{\"attributes\":{},\"id\":\"1067\",\"type\":\"UnionRenderers\"},{\"attributes\":{\"fill_alpha\":{\"value\":0.1},\"fill_color\":{\"value\":\"#1f77b4\"},\"line_alpha\":{\"value\":0.1},\"line_color\":{\"value\":\"#1f77b4\"},\"line_width\":{\"value\":3},\"size\":{\"units\":\"screen\",\"value\":10},\"x\":{\"field\":\"x\"},\"y\":{\"field\":\"y\"}},\"id\":\"1026\",\"type\":\"Circle\"},{\"attributes\":{\"end\":{\"id\":\"1182\",\"type\":\"VeeHead\"},\"source\":null,\"start\":null,\"x_end\":{\"value\":0},\"x_start\":{\"value\":0},\"y_end\":{\"value\":3.141592653589793},\"y_start\":{\"value\":0}},\"id\":\"1183\",\"type\":\"Arrow\"},{\"attributes\":{\"dimension\":1,\"ticker\":{\"id\":\"1046\",\"type\":\"BasicTicker\"}},\"id\":\"1049\",\"type\":\"Grid\"},{\"attributes\":{\"active_drag\":\"auto\",\"active_inspect\":\"auto\",\"active_multi\":null,\"active_scroll\":\"auto\",\"active_tap\":\"auto\"},\"id\":\"1050\",\"type\":\"Toolbar\"},{\"attributes\":{\"active_drag\":\"auto\",\"active_inspect\":\"auto\",\"active_multi\":null,\"active_scroll\":\"auto\",\"active_tap\":\"auto\"},\"id\":\"1023\",\"type\":\"Toolbar\"},{\"attributes\":{\"below\":[{\"id\":\"1040\",\"type\":\"LinearAxis\"}],\"center\":[{\"id\":\"1044\",\"type\":\"Grid\"},{\"id\":\"1049\",\"type\":\"Grid\"},{\"id\":\"1177\",\"type\":\"Arrow\"},{\"id\":\"1180\",\"type\":\"Arrow\"},{\"id\":\"1183\",\"type\":\"Arrow\"},{\"id\":\"1186\",\"type\":\"Arrow\"}],\"left\":[{\"id\":\"1045\",\"type\":\"LinearAxis\"}],\"plot_height\":400,\"plot_width\":400,\"renderers\":[{\"id\":\"1054\",\"type\":\"GlyphRenderer\"},{\"id\":\"1158\",\"type\":\"GlyphRenderer\"}],\"title\":{\"id\":\"1030\",\"type\":\"Title\"},\"toolbar\":{\"id\":\"1050\",\"type\":\"Toolbar\"},\"x_range\":{\"id\":\"1032\",\"type\":\"Range1d\"},\"x_scale\":{\"id\":\"1036\",\"type\":\"LinearScale\"},\"y_range\":{\"id\":\"1034\",\"type\":\"Range1d\"},\"y_scale\":{\"id\":\"1038\",\"type\":\"LinearScale\"}},\"id\":\"1029\",\"subtype\":\"Figure\",\"type\":\"Plot\"},{\"attributes\":{\"end\":{\"id\":\"1185\",\"type\":\"VeeHead\"},\"source\":null,\"start\":null,\"x_end\":{\"value\":0},\"x_start\":{\"value\":0},\"y_end\":{\"value\":-3.141592653589793},\"y_start\":{\"value\":0}},\"id\":\"1186\",\"type\":\"Arrow\"},{\"attributes\":{},\"id\":\"1066\",\"type\":\"BasicTickFormatter\"},{\"attributes\":{\"fill_color\":{\"value\":\"red\"},\"line_color\":{\"value\":null},\"line_width\":{\"value\":3},\"size\":{\"units\":\"screen\",\"value\":10},\"x\":{\"field\":\"x\"},\"y\":{\"field\":\"y\"}},\"id\":\"1052\",\"type\":\"Circle\"},{\"attributes\":{\"fill_alpha\":{\"value\":0.1},\"fill_color\":{\"value\":\"#1f77b4\"},\"line_alpha\":{\"value\":0.1},\"line_color\":{\"value\":\"#1f77b4\"},\"line_width\":{\"value\":3},\"size\":{\"units\":\"screen\",\"value\":10},\"x\":{\"field\":\"x\"},\"y\":{\"field\":\"y\"}},\"id\":\"1053\",\"type\":\"Circle\"},{\"attributes\":{\"callback\":null,\"data\":{\"x\":{\"__ndarray__\":\"0iEzf3zZIsAYLURU+yEZwBgtRFT7IQnAAAAAAAAAAAAYLURU+yEJQBgtRFT7IRlA0iEzf3zZIkDSITN/fNkiwBgtRFT7IRnAGC1EVPshCcAAAAAAAAAAABgtRFT7IQlAGC1EVPshGUDSITN/fNkiQNIhM3982SLAGC1EVPshGcAYLURU+yEJwAAAAAAAAAAAGC1EVPshCUAYLURU+yEZQNIhM3982SJA0iEzf3zZIsAYLURU+yEZwBgtRFT7IQnAAAAAAAAAAAAYLURU+yEJQBgtRFT7IRlA0iEzf3zZIkDSITN/fNkiwBgtRFT7IRnAGC1EVPshCcAAAAAAAAAAABgtRFT7IQlAGC1EVPshGUDSITN/fNkiQNIhM3982SLAGC1EVPshGcAYLURU+yEJwAAAAAAAAAAAGC1EVPshCUAYLURU+yEZQNIhM3982SJA0iEzf3zZIsAYLURU+yEZwBgtRFT7IQnAAAAAAAAAAAAYLURU+yEJQBgtRFT7IRlA0iEzf3zZIkA=\",\"dtype\":\"float64\",\"shape\":[49]},\"y\":{\"__ndarray__\":\"0iEzf3zZIsDSITN/fNkiwNIhM3982SLA0iEzf3zZIsDSITN/fNkiwNIhM3982SLA0iEzf3zZIsAYLURU+yEZwBgtRFT7IRnAGC1EVPshGcAYLURU+yEZwBgtRFT7IRnAGC1EVPshGcAYLURU+yEZwBgtRFT7IQnAGC1EVPshCcAYLURU+yEJwBgtRFT7IQnAGC1EVPshCcAYLURU+yEJwBgtRFT7IQnAAAAAAAAAAAAAAAAAAAAAAAAAAAAAAAAAAAAAAAAAAAAAAAAAAAAAAAAAAAAAAAAAAAAAAAAAAAAYLURU+yEJQBgtRFT7IQlAGC1EVPshCUAYLURU+yEJQBgtRFT7IQlAGC1EVPshCUAYLURU+yEJQBgtRFT7IRlAGC1EVPshGUAYLURU+yEZQBgtRFT7IRlAGC1EVPshGUAYLURU+yEZQBgtRFT7IRlA0iEzf3zZIkDSITN/fNkiQNIhM3982SJA0iEzf3zZIkDSITN/fNkiQNIhM3982SJA0iEzf3zZIkA=\",\"dtype\":\"float64\",\"shape\":[49]}},\"selected\":{\"id\":\"1070\",\"type\":\"Selection\"},\"selection_policy\":{\"id\":\"1069\",\"type\":\"UnionRenderers\"}},\"id\":\"1051\",\"type\":\"ColumnDataSource\"},{\"attributes\":{\"callback\":null,\"data\":{\"x\":{\"__ndarray__\":\"AAAAAAAAGMAAAAAAAAAQwAAAAAAAAADAAAAAAAAAAAAAAAAAAAAAQAAAAAAAABBAAAAAAAAAGEAAAAAAAAAYwAAAAAAAABDAAAAAAAAAAMAAAAAAAAAAAAAAAAAAAABAAAAAAAAAEEAAAAAAAAAYQAAAAAAAABjAAAAAAAAAEMAAAAAAAAAAwAAAAAAAAAAAAAAAAAAAAEAAAAAAAAAQQAAAAAAAABhAAAAAAAAAGMAAAAAAAAAQwAAAAAAAAADAAAAAAAAAAAAAAAAAAAAAQAAAAAAAABBAAAAAAAAAGEAAAAAAAAAYwAAAAAAAABDAAAAAAAAAAMAAAAAAAAAAAAAAAAAAAABAAAAAAAAAEEAAAAAAAAAYQAAAAAAAABjAAAAAAAAAEMAAAAAAAAAAwAAAAAAAAAAAAAAAAAAAAEAAAAAAAAAQQAAAAAAAABhAAAAAAAAAGMAAAAAAAAAQwAAAAAAAAADAAAAAAAAAAAAAAAAAAAAAQAAAAAAAABBAAAAAAAAAGEA=\",\"dtype\":\"float64\",\"shape\":[49]},\"y\":{\"__ndarray__\":\"AAAAAAAAGMAAAAAAAAAYwAAAAAAAABjAAAAAAAAAGMAAAAAAAAAYwAAAAAAAABjAAAAAAAAAGMAAAAAAAAAQwAAAAAAAABDAAAAAAAAAEMAAAAAAAAAQwAAAAAAAABDAAAAAAAAAEMAAAAAAAAAQwAAAAAAAAADAAAAAAAAAAMAAAAAAAAAAwAAAAAAAAADAAAAAAAAAAMAAAAAAAAAAwAAAAAAAAADAAAAAAAAAAAAAAAAAAAAAAAAAAAAAAAAAAAAAAAAAAAAAAAAAAAAAAAAAAAAAAAAAAAAAAAAAAAAAAAAAAAAAQAAAAAAAAABAAAAAAAAAAEAAAAAAAAAAQAAAAAAAAABAAAAAAAAAAEAAAAAAAAAAQAAAAAAAABBAAAAAAAAAEEAAAAAAAAAQQAAAAAAAABBAAAAAAAAAEEAAAAAAAAAQQAAAAAAAABBAAAAAAAAAGEAAAAAAAAAYQAAAAAAAABhAAAAAAAAAGEAAAAAAAAAYQAAAAAAAABhAAAAAAAAAGEA=\",\"dtype\":\"float64\",\"shape\":[49]}},\"selected\":{\"id\":\"1068\",\"type\":\"Selection\"},\"selection_policy\":{\"id\":\"1067\",\"type\":\"UnionRenderers\"}},\"id\":\"1024\",\"type\":\"ColumnDataSource\"},{\"attributes\":{\"below\":[{\"id\":\"1013\",\"type\":\"LinearAxis\"}],\"center\":[{\"id\":\"1017\",\"type\":\"Grid\"},{\"id\":\"1022\",\"type\":\"Grid\"}],\"left\":[{\"id\":\"1018\",\"type\":\"LinearAxis\"}],\"plot_height\":400,\"plot_width\":400,\"renderers\":[{\"id\":\"1027\",\"type\":\"GlyphRenderer\"}],\"title\":{\"id\":\"1003\",\"type\":\"Title\"},\"toolbar\":{\"id\":\"1023\",\"type\":\"Toolbar\"},\"x_range\":{\"id\":\"1005\",\"type\":\"Range1d\"},\"x_scale\":{\"id\":\"1009\",\"type\":\"LinearScale\"},\"y_range\":{\"id\":\"1007\",\"type\":\"Range1d\"},\"y_scale\":{\"id\":\"1011\",\"type\":\"LinearScale\"}},\"id\":\"1002\",\"subtype\":\"Figure\",\"type\":\"Plot\"},{\"attributes\":{\"data_source\":{\"id\":\"1051\",\"type\":\"ColumnDataSource\"},\"glyph\":{\"id\":\"1052\",\"type\":\"Circle\"},\"hover_glyph\":null,\"muted_glyph\":null,\"nonselection_glyph\":{\"id\":\"1053\",\"type\":\"Circle\"},\"selection_glyph\":null,\"view\":{\"id\":\"1055\",\"type\":\"CDSView\"}},\"id\":\"1054\",\"type\":\"GlyphRenderer\"},{\"attributes\":{\"size\":10},\"id\":\"1176\",\"type\":\"VeeHead\"},{\"attributes\":{},\"id\":\"1060\",\"type\":\"BasicTickFormatter\"},{\"attributes\":{\"source\":{\"id\":\"1051\",\"type\":\"ColumnDataSource\"}},\"id\":\"1055\",\"type\":\"CDSView\"},{\"attributes\":{\"callback\":null,\"data\":{\"xs\":[[3.141592653589793,-3.141592653589793],[0,0]],\"ys\":[[0,0],[3.141592653589793,-3.141592653589793]]},\"selected\":{\"id\":\"1175\",\"type\":\"Selection\"},\"selection_policy\":{\"id\":\"1174\",\"type\":\"UnionRenderers\"}},\"id\":\"1155\",\"type\":\"ColumnDataSource\"},{\"attributes\":{\"size\":10},\"id\":\"1179\",\"type\":\"VeeHead\"},{\"attributes\":{\"text\":\"Real space lattice\"},\"id\":\"1003\",\"type\":\"Title\"},{\"attributes\":{\"text\":\"Reciprocal space lattice\"},\"id\":\"1030\",\"type\":\"Title\"},{\"attributes\":{\"data_source\":{\"id\":\"1024\",\"type\":\"ColumnDataSource\"},\"glyph\":{\"id\":\"1025\",\"type\":\"Circle\"},\"hover_glyph\":null,\"muted_glyph\":null,\"nonselection_glyph\":{\"id\":\"1026\",\"type\":\"Circle\"},\"selection_glyph\":null,\"view\":{\"id\":\"1028\",\"type\":\"CDSView\"}},\"id\":\"1027\",\"type\":\"GlyphRenderer\"},{\"attributes\":{\"line_width\":{\"value\":2},\"xs\":{\"field\":\"xs\"},\"ys\":{\"field\":\"ys\"}},\"id\":\"1156\",\"type\":\"MultiLine\"},{\"attributes\":{\"callback\":null,\"end\":10,\"start\":-10},\"id\":\"1005\",\"type\":\"Range1d\"},{\"attributes\":{\"callback\":null,\"end\":10,\"start\":-10},\"id\":\"1032\",\"type\":\"Range1d\"},{\"attributes\":{\"line_alpha\":{\"value\":0.1},\"line_color\":{\"value\":\"#1f77b4\"},\"line_width\":{\"value\":2},\"xs\":{\"field\":\"xs\"},\"ys\":{\"field\":\"ys\"}},\"id\":\"1157\",\"type\":\"MultiLine\"},{\"attributes\":{\"callback\":null,\"end\":10,\"start\":-10},\"id\":\"1007\",\"type\":\"Range1d\"},{\"attributes\":{\"callback\":null,\"end\":10,\"start\":-10},\"id\":\"1034\",\"type\":\"Range1d\"},{\"attributes\":{\"data_source\":{\"id\":\"1155\",\"type\":\"ColumnDataSource\"},\"glyph\":{\"id\":\"1156\",\"type\":\"MultiLine\"},\"hover_glyph\":null,\"muted_glyph\":null,\"nonselection_glyph\":{\"id\":\"1157\",\"type\":\"MultiLine\"},\"selection_glyph\":null,\"view\":{\"id\":\"1159\",\"type\":\"CDSView\"}},\"id\":\"1158\",\"type\":\"GlyphRenderer\"},{\"attributes\":{},\"id\":\"1009\",\"type\":\"LinearScale\"},{\"attributes\":{},\"id\":\"1036\",\"type\":\"LinearScale\"},{\"attributes\":{\"source\":{\"id\":\"1155\",\"type\":\"ColumnDataSource\"}},\"id\":\"1159\",\"type\":\"CDSView\"},{\"attributes\":{},\"id\":\"1011\",\"type\":\"LinearScale\"},{\"attributes\":{},\"id\":\"1038\",\"type\":\"LinearScale\"},{\"attributes\":{\"source\":{\"id\":\"1024\",\"type\":\"ColumnDataSource\"}},\"id\":\"1028\",\"type\":\"CDSView\"},{\"attributes\":{\"fill_color\":{\"value\":\"blue\"},\"line_color\":{\"value\":null},\"line_width\":{\"value\":3},\"size\":{\"units\":\"screen\",\"value\":10},\"x\":{\"field\":\"x\"},\"y\":{\"field\":\"y\"}},\"id\":\"1025\",\"type\":\"Circle\"},{\"attributes\":{},\"id\":\"1174\",\"type\":\"UnionRenderers\"},{\"attributes\":{\"formatter\":{\"id\":\"1062\",\"type\":\"BasicTickFormatter\"},\"ticker\":{\"id\":\"1014\",\"type\":\"BasicTicker\"}},\"id\":\"1013\",\"type\":\"LinearAxis\"},{\"attributes\":{},\"id\":\"1068\",\"type\":\"Selection\"},{\"attributes\":{},\"id\":\"1175\",\"type\":\"Selection\"},{\"attributes\":{\"formatter\":{\"id\":\"1066\",\"type\":\"BasicTickFormatter\"},\"ticker\":{\"id\":\"1041\",\"type\":\"BasicTicker\"}},\"id\":\"1040\",\"type\":\"LinearAxis\"},{\"attributes\":{},\"id\":\"1014\",\"type\":\"BasicTicker\"}],\"root_ids\":[\"1252\"]},\"title\":\"Bokeh Application\",\"version\":\"1.4.0\"}};\n",
       "  var render_items = [{\"docid\":\"a539e80e-0dbf-4282-a689-38de41088f7b\",\"roots\":{\"1252\":\"a50c309d-5798-411f-b9cf-90a3b189acb4\"}}];\n",
       "  root.Bokeh.embed.embed_items_notebook(docs_json, render_items);\n",
       "\n",
       "  }\n",
       "  if (root.Bokeh !== undefined) {\n",
       "    embed_document(root);\n",
       "  } else {\n",
       "    var attempts = 0;\n",
       "    var timer = setInterval(function(root) {\n",
       "      if (root.Bokeh !== undefined) {\n",
       "        clearInterval(timer);\n",
       "        embed_document(root);\n",
       "      } else {\n",
       "        attempts++;\n",
       "        if (attempts > 100) {\n",
       "          clearInterval(timer);\n",
       "          console.log(\"Bokeh: ERROR: Unable to run BokehJS code because BokehJS library is missing\");\n",
       "        }\n",
       "      }\n",
       "    }, 10, root)\n",
       "  }\n",
       "})(window);"
      ],
      "application/vnd.bokehjs_exec.v0+json": ""
     },
     "metadata": {
      "application/vnd.bokehjs_exec.v0+json": {
       "id": "1252"
      }
     },
     "output_type": "display_data"
    }
   ],
   "source": [
    "# draw the reciprocal lattice vectors from the origin to the nearest neighbour \n",
    "vec1 = img.multi_line([[b1[1], -b1[1]], [0, 0]],[[0, 0], [b2[0], -b2[0]]], line_width = 2, line_color = \"black\");\n",
    "arrow1 = Arrow(end = VeeHead(size = 10), x_start=0, y_start=0, x_end=b2[0], y_end=0);\n",
    "arrow2 = Arrow(end = VeeHead(size = 10), x_start=0, y_start=0, x_end=-b2[0], y_end=0);\n",
    "arrow3 = Arrow(end = VeeHead(size = 10), x_start=0, y_start=0, x_end=0, y_end=b1[1]);\n",
    "arrow4 = Arrow(end = VeeHead(size = 10), x_start=0, y_start=0, x_end=0, y_end=-b1[1]);\n",
    "img.add_layout(arrow1);\n",
    "img.add_layout(arrow2);\n",
    "img.add_layout(arrow3);\n",
    "img.add_layout(arrow4);\n",
    "show(row(real, img))"
   ]
  },
  {
   "cell_type": "code",
   "execution_count": 8,
   "metadata": {},
   "outputs": [
    {
     "data": {
      "text/html": [
       "\n",
       "\n",
       "\n",
       "\n",
       "\n",
       "\n",
       "  <div class=\"bk-root\" id=\"522ca53b-aad4-4339-ae99-8307db607d04\" data-root-id=\"1417\"></div>\n"
      ]
     },
     "metadata": {},
     "output_type": "display_data"
    },
    {
     "data": {
      "application/javascript": [
       "(function(root) {\n",
       "  function embed_document(root) {\n",
       "    \n",
       "  var docs_json = {\"0aabf776-59f5-45ec-b52a-48652fc62792\":{\"roots\":{\"references\":[{\"attributes\":{\"children\":[{\"id\":\"1002\",\"subtype\":\"Figure\",\"type\":\"Plot\"},{\"id\":\"1029\",\"subtype\":\"Figure\",\"type\":\"Plot\"}]},\"id\":\"1417\",\"type\":\"Row\"},{\"attributes\":{\"ticker\":{\"id\":\"1014\",\"type\":\"BasicTicker\"}},\"id\":\"1017\",\"type\":\"Grid\"},{\"attributes\":{\"end\":{\"id\":\"1176\",\"type\":\"VeeHead\"},\"source\":null,\"start\":null,\"x_end\":{\"value\":3.141592653589793},\"x_start\":{\"value\":0},\"y_end\":{\"value\":0},\"y_start\":{\"value\":0}},\"id\":\"1177\",\"type\":\"Arrow\"},{\"attributes\":{},\"id\":\"1041\",\"type\":\"BasicTicker\"},{\"attributes\":{\"formatter\":{\"id\":\"1060\",\"type\":\"BasicTickFormatter\"},\"ticker\":{\"id\":\"1019\",\"type\":\"BasicTicker\"}},\"id\":\"1018\",\"type\":\"LinearAxis\"},{\"attributes\":{\"size\":10},\"id\":\"1182\",\"type\":\"VeeHead\"},{\"attributes\":{\"ticker\":{\"id\":\"1041\",\"type\":\"BasicTicker\"}},\"id\":\"1044\",\"type\":\"Grid\"},{\"attributes\":{},\"id\":\"1069\",\"type\":\"UnionRenderers\"},{\"attributes\":{\"end\":{\"id\":\"1179\",\"type\":\"VeeHead\"},\"source\":null,\"start\":null,\"x_end\":{\"value\":-3.141592653589793},\"x_start\":{\"value\":0},\"y_end\":{\"value\":0},\"y_start\":{\"value\":0}},\"id\":\"1180\",\"type\":\"Arrow\"},{\"attributes\":{},\"id\":\"1019\",\"type\":\"BasicTicker\"},{\"attributes\":{\"formatter\":{\"id\":\"1064\",\"type\":\"BasicTickFormatter\"},\"ticker\":{\"id\":\"1046\",\"type\":\"BasicTicker\"}},\"id\":\"1045\",\"type\":\"LinearAxis\"},{\"attributes\":{\"dimension\":\"height\",\"line_dash\":[6],\"location\":-1.5707963267948966},\"id\":\"1382\",\"type\":\"Span\"},{\"attributes\":{},\"id\":\"1064\",\"type\":\"BasicTickFormatter\"},{\"attributes\":{},\"id\":\"1062\",\"type\":\"BasicTickFormatter\"},{\"attributes\":{},\"id\":\"1070\",\"type\":\"Selection\"},{\"attributes\":{\"dimension\":\"height\",\"line_dash\":[6],\"location\":1.5707963267948966},\"id\":\"1381\",\"type\":\"Span\"},{\"attributes\":{\"dimension\":1,\"ticker\":{\"id\":\"1019\",\"type\":\"BasicTicker\"}},\"id\":\"1022\",\"type\":\"Grid\"},{\"attributes\":{},\"id\":\"1046\",\"type\":\"BasicTicker\"},{\"attributes\":{\"size\":10},\"id\":\"1185\",\"type\":\"VeeHead\"},{\"attributes\":{},\"id\":\"1067\",\"type\":\"UnionRenderers\"},{\"attributes\":{\"line_dash\":[6],\"location\":-1.5707963267948966},\"id\":\"1384\",\"type\":\"Span\"},{\"attributes\":{\"fill_alpha\":{\"value\":0.1},\"fill_color\":{\"value\":\"#1f77b4\"},\"line_alpha\":{\"value\":0.1},\"line_color\":{\"value\":\"#1f77b4\"},\"line_width\":{\"value\":3},\"size\":{\"units\":\"screen\",\"value\":10},\"x\":{\"field\":\"x\"},\"y\":{\"field\":\"y\"}},\"id\":\"1026\",\"type\":\"Circle\"},{\"attributes\":{\"end\":{\"id\":\"1182\",\"type\":\"VeeHead\"},\"source\":null,\"start\":null,\"x_end\":{\"value\":0},\"x_start\":{\"value\":0},\"y_end\":{\"value\":3.141592653589793},\"y_start\":{\"value\":0}},\"id\":\"1183\",\"type\":\"Arrow\"},{\"attributes\":{\"dimension\":1,\"ticker\":{\"id\":\"1046\",\"type\":\"BasicTicker\"}},\"id\":\"1049\",\"type\":\"Grid\"},{\"attributes\":{\"line_dash\":[6],\"location\":1.5707963267948966},\"id\":\"1383\",\"type\":\"Span\"},{\"attributes\":{\"active_drag\":\"auto\",\"active_inspect\":\"auto\",\"active_multi\":null,\"active_scroll\":\"auto\",\"active_tap\":\"auto\"},\"id\":\"1050\",\"type\":\"Toolbar\"},{\"attributes\":{\"active_drag\":\"auto\",\"active_inspect\":\"auto\",\"active_multi\":null,\"active_scroll\":\"auto\",\"active_tap\":\"auto\"},\"id\":\"1023\",\"type\":\"Toolbar\"},{\"attributes\":{\"below\":[{\"id\":\"1040\",\"type\":\"LinearAxis\"}],\"center\":[{\"id\":\"1044\",\"type\":\"Grid\"},{\"id\":\"1049\",\"type\":\"Grid\"},{\"id\":\"1177\",\"type\":\"Arrow\"},{\"id\":\"1180\",\"type\":\"Arrow\"},{\"id\":\"1183\",\"type\":\"Arrow\"},{\"id\":\"1186\",\"type\":\"Arrow\"}],\"left\":[{\"id\":\"1045\",\"type\":\"LinearAxis\"}],\"plot_height\":400,\"plot_width\":400,\"renderers\":[{\"id\":\"1054\",\"type\":\"GlyphRenderer\"},{\"id\":\"1158\",\"type\":\"GlyphRenderer\"},{\"id\":\"1381\",\"type\":\"Span\"},{\"id\":\"1382\",\"type\":\"Span\"},{\"id\":\"1383\",\"type\":\"Span\"},{\"id\":\"1384\",\"type\":\"Span\"}],\"title\":{\"id\":\"1030\",\"type\":\"Title\"},\"toolbar\":{\"id\":\"1050\",\"type\":\"Toolbar\"},\"x_range\":{\"id\":\"1032\",\"type\":\"Range1d\"},\"x_scale\":{\"id\":\"1036\",\"type\":\"LinearScale\"},\"y_range\":{\"id\":\"1034\",\"type\":\"Range1d\"},\"y_scale\":{\"id\":\"1038\",\"type\":\"LinearScale\"}},\"id\":\"1029\",\"subtype\":\"Figure\",\"type\":\"Plot\"},{\"attributes\":{\"end\":{\"id\":\"1185\",\"type\":\"VeeHead\"},\"source\":null,\"start\":null,\"x_end\":{\"value\":0},\"x_start\":{\"value\":0},\"y_end\":{\"value\":-3.141592653589793},\"y_start\":{\"value\":0}},\"id\":\"1186\",\"type\":\"Arrow\"},{\"attributes\":{},\"id\":\"1066\",\"type\":\"BasicTickFormatter\"},{\"attributes\":{\"fill_color\":{\"value\":\"red\"},\"line_color\":{\"value\":null},\"line_width\":{\"value\":3},\"size\":{\"units\":\"screen\",\"value\":10},\"x\":{\"field\":\"x\"},\"y\":{\"field\":\"y\"}},\"id\":\"1052\",\"type\":\"Circle\"},{\"attributes\":{\"fill_alpha\":{\"value\":0.1},\"fill_color\":{\"value\":\"#1f77b4\"},\"line_alpha\":{\"value\":0.1},\"line_color\":{\"value\":\"#1f77b4\"},\"line_width\":{\"value\":3},\"size\":{\"units\":\"screen\",\"value\":10},\"x\":{\"field\":\"x\"},\"y\":{\"field\":\"y\"}},\"id\":\"1053\",\"type\":\"Circle\"},{\"attributes\":{\"callback\":null,\"data\":{\"x\":{\"__ndarray__\":\"0iEzf3zZIsAYLURU+yEZwBgtRFT7IQnAAAAAAAAAAAAYLURU+yEJQBgtRFT7IRlA0iEzf3zZIkDSITN/fNkiwBgtRFT7IRnAGC1EVPshCcAAAAAAAAAAABgtRFT7IQlAGC1EVPshGUDSITN/fNkiQNIhM3982SLAGC1EVPshGcAYLURU+yEJwAAAAAAAAAAAGC1EVPshCUAYLURU+yEZQNIhM3982SJA0iEzf3zZIsAYLURU+yEZwBgtRFT7IQnAAAAAAAAAAAAYLURU+yEJQBgtRFT7IRlA0iEzf3zZIkDSITN/fNkiwBgtRFT7IRnAGC1EVPshCcAAAAAAAAAAABgtRFT7IQlAGC1EVPshGUDSITN/fNkiQNIhM3982SLAGC1EVPshGcAYLURU+yEJwAAAAAAAAAAAGC1EVPshCUAYLURU+yEZQNIhM3982SJA0iEzf3zZIsAYLURU+yEZwBgtRFT7IQnAAAAAAAAAAAAYLURU+yEJQBgtRFT7IRlA0iEzf3zZIkA=\",\"dtype\":\"float64\",\"shape\":[49]},\"y\":{\"__ndarray__\":\"0iEzf3zZIsDSITN/fNkiwNIhM3982SLA0iEzf3zZIsDSITN/fNkiwNIhM3982SLA0iEzf3zZIsAYLURU+yEZwBgtRFT7IRnAGC1EVPshGcAYLURU+yEZwBgtRFT7IRnAGC1EVPshGcAYLURU+yEZwBgtRFT7IQnAGC1EVPshCcAYLURU+yEJwBgtRFT7IQnAGC1EVPshCcAYLURU+yEJwBgtRFT7IQnAAAAAAAAAAAAAAAAAAAAAAAAAAAAAAAAAAAAAAAAAAAAAAAAAAAAAAAAAAAAAAAAAAAAAAAAAAAAYLURU+yEJQBgtRFT7IQlAGC1EVPshCUAYLURU+yEJQBgtRFT7IQlAGC1EVPshCUAYLURU+yEJQBgtRFT7IRlAGC1EVPshGUAYLURU+yEZQBgtRFT7IRlAGC1EVPshGUAYLURU+yEZQBgtRFT7IRlA0iEzf3zZIkDSITN/fNkiQNIhM3982SJA0iEzf3zZIkDSITN/fNkiQNIhM3982SJA0iEzf3zZIkA=\",\"dtype\":\"float64\",\"shape\":[49]}},\"selected\":{\"id\":\"1070\",\"type\":\"Selection\"},\"selection_policy\":{\"id\":\"1069\",\"type\":\"UnionRenderers\"}},\"id\":\"1051\",\"type\":\"ColumnDataSource\"},{\"attributes\":{\"callback\":null,\"data\":{\"x\":{\"__ndarray__\":\"AAAAAAAAGMAAAAAAAAAQwAAAAAAAAADAAAAAAAAAAAAAAAAAAAAAQAAAAAAAABBAAAAAAAAAGEAAAAAAAAAYwAAAAAAAABDAAAAAAAAAAMAAAAAAAAAAAAAAAAAAAABAAAAAAAAAEEAAAAAAAAAYQAAAAAAAABjAAAAAAAAAEMAAAAAAAAAAwAAAAAAAAAAAAAAAAAAAAEAAAAAAAAAQQAAAAAAAABhAAAAAAAAAGMAAAAAAAAAQwAAAAAAAAADAAAAAAAAAAAAAAAAAAAAAQAAAAAAAABBAAAAAAAAAGEAAAAAAAAAYwAAAAAAAABDAAAAAAAAAAMAAAAAAAAAAAAAAAAAAAABAAAAAAAAAEEAAAAAAAAAYQAAAAAAAABjAAAAAAAAAEMAAAAAAAAAAwAAAAAAAAAAAAAAAAAAAAEAAAAAAAAAQQAAAAAAAABhAAAAAAAAAGMAAAAAAAAAQwAAAAAAAAADAAAAAAAAAAAAAAAAAAAAAQAAAAAAAABBAAAAAAAAAGEA=\",\"dtype\":\"float64\",\"shape\":[49]},\"y\":{\"__ndarray__\":\"AAAAAAAAGMAAAAAAAAAYwAAAAAAAABjAAAAAAAAAGMAAAAAAAAAYwAAAAAAAABjAAAAAAAAAGMAAAAAAAAAQwAAAAAAAABDAAAAAAAAAEMAAAAAAAAAQwAAAAAAAABDAAAAAAAAAEMAAAAAAAAAQwAAAAAAAAADAAAAAAAAAAMAAAAAAAAAAwAAAAAAAAADAAAAAAAAAAMAAAAAAAAAAwAAAAAAAAADAAAAAAAAAAAAAAAAAAAAAAAAAAAAAAAAAAAAAAAAAAAAAAAAAAAAAAAAAAAAAAAAAAAAAAAAAAAAAAAAAAAAAQAAAAAAAAABAAAAAAAAAAEAAAAAAAAAAQAAAAAAAAABAAAAAAAAAAEAAAAAAAAAAQAAAAAAAABBAAAAAAAAAEEAAAAAAAAAQQAAAAAAAABBAAAAAAAAAEEAAAAAAAAAQQAAAAAAAABBAAAAAAAAAGEAAAAAAAAAYQAAAAAAAABhAAAAAAAAAGEAAAAAAAAAYQAAAAAAAABhAAAAAAAAAGEA=\",\"dtype\":\"float64\",\"shape\":[49]}},\"selected\":{\"id\":\"1068\",\"type\":\"Selection\"},\"selection_policy\":{\"id\":\"1067\",\"type\":\"UnionRenderers\"}},\"id\":\"1024\",\"type\":\"ColumnDataSource\"},{\"attributes\":{\"below\":[{\"id\":\"1013\",\"type\":\"LinearAxis\"}],\"center\":[{\"id\":\"1017\",\"type\":\"Grid\"},{\"id\":\"1022\",\"type\":\"Grid\"}],\"left\":[{\"id\":\"1018\",\"type\":\"LinearAxis\"}],\"plot_height\":400,\"plot_width\":400,\"renderers\":[{\"id\":\"1027\",\"type\":\"GlyphRenderer\"}],\"title\":{\"id\":\"1003\",\"type\":\"Title\"},\"toolbar\":{\"id\":\"1023\",\"type\":\"Toolbar\"},\"x_range\":{\"id\":\"1005\",\"type\":\"Range1d\"},\"x_scale\":{\"id\":\"1009\",\"type\":\"LinearScale\"},\"y_range\":{\"id\":\"1007\",\"type\":\"Range1d\"},\"y_scale\":{\"id\":\"1011\",\"type\":\"LinearScale\"}},\"id\":\"1002\",\"subtype\":\"Figure\",\"type\":\"Plot\"},{\"attributes\":{\"data_source\":{\"id\":\"1051\",\"type\":\"ColumnDataSource\"},\"glyph\":{\"id\":\"1052\",\"type\":\"Circle\"},\"hover_glyph\":null,\"muted_glyph\":null,\"nonselection_glyph\":{\"id\":\"1053\",\"type\":\"Circle\"},\"selection_glyph\":null,\"view\":{\"id\":\"1055\",\"type\":\"CDSView\"}},\"id\":\"1054\",\"type\":\"GlyphRenderer\"},{\"attributes\":{\"size\":10},\"id\":\"1176\",\"type\":\"VeeHead\"},{\"attributes\":{},\"id\":\"1060\",\"type\":\"BasicTickFormatter\"},{\"attributes\":{\"source\":{\"id\":\"1051\",\"type\":\"ColumnDataSource\"}},\"id\":\"1055\",\"type\":\"CDSView\"},{\"attributes\":{\"callback\":null,\"data\":{\"xs\":[[3.141592653589793,-3.141592653589793],[0,0]],\"ys\":[[0,0],[3.141592653589793,-3.141592653589793]]},\"selected\":{\"id\":\"1175\",\"type\":\"Selection\"},\"selection_policy\":{\"id\":\"1174\",\"type\":\"UnionRenderers\"}},\"id\":\"1155\",\"type\":\"ColumnDataSource\"},{\"attributes\":{\"size\":10},\"id\":\"1179\",\"type\":\"VeeHead\"},{\"attributes\":{\"text\":\"Real space lattice\"},\"id\":\"1003\",\"type\":\"Title\"},{\"attributes\":{\"text\":\"Reciprocal space lattice\"},\"id\":\"1030\",\"type\":\"Title\"},{\"attributes\":{\"data_source\":{\"id\":\"1024\",\"type\":\"ColumnDataSource\"},\"glyph\":{\"id\":\"1025\",\"type\":\"Circle\"},\"hover_glyph\":null,\"muted_glyph\":null,\"nonselection_glyph\":{\"id\":\"1026\",\"type\":\"Circle\"},\"selection_glyph\":null,\"view\":{\"id\":\"1028\",\"type\":\"CDSView\"}},\"id\":\"1027\",\"type\":\"GlyphRenderer\"},{\"attributes\":{\"line_width\":{\"value\":2},\"xs\":{\"field\":\"xs\"},\"ys\":{\"field\":\"ys\"}},\"id\":\"1156\",\"type\":\"MultiLine\"},{\"attributes\":{\"callback\":null,\"end\":10,\"start\":-10},\"id\":\"1005\",\"type\":\"Range1d\"},{\"attributes\":{\"callback\":null,\"end\":10,\"start\":-10},\"id\":\"1032\",\"type\":\"Range1d\"},{\"attributes\":{\"line_alpha\":{\"value\":0.1},\"line_color\":{\"value\":\"#1f77b4\"},\"line_width\":{\"value\":2},\"xs\":{\"field\":\"xs\"},\"ys\":{\"field\":\"ys\"}},\"id\":\"1157\",\"type\":\"MultiLine\"},{\"attributes\":{\"callback\":null,\"end\":10,\"start\":-10},\"id\":\"1007\",\"type\":\"Range1d\"},{\"attributes\":{\"callback\":null,\"end\":10,\"start\":-10},\"id\":\"1034\",\"type\":\"Range1d\"},{\"attributes\":{\"data_source\":{\"id\":\"1155\",\"type\":\"ColumnDataSource\"},\"glyph\":{\"id\":\"1156\",\"type\":\"MultiLine\"},\"hover_glyph\":null,\"muted_glyph\":null,\"nonselection_glyph\":{\"id\":\"1157\",\"type\":\"MultiLine\"},\"selection_glyph\":null,\"view\":{\"id\":\"1159\",\"type\":\"CDSView\"}},\"id\":\"1158\",\"type\":\"GlyphRenderer\"},{\"attributes\":{},\"id\":\"1009\",\"type\":\"LinearScale\"},{\"attributes\":{},\"id\":\"1036\",\"type\":\"LinearScale\"},{\"attributes\":{\"source\":{\"id\":\"1155\",\"type\":\"ColumnDataSource\"}},\"id\":\"1159\",\"type\":\"CDSView\"},{\"attributes\":{},\"id\":\"1011\",\"type\":\"LinearScale\"},{\"attributes\":{},\"id\":\"1038\",\"type\":\"LinearScale\"},{\"attributes\":{\"source\":{\"id\":\"1024\",\"type\":\"ColumnDataSource\"}},\"id\":\"1028\",\"type\":\"CDSView\"},{\"attributes\":{\"fill_color\":{\"value\":\"blue\"},\"line_color\":{\"value\":null},\"line_width\":{\"value\":3},\"size\":{\"units\":\"screen\",\"value\":10},\"x\":{\"field\":\"x\"},\"y\":{\"field\":\"y\"}},\"id\":\"1025\",\"type\":\"Circle\"},{\"attributes\":{},\"id\":\"1174\",\"type\":\"UnionRenderers\"},{\"attributes\":{\"formatter\":{\"id\":\"1062\",\"type\":\"BasicTickFormatter\"},\"ticker\":{\"id\":\"1014\",\"type\":\"BasicTicker\"}},\"id\":\"1013\",\"type\":\"LinearAxis\"},{\"attributes\":{},\"id\":\"1068\",\"type\":\"Selection\"},{\"attributes\":{},\"id\":\"1175\",\"type\":\"Selection\"},{\"attributes\":{\"formatter\":{\"id\":\"1066\",\"type\":\"BasicTickFormatter\"},\"ticker\":{\"id\":\"1041\",\"type\":\"BasicTicker\"}},\"id\":\"1040\",\"type\":\"LinearAxis\"},{\"attributes\":{},\"id\":\"1014\",\"type\":\"BasicTicker\"}],\"root_ids\":[\"1417\"]},\"title\":\"Bokeh Application\",\"version\":\"1.4.0\"}};\n",
       "  var render_items = [{\"docid\":\"0aabf776-59f5-45ec-b52a-48652fc62792\",\"roots\":{\"1417\":\"522ca53b-aad4-4339-ae99-8307db607d04\"}}];\n",
       "  root.Bokeh.embed.embed_items_notebook(docs_json, render_items);\n",
       "\n",
       "  }\n",
       "  if (root.Bokeh !== undefined) {\n",
       "    embed_document(root);\n",
       "  } else {\n",
       "    var attempts = 0;\n",
       "    var timer = setInterval(function(root) {\n",
       "      if (root.Bokeh !== undefined) {\n",
       "        clearInterval(timer);\n",
       "        embed_document(root);\n",
       "      } else {\n",
       "        attempts++;\n",
       "        if (attempts > 100) {\n",
       "          clearInterval(timer);\n",
       "          console.log(\"Bokeh: ERROR: Unable to run BokehJS code because BokehJS library is missing\");\n",
       "        }\n",
       "      }\n",
       "    }, 10, root)\n",
       "  }\n",
       "})(window);"
      ],
      "application/vnd.bokehjs_exec.v0+json": ""
     },
     "metadata": {
      "application/vnd.bokehjs_exec.v0+json": {
       "id": "1417"
      }
     },
     "output_type": "display_data"
    }
   ],
   "source": [
    "# constructing bragg planes (bisecting the reciprocal vectors drawn in the previous step)\n",
    "bgp1 = Span(location = b2[0]/2, dimension = \"height\", line_dash=\"dashed\");\n",
    "bgp2 = Span(location = -b2[0]/2, dimension = \"height\", line_dash=\"dashed\");\n",
    "bgp3 = Span(location = b1[1]/2, dimension = \"width\", line_dash=\"dashed\");\n",
    "bgp4 = Span(location = -b1[1]/2, dimension = \"width\", line_dash=\"dashed\");\n",
    "bragg1 = img.renderers.extend([bgp1,bgp2,bgp3,bgp4]);\n",
    "show(row(real, img))"
   ]
  },
  {
   "cell_type": "code",
   "execution_count": 9,
   "metadata": {},
   "outputs": [
    {
     "data": {
      "text/html": [
       "\n",
       "\n",
       "\n",
       "\n",
       "\n",
       "\n",
       "  <div class=\"bk-root\" id=\"359cf4d5-81dc-40c1-a3fd-d322abd093a7\" data-root-id=\"1621\"></div>\n"
      ]
     },
     "metadata": {},
     "output_type": "display_data"
    },
    {
     "data": {
      "application/javascript": [
       "(function(root) {\n",
       "  function embed_document(root) {\n",
       "    \n",
       "  var docs_json = {\"8e11bd52-942f-4650-abf2-43c60d99dd02\":{\"roots\":{\"references\":[{\"attributes\":{\"children\":[{\"id\":\"1002\",\"subtype\":\"Figure\",\"type\":\"Plot\"},{\"id\":\"1029\",\"subtype\":\"Figure\",\"type\":\"Plot\"}]},\"id\":\"1621\",\"type\":\"Row\"},{\"attributes\":{\"ticker\":{\"id\":\"1014\",\"type\":\"BasicTicker\"}},\"id\":\"1017\",\"type\":\"Grid\"},{\"attributes\":{\"end\":{\"id\":\"1176\",\"type\":\"VeeHead\"},\"source\":null,\"start\":null,\"x_end\":{\"value\":3.141592653589793},\"x_start\":{\"value\":0},\"y_end\":{\"value\":0},\"y_start\":{\"value\":0}},\"id\":\"1177\",\"type\":\"Arrow\"},{\"attributes\":{},\"id\":\"1041\",\"type\":\"BasicTicker\"},{\"attributes\":{\"formatter\":{\"id\":\"1060\",\"type\":\"BasicTickFormatter\"},\"ticker\":{\"id\":\"1019\",\"type\":\"BasicTicker\"}},\"id\":\"1018\",\"type\":\"LinearAxis\"},{\"attributes\":{\"size\":10},\"id\":\"1182\",\"type\":\"VeeHead\"},{\"attributes\":{\"ticker\":{\"id\":\"1041\",\"type\":\"BasicTicker\"}},\"id\":\"1044\",\"type\":\"Grid\"},{\"attributes\":{},\"id\":\"1069\",\"type\":\"UnionRenderers\"},{\"attributes\":{\"end\":{\"id\":\"1179\",\"type\":\"VeeHead\"},\"source\":null,\"start\":null,\"x_end\":{\"value\":-3.141592653589793},\"x_start\":{\"value\":0},\"y_end\":{\"value\":0},\"y_start\":{\"value\":0}},\"id\":\"1180\",\"type\":\"Arrow\"},{\"attributes\":{},\"id\":\"1019\",\"type\":\"BasicTicker\"},{\"attributes\":{\"formatter\":{\"id\":\"1064\",\"type\":\"BasicTickFormatter\"},\"ticker\":{\"id\":\"1046\",\"type\":\"BasicTicker\"}},\"id\":\"1045\",\"type\":\"LinearAxis\"},{\"attributes\":{\"dimension\":\"height\",\"line_dash\":[6],\"location\":-1.5707963267948966},\"id\":\"1382\",\"type\":\"Span\"},{\"attributes\":{},\"id\":\"1064\",\"type\":\"BasicTickFormatter\"},{\"attributes\":{},\"id\":\"1062\",\"type\":\"BasicTickFormatter\"},{\"attributes\":{\"dimension\":\"height\",\"line_dash\":[6],\"location\":1.5707963267948966},\"id\":\"1381\",\"type\":\"Span\"},{\"attributes\":{\"dimension\":1,\"ticker\":{\"id\":\"1019\",\"type\":\"BasicTicker\"}},\"id\":\"1022\",\"type\":\"Grid\"},{\"attributes\":{},\"id\":\"1046\",\"type\":\"BasicTicker\"},{\"attributes\":{\"size\":10},\"id\":\"1185\",\"type\":\"VeeHead\"},{\"attributes\":{},\"id\":\"1067\",\"type\":\"UnionRenderers\"},{\"attributes\":{\"line_dash\":[6],\"location\":-1.5707963267948966},\"id\":\"1384\",\"type\":\"Span\"},{\"attributes\":{\"fill_alpha\":{\"value\":0.1},\"fill_color\":{\"value\":\"#1f77b4\"},\"line_alpha\":{\"value\":0.1},\"line_color\":{\"value\":\"#1f77b4\"},\"line_width\":{\"value\":3},\"size\":{\"units\":\"screen\",\"value\":10},\"x\":{\"field\":\"x\"},\"y\":{\"field\":\"y\"}},\"id\":\"1026\",\"type\":\"Circle\"},{\"attributes\":{\"end\":{\"id\":\"1182\",\"type\":\"VeeHead\"},\"source\":null,\"start\":null,\"x_end\":{\"value\":0},\"x_start\":{\"value\":0},\"y_end\":{\"value\":3.141592653589793},\"y_start\":{\"value\":0}},\"id\":\"1183\",\"type\":\"Arrow\"},{\"attributes\":{\"dimension\":1,\"ticker\":{\"id\":\"1046\",\"type\":\"BasicTicker\"}},\"id\":\"1049\",\"type\":\"Grid\"},{\"attributes\":{\"line_dash\":[6],\"location\":1.5707963267948966},\"id\":\"1383\",\"type\":\"Span\"},{\"attributes\":{\"source\":{\"id\":\"1562\",\"type\":\"ColumnDataSource\"}},\"id\":\"1566\",\"type\":\"CDSView\"},{\"attributes\":{\"active_drag\":\"auto\",\"active_inspect\":\"auto\",\"active_multi\":null,\"active_scroll\":\"auto\",\"active_tap\":\"auto\"},\"id\":\"1050\",\"type\":\"Toolbar\"},{\"attributes\":{\"active_drag\":\"auto\",\"active_inspect\":\"auto\",\"active_multi\":null,\"active_scroll\":\"auto\",\"active_tap\":\"auto\"},\"id\":\"1023\",\"type\":\"Toolbar\"},{\"attributes\":{\"fill_color\":\"red\",\"line_color\":\"red\",\"line_width\":2,\"x\":{\"field\":\"x\"},\"y\":{\"field\":\"y\"}},\"id\":\"1563\",\"type\":\"Patch\"},{\"attributes\":{\"below\":[{\"id\":\"1040\",\"type\":\"LinearAxis\"}],\"center\":[{\"id\":\"1044\",\"type\":\"Grid\"},{\"id\":\"1049\",\"type\":\"Grid\"},{\"id\":\"1177\",\"type\":\"Arrow\"},{\"id\":\"1180\",\"type\":\"Arrow\"},{\"id\":\"1183\",\"type\":\"Arrow\"},{\"id\":\"1186\",\"type\":\"Arrow\"}],\"left\":[{\"id\":\"1045\",\"type\":\"LinearAxis\"}],\"plot_height\":400,\"plot_width\":400,\"renderers\":[{\"id\":\"1054\",\"type\":\"GlyphRenderer\"},{\"id\":\"1158\",\"type\":\"GlyphRenderer\"},{\"id\":\"1381\",\"type\":\"Span\"},{\"id\":\"1382\",\"type\":\"Span\"},{\"id\":\"1383\",\"type\":\"Span\"},{\"id\":\"1384\",\"type\":\"Span\"},{\"id\":\"1565\",\"type\":\"GlyphRenderer\"}],\"title\":{\"id\":\"1030\",\"type\":\"Title\"},\"toolbar\":{\"id\":\"1050\",\"type\":\"Toolbar\"},\"x_range\":{\"id\":\"1032\",\"type\":\"Range1d\"},\"x_scale\":{\"id\":\"1036\",\"type\":\"LinearScale\"},\"y_range\":{\"id\":\"1034\",\"type\":\"Range1d\"},\"y_scale\":{\"id\":\"1038\",\"type\":\"LinearScale\"}},\"id\":\"1029\",\"subtype\":\"Figure\",\"type\":\"Plot\"},{\"attributes\":{\"end\":{\"id\":\"1185\",\"type\":\"VeeHead\"},\"source\":null,\"start\":null,\"x_end\":{\"value\":0},\"x_start\":{\"value\":0},\"y_end\":{\"value\":-3.141592653589793},\"y_start\":{\"value\":0}},\"id\":\"1186\",\"type\":\"Arrow\"},{\"attributes\":{\"callback\":null,\"data\":{\"x\":[1.5707963267948966,1.5707963267948966,-1.5707963267948966,-1.5707963267948966,1.5707963267948966],\"y\":[1.5707963267948966,-1.5707963267948966,-1.5707963267948966,1.5707963267948966,1.5707963267948966]},\"selected\":{\"id\":\"1584\",\"type\":\"Selection\"},\"selection_policy\":{\"id\":\"1583\",\"type\":\"UnionRenderers\"}},\"id\":\"1562\",\"type\":\"ColumnDataSource\"},{\"attributes\":{},\"id\":\"1066\",\"type\":\"BasicTickFormatter\"},{\"attributes\":{\"fill_color\":{\"value\":\"red\"},\"line_color\":{\"value\":null},\"line_width\":{\"value\":3},\"size\":{\"units\":\"screen\",\"value\":10},\"x\":{\"field\":\"x\"},\"y\":{\"field\":\"y\"}},\"id\":\"1052\",\"type\":\"Circle\"},{\"attributes\":{},\"id\":\"1584\",\"type\":\"Selection\"},{\"attributes\":{\"fill_alpha\":{\"value\":0.1},\"fill_color\":{\"value\":\"#1f77b4\"},\"line_alpha\":{\"value\":0.1},\"line_color\":{\"value\":\"#1f77b4\"},\"line_width\":{\"value\":3},\"size\":{\"units\":\"screen\",\"value\":10},\"x\":{\"field\":\"x\"},\"y\":{\"field\":\"y\"}},\"id\":\"1053\",\"type\":\"Circle\"},{\"attributes\":{\"callback\":null,\"data\":{\"x\":{\"__ndarray__\":\"0iEzf3zZIsAYLURU+yEZwBgtRFT7IQnAAAAAAAAAAAAYLURU+yEJQBgtRFT7IRlA0iEzf3zZIkDSITN/fNkiwBgtRFT7IRnAGC1EVPshCcAAAAAAAAAAABgtRFT7IQlAGC1EVPshGUDSITN/fNkiQNIhM3982SLAGC1EVPshGcAYLURU+yEJwAAAAAAAAAAAGC1EVPshCUAYLURU+yEZQNIhM3982SJA0iEzf3zZIsAYLURU+yEZwBgtRFT7IQnAAAAAAAAAAAAYLURU+yEJQBgtRFT7IRlA0iEzf3zZIkDSITN/fNkiwBgtRFT7IRnAGC1EVPshCcAAAAAAAAAAABgtRFT7IQlAGC1EVPshGUDSITN/fNkiQNIhM3982SLAGC1EVPshGcAYLURU+yEJwAAAAAAAAAAAGC1EVPshCUAYLURU+yEZQNIhM3982SJA0iEzf3zZIsAYLURU+yEZwBgtRFT7IQnAAAAAAAAAAAAYLURU+yEJQBgtRFT7IRlA0iEzf3zZIkA=\",\"dtype\":\"float64\",\"shape\":[49]},\"y\":{\"__ndarray__\":\"0iEzf3zZIsDSITN/fNkiwNIhM3982SLA0iEzf3zZIsDSITN/fNkiwNIhM3982SLA0iEzf3zZIsAYLURU+yEZwBgtRFT7IRnAGC1EVPshGcAYLURU+yEZwBgtRFT7IRnAGC1EVPshGcAYLURU+yEZwBgtRFT7IQnAGC1EVPshCcAYLURU+yEJwBgtRFT7IQnAGC1EVPshCcAYLURU+yEJwBgtRFT7IQnAAAAAAAAAAAAAAAAAAAAAAAAAAAAAAAAAAAAAAAAAAAAAAAAAAAAAAAAAAAAAAAAAAAAAAAAAAAAYLURU+yEJQBgtRFT7IQlAGC1EVPshCUAYLURU+yEJQBgtRFT7IQlAGC1EVPshCUAYLURU+yEJQBgtRFT7IRlAGC1EVPshGUAYLURU+yEZQBgtRFT7IRlAGC1EVPshGUAYLURU+yEZQBgtRFT7IRlA0iEzf3zZIkDSITN/fNkiQNIhM3982SJA0iEzf3zZIkDSITN/fNkiQNIhM3982SJA0iEzf3zZIkA=\",\"dtype\":\"float64\",\"shape\":[49]}},\"selected\":{\"id\":\"1070\",\"type\":\"Selection\"},\"selection_policy\":{\"id\":\"1069\",\"type\":\"UnionRenderers\"}},\"id\":\"1051\",\"type\":\"ColumnDataSource\"},{\"attributes\":{\"callback\":null,\"data\":{\"x\":{\"__ndarray__\":\"AAAAAAAAGMAAAAAAAAAQwAAAAAAAAADAAAAAAAAAAAAAAAAAAAAAQAAAAAAAABBAAAAAAAAAGEAAAAAAAAAYwAAAAAAAABDAAAAAAAAAAMAAAAAAAAAAAAAAAAAAAABAAAAAAAAAEEAAAAAAAAAYQAAAAAAAABjAAAAAAAAAEMAAAAAAAAAAwAAAAAAAAAAAAAAAAAAAAEAAAAAAAAAQQAAAAAAAABhAAAAAAAAAGMAAAAAAAAAQwAAAAAAAAADAAAAAAAAAAAAAAAAAAAAAQAAAAAAAABBAAAAAAAAAGEAAAAAAAAAYwAAAAAAAABDAAAAAAAAAAMAAAAAAAAAAAAAAAAAAAABAAAAAAAAAEEAAAAAAAAAYQAAAAAAAABjAAAAAAAAAEMAAAAAAAAAAwAAAAAAAAAAAAAAAAAAAAEAAAAAAAAAQQAAAAAAAABhAAAAAAAAAGMAAAAAAAAAQwAAAAAAAAADAAAAAAAAAAAAAAAAAAAAAQAAAAAAAABBAAAAAAAAAGEA=\",\"dtype\":\"float64\",\"shape\":[49]},\"y\":{\"__ndarray__\":\"AAAAAAAAGMAAAAAAAAAYwAAAAAAAABjAAAAAAAAAGMAAAAAAAAAYwAAAAAAAABjAAAAAAAAAGMAAAAAAAAAQwAAAAAAAABDAAAAAAAAAEMAAAAAAAAAQwAAAAAAAABDAAAAAAAAAEMAAAAAAAAAQwAAAAAAAAADAAAAAAAAAAMAAAAAAAAAAwAAAAAAAAADAAAAAAAAAAMAAAAAAAAAAwAAAAAAAAADAAAAAAAAAAAAAAAAAAAAAAAAAAAAAAAAAAAAAAAAAAAAAAAAAAAAAAAAAAAAAAAAAAAAAAAAAAAAAAAAAAAAAQAAAAAAAAABAAAAAAAAAAEAAAAAAAAAAQAAAAAAAAABAAAAAAAAAAEAAAAAAAAAAQAAAAAAAABBAAAAAAAAAEEAAAAAAAAAQQAAAAAAAABBAAAAAAAAAEEAAAAAAAAAQQAAAAAAAABBAAAAAAAAAGEAAAAAAAAAYQAAAAAAAABhAAAAAAAAAGEAAAAAAAAAYQAAAAAAAABhAAAAAAAAAGEA=\",\"dtype\":\"float64\",\"shape\":[49]}},\"selected\":{\"id\":\"1068\",\"type\":\"Selection\"},\"selection_policy\":{\"id\":\"1067\",\"type\":\"UnionRenderers\"}},\"id\":\"1024\",\"type\":\"ColumnDataSource\"},{\"attributes\":{\"below\":[{\"id\":\"1013\",\"type\":\"LinearAxis\"}],\"center\":[{\"id\":\"1017\",\"type\":\"Grid\"},{\"id\":\"1022\",\"type\":\"Grid\"}],\"left\":[{\"id\":\"1018\",\"type\":\"LinearAxis\"}],\"plot_height\":400,\"plot_width\":400,\"renderers\":[{\"id\":\"1027\",\"type\":\"GlyphRenderer\"}],\"title\":{\"id\":\"1003\",\"type\":\"Title\"},\"toolbar\":{\"id\":\"1023\",\"type\":\"Toolbar\"},\"x_range\":{\"id\":\"1005\",\"type\":\"Range1d\"},\"x_scale\":{\"id\":\"1009\",\"type\":\"LinearScale\"},\"y_range\":{\"id\":\"1007\",\"type\":\"Range1d\"},\"y_scale\":{\"id\":\"1011\",\"type\":\"LinearScale\"}},\"id\":\"1002\",\"subtype\":\"Figure\",\"type\":\"Plot\"},{\"attributes\":{\"data_source\":{\"id\":\"1051\",\"type\":\"ColumnDataSource\"},\"glyph\":{\"id\":\"1052\",\"type\":\"Circle\"},\"hover_glyph\":null,\"muted_glyph\":null,\"nonselection_glyph\":{\"id\":\"1053\",\"type\":\"Circle\"},\"selection_glyph\":null,\"view\":{\"id\":\"1055\",\"type\":\"CDSView\"}},\"id\":\"1054\",\"type\":\"GlyphRenderer\"},{\"attributes\":{\"size\":10},\"id\":\"1176\",\"type\":\"VeeHead\"},{\"attributes\":{},\"id\":\"1060\",\"type\":\"BasicTickFormatter\"},{\"attributes\":{\"source\":{\"id\":\"1051\",\"type\":\"ColumnDataSource\"}},\"id\":\"1055\",\"type\":\"CDSView\"},{\"attributes\":{\"callback\":null,\"data\":{\"xs\":[[3.141592653589793,-3.141592653589793],[0,0]],\"ys\":[[0,0],[3.141592653589793,-3.141592653589793]]},\"selected\":{\"id\":\"1175\",\"type\":\"Selection\"},\"selection_policy\":{\"id\":\"1174\",\"type\":\"UnionRenderers\"}},\"id\":\"1155\",\"type\":\"ColumnDataSource\"},{\"attributes\":{\"size\":10},\"id\":\"1179\",\"type\":\"VeeHead\"},{\"attributes\":{\"text\":\"Real space lattice\"},\"id\":\"1003\",\"type\":\"Title\"},{\"attributes\":{\"text\":\"Reciprocal space lattice\"},\"id\":\"1030\",\"type\":\"Title\"},{\"attributes\":{\"fill_alpha\":0.1,\"fill_color\":\"#1f77b4\",\"line_alpha\":0.1,\"line_color\":\"#1f77b4\",\"line_width\":2,\"x\":{\"field\":\"x\"},\"y\":{\"field\":\"y\"}},\"id\":\"1564\",\"type\":\"Patch\"},{\"attributes\":{\"data_source\":{\"id\":\"1024\",\"type\":\"ColumnDataSource\"},\"glyph\":{\"id\":\"1025\",\"type\":\"Circle\"},\"hover_glyph\":null,\"muted_glyph\":null,\"nonselection_glyph\":{\"id\":\"1026\",\"type\":\"Circle\"},\"selection_glyph\":null,\"view\":{\"id\":\"1028\",\"type\":\"CDSView\"}},\"id\":\"1027\",\"type\":\"GlyphRenderer\"},{\"attributes\":{\"line_width\":{\"value\":2},\"xs\":{\"field\":\"xs\"},\"ys\":{\"field\":\"ys\"}},\"id\":\"1156\",\"type\":\"MultiLine\"},{\"attributes\":{\"callback\":null,\"end\":10,\"start\":-10},\"id\":\"1005\",\"type\":\"Range1d\"},{\"attributes\":{\"callback\":null,\"end\":10,\"start\":-10},\"id\":\"1032\",\"type\":\"Range1d\"},{\"attributes\":{\"line_alpha\":{\"value\":0.1},\"line_color\":{\"value\":\"#1f77b4\"},\"line_width\":{\"value\":2},\"xs\":{\"field\":\"xs\"},\"ys\":{\"field\":\"ys\"}},\"id\":\"1157\",\"type\":\"MultiLine\"},{\"attributes\":{\"callback\":null,\"end\":10,\"start\":-10},\"id\":\"1007\",\"type\":\"Range1d\"},{\"attributes\":{\"callback\":null,\"end\":10,\"start\":-10},\"id\":\"1034\",\"type\":\"Range1d\"},{\"attributes\":{\"data_source\":{\"id\":\"1155\",\"type\":\"ColumnDataSource\"},\"glyph\":{\"id\":\"1156\",\"type\":\"MultiLine\"},\"hover_glyph\":null,\"muted_glyph\":null,\"nonselection_glyph\":{\"id\":\"1157\",\"type\":\"MultiLine\"},\"selection_glyph\":null,\"view\":{\"id\":\"1159\",\"type\":\"CDSView\"}},\"id\":\"1158\",\"type\":\"GlyphRenderer\"},{\"attributes\":{},\"id\":\"1070\",\"type\":\"Selection\"},{\"attributes\":{},\"id\":\"1009\",\"type\":\"LinearScale\"},{\"attributes\":{},\"id\":\"1036\",\"type\":\"LinearScale\"},{\"attributes\":{\"source\":{\"id\":\"1155\",\"type\":\"ColumnDataSource\"}},\"id\":\"1159\",\"type\":\"CDSView\"},{\"attributes\":{\"formatter\":{\"id\":\"1066\",\"type\":\"BasicTickFormatter\"},\"ticker\":{\"id\":\"1041\",\"type\":\"BasicTicker\"}},\"id\":\"1040\",\"type\":\"LinearAxis\"},{\"attributes\":{},\"id\":\"1011\",\"type\":\"LinearScale\"},{\"attributes\":{},\"id\":\"1038\",\"type\":\"LinearScale\"},{\"attributes\":{},\"id\":\"1583\",\"type\":\"UnionRenderers\"},{\"attributes\":{\"source\":{\"id\":\"1024\",\"type\":\"ColumnDataSource\"}},\"id\":\"1028\",\"type\":\"CDSView\"},{\"attributes\":{\"fill_color\":{\"value\":\"blue\"},\"line_color\":{\"value\":null},\"line_width\":{\"value\":3},\"size\":{\"units\":\"screen\",\"value\":10},\"x\":{\"field\":\"x\"},\"y\":{\"field\":\"y\"}},\"id\":\"1025\",\"type\":\"Circle\"},{\"attributes\":{},\"id\":\"1174\",\"type\":\"UnionRenderers\"},{\"attributes\":{\"formatter\":{\"id\":\"1062\",\"type\":\"BasicTickFormatter\"},\"ticker\":{\"id\":\"1014\",\"type\":\"BasicTicker\"}},\"id\":\"1013\",\"type\":\"LinearAxis\"},{\"attributes\":{},\"id\":\"1068\",\"type\":\"Selection\"},{\"attributes\":{},\"id\":\"1175\",\"type\":\"Selection\"},{\"attributes\":{\"data_source\":{\"id\":\"1562\",\"type\":\"ColumnDataSource\"},\"glyph\":{\"id\":\"1563\",\"type\":\"Patch\"},\"hover_glyph\":null,\"muted_glyph\":null,\"nonselection_glyph\":{\"id\":\"1564\",\"type\":\"Patch\"},\"selection_glyph\":null,\"view\":{\"id\":\"1566\",\"type\":\"CDSView\"}},\"id\":\"1565\",\"type\":\"GlyphRenderer\"},{\"attributes\":{},\"id\":\"1014\",\"type\":\"BasicTicker\"}],\"root_ids\":[\"1621\"]},\"title\":\"Bokeh Application\",\"version\":\"1.4.0\"}};\n",
       "  var render_items = [{\"docid\":\"8e11bd52-942f-4650-abf2-43c60d99dd02\",\"roots\":{\"1621\":\"359cf4d5-81dc-40c1-a3fd-d322abd093a7\"}}];\n",
       "  root.Bokeh.embed.embed_items_notebook(docs_json, render_items);\n",
       "\n",
       "  }\n",
       "  if (root.Bokeh !== undefined) {\n",
       "    embed_document(root);\n",
       "  } else {\n",
       "    var attempts = 0;\n",
       "    var timer = setInterval(function(root) {\n",
       "      if (root.Bokeh !== undefined) {\n",
       "        clearInterval(timer);\n",
       "        embed_document(root);\n",
       "      } else {\n",
       "        attempts++;\n",
       "        if (attempts > 100) {\n",
       "          clearInterval(timer);\n",
       "          console.log(\"Bokeh: ERROR: Unable to run BokehJS code because BokehJS library is missing\");\n",
       "        }\n",
       "      }\n",
       "    }, 10, root)\n",
       "  }\n",
       "})(window);"
      ],
      "application/vnd.bokehjs_exec.v0+json": ""
     },
     "metadata": {
      "application/vnd.bokehjs_exec.v0+json": {
       "id": "1621"
      }
     },
     "output_type": "display_data"
    }
   ],
   "source": [
    "# Color the first Brillouin zone, which is the Wigner-Seitz unit cell in the reciprocal lattice\n",
    "bz1 = img.patch([b2[0]/2, b2[0]/2, -b2[0]/2, -b2[0]/2, b2[0]/2],[b1[1]/2, -b1[1]/2, -b1[1]/2, b1[1]/2, b1[1]/2],line_width = 2, color = \"red\");\n",
    "show(row(real,img))"
   ]
  },
  {
   "cell_type": "code",
   "execution_count": 10,
   "metadata": {},
   "outputs": [],
   "source": [
    "# hide the first brillouin zone elements\n",
    "vec1.visible = False;\n",
    "arrow1.visible = False;\n",
    "arrow2.visible = False;\n",
    "arrow3.visible = False;\n",
    "arrow4.visible = False;\n",
    "bz1.visible = False;"
   ]
  },
  {
   "cell_type": "markdown",
   "metadata": {},
   "source": [
    "# Constrution of the 1st+2nd Brillouin zones"
   ]
  },
  {
   "cell_type": "code",
   "execution_count": 11,
   "metadata": {},
   "outputs": [
    {
     "data": {
      "text/html": [
       "\n",
       "\n",
       "\n",
       "\n",
       "\n",
       "\n",
       "  <div class=\"bk-root\" id=\"62daa270-3e2f-4edb-bbe9-e771b10ebf02\" data-root-id=\"2219\"></div>\n"
      ]
     },
     "metadata": {},
     "output_type": "display_data"
    },
    {
     "data": {
      "application/javascript": [
       "(function(root) {\n",
       "  function embed_document(root) {\n",
       "    \n",
       "  var docs_json = {\"11a51294-4a01-46c4-8048-35373d4af68c\":{\"roots\":{\"references\":[{\"attributes\":{\"children\":[{\"id\":\"1002\",\"subtype\":\"Figure\",\"type\":\"Plot\"},{\"id\":\"1029\",\"subtype\":\"Figure\",\"type\":\"Plot\"}]},\"id\":\"2219\",\"type\":\"Row\"},{\"attributes\":{},\"id\":\"1041\",\"type\":\"BasicTicker\"},{\"attributes\":{\"ticker\":{\"id\":\"1041\",\"type\":\"BasicTicker\"}},\"id\":\"1044\",\"type\":\"Grid\"},{\"attributes\":{},\"id\":\"1069\",\"type\":\"UnionRenderers\"},{\"attributes\":{\"formatter\":{\"id\":\"1064\",\"type\":\"BasicTickFormatter\"},\"ticker\":{\"id\":\"1046\",\"type\":\"BasicTicker\"}},\"id\":\"1045\",\"type\":\"LinearAxis\"},{\"attributes\":{},\"id\":\"1070\",\"type\":\"Selection\"},{\"attributes\":{\"end\":{\"id\":\"1896\",\"type\":\"VeeHead\"},\"source\":null,\"start\":null,\"x_end\":{\"value\":3.141592653589793},\"x_start\":{\"value\":0},\"y_end\":{\"value\":-3.141592653589793},\"y_start\":{\"value\":0}},\"id\":\"1897\",\"type\":\"Arrow\"},{\"attributes\":{},\"id\":\"1046\",\"type\":\"BasicTicker\"},{\"attributes\":{},\"id\":\"1067\",\"type\":\"UnionRenderers\"},{\"attributes\":{\"line_dash\":[6],\"location\":-1.5707963267948966},\"id\":\"1384\",\"type\":\"Span\"},{\"attributes\":{\"dimension\":1,\"ticker\":{\"id\":\"1046\",\"type\":\"BasicTicker\"}},\"id\":\"1049\",\"type\":\"Grid\"},{\"attributes\":{\"active_drag\":\"auto\",\"active_inspect\":\"auto\",\"active_multi\":null,\"active_scroll\":\"auto\",\"active_tap\":\"auto\"},\"id\":\"1050\",\"type\":\"Toolbar\"},{\"attributes\":{},\"id\":\"1066\",\"type\":\"BasicTickFormatter\"},{\"attributes\":{\"fill_color\":{\"value\":\"red\"},\"line_color\":{\"value\":null},\"line_width\":{\"value\":3},\"size\":{\"units\":\"screen\",\"value\":10},\"x\":{\"field\":\"x\"},\"y\":{\"field\":\"y\"}},\"id\":\"1052\",\"type\":\"Circle\"},{\"attributes\":{\"fill_alpha\":{\"value\":0.1},\"fill_color\":{\"value\":\"#1f77b4\"},\"line_alpha\":{\"value\":0.1},\"line_color\":{\"value\":\"#1f77b4\"},\"line_width\":{\"value\":3},\"size\":{\"units\":\"screen\",\"value\":10},\"x\":{\"field\":\"x\"},\"y\":{\"field\":\"y\"}},\"id\":\"1053\",\"type\":\"Circle\"},{\"attributes\":{\"callback\":null,\"data\":{\"x\":{\"__ndarray__\":\"0iEzf3zZIsAYLURU+yEZwBgtRFT7IQnAAAAAAAAAAAAYLURU+yEJQBgtRFT7IRlA0iEzf3zZIkDSITN/fNkiwBgtRFT7IRnAGC1EVPshCcAAAAAAAAAAABgtRFT7IQlAGC1EVPshGUDSITN/fNkiQNIhM3982SLAGC1EVPshGcAYLURU+yEJwAAAAAAAAAAAGC1EVPshCUAYLURU+yEZQNIhM3982SJA0iEzf3zZIsAYLURU+yEZwBgtRFT7IQnAAAAAAAAAAAAYLURU+yEJQBgtRFT7IRlA0iEzf3zZIkDSITN/fNkiwBgtRFT7IRnAGC1EVPshCcAAAAAAAAAAABgtRFT7IQlAGC1EVPshGUDSITN/fNkiQNIhM3982SLAGC1EVPshGcAYLURU+yEJwAAAAAAAAAAAGC1EVPshCUAYLURU+yEZQNIhM3982SJA0iEzf3zZIsAYLURU+yEZwBgtRFT7IQnAAAAAAAAAAAAYLURU+yEJQBgtRFT7IRlA0iEzf3zZIkA=\",\"dtype\":\"float64\",\"shape\":[49]},\"y\":{\"__ndarray__\":\"0iEzf3zZIsDSITN/fNkiwNIhM3982SLA0iEzf3zZIsDSITN/fNkiwNIhM3982SLA0iEzf3zZIsAYLURU+yEZwBgtRFT7IRnAGC1EVPshGcAYLURU+yEZwBgtRFT7IRnAGC1EVPshGcAYLURU+yEZwBgtRFT7IQnAGC1EVPshCcAYLURU+yEJwBgtRFT7IQnAGC1EVPshCcAYLURU+yEJwBgtRFT7IQnAAAAAAAAAAAAAAAAAAAAAAAAAAAAAAAAAAAAAAAAAAAAAAAAAAAAAAAAAAAAAAAAAAAAAAAAAAAAYLURU+yEJQBgtRFT7IQlAGC1EVPshCUAYLURU+yEJQBgtRFT7IQlAGC1EVPshCUAYLURU+yEJQBgtRFT7IRlAGC1EVPshGUAYLURU+yEZQBgtRFT7IRlAGC1EVPshGUAYLURU+yEZQBgtRFT7IRlA0iEzf3zZIkDSITN/fNkiQNIhM3982SJA0iEzf3zZIkDSITN/fNkiQNIhM3982SJA0iEzf3zZIkA=\",\"dtype\":\"float64\",\"shape\":[49]}},\"selected\":{\"id\":\"1070\",\"type\":\"Selection\"},\"selection_policy\":{\"id\":\"1069\",\"type\":\"UnionRenderers\"}},\"id\":\"1051\",\"type\":\"ColumnDataSource\"},{\"attributes\":{\"callback\":null,\"data\":{\"x\":{\"__ndarray__\":\"AAAAAAAAGMAAAAAAAAAQwAAAAAAAAADAAAAAAAAAAAAAAAAAAAAAQAAAAAAAABBAAAAAAAAAGEAAAAAAAAAYwAAAAAAAABDAAAAAAAAAAMAAAAAAAAAAAAAAAAAAAABAAAAAAAAAEEAAAAAAAAAYQAAAAAAAABjAAAAAAAAAEMAAAAAAAAAAwAAAAAAAAAAAAAAAAAAAAEAAAAAAAAAQQAAAAAAAABhAAAAAAAAAGMAAAAAAAAAQwAAAAAAAAADAAAAAAAAAAAAAAAAAAAAAQAAAAAAAABBAAAAAAAAAGEAAAAAAAAAYwAAAAAAAABDAAAAAAAAAAMAAAAAAAAAAAAAAAAAAAABAAAAAAAAAEEAAAAAAAAAYQAAAAAAAABjAAAAAAAAAEMAAAAAAAAAAwAAAAAAAAAAAAAAAAAAAAEAAAAAAAAAQQAAAAAAAABhAAAAAAAAAGMAAAAAAAAAQwAAAAAAAAADAAAAAAAAAAAAAAAAAAAAAQAAAAAAAABBAAAAAAAAAGEA=\",\"dtype\":\"float64\",\"shape\":[49]},\"y\":{\"__ndarray__\":\"AAAAAAAAGMAAAAAAAAAYwAAAAAAAABjAAAAAAAAAGMAAAAAAAAAYwAAAAAAAABjAAAAAAAAAGMAAAAAAAAAQwAAAAAAAABDAAAAAAAAAEMAAAAAAAAAQwAAAAAAAABDAAAAAAAAAEMAAAAAAAAAQwAAAAAAAAADAAAAAAAAAAMAAAAAAAAAAwAAAAAAAAADAAAAAAAAAAMAAAAAAAAAAwAAAAAAAAADAAAAAAAAAAAAAAAAAAAAAAAAAAAAAAAAAAAAAAAAAAAAAAAAAAAAAAAAAAAAAAAAAAAAAAAAAAAAAAAAAAAAAQAAAAAAAAABAAAAAAAAAAEAAAAAAAAAAQAAAAAAAAABAAAAAAAAAAEAAAAAAAAAAQAAAAAAAABBAAAAAAAAAEEAAAAAAAAAQQAAAAAAAABBAAAAAAAAAEEAAAAAAAAAQQAAAAAAAABBAAAAAAAAAGEAAAAAAAAAYQAAAAAAAABhAAAAAAAAAGEAAAAAAAAAYQAAAAAAAABhAAAAAAAAAGEA=\",\"dtype\":\"float64\",\"shape\":[49]}},\"selected\":{\"id\":\"1068\",\"type\":\"Selection\"},\"selection_policy\":{\"id\":\"1067\",\"type\":\"UnionRenderers\"}},\"id\":\"1024\",\"type\":\"ColumnDataSource\"},{\"attributes\":{\"below\":[{\"id\":\"1013\",\"type\":\"LinearAxis\"}],\"center\":[{\"id\":\"1017\",\"type\":\"Grid\"},{\"id\":\"1022\",\"type\":\"Grid\"}],\"left\":[{\"id\":\"1018\",\"type\":\"LinearAxis\"}],\"plot_height\":400,\"plot_width\":400,\"renderers\":[{\"id\":\"1027\",\"type\":\"GlyphRenderer\"}],\"title\":{\"id\":\"1003\",\"type\":\"Title\"},\"toolbar\":{\"id\":\"1023\",\"type\":\"Toolbar\"},\"x_range\":{\"id\":\"1005\",\"type\":\"Range1d\"},\"x_scale\":{\"id\":\"1009\",\"type\":\"LinearScale\"},\"y_range\":{\"id\":\"1007\",\"type\":\"Range1d\"},\"y_scale\":{\"id\":\"1011\",\"type\":\"LinearScale\"}},\"id\":\"1002\",\"subtype\":\"Figure\",\"type\":\"Plot\"},{\"attributes\":{\"data_source\":{\"id\":\"1051\",\"type\":\"ColumnDataSource\"},\"glyph\":{\"id\":\"1052\",\"type\":\"Circle\"},\"hover_glyph\":null,\"muted_glyph\":null,\"nonselection_glyph\":{\"id\":\"1053\",\"type\":\"Circle\"},\"selection_glyph\":null,\"view\":{\"id\":\"1055\",\"type\":\"CDSView\"}},\"id\":\"1054\",\"type\":\"GlyphRenderer\"},{\"attributes\":{\"source\":{\"id\":\"1051\",\"type\":\"ColumnDataSource\"}},\"id\":\"1055\",\"type\":\"CDSView\"},{\"attributes\":{\"text\":\"Real space lattice\"},\"id\":\"1003\",\"type\":\"Title\"},{\"attributes\":{\"callback\":null,\"end\":10,\"start\":-10},\"id\":\"1005\",\"type\":\"Range1d\"},{\"attributes\":{\"callback\":null,\"end\":10,\"start\":-10},\"id\":\"1007\",\"type\":\"Range1d\"},{\"attributes\":{},\"id\":\"1009\",\"type\":\"LinearScale\"},{\"attributes\":{},\"id\":\"1011\",\"type\":\"LinearScale\"},{\"attributes\":{\"source\":{\"id\":\"1024\",\"type\":\"ColumnDataSource\"}},\"id\":\"1028\",\"type\":\"CDSView\"},{\"attributes\":{\"formatter\":{\"id\":\"1062\",\"type\":\"BasicTickFormatter\"},\"ticker\":{\"id\":\"1014\",\"type\":\"BasicTicker\"}},\"id\":\"1013\",\"type\":\"LinearAxis\"},{\"attributes\":{},\"id\":\"1014\",\"type\":\"BasicTicker\"},{\"attributes\":{\"ticker\":{\"id\":\"1014\",\"type\":\"BasicTicker\"}},\"id\":\"1017\",\"type\":\"Grid\"},{\"attributes\":{\"formatter\":{\"id\":\"1060\",\"type\":\"BasicTickFormatter\"},\"ticker\":{\"id\":\"1019\",\"type\":\"BasicTicker\"}},\"id\":\"1018\",\"type\":\"LinearAxis\"},{\"attributes\":{},\"id\":\"1019\",\"type\":\"BasicTicker\"},{\"attributes\":{\"dimension\":\"height\",\"line_dash\":[6],\"location\":-1.5707963267948966},\"id\":\"1382\",\"type\":\"Span\"},{\"attributes\":{\"dimension\":\"height\",\"line_dash\":[6],\"location\":1.5707963267948966},\"id\":\"1381\",\"type\":\"Span\"},{\"attributes\":{\"dimension\":1,\"ticker\":{\"id\":\"1019\",\"type\":\"BasicTicker\"}},\"id\":\"1022\",\"type\":\"Grid\"},{\"attributes\":{\"size\":10},\"id\":\"1887\",\"type\":\"VeeHead\"},{\"attributes\":{\"line_dash\":[6],\"location\":1.5707963267948966},\"id\":\"1383\",\"type\":\"Span\"},{\"attributes\":{\"callback\":null,\"data\":{\"xs\":[[-3.141592653589793,3.141592653589793],[-3.141592653589793,3.141592653589793]],\"ys\":[[3.141592653589793,-3.141592653589793],[-3.141592653589793,3.141592653589793]]},\"selected\":{\"id\":\"1826\",\"type\":\"Selection\"},\"selection_policy\":{\"id\":\"1825\",\"type\":\"UnionRenderers\"}},\"id\":\"1802\",\"type\":\"ColumnDataSource\"},{\"attributes\":{\"active_drag\":\"auto\",\"active_inspect\":\"auto\",\"active_multi\":null,\"active_scroll\":\"auto\",\"active_tap\":\"auto\"},\"id\":\"1023\",\"type\":\"Toolbar\"},{\"attributes\":{\"line_width\":{\"value\":2},\"xs\":{\"field\":\"xs\"},\"ys\":{\"field\":\"ys\"}},\"id\":\"1803\",\"type\":\"MultiLine\"},{\"attributes\":{\"below\":[{\"id\":\"1040\",\"type\":\"LinearAxis\"}],\"center\":[{\"id\":\"1044\",\"type\":\"Grid\"},{\"id\":\"1049\",\"type\":\"Grid\"},{\"id\":\"1177\",\"type\":\"Arrow\"},{\"id\":\"1180\",\"type\":\"Arrow\"},{\"id\":\"1183\",\"type\":\"Arrow\"},{\"id\":\"1186\",\"type\":\"Arrow\"},{\"id\":\"1888\",\"type\":\"Arrow\"},{\"id\":\"1891\",\"type\":\"Arrow\"},{\"id\":\"1894\",\"type\":\"Arrow\"},{\"id\":\"1897\",\"type\":\"Arrow\"}],\"left\":[{\"id\":\"1045\",\"type\":\"LinearAxis\"}],\"plot_height\":400,\"plot_width\":400,\"renderers\":[{\"id\":\"1054\",\"type\":\"GlyphRenderer\"},{\"id\":\"1158\",\"type\":\"GlyphRenderer\"},{\"id\":\"1381\",\"type\":\"Span\"},{\"id\":\"1382\",\"type\":\"Span\"},{\"id\":\"1383\",\"type\":\"Span\"},{\"id\":\"1384\",\"type\":\"Span\"},{\"id\":\"1565\",\"type\":\"GlyphRenderer\"},{\"id\":\"1805\",\"type\":\"GlyphRenderer\"}],\"title\":{\"id\":\"1030\",\"type\":\"Title\"},\"toolbar\":{\"id\":\"1050\",\"type\":\"Toolbar\"},\"x_range\":{\"id\":\"1032\",\"type\":\"Range1d\"},\"x_scale\":{\"id\":\"1036\",\"type\":\"LinearScale\"},\"y_range\":{\"id\":\"1034\",\"type\":\"Range1d\"},\"y_scale\":{\"id\":\"1038\",\"type\":\"LinearScale\"}},\"id\":\"1029\",\"subtype\":\"Figure\",\"type\":\"Plot\"},{\"attributes\":{\"line_alpha\":{\"value\":0.1},\"line_color\":{\"value\":\"#1f77b4\"},\"line_width\":{\"value\":2},\"xs\":{\"field\":\"xs\"},\"ys\":{\"field\":\"ys\"}},\"id\":\"1804\",\"type\":\"MultiLine\"},{\"attributes\":{\"data_source\":{\"id\":\"1802\",\"type\":\"ColumnDataSource\"},\"glyph\":{\"id\":\"1803\",\"type\":\"MultiLine\"},\"hover_glyph\":null,\"muted_glyph\":null,\"nonselection_glyph\":{\"id\":\"1804\",\"type\":\"MultiLine\"},\"selection_glyph\":null,\"view\":{\"id\":\"1806\",\"type\":\"CDSView\"}},\"id\":\"1805\",\"type\":\"GlyphRenderer\"},{\"attributes\":{\"source\":{\"id\":\"1802\",\"type\":\"ColumnDataSource\"}},\"id\":\"1806\",\"type\":\"CDSView\"},{\"attributes\":{},\"id\":\"1825\",\"type\":\"UnionRenderers\"},{\"attributes\":{},\"id\":\"1060\",\"type\":\"BasicTickFormatter\"},{\"attributes\":{\"size\":10},\"id\":\"1179\",\"type\":\"VeeHead\"},{\"attributes\":{\"text\":\"Reciprocal space lattice\"},\"id\":\"1030\",\"type\":\"Title\"},{\"attributes\":{\"callback\":null,\"end\":10,\"start\":-10},\"id\":\"1032\",\"type\":\"Range1d\"},{\"attributes\":{},\"id\":\"1826\",\"type\":\"Selection\"},{\"attributes\":{\"callback\":null,\"end\":10,\"start\":-10},\"id\":\"1034\",\"type\":\"Range1d\"},{\"attributes\":{\"end\":{\"id\":\"1887\",\"type\":\"VeeHead\"},\"source\":null,\"start\":null,\"x_end\":{\"value\":3.141592653589793},\"x_start\":{\"value\":0},\"y_end\":{\"value\":3.141592653589793},\"y_start\":{\"value\":0}},\"id\":\"1888\",\"type\":\"Arrow\"},{\"attributes\":{\"size\":10},\"id\":\"1890\",\"type\":\"VeeHead\"},{\"attributes\":{},\"id\":\"1036\",\"type\":\"LinearScale\"},{\"attributes\":{\"size\":10},\"id\":\"1893\",\"type\":\"VeeHead\"},{\"attributes\":{},\"id\":\"1038\",\"type\":\"LinearScale\"},{\"attributes\":{\"end\":{\"id\":\"1890\",\"type\":\"VeeHead\"},\"source\":null,\"start\":null,\"x_end\":{\"value\":-3.141592653589793},\"x_start\":{\"value\":0},\"y_end\":{\"value\":-3.141592653589793},\"y_start\":{\"value\":0}},\"id\":\"1891\",\"type\":\"Arrow\"},{\"attributes\":{\"fill_color\":{\"value\":\"blue\"},\"line_color\":{\"value\":null},\"line_width\":{\"value\":3},\"size\":{\"units\":\"screen\",\"value\":10},\"x\":{\"field\":\"x\"},\"y\":{\"field\":\"y\"}},\"id\":\"1025\",\"type\":\"Circle\"},{\"attributes\":{\"size\":10},\"id\":\"1896\",\"type\":\"VeeHead\"},{\"attributes\":{},\"id\":\"1068\",\"type\":\"Selection\"},{\"attributes\":{\"end\":{\"id\":\"1893\",\"type\":\"VeeHead\"},\"source\":null,\"start\":null,\"x_end\":{\"value\":-3.141592653589793},\"x_start\":{\"value\":0},\"y_end\":{\"value\":3.141592653589793},\"y_start\":{\"value\":0}},\"id\":\"1894\",\"type\":\"Arrow\"},{\"attributes\":{},\"id\":\"1062\",\"type\":\"BasicTickFormatter\"},{\"attributes\":{\"formatter\":{\"id\":\"1066\",\"type\":\"BasicTickFormatter\"},\"ticker\":{\"id\":\"1041\",\"type\":\"BasicTicker\"}},\"id\":\"1040\",\"type\":\"LinearAxis\"},{\"attributes\":{\"fill_alpha\":{\"value\":0.1},\"fill_color\":{\"value\":\"#1f77b4\"},\"line_alpha\":{\"value\":0.1},\"line_color\":{\"value\":\"#1f77b4\"},\"line_width\":{\"value\":3},\"size\":{\"units\":\"screen\",\"value\":10},\"x\":{\"field\":\"x\"},\"y\":{\"field\":\"y\"}},\"id\":\"1026\",\"type\":\"Circle\"},{\"attributes\":{\"source\":{\"id\":\"1562\",\"type\":\"ColumnDataSource\"}},\"id\":\"1566\",\"type\":\"CDSView\"},{\"attributes\":{\"fill_color\":\"red\",\"line_color\":\"red\",\"line_width\":2,\"x\":{\"field\":\"x\"},\"y\":{\"field\":\"y\"}},\"id\":\"1563\",\"type\":\"Patch\"},{\"attributes\":{\"callback\":null,\"data\":{\"x\":[1.5707963267948966,1.5707963267948966,-1.5707963267948966,-1.5707963267948966,1.5707963267948966],\"y\":[1.5707963267948966,-1.5707963267948966,-1.5707963267948966,1.5707963267948966,1.5707963267948966]},\"selected\":{\"id\":\"1584\",\"type\":\"Selection\"},\"selection_policy\":{\"id\":\"1583\",\"type\":\"UnionRenderers\"}},\"id\":\"1562\",\"type\":\"ColumnDataSource\"},{\"attributes\":{\"size\":10},\"id\":\"1176\",\"type\":\"VeeHead\"},{\"attributes\":{\"callback\":null,\"data\":{\"xs\":[[3.141592653589793,-3.141592653589793],[0,0]],\"ys\":[[0,0],[3.141592653589793,-3.141592653589793]]},\"selected\":{\"id\":\"1175\",\"type\":\"Selection\"},\"selection_policy\":{\"id\":\"1174\",\"type\":\"UnionRenderers\"}},\"id\":\"1155\",\"type\":\"ColumnDataSource\"},{\"attributes\":{\"data_source\":{\"id\":\"1024\",\"type\":\"ColumnDataSource\"},\"glyph\":{\"id\":\"1025\",\"type\":\"Circle\"},\"hover_glyph\":null,\"muted_glyph\":null,\"nonselection_glyph\":{\"id\":\"1026\",\"type\":\"Circle\"},\"selection_glyph\":null,\"view\":{\"id\":\"1028\",\"type\":\"CDSView\"}},\"id\":\"1027\",\"type\":\"GlyphRenderer\"},{\"attributes\":{\"line_width\":{\"value\":2},\"xs\":{\"field\":\"xs\"},\"ys\":{\"field\":\"ys\"}},\"id\":\"1156\",\"type\":\"MultiLine\"},{\"attributes\":{\"line_alpha\":{\"value\":0.1},\"line_color\":{\"value\":\"#1f77b4\"},\"line_width\":{\"value\":2},\"xs\":{\"field\":\"xs\"},\"ys\":{\"field\":\"ys\"}},\"id\":\"1157\",\"type\":\"MultiLine\"},{\"attributes\":{\"data_source\":{\"id\":\"1155\",\"type\":\"ColumnDataSource\"},\"glyph\":{\"id\":\"1156\",\"type\":\"MultiLine\"},\"hover_glyph\":null,\"muted_glyph\":null,\"nonselection_glyph\":{\"id\":\"1157\",\"type\":\"MultiLine\"},\"selection_glyph\":null,\"view\":{\"id\":\"1159\",\"type\":\"CDSView\"},\"visible\":false},\"id\":\"1158\",\"type\":\"GlyphRenderer\"},{\"attributes\":{\"source\":{\"id\":\"1155\",\"type\":\"ColumnDataSource\"}},\"id\":\"1159\",\"type\":\"CDSView\"},{\"attributes\":{},\"id\":\"1583\",\"type\":\"UnionRenderers\"},{\"attributes\":{},\"id\":\"1174\",\"type\":\"UnionRenderers\"},{\"attributes\":{},\"id\":\"1064\",\"type\":\"BasicTickFormatter\"},{\"attributes\":{},\"id\":\"1175\",\"type\":\"Selection\"},{\"attributes\":{\"end\":{\"id\":\"1176\",\"type\":\"VeeHead\"},\"source\":null,\"start\":null,\"visible\":false,\"x_end\":{\"value\":3.141592653589793},\"x_start\":{\"value\":0},\"y_end\":{\"value\":0},\"y_start\":{\"value\":0}},\"id\":\"1177\",\"type\":\"Arrow\"},{\"attributes\":{\"size\":10},\"id\":\"1182\",\"type\":\"VeeHead\"},{\"attributes\":{\"end\":{\"id\":\"1179\",\"type\":\"VeeHead\"},\"source\":null,\"start\":null,\"visible\":false,\"x_end\":{\"value\":-3.141592653589793},\"x_start\":{\"value\":0},\"y_end\":{\"value\":0},\"y_start\":{\"value\":0}},\"id\":\"1180\",\"type\":\"Arrow\"},{\"attributes\":{\"size\":10},\"id\":\"1185\",\"type\":\"VeeHead\"},{\"attributes\":{\"end\":{\"id\":\"1182\",\"type\":\"VeeHead\"},\"source\":null,\"start\":null,\"visible\":false,\"x_end\":{\"value\":0},\"x_start\":{\"value\":0},\"y_end\":{\"value\":3.141592653589793},\"y_start\":{\"value\":0}},\"id\":\"1183\",\"type\":\"Arrow\"},{\"attributes\":{\"end\":{\"id\":\"1185\",\"type\":\"VeeHead\"},\"source\":null,\"start\":null,\"visible\":false,\"x_end\":{\"value\":0},\"x_start\":{\"value\":0},\"y_end\":{\"value\":-3.141592653589793},\"y_start\":{\"value\":0}},\"id\":\"1186\",\"type\":\"Arrow\"},{\"attributes\":{},\"id\":\"1584\",\"type\":\"Selection\"},{\"attributes\":{\"fill_alpha\":0.1,\"fill_color\":\"#1f77b4\",\"line_alpha\":0.1,\"line_color\":\"#1f77b4\",\"line_width\":2,\"x\":{\"field\":\"x\"},\"y\":{\"field\":\"y\"}},\"id\":\"1564\",\"type\":\"Patch\"},{\"attributes\":{\"data_source\":{\"id\":\"1562\",\"type\":\"ColumnDataSource\"},\"glyph\":{\"id\":\"1563\",\"type\":\"Patch\"},\"hover_glyph\":null,\"muted_glyph\":null,\"nonselection_glyph\":{\"id\":\"1564\",\"type\":\"Patch\"},\"selection_glyph\":null,\"view\":{\"id\":\"1566\",\"type\":\"CDSView\"},\"visible\":false},\"id\":\"1565\",\"type\":\"GlyphRenderer\"}],\"root_ids\":[\"2219\"]},\"title\":\"Bokeh Application\",\"version\":\"1.4.0\"}};\n",
       "  var render_items = [{\"docid\":\"11a51294-4a01-46c4-8048-35373d4af68c\",\"roots\":{\"2219\":\"62daa270-3e2f-4edb-bbe9-e771b10ebf02\"}}];\n",
       "  root.Bokeh.embed.embed_items_notebook(docs_json, render_items);\n",
       "\n",
       "  }\n",
       "  if (root.Bokeh !== undefined) {\n",
       "    embed_document(root);\n",
       "  } else {\n",
       "    var attempts = 0;\n",
       "    var timer = setInterval(function(root) {\n",
       "      if (root.Bokeh !== undefined) {\n",
       "        clearInterval(timer);\n",
       "        embed_document(root);\n",
       "      } else {\n",
       "        attempts++;\n",
       "        if (attempts > 100) {\n",
       "          clearInterval(timer);\n",
       "          console.log(\"Bokeh: ERROR: Unable to run BokehJS code because BokehJS library is missing\");\n",
       "        }\n",
       "      }\n",
       "    }, 10, root)\n",
       "  }\n",
       "})(window);"
      ],
      "application/vnd.bokehjs_exec.v0+json": ""
     },
     "metadata": {
      "application/vnd.bokehjs_exec.v0+json": {
       "id": "2219"
      }
     },
     "output_type": "display_data"
    }
   ],
   "source": [
    "# draw the reciprocal lattice vectors from the origin to the next nearst neighbours\n",
    "vec2 = img.multi_line([[-b2[0], b2[0]], [-b1[1], b1[1]]],[[b2[0], -b2[0]], [-b1[1], b1[1]]], line_width = 2, line_color = \"black\");\n",
    "arrow1 = Arrow(end = VeeHead(size = 10), x_start=0, y_start=0, x_end=b2[0], y_end=b1[1]);\n",
    "arrow2 = Arrow(end = VeeHead(size = 10), x_start=0, y_start=0, x_end=-b2[0], y_end=-b1[1]);\n",
    "arrow3 = Arrow(end = VeeHead(size = 10), x_start=0, y_start=0, x_end=-b2[0], y_end=b1[1]);\n",
    "arrow4 = Arrow(end = VeeHead(size = 10), x_start=0, y_start=0, x_end=b2[0], y_end=-b1[1]);\n",
    "img.add_layout(arrow1);\n",
    "img.add_layout(arrow2);\n",
    "img.add_layout(arrow3);\n",
    "img.add_layout(arrow4);\n",
    "show(row(real, img))"
   ]
  },
  {
   "cell_type": "code",
   "execution_count": 12,
   "metadata": {},
   "outputs": [
    {
     "data": {
      "text/html": [
       "\n",
       "\n",
       "\n",
       "\n",
       "\n",
       "\n",
       "  <div class=\"bk-root\" id=\"c87656d1-a0b2-4f7a-96d0-d15d12b30783\" data-root-id=\"2555\"></div>\n"
      ]
     },
     "metadata": {},
     "output_type": "display_data"
    },
    {
     "data": {
      "application/javascript": [
       "(function(root) {\n",
       "  function embed_document(root) {\n",
       "    \n",
       "  var docs_json = {\"70d5a895-0fbf-4442-ab34-eeb399b1f016\":{\"roots\":{\"references\":[{\"attributes\":{\"children\":[{\"id\":\"1002\",\"subtype\":\"Figure\",\"type\":\"Plot\"},{\"id\":\"1029\",\"subtype\":\"Figure\",\"type\":\"Plot\"}]},\"id\":\"2555\",\"type\":\"Row\"},{\"attributes\":{},\"id\":\"1041\",\"type\":\"BasicTicker\"},{\"attributes\":{\"ticker\":{\"id\":\"1041\",\"type\":\"BasicTicker\"}},\"id\":\"1044\",\"type\":\"Grid\"},{\"attributes\":{},\"id\":\"1069\",\"type\":\"UnionRenderers\"},{\"attributes\":{\"formatter\":{\"id\":\"1064\",\"type\":\"BasicTickFormatter\"},\"ticker\":{\"id\":\"1046\",\"type\":\"BasicTicker\"}},\"id\":\"1045\",\"type\":\"LinearAxis\"},{\"attributes\":{},\"id\":\"1070\",\"type\":\"Selection\"},{\"attributes\":{\"end\":{\"id\":\"1896\",\"type\":\"VeeHead\"},\"source\":null,\"start\":null,\"x_end\":{\"value\":3.141592653589793},\"x_start\":{\"value\":0},\"y_end\":{\"value\":-3.141592653589793},\"y_start\":{\"value\":0}},\"id\":\"1897\",\"type\":\"Arrow\"},{\"attributes\":{},\"id\":\"1046\",\"type\":\"BasicTicker\"},{\"attributes\":{},\"id\":\"1067\",\"type\":\"UnionRenderers\"},{\"attributes\":{\"line_dash\":[6],\"location\":-1.5707963267948966},\"id\":\"1384\",\"type\":\"Span\"},{\"attributes\":{\"dimension\":1,\"ticker\":{\"id\":\"1046\",\"type\":\"BasicTicker\"}},\"id\":\"1049\",\"type\":\"Grid\"},{\"attributes\":{\"active_drag\":\"auto\",\"active_inspect\":\"auto\",\"active_multi\":null,\"active_scroll\":\"auto\",\"active_tap\":\"auto\"},\"id\":\"1050\",\"type\":\"Toolbar\"},{\"attributes\":{\"callback\":null,\"data\":{\"angle\":[45,-135,135,-45,-135,45,-45,135],\"x\":[-3.141592653589793,3.141592653589793,0.0,0.0,-3.141592653589793,3.141592653589793,0.0,0.0],\"y\":[0.0,0.0,-3.141592653589793,3.141592653589793,0.0,0.0,-3.141592653589793,3.141592653589793]},\"selected\":{\"id\":\"2466\",\"type\":\"Selection\"},\"selection_policy\":{\"id\":\"2465\",\"type\":\"UnionRenderers\"}},\"id\":\"2440\",\"type\":\"ColumnDataSource\"},{\"attributes\":{\"angle\":{\"field\":\"angle\",\"units\":\"deg\"},\"length\":{\"units\":\"data\",\"value\":0},\"line_dash\":[6],\"x\":{\"field\":\"x\"},\"y\":{\"field\":\"y\"}},\"id\":\"2441\",\"type\":\"Ray\"},{\"attributes\":{},\"id\":\"1066\",\"type\":\"BasicTickFormatter\"},{\"attributes\":{\"fill_color\":{\"value\":\"red\"},\"line_color\":{\"value\":null},\"line_width\":{\"value\":3},\"size\":{\"units\":\"screen\",\"value\":10},\"x\":{\"field\":\"x\"},\"y\":{\"field\":\"y\"}},\"id\":\"1052\",\"type\":\"Circle\"},{\"attributes\":{\"fill_alpha\":{\"value\":0.1},\"fill_color\":{\"value\":\"#1f77b4\"},\"line_alpha\":{\"value\":0.1},\"line_color\":{\"value\":\"#1f77b4\"},\"line_width\":{\"value\":3},\"size\":{\"units\":\"screen\",\"value\":10},\"x\":{\"field\":\"x\"},\"y\":{\"field\":\"y\"}},\"id\":\"1053\",\"type\":\"Circle\"},{\"attributes\":{\"callback\":null,\"data\":{\"x\":{\"__ndarray__\":\"0iEzf3zZIsAYLURU+yEZwBgtRFT7IQnAAAAAAAAAAAAYLURU+yEJQBgtRFT7IRlA0iEzf3zZIkDSITN/fNkiwBgtRFT7IRnAGC1EVPshCcAAAAAAAAAAABgtRFT7IQlAGC1EVPshGUDSITN/fNkiQNIhM3982SLAGC1EVPshGcAYLURU+yEJwAAAAAAAAAAAGC1EVPshCUAYLURU+yEZQNIhM3982SJA0iEzf3zZIsAYLURU+yEZwBgtRFT7IQnAAAAAAAAAAAAYLURU+yEJQBgtRFT7IRlA0iEzf3zZIkDSITN/fNkiwBgtRFT7IRnAGC1EVPshCcAAAAAAAAAAABgtRFT7IQlAGC1EVPshGUDSITN/fNkiQNIhM3982SLAGC1EVPshGcAYLURU+yEJwAAAAAAAAAAAGC1EVPshCUAYLURU+yEZQNIhM3982SJA0iEzf3zZIsAYLURU+yEZwBgtRFT7IQnAAAAAAAAAAAAYLURU+yEJQBgtRFT7IRlA0iEzf3zZIkA=\",\"dtype\":\"float64\",\"shape\":[49]},\"y\":{\"__ndarray__\":\"0iEzf3zZIsDSITN/fNkiwNIhM3982SLA0iEzf3zZIsDSITN/fNkiwNIhM3982SLA0iEzf3zZIsAYLURU+yEZwBgtRFT7IRnAGC1EVPshGcAYLURU+yEZwBgtRFT7IRnAGC1EVPshGcAYLURU+yEZwBgtRFT7IQnAGC1EVPshCcAYLURU+yEJwBgtRFT7IQnAGC1EVPshCcAYLURU+yEJwBgtRFT7IQnAAAAAAAAAAAAAAAAAAAAAAAAAAAAAAAAAAAAAAAAAAAAAAAAAAAAAAAAAAAAAAAAAAAAAAAAAAAAYLURU+yEJQBgtRFT7IQlAGC1EVPshCUAYLURU+yEJQBgtRFT7IQlAGC1EVPshCUAYLURU+yEJQBgtRFT7IRlAGC1EVPshGUAYLURU+yEZQBgtRFT7IRlAGC1EVPshGUAYLURU+yEZQBgtRFT7IRlA0iEzf3zZIkDSITN/fNkiQNIhM3982SJA0iEzf3zZIkDSITN/fNkiQNIhM3982SJA0iEzf3zZIkA=\",\"dtype\":\"float64\",\"shape\":[49]}},\"selected\":{\"id\":\"1070\",\"type\":\"Selection\"},\"selection_policy\":{\"id\":\"1069\",\"type\":\"UnionRenderers\"}},\"id\":\"1051\",\"type\":\"ColumnDataSource\"},{\"attributes\":{\"angle\":{\"field\":\"angle\",\"units\":\"deg\"},\"length\":{\"units\":\"data\",\"value\":0},\"line_alpha\":{\"value\":0.1},\"line_color\":{\"value\":\"#1f77b4\"},\"line_dash\":[6],\"x\":{\"field\":\"x\"},\"y\":{\"field\":\"y\"}},\"id\":\"2442\",\"type\":\"Ray\"},{\"attributes\":{\"data_source\":{\"id\":\"2440\",\"type\":\"ColumnDataSource\"},\"glyph\":{\"id\":\"2441\",\"type\":\"Ray\"},\"hover_glyph\":null,\"level\":\"annotation\",\"muted_glyph\":null,\"nonselection_glyph\":{\"id\":\"2442\",\"type\":\"Ray\"},\"selection_glyph\":null,\"view\":{\"id\":\"2444\",\"type\":\"CDSView\"}},\"id\":\"2443\",\"type\":\"GlyphRenderer\"},{\"attributes\":{\"callback\":null,\"data\":{\"x\":{\"__ndarray__\":\"AAAAAAAAGMAAAAAAAAAQwAAAAAAAAADAAAAAAAAAAAAAAAAAAAAAQAAAAAAAABBAAAAAAAAAGEAAAAAAAAAYwAAAAAAAABDAAAAAAAAAAMAAAAAAAAAAAAAAAAAAAABAAAAAAAAAEEAAAAAAAAAYQAAAAAAAABjAAAAAAAAAEMAAAAAAAAAAwAAAAAAAAAAAAAAAAAAAAEAAAAAAAAAQQAAAAAAAABhAAAAAAAAAGMAAAAAAAAAQwAAAAAAAAADAAAAAAAAAAAAAAAAAAAAAQAAAAAAAABBAAAAAAAAAGEAAAAAAAAAYwAAAAAAAABDAAAAAAAAAAMAAAAAAAAAAAAAAAAAAAABAAAAAAAAAEEAAAAAAAAAYQAAAAAAAABjAAAAAAAAAEMAAAAAAAAAAwAAAAAAAAAAAAAAAAAAAAEAAAAAAAAAQQAAAAAAAABhAAAAAAAAAGMAAAAAAAAAQwAAAAAAAAADAAAAAAAAAAAAAAAAAAAAAQAAAAAAAABBAAAAAAAAAGEA=\",\"dtype\":\"float64\",\"shape\":[49]},\"y\":{\"__ndarray__\":\"AAAAAAAAGMAAAAAAAAAYwAAAAAAAABjAAAAAAAAAGMAAAAAAAAAYwAAAAAAAABjAAAAAAAAAGMAAAAAAAAAQwAAAAAAAABDAAAAAAAAAEMAAAAAAAAAQwAAAAAAAABDAAAAAAAAAEMAAAAAAAAAQwAAAAAAAAADAAAAAAAAAAMAAAAAAAAAAwAAAAAAAAADAAAAAAAAAAMAAAAAAAAAAwAAAAAAAAADAAAAAAAAAAAAAAAAAAAAAAAAAAAAAAAAAAAAAAAAAAAAAAAAAAAAAAAAAAAAAAAAAAAAAAAAAAAAAAAAAAAAAQAAAAAAAAABAAAAAAAAAAEAAAAAAAAAAQAAAAAAAAABAAAAAAAAAAEAAAAAAAAAAQAAAAAAAABBAAAAAAAAAEEAAAAAAAAAQQAAAAAAAABBAAAAAAAAAEEAAAAAAAAAQQAAAAAAAABBAAAAAAAAAGEAAAAAAAAAYQAAAAAAAABhAAAAAAAAAGEAAAAAAAAAYQAAAAAAAABhAAAAAAAAAGEA=\",\"dtype\":\"float64\",\"shape\":[49]}},\"selected\":{\"id\":\"1068\",\"type\":\"Selection\"},\"selection_policy\":{\"id\":\"1067\",\"type\":\"UnionRenderers\"}},\"id\":\"1024\",\"type\":\"ColumnDataSource\"},{\"attributes\":{\"below\":[{\"id\":\"1013\",\"type\":\"LinearAxis\"}],\"center\":[{\"id\":\"1017\",\"type\":\"Grid\"},{\"id\":\"1022\",\"type\":\"Grid\"}],\"left\":[{\"id\":\"1018\",\"type\":\"LinearAxis\"}],\"plot_height\":400,\"plot_width\":400,\"renderers\":[{\"id\":\"1027\",\"type\":\"GlyphRenderer\"}],\"title\":{\"id\":\"1003\",\"type\":\"Title\"},\"toolbar\":{\"id\":\"1023\",\"type\":\"Toolbar\"},\"x_range\":{\"id\":\"1005\",\"type\":\"Range1d\"},\"x_scale\":{\"id\":\"1009\",\"type\":\"LinearScale\"},\"y_range\":{\"id\":\"1007\",\"type\":\"Range1d\"},\"y_scale\":{\"id\":\"1011\",\"type\":\"LinearScale\"}},\"id\":\"1002\",\"subtype\":\"Figure\",\"type\":\"Plot\"},{\"attributes\":{\"data_source\":{\"id\":\"1051\",\"type\":\"ColumnDataSource\"},\"glyph\":{\"id\":\"1052\",\"type\":\"Circle\"},\"hover_glyph\":null,\"muted_glyph\":null,\"nonselection_glyph\":{\"id\":\"1053\",\"type\":\"Circle\"},\"selection_glyph\":null,\"view\":{\"id\":\"1055\",\"type\":\"CDSView\"}},\"id\":\"1054\",\"type\":\"GlyphRenderer\"},{\"attributes\":{},\"id\":\"2465\",\"type\":\"UnionRenderers\"},{\"attributes\":{\"source\":{\"id\":\"1051\",\"type\":\"ColumnDataSource\"}},\"id\":\"1055\",\"type\":\"CDSView\"},{\"attributes\":{\"source\":{\"id\":\"2440\",\"type\":\"ColumnDataSource\"}},\"id\":\"2444\",\"type\":\"CDSView\"},{\"attributes\":{\"text\":\"Real space lattice\"},\"id\":\"1003\",\"type\":\"Title\"},{\"attributes\":{\"callback\":null,\"end\":10,\"start\":-10},\"id\":\"1005\",\"type\":\"Range1d\"},{\"attributes\":{\"callback\":null,\"end\":10,\"start\":-10},\"id\":\"1007\",\"type\":\"Range1d\"},{\"attributes\":{},\"id\":\"2466\",\"type\":\"Selection\"},{\"attributes\":{},\"id\":\"1009\",\"type\":\"LinearScale\"},{\"attributes\":{},\"id\":\"1011\",\"type\":\"LinearScale\"},{\"attributes\":{\"source\":{\"id\":\"1024\",\"type\":\"ColumnDataSource\"}},\"id\":\"1028\",\"type\":\"CDSView\"},{\"attributes\":{\"formatter\":{\"id\":\"1062\",\"type\":\"BasicTickFormatter\"},\"ticker\":{\"id\":\"1014\",\"type\":\"BasicTicker\"}},\"id\":\"1013\",\"type\":\"LinearAxis\"},{\"attributes\":{},\"id\":\"1014\",\"type\":\"BasicTicker\"},{\"attributes\":{\"ticker\":{\"id\":\"1014\",\"type\":\"BasicTicker\"}},\"id\":\"1017\",\"type\":\"Grid\"},{\"attributes\":{\"formatter\":{\"id\":\"1060\",\"type\":\"BasicTickFormatter\"},\"ticker\":{\"id\":\"1019\",\"type\":\"BasicTicker\"}},\"id\":\"1018\",\"type\":\"LinearAxis\"},{\"attributes\":{},\"id\":\"1019\",\"type\":\"BasicTicker\"},{\"attributes\":{\"dimension\":\"height\",\"line_dash\":[6],\"location\":-1.5707963267948966},\"id\":\"1382\",\"type\":\"Span\"},{\"attributes\":{\"dimension\":\"height\",\"line_dash\":[6],\"location\":1.5707963267948966},\"id\":\"1381\",\"type\":\"Span\"},{\"attributes\":{\"dimension\":1,\"ticker\":{\"id\":\"1019\",\"type\":\"BasicTicker\"}},\"id\":\"1022\",\"type\":\"Grid\"},{\"attributes\":{\"size\":10},\"id\":\"1887\",\"type\":\"VeeHead\"},{\"attributes\":{\"line_dash\":[6],\"location\":1.5707963267948966},\"id\":\"1383\",\"type\":\"Span\"},{\"attributes\":{\"callback\":null,\"data\":{\"xs\":[[-3.141592653589793,3.141592653589793],[-3.141592653589793,3.141592653589793]],\"ys\":[[3.141592653589793,-3.141592653589793],[-3.141592653589793,3.141592653589793]]},\"selected\":{\"id\":\"1826\",\"type\":\"Selection\"},\"selection_policy\":{\"id\":\"1825\",\"type\":\"UnionRenderers\"}},\"id\":\"1802\",\"type\":\"ColumnDataSource\"},{\"attributes\":{\"active_drag\":\"auto\",\"active_inspect\":\"auto\",\"active_multi\":null,\"active_scroll\":\"auto\",\"active_tap\":\"auto\"},\"id\":\"1023\",\"type\":\"Toolbar\"},{\"attributes\":{\"line_width\":{\"value\":2},\"xs\":{\"field\":\"xs\"},\"ys\":{\"field\":\"ys\"}},\"id\":\"1803\",\"type\":\"MultiLine\"},{\"attributes\":{\"below\":[{\"id\":\"1040\",\"type\":\"LinearAxis\"}],\"center\":[{\"id\":\"1044\",\"type\":\"Grid\"},{\"id\":\"1049\",\"type\":\"Grid\"},{\"id\":\"1177\",\"type\":\"Arrow\"},{\"id\":\"1180\",\"type\":\"Arrow\"},{\"id\":\"1183\",\"type\":\"Arrow\"},{\"id\":\"1186\",\"type\":\"Arrow\"},{\"id\":\"1888\",\"type\":\"Arrow\"},{\"id\":\"1891\",\"type\":\"Arrow\"},{\"id\":\"1894\",\"type\":\"Arrow\"},{\"id\":\"1897\",\"type\":\"Arrow\"}],\"left\":[{\"id\":\"1045\",\"type\":\"LinearAxis\"}],\"plot_height\":400,\"plot_width\":400,\"renderers\":[{\"id\":\"1054\",\"type\":\"GlyphRenderer\"},{\"id\":\"1158\",\"type\":\"GlyphRenderer\"},{\"id\":\"1381\",\"type\":\"Span\"},{\"id\":\"1382\",\"type\":\"Span\"},{\"id\":\"1383\",\"type\":\"Span\"},{\"id\":\"1384\",\"type\":\"Span\"},{\"id\":\"1565\",\"type\":\"GlyphRenderer\"},{\"id\":\"1805\",\"type\":\"GlyphRenderer\"},{\"id\":\"2443\",\"type\":\"GlyphRenderer\"}],\"title\":{\"id\":\"1030\",\"type\":\"Title\"},\"toolbar\":{\"id\":\"1050\",\"type\":\"Toolbar\"},\"x_range\":{\"id\":\"1032\",\"type\":\"Range1d\"},\"x_scale\":{\"id\":\"1036\",\"type\":\"LinearScale\"},\"y_range\":{\"id\":\"1034\",\"type\":\"Range1d\"},\"y_scale\":{\"id\":\"1038\",\"type\":\"LinearScale\"}},\"id\":\"1029\",\"subtype\":\"Figure\",\"type\":\"Plot\"},{\"attributes\":{\"line_alpha\":{\"value\":0.1},\"line_color\":{\"value\":\"#1f77b4\"},\"line_width\":{\"value\":2},\"xs\":{\"field\":\"xs\"},\"ys\":{\"field\":\"ys\"}},\"id\":\"1804\",\"type\":\"MultiLine\"},{\"attributes\":{\"data_source\":{\"id\":\"1802\",\"type\":\"ColumnDataSource\"},\"glyph\":{\"id\":\"1803\",\"type\":\"MultiLine\"},\"hover_glyph\":null,\"muted_glyph\":null,\"nonselection_glyph\":{\"id\":\"1804\",\"type\":\"MultiLine\"},\"selection_glyph\":null,\"view\":{\"id\":\"1806\",\"type\":\"CDSView\"}},\"id\":\"1805\",\"type\":\"GlyphRenderer\"},{\"attributes\":{\"source\":{\"id\":\"1802\",\"type\":\"ColumnDataSource\"}},\"id\":\"1806\",\"type\":\"CDSView\"},{\"attributes\":{},\"id\":\"1825\",\"type\":\"UnionRenderers\"},{\"attributes\":{},\"id\":\"1060\",\"type\":\"BasicTickFormatter\"},{\"attributes\":{\"size\":10},\"id\":\"1179\",\"type\":\"VeeHead\"},{\"attributes\":{\"text\":\"Reciprocal space lattice\"},\"id\":\"1030\",\"type\":\"Title\"},{\"attributes\":{\"callback\":null,\"end\":10,\"start\":-10},\"id\":\"1032\",\"type\":\"Range1d\"},{\"attributes\":{},\"id\":\"1826\",\"type\":\"Selection\"},{\"attributes\":{\"callback\":null,\"end\":10,\"start\":-10},\"id\":\"1034\",\"type\":\"Range1d\"},{\"attributes\":{\"end\":{\"id\":\"1887\",\"type\":\"VeeHead\"},\"source\":null,\"start\":null,\"x_end\":{\"value\":3.141592653589793},\"x_start\":{\"value\":0},\"y_end\":{\"value\":3.141592653589793},\"y_start\":{\"value\":0}},\"id\":\"1888\",\"type\":\"Arrow\"},{\"attributes\":{\"size\":10},\"id\":\"1890\",\"type\":\"VeeHead\"},{\"attributes\":{},\"id\":\"1036\",\"type\":\"LinearScale\"},{\"attributes\":{\"size\":10},\"id\":\"1893\",\"type\":\"VeeHead\"},{\"attributes\":{},\"id\":\"1038\",\"type\":\"LinearScale\"},{\"attributes\":{\"end\":{\"id\":\"1890\",\"type\":\"VeeHead\"},\"source\":null,\"start\":null,\"x_end\":{\"value\":-3.141592653589793},\"x_start\":{\"value\":0},\"y_end\":{\"value\":-3.141592653589793},\"y_start\":{\"value\":0}},\"id\":\"1891\",\"type\":\"Arrow\"},{\"attributes\":{\"fill_color\":{\"value\":\"blue\"},\"line_color\":{\"value\":null},\"line_width\":{\"value\":3},\"size\":{\"units\":\"screen\",\"value\":10},\"x\":{\"field\":\"x\"},\"y\":{\"field\":\"y\"}},\"id\":\"1025\",\"type\":\"Circle\"},{\"attributes\":{\"size\":10},\"id\":\"1896\",\"type\":\"VeeHead\"},{\"attributes\":{},\"id\":\"1068\",\"type\":\"Selection\"},{\"attributes\":{\"end\":{\"id\":\"1893\",\"type\":\"VeeHead\"},\"source\":null,\"start\":null,\"x_end\":{\"value\":-3.141592653589793},\"x_start\":{\"value\":0},\"y_end\":{\"value\":3.141592653589793},\"y_start\":{\"value\":0}},\"id\":\"1894\",\"type\":\"Arrow\"},{\"attributes\":{},\"id\":\"1062\",\"type\":\"BasicTickFormatter\"},{\"attributes\":{\"formatter\":{\"id\":\"1066\",\"type\":\"BasicTickFormatter\"},\"ticker\":{\"id\":\"1041\",\"type\":\"BasicTicker\"}},\"id\":\"1040\",\"type\":\"LinearAxis\"},{\"attributes\":{\"fill_alpha\":{\"value\":0.1},\"fill_color\":{\"value\":\"#1f77b4\"},\"line_alpha\":{\"value\":0.1},\"line_color\":{\"value\":\"#1f77b4\"},\"line_width\":{\"value\":3},\"size\":{\"units\":\"screen\",\"value\":10},\"x\":{\"field\":\"x\"},\"y\":{\"field\":\"y\"}},\"id\":\"1026\",\"type\":\"Circle\"},{\"attributes\":{\"source\":{\"id\":\"1562\",\"type\":\"ColumnDataSource\"}},\"id\":\"1566\",\"type\":\"CDSView\"},{\"attributes\":{\"fill_color\":\"red\",\"line_color\":\"red\",\"line_width\":2,\"x\":{\"field\":\"x\"},\"y\":{\"field\":\"y\"}},\"id\":\"1563\",\"type\":\"Patch\"},{\"attributes\":{\"callback\":null,\"data\":{\"x\":[1.5707963267948966,1.5707963267948966,-1.5707963267948966,-1.5707963267948966,1.5707963267948966],\"y\":[1.5707963267948966,-1.5707963267948966,-1.5707963267948966,1.5707963267948966,1.5707963267948966]},\"selected\":{\"id\":\"1584\",\"type\":\"Selection\"},\"selection_policy\":{\"id\":\"1583\",\"type\":\"UnionRenderers\"}},\"id\":\"1562\",\"type\":\"ColumnDataSource\"},{\"attributes\":{\"size\":10},\"id\":\"1176\",\"type\":\"VeeHead\"},{\"attributes\":{\"callback\":null,\"data\":{\"xs\":[[3.141592653589793,-3.141592653589793],[0,0]],\"ys\":[[0,0],[3.141592653589793,-3.141592653589793]]},\"selected\":{\"id\":\"1175\",\"type\":\"Selection\"},\"selection_policy\":{\"id\":\"1174\",\"type\":\"UnionRenderers\"}},\"id\":\"1155\",\"type\":\"ColumnDataSource\"},{\"attributes\":{\"data_source\":{\"id\":\"1024\",\"type\":\"ColumnDataSource\"},\"glyph\":{\"id\":\"1025\",\"type\":\"Circle\"},\"hover_glyph\":null,\"muted_glyph\":null,\"nonselection_glyph\":{\"id\":\"1026\",\"type\":\"Circle\"},\"selection_glyph\":null,\"view\":{\"id\":\"1028\",\"type\":\"CDSView\"}},\"id\":\"1027\",\"type\":\"GlyphRenderer\"},{\"attributes\":{\"line_width\":{\"value\":2},\"xs\":{\"field\":\"xs\"},\"ys\":{\"field\":\"ys\"}},\"id\":\"1156\",\"type\":\"MultiLine\"},{\"attributes\":{\"line_alpha\":{\"value\":0.1},\"line_color\":{\"value\":\"#1f77b4\"},\"line_width\":{\"value\":2},\"xs\":{\"field\":\"xs\"},\"ys\":{\"field\":\"ys\"}},\"id\":\"1157\",\"type\":\"MultiLine\"},{\"attributes\":{\"data_source\":{\"id\":\"1155\",\"type\":\"ColumnDataSource\"},\"glyph\":{\"id\":\"1156\",\"type\":\"MultiLine\"},\"hover_glyph\":null,\"muted_glyph\":null,\"nonselection_glyph\":{\"id\":\"1157\",\"type\":\"MultiLine\"},\"selection_glyph\":null,\"view\":{\"id\":\"1159\",\"type\":\"CDSView\"},\"visible\":false},\"id\":\"1158\",\"type\":\"GlyphRenderer\"},{\"attributes\":{\"source\":{\"id\":\"1155\",\"type\":\"ColumnDataSource\"}},\"id\":\"1159\",\"type\":\"CDSView\"},{\"attributes\":{},\"id\":\"1583\",\"type\":\"UnionRenderers\"},{\"attributes\":{},\"id\":\"1174\",\"type\":\"UnionRenderers\"},{\"attributes\":{},\"id\":\"1064\",\"type\":\"BasicTickFormatter\"},{\"attributes\":{},\"id\":\"1175\",\"type\":\"Selection\"},{\"attributes\":{\"end\":{\"id\":\"1176\",\"type\":\"VeeHead\"},\"source\":null,\"start\":null,\"visible\":false,\"x_end\":{\"value\":3.141592653589793},\"x_start\":{\"value\":0},\"y_end\":{\"value\":0},\"y_start\":{\"value\":0}},\"id\":\"1177\",\"type\":\"Arrow\"},{\"attributes\":{\"size\":10},\"id\":\"1182\",\"type\":\"VeeHead\"},{\"attributes\":{\"end\":{\"id\":\"1179\",\"type\":\"VeeHead\"},\"source\":null,\"start\":null,\"visible\":false,\"x_end\":{\"value\":-3.141592653589793},\"x_start\":{\"value\":0},\"y_end\":{\"value\":0},\"y_start\":{\"value\":0}},\"id\":\"1180\",\"type\":\"Arrow\"},{\"attributes\":{\"size\":10},\"id\":\"1185\",\"type\":\"VeeHead\"},{\"attributes\":{\"end\":{\"id\":\"1182\",\"type\":\"VeeHead\"},\"source\":null,\"start\":null,\"visible\":false,\"x_end\":{\"value\":0},\"x_start\":{\"value\":0},\"y_end\":{\"value\":3.141592653589793},\"y_start\":{\"value\":0}},\"id\":\"1183\",\"type\":\"Arrow\"},{\"attributes\":{\"end\":{\"id\":\"1185\",\"type\":\"VeeHead\"},\"source\":null,\"start\":null,\"visible\":false,\"x_end\":{\"value\":0},\"x_start\":{\"value\":0},\"y_end\":{\"value\":-3.141592653589793},\"y_start\":{\"value\":0}},\"id\":\"1186\",\"type\":\"Arrow\"},{\"attributes\":{},\"id\":\"1584\",\"type\":\"Selection\"},{\"attributes\":{\"fill_alpha\":0.1,\"fill_color\":\"#1f77b4\",\"line_alpha\":0.1,\"line_color\":\"#1f77b4\",\"line_width\":2,\"x\":{\"field\":\"x\"},\"y\":{\"field\":\"y\"}},\"id\":\"1564\",\"type\":\"Patch\"},{\"attributes\":{\"data_source\":{\"id\":\"1562\",\"type\":\"ColumnDataSource\"},\"glyph\":{\"id\":\"1563\",\"type\":\"Patch\"},\"hover_glyph\":null,\"muted_glyph\":null,\"nonselection_glyph\":{\"id\":\"1564\",\"type\":\"Patch\"},\"selection_glyph\":null,\"view\":{\"id\":\"1566\",\"type\":\"CDSView\"},\"visible\":false},\"id\":\"1565\",\"type\":\"GlyphRenderer\"}],\"root_ids\":[\"2555\"]},\"title\":\"Bokeh Application\",\"version\":\"1.4.0\"}};\n",
       "  var render_items = [{\"docid\":\"70d5a895-0fbf-4442-ab34-eeb399b1f016\",\"roots\":{\"2555\":\"c87656d1-a0b2-4f7a-96d0-d15d12b30783\"}}];\n",
       "  root.Bokeh.embed.embed_items_notebook(docs_json, render_items);\n",
       "\n",
       "  }\n",
       "  if (root.Bokeh !== undefined) {\n",
       "    embed_document(root);\n",
       "  } else {\n",
       "    var attempts = 0;\n",
       "    var timer = setInterval(function(root) {\n",
       "      if (root.Bokeh !== undefined) {\n",
       "        clearInterval(timer);\n",
       "        embed_document(root);\n",
       "      } else {\n",
       "        attempts++;\n",
       "        if (attempts > 100) {\n",
       "          clearInterval(timer);\n",
       "          console.log(\"Bokeh: ERROR: Unable to run BokehJS code because BokehJS library is missing\");\n",
       "        }\n",
       "      }\n",
       "    }, 10, root)\n",
       "  }\n",
       "})(window);"
      ],
      "application/vnd.bokehjs_exec.v0+json": ""
     },
     "metadata": {
      "application/vnd.bokehjs_exec.v0+json": {
       "id": "2555"
      }
     },
     "output_type": "display_data"
    }
   ],
   "source": [
    "# construct bragg planes for the second brillouin zone\n",
    "bragg2 = img.ray(x = [-b2[0], b2[0], b2[1], b2[1], -b2[0], b2[0], b2[1], b2[1]], y = [b1[0], b1[0], -b1[1], b1[1], b1[0], b1[0], -b1[1], b1[1]], length = 0, angle = [45, -135, 135, -45, -135, 45, -45, 135], angle_units = \"deg\", color = \"black\", line_width = 1, line_dash = \"dashed\");\n",
    "bragg2.level = \"annotation\";\n",
    "show(row(real, img))"
   ]
  },
  {
   "cell_type": "code",
   "execution_count": 13,
   "metadata": {},
   "outputs": [
    {
     "data": {
      "text/html": [
       "\n",
       "\n",
       "\n",
       "\n",
       "\n",
       "\n",
       "  <div class=\"bk-root\" id=\"39b8e09c-b446-44cc-873c-df5358d0f9d9\" data-root-id=\"2969\"></div>\n"
      ]
     },
     "metadata": {},
     "output_type": "display_data"
    },
    {
     "data": {
      "application/javascript": [
       "(function(root) {\n",
       "  function embed_document(root) {\n",
       "    \n",
       "  var docs_json = {\"d83b7bc5-33aa-4cab-b72c-7e7dd3bdedd2\":{\"roots\":{\"references\":[{\"attributes\":{\"children\":[{\"id\":\"1002\",\"subtype\":\"Figure\",\"type\":\"Plot\"},{\"id\":\"1029\",\"subtype\":\"Figure\",\"type\":\"Plot\"}]},\"id\":\"2969\",\"type\":\"Row\"},{\"attributes\":{},\"id\":\"1041\",\"type\":\"BasicTicker\"},{\"attributes\":{\"ticker\":{\"id\":\"1041\",\"type\":\"BasicTicker\"}},\"id\":\"1044\",\"type\":\"Grid\"},{\"attributes\":{},\"id\":\"1069\",\"type\":\"UnionRenderers\"},{\"attributes\":{\"formatter\":{\"id\":\"1064\",\"type\":\"BasicTickFormatter\"},\"ticker\":{\"id\":\"1046\",\"type\":\"BasicTicker\"}},\"id\":\"1045\",\"type\":\"LinearAxis\"},{\"attributes\":{},\"id\":\"1070\",\"type\":\"Selection\"},{\"attributes\":{\"end\":{\"id\":\"1896\",\"type\":\"VeeHead\"},\"source\":null,\"start\":null,\"x_end\":{\"value\":3.141592653589793},\"x_start\":{\"value\":0},\"y_end\":{\"value\":-3.141592653589793},\"y_start\":{\"value\":0}},\"id\":\"1897\",\"type\":\"Arrow\"},{\"attributes\":{},\"id\":\"1046\",\"type\":\"BasicTicker\"},{\"attributes\":{},\"id\":\"1067\",\"type\":\"UnionRenderers\"},{\"attributes\":{\"line_dash\":[6],\"location\":-1.5707963267948966},\"id\":\"1384\",\"type\":\"Span\"},{\"attributes\":{\"dimension\":1,\"ticker\":{\"id\":\"1046\",\"type\":\"BasicTicker\"}},\"id\":\"1049\",\"type\":\"Grid\"},{\"attributes\":{\"active_drag\":\"auto\",\"active_inspect\":\"auto\",\"active_multi\":null,\"active_scroll\":\"auto\",\"active_tap\":\"auto\"},\"id\":\"1050\",\"type\":\"Toolbar\"},{\"attributes\":{\"callback\":null,\"data\":{\"angle\":[45,-135,135,-45,-135,45,-45,135],\"x\":[-3.141592653589793,3.141592653589793,0.0,0.0,-3.141592653589793,3.141592653589793,0.0,0.0],\"y\":[0.0,0.0,-3.141592653589793,3.141592653589793,0.0,0.0,-3.141592653589793,3.141592653589793]},\"selected\":{\"id\":\"2466\",\"type\":\"Selection\"},\"selection_policy\":{\"id\":\"2465\",\"type\":\"UnionRenderers\"}},\"id\":\"2440\",\"type\":\"ColumnDataSource\"},{\"attributes\":{\"angle\":{\"field\":\"angle\",\"units\":\"deg\"},\"length\":{\"units\":\"data\",\"value\":0},\"line_dash\":[6],\"x\":{\"field\":\"x\"},\"y\":{\"field\":\"y\"}},\"id\":\"2441\",\"type\":\"Ray\"},{\"attributes\":{},\"id\":\"1066\",\"type\":\"BasicTickFormatter\"},{\"attributes\":{\"fill_color\":{\"value\":\"red\"},\"line_color\":{\"value\":null},\"line_width\":{\"value\":3},\"size\":{\"units\":\"screen\",\"value\":10},\"x\":{\"field\":\"x\"},\"y\":{\"field\":\"y\"}},\"id\":\"1052\",\"type\":\"Circle\"},{\"attributes\":{\"fill_alpha\":{\"value\":0.1},\"fill_color\":{\"value\":\"#1f77b4\"},\"line_alpha\":{\"value\":0.1},\"line_color\":{\"value\":\"#1f77b4\"},\"line_width\":{\"value\":3},\"size\":{\"units\":\"screen\",\"value\":10},\"x\":{\"field\":\"x\"},\"y\":{\"field\":\"y\"}},\"id\":\"1053\",\"type\":\"Circle\"},{\"attributes\":{\"callback\":null,\"data\":{\"x\":{\"__ndarray__\":\"0iEzf3zZIsAYLURU+yEZwBgtRFT7IQnAAAAAAAAAAAAYLURU+yEJQBgtRFT7IRlA0iEzf3zZIkDSITN/fNkiwBgtRFT7IRnAGC1EVPshCcAAAAAAAAAAABgtRFT7IQlAGC1EVPshGUDSITN/fNkiQNIhM3982SLAGC1EVPshGcAYLURU+yEJwAAAAAAAAAAAGC1EVPshCUAYLURU+yEZQNIhM3982SJA0iEzf3zZIsAYLURU+yEZwBgtRFT7IQnAAAAAAAAAAAAYLURU+yEJQBgtRFT7IRlA0iEzf3zZIkDSITN/fNkiwBgtRFT7IRnAGC1EVPshCcAAAAAAAAAAABgtRFT7IQlAGC1EVPshGUDSITN/fNkiQNIhM3982SLAGC1EVPshGcAYLURU+yEJwAAAAAAAAAAAGC1EVPshCUAYLURU+yEZQNIhM3982SJA0iEzf3zZIsAYLURU+yEZwBgtRFT7IQnAAAAAAAAAAAAYLURU+yEJQBgtRFT7IRlA0iEzf3zZIkA=\",\"dtype\":\"float64\",\"shape\":[49]},\"y\":{\"__ndarray__\":\"0iEzf3zZIsDSITN/fNkiwNIhM3982SLA0iEzf3zZIsDSITN/fNkiwNIhM3982SLA0iEzf3zZIsAYLURU+yEZwBgtRFT7IRnAGC1EVPshGcAYLURU+yEZwBgtRFT7IRnAGC1EVPshGcAYLURU+yEZwBgtRFT7IQnAGC1EVPshCcAYLURU+yEJwBgtRFT7IQnAGC1EVPshCcAYLURU+yEJwBgtRFT7IQnAAAAAAAAAAAAAAAAAAAAAAAAAAAAAAAAAAAAAAAAAAAAAAAAAAAAAAAAAAAAAAAAAAAAAAAAAAAAYLURU+yEJQBgtRFT7IQlAGC1EVPshCUAYLURU+yEJQBgtRFT7IQlAGC1EVPshCUAYLURU+yEJQBgtRFT7IRlAGC1EVPshGUAYLURU+yEZQBgtRFT7IRlAGC1EVPshGUAYLURU+yEZQBgtRFT7IRlA0iEzf3zZIkDSITN/fNkiQNIhM3982SJA0iEzf3zZIkDSITN/fNkiQNIhM3982SJA0iEzf3zZIkA=\",\"dtype\":\"float64\",\"shape\":[49]}},\"selected\":{\"id\":\"1070\",\"type\":\"Selection\"},\"selection_policy\":{\"id\":\"1069\",\"type\":\"UnionRenderers\"}},\"id\":\"1051\",\"type\":\"ColumnDataSource\"},{\"attributes\":{\"angle\":{\"field\":\"angle\",\"units\":\"deg\"},\"length\":{\"units\":\"data\",\"value\":0},\"line_alpha\":{\"value\":0.1},\"line_color\":{\"value\":\"#1f77b4\"},\"line_dash\":[6],\"x\":{\"field\":\"x\"},\"y\":{\"field\":\"y\"}},\"id\":\"2442\",\"type\":\"Ray\"},{\"attributes\":{\"data_source\":{\"id\":\"2440\",\"type\":\"ColumnDataSource\"},\"glyph\":{\"id\":\"2441\",\"type\":\"Ray\"},\"hover_glyph\":null,\"level\":\"annotation\",\"muted_glyph\":null,\"nonselection_glyph\":{\"id\":\"2442\",\"type\":\"Ray\"},\"selection_glyph\":null,\"view\":{\"id\":\"2444\",\"type\":\"CDSView\"}},\"id\":\"2443\",\"type\":\"GlyphRenderer\"},{\"attributes\":{\"callback\":null,\"data\":{\"x\":{\"__ndarray__\":\"AAAAAAAAGMAAAAAAAAAQwAAAAAAAAADAAAAAAAAAAAAAAAAAAAAAQAAAAAAAABBAAAAAAAAAGEAAAAAAAAAYwAAAAAAAABDAAAAAAAAAAMAAAAAAAAAAAAAAAAAAAABAAAAAAAAAEEAAAAAAAAAYQAAAAAAAABjAAAAAAAAAEMAAAAAAAAAAwAAAAAAAAAAAAAAAAAAAAEAAAAAAAAAQQAAAAAAAABhAAAAAAAAAGMAAAAAAAAAQwAAAAAAAAADAAAAAAAAAAAAAAAAAAAAAQAAAAAAAABBAAAAAAAAAGEAAAAAAAAAYwAAAAAAAABDAAAAAAAAAAMAAAAAAAAAAAAAAAAAAAABAAAAAAAAAEEAAAAAAAAAYQAAAAAAAABjAAAAAAAAAEMAAAAAAAAAAwAAAAAAAAAAAAAAAAAAAAEAAAAAAAAAQQAAAAAAAABhAAAAAAAAAGMAAAAAAAAAQwAAAAAAAAADAAAAAAAAAAAAAAAAAAAAAQAAAAAAAABBAAAAAAAAAGEA=\",\"dtype\":\"float64\",\"shape\":[49]},\"y\":{\"__ndarray__\":\"AAAAAAAAGMAAAAAAAAAYwAAAAAAAABjAAAAAAAAAGMAAAAAAAAAYwAAAAAAAABjAAAAAAAAAGMAAAAAAAAAQwAAAAAAAABDAAAAAAAAAEMAAAAAAAAAQwAAAAAAAABDAAAAAAAAAEMAAAAAAAAAQwAAAAAAAAADAAAAAAAAAAMAAAAAAAAAAwAAAAAAAAADAAAAAAAAAAMAAAAAAAAAAwAAAAAAAAADAAAAAAAAAAAAAAAAAAAAAAAAAAAAAAAAAAAAAAAAAAAAAAAAAAAAAAAAAAAAAAAAAAAAAAAAAAAAAAAAAAAAAQAAAAAAAAABAAAAAAAAAAEAAAAAAAAAAQAAAAAAAAABAAAAAAAAAAEAAAAAAAAAAQAAAAAAAABBAAAAAAAAAEEAAAAAAAAAQQAAAAAAAABBAAAAAAAAAEEAAAAAAAAAQQAAAAAAAABBAAAAAAAAAGEAAAAAAAAAYQAAAAAAAABhAAAAAAAAAGEAAAAAAAAAYQAAAAAAAABhAAAAAAAAAGEA=\",\"dtype\":\"float64\",\"shape\":[49]}},\"selected\":{\"id\":\"1068\",\"type\":\"Selection\"},\"selection_policy\":{\"id\":\"1067\",\"type\":\"UnionRenderers\"}},\"id\":\"1024\",\"type\":\"ColumnDataSource\"},{\"attributes\":{\"below\":[{\"id\":\"1013\",\"type\":\"LinearAxis\"}],\"center\":[{\"id\":\"1017\",\"type\":\"Grid\"},{\"id\":\"1022\",\"type\":\"Grid\"}],\"left\":[{\"id\":\"1018\",\"type\":\"LinearAxis\"}],\"plot_height\":400,\"plot_width\":400,\"renderers\":[{\"id\":\"1027\",\"type\":\"GlyphRenderer\"}],\"title\":{\"id\":\"1003\",\"type\":\"Title\"},\"toolbar\":{\"id\":\"1023\",\"type\":\"Toolbar\"},\"x_range\":{\"id\":\"1005\",\"type\":\"Range1d\"},\"x_scale\":{\"id\":\"1009\",\"type\":\"LinearScale\"},\"y_range\":{\"id\":\"1007\",\"type\":\"Range1d\"},\"y_scale\":{\"id\":\"1011\",\"type\":\"LinearScale\"}},\"id\":\"1002\",\"subtype\":\"Figure\",\"type\":\"Plot\"},{\"attributes\":{\"data_source\":{\"id\":\"1051\",\"type\":\"ColumnDataSource\"},\"glyph\":{\"id\":\"1052\",\"type\":\"Circle\"},\"hover_glyph\":null,\"muted_glyph\":null,\"nonselection_glyph\":{\"id\":\"1053\",\"type\":\"Circle\"},\"selection_glyph\":null,\"view\":{\"id\":\"1055\",\"type\":\"CDSView\"}},\"id\":\"1054\",\"type\":\"GlyphRenderer\"},{\"attributes\":{},\"id\":\"2465\",\"type\":\"UnionRenderers\"},{\"attributes\":{\"source\":{\"id\":\"1051\",\"type\":\"ColumnDataSource\"}},\"id\":\"1055\",\"type\":\"CDSView\"},{\"attributes\":{\"source\":{\"id\":\"2440\",\"type\":\"ColumnDataSource\"}},\"id\":\"2444\",\"type\":\"CDSView\"},{\"attributes\":{\"text\":\"Real space lattice\"},\"id\":\"1003\",\"type\":\"Title\"},{\"attributes\":{\"callback\":null,\"end\":10,\"start\":-10},\"id\":\"1005\",\"type\":\"Range1d\"},{\"attributes\":{\"callback\":null,\"end\":10,\"start\":-10},\"id\":\"1007\",\"type\":\"Range1d\"},{\"attributes\":{},\"id\":\"2466\",\"type\":\"Selection\"},{\"attributes\":{},\"id\":\"1009\",\"type\":\"LinearScale\"},{\"attributes\":{},\"id\":\"1011\",\"type\":\"LinearScale\"},{\"attributes\":{\"source\":{\"id\":\"1024\",\"type\":\"ColumnDataSource\"}},\"id\":\"1028\",\"type\":\"CDSView\"},{\"attributes\":{\"formatter\":{\"id\":\"1062\",\"type\":\"BasicTickFormatter\"},\"ticker\":{\"id\":\"1014\",\"type\":\"BasicTicker\"}},\"id\":\"1013\",\"type\":\"LinearAxis\"},{\"attributes\":{},\"id\":\"2847\",\"type\":\"UnionRenderers\"},{\"attributes\":{},\"id\":\"1014\",\"type\":\"BasicTicker\"},{\"attributes\":{},\"id\":\"2848\",\"type\":\"Selection\"},{\"attributes\":{\"ticker\":{\"id\":\"1014\",\"type\":\"BasicTicker\"}},\"id\":\"1017\",\"type\":\"Grid\"},{\"attributes\":{\"formatter\":{\"id\":\"1060\",\"type\":\"BasicTickFormatter\"},\"ticker\":{\"id\":\"1019\",\"type\":\"BasicTicker\"}},\"id\":\"1018\",\"type\":\"LinearAxis\"},{\"attributes\":{},\"id\":\"1019\",\"type\":\"BasicTicker\"},{\"attributes\":{\"dimension\":\"height\",\"line_dash\":[6],\"location\":-1.5707963267948966},\"id\":\"1382\",\"type\":\"Span\"},{\"attributes\":{\"dimension\":\"height\",\"line_dash\":[6],\"location\":1.5707963267948966},\"id\":\"1381\",\"type\":\"Span\"},{\"attributes\":{\"dimension\":1,\"ticker\":{\"id\":\"1019\",\"type\":\"BasicTicker\"}},\"id\":\"1022\",\"type\":\"Grid\"},{\"attributes\":{\"size\":10},\"id\":\"1887\",\"type\":\"VeeHead\"},{\"attributes\":{\"line_dash\":[6],\"location\":1.5707963267948966},\"id\":\"1383\",\"type\":\"Span\"},{\"attributes\":{\"callback\":null,\"data\":{\"xs\":[[-3.141592653589793,3.141592653589793],[-3.141592653589793,3.141592653589793]],\"ys\":[[3.141592653589793,-3.141592653589793],[-3.141592653589793,3.141592653589793]]},\"selected\":{\"id\":\"1826\",\"type\":\"Selection\"},\"selection_policy\":{\"id\":\"1825\",\"type\":\"UnionRenderers\"}},\"id\":\"1802\",\"type\":\"ColumnDataSource\"},{\"attributes\":{\"active_drag\":\"auto\",\"active_inspect\":\"auto\",\"active_multi\":null,\"active_scroll\":\"auto\",\"active_tap\":\"auto\"},\"id\":\"1023\",\"type\":\"Toolbar\"},{\"attributes\":{\"line_width\":{\"value\":2},\"xs\":{\"field\":\"xs\"},\"ys\":{\"field\":\"ys\"}},\"id\":\"1803\",\"type\":\"MultiLine\"},{\"attributes\":{\"below\":[{\"id\":\"1040\",\"type\":\"LinearAxis\"}],\"center\":[{\"id\":\"1044\",\"type\":\"Grid\"},{\"id\":\"1049\",\"type\":\"Grid\"},{\"id\":\"1177\",\"type\":\"Arrow\"},{\"id\":\"1180\",\"type\":\"Arrow\"},{\"id\":\"1183\",\"type\":\"Arrow\"},{\"id\":\"1186\",\"type\":\"Arrow\"},{\"id\":\"1888\",\"type\":\"Arrow\"},{\"id\":\"1891\",\"type\":\"Arrow\"},{\"id\":\"1894\",\"type\":\"Arrow\"},{\"id\":\"1897\",\"type\":\"Arrow\"}],\"left\":[{\"id\":\"1045\",\"type\":\"LinearAxis\"}],\"plot_height\":400,\"plot_width\":400,\"renderers\":[{\"id\":\"1054\",\"type\":\"GlyphRenderer\"},{\"id\":\"1158\",\"type\":\"GlyphRenderer\"},{\"id\":\"1381\",\"type\":\"Span\"},{\"id\":\"1382\",\"type\":\"Span\"},{\"id\":\"1383\",\"type\":\"Span\"},{\"id\":\"1384\",\"type\":\"Span\"},{\"id\":\"1565\",\"type\":\"GlyphRenderer\"},{\"id\":\"1805\",\"type\":\"GlyphRenderer\"},{\"id\":\"2443\",\"type\":\"GlyphRenderer\"},{\"id\":\"2823\",\"type\":\"GlyphRenderer\"}],\"title\":{\"id\":\"1030\",\"type\":\"Title\"},\"toolbar\":{\"id\":\"1050\",\"type\":\"Toolbar\"},\"x_range\":{\"id\":\"1032\",\"type\":\"Range1d\"},\"x_scale\":{\"id\":\"1036\",\"type\":\"LinearScale\"},\"y_range\":{\"id\":\"1034\",\"type\":\"Range1d\"},\"y_scale\":{\"id\":\"1038\",\"type\":\"LinearScale\"}},\"id\":\"1029\",\"subtype\":\"Figure\",\"type\":\"Plot\"},{\"attributes\":{\"line_alpha\":{\"value\":0.1},\"line_color\":{\"value\":\"#1f77b4\"},\"line_width\":{\"value\":2},\"xs\":{\"field\":\"xs\"},\"ys\":{\"field\":\"ys\"}},\"id\":\"1804\",\"type\":\"MultiLine\"},{\"attributes\":{\"data_source\":{\"id\":\"1802\",\"type\":\"ColumnDataSource\"},\"glyph\":{\"id\":\"1803\",\"type\":\"MultiLine\"},\"hover_glyph\":null,\"muted_glyph\":null,\"nonselection_glyph\":{\"id\":\"1804\",\"type\":\"MultiLine\"},\"selection_glyph\":null,\"view\":{\"id\":\"1806\",\"type\":\"CDSView\"}},\"id\":\"1805\",\"type\":\"GlyphRenderer\"},{\"attributes\":{\"source\":{\"id\":\"1802\",\"type\":\"ColumnDataSource\"}},\"id\":\"1806\",\"type\":\"CDSView\"},{\"attributes\":{},\"id\":\"1825\",\"type\":\"UnionRenderers\"},{\"attributes\":{},\"id\":\"1060\",\"type\":\"BasicTickFormatter\"},{\"attributes\":{\"callback\":null,\"data\":{\"x\":[0.0,3.141592653589793,0.0,-3.141592653589793,0.0],\"y\":[3.141592653589793,0.0,-3.141592653589793,0.0,3.141592653589793]},\"selected\":{\"id\":\"2848\",\"type\":\"Selection\"},\"selection_policy\":{\"id\":\"2847\",\"type\":\"UnionRenderers\"}},\"id\":\"2820\",\"type\":\"ColumnDataSource\"},{\"attributes\":{\"size\":10},\"id\":\"1179\",\"type\":\"VeeHead\"},{\"attributes\":{\"text\":\"Reciprocal space lattice\"},\"id\":\"1030\",\"type\":\"Title\"},{\"attributes\":{\"callback\":null,\"end\":10,\"start\":-10},\"id\":\"1032\",\"type\":\"Range1d\"},{\"attributes\":{},\"id\":\"1826\",\"type\":\"Selection\"},{\"attributes\":{\"callback\":null,\"end\":10,\"start\":-10},\"id\":\"1034\",\"type\":\"Range1d\"},{\"attributes\":{\"end\":{\"id\":\"1887\",\"type\":\"VeeHead\"},\"source\":null,\"start\":null,\"x_end\":{\"value\":3.141592653589793},\"x_start\":{\"value\":0},\"y_end\":{\"value\":3.141592653589793},\"y_start\":{\"value\":0}},\"id\":\"1888\",\"type\":\"Arrow\"},{\"attributes\":{\"size\":10},\"id\":\"1890\",\"type\":\"VeeHead\"},{\"attributes\":{},\"id\":\"1036\",\"type\":\"LinearScale\"},{\"attributes\":{\"size\":10},\"id\":\"1893\",\"type\":\"VeeHead\"},{\"attributes\":{},\"id\":\"1038\",\"type\":\"LinearScale\"},{\"attributes\":{\"end\":{\"id\":\"1890\",\"type\":\"VeeHead\"},\"source\":null,\"start\":null,\"x_end\":{\"value\":-3.141592653589793},\"x_start\":{\"value\":0},\"y_end\":{\"value\":-3.141592653589793},\"y_start\":{\"value\":0}},\"id\":\"1891\",\"type\":\"Arrow\"},{\"attributes\":{\"fill_color\":{\"value\":\"blue\"},\"line_color\":{\"value\":null},\"line_width\":{\"value\":3},\"size\":{\"units\":\"screen\",\"value\":10},\"x\":{\"field\":\"x\"},\"y\":{\"field\":\"y\"}},\"id\":\"1025\",\"type\":\"Circle\"},{\"attributes\":{\"size\":10},\"id\":\"1896\",\"type\":\"VeeHead\"},{\"attributes\":{\"end\":{\"id\":\"1893\",\"type\":\"VeeHead\"},\"source\":null,\"start\":null,\"x_end\":{\"value\":-3.141592653589793},\"x_start\":{\"value\":0},\"y_end\":{\"value\":3.141592653589793},\"y_start\":{\"value\":0}},\"id\":\"1894\",\"type\":\"Arrow\"},{\"attributes\":{},\"id\":\"1068\",\"type\":\"Selection\"},{\"attributes\":{},\"id\":\"1062\",\"type\":\"BasicTickFormatter\"},{\"attributes\":{\"formatter\":{\"id\":\"1066\",\"type\":\"BasicTickFormatter\"},\"ticker\":{\"id\":\"1041\",\"type\":\"BasicTicker\"}},\"id\":\"1040\",\"type\":\"LinearAxis\"},{\"attributes\":{\"fill_alpha\":{\"value\":0.1},\"fill_color\":{\"value\":\"#1f77b4\"},\"line_alpha\":{\"value\":0.1},\"line_color\":{\"value\":\"#1f77b4\"},\"line_width\":{\"value\":3},\"size\":{\"units\":\"screen\",\"value\":10},\"x\":{\"field\":\"x\"},\"y\":{\"field\":\"y\"}},\"id\":\"1026\",\"type\":\"Circle\"},{\"attributes\":{\"source\":{\"id\":\"1562\",\"type\":\"ColumnDataSource\"}},\"id\":\"1566\",\"type\":\"CDSView\"},{\"attributes\":{\"fill_color\":\"red\",\"line_color\":\"red\",\"line_width\":2,\"x\":{\"field\":\"x\"},\"y\":{\"field\":\"y\"}},\"id\":\"1563\",\"type\":\"Patch\"},{\"attributes\":{\"callback\":null,\"data\":{\"x\":[1.5707963267948966,1.5707963267948966,-1.5707963267948966,-1.5707963267948966,1.5707963267948966],\"y\":[1.5707963267948966,-1.5707963267948966,-1.5707963267948966,1.5707963267948966,1.5707963267948966]},\"selected\":{\"id\":\"1584\",\"type\":\"Selection\"},\"selection_policy\":{\"id\":\"1583\",\"type\":\"UnionRenderers\"}},\"id\":\"1562\",\"type\":\"ColumnDataSource\"},{\"attributes\":{\"size\":10},\"id\":\"1176\",\"type\":\"VeeHead\"},{\"attributes\":{\"callback\":null,\"data\":{\"xs\":[[3.141592653589793,-3.141592653589793],[0,0]],\"ys\":[[0,0],[3.141592653589793,-3.141592653589793]]},\"selected\":{\"id\":\"1175\",\"type\":\"Selection\"},\"selection_policy\":{\"id\":\"1174\",\"type\":\"UnionRenderers\"}},\"id\":\"1155\",\"type\":\"ColumnDataSource\"},{\"attributes\":{\"data_source\":{\"id\":\"1024\",\"type\":\"ColumnDataSource\"},\"glyph\":{\"id\":\"1025\",\"type\":\"Circle\"},\"hover_glyph\":null,\"muted_glyph\":null,\"nonselection_glyph\":{\"id\":\"1026\",\"type\":\"Circle\"},\"selection_glyph\":null,\"view\":{\"id\":\"1028\",\"type\":\"CDSView\"}},\"id\":\"1027\",\"type\":\"GlyphRenderer\"},{\"attributes\":{\"line_width\":{\"value\":2},\"xs\":{\"field\":\"xs\"},\"ys\":{\"field\":\"ys\"}},\"id\":\"1156\",\"type\":\"MultiLine\"},{\"attributes\":{\"line_alpha\":{\"value\":0.1},\"line_color\":{\"value\":\"#1f77b4\"},\"line_width\":{\"value\":2},\"xs\":{\"field\":\"xs\"},\"ys\":{\"field\":\"ys\"}},\"id\":\"1157\",\"type\":\"MultiLine\"},{\"attributes\":{\"data_source\":{\"id\":\"1155\",\"type\":\"ColumnDataSource\"},\"glyph\":{\"id\":\"1156\",\"type\":\"MultiLine\"},\"hover_glyph\":null,\"muted_glyph\":null,\"nonselection_glyph\":{\"id\":\"1157\",\"type\":\"MultiLine\"},\"selection_glyph\":null,\"view\":{\"id\":\"1159\",\"type\":\"CDSView\"},\"visible\":false},\"id\":\"1158\",\"type\":\"GlyphRenderer\"},{\"attributes\":{\"source\":{\"id\":\"1155\",\"type\":\"ColumnDataSource\"}},\"id\":\"1159\",\"type\":\"CDSView\"},{\"attributes\":{},\"id\":\"1583\",\"type\":\"UnionRenderers\"},{\"attributes\":{},\"id\":\"1174\",\"type\":\"UnionRenderers\"},{\"attributes\":{},\"id\":\"1064\",\"type\":\"BasicTickFormatter\"},{\"attributes\":{},\"id\":\"1175\",\"type\":\"Selection\"},{\"attributes\":{\"data_source\":{\"id\":\"2820\",\"type\":\"ColumnDataSource\"},\"glyph\":{\"id\":\"2821\",\"type\":\"Patch\"},\"hover_glyph\":null,\"muted_glyph\":null,\"nonselection_glyph\":{\"id\":\"2822\",\"type\":\"Patch\"},\"selection_glyph\":null,\"view\":{\"id\":\"2824\",\"type\":\"CDSView\"}},\"id\":\"2823\",\"type\":\"GlyphRenderer\"},{\"attributes\":{\"end\":{\"id\":\"1176\",\"type\":\"VeeHead\"},\"source\":null,\"start\":null,\"visible\":false,\"x_end\":{\"value\":3.141592653589793},\"x_start\":{\"value\":0},\"y_end\":{\"value\":0},\"y_start\":{\"value\":0}},\"id\":\"1177\",\"type\":\"Arrow\"},{\"attributes\":{\"size\":10},\"id\":\"1182\",\"type\":\"VeeHead\"},{\"attributes\":{\"fill_alpha\":0.1,\"fill_color\":\"#1f77b4\",\"line_alpha\":0.1,\"line_color\":\"#1f77b4\",\"line_width\":2,\"x\":{\"field\":\"x\"},\"y\":{\"field\":\"y\"}},\"id\":\"2822\",\"type\":\"Patch\"},{\"attributes\":{\"end\":{\"id\":\"1179\",\"type\":\"VeeHead\"},\"source\":null,\"start\":null,\"visible\":false,\"x_end\":{\"value\":-3.141592653589793},\"x_start\":{\"value\":0},\"y_end\":{\"value\":0},\"y_start\":{\"value\":0}},\"id\":\"1180\",\"type\":\"Arrow\"},{\"attributes\":{\"size\":10},\"id\":\"1185\",\"type\":\"VeeHead\"},{\"attributes\":{\"end\":{\"id\":\"1182\",\"type\":\"VeeHead\"},\"source\":null,\"start\":null,\"visible\":false,\"x_end\":{\"value\":0},\"x_start\":{\"value\":0},\"y_end\":{\"value\":3.141592653589793},\"y_start\":{\"value\":0}},\"id\":\"1183\",\"type\":\"Arrow\"},{\"attributes\":{\"fill_color\":\"#1f77b4\",\"line_color\":\"#1f77b4\",\"line_width\":2,\"x\":{\"field\":\"x\"},\"y\":{\"field\":\"y\"}},\"id\":\"2821\",\"type\":\"Patch\"},{\"attributes\":{\"end\":{\"id\":\"1185\",\"type\":\"VeeHead\"},\"source\":null,\"start\":null,\"visible\":false,\"x_end\":{\"value\":0},\"x_start\":{\"value\":0},\"y_end\":{\"value\":-3.141592653589793},\"y_start\":{\"value\":0}},\"id\":\"1186\",\"type\":\"Arrow\"},{\"attributes\":{},\"id\":\"1584\",\"type\":\"Selection\"},{\"attributes\":{\"fill_alpha\":0.1,\"fill_color\":\"#1f77b4\",\"line_alpha\":0.1,\"line_color\":\"#1f77b4\",\"line_width\":2,\"x\":{\"field\":\"x\"},\"y\":{\"field\":\"y\"}},\"id\":\"1564\",\"type\":\"Patch\"},{\"attributes\":{\"source\":{\"id\":\"2820\",\"type\":\"ColumnDataSource\"}},\"id\":\"2824\",\"type\":\"CDSView\"},{\"attributes\":{\"data_source\":{\"id\":\"1562\",\"type\":\"ColumnDataSource\"},\"glyph\":{\"id\":\"1563\",\"type\":\"Patch\"},\"hover_glyph\":null,\"muted_glyph\":null,\"nonselection_glyph\":{\"id\":\"1564\",\"type\":\"Patch\"},\"selection_glyph\":null,\"view\":{\"id\":\"1566\",\"type\":\"CDSView\"},\"visible\":false},\"id\":\"1565\",\"type\":\"GlyphRenderer\"}],\"root_ids\":[\"2969\"]},\"title\":\"Bokeh Application\",\"version\":\"1.4.0\"}};\n",
       "  var render_items = [{\"docid\":\"d83b7bc5-33aa-4cab-b72c-7e7dd3bdedd2\",\"roots\":{\"2969\":\"39b8e09c-b446-44cc-873c-df5358d0f9d9\"}}];\n",
       "  root.Bokeh.embed.embed_items_notebook(docs_json, render_items);\n",
       "\n",
       "  }\n",
       "  if (root.Bokeh !== undefined) {\n",
       "    embed_document(root);\n",
       "  } else {\n",
       "    var attempts = 0;\n",
       "    var timer = setInterval(function(root) {\n",
       "      if (root.Bokeh !== undefined) {\n",
       "        clearInterval(timer);\n",
       "        embed_document(root);\n",
       "      } else {\n",
       "        attempts++;\n",
       "        if (attempts > 100) {\n",
       "          clearInterval(timer);\n",
       "          console.log(\"Bokeh: ERROR: Unable to run BokehJS code because BokehJS library is missing\");\n",
       "        }\n",
       "      }\n",
       "    }, 10, root)\n",
       "  }\n",
       "})(window);"
      ],
      "application/vnd.bokehjs_exec.v0+json": ""
     },
     "metadata": {
      "application/vnd.bokehjs_exec.v0+json": {
       "id": "2969"
      }
     },
     "output_type": "display_data"
    }
   ],
   "source": [
    "# Color both the first and second brillouin zones\n",
    "bz2 = img.patch([b2[1], b2[0], b2[1], -b2[0], b2[1]],[b1[1], b1[0], -b1[1], b1[0], b1[1]], line_width = 2);\n",
    "show(row(real, img))"
   ]
  },
  {
   "cell_type": "code",
   "execution_count": 14,
   "metadata": {},
   "outputs": [],
   "source": [
    "# hide the elements of the first and second brillouin zones\n",
    "bz2.visible = False;\n",
    "arrow1.visible = False;\n",
    "arrow2.visible = False;\n",
    "arrow3.visible = False;\n",
    "arrow4.visible = False;\n",
    "vec2.visible = False;"
   ]
  },
  {
   "cell_type": "markdown",
   "metadata": {},
   "source": [
    "# Constrution of the 1st+2nd+3rd Brillouin zones"
   ]
  },
  {
   "cell_type": "code",
   "execution_count": 15,
   "metadata": {},
   "outputs": [
    {
     "data": {
      "text/html": [
       "\n",
       "\n",
       "\n",
       "\n",
       "\n",
       "\n",
       "  <div class=\"bk-root\" id=\"491bd04c-2b9c-4a97-8809-8873a30dc674\" data-root-id=\"4209\"></div>\n"
      ]
     },
     "metadata": {},
     "output_type": "display_data"
    },
    {
     "data": {
      "application/javascript": [
       "(function(root) {\n",
       "  function embed_document(root) {\n",
       "    \n",
       "  var docs_json = {\"7925f115-ba7d-4b4c-899c-c39dc01a03d6\":{\"roots\":{\"references\":[{\"attributes\":{\"children\":[{\"id\":\"1002\",\"subtype\":\"Figure\",\"type\":\"Plot\"},{\"id\":\"1029\",\"subtype\":\"Figure\",\"type\":\"Plot\"}]},\"id\":\"4209\",\"type\":\"Row\"},{\"attributes\":{},\"id\":\"1041\",\"type\":\"BasicTicker\"},{\"attributes\":{\"ticker\":{\"id\":\"1041\",\"type\":\"BasicTicker\"}},\"id\":\"1044\",\"type\":\"Grid\"},{\"attributes\":{},\"id\":\"1069\",\"type\":\"UnionRenderers\"},{\"attributes\":{\"formatter\":{\"id\":\"1064\",\"type\":\"BasicTickFormatter\"},\"ticker\":{\"id\":\"1046\",\"type\":\"BasicTicker\"}},\"id\":\"1045\",\"type\":\"LinearAxis\"},{\"attributes\":{},\"id\":\"1070\",\"type\":\"Selection\"},{\"attributes\":{\"end\":{\"id\":\"1896\",\"type\":\"VeeHead\"},\"source\":null,\"start\":null,\"visible\":false,\"x_end\":{\"value\":3.141592653589793},\"x_start\":{\"value\":0},\"y_end\":{\"value\":-3.141592653589793},\"y_start\":{\"value\":0}},\"id\":\"1897\",\"type\":\"Arrow\"},{\"attributes\":{},\"id\":\"1046\",\"type\":\"BasicTicker\"},{\"attributes\":{},\"id\":\"1067\",\"type\":\"UnionRenderers\"},{\"attributes\":{\"line_dash\":[6],\"location\":-1.5707963267948966},\"id\":\"1384\",\"type\":\"Span\"},{\"attributes\":{\"dimension\":1,\"ticker\":{\"id\":\"1046\",\"type\":\"BasicTicker\"}},\"id\":\"1049\",\"type\":\"Grid\"},{\"attributes\":{\"active_drag\":\"auto\",\"active_inspect\":\"auto\",\"active_multi\":null,\"active_scroll\":\"auto\",\"active_tap\":\"auto\"},\"id\":\"1050\",\"type\":\"Toolbar\"},{\"attributes\":{\"callback\":null,\"data\":{\"angle\":[45,-135,135,-45,-135,45,-45,135],\"x\":[-3.141592653589793,3.141592653589793,0.0,0.0,-3.141592653589793,3.141592653589793,0.0,0.0],\"y\":[0.0,0.0,-3.141592653589793,3.141592653589793,0.0,0.0,-3.141592653589793,3.141592653589793]},\"selected\":{\"id\":\"2466\",\"type\":\"Selection\"},\"selection_policy\":{\"id\":\"2465\",\"type\":\"UnionRenderers\"}},\"id\":\"2440\",\"type\":\"ColumnDataSource\"},{\"attributes\":{\"angle\":{\"field\":\"angle\",\"units\":\"deg\"},\"length\":{\"units\":\"data\",\"value\":0},\"line_dash\":[6],\"x\":{\"field\":\"x\"},\"y\":{\"field\":\"y\"}},\"id\":\"2441\",\"type\":\"Ray\"},{\"attributes\":{},\"id\":\"1066\",\"type\":\"BasicTickFormatter\"},{\"attributes\":{\"fill_color\":{\"value\":\"red\"},\"line_color\":{\"value\":null},\"line_width\":{\"value\":3},\"size\":{\"units\":\"screen\",\"value\":10},\"x\":{\"field\":\"x\"},\"y\":{\"field\":\"y\"}},\"id\":\"1052\",\"type\":\"Circle\"},{\"attributes\":{\"fill_alpha\":{\"value\":0.1},\"fill_color\":{\"value\":\"#1f77b4\"},\"line_alpha\":{\"value\":0.1},\"line_color\":{\"value\":\"#1f77b4\"},\"line_width\":{\"value\":3},\"size\":{\"units\":\"screen\",\"value\":10},\"x\":{\"field\":\"x\"},\"y\":{\"field\":\"y\"}},\"id\":\"1053\",\"type\":\"Circle\"},{\"attributes\":{\"callback\":null,\"data\":{\"x\":{\"__ndarray__\":\"0iEzf3zZIsAYLURU+yEZwBgtRFT7IQnAAAAAAAAAAAAYLURU+yEJQBgtRFT7IRlA0iEzf3zZIkDSITN/fNkiwBgtRFT7IRnAGC1EVPshCcAAAAAAAAAAABgtRFT7IQlAGC1EVPshGUDSITN/fNkiQNIhM3982SLAGC1EVPshGcAYLURU+yEJwAAAAAAAAAAAGC1EVPshCUAYLURU+yEZQNIhM3982SJA0iEzf3zZIsAYLURU+yEZwBgtRFT7IQnAAAAAAAAAAAAYLURU+yEJQBgtRFT7IRlA0iEzf3zZIkDSITN/fNkiwBgtRFT7IRnAGC1EVPshCcAAAAAAAAAAABgtRFT7IQlAGC1EVPshGUDSITN/fNkiQNIhM3982SLAGC1EVPshGcAYLURU+yEJwAAAAAAAAAAAGC1EVPshCUAYLURU+yEZQNIhM3982SJA0iEzf3zZIsAYLURU+yEZwBgtRFT7IQnAAAAAAAAAAAAYLURU+yEJQBgtRFT7IRlA0iEzf3zZIkA=\",\"dtype\":\"float64\",\"shape\":[49]},\"y\":{\"__ndarray__\":\"0iEzf3zZIsDSITN/fNkiwNIhM3982SLA0iEzf3zZIsDSITN/fNkiwNIhM3982SLA0iEzf3zZIsAYLURU+yEZwBgtRFT7IRnAGC1EVPshGcAYLURU+yEZwBgtRFT7IRnAGC1EVPshGcAYLURU+yEZwBgtRFT7IQnAGC1EVPshCcAYLURU+yEJwBgtRFT7IQnAGC1EVPshCcAYLURU+yEJwBgtRFT7IQnAAAAAAAAAAAAAAAAAAAAAAAAAAAAAAAAAAAAAAAAAAAAAAAAAAAAAAAAAAAAAAAAAAAAAAAAAAAAYLURU+yEJQBgtRFT7IQlAGC1EVPshCUAYLURU+yEJQBgtRFT7IQlAGC1EVPshCUAYLURU+yEJQBgtRFT7IRlAGC1EVPshGUAYLURU+yEZQBgtRFT7IRlAGC1EVPshGUAYLURU+yEZQBgtRFT7IRlA0iEzf3zZIkDSITN/fNkiQNIhM3982SJA0iEzf3zZIkDSITN/fNkiQNIhM3982SJA0iEzf3zZIkA=\",\"dtype\":\"float64\",\"shape\":[49]}},\"selected\":{\"id\":\"1070\",\"type\":\"Selection\"},\"selection_policy\":{\"id\":\"1069\",\"type\":\"UnionRenderers\"}},\"id\":\"1051\",\"type\":\"ColumnDataSource\"},{\"attributes\":{\"angle\":{\"field\":\"angle\",\"units\":\"deg\"},\"length\":{\"units\":\"data\",\"value\":0},\"line_alpha\":{\"value\":0.1},\"line_color\":{\"value\":\"#1f77b4\"},\"line_dash\":[6],\"x\":{\"field\":\"x\"},\"y\":{\"field\":\"y\"}},\"id\":\"2442\",\"type\":\"Ray\"},{\"attributes\":{\"data_source\":{\"id\":\"2440\",\"type\":\"ColumnDataSource\"},\"glyph\":{\"id\":\"2441\",\"type\":\"Ray\"},\"hover_glyph\":null,\"level\":\"annotation\",\"muted_glyph\":null,\"nonselection_glyph\":{\"id\":\"2442\",\"type\":\"Ray\"},\"selection_glyph\":null,\"view\":{\"id\":\"2444\",\"type\":\"CDSView\"}},\"id\":\"2443\",\"type\":\"GlyphRenderer\"},{\"attributes\":{\"callback\":null,\"data\":{\"x\":{\"__ndarray__\":\"AAAAAAAAGMAAAAAAAAAQwAAAAAAAAADAAAAAAAAAAAAAAAAAAAAAQAAAAAAAABBAAAAAAAAAGEAAAAAAAAAYwAAAAAAAABDAAAAAAAAAAMAAAAAAAAAAAAAAAAAAAABAAAAAAAAAEEAAAAAAAAAYQAAAAAAAABjAAAAAAAAAEMAAAAAAAAAAwAAAAAAAAAAAAAAAAAAAAEAAAAAAAAAQQAAAAAAAABhAAAAAAAAAGMAAAAAAAAAQwAAAAAAAAADAAAAAAAAAAAAAAAAAAAAAQAAAAAAAABBAAAAAAAAAGEAAAAAAAAAYwAAAAAAAABDAAAAAAAAAAMAAAAAAAAAAAAAAAAAAAABAAAAAAAAAEEAAAAAAAAAYQAAAAAAAABjAAAAAAAAAEMAAAAAAAAAAwAAAAAAAAAAAAAAAAAAAAEAAAAAAAAAQQAAAAAAAABhAAAAAAAAAGMAAAAAAAAAQwAAAAAAAAADAAAAAAAAAAAAAAAAAAAAAQAAAAAAAABBAAAAAAAAAGEA=\",\"dtype\":\"float64\",\"shape\":[49]},\"y\":{\"__ndarray__\":\"AAAAAAAAGMAAAAAAAAAYwAAAAAAAABjAAAAAAAAAGMAAAAAAAAAYwAAAAAAAABjAAAAAAAAAGMAAAAAAAAAQwAAAAAAAABDAAAAAAAAAEMAAAAAAAAAQwAAAAAAAABDAAAAAAAAAEMAAAAAAAAAQwAAAAAAAAADAAAAAAAAAAMAAAAAAAAAAwAAAAAAAAADAAAAAAAAAAMAAAAAAAAAAwAAAAAAAAADAAAAAAAAAAAAAAAAAAAAAAAAAAAAAAAAAAAAAAAAAAAAAAAAAAAAAAAAAAAAAAAAAAAAAAAAAAAAAAAAAAAAAQAAAAAAAAABAAAAAAAAAAEAAAAAAAAAAQAAAAAAAAABAAAAAAAAAAEAAAAAAAAAAQAAAAAAAABBAAAAAAAAAEEAAAAAAAAAQQAAAAAAAABBAAAAAAAAAEEAAAAAAAAAQQAAAAAAAABBAAAAAAAAAGEAAAAAAAAAYQAAAAAAAABhAAAAAAAAAGEAAAAAAAAAYQAAAAAAAABhAAAAAAAAAGEA=\",\"dtype\":\"float64\",\"shape\":[49]}},\"selected\":{\"id\":\"1068\",\"type\":\"Selection\"},\"selection_policy\":{\"id\":\"1067\",\"type\":\"UnionRenderers\"}},\"id\":\"1024\",\"type\":\"ColumnDataSource\"},{\"attributes\":{\"below\":[{\"id\":\"1013\",\"type\":\"LinearAxis\"}],\"center\":[{\"id\":\"1017\",\"type\":\"Grid\"},{\"id\":\"1022\",\"type\":\"Grid\"}],\"left\":[{\"id\":\"1018\",\"type\":\"LinearAxis\"}],\"plot_height\":400,\"plot_width\":400,\"renderers\":[{\"id\":\"1027\",\"type\":\"GlyphRenderer\"}],\"title\":{\"id\":\"1003\",\"type\":\"Title\"},\"toolbar\":{\"id\":\"1023\",\"type\":\"Toolbar\"},\"x_range\":{\"id\":\"1005\",\"type\":\"Range1d\"},\"x_scale\":{\"id\":\"1009\",\"type\":\"LinearScale\"},\"y_range\":{\"id\":\"1007\",\"type\":\"Range1d\"},\"y_scale\":{\"id\":\"1011\",\"type\":\"LinearScale\"}},\"id\":\"1002\",\"subtype\":\"Figure\",\"type\":\"Plot\"},{\"attributes\":{\"data_source\":{\"id\":\"1051\",\"type\":\"ColumnDataSource\"},\"glyph\":{\"id\":\"1052\",\"type\":\"Circle\"},\"hover_glyph\":null,\"muted_glyph\":null,\"nonselection_glyph\":{\"id\":\"1053\",\"type\":\"Circle\"},\"selection_glyph\":null,\"view\":{\"id\":\"1055\",\"type\":\"CDSView\"}},\"id\":\"1054\",\"type\":\"GlyphRenderer\"},{\"attributes\":{},\"id\":\"2465\",\"type\":\"UnionRenderers\"},{\"attributes\":{\"source\":{\"id\":\"1051\",\"type\":\"ColumnDataSource\"}},\"id\":\"1055\",\"type\":\"CDSView\"},{\"attributes\":{\"source\":{\"id\":\"2440\",\"type\":\"ColumnDataSource\"}},\"id\":\"2444\",\"type\":\"CDSView\"},{\"attributes\":{\"text\":\"Real space lattice\"},\"id\":\"1003\",\"type\":\"Title\"},{\"attributes\":{\"callback\":null,\"end\":10,\"start\":-10},\"id\":\"1005\",\"type\":\"Range1d\"},{\"attributes\":{\"line_width\":{\"value\":2},\"xs\":{\"field\":\"xs\"},\"ys\":{\"field\":\"ys\"}},\"id\":\"3283\",\"type\":\"MultiLine\"},{\"attributes\":{\"callback\":null,\"end\":10,\"start\":-10},\"id\":\"1007\",\"type\":\"Range1d\"},{\"attributes\":{},\"id\":\"2466\",\"type\":\"Selection\"},{\"attributes\":{},\"id\":\"1009\",\"type\":\"LinearScale\"},{\"attributes\":{},\"id\":\"1011\",\"type\":\"LinearScale\"},{\"attributes\":{\"source\":{\"id\":\"1024\",\"type\":\"ColumnDataSource\"}},\"id\":\"1028\",\"type\":\"CDSView\"},{\"attributes\":{\"formatter\":{\"id\":\"1062\",\"type\":\"BasicTickFormatter\"},\"ticker\":{\"id\":\"1014\",\"type\":\"BasicTicker\"}},\"id\":\"1013\",\"type\":\"LinearAxis\"},{\"attributes\":{},\"id\":\"2847\",\"type\":\"UnionRenderers\"},{\"attributes\":{},\"id\":\"1014\",\"type\":\"BasicTicker\"},{\"attributes\":{},\"id\":\"2848\",\"type\":\"Selection\"},{\"attributes\":{\"ticker\":{\"id\":\"1014\",\"type\":\"BasicTicker\"}},\"id\":\"1017\",\"type\":\"Grid\"},{\"attributes\":{\"formatter\":{\"id\":\"1060\",\"type\":\"BasicTickFormatter\"},\"ticker\":{\"id\":\"1019\",\"type\":\"BasicTicker\"}},\"id\":\"1018\",\"type\":\"LinearAxis\"},{\"attributes\":{\"data_source\":{\"id\":\"3282\",\"type\":\"ColumnDataSource\"},\"glyph\":{\"id\":\"3283\",\"type\":\"MultiLine\"},\"hover_glyph\":null,\"muted_glyph\":null,\"nonselection_glyph\":{\"id\":\"3284\",\"type\":\"MultiLine\"},\"selection_glyph\":null,\"view\":{\"id\":\"3286\",\"type\":\"CDSView\"}},\"id\":\"3285\",\"type\":\"GlyphRenderer\"},{\"attributes\":{},\"id\":\"1019\",\"type\":\"BasicTicker\"},{\"attributes\":{\"dimension\":\"height\",\"line_dash\":[6],\"location\":-1.5707963267948966},\"id\":\"1382\",\"type\":\"Span\"},{\"attributes\":{\"dimension\":\"height\",\"line_dash\":[6],\"location\":1.5707963267948966},\"id\":\"1381\",\"type\":\"Span\"},{\"attributes\":{\"dimension\":1,\"ticker\":{\"id\":\"1019\",\"type\":\"BasicTicker\"}},\"id\":\"1022\",\"type\":\"Grid\"},{\"attributes\":{\"size\":10},\"id\":\"1887\",\"type\":\"VeeHead\"},{\"attributes\":{\"line_dash\":[6],\"location\":1.5707963267948966},\"id\":\"1383\",\"type\":\"Span\"},{\"attributes\":{\"callback\":null,\"data\":{\"xs\":[[-3.141592653589793,3.141592653589793],[-3.141592653589793,3.141592653589793]],\"ys\":[[3.141592653589793,-3.141592653589793],[-3.141592653589793,3.141592653589793]]},\"selected\":{\"id\":\"1826\",\"type\":\"Selection\"},\"selection_policy\":{\"id\":\"1825\",\"type\":\"UnionRenderers\"}},\"id\":\"1802\",\"type\":\"ColumnDataSource\"},{\"attributes\":{\"active_drag\":\"auto\",\"active_inspect\":\"auto\",\"active_multi\":null,\"active_scroll\":\"auto\",\"active_tap\":\"auto\"},\"id\":\"1023\",\"type\":\"Toolbar\"},{\"attributes\":{\"line_width\":{\"value\":2},\"xs\":{\"field\":\"xs\"},\"ys\":{\"field\":\"ys\"}},\"id\":\"1803\",\"type\":\"MultiLine\"},{\"attributes\":{\"below\":[{\"id\":\"1040\",\"type\":\"LinearAxis\"}],\"center\":[{\"id\":\"1044\",\"type\":\"Grid\"},{\"id\":\"1049\",\"type\":\"Grid\"},{\"id\":\"1177\",\"type\":\"Arrow\"},{\"id\":\"1180\",\"type\":\"Arrow\"},{\"id\":\"1183\",\"type\":\"Arrow\"},{\"id\":\"1186\",\"type\":\"Arrow\"},{\"id\":\"1888\",\"type\":\"Arrow\"},{\"id\":\"1891\",\"type\":\"Arrow\"},{\"id\":\"1894\",\"type\":\"Arrow\"},{\"id\":\"1897\",\"type\":\"Arrow\"},{\"id\":\"3470\",\"type\":\"Arrow\"},{\"id\":\"3473\",\"type\":\"Arrow\"},{\"id\":\"3476\",\"type\":\"Arrow\"},{\"id\":\"3479\",\"type\":\"Arrow\"}],\"left\":[{\"id\":\"1045\",\"type\":\"LinearAxis\"}],\"plot_height\":400,\"plot_width\":400,\"renderers\":[{\"id\":\"1054\",\"type\":\"GlyphRenderer\"},{\"id\":\"1158\",\"type\":\"GlyphRenderer\"},{\"id\":\"1381\",\"type\":\"Span\"},{\"id\":\"1382\",\"type\":\"Span\"},{\"id\":\"1383\",\"type\":\"Span\"},{\"id\":\"1384\",\"type\":\"Span\"},{\"id\":\"1565\",\"type\":\"GlyphRenderer\"},{\"id\":\"1805\",\"type\":\"GlyphRenderer\"},{\"id\":\"2443\",\"type\":\"GlyphRenderer\"},{\"id\":\"2823\",\"type\":\"GlyphRenderer\"},{\"id\":\"3285\",\"type\":\"GlyphRenderer\"}],\"title\":{\"id\":\"1030\",\"type\":\"Title\"},\"toolbar\":{\"id\":\"1050\",\"type\":\"Toolbar\"},\"x_range\":{\"id\":\"1032\",\"type\":\"Range1d\"},\"x_scale\":{\"id\":\"1036\",\"type\":\"LinearScale\"},\"y_range\":{\"id\":\"1034\",\"type\":\"Range1d\"},\"y_scale\":{\"id\":\"1038\",\"type\":\"LinearScale\"}},\"id\":\"1029\",\"subtype\":\"Figure\",\"type\":\"Plot\"},{\"attributes\":{\"line_alpha\":{\"value\":0.1},\"line_color\":{\"value\":\"#1f77b4\"},\"line_width\":{\"value\":2},\"xs\":{\"field\":\"xs\"},\"ys\":{\"field\":\"ys\"}},\"id\":\"1804\",\"type\":\"MultiLine\"},{\"attributes\":{\"data_source\":{\"id\":\"1802\",\"type\":\"ColumnDataSource\"},\"glyph\":{\"id\":\"1803\",\"type\":\"MultiLine\"},\"hover_glyph\":null,\"muted_glyph\":null,\"nonselection_glyph\":{\"id\":\"1804\",\"type\":\"MultiLine\"},\"selection_glyph\":null,\"view\":{\"id\":\"1806\",\"type\":\"CDSView\"},\"visible\":false},\"id\":\"1805\",\"type\":\"GlyphRenderer\"},{\"attributes\":{\"size\":10},\"id\":\"3472\",\"type\":\"VeeHead\"},{\"attributes\":{\"source\":{\"id\":\"1802\",\"type\":\"ColumnDataSource\"}},\"id\":\"1806\",\"type\":\"CDSView\"},{\"attributes\":{},\"id\":\"1825\",\"type\":\"UnionRenderers\"},{\"attributes\":{},\"id\":\"1060\",\"type\":\"BasicTickFormatter\"},{\"attributes\":{\"source\":{\"id\":\"3282\",\"type\":\"ColumnDataSource\"}},\"id\":\"3286\",\"type\":\"CDSView\"},{\"attributes\":{\"callback\":null,\"data\":{\"x\":[0.0,3.141592653589793,0.0,-3.141592653589793,0.0],\"y\":[3.141592653589793,0.0,-3.141592653589793,0.0,3.141592653589793]},\"selected\":{\"id\":\"2848\",\"type\":\"Selection\"},\"selection_policy\":{\"id\":\"2847\",\"type\":\"UnionRenderers\"}},\"id\":\"2820\",\"type\":\"ColumnDataSource\"},{\"attributes\":{\"size\":10},\"id\":\"1179\",\"type\":\"VeeHead\"},{\"attributes\":{\"text\":\"Reciprocal space lattice\"},\"id\":\"1030\",\"type\":\"Title\"},{\"attributes\":{\"callback\":null,\"end\":10,\"start\":-10},\"id\":\"1032\",\"type\":\"Range1d\"},{\"attributes\":{},\"id\":\"1826\",\"type\":\"Selection\"},{\"attributes\":{\"callback\":null,\"data\":{\"xs\":[[6.283185307179586,-6.283185307179586],[0,0]],\"ys\":[[0,0],[6.283185307179586,-6.283185307179586]]},\"selected\":{\"id\":\"3312\",\"type\":\"Selection\"},\"selection_policy\":{\"id\":\"3311\",\"type\":\"UnionRenderers\"}},\"id\":\"3282\",\"type\":\"ColumnDataSource\"},{\"attributes\":{\"callback\":null,\"end\":10,\"start\":-10},\"id\":\"1034\",\"type\":\"Range1d\"},{\"attributes\":{\"end\":{\"id\":\"1887\",\"type\":\"VeeHead\"},\"source\":null,\"start\":null,\"visible\":false,\"x_end\":{\"value\":3.141592653589793},\"x_start\":{\"value\":0},\"y_end\":{\"value\":3.141592653589793},\"y_start\":{\"value\":0}},\"id\":\"1888\",\"type\":\"Arrow\"},{\"attributes\":{\"size\":10},\"id\":\"1890\",\"type\":\"VeeHead\"},{\"attributes\":{},\"id\":\"1036\",\"type\":\"LinearScale\"},{\"attributes\":{\"size\":10},\"id\":\"1893\",\"type\":\"VeeHead\"},{\"attributes\":{\"size\":10},\"id\":\"3469\",\"type\":\"VeeHead\"},{\"attributes\":{},\"id\":\"1038\",\"type\":\"LinearScale\"},{\"attributes\":{\"end\":{\"id\":\"1890\",\"type\":\"VeeHead\"},\"source\":null,\"start\":null,\"visible\":false,\"x_end\":{\"value\":-3.141592653589793},\"x_start\":{\"value\":0},\"y_end\":{\"value\":-3.141592653589793},\"y_start\":{\"value\":0}},\"id\":\"1891\",\"type\":\"Arrow\"},{\"attributes\":{},\"id\":\"3311\",\"type\":\"UnionRenderers\"},{\"attributes\":{\"fill_color\":{\"value\":\"blue\"},\"line_color\":{\"value\":null},\"line_width\":{\"value\":3},\"size\":{\"units\":\"screen\",\"value\":10},\"x\":{\"field\":\"x\"},\"y\":{\"field\":\"y\"}},\"id\":\"1025\",\"type\":\"Circle\"},{\"attributes\":{\"size\":10},\"id\":\"1896\",\"type\":\"VeeHead\"},{\"attributes\":{\"line_alpha\":{\"value\":0.1},\"line_color\":{\"value\":\"#1f77b4\"},\"line_width\":{\"value\":2},\"xs\":{\"field\":\"xs\"},\"ys\":{\"field\":\"ys\"}},\"id\":\"3284\",\"type\":\"MultiLine\"},{\"attributes\":{\"end\":{\"id\":\"1893\",\"type\":\"VeeHead\"},\"source\":null,\"start\":null,\"visible\":false,\"x_end\":{\"value\":-3.141592653589793},\"x_start\":{\"value\":0},\"y_end\":{\"value\":3.141592653589793},\"y_start\":{\"value\":0}},\"id\":\"1894\",\"type\":\"Arrow\"},{\"attributes\":{},\"id\":\"1068\",\"type\":\"Selection\"},{\"attributes\":{},\"id\":\"1062\",\"type\":\"BasicTickFormatter\"},{\"attributes\":{\"formatter\":{\"id\":\"1066\",\"type\":\"BasicTickFormatter\"},\"ticker\":{\"id\":\"1041\",\"type\":\"BasicTicker\"}},\"id\":\"1040\",\"type\":\"LinearAxis\"},{\"attributes\":{\"size\":10},\"id\":\"3478\",\"type\":\"VeeHead\"},{\"attributes\":{\"end\":{\"id\":\"3478\",\"type\":\"VeeHead\"},\"source\":null,\"start\":null,\"x_end\":{\"value\":0},\"x_start\":{\"value\":0},\"y_end\":{\"value\":-6.283185307179586},\"y_start\":{\"value\":0}},\"id\":\"3479\",\"type\":\"Arrow\"},{\"attributes\":{\"fill_alpha\":{\"value\":0.1},\"fill_color\":{\"value\":\"#1f77b4\"},\"line_alpha\":{\"value\":0.1},\"line_color\":{\"value\":\"#1f77b4\"},\"line_width\":{\"value\":3},\"size\":{\"units\":\"screen\",\"value\":10},\"x\":{\"field\":\"x\"},\"y\":{\"field\":\"y\"}},\"id\":\"1026\",\"type\":\"Circle\"},{\"attributes\":{\"source\":{\"id\":\"1562\",\"type\":\"ColumnDataSource\"}},\"id\":\"1566\",\"type\":\"CDSView\"},{\"attributes\":{\"fill_color\":\"red\",\"line_color\":\"red\",\"line_width\":2,\"x\":{\"field\":\"x\"},\"y\":{\"field\":\"y\"}},\"id\":\"1563\",\"type\":\"Patch\"},{\"attributes\":{},\"id\":\"3312\",\"type\":\"Selection\"},{\"attributes\":{\"callback\":null,\"data\":{\"x\":[1.5707963267948966,1.5707963267948966,-1.5707963267948966,-1.5707963267948966,1.5707963267948966],\"y\":[1.5707963267948966,-1.5707963267948966,-1.5707963267948966,1.5707963267948966,1.5707963267948966]},\"selected\":{\"id\":\"1584\",\"type\":\"Selection\"},\"selection_policy\":{\"id\":\"1583\",\"type\":\"UnionRenderers\"}},\"id\":\"1562\",\"type\":\"ColumnDataSource\"},{\"attributes\":{\"end\":{\"id\":\"3469\",\"type\":\"VeeHead\"},\"source\":null,\"start\":null,\"x_end\":{\"value\":6.283185307179586},\"x_start\":{\"value\":0},\"y_end\":{\"value\":0},\"y_start\":{\"value\":0}},\"id\":\"3470\",\"type\":\"Arrow\"},{\"attributes\":{\"size\":10},\"id\":\"3475\",\"type\":\"VeeHead\"},{\"attributes\":{\"size\":10},\"id\":\"1176\",\"type\":\"VeeHead\"},{\"attributes\":{\"callback\":null,\"data\":{\"xs\":[[3.141592653589793,-3.141592653589793],[0,0]],\"ys\":[[0,0],[3.141592653589793,-3.141592653589793]]},\"selected\":{\"id\":\"1175\",\"type\":\"Selection\"},\"selection_policy\":{\"id\":\"1174\",\"type\":\"UnionRenderers\"}},\"id\":\"1155\",\"type\":\"ColumnDataSource\"},{\"attributes\":{\"data_source\":{\"id\":\"1024\",\"type\":\"ColumnDataSource\"},\"glyph\":{\"id\":\"1025\",\"type\":\"Circle\"},\"hover_glyph\":null,\"muted_glyph\":null,\"nonselection_glyph\":{\"id\":\"1026\",\"type\":\"Circle\"},\"selection_glyph\":null,\"view\":{\"id\":\"1028\",\"type\":\"CDSView\"}},\"id\":\"1027\",\"type\":\"GlyphRenderer\"},{\"attributes\":{\"line_width\":{\"value\":2},\"xs\":{\"field\":\"xs\"},\"ys\":{\"field\":\"ys\"}},\"id\":\"1156\",\"type\":\"MultiLine\"},{\"attributes\":{\"line_alpha\":{\"value\":0.1},\"line_color\":{\"value\":\"#1f77b4\"},\"line_width\":{\"value\":2},\"xs\":{\"field\":\"xs\"},\"ys\":{\"field\":\"ys\"}},\"id\":\"1157\",\"type\":\"MultiLine\"},{\"attributes\":{\"data_source\":{\"id\":\"1155\",\"type\":\"ColumnDataSource\"},\"glyph\":{\"id\":\"1156\",\"type\":\"MultiLine\"},\"hover_glyph\":null,\"muted_glyph\":null,\"nonselection_glyph\":{\"id\":\"1157\",\"type\":\"MultiLine\"},\"selection_glyph\":null,\"view\":{\"id\":\"1159\",\"type\":\"CDSView\"},\"visible\":false},\"id\":\"1158\",\"type\":\"GlyphRenderer\"},{\"attributes\":{\"source\":{\"id\":\"1155\",\"type\":\"ColumnDataSource\"}},\"id\":\"1159\",\"type\":\"CDSView\"},{\"attributes\":{},\"id\":\"1583\",\"type\":\"UnionRenderers\"},{\"attributes\":{},\"id\":\"1174\",\"type\":\"UnionRenderers\"},{\"attributes\":{},\"id\":\"1064\",\"type\":\"BasicTickFormatter\"},{\"attributes\":{},\"id\":\"1175\",\"type\":\"Selection\"},{\"attributes\":{\"data_source\":{\"id\":\"2820\",\"type\":\"ColumnDataSource\"},\"glyph\":{\"id\":\"2821\",\"type\":\"Patch\"},\"hover_glyph\":null,\"muted_glyph\":null,\"nonselection_glyph\":{\"id\":\"2822\",\"type\":\"Patch\"},\"selection_glyph\":null,\"view\":{\"id\":\"2824\",\"type\":\"CDSView\"},\"visible\":false},\"id\":\"2823\",\"type\":\"GlyphRenderer\"},{\"attributes\":{\"end\":{\"id\":\"1176\",\"type\":\"VeeHead\"},\"source\":null,\"start\":null,\"visible\":false,\"x_end\":{\"value\":3.141592653589793},\"x_start\":{\"value\":0},\"y_end\":{\"value\":0},\"y_start\":{\"value\":0}},\"id\":\"1177\",\"type\":\"Arrow\"},{\"attributes\":{\"size\":10},\"id\":\"1182\",\"type\":\"VeeHead\"},{\"attributes\":{\"fill_alpha\":0.1,\"fill_color\":\"#1f77b4\",\"line_alpha\":0.1,\"line_color\":\"#1f77b4\",\"line_width\":2,\"x\":{\"field\":\"x\"},\"y\":{\"field\":\"y\"}},\"id\":\"2822\",\"type\":\"Patch\"},{\"attributes\":{\"end\":{\"id\":\"1179\",\"type\":\"VeeHead\"},\"source\":null,\"start\":null,\"visible\":false,\"x_end\":{\"value\":-3.141592653589793},\"x_start\":{\"value\":0},\"y_end\":{\"value\":0},\"y_start\":{\"value\":0}},\"id\":\"1180\",\"type\":\"Arrow\"},{\"attributes\":{\"size\":10},\"id\":\"1185\",\"type\":\"VeeHead\"},{\"attributes\":{\"end\":{\"id\":\"1182\",\"type\":\"VeeHead\"},\"source\":null,\"start\":null,\"visible\":false,\"x_end\":{\"value\":0},\"x_start\":{\"value\":0},\"y_end\":{\"value\":3.141592653589793},\"y_start\":{\"value\":0}},\"id\":\"1183\",\"type\":\"Arrow\"},{\"attributes\":{\"fill_color\":\"#1f77b4\",\"line_color\":\"#1f77b4\",\"line_width\":2,\"x\":{\"field\":\"x\"},\"y\":{\"field\":\"y\"}},\"id\":\"2821\",\"type\":\"Patch\"},{\"attributes\":{\"end\":{\"id\":\"1185\",\"type\":\"VeeHead\"},\"source\":null,\"start\":null,\"visible\":false,\"x_end\":{\"value\":0},\"x_start\":{\"value\":0},\"y_end\":{\"value\":-3.141592653589793},\"y_start\":{\"value\":0}},\"id\":\"1186\",\"type\":\"Arrow\"},{\"attributes\":{},\"id\":\"1584\",\"type\":\"Selection\"},{\"attributes\":{\"end\":{\"id\":\"3475\",\"type\":\"VeeHead\"},\"source\":null,\"start\":null,\"x_end\":{\"value\":0},\"x_start\":{\"value\":0},\"y_end\":{\"value\":6.283185307179586},\"y_start\":{\"value\":0}},\"id\":\"3476\",\"type\":\"Arrow\"},{\"attributes\":{\"fill_alpha\":0.1,\"fill_color\":\"#1f77b4\",\"line_alpha\":0.1,\"line_color\":\"#1f77b4\",\"line_width\":2,\"x\":{\"field\":\"x\"},\"y\":{\"field\":\"y\"}},\"id\":\"1564\",\"type\":\"Patch\"},{\"attributes\":{\"source\":{\"id\":\"2820\",\"type\":\"ColumnDataSource\"}},\"id\":\"2824\",\"type\":\"CDSView\"},{\"attributes\":{\"end\":{\"id\":\"3472\",\"type\":\"VeeHead\"},\"source\":null,\"start\":null,\"x_end\":{\"value\":-6.283185307179586},\"x_start\":{\"value\":0},\"y_end\":{\"value\":0},\"y_start\":{\"value\":0}},\"id\":\"3473\",\"type\":\"Arrow\"},{\"attributes\":{\"data_source\":{\"id\":\"1562\",\"type\":\"ColumnDataSource\"},\"glyph\":{\"id\":\"1563\",\"type\":\"Patch\"},\"hover_glyph\":null,\"muted_glyph\":null,\"nonselection_glyph\":{\"id\":\"1564\",\"type\":\"Patch\"},\"selection_glyph\":null,\"view\":{\"id\":\"1566\",\"type\":\"CDSView\"},\"visible\":false},\"id\":\"1565\",\"type\":\"GlyphRenderer\"}],\"root_ids\":[\"4209\"]},\"title\":\"Bokeh Application\",\"version\":\"1.4.0\"}};\n",
       "  var render_items = [{\"docid\":\"7925f115-ba7d-4b4c-899c-c39dc01a03d6\",\"roots\":{\"4209\":\"491bd04c-2b9c-4a97-8809-8873a30dc674\"}}];\n",
       "  root.Bokeh.embed.embed_items_notebook(docs_json, render_items);\n",
       "\n",
       "  }\n",
       "  if (root.Bokeh !== undefined) {\n",
       "    embed_document(root);\n",
       "  } else {\n",
       "    var attempts = 0;\n",
       "    var timer = setInterval(function(root) {\n",
       "      if (root.Bokeh !== undefined) {\n",
       "        clearInterval(timer);\n",
       "        embed_document(root);\n",
       "      } else {\n",
       "        attempts++;\n",
       "        if (attempts > 100) {\n",
       "          clearInterval(timer);\n",
       "          console.log(\"Bokeh: ERROR: Unable to run BokehJS code because BokehJS library is missing\");\n",
       "        }\n",
       "      }\n",
       "    }, 10, root)\n",
       "  }\n",
       "})(window);"
      ],
      "application/vnd.bokehjs_exec.v0+json": ""
     },
     "metadata": {
      "application/vnd.bokehjs_exec.v0+json": {
       "id": "4209"
      }
     },
     "output_type": "display_data"
    }
   ],
   "source": [
    "# draw the reciprocal lattice vectors from the origin to the next next nearst neighbours\n",
    "vec3 = img.multi_line([[2*b1[1], -2*b1[1]], [0, 0]],[[0, 0], [2*b2[0], -2*b2[0]]], line_width = 2, line_color = \"black\");\n",
    "arrow1 = Arrow(end = VeeHead(size = 10), x_start=0, y_start=0, x_end=2*b2[0], y_end=0);\n",
    "arrow2 = Arrow(end = VeeHead(size = 10), x_start=0, y_start=0, x_end=-2*b2[0], y_end=0);\n",
    "arrow3 = Arrow(end = VeeHead(size = 10), x_start=0, y_start=0, x_end=0, y_end=2*b1[1]);\n",
    "arrow4 = Arrow(end = VeeHead(size = 10), x_start=0, y_start=0, x_end=0, y_end=-2*b1[1]);\n",
    "img.add_layout(arrow1);\n",
    "img.add_layout(arrow2);\n",
    "img.add_layout(arrow3);\n",
    "img.add_layout(arrow4);\n",
    "show(row(real,img))"
   ]
  },
  {
   "cell_type": "code",
   "execution_count": 16,
   "metadata": {},
   "outputs": [
    {
     "data": {
      "text/html": [
       "\n",
       "\n",
       "\n",
       "\n",
       "\n",
       "\n",
       "  <div class=\"bk-root\" id=\"49175b94-4f95-4b94-b397-a135cf9a4fe6\" data-root-id=\"4786\"></div>\n"
      ]
     },
     "metadata": {},
     "output_type": "display_data"
    },
    {
     "data": {
      "application/javascript": [
       "(function(root) {\n",
       "  function embed_document(root) {\n",
       "    \n",
       "  var docs_json = {\"5ac89fc8-daf6-4202-8cc3-4d9c121e790f\":{\"roots\":{\"references\":[{\"attributes\":{\"children\":[{\"id\":\"1002\",\"subtype\":\"Figure\",\"type\":\"Plot\"},{\"id\":\"1029\",\"subtype\":\"Figure\",\"type\":\"Plot\"}]},\"id\":\"4786\",\"type\":\"Row\"},{\"attributes\":{},\"id\":\"1041\",\"type\":\"BasicTicker\"},{\"attributes\":{\"ticker\":{\"id\":\"1041\",\"type\":\"BasicTicker\"}},\"id\":\"1044\",\"type\":\"Grid\"},{\"attributes\":{},\"id\":\"1069\",\"type\":\"UnionRenderers\"},{\"attributes\":{\"dimension\":\"height\",\"line_dash\":[6],\"location\":3.141592653589793},\"id\":\"4574\",\"type\":\"Span\"},{\"attributes\":{\"formatter\":{\"id\":\"1064\",\"type\":\"BasicTickFormatter\"},\"ticker\":{\"id\":\"1046\",\"type\":\"BasicTicker\"}},\"id\":\"1045\",\"type\":\"LinearAxis\"},{\"attributes\":{},\"id\":\"1070\",\"type\":\"Selection\"},{\"attributes\":{\"end\":{\"id\":\"1896\",\"type\":\"VeeHead\"},\"source\":null,\"start\":null,\"visible\":false,\"x_end\":{\"value\":3.141592653589793},\"x_start\":{\"value\":0},\"y_end\":{\"value\":-3.141592653589793},\"y_start\":{\"value\":0}},\"id\":\"1897\",\"type\":\"Arrow\"},{\"attributes\":{},\"id\":\"1046\",\"type\":\"BasicTicker\"},{\"attributes\":{},\"id\":\"1067\",\"type\":\"UnionRenderers\"},{\"attributes\":{\"line_dash\":[6],\"location\":-1.5707963267948966},\"id\":\"1384\",\"type\":\"Span\"},{\"attributes\":{\"dimension\":1,\"ticker\":{\"id\":\"1046\",\"type\":\"BasicTicker\"}},\"id\":\"1049\",\"type\":\"Grid\"},{\"attributes\":{\"active_drag\":\"auto\",\"active_inspect\":\"auto\",\"active_multi\":null,\"active_scroll\":\"auto\",\"active_tap\":\"auto\"},\"id\":\"1050\",\"type\":\"Toolbar\"},{\"attributes\":{\"callback\":null,\"data\":{\"angle\":[45,-135,135,-45,-135,45,-45,135],\"x\":[-3.141592653589793,3.141592653589793,0.0,0.0,-3.141592653589793,3.141592653589793,0.0,0.0],\"y\":[0.0,0.0,-3.141592653589793,3.141592653589793,0.0,0.0,-3.141592653589793,3.141592653589793]},\"selected\":{\"id\":\"2466\",\"type\":\"Selection\"},\"selection_policy\":{\"id\":\"2465\",\"type\":\"UnionRenderers\"}},\"id\":\"2440\",\"type\":\"ColumnDataSource\"},{\"attributes\":{\"angle\":{\"field\":\"angle\",\"units\":\"deg\"},\"length\":{\"units\":\"data\",\"value\":0},\"line_dash\":[6],\"x\":{\"field\":\"x\"},\"y\":{\"field\":\"y\"}},\"id\":\"2441\",\"type\":\"Ray\"},{\"attributes\":{},\"id\":\"1066\",\"type\":\"BasicTickFormatter\"},{\"attributes\":{\"fill_color\":{\"value\":\"red\"},\"line_color\":{\"value\":null},\"line_width\":{\"value\":3},\"size\":{\"units\":\"screen\",\"value\":10},\"x\":{\"field\":\"x\"},\"y\":{\"field\":\"y\"}},\"id\":\"1052\",\"type\":\"Circle\"},{\"attributes\":{\"fill_alpha\":{\"value\":0.1},\"fill_color\":{\"value\":\"#1f77b4\"},\"line_alpha\":{\"value\":0.1},\"line_color\":{\"value\":\"#1f77b4\"},\"line_width\":{\"value\":3},\"size\":{\"units\":\"screen\",\"value\":10},\"x\":{\"field\":\"x\"},\"y\":{\"field\":\"y\"}},\"id\":\"1053\",\"type\":\"Circle\"},{\"attributes\":{\"callback\":null,\"data\":{\"x\":{\"__ndarray__\":\"0iEzf3zZIsAYLURU+yEZwBgtRFT7IQnAAAAAAAAAAAAYLURU+yEJQBgtRFT7IRlA0iEzf3zZIkDSITN/fNkiwBgtRFT7IRnAGC1EVPshCcAAAAAAAAAAABgtRFT7IQlAGC1EVPshGUDSITN/fNkiQNIhM3982SLAGC1EVPshGcAYLURU+yEJwAAAAAAAAAAAGC1EVPshCUAYLURU+yEZQNIhM3982SJA0iEzf3zZIsAYLURU+yEZwBgtRFT7IQnAAAAAAAAAAAAYLURU+yEJQBgtRFT7IRlA0iEzf3zZIkDSITN/fNkiwBgtRFT7IRnAGC1EVPshCcAAAAAAAAAAABgtRFT7IQlAGC1EVPshGUDSITN/fNkiQNIhM3982SLAGC1EVPshGcAYLURU+yEJwAAAAAAAAAAAGC1EVPshCUAYLURU+yEZQNIhM3982SJA0iEzf3zZIsAYLURU+yEZwBgtRFT7IQnAAAAAAAAAAAAYLURU+yEJQBgtRFT7IRlA0iEzf3zZIkA=\",\"dtype\":\"float64\",\"shape\":[49]},\"y\":{\"__ndarray__\":\"0iEzf3zZIsDSITN/fNkiwNIhM3982SLA0iEzf3zZIsDSITN/fNkiwNIhM3982SLA0iEzf3zZIsAYLURU+yEZwBgtRFT7IRnAGC1EVPshGcAYLURU+yEZwBgtRFT7IRnAGC1EVPshGcAYLURU+yEZwBgtRFT7IQnAGC1EVPshCcAYLURU+yEJwBgtRFT7IQnAGC1EVPshCcAYLURU+yEJwBgtRFT7IQnAAAAAAAAAAAAAAAAAAAAAAAAAAAAAAAAAAAAAAAAAAAAAAAAAAAAAAAAAAAAAAAAAAAAAAAAAAAAYLURU+yEJQBgtRFT7IQlAGC1EVPshCUAYLURU+yEJQBgtRFT7IQlAGC1EVPshCUAYLURU+yEJQBgtRFT7IRlAGC1EVPshGUAYLURU+yEZQBgtRFT7IRlAGC1EVPshGUAYLURU+yEZQBgtRFT7IRlA0iEzf3zZIkDSITN/fNkiQNIhM3982SJA0iEzf3zZIkDSITN/fNkiQNIhM3982SJA0iEzf3zZIkA=\",\"dtype\":\"float64\",\"shape\":[49]}},\"selected\":{\"id\":\"1070\",\"type\":\"Selection\"},\"selection_policy\":{\"id\":\"1069\",\"type\":\"UnionRenderers\"}},\"id\":\"1051\",\"type\":\"ColumnDataSource\"},{\"attributes\":{\"angle\":{\"field\":\"angle\",\"units\":\"deg\"},\"length\":{\"units\":\"data\",\"value\":0},\"line_alpha\":{\"value\":0.1},\"line_color\":{\"value\":\"#1f77b4\"},\"line_dash\":[6],\"x\":{\"field\":\"x\"},\"y\":{\"field\":\"y\"}},\"id\":\"2442\",\"type\":\"Ray\"},{\"attributes\":{\"data_source\":{\"id\":\"2440\",\"type\":\"ColumnDataSource\"},\"glyph\":{\"id\":\"2441\",\"type\":\"Ray\"},\"hover_glyph\":null,\"level\":\"annotation\",\"muted_glyph\":null,\"nonselection_glyph\":{\"id\":\"2442\",\"type\":\"Ray\"},\"selection_glyph\":null,\"view\":{\"id\":\"2444\",\"type\":\"CDSView\"}},\"id\":\"2443\",\"type\":\"GlyphRenderer\"},{\"attributes\":{\"callback\":null,\"data\":{\"x\":{\"__ndarray__\":\"AAAAAAAAGMAAAAAAAAAQwAAAAAAAAADAAAAAAAAAAAAAAAAAAAAAQAAAAAAAABBAAAAAAAAAGEAAAAAAAAAYwAAAAAAAABDAAAAAAAAAAMAAAAAAAAAAAAAAAAAAAABAAAAAAAAAEEAAAAAAAAAYQAAAAAAAABjAAAAAAAAAEMAAAAAAAAAAwAAAAAAAAAAAAAAAAAAAAEAAAAAAAAAQQAAAAAAAABhAAAAAAAAAGMAAAAAAAAAQwAAAAAAAAADAAAAAAAAAAAAAAAAAAAAAQAAAAAAAABBAAAAAAAAAGEAAAAAAAAAYwAAAAAAAABDAAAAAAAAAAMAAAAAAAAAAAAAAAAAAAABAAAAAAAAAEEAAAAAAAAAYQAAAAAAAABjAAAAAAAAAEMAAAAAAAAAAwAAAAAAAAAAAAAAAAAAAAEAAAAAAAAAQQAAAAAAAABhAAAAAAAAAGMAAAAAAAAAQwAAAAAAAAADAAAAAAAAAAAAAAAAAAAAAQAAAAAAAABBAAAAAAAAAGEA=\",\"dtype\":\"float64\",\"shape\":[49]},\"y\":{\"__ndarray__\":\"AAAAAAAAGMAAAAAAAAAYwAAAAAAAABjAAAAAAAAAGMAAAAAAAAAYwAAAAAAAABjAAAAAAAAAGMAAAAAAAAAQwAAAAAAAABDAAAAAAAAAEMAAAAAAAAAQwAAAAAAAABDAAAAAAAAAEMAAAAAAAAAQwAAAAAAAAADAAAAAAAAAAMAAAAAAAAAAwAAAAAAAAADAAAAAAAAAAMAAAAAAAAAAwAAAAAAAAADAAAAAAAAAAAAAAAAAAAAAAAAAAAAAAAAAAAAAAAAAAAAAAAAAAAAAAAAAAAAAAAAAAAAAAAAAAAAAAAAAAAAAQAAAAAAAAABAAAAAAAAAAEAAAAAAAAAAQAAAAAAAAABAAAAAAAAAAEAAAAAAAAAAQAAAAAAAABBAAAAAAAAAEEAAAAAAAAAQQAAAAAAAABBAAAAAAAAAEEAAAAAAAAAQQAAAAAAAABBAAAAAAAAAGEAAAAAAAAAYQAAAAAAAABhAAAAAAAAAGEAAAAAAAAAYQAAAAAAAABhAAAAAAAAAGEA=\",\"dtype\":\"float64\",\"shape\":[49]}},\"selected\":{\"id\":\"1068\",\"type\":\"Selection\"},\"selection_policy\":{\"id\":\"1067\",\"type\":\"UnionRenderers\"}},\"id\":\"1024\",\"type\":\"ColumnDataSource\"},{\"attributes\":{\"below\":[{\"id\":\"1013\",\"type\":\"LinearAxis\"}],\"center\":[{\"id\":\"1017\",\"type\":\"Grid\"},{\"id\":\"1022\",\"type\":\"Grid\"}],\"left\":[{\"id\":\"1018\",\"type\":\"LinearAxis\"}],\"plot_height\":400,\"plot_width\":400,\"renderers\":[{\"id\":\"1027\",\"type\":\"GlyphRenderer\"}],\"title\":{\"id\":\"1003\",\"type\":\"Title\"},\"toolbar\":{\"id\":\"1023\",\"type\":\"Toolbar\"},\"x_range\":{\"id\":\"1005\",\"type\":\"Range1d\"},\"x_scale\":{\"id\":\"1009\",\"type\":\"LinearScale\"},\"y_range\":{\"id\":\"1007\",\"type\":\"Range1d\"},\"y_scale\":{\"id\":\"1011\",\"type\":\"LinearScale\"}},\"id\":\"1002\",\"subtype\":\"Figure\",\"type\":\"Plot\"},{\"attributes\":{\"data_source\":{\"id\":\"1051\",\"type\":\"ColumnDataSource\"},\"glyph\":{\"id\":\"1052\",\"type\":\"Circle\"},\"hover_glyph\":null,\"muted_glyph\":null,\"nonselection_glyph\":{\"id\":\"1053\",\"type\":\"Circle\"},\"selection_glyph\":null,\"view\":{\"id\":\"1055\",\"type\":\"CDSView\"}},\"id\":\"1054\",\"type\":\"GlyphRenderer\"},{\"attributes\":{},\"id\":\"2465\",\"type\":\"UnionRenderers\"},{\"attributes\":{\"source\":{\"id\":\"1051\",\"type\":\"ColumnDataSource\"}},\"id\":\"1055\",\"type\":\"CDSView\"},{\"attributes\":{\"source\":{\"id\":\"2440\",\"type\":\"ColumnDataSource\"}},\"id\":\"2444\",\"type\":\"CDSView\"},{\"attributes\":{\"text\":\"Real space lattice\"},\"id\":\"1003\",\"type\":\"Title\"},{\"attributes\":{\"callback\":null,\"end\":10,\"start\":-10},\"id\":\"1005\",\"type\":\"Range1d\"},{\"attributes\":{\"line_width\":{\"value\":2},\"xs\":{\"field\":\"xs\"},\"ys\":{\"field\":\"ys\"}},\"id\":\"3283\",\"type\":\"MultiLine\"},{\"attributes\":{\"callback\":null,\"end\":10,\"start\":-10},\"id\":\"1007\",\"type\":\"Range1d\"},{\"attributes\":{},\"id\":\"2466\",\"type\":\"Selection\"},{\"attributes\":{},\"id\":\"1009\",\"type\":\"LinearScale\"},{\"attributes\":{},\"id\":\"1011\",\"type\":\"LinearScale\"},{\"attributes\":{\"source\":{\"id\":\"1024\",\"type\":\"ColumnDataSource\"}},\"id\":\"1028\",\"type\":\"CDSView\"},{\"attributes\":{\"formatter\":{\"id\":\"1062\",\"type\":\"BasicTickFormatter\"},\"ticker\":{\"id\":\"1014\",\"type\":\"BasicTicker\"}},\"id\":\"1013\",\"type\":\"LinearAxis\"},{\"attributes\":{},\"id\":\"2847\",\"type\":\"UnionRenderers\"},{\"attributes\":{},\"id\":\"1014\",\"type\":\"BasicTicker\"},{\"attributes\":{},\"id\":\"2848\",\"type\":\"Selection\"},{\"attributes\":{\"ticker\":{\"id\":\"1014\",\"type\":\"BasicTicker\"}},\"id\":\"1017\",\"type\":\"Grid\"},{\"attributes\":{\"dimension\":\"height\",\"line_dash\":[6],\"location\":-3.141592653589793},\"id\":\"4575\",\"type\":\"Span\"},{\"attributes\":{\"formatter\":{\"id\":\"1060\",\"type\":\"BasicTickFormatter\"},\"ticker\":{\"id\":\"1019\",\"type\":\"BasicTicker\"}},\"id\":\"1018\",\"type\":\"LinearAxis\"},{\"attributes\":{\"data_source\":{\"id\":\"3282\",\"type\":\"ColumnDataSource\"},\"glyph\":{\"id\":\"3283\",\"type\":\"MultiLine\"},\"hover_glyph\":null,\"muted_glyph\":null,\"nonselection_glyph\":{\"id\":\"3284\",\"type\":\"MultiLine\"},\"selection_glyph\":null,\"view\":{\"id\":\"3286\",\"type\":\"CDSView\"}},\"id\":\"3285\",\"type\":\"GlyphRenderer\"},{\"attributes\":{},\"id\":\"1019\",\"type\":\"BasicTicker\"},{\"attributes\":{\"dimension\":\"height\",\"line_dash\":[6],\"location\":-1.5707963267948966},\"id\":\"1382\",\"type\":\"Span\"},{\"attributes\":{\"dimension\":\"height\",\"line_dash\":[6],\"location\":1.5707963267948966},\"id\":\"1381\",\"type\":\"Span\"},{\"attributes\":{\"dimension\":1,\"ticker\":{\"id\":\"1019\",\"type\":\"BasicTicker\"}},\"id\":\"1022\",\"type\":\"Grid\"},{\"attributes\":{\"size\":10},\"id\":\"1887\",\"type\":\"VeeHead\"},{\"attributes\":{\"line_dash\":[6],\"location\":1.5707963267948966},\"id\":\"1383\",\"type\":\"Span\"},{\"attributes\":{\"callback\":null,\"data\":{\"xs\":[[-3.141592653589793,3.141592653589793],[-3.141592653589793,3.141592653589793]],\"ys\":[[3.141592653589793,-3.141592653589793],[-3.141592653589793,3.141592653589793]]},\"selected\":{\"id\":\"1826\",\"type\":\"Selection\"},\"selection_policy\":{\"id\":\"1825\",\"type\":\"UnionRenderers\"}},\"id\":\"1802\",\"type\":\"ColumnDataSource\"},{\"attributes\":{\"active_drag\":\"auto\",\"active_inspect\":\"auto\",\"active_multi\":null,\"active_scroll\":\"auto\",\"active_tap\":\"auto\"},\"id\":\"1023\",\"type\":\"Toolbar\"},{\"attributes\":{\"line_width\":{\"value\":2},\"xs\":{\"field\":\"xs\"},\"ys\":{\"field\":\"ys\"}},\"id\":\"1803\",\"type\":\"MultiLine\"},{\"attributes\":{\"below\":[{\"id\":\"1040\",\"type\":\"LinearAxis\"}],\"center\":[{\"id\":\"1044\",\"type\":\"Grid\"},{\"id\":\"1049\",\"type\":\"Grid\"},{\"id\":\"1177\",\"type\":\"Arrow\"},{\"id\":\"1180\",\"type\":\"Arrow\"},{\"id\":\"1183\",\"type\":\"Arrow\"},{\"id\":\"1186\",\"type\":\"Arrow\"},{\"id\":\"1888\",\"type\":\"Arrow\"},{\"id\":\"1891\",\"type\":\"Arrow\"},{\"id\":\"1894\",\"type\":\"Arrow\"},{\"id\":\"1897\",\"type\":\"Arrow\"},{\"id\":\"3470\",\"type\":\"Arrow\"},{\"id\":\"3473\",\"type\":\"Arrow\"},{\"id\":\"3476\",\"type\":\"Arrow\"},{\"id\":\"3479\",\"type\":\"Arrow\"}],\"left\":[{\"id\":\"1045\",\"type\":\"LinearAxis\"}],\"plot_height\":400,\"plot_width\":400,\"renderers\":[{\"id\":\"1054\",\"type\":\"GlyphRenderer\"},{\"id\":\"1158\",\"type\":\"GlyphRenderer\"},{\"id\":\"1381\",\"type\":\"Span\"},{\"id\":\"1382\",\"type\":\"Span\"},{\"id\":\"1383\",\"type\":\"Span\"},{\"id\":\"1384\",\"type\":\"Span\"},{\"id\":\"1565\",\"type\":\"GlyphRenderer\"},{\"id\":\"1805\",\"type\":\"GlyphRenderer\"},{\"id\":\"2443\",\"type\":\"GlyphRenderer\"},{\"id\":\"2823\",\"type\":\"GlyphRenderer\"},{\"id\":\"3285\",\"type\":\"GlyphRenderer\"},{\"id\":\"4574\",\"type\":\"Span\"},{\"id\":\"4575\",\"type\":\"Span\"},{\"id\":\"4576\",\"type\":\"Span\"},{\"id\":\"4577\",\"type\":\"Span\"}],\"title\":{\"id\":\"1030\",\"type\":\"Title\"},\"toolbar\":{\"id\":\"1050\",\"type\":\"Toolbar\"},\"x_range\":{\"id\":\"1032\",\"type\":\"Range1d\"},\"x_scale\":{\"id\":\"1036\",\"type\":\"LinearScale\"},\"y_range\":{\"id\":\"1034\",\"type\":\"Range1d\"},\"y_scale\":{\"id\":\"1038\",\"type\":\"LinearScale\"}},\"id\":\"1029\",\"subtype\":\"Figure\",\"type\":\"Plot\"},{\"attributes\":{\"line_alpha\":{\"value\":0.1},\"line_color\":{\"value\":\"#1f77b4\"},\"line_width\":{\"value\":2},\"xs\":{\"field\":\"xs\"},\"ys\":{\"field\":\"ys\"}},\"id\":\"1804\",\"type\":\"MultiLine\"},{\"attributes\":{\"data_source\":{\"id\":\"1802\",\"type\":\"ColumnDataSource\"},\"glyph\":{\"id\":\"1803\",\"type\":\"MultiLine\"},\"hover_glyph\":null,\"muted_glyph\":null,\"nonselection_glyph\":{\"id\":\"1804\",\"type\":\"MultiLine\"},\"selection_glyph\":null,\"view\":{\"id\":\"1806\",\"type\":\"CDSView\"},\"visible\":false},\"id\":\"1805\",\"type\":\"GlyphRenderer\"},{\"attributes\":{\"size\":10},\"id\":\"3472\",\"type\":\"VeeHead\"},{\"attributes\":{\"source\":{\"id\":\"1802\",\"type\":\"ColumnDataSource\"}},\"id\":\"1806\",\"type\":\"CDSView\"},{\"attributes\":{},\"id\":\"1825\",\"type\":\"UnionRenderers\"},{\"attributes\":{},\"id\":\"1060\",\"type\":\"BasicTickFormatter\"},{\"attributes\":{\"source\":{\"id\":\"3282\",\"type\":\"ColumnDataSource\"}},\"id\":\"3286\",\"type\":\"CDSView\"},{\"attributes\":{\"callback\":null,\"data\":{\"x\":[0.0,3.141592653589793,0.0,-3.141592653589793,0.0],\"y\":[3.141592653589793,0.0,-3.141592653589793,0.0,3.141592653589793]},\"selected\":{\"id\":\"2848\",\"type\":\"Selection\"},\"selection_policy\":{\"id\":\"2847\",\"type\":\"UnionRenderers\"}},\"id\":\"2820\",\"type\":\"ColumnDataSource\"},{\"attributes\":{\"size\":10},\"id\":\"1179\",\"type\":\"VeeHead\"},{\"attributes\":{\"text\":\"Reciprocal space lattice\"},\"id\":\"1030\",\"type\":\"Title\"},{\"attributes\":{\"callback\":null,\"end\":10,\"start\":-10},\"id\":\"1032\",\"type\":\"Range1d\"},{\"attributes\":{},\"id\":\"1826\",\"type\":\"Selection\"},{\"attributes\":{\"callback\":null,\"data\":{\"xs\":[[6.283185307179586,-6.283185307179586],[0,0]],\"ys\":[[0,0],[6.283185307179586,-6.283185307179586]]},\"selected\":{\"id\":\"3312\",\"type\":\"Selection\"},\"selection_policy\":{\"id\":\"3311\",\"type\":\"UnionRenderers\"}},\"id\":\"3282\",\"type\":\"ColumnDataSource\"},{\"attributes\":{\"callback\":null,\"end\":10,\"start\":-10},\"id\":\"1034\",\"type\":\"Range1d\"},{\"attributes\":{\"end\":{\"id\":\"1887\",\"type\":\"VeeHead\"},\"source\":null,\"start\":null,\"visible\":false,\"x_end\":{\"value\":3.141592653589793},\"x_start\":{\"value\":0},\"y_end\":{\"value\":3.141592653589793},\"y_start\":{\"value\":0}},\"id\":\"1888\",\"type\":\"Arrow\"},{\"attributes\":{\"size\":10},\"id\":\"1890\",\"type\":\"VeeHead\"},{\"attributes\":{},\"id\":\"1036\",\"type\":\"LinearScale\"},{\"attributes\":{\"size\":10},\"id\":\"1893\",\"type\":\"VeeHead\"},{\"attributes\":{\"size\":10},\"id\":\"3469\",\"type\":\"VeeHead\"},{\"attributes\":{},\"id\":\"1038\",\"type\":\"LinearScale\"},{\"attributes\":{\"end\":{\"id\":\"1890\",\"type\":\"VeeHead\"},\"source\":null,\"start\":null,\"visible\":false,\"x_end\":{\"value\":-3.141592653589793},\"x_start\":{\"value\":0},\"y_end\":{\"value\":-3.141592653589793},\"y_start\":{\"value\":0}},\"id\":\"1891\",\"type\":\"Arrow\"},{\"attributes\":{},\"id\":\"3311\",\"type\":\"UnionRenderers\"},{\"attributes\":{\"fill_color\":{\"value\":\"blue\"},\"line_color\":{\"value\":null},\"line_width\":{\"value\":3},\"size\":{\"units\":\"screen\",\"value\":10},\"x\":{\"field\":\"x\"},\"y\":{\"field\":\"y\"}},\"id\":\"1025\",\"type\":\"Circle\"},{\"attributes\":{\"size\":10},\"id\":\"1896\",\"type\":\"VeeHead\"},{\"attributes\":{\"line_alpha\":{\"value\":0.1},\"line_color\":{\"value\":\"#1f77b4\"},\"line_width\":{\"value\":2},\"xs\":{\"field\":\"xs\"},\"ys\":{\"field\":\"ys\"}},\"id\":\"3284\",\"type\":\"MultiLine\"},{\"attributes\":{\"end\":{\"id\":\"1893\",\"type\":\"VeeHead\"},\"source\":null,\"start\":null,\"visible\":false,\"x_end\":{\"value\":-3.141592653589793},\"x_start\":{\"value\":0},\"y_end\":{\"value\":3.141592653589793},\"y_start\":{\"value\":0}},\"id\":\"1894\",\"type\":\"Arrow\"},{\"attributes\":{},\"id\":\"1068\",\"type\":\"Selection\"},{\"attributes\":{},\"id\":\"1062\",\"type\":\"BasicTickFormatter\"},{\"attributes\":{\"formatter\":{\"id\":\"1066\",\"type\":\"BasicTickFormatter\"},\"ticker\":{\"id\":\"1041\",\"type\":\"BasicTicker\"}},\"id\":\"1040\",\"type\":\"LinearAxis\"},{\"attributes\":{\"size\":10},\"id\":\"3478\",\"type\":\"VeeHead\"},{\"attributes\":{\"line_dash\":[6],\"location\":3.141592653589793},\"id\":\"4576\",\"type\":\"Span\"},{\"attributes\":{\"end\":{\"id\":\"3478\",\"type\":\"VeeHead\"},\"source\":null,\"start\":null,\"x_end\":{\"value\":0},\"x_start\":{\"value\":0},\"y_end\":{\"value\":-6.283185307179586},\"y_start\":{\"value\":0}},\"id\":\"3479\",\"type\":\"Arrow\"},{\"attributes\":{\"fill_alpha\":{\"value\":0.1},\"fill_color\":{\"value\":\"#1f77b4\"},\"line_alpha\":{\"value\":0.1},\"line_color\":{\"value\":\"#1f77b4\"},\"line_width\":{\"value\":3},\"size\":{\"units\":\"screen\",\"value\":10},\"x\":{\"field\":\"x\"},\"y\":{\"field\":\"y\"}},\"id\":\"1026\",\"type\":\"Circle\"},{\"attributes\":{\"source\":{\"id\":\"1562\",\"type\":\"ColumnDataSource\"}},\"id\":\"1566\",\"type\":\"CDSView\"},{\"attributes\":{\"fill_color\":\"red\",\"line_color\":\"red\",\"line_width\":2,\"x\":{\"field\":\"x\"},\"y\":{\"field\":\"y\"}},\"id\":\"1563\",\"type\":\"Patch\"},{\"attributes\":{},\"id\":\"3312\",\"type\":\"Selection\"},{\"attributes\":{\"callback\":null,\"data\":{\"x\":[1.5707963267948966,1.5707963267948966,-1.5707963267948966,-1.5707963267948966,1.5707963267948966],\"y\":[1.5707963267948966,-1.5707963267948966,-1.5707963267948966,1.5707963267948966,1.5707963267948966]},\"selected\":{\"id\":\"1584\",\"type\":\"Selection\"},\"selection_policy\":{\"id\":\"1583\",\"type\":\"UnionRenderers\"}},\"id\":\"1562\",\"type\":\"ColumnDataSource\"},{\"attributes\":{\"end\":{\"id\":\"3469\",\"type\":\"VeeHead\"},\"source\":null,\"start\":null,\"x_end\":{\"value\":6.283185307179586},\"x_start\":{\"value\":0},\"y_end\":{\"value\":0},\"y_start\":{\"value\":0}},\"id\":\"3470\",\"type\":\"Arrow\"},{\"attributes\":{\"size\":10},\"id\":\"3475\",\"type\":\"VeeHead\"},{\"attributes\":{\"size\":10},\"id\":\"1176\",\"type\":\"VeeHead\"},{\"attributes\":{\"callback\":null,\"data\":{\"xs\":[[3.141592653589793,-3.141592653589793],[0,0]],\"ys\":[[0,0],[3.141592653589793,-3.141592653589793]]},\"selected\":{\"id\":\"1175\",\"type\":\"Selection\"},\"selection_policy\":{\"id\":\"1174\",\"type\":\"UnionRenderers\"}},\"id\":\"1155\",\"type\":\"ColumnDataSource\"},{\"attributes\":{\"data_source\":{\"id\":\"1024\",\"type\":\"ColumnDataSource\"},\"glyph\":{\"id\":\"1025\",\"type\":\"Circle\"},\"hover_glyph\":null,\"muted_glyph\":null,\"nonselection_glyph\":{\"id\":\"1026\",\"type\":\"Circle\"},\"selection_glyph\":null,\"view\":{\"id\":\"1028\",\"type\":\"CDSView\"}},\"id\":\"1027\",\"type\":\"GlyphRenderer\"},{\"attributes\":{\"line_width\":{\"value\":2},\"xs\":{\"field\":\"xs\"},\"ys\":{\"field\":\"ys\"}},\"id\":\"1156\",\"type\":\"MultiLine\"},{\"attributes\":{\"line_alpha\":{\"value\":0.1},\"line_color\":{\"value\":\"#1f77b4\"},\"line_width\":{\"value\":2},\"xs\":{\"field\":\"xs\"},\"ys\":{\"field\":\"ys\"}},\"id\":\"1157\",\"type\":\"MultiLine\"},{\"attributes\":{\"data_source\":{\"id\":\"1155\",\"type\":\"ColumnDataSource\"},\"glyph\":{\"id\":\"1156\",\"type\":\"MultiLine\"},\"hover_glyph\":null,\"muted_glyph\":null,\"nonselection_glyph\":{\"id\":\"1157\",\"type\":\"MultiLine\"},\"selection_glyph\":null,\"view\":{\"id\":\"1159\",\"type\":\"CDSView\"},\"visible\":false},\"id\":\"1158\",\"type\":\"GlyphRenderer\"},{\"attributes\":{\"line_dash\":[6],\"location\":-3.141592653589793},\"id\":\"4577\",\"type\":\"Span\"},{\"attributes\":{\"source\":{\"id\":\"1155\",\"type\":\"ColumnDataSource\"}},\"id\":\"1159\",\"type\":\"CDSView\"},{\"attributes\":{},\"id\":\"1583\",\"type\":\"UnionRenderers\"},{\"attributes\":{},\"id\":\"1174\",\"type\":\"UnionRenderers\"},{\"attributes\":{},\"id\":\"1064\",\"type\":\"BasicTickFormatter\"},{\"attributes\":{},\"id\":\"1175\",\"type\":\"Selection\"},{\"attributes\":{\"data_source\":{\"id\":\"2820\",\"type\":\"ColumnDataSource\"},\"glyph\":{\"id\":\"2821\",\"type\":\"Patch\"},\"hover_glyph\":null,\"muted_glyph\":null,\"nonselection_glyph\":{\"id\":\"2822\",\"type\":\"Patch\"},\"selection_glyph\":null,\"view\":{\"id\":\"2824\",\"type\":\"CDSView\"},\"visible\":false},\"id\":\"2823\",\"type\":\"GlyphRenderer\"},{\"attributes\":{\"end\":{\"id\":\"1176\",\"type\":\"VeeHead\"},\"source\":null,\"start\":null,\"visible\":false,\"x_end\":{\"value\":3.141592653589793},\"x_start\":{\"value\":0},\"y_end\":{\"value\":0},\"y_start\":{\"value\":0}},\"id\":\"1177\",\"type\":\"Arrow\"},{\"attributes\":{\"size\":10},\"id\":\"1182\",\"type\":\"VeeHead\"},{\"attributes\":{\"fill_alpha\":0.1,\"fill_color\":\"#1f77b4\",\"line_alpha\":0.1,\"line_color\":\"#1f77b4\",\"line_width\":2,\"x\":{\"field\":\"x\"},\"y\":{\"field\":\"y\"}},\"id\":\"2822\",\"type\":\"Patch\"},{\"attributes\":{\"end\":{\"id\":\"1179\",\"type\":\"VeeHead\"},\"source\":null,\"start\":null,\"visible\":false,\"x_end\":{\"value\":-3.141592653589793},\"x_start\":{\"value\":0},\"y_end\":{\"value\":0},\"y_start\":{\"value\":0}},\"id\":\"1180\",\"type\":\"Arrow\"},{\"attributes\":{\"size\":10},\"id\":\"1185\",\"type\":\"VeeHead\"},{\"attributes\":{\"end\":{\"id\":\"1182\",\"type\":\"VeeHead\"},\"source\":null,\"start\":null,\"visible\":false,\"x_end\":{\"value\":0},\"x_start\":{\"value\":0},\"y_end\":{\"value\":3.141592653589793},\"y_start\":{\"value\":0}},\"id\":\"1183\",\"type\":\"Arrow\"},{\"attributes\":{\"fill_color\":\"#1f77b4\",\"line_color\":\"#1f77b4\",\"line_width\":2,\"x\":{\"field\":\"x\"},\"y\":{\"field\":\"y\"}},\"id\":\"2821\",\"type\":\"Patch\"},{\"attributes\":{\"end\":{\"id\":\"1185\",\"type\":\"VeeHead\"},\"source\":null,\"start\":null,\"visible\":false,\"x_end\":{\"value\":0},\"x_start\":{\"value\":0},\"y_end\":{\"value\":-3.141592653589793},\"y_start\":{\"value\":0}},\"id\":\"1186\",\"type\":\"Arrow\"},{\"attributes\":{},\"id\":\"1584\",\"type\":\"Selection\"},{\"attributes\":{\"end\":{\"id\":\"3475\",\"type\":\"VeeHead\"},\"source\":null,\"start\":null,\"x_end\":{\"value\":0},\"x_start\":{\"value\":0},\"y_end\":{\"value\":6.283185307179586},\"y_start\":{\"value\":0}},\"id\":\"3476\",\"type\":\"Arrow\"},{\"attributes\":{\"fill_alpha\":0.1,\"fill_color\":\"#1f77b4\",\"line_alpha\":0.1,\"line_color\":\"#1f77b4\",\"line_width\":2,\"x\":{\"field\":\"x\"},\"y\":{\"field\":\"y\"}},\"id\":\"1564\",\"type\":\"Patch\"},{\"attributes\":{\"source\":{\"id\":\"2820\",\"type\":\"ColumnDataSource\"}},\"id\":\"2824\",\"type\":\"CDSView\"},{\"attributes\":{\"end\":{\"id\":\"3472\",\"type\":\"VeeHead\"},\"source\":null,\"start\":null,\"x_end\":{\"value\":-6.283185307179586},\"x_start\":{\"value\":0},\"y_end\":{\"value\":0},\"y_start\":{\"value\":0}},\"id\":\"3473\",\"type\":\"Arrow\"},{\"attributes\":{\"data_source\":{\"id\":\"1562\",\"type\":\"ColumnDataSource\"},\"glyph\":{\"id\":\"1563\",\"type\":\"Patch\"},\"hover_glyph\":null,\"muted_glyph\":null,\"nonselection_glyph\":{\"id\":\"1564\",\"type\":\"Patch\"},\"selection_glyph\":null,\"view\":{\"id\":\"1566\",\"type\":\"CDSView\"},\"visible\":false},\"id\":\"1565\",\"type\":\"GlyphRenderer\"}],\"root_ids\":[\"4786\"]},\"title\":\"Bokeh Application\",\"version\":\"1.4.0\"}};\n",
       "  var render_items = [{\"docid\":\"5ac89fc8-daf6-4202-8cc3-4d9c121e790f\",\"roots\":{\"4786\":\"49175b94-4f95-4b94-b397-a135cf9a4fe6\"}}];\n",
       "  root.Bokeh.embed.embed_items_notebook(docs_json, render_items);\n",
       "\n",
       "  }\n",
       "  if (root.Bokeh !== undefined) {\n",
       "    embed_document(root);\n",
       "  } else {\n",
       "    var attempts = 0;\n",
       "    var timer = setInterval(function(root) {\n",
       "      if (root.Bokeh !== undefined) {\n",
       "        clearInterval(timer);\n",
       "        embed_document(root);\n",
       "      } else {\n",
       "        attempts++;\n",
       "        if (attempts > 100) {\n",
       "          clearInterval(timer);\n",
       "          console.log(\"Bokeh: ERROR: Unable to run BokehJS code because BokehJS library is missing\");\n",
       "        }\n",
       "      }\n",
       "    }, 10, root)\n",
       "  }\n",
       "})(window);"
      ],
      "application/vnd.bokehjs_exec.v0+json": ""
     },
     "metadata": {
      "application/vnd.bokehjs_exec.v0+json": {
       "id": "4786"
      }
     },
     "output_type": "display_data"
    }
   ],
   "source": [
    "# construct bragg planes for the third brillouin zone\n",
    "bgp1 = Span(location = b2[0], dimension = \"height\", line_dash=\"dashed\");\n",
    "bgp2 = Span(location = -b2[0], dimension = \"height\", line_dash=\"dashed\");\n",
    "bgp3 = Span(location = b1[1], dimension = \"width\", line_dash=\"dashed\");\n",
    "bgp4 = Span(location = -b1[1], dimension = \"width\", line_dash=\"dashed\");\n",
    "bragg3 = img.renderers.extend([bgp1,bgp2,bgp3,bgp4]);\n",
    "show(row(real, img))"
   ]
  },
  {
   "cell_type": "code",
   "execution_count": 17,
   "metadata": {},
   "outputs": [
    {
     "data": {
      "text/html": [
       "\n",
       "\n",
       "\n",
       "\n",
       "\n",
       "\n",
       "  <div class=\"bk-root\" id=\"67091939-0d01-4f16-a020-8a69dd534a1f\" data-root-id=\"5434\"></div>\n"
      ]
     },
     "metadata": {},
     "output_type": "display_data"
    },
    {
     "data": {
      "application/javascript": [
       "(function(root) {\n",
       "  function embed_document(root) {\n",
       "    \n",
       "  var docs_json = {\"eecceba3-feb9-4872-a06a-23f575202ae3\":{\"roots\":{\"references\":[{\"attributes\":{\"children\":[{\"id\":\"1002\",\"subtype\":\"Figure\",\"type\":\"Plot\"},{\"id\":\"1029\",\"subtype\":\"Figure\",\"type\":\"Plot\"}]},\"id\":\"5434\",\"type\":\"Row\"},{\"attributes\":{},\"id\":\"1041\",\"type\":\"BasicTicker\"},{\"attributes\":{\"ticker\":{\"id\":\"1041\",\"type\":\"BasicTicker\"}},\"id\":\"1044\",\"type\":\"Grid\"},{\"attributes\":{},\"id\":\"1069\",\"type\":\"UnionRenderers\"},{\"attributes\":{\"dimension\":\"height\",\"line_dash\":[6],\"location\":3.141592653589793},\"id\":\"4574\",\"type\":\"Span\"},{\"attributes\":{\"formatter\":{\"id\":\"1064\",\"type\":\"BasicTickFormatter\"},\"ticker\":{\"id\":\"1046\",\"type\":\"BasicTicker\"}},\"id\":\"1045\",\"type\":\"LinearAxis\"},{\"attributes\":{},\"id\":\"1070\",\"type\":\"Selection\"},{\"attributes\":{\"end\":{\"id\":\"1896\",\"type\":\"VeeHead\"},\"source\":null,\"start\":null,\"visible\":false,\"x_end\":{\"value\":3.141592653589793},\"x_start\":{\"value\":0},\"y_end\":{\"value\":-3.141592653589793},\"y_start\":{\"value\":0}},\"id\":\"1897\",\"type\":\"Arrow\"},{\"attributes\":{},\"id\":\"1046\",\"type\":\"BasicTicker\"},{\"attributes\":{},\"id\":\"1067\",\"type\":\"UnionRenderers\"},{\"attributes\":{\"line_dash\":[6],\"location\":-1.5707963267948966},\"id\":\"1384\",\"type\":\"Span\"},{\"attributes\":{\"dimension\":1,\"ticker\":{\"id\":\"1046\",\"type\":\"BasicTicker\"}},\"id\":\"1049\",\"type\":\"Grid\"},{\"attributes\":{\"active_drag\":\"auto\",\"active_inspect\":\"auto\",\"active_multi\":null,\"active_scroll\":\"auto\",\"active_tap\":\"auto\"},\"id\":\"1050\",\"type\":\"Toolbar\"},{\"attributes\":{\"callback\":null,\"data\":{\"angle\":[45,-135,135,-45,-135,45,-45,135],\"x\":[-3.141592653589793,3.141592653589793,0.0,0.0,-3.141592653589793,3.141592653589793,0.0,0.0],\"y\":[0.0,0.0,-3.141592653589793,3.141592653589793,0.0,0.0,-3.141592653589793,3.141592653589793]},\"selected\":{\"id\":\"2466\",\"type\":\"Selection\"},\"selection_policy\":{\"id\":\"2465\",\"type\":\"UnionRenderers\"}},\"id\":\"2440\",\"type\":\"ColumnDataSource\"},{\"attributes\":{\"angle\":{\"field\":\"angle\",\"units\":\"deg\"},\"length\":{\"units\":\"data\",\"value\":0},\"line_dash\":[6],\"x\":{\"field\":\"x\"},\"y\":{\"field\":\"y\"}},\"id\":\"2441\",\"type\":\"Ray\"},{\"attributes\":{},\"id\":\"1066\",\"type\":\"BasicTickFormatter\"},{\"attributes\":{\"fill_color\":{\"value\":\"red\"},\"line_color\":{\"value\":null},\"line_width\":{\"value\":3},\"size\":{\"units\":\"screen\",\"value\":10},\"x\":{\"field\":\"x\"},\"y\":{\"field\":\"y\"}},\"id\":\"1052\",\"type\":\"Circle\"},{\"attributes\":{\"fill_alpha\":{\"value\":0.1},\"fill_color\":{\"value\":\"#1f77b4\"},\"line_alpha\":{\"value\":0.1},\"line_color\":{\"value\":\"#1f77b4\"},\"line_width\":{\"value\":3},\"size\":{\"units\":\"screen\",\"value\":10},\"x\":{\"field\":\"x\"},\"y\":{\"field\":\"y\"}},\"id\":\"1053\",\"type\":\"Circle\"},{\"attributes\":{\"callback\":null,\"data\":{\"x\":{\"__ndarray__\":\"0iEzf3zZIsAYLURU+yEZwBgtRFT7IQnAAAAAAAAAAAAYLURU+yEJQBgtRFT7IRlA0iEzf3zZIkDSITN/fNkiwBgtRFT7IRnAGC1EVPshCcAAAAAAAAAAABgtRFT7IQlAGC1EVPshGUDSITN/fNkiQNIhM3982SLAGC1EVPshGcAYLURU+yEJwAAAAAAAAAAAGC1EVPshCUAYLURU+yEZQNIhM3982SJA0iEzf3zZIsAYLURU+yEZwBgtRFT7IQnAAAAAAAAAAAAYLURU+yEJQBgtRFT7IRlA0iEzf3zZIkDSITN/fNkiwBgtRFT7IRnAGC1EVPshCcAAAAAAAAAAABgtRFT7IQlAGC1EVPshGUDSITN/fNkiQNIhM3982SLAGC1EVPshGcAYLURU+yEJwAAAAAAAAAAAGC1EVPshCUAYLURU+yEZQNIhM3982SJA0iEzf3zZIsAYLURU+yEZwBgtRFT7IQnAAAAAAAAAAAAYLURU+yEJQBgtRFT7IRlA0iEzf3zZIkA=\",\"dtype\":\"float64\",\"shape\":[49]},\"y\":{\"__ndarray__\":\"0iEzf3zZIsDSITN/fNkiwNIhM3982SLA0iEzf3zZIsDSITN/fNkiwNIhM3982SLA0iEzf3zZIsAYLURU+yEZwBgtRFT7IRnAGC1EVPshGcAYLURU+yEZwBgtRFT7IRnAGC1EVPshGcAYLURU+yEZwBgtRFT7IQnAGC1EVPshCcAYLURU+yEJwBgtRFT7IQnAGC1EVPshCcAYLURU+yEJwBgtRFT7IQnAAAAAAAAAAAAAAAAAAAAAAAAAAAAAAAAAAAAAAAAAAAAAAAAAAAAAAAAAAAAAAAAAAAAAAAAAAAAYLURU+yEJQBgtRFT7IQlAGC1EVPshCUAYLURU+yEJQBgtRFT7IQlAGC1EVPshCUAYLURU+yEJQBgtRFT7IRlAGC1EVPshGUAYLURU+yEZQBgtRFT7IRlAGC1EVPshGUAYLURU+yEZQBgtRFT7IRlA0iEzf3zZIkDSITN/fNkiQNIhM3982SJA0iEzf3zZIkDSITN/fNkiQNIhM3982SJA0iEzf3zZIkA=\",\"dtype\":\"float64\",\"shape\":[49]}},\"selected\":{\"id\":\"1070\",\"type\":\"Selection\"},\"selection_policy\":{\"id\":\"1069\",\"type\":\"UnionRenderers\"}},\"id\":\"1051\",\"type\":\"ColumnDataSource\"},{\"attributes\":{\"angle\":{\"field\":\"angle\",\"units\":\"deg\"},\"length\":{\"units\":\"data\",\"value\":0},\"line_alpha\":{\"value\":0.1},\"line_color\":{\"value\":\"#1f77b4\"},\"line_dash\":[6],\"x\":{\"field\":\"x\"},\"y\":{\"field\":\"y\"}},\"id\":\"2442\",\"type\":\"Ray\"},{\"attributes\":{\"data_source\":{\"id\":\"2440\",\"type\":\"ColumnDataSource\"},\"glyph\":{\"id\":\"2441\",\"type\":\"Ray\"},\"hover_glyph\":null,\"level\":\"annotation\",\"muted_glyph\":null,\"nonselection_glyph\":{\"id\":\"2442\",\"type\":\"Ray\"},\"selection_glyph\":null,\"view\":{\"id\":\"2444\",\"type\":\"CDSView\"}},\"id\":\"2443\",\"type\":\"GlyphRenderer\"},{\"attributes\":{\"callback\":null,\"data\":{\"x\":{\"__ndarray__\":\"AAAAAAAAGMAAAAAAAAAQwAAAAAAAAADAAAAAAAAAAAAAAAAAAAAAQAAAAAAAABBAAAAAAAAAGEAAAAAAAAAYwAAAAAAAABDAAAAAAAAAAMAAAAAAAAAAAAAAAAAAAABAAAAAAAAAEEAAAAAAAAAYQAAAAAAAABjAAAAAAAAAEMAAAAAAAAAAwAAAAAAAAAAAAAAAAAAAAEAAAAAAAAAQQAAAAAAAABhAAAAAAAAAGMAAAAAAAAAQwAAAAAAAAADAAAAAAAAAAAAAAAAAAAAAQAAAAAAAABBAAAAAAAAAGEAAAAAAAAAYwAAAAAAAABDAAAAAAAAAAMAAAAAAAAAAAAAAAAAAAABAAAAAAAAAEEAAAAAAAAAYQAAAAAAAABjAAAAAAAAAEMAAAAAAAAAAwAAAAAAAAAAAAAAAAAAAAEAAAAAAAAAQQAAAAAAAABhAAAAAAAAAGMAAAAAAAAAQwAAAAAAAAADAAAAAAAAAAAAAAAAAAAAAQAAAAAAAABBAAAAAAAAAGEA=\",\"dtype\":\"float64\",\"shape\":[49]},\"y\":{\"__ndarray__\":\"AAAAAAAAGMAAAAAAAAAYwAAAAAAAABjAAAAAAAAAGMAAAAAAAAAYwAAAAAAAABjAAAAAAAAAGMAAAAAAAAAQwAAAAAAAABDAAAAAAAAAEMAAAAAAAAAQwAAAAAAAABDAAAAAAAAAEMAAAAAAAAAQwAAAAAAAAADAAAAAAAAAAMAAAAAAAAAAwAAAAAAAAADAAAAAAAAAAMAAAAAAAAAAwAAAAAAAAADAAAAAAAAAAAAAAAAAAAAAAAAAAAAAAAAAAAAAAAAAAAAAAAAAAAAAAAAAAAAAAAAAAAAAAAAAAAAAAAAAAAAAQAAAAAAAAABAAAAAAAAAAEAAAAAAAAAAQAAAAAAAAABAAAAAAAAAAEAAAAAAAAAAQAAAAAAAABBAAAAAAAAAEEAAAAAAAAAQQAAAAAAAABBAAAAAAAAAEEAAAAAAAAAQQAAAAAAAABBAAAAAAAAAGEAAAAAAAAAYQAAAAAAAABhAAAAAAAAAGEAAAAAAAAAYQAAAAAAAABhAAAAAAAAAGEA=\",\"dtype\":\"float64\",\"shape\":[49]}},\"selected\":{\"id\":\"1068\",\"type\":\"Selection\"},\"selection_policy\":{\"id\":\"1067\",\"type\":\"UnionRenderers\"}},\"id\":\"1024\",\"type\":\"ColumnDataSource\"},{\"attributes\":{\"below\":[{\"id\":\"1013\",\"type\":\"LinearAxis\"}],\"center\":[{\"id\":\"1017\",\"type\":\"Grid\"},{\"id\":\"1022\",\"type\":\"Grid\"}],\"left\":[{\"id\":\"1018\",\"type\":\"LinearAxis\"}],\"plot_height\":400,\"plot_width\":400,\"renderers\":[{\"id\":\"1027\",\"type\":\"GlyphRenderer\"}],\"title\":{\"id\":\"1003\",\"type\":\"Title\"},\"toolbar\":{\"id\":\"1023\",\"type\":\"Toolbar\"},\"x_range\":{\"id\":\"1005\",\"type\":\"Range1d\"},\"x_scale\":{\"id\":\"1009\",\"type\":\"LinearScale\"},\"y_range\":{\"id\":\"1007\",\"type\":\"Range1d\"},\"y_scale\":{\"id\":\"1011\",\"type\":\"LinearScale\"}},\"id\":\"1002\",\"subtype\":\"Figure\",\"type\":\"Plot\"},{\"attributes\":{\"data_source\":{\"id\":\"1051\",\"type\":\"ColumnDataSource\"},\"glyph\":{\"id\":\"1052\",\"type\":\"Circle\"},\"hover_glyph\":null,\"muted_glyph\":null,\"nonselection_glyph\":{\"id\":\"1053\",\"type\":\"Circle\"},\"selection_glyph\":null,\"view\":{\"id\":\"1055\",\"type\":\"CDSView\"}},\"id\":\"1054\",\"type\":\"GlyphRenderer\"},{\"attributes\":{},\"id\":\"2465\",\"type\":\"UnionRenderers\"},{\"attributes\":{\"source\":{\"id\":\"1051\",\"type\":\"ColumnDataSource\"}},\"id\":\"1055\",\"type\":\"CDSView\"},{\"attributes\":{\"source\":{\"id\":\"2440\",\"type\":\"ColumnDataSource\"}},\"id\":\"2444\",\"type\":\"CDSView\"},{\"attributes\":{\"text\":\"Real space lattice\"},\"id\":\"1003\",\"type\":\"Title\"},{\"attributes\":{\"callback\":null,\"end\":10,\"start\":-10},\"id\":\"1005\",\"type\":\"Range1d\"},{\"attributes\":{\"line_width\":{\"value\":2},\"xs\":{\"field\":\"xs\"},\"ys\":{\"field\":\"ys\"}},\"id\":\"3283\",\"type\":\"MultiLine\"},{\"attributes\":{\"callback\":null,\"end\":10,\"start\":-10},\"id\":\"1007\",\"type\":\"Range1d\"},{\"attributes\":{},\"id\":\"2466\",\"type\":\"Selection\"},{\"attributes\":{},\"id\":\"1009\",\"type\":\"LinearScale\"},{\"attributes\":{},\"id\":\"1011\",\"type\":\"LinearScale\"},{\"attributes\":{\"source\":{\"id\":\"1024\",\"type\":\"ColumnDataSource\"}},\"id\":\"1028\",\"type\":\"CDSView\"},{\"attributes\":{\"formatter\":{\"id\":\"1062\",\"type\":\"BasicTickFormatter\"},\"ticker\":{\"id\":\"1014\",\"type\":\"BasicTicker\"}},\"id\":\"1013\",\"type\":\"LinearAxis\"},{\"attributes\":{},\"id\":\"2847\",\"type\":\"UnionRenderers\"},{\"attributes\":{},\"id\":\"1014\",\"type\":\"BasicTicker\"},{\"attributes\":{},\"id\":\"2848\",\"type\":\"Selection\"},{\"attributes\":{\"source\":{\"id\":\"5177\",\"type\":\"ColumnDataSource\"}},\"id\":\"5181\",\"type\":\"CDSView\"},{\"attributes\":{\"ticker\":{\"id\":\"1014\",\"type\":\"BasicTicker\"}},\"id\":\"1017\",\"type\":\"Grid\"},{\"attributes\":{\"dimension\":\"height\",\"line_dash\":[6],\"location\":-3.141592653589793},\"id\":\"4575\",\"type\":\"Span\"},{\"attributes\":{\"formatter\":{\"id\":\"1060\",\"type\":\"BasicTickFormatter\"},\"ticker\":{\"id\":\"1019\",\"type\":\"BasicTicker\"}},\"id\":\"1018\",\"type\":\"LinearAxis\"},{\"attributes\":{\"data_source\":{\"id\":\"3282\",\"type\":\"ColumnDataSource\"},\"glyph\":{\"id\":\"3283\",\"type\":\"MultiLine\"},\"hover_glyph\":null,\"muted_glyph\":null,\"nonselection_glyph\":{\"id\":\"3284\",\"type\":\"MultiLine\"},\"selection_glyph\":null,\"view\":{\"id\":\"3286\",\"type\":\"CDSView\"}},\"id\":\"3285\",\"type\":\"GlyphRenderer\"},{\"attributes\":{},\"id\":\"1019\",\"type\":\"BasicTicker\"},{\"attributes\":{\"dimension\":\"height\",\"line_dash\":[6],\"location\":-1.5707963267948966},\"id\":\"1382\",\"type\":\"Span\"},{\"attributes\":{\"dimension\":\"height\",\"line_dash\":[6],\"location\":1.5707963267948966},\"id\":\"1381\",\"type\":\"Span\"},{\"attributes\":{\"dimension\":1,\"ticker\":{\"id\":\"1019\",\"type\":\"BasicTicker\"}},\"id\":\"1022\",\"type\":\"Grid\"},{\"attributes\":{\"size\":10},\"id\":\"1887\",\"type\":\"VeeHead\"},{\"attributes\":{\"line_dash\":[6],\"location\":1.5707963267948966},\"id\":\"1383\",\"type\":\"Span\"},{\"attributes\":{\"callback\":null,\"data\":{\"xs\":[[-3.141592653589793,3.141592653589793],[-3.141592653589793,3.141592653589793]],\"ys\":[[3.141592653589793,-3.141592653589793],[-3.141592653589793,3.141592653589793]]},\"selected\":{\"id\":\"1826\",\"type\":\"Selection\"},\"selection_policy\":{\"id\":\"1825\",\"type\":\"UnionRenderers\"}},\"id\":\"1802\",\"type\":\"ColumnDataSource\"},{\"attributes\":{\"active_drag\":\"auto\",\"active_inspect\":\"auto\",\"active_multi\":null,\"active_scroll\":\"auto\",\"active_tap\":\"auto\"},\"id\":\"1023\",\"type\":\"Toolbar\"},{\"attributes\":{\"line_width\":{\"value\":2},\"xs\":{\"field\":\"xs\"},\"ys\":{\"field\":\"ys\"}},\"id\":\"1803\",\"type\":\"MultiLine\"},{\"attributes\":{\"below\":[{\"id\":\"1040\",\"type\":\"LinearAxis\"}],\"center\":[{\"id\":\"1044\",\"type\":\"Grid\"},{\"id\":\"1049\",\"type\":\"Grid\"},{\"id\":\"1177\",\"type\":\"Arrow\"},{\"id\":\"1180\",\"type\":\"Arrow\"},{\"id\":\"1183\",\"type\":\"Arrow\"},{\"id\":\"1186\",\"type\":\"Arrow\"},{\"id\":\"1888\",\"type\":\"Arrow\"},{\"id\":\"1891\",\"type\":\"Arrow\"},{\"id\":\"1894\",\"type\":\"Arrow\"},{\"id\":\"1897\",\"type\":\"Arrow\"},{\"id\":\"3470\",\"type\":\"Arrow\"},{\"id\":\"3473\",\"type\":\"Arrow\"},{\"id\":\"3476\",\"type\":\"Arrow\"},{\"id\":\"3479\",\"type\":\"Arrow\"}],\"left\":[{\"id\":\"1045\",\"type\":\"LinearAxis\"}],\"plot_height\":400,\"plot_width\":400,\"renderers\":[{\"id\":\"1054\",\"type\":\"GlyphRenderer\"},{\"id\":\"1158\",\"type\":\"GlyphRenderer\"},{\"id\":\"1381\",\"type\":\"Span\"},{\"id\":\"1382\",\"type\":\"Span\"},{\"id\":\"1383\",\"type\":\"Span\"},{\"id\":\"1384\",\"type\":\"Span\"},{\"id\":\"1565\",\"type\":\"GlyphRenderer\"},{\"id\":\"1805\",\"type\":\"GlyphRenderer\"},{\"id\":\"2443\",\"type\":\"GlyphRenderer\"},{\"id\":\"2823\",\"type\":\"GlyphRenderer\"},{\"id\":\"3285\",\"type\":\"GlyphRenderer\"},{\"id\":\"4574\",\"type\":\"Span\"},{\"id\":\"4575\",\"type\":\"Span\"},{\"id\":\"4576\",\"type\":\"Span\"},{\"id\":\"4577\",\"type\":\"Span\"},{\"id\":\"5180\",\"type\":\"GlyphRenderer\"}],\"title\":{\"id\":\"1030\",\"type\":\"Title\"},\"toolbar\":{\"id\":\"1050\",\"type\":\"Toolbar\"},\"x_range\":{\"id\":\"1032\",\"type\":\"Range1d\"},\"x_scale\":{\"id\":\"1036\",\"type\":\"LinearScale\"},\"y_range\":{\"id\":\"1034\",\"type\":\"Range1d\"},\"y_scale\":{\"id\":\"1038\",\"type\":\"LinearScale\"}},\"id\":\"1029\",\"subtype\":\"Figure\",\"type\":\"Plot\"},{\"attributes\":{\"line_alpha\":{\"value\":0.1},\"line_color\":{\"value\":\"#1f77b4\"},\"line_width\":{\"value\":2},\"xs\":{\"field\":\"xs\"},\"ys\":{\"field\":\"ys\"}},\"id\":\"1804\",\"type\":\"MultiLine\"},{\"attributes\":{\"data_source\":{\"id\":\"1802\",\"type\":\"ColumnDataSource\"},\"glyph\":{\"id\":\"1803\",\"type\":\"MultiLine\"},\"hover_glyph\":null,\"muted_glyph\":null,\"nonselection_glyph\":{\"id\":\"1804\",\"type\":\"MultiLine\"},\"selection_glyph\":null,\"view\":{\"id\":\"1806\",\"type\":\"CDSView\"},\"visible\":false},\"id\":\"1805\",\"type\":\"GlyphRenderer\"},{\"attributes\":{\"size\":10},\"id\":\"3472\",\"type\":\"VeeHead\"},{\"attributes\":{\"source\":{\"id\":\"1802\",\"type\":\"ColumnDataSource\"}},\"id\":\"1806\",\"type\":\"CDSView\"},{\"attributes\":{},\"id\":\"1825\",\"type\":\"UnionRenderers\"},{\"attributes\":{},\"id\":\"1060\",\"type\":\"BasicTickFormatter\"},{\"attributes\":{\"source\":{\"id\":\"3282\",\"type\":\"ColumnDataSource\"}},\"id\":\"3286\",\"type\":\"CDSView\"},{\"attributes\":{\"callback\":null,\"data\":{\"x\":[0.0,3.141592653589793,0.0,-3.141592653589793,0.0],\"y\":[3.141592653589793,0.0,-3.141592653589793,0.0,3.141592653589793]},\"selected\":{\"id\":\"2848\",\"type\":\"Selection\"},\"selection_policy\":{\"id\":\"2847\",\"type\":\"UnionRenderers\"}},\"id\":\"2820\",\"type\":\"ColumnDataSource\"},{\"attributes\":{\"size\":10},\"id\":\"1179\",\"type\":\"VeeHead\"},{\"attributes\":{\"text\":\"Reciprocal space lattice\"},\"id\":\"1030\",\"type\":\"Title\"},{\"attributes\":{\"callback\":null,\"end\":10,\"start\":-10},\"id\":\"1032\",\"type\":\"Range1d\"},{\"attributes\":{},\"id\":\"1826\",\"type\":\"Selection\"},{\"attributes\":{\"callback\":null,\"data\":{\"xs\":[[6.283185307179586,-6.283185307179586],[0,0]],\"ys\":[[0,0],[6.283185307179586,-6.283185307179586]]},\"selected\":{\"id\":\"3312\",\"type\":\"Selection\"},\"selection_policy\":{\"id\":\"3311\",\"type\":\"UnionRenderers\"}},\"id\":\"3282\",\"type\":\"ColumnDataSource\"},{\"attributes\":{\"callback\":null,\"end\":10,\"start\":-10},\"id\":\"1034\",\"type\":\"Range1d\"},{\"attributes\":{\"end\":{\"id\":\"1887\",\"type\":\"VeeHead\"},\"source\":null,\"start\":null,\"visible\":false,\"x_end\":{\"value\":3.141592653589793},\"x_start\":{\"value\":0},\"y_end\":{\"value\":3.141592653589793},\"y_start\":{\"value\":0}},\"id\":\"1888\",\"type\":\"Arrow\"},{\"attributes\":{\"size\":10},\"id\":\"1890\",\"type\":\"VeeHead\"},{\"attributes\":{},\"id\":\"1036\",\"type\":\"LinearScale\"},{\"attributes\":{\"size\":10},\"id\":\"1893\",\"type\":\"VeeHead\"},{\"attributes\":{\"size\":10},\"id\":\"3469\",\"type\":\"VeeHead\"},{\"attributes\":{},\"id\":\"1038\",\"type\":\"LinearScale\"},{\"attributes\":{\"end\":{\"id\":\"1890\",\"type\":\"VeeHead\"},\"source\":null,\"start\":null,\"visible\":false,\"x_end\":{\"value\":-3.141592653589793},\"x_start\":{\"value\":0},\"y_end\":{\"value\":-3.141592653589793},\"y_start\":{\"value\":0}},\"id\":\"1891\",\"type\":\"Arrow\"},{\"attributes\":{},\"id\":\"3311\",\"type\":\"UnionRenderers\"},{\"attributes\":{\"fill_color\":{\"value\":\"blue\"},\"line_color\":{\"value\":null},\"line_width\":{\"value\":3},\"size\":{\"units\":\"screen\",\"value\":10},\"x\":{\"field\":\"x\"},\"y\":{\"field\":\"y\"}},\"id\":\"1025\",\"type\":\"Circle\"},{\"attributes\":{\"size\":10},\"id\":\"1896\",\"type\":\"VeeHead\"},{\"attributes\":{\"line_alpha\":{\"value\":0.1},\"line_color\":{\"value\":\"#1f77b4\"},\"line_width\":{\"value\":2},\"xs\":{\"field\":\"xs\"},\"ys\":{\"field\":\"ys\"}},\"id\":\"3284\",\"type\":\"MultiLine\"},{\"attributes\":{\"end\":{\"id\":\"1893\",\"type\":\"VeeHead\"},\"source\":null,\"start\":null,\"visible\":false,\"x_end\":{\"value\":-3.141592653589793},\"x_start\":{\"value\":0},\"y_end\":{\"value\":3.141592653589793},\"y_start\":{\"value\":0}},\"id\":\"1894\",\"type\":\"Arrow\"},{\"attributes\":{},\"id\":\"1068\",\"type\":\"Selection\"},{\"attributes\":{},\"id\":\"1062\",\"type\":\"BasicTickFormatter\"},{\"attributes\":{\"formatter\":{\"id\":\"1066\",\"type\":\"BasicTickFormatter\"},\"ticker\":{\"id\":\"1041\",\"type\":\"BasicTicker\"}},\"id\":\"1040\",\"type\":\"LinearAxis\"},{\"attributes\":{\"size\":10},\"id\":\"3478\",\"type\":\"VeeHead\"},{\"attributes\":{\"line_dash\":[6],\"location\":3.141592653589793},\"id\":\"4576\",\"type\":\"Span\"},{\"attributes\":{\"end\":{\"id\":\"3478\",\"type\":\"VeeHead\"},\"source\":null,\"start\":null,\"x_end\":{\"value\":0},\"x_start\":{\"value\":0},\"y_end\":{\"value\":-6.283185307179586},\"y_start\":{\"value\":0}},\"id\":\"3479\",\"type\":\"Arrow\"},{\"attributes\":{\"fill_alpha\":{\"value\":0.1},\"fill_color\":{\"value\":\"#1f77b4\"},\"line_alpha\":{\"value\":0.1},\"line_color\":{\"value\":\"#1f77b4\"},\"line_width\":{\"value\":3},\"size\":{\"units\":\"screen\",\"value\":10},\"x\":{\"field\":\"x\"},\"y\":{\"field\":\"y\"}},\"id\":\"1026\",\"type\":\"Circle\"},{\"attributes\":{\"source\":{\"id\":\"1562\",\"type\":\"ColumnDataSource\"}},\"id\":\"1566\",\"type\":\"CDSView\"},{\"attributes\":{\"fill_color\":\"red\",\"line_color\":\"red\",\"line_width\":2,\"x\":{\"field\":\"x\"},\"y\":{\"field\":\"y\"}},\"id\":\"1563\",\"type\":\"Patch\"},{\"attributes\":{},\"id\":\"3312\",\"type\":\"Selection\"},{\"attributes\":{\"callback\":null,\"data\":{\"x\":[1.5707963267948966,1.5707963267948966,-1.5707963267948966,-1.5707963267948966,1.5707963267948966],\"y\":[1.5707963267948966,-1.5707963267948966,-1.5707963267948966,1.5707963267948966,1.5707963267948966]},\"selected\":{\"id\":\"1584\",\"type\":\"Selection\"},\"selection_policy\":{\"id\":\"1583\",\"type\":\"UnionRenderers\"}},\"id\":\"1562\",\"type\":\"ColumnDataSource\"},{\"attributes\":{\"end\":{\"id\":\"3469\",\"type\":\"VeeHead\"},\"source\":null,\"start\":null,\"x_end\":{\"value\":6.283185307179586},\"x_start\":{\"value\":0},\"y_end\":{\"value\":0},\"y_start\":{\"value\":0}},\"id\":\"3470\",\"type\":\"Arrow\"},{\"attributes\":{\"size\":10},\"id\":\"3475\",\"type\":\"VeeHead\"},{\"attributes\":{\"size\":10},\"id\":\"1176\",\"type\":\"VeeHead\"},{\"attributes\":{\"callback\":null,\"data\":{\"xs\":[[3.141592653589793,-3.141592653589793],[0,0]],\"ys\":[[0,0],[3.141592653589793,-3.141592653589793]]},\"selected\":{\"id\":\"1175\",\"type\":\"Selection\"},\"selection_policy\":{\"id\":\"1174\",\"type\":\"UnionRenderers\"}},\"id\":\"1155\",\"type\":\"ColumnDataSource\"},{\"attributes\":{\"data_source\":{\"id\":\"1024\",\"type\":\"ColumnDataSource\"},\"glyph\":{\"id\":\"1025\",\"type\":\"Circle\"},\"hover_glyph\":null,\"muted_glyph\":null,\"nonselection_glyph\":{\"id\":\"1026\",\"type\":\"Circle\"},\"selection_glyph\":null,\"view\":{\"id\":\"1028\",\"type\":\"CDSView\"}},\"id\":\"1027\",\"type\":\"GlyphRenderer\"},{\"attributes\":{\"line_width\":{\"value\":2},\"xs\":{\"field\":\"xs\"},\"ys\":{\"field\":\"ys\"}},\"id\":\"1156\",\"type\":\"MultiLine\"},{\"attributes\":{\"line_alpha\":{\"value\":0.1},\"line_color\":{\"value\":\"#1f77b4\"},\"line_width\":{\"value\":2},\"xs\":{\"field\":\"xs\"},\"ys\":{\"field\":\"ys\"}},\"id\":\"1157\",\"type\":\"MultiLine\"},{\"attributes\":{\"data_source\":{\"id\":\"1155\",\"type\":\"ColumnDataSource\"},\"glyph\":{\"id\":\"1156\",\"type\":\"MultiLine\"},\"hover_glyph\":null,\"muted_glyph\":null,\"nonselection_glyph\":{\"id\":\"1157\",\"type\":\"MultiLine\"},\"selection_glyph\":null,\"view\":{\"id\":\"1159\",\"type\":\"CDSView\"},\"visible\":false},\"id\":\"1158\",\"type\":\"GlyphRenderer\"},{\"attributes\":{\"line_dash\":[6],\"location\":-3.141592653589793},\"id\":\"4577\",\"type\":\"Span\"},{\"attributes\":{\"source\":{\"id\":\"1155\",\"type\":\"ColumnDataSource\"}},\"id\":\"1159\",\"type\":\"CDSView\"},{\"attributes\":{},\"id\":\"1583\",\"type\":\"UnionRenderers\"},{\"attributes\":{},\"id\":\"1174\",\"type\":\"UnionRenderers\"},{\"attributes\":{},\"id\":\"1064\",\"type\":\"BasicTickFormatter\"},{\"attributes\":{},\"id\":\"1175\",\"type\":\"Selection\"},{\"attributes\":{\"data_source\":{\"id\":\"2820\",\"type\":\"ColumnDataSource\"},\"glyph\":{\"id\":\"2821\",\"type\":\"Patch\"},\"hover_glyph\":null,\"muted_glyph\":null,\"nonselection_glyph\":{\"id\":\"2822\",\"type\":\"Patch\"},\"selection_glyph\":null,\"view\":{\"id\":\"2824\",\"type\":\"CDSView\"},\"visible\":false},\"id\":\"2823\",\"type\":\"GlyphRenderer\"},{\"attributes\":{\"end\":{\"id\":\"1176\",\"type\":\"VeeHead\"},\"source\":null,\"start\":null,\"visible\":false,\"x_end\":{\"value\":3.141592653589793},\"x_start\":{\"value\":0},\"y_end\":{\"value\":0},\"y_start\":{\"value\":0}},\"id\":\"1177\",\"type\":\"Arrow\"},{\"attributes\":{\"fill_alpha\":{\"value\":0.1},\"fill_color\":{\"value\":\"#1f77b4\"},\"line_alpha\":{\"value\":0.1},\"line_color\":{\"value\":\"#1f77b4\"},\"line_width\":{\"value\":2},\"xs\":{\"field\":\"xs\"},\"ys\":{\"field\":\"ys\"}},\"id\":\"5179\",\"type\":\"Patches\"},{\"attributes\":{\"size\":10},\"id\":\"1182\",\"type\":\"VeeHead\"},{\"attributes\":{\"fill_alpha\":0.1,\"fill_color\":\"#1f77b4\",\"line_alpha\":0.1,\"line_color\":\"#1f77b4\",\"line_width\":2,\"x\":{\"field\":\"x\"},\"y\":{\"field\":\"y\"}},\"id\":\"2822\",\"type\":\"Patch\"},{\"attributes\":{\"end\":{\"id\":\"1179\",\"type\":\"VeeHead\"},\"source\":null,\"start\":null,\"visible\":false,\"x_end\":{\"value\":-3.141592653589793},\"x_start\":{\"value\":0},\"y_end\":{\"value\":0},\"y_start\":{\"value\":0}},\"id\":\"1180\",\"type\":\"Arrow\"},{\"attributes\":{\"size\":10},\"id\":\"1185\",\"type\":\"VeeHead\"},{\"attributes\":{\"end\":{\"id\":\"1182\",\"type\":\"VeeHead\"},\"source\":null,\"start\":null,\"visible\":false,\"x_end\":{\"value\":0},\"x_start\":{\"value\":0},\"y_end\":{\"value\":3.141592653589793},\"y_start\":{\"value\":0}},\"id\":\"1183\",\"type\":\"Arrow\"},{\"attributes\":{\"data_source\":{\"id\":\"5177\",\"type\":\"ColumnDataSource\"},\"glyph\":{\"id\":\"5178\",\"type\":\"Patches\"},\"hover_glyph\":null,\"muted_glyph\":null,\"nonselection_glyph\":{\"id\":\"5179\",\"type\":\"Patches\"},\"selection_glyph\":null,\"view\":{\"id\":\"5181\",\"type\":\"CDSView\"}},\"id\":\"5180\",\"type\":\"GlyphRenderer\"},{\"attributes\":{\"fill_color\":\"#1f77b4\",\"line_color\":\"#1f77b4\",\"line_width\":2,\"x\":{\"field\":\"x\"},\"y\":{\"field\":\"y\"}},\"id\":\"2821\",\"type\":\"Patch\"},{\"attributes\":{},\"id\":\"5208\",\"type\":\"UnionRenderers\"},{\"attributes\":{\"end\":{\"id\":\"1185\",\"type\":\"VeeHead\"},\"source\":null,\"start\":null,\"visible\":false,\"x_end\":{\"value\":0},\"x_start\":{\"value\":0},\"y_end\":{\"value\":-3.141592653589793},\"y_start\":{\"value\":0}},\"id\":\"1186\",\"type\":\"Arrow\"},{\"attributes\":{},\"id\":\"1584\",\"type\":\"Selection\"},{\"attributes\":{},\"id\":\"5209\",\"type\":\"Selection\"},{\"attributes\":{\"fill_color\":{\"value\":\"indigo\"},\"line_color\":{\"value\":\"indigo\"},\"line_width\":{\"value\":2},\"xs\":{\"field\":\"xs\"},\"ys\":{\"field\":\"ys\"}},\"id\":\"5178\",\"type\":\"Patches\"},{\"attributes\":{\"end\":{\"id\":\"3475\",\"type\":\"VeeHead\"},\"source\":null,\"start\":null,\"x_end\":{\"value\":0},\"x_start\":{\"value\":0},\"y_end\":{\"value\":6.283185307179586},\"y_start\":{\"value\":0}},\"id\":\"3476\",\"type\":\"Arrow\"},{\"attributes\":{\"fill_alpha\":0.1,\"fill_color\":\"#1f77b4\",\"line_alpha\":0.1,\"line_color\":\"#1f77b4\",\"line_width\":2,\"x\":{\"field\":\"x\"},\"y\":{\"field\":\"y\"}},\"id\":\"1564\",\"type\":\"Patch\"},{\"attributes\":{\"callback\":null,\"data\":{\"xs\":[[-3.141592653589793,-3.141592653589793,3.141592653589793,3.141592653589793],[-1.5707963267948966,-1.5707963267948966,1.5707963267948966,1.5707963267948966]],\"ys\":[[-1.5707963267948966,1.5707963267948966,1.5707963267948966,-1.5707963267948966],[-3.141592653589793,3.141592653589793,3.141592653589793,-3.141592653589793]]},\"selected\":{\"id\":\"5209\",\"type\":\"Selection\"},\"selection_policy\":{\"id\":\"5208\",\"type\":\"UnionRenderers\"}},\"id\":\"5177\",\"type\":\"ColumnDataSource\"},{\"attributes\":{\"source\":{\"id\":\"2820\",\"type\":\"ColumnDataSource\"}},\"id\":\"2824\",\"type\":\"CDSView\"},{\"attributes\":{\"end\":{\"id\":\"3472\",\"type\":\"VeeHead\"},\"source\":null,\"start\":null,\"x_end\":{\"value\":-6.283185307179586},\"x_start\":{\"value\":0},\"y_end\":{\"value\":0},\"y_start\":{\"value\":0}},\"id\":\"3473\",\"type\":\"Arrow\"},{\"attributes\":{\"data_source\":{\"id\":\"1562\",\"type\":\"ColumnDataSource\"},\"glyph\":{\"id\":\"1563\",\"type\":\"Patch\"},\"hover_glyph\":null,\"muted_glyph\":null,\"nonselection_glyph\":{\"id\":\"1564\",\"type\":\"Patch\"},\"selection_glyph\":null,\"view\":{\"id\":\"1566\",\"type\":\"CDSView\"},\"visible\":false},\"id\":\"1565\",\"type\":\"GlyphRenderer\"}],\"root_ids\":[\"5434\"]},\"title\":\"Bokeh Application\",\"version\":\"1.4.0\"}};\n",
       "  var render_items = [{\"docid\":\"eecceba3-feb9-4872-a06a-23f575202ae3\",\"roots\":{\"5434\":\"67091939-0d01-4f16-a020-8a69dd534a1f\"}}];\n",
       "  root.Bokeh.embed.embed_items_notebook(docs_json, render_items);\n",
       "\n",
       "  }\n",
       "  if (root.Bokeh !== undefined) {\n",
       "    embed_document(root);\n",
       "  } else {\n",
       "    var attempts = 0;\n",
       "    var timer = setInterval(function(root) {\n",
       "      if (root.Bokeh !== undefined) {\n",
       "        clearInterval(timer);\n",
       "        embed_document(root);\n",
       "      } else {\n",
       "        attempts++;\n",
       "        if (attempts > 100) {\n",
       "          clearInterval(timer);\n",
       "          console.log(\"Bokeh: ERROR: Unable to run BokehJS code because BokehJS library is missing\");\n",
       "        }\n",
       "      }\n",
       "    }, 10, root)\n",
       "  }\n",
       "})(window);"
      ],
      "application/vnd.bokehjs_exec.v0+json": ""
     },
     "metadata": {
      "application/vnd.bokehjs_exec.v0+json": {
       "id": "5434"
      }
     },
     "output_type": "display_data"
    }
   ],
   "source": [
    "# color the third (along with the first and second) brillouin zones\n",
    "bz3 = img.patches([[-b2[0], -b2[0], b2[0], b2[0]],[-b2[0]/2, -b2[0]/2, b2[0]/2, b2[0]/2]], [[-b1[1]/2, b1[1]/2, b1[1]/2, -b1[1]/2], [-b1[1], b1[1], b1[1], -b1[1]]], line_width = 2, color = \"indigo\");\n",
    "show(row(real,img))"
   ]
  },
  {
   "cell_type": "markdown",
   "metadata": {},
   "source": [
    "# Show all three Brillouin zones together"
   ]
  },
  {
   "cell_type": "code",
   "execution_count": 18,
   "metadata": {},
   "outputs": [
    {
     "data": {
      "text/html": [
       "\n",
       "\n",
       "\n",
       "\n",
       "\n",
       "\n",
       "  <div class=\"bk-root\" id=\"367e6d7b-5d42-430e-8f8d-cfa17af1816d\" data-root-id=\"5883\"></div>\n"
      ]
     },
     "metadata": {},
     "output_type": "display_data"
    },
    {
     "data": {
      "application/javascript": [
       "(function(root) {\n",
       "  function embed_document(root) {\n",
       "    \n",
       "  var docs_json = {\"98e6d965-fd21-4edd-a0f5-56b2c643867c\":{\"roots\":{\"references\":[{\"attributes\":{\"children\":[{\"id\":\"1002\",\"subtype\":\"Figure\",\"type\":\"Plot\"},{\"id\":\"1029\",\"subtype\":\"Figure\",\"type\":\"Plot\"}]},\"id\":\"5883\",\"type\":\"Row\"},{\"attributes\":{},\"id\":\"1041\",\"type\":\"BasicTicker\"},{\"attributes\":{\"ticker\":{\"id\":\"1041\",\"type\":\"BasicTicker\"}},\"id\":\"1044\",\"type\":\"Grid\"},{\"attributes\":{},\"id\":\"1069\",\"type\":\"UnionRenderers\"},{\"attributes\":{\"dimension\":\"height\",\"line_dash\":[6],\"location\":3.141592653589793},\"id\":\"4574\",\"type\":\"Span\"},{\"attributes\":{\"formatter\":{\"id\":\"1064\",\"type\":\"BasicTickFormatter\"},\"ticker\":{\"id\":\"1046\",\"type\":\"BasicTicker\"}},\"id\":\"1045\",\"type\":\"LinearAxis\"},{\"attributes\":{},\"id\":\"1070\",\"type\":\"Selection\"},{\"attributes\":{\"end\":{\"id\":\"1896\",\"type\":\"VeeHead\"},\"source\":null,\"start\":null,\"visible\":false,\"x_end\":{\"value\":3.141592653589793},\"x_start\":{\"value\":0},\"y_end\":{\"value\":-3.141592653589793},\"y_start\":{\"value\":0}},\"id\":\"1897\",\"type\":\"Arrow\"},{\"attributes\":{},\"id\":\"1046\",\"type\":\"BasicTicker\"},{\"attributes\":{},\"id\":\"1067\",\"type\":\"UnionRenderers\"},{\"attributes\":{\"line_dash\":[6],\"location\":-1.5707963267948966},\"id\":\"1384\",\"type\":\"Span\"},{\"attributes\":{\"dimension\":1,\"ticker\":{\"id\":\"1046\",\"type\":\"BasicTicker\"}},\"id\":\"1049\",\"type\":\"Grid\"},{\"attributes\":{\"active_drag\":\"auto\",\"active_inspect\":\"auto\",\"active_multi\":null,\"active_scroll\":\"auto\",\"active_tap\":\"auto\"},\"id\":\"1050\",\"type\":\"Toolbar\"},{\"attributes\":{\"callback\":null,\"data\":{\"angle\":[45,-135,135,-45,-135,45,-45,135],\"x\":[-3.141592653589793,3.141592653589793,0.0,0.0,-3.141592653589793,3.141592653589793,0.0,0.0],\"y\":[0.0,0.0,-3.141592653589793,3.141592653589793,0.0,0.0,-3.141592653589793,3.141592653589793]},\"selected\":{\"id\":\"2466\",\"type\":\"Selection\"},\"selection_policy\":{\"id\":\"2465\",\"type\":\"UnionRenderers\"}},\"id\":\"2440\",\"type\":\"ColumnDataSource\"},{\"attributes\":{\"angle\":{\"field\":\"angle\",\"units\":\"deg\"},\"length\":{\"units\":\"data\",\"value\":0},\"line_dash\":[6],\"x\":{\"field\":\"x\"},\"y\":{\"field\":\"y\"}},\"id\":\"2441\",\"type\":\"Ray\"},{\"attributes\":{},\"id\":\"1066\",\"type\":\"BasicTickFormatter\"},{\"attributes\":{\"fill_color\":{\"value\":\"red\"},\"line_color\":{\"value\":null},\"line_width\":{\"value\":3},\"size\":{\"units\":\"screen\",\"value\":10},\"x\":{\"field\":\"x\"},\"y\":{\"field\":\"y\"}},\"id\":\"1052\",\"type\":\"Circle\"},{\"attributes\":{\"fill_alpha\":{\"value\":0.1},\"fill_color\":{\"value\":\"#1f77b4\"},\"line_alpha\":{\"value\":0.1},\"line_color\":{\"value\":\"#1f77b4\"},\"line_width\":{\"value\":3},\"size\":{\"units\":\"screen\",\"value\":10},\"x\":{\"field\":\"x\"},\"y\":{\"field\":\"y\"}},\"id\":\"1053\",\"type\":\"Circle\"},{\"attributes\":{\"callback\":null,\"data\":{\"x\":{\"__ndarray__\":\"0iEzf3zZIsAYLURU+yEZwBgtRFT7IQnAAAAAAAAAAAAYLURU+yEJQBgtRFT7IRlA0iEzf3zZIkDSITN/fNkiwBgtRFT7IRnAGC1EVPshCcAAAAAAAAAAABgtRFT7IQlAGC1EVPshGUDSITN/fNkiQNIhM3982SLAGC1EVPshGcAYLURU+yEJwAAAAAAAAAAAGC1EVPshCUAYLURU+yEZQNIhM3982SJA0iEzf3zZIsAYLURU+yEZwBgtRFT7IQnAAAAAAAAAAAAYLURU+yEJQBgtRFT7IRlA0iEzf3zZIkDSITN/fNkiwBgtRFT7IRnAGC1EVPshCcAAAAAAAAAAABgtRFT7IQlAGC1EVPshGUDSITN/fNkiQNIhM3982SLAGC1EVPshGcAYLURU+yEJwAAAAAAAAAAAGC1EVPshCUAYLURU+yEZQNIhM3982SJA0iEzf3zZIsAYLURU+yEZwBgtRFT7IQnAAAAAAAAAAAAYLURU+yEJQBgtRFT7IRlA0iEzf3zZIkA=\",\"dtype\":\"float64\",\"shape\":[49]},\"y\":{\"__ndarray__\":\"0iEzf3zZIsDSITN/fNkiwNIhM3982SLA0iEzf3zZIsDSITN/fNkiwNIhM3982SLA0iEzf3zZIsAYLURU+yEZwBgtRFT7IRnAGC1EVPshGcAYLURU+yEZwBgtRFT7IRnAGC1EVPshGcAYLURU+yEZwBgtRFT7IQnAGC1EVPshCcAYLURU+yEJwBgtRFT7IQnAGC1EVPshCcAYLURU+yEJwBgtRFT7IQnAAAAAAAAAAAAAAAAAAAAAAAAAAAAAAAAAAAAAAAAAAAAAAAAAAAAAAAAAAAAAAAAAAAAAAAAAAAAYLURU+yEJQBgtRFT7IQlAGC1EVPshCUAYLURU+yEJQBgtRFT7IQlAGC1EVPshCUAYLURU+yEJQBgtRFT7IRlAGC1EVPshGUAYLURU+yEZQBgtRFT7IRlAGC1EVPshGUAYLURU+yEZQBgtRFT7IRlA0iEzf3zZIkDSITN/fNkiQNIhM3982SJA0iEzf3zZIkDSITN/fNkiQNIhM3982SJA0iEzf3zZIkA=\",\"dtype\":\"float64\",\"shape\":[49]}},\"selected\":{\"id\":\"1070\",\"type\":\"Selection\"},\"selection_policy\":{\"id\":\"1069\",\"type\":\"UnionRenderers\"}},\"id\":\"1051\",\"type\":\"ColumnDataSource\"},{\"attributes\":{\"angle\":{\"field\":\"angle\",\"units\":\"deg\"},\"length\":{\"units\":\"data\",\"value\":0},\"line_alpha\":{\"value\":0.1},\"line_color\":{\"value\":\"#1f77b4\"},\"line_dash\":[6],\"x\":{\"field\":\"x\"},\"y\":{\"field\":\"y\"}},\"id\":\"2442\",\"type\":\"Ray\"},{\"attributes\":{\"data_source\":{\"id\":\"2440\",\"type\":\"ColumnDataSource\"},\"glyph\":{\"id\":\"2441\",\"type\":\"Ray\"},\"hover_glyph\":null,\"level\":\"annotation\",\"muted_glyph\":null,\"nonselection_glyph\":{\"id\":\"2442\",\"type\":\"Ray\"},\"selection_glyph\":null,\"view\":{\"id\":\"2444\",\"type\":\"CDSView\"}},\"id\":\"2443\",\"type\":\"GlyphRenderer\"},{\"attributes\":{\"callback\":null,\"data\":{\"x\":{\"__ndarray__\":\"AAAAAAAAGMAAAAAAAAAQwAAAAAAAAADAAAAAAAAAAAAAAAAAAAAAQAAAAAAAABBAAAAAAAAAGEAAAAAAAAAYwAAAAAAAABDAAAAAAAAAAMAAAAAAAAAAAAAAAAAAAABAAAAAAAAAEEAAAAAAAAAYQAAAAAAAABjAAAAAAAAAEMAAAAAAAAAAwAAAAAAAAAAAAAAAAAAAAEAAAAAAAAAQQAAAAAAAABhAAAAAAAAAGMAAAAAAAAAQwAAAAAAAAADAAAAAAAAAAAAAAAAAAAAAQAAAAAAAABBAAAAAAAAAGEAAAAAAAAAYwAAAAAAAABDAAAAAAAAAAMAAAAAAAAAAAAAAAAAAAABAAAAAAAAAEEAAAAAAAAAYQAAAAAAAABjAAAAAAAAAEMAAAAAAAAAAwAAAAAAAAAAAAAAAAAAAAEAAAAAAAAAQQAAAAAAAABhAAAAAAAAAGMAAAAAAAAAQwAAAAAAAAADAAAAAAAAAAAAAAAAAAAAAQAAAAAAAABBAAAAAAAAAGEA=\",\"dtype\":\"float64\",\"shape\":[49]},\"y\":{\"__ndarray__\":\"AAAAAAAAGMAAAAAAAAAYwAAAAAAAABjAAAAAAAAAGMAAAAAAAAAYwAAAAAAAABjAAAAAAAAAGMAAAAAAAAAQwAAAAAAAABDAAAAAAAAAEMAAAAAAAAAQwAAAAAAAABDAAAAAAAAAEMAAAAAAAAAQwAAAAAAAAADAAAAAAAAAAMAAAAAAAAAAwAAAAAAAAADAAAAAAAAAAMAAAAAAAAAAwAAAAAAAAADAAAAAAAAAAAAAAAAAAAAAAAAAAAAAAAAAAAAAAAAAAAAAAAAAAAAAAAAAAAAAAAAAAAAAAAAAAAAAAAAAAAAAQAAAAAAAAABAAAAAAAAAAEAAAAAAAAAAQAAAAAAAAABAAAAAAAAAAEAAAAAAAAAAQAAAAAAAABBAAAAAAAAAEEAAAAAAAAAQQAAAAAAAABBAAAAAAAAAEEAAAAAAAAAQQAAAAAAAABBAAAAAAAAAGEAAAAAAAAAYQAAAAAAAABhAAAAAAAAAGEAAAAAAAAAYQAAAAAAAABhAAAAAAAAAGEA=\",\"dtype\":\"float64\",\"shape\":[49]}},\"selected\":{\"id\":\"1068\",\"type\":\"Selection\"},\"selection_policy\":{\"id\":\"1067\",\"type\":\"UnionRenderers\"}},\"id\":\"1024\",\"type\":\"ColumnDataSource\"},{\"attributes\":{\"below\":[{\"id\":\"1013\",\"type\":\"LinearAxis\"}],\"center\":[{\"id\":\"1017\",\"type\":\"Grid\"},{\"id\":\"1022\",\"type\":\"Grid\"}],\"left\":[{\"id\":\"1018\",\"type\":\"LinearAxis\"}],\"plot_height\":400,\"plot_width\":400,\"renderers\":[{\"id\":\"1027\",\"type\":\"GlyphRenderer\"}],\"title\":{\"id\":\"1003\",\"type\":\"Title\"},\"toolbar\":{\"id\":\"1023\",\"type\":\"Toolbar\"},\"x_range\":{\"id\":\"1005\",\"type\":\"Range1d\"},\"x_scale\":{\"id\":\"1009\",\"type\":\"LinearScale\"},\"y_range\":{\"id\":\"1007\",\"type\":\"Range1d\"},\"y_scale\":{\"id\":\"1011\",\"type\":\"LinearScale\"}},\"id\":\"1002\",\"subtype\":\"Figure\",\"type\":\"Plot\"},{\"attributes\":{\"data_source\":{\"id\":\"1051\",\"type\":\"ColumnDataSource\"},\"glyph\":{\"id\":\"1052\",\"type\":\"Circle\"},\"hover_glyph\":null,\"muted_glyph\":null,\"nonselection_glyph\":{\"id\":\"1053\",\"type\":\"Circle\"},\"selection_glyph\":null,\"view\":{\"id\":\"1055\",\"type\":\"CDSView\"}},\"id\":\"1054\",\"type\":\"GlyphRenderer\"},{\"attributes\":{},\"id\":\"2465\",\"type\":\"UnionRenderers\"},{\"attributes\":{\"source\":{\"id\":\"1051\",\"type\":\"ColumnDataSource\"}},\"id\":\"1055\",\"type\":\"CDSView\"},{\"attributes\":{\"source\":{\"id\":\"2440\",\"type\":\"ColumnDataSource\"}},\"id\":\"2444\",\"type\":\"CDSView\"},{\"attributes\":{\"text\":\"Real space lattice\"},\"id\":\"1003\",\"type\":\"Title\"},{\"attributes\":{\"callback\":null,\"end\":10,\"start\":-10},\"id\":\"1005\",\"type\":\"Range1d\"},{\"attributes\":{\"line_width\":{\"value\":2},\"xs\":{\"field\":\"xs\"},\"ys\":{\"field\":\"ys\"}},\"id\":\"3283\",\"type\":\"MultiLine\"},{\"attributes\":{\"callback\":null,\"end\":10,\"start\":-10},\"id\":\"1007\",\"type\":\"Range1d\"},{\"attributes\":{},\"id\":\"2466\",\"type\":\"Selection\"},{\"attributes\":{},\"id\":\"1009\",\"type\":\"LinearScale\"},{\"attributes\":{},\"id\":\"1011\",\"type\":\"LinearScale\"},{\"attributes\":{\"source\":{\"id\":\"1024\",\"type\":\"ColumnDataSource\"}},\"id\":\"1028\",\"type\":\"CDSView\"},{\"attributes\":{\"formatter\":{\"id\":\"1062\",\"type\":\"BasicTickFormatter\"},\"ticker\":{\"id\":\"1014\",\"type\":\"BasicTicker\"}},\"id\":\"1013\",\"type\":\"LinearAxis\"},{\"attributes\":{},\"id\":\"2847\",\"type\":\"UnionRenderers\"},{\"attributes\":{},\"id\":\"1014\",\"type\":\"BasicTicker\"},{\"attributes\":{},\"id\":\"2848\",\"type\":\"Selection\"},{\"attributes\":{\"source\":{\"id\":\"5177\",\"type\":\"ColumnDataSource\"}},\"id\":\"5181\",\"type\":\"CDSView\"},{\"attributes\":{\"ticker\":{\"id\":\"1014\",\"type\":\"BasicTicker\"}},\"id\":\"1017\",\"type\":\"Grid\"},{\"attributes\":{\"dimension\":\"height\",\"line_dash\":[6],\"location\":-3.141592653589793},\"id\":\"4575\",\"type\":\"Span\"},{\"attributes\":{\"formatter\":{\"id\":\"1060\",\"type\":\"BasicTickFormatter\"},\"ticker\":{\"id\":\"1019\",\"type\":\"BasicTicker\"}},\"id\":\"1018\",\"type\":\"LinearAxis\"},{\"attributes\":{\"data_source\":{\"id\":\"3282\",\"type\":\"ColumnDataSource\"},\"glyph\":{\"id\":\"3283\",\"type\":\"MultiLine\"},\"hover_glyph\":null,\"muted_glyph\":null,\"nonselection_glyph\":{\"id\":\"3284\",\"type\":\"MultiLine\"},\"selection_glyph\":null,\"view\":{\"id\":\"3286\",\"type\":\"CDSView\"},\"visible\":false},\"id\":\"3285\",\"type\":\"GlyphRenderer\"},{\"attributes\":{},\"id\":\"1019\",\"type\":\"BasicTicker\"},{\"attributes\":{\"dimension\":\"height\",\"line_dash\":[6],\"location\":-1.5707963267948966},\"id\":\"1382\",\"type\":\"Span\"},{\"attributes\":{\"dimension\":\"height\",\"line_dash\":[6],\"location\":1.5707963267948966},\"id\":\"1381\",\"type\":\"Span\"},{\"attributes\":{\"dimension\":1,\"ticker\":{\"id\":\"1019\",\"type\":\"BasicTicker\"}},\"id\":\"1022\",\"type\":\"Grid\"},{\"attributes\":{\"size\":10},\"id\":\"1887\",\"type\":\"VeeHead\"},{\"attributes\":{\"line_dash\":[6],\"location\":1.5707963267948966},\"id\":\"1383\",\"type\":\"Span\"},{\"attributes\":{\"callback\":null,\"data\":{\"xs\":[[-3.141592653589793,3.141592653589793],[-3.141592653589793,3.141592653589793]],\"ys\":[[3.141592653589793,-3.141592653589793],[-3.141592653589793,3.141592653589793]]},\"selected\":{\"id\":\"1826\",\"type\":\"Selection\"},\"selection_policy\":{\"id\":\"1825\",\"type\":\"UnionRenderers\"}},\"id\":\"1802\",\"type\":\"ColumnDataSource\"},{\"attributes\":{\"active_drag\":\"auto\",\"active_inspect\":\"auto\",\"active_multi\":null,\"active_scroll\":\"auto\",\"active_tap\":\"auto\"},\"id\":\"1023\",\"type\":\"Toolbar\"},{\"attributes\":{\"line_width\":{\"value\":2},\"xs\":{\"field\":\"xs\"},\"ys\":{\"field\":\"ys\"}},\"id\":\"1803\",\"type\":\"MultiLine\"},{\"attributes\":{\"below\":[{\"id\":\"1040\",\"type\":\"LinearAxis\"}],\"center\":[{\"id\":\"1044\",\"type\":\"Grid\"},{\"id\":\"1049\",\"type\":\"Grid\"},{\"id\":\"1177\",\"type\":\"Arrow\"},{\"id\":\"1180\",\"type\":\"Arrow\"},{\"id\":\"1183\",\"type\":\"Arrow\"},{\"id\":\"1186\",\"type\":\"Arrow\"},{\"id\":\"1888\",\"type\":\"Arrow\"},{\"id\":\"1891\",\"type\":\"Arrow\"},{\"id\":\"1894\",\"type\":\"Arrow\"},{\"id\":\"1897\",\"type\":\"Arrow\"},{\"id\":\"3470\",\"type\":\"Arrow\"},{\"id\":\"3473\",\"type\":\"Arrow\"},{\"id\":\"3476\",\"type\":\"Arrow\"},{\"id\":\"3479\",\"type\":\"Arrow\"}],\"left\":[{\"id\":\"1045\",\"type\":\"LinearAxis\"}],\"plot_height\":400,\"plot_width\":400,\"renderers\":[{\"id\":\"1054\",\"type\":\"GlyphRenderer\"},{\"id\":\"1158\",\"type\":\"GlyphRenderer\"},{\"id\":\"1381\",\"type\":\"Span\"},{\"id\":\"1382\",\"type\":\"Span\"},{\"id\":\"1383\",\"type\":\"Span\"},{\"id\":\"1384\",\"type\":\"Span\"},{\"id\":\"1565\",\"type\":\"GlyphRenderer\"},{\"id\":\"1805\",\"type\":\"GlyphRenderer\"},{\"id\":\"2443\",\"type\":\"GlyphRenderer\"},{\"id\":\"2823\",\"type\":\"GlyphRenderer\"},{\"id\":\"3285\",\"type\":\"GlyphRenderer\"},{\"id\":\"4574\",\"type\":\"Span\"},{\"id\":\"4575\",\"type\":\"Span\"},{\"id\":\"4576\",\"type\":\"Span\"},{\"id\":\"4577\",\"type\":\"Span\"},{\"id\":\"5180\",\"type\":\"GlyphRenderer\"}],\"title\":{\"id\":\"1030\",\"type\":\"Title\"},\"toolbar\":{\"id\":\"1050\",\"type\":\"Toolbar\"},\"x_range\":{\"id\":\"1032\",\"type\":\"Range1d\"},\"x_scale\":{\"id\":\"1036\",\"type\":\"LinearScale\"},\"y_range\":{\"id\":\"1034\",\"type\":\"Range1d\"},\"y_scale\":{\"id\":\"1038\",\"type\":\"LinearScale\"}},\"id\":\"1029\",\"subtype\":\"Figure\",\"type\":\"Plot\"},{\"attributes\":{\"line_alpha\":{\"value\":0.1},\"line_color\":{\"value\":\"#1f77b4\"},\"line_width\":{\"value\":2},\"xs\":{\"field\":\"xs\"},\"ys\":{\"field\":\"ys\"}},\"id\":\"1804\",\"type\":\"MultiLine\"},{\"attributes\":{\"data_source\":{\"id\":\"1802\",\"type\":\"ColumnDataSource\"},\"glyph\":{\"id\":\"1803\",\"type\":\"MultiLine\"},\"hover_glyph\":null,\"muted_glyph\":null,\"nonselection_glyph\":{\"id\":\"1804\",\"type\":\"MultiLine\"},\"selection_glyph\":null,\"view\":{\"id\":\"1806\",\"type\":\"CDSView\"},\"visible\":false},\"id\":\"1805\",\"type\":\"GlyphRenderer\"},{\"attributes\":{\"size\":10},\"id\":\"3472\",\"type\":\"VeeHead\"},{\"attributes\":{\"source\":{\"id\":\"1802\",\"type\":\"ColumnDataSource\"}},\"id\":\"1806\",\"type\":\"CDSView\"},{\"attributes\":{},\"id\":\"1825\",\"type\":\"UnionRenderers\"},{\"attributes\":{},\"id\":\"1060\",\"type\":\"BasicTickFormatter\"},{\"attributes\":{\"source\":{\"id\":\"3282\",\"type\":\"ColumnDataSource\"}},\"id\":\"3286\",\"type\":\"CDSView\"},{\"attributes\":{\"callback\":null,\"data\":{\"x\":[0.0,3.141592653589793,0.0,-3.141592653589793,0.0],\"y\":[3.141592653589793,0.0,-3.141592653589793,0.0,3.141592653589793]},\"selected\":{\"id\":\"2848\",\"type\":\"Selection\"},\"selection_policy\":{\"id\":\"2847\",\"type\":\"UnionRenderers\"}},\"id\":\"2820\",\"type\":\"ColumnDataSource\"},{\"attributes\":{\"size\":10},\"id\":\"1179\",\"type\":\"VeeHead\"},{\"attributes\":{\"text\":\"Reciprocal space lattice\"},\"id\":\"1030\",\"type\":\"Title\"},{\"attributes\":{\"callback\":null,\"end\":10,\"start\":-10},\"id\":\"1032\",\"type\":\"Range1d\"},{\"attributes\":{},\"id\":\"1826\",\"type\":\"Selection\"},{\"attributes\":{\"callback\":null,\"data\":{\"xs\":[[6.283185307179586,-6.283185307179586],[0,0]],\"ys\":[[0,0],[6.283185307179586,-6.283185307179586]]},\"selected\":{\"id\":\"3312\",\"type\":\"Selection\"},\"selection_policy\":{\"id\":\"3311\",\"type\":\"UnionRenderers\"}},\"id\":\"3282\",\"type\":\"ColumnDataSource\"},{\"attributes\":{\"callback\":null,\"end\":10,\"start\":-10},\"id\":\"1034\",\"type\":\"Range1d\"},{\"attributes\":{\"end\":{\"id\":\"1887\",\"type\":\"VeeHead\"},\"source\":null,\"start\":null,\"visible\":false,\"x_end\":{\"value\":3.141592653589793},\"x_start\":{\"value\":0},\"y_end\":{\"value\":3.141592653589793},\"y_start\":{\"value\":0}},\"id\":\"1888\",\"type\":\"Arrow\"},{\"attributes\":{\"size\":10},\"id\":\"1890\",\"type\":\"VeeHead\"},{\"attributes\":{},\"id\":\"1036\",\"type\":\"LinearScale\"},{\"attributes\":{\"size\":10},\"id\":\"1893\",\"type\":\"VeeHead\"},{\"attributes\":{\"size\":10},\"id\":\"3469\",\"type\":\"VeeHead\"},{\"attributes\":{},\"id\":\"1038\",\"type\":\"LinearScale\"},{\"attributes\":{\"end\":{\"id\":\"1890\",\"type\":\"VeeHead\"},\"source\":null,\"start\":null,\"visible\":false,\"x_end\":{\"value\":-3.141592653589793},\"x_start\":{\"value\":0},\"y_end\":{\"value\":-3.141592653589793},\"y_start\":{\"value\":0}},\"id\":\"1891\",\"type\":\"Arrow\"},{\"attributes\":{},\"id\":\"3311\",\"type\":\"UnionRenderers\"},{\"attributes\":{\"fill_color\":{\"value\":\"blue\"},\"line_color\":{\"value\":null},\"line_width\":{\"value\":3},\"size\":{\"units\":\"screen\",\"value\":10},\"x\":{\"field\":\"x\"},\"y\":{\"field\":\"y\"}},\"id\":\"1025\",\"type\":\"Circle\"},{\"attributes\":{\"size\":10},\"id\":\"1896\",\"type\":\"VeeHead\"},{\"attributes\":{\"line_alpha\":{\"value\":0.1},\"line_color\":{\"value\":\"#1f77b4\"},\"line_width\":{\"value\":2},\"xs\":{\"field\":\"xs\"},\"ys\":{\"field\":\"ys\"}},\"id\":\"3284\",\"type\":\"MultiLine\"},{\"attributes\":{\"end\":{\"id\":\"1893\",\"type\":\"VeeHead\"},\"source\":null,\"start\":null,\"visible\":false,\"x_end\":{\"value\":-3.141592653589793},\"x_start\":{\"value\":0},\"y_end\":{\"value\":3.141592653589793},\"y_start\":{\"value\":0}},\"id\":\"1894\",\"type\":\"Arrow\"},{\"attributes\":{},\"id\":\"1068\",\"type\":\"Selection\"},{\"attributes\":{},\"id\":\"1062\",\"type\":\"BasicTickFormatter\"},{\"attributes\":{\"formatter\":{\"id\":\"1066\",\"type\":\"BasicTickFormatter\"},\"ticker\":{\"id\":\"1041\",\"type\":\"BasicTicker\"}},\"id\":\"1040\",\"type\":\"LinearAxis\"},{\"attributes\":{\"size\":10},\"id\":\"3478\",\"type\":\"VeeHead\"},{\"attributes\":{\"line_dash\":[6],\"location\":3.141592653589793},\"id\":\"4576\",\"type\":\"Span\"},{\"attributes\":{\"end\":{\"id\":\"3478\",\"type\":\"VeeHead\"},\"source\":null,\"start\":null,\"visible\":false,\"x_end\":{\"value\":0},\"x_start\":{\"value\":0},\"y_end\":{\"value\":-6.283185307179586},\"y_start\":{\"value\":0}},\"id\":\"3479\",\"type\":\"Arrow\"},{\"attributes\":{\"fill_alpha\":{\"value\":0.1},\"fill_color\":{\"value\":\"#1f77b4\"},\"line_alpha\":{\"value\":0.1},\"line_color\":{\"value\":\"#1f77b4\"},\"line_width\":{\"value\":3},\"size\":{\"units\":\"screen\",\"value\":10},\"x\":{\"field\":\"x\"},\"y\":{\"field\":\"y\"}},\"id\":\"1026\",\"type\":\"Circle\"},{\"attributes\":{\"source\":{\"id\":\"1562\",\"type\":\"ColumnDataSource\"}},\"id\":\"1566\",\"type\":\"CDSView\"},{\"attributes\":{\"fill_color\":\"red\",\"line_color\":\"red\",\"line_width\":2,\"x\":{\"field\":\"x\"},\"y\":{\"field\":\"y\"}},\"id\":\"1563\",\"type\":\"Patch\"},{\"attributes\":{},\"id\":\"3312\",\"type\":\"Selection\"},{\"attributes\":{\"callback\":null,\"data\":{\"x\":[1.5707963267948966,1.5707963267948966,-1.5707963267948966,-1.5707963267948966,1.5707963267948966],\"y\":[1.5707963267948966,-1.5707963267948966,-1.5707963267948966,1.5707963267948966,1.5707963267948966]},\"selected\":{\"id\":\"1584\",\"type\":\"Selection\"},\"selection_policy\":{\"id\":\"1583\",\"type\":\"UnionRenderers\"}},\"id\":\"1562\",\"type\":\"ColumnDataSource\"},{\"attributes\":{\"end\":{\"id\":\"3469\",\"type\":\"VeeHead\"},\"source\":null,\"start\":null,\"visible\":false,\"x_end\":{\"value\":6.283185307179586},\"x_start\":{\"value\":0},\"y_end\":{\"value\":0},\"y_start\":{\"value\":0}},\"id\":\"3470\",\"type\":\"Arrow\"},{\"attributes\":{\"size\":10},\"id\":\"3475\",\"type\":\"VeeHead\"},{\"attributes\":{\"size\":10},\"id\":\"1176\",\"type\":\"VeeHead\"},{\"attributes\":{\"callback\":null,\"data\":{\"xs\":[[3.141592653589793,-3.141592653589793],[0,0]],\"ys\":[[0,0],[3.141592653589793,-3.141592653589793]]},\"selected\":{\"id\":\"1175\",\"type\":\"Selection\"},\"selection_policy\":{\"id\":\"1174\",\"type\":\"UnionRenderers\"}},\"id\":\"1155\",\"type\":\"ColumnDataSource\"},{\"attributes\":{\"data_source\":{\"id\":\"1024\",\"type\":\"ColumnDataSource\"},\"glyph\":{\"id\":\"1025\",\"type\":\"Circle\"},\"hover_glyph\":null,\"muted_glyph\":null,\"nonselection_glyph\":{\"id\":\"1026\",\"type\":\"Circle\"},\"selection_glyph\":null,\"view\":{\"id\":\"1028\",\"type\":\"CDSView\"}},\"id\":\"1027\",\"type\":\"GlyphRenderer\"},{\"attributes\":{\"line_width\":{\"value\":2},\"xs\":{\"field\":\"xs\"},\"ys\":{\"field\":\"ys\"}},\"id\":\"1156\",\"type\":\"MultiLine\"},{\"attributes\":{\"line_alpha\":{\"value\":0.1},\"line_color\":{\"value\":\"#1f77b4\"},\"line_width\":{\"value\":2},\"xs\":{\"field\":\"xs\"},\"ys\":{\"field\":\"ys\"}},\"id\":\"1157\",\"type\":\"MultiLine\"},{\"attributes\":{\"data_source\":{\"id\":\"1155\",\"type\":\"ColumnDataSource\"},\"glyph\":{\"id\":\"1156\",\"type\":\"MultiLine\"},\"hover_glyph\":null,\"muted_glyph\":null,\"nonselection_glyph\":{\"id\":\"1157\",\"type\":\"MultiLine\"},\"selection_glyph\":null,\"view\":{\"id\":\"1159\",\"type\":\"CDSView\"},\"visible\":false},\"id\":\"1158\",\"type\":\"GlyphRenderer\"},{\"attributes\":{\"line_dash\":[6],\"location\":-3.141592653589793},\"id\":\"4577\",\"type\":\"Span\"},{\"attributes\":{\"source\":{\"id\":\"1155\",\"type\":\"ColumnDataSource\"}},\"id\":\"1159\",\"type\":\"CDSView\"},{\"attributes\":{},\"id\":\"1583\",\"type\":\"UnionRenderers\"},{\"attributes\":{},\"id\":\"1174\",\"type\":\"UnionRenderers\"},{\"attributes\":{},\"id\":\"1064\",\"type\":\"BasicTickFormatter\"},{\"attributes\":{},\"id\":\"1175\",\"type\":\"Selection\"},{\"attributes\":{\"data_source\":{\"id\":\"2820\",\"type\":\"ColumnDataSource\"},\"glyph\":{\"id\":\"2821\",\"type\":\"Patch\"},\"hover_glyph\":null,\"muted_glyph\":null,\"nonselection_glyph\":{\"id\":\"2822\",\"type\":\"Patch\"},\"selection_glyph\":null,\"view\":{\"id\":\"2824\",\"type\":\"CDSView\"},\"visible\":true},\"id\":\"2823\",\"type\":\"GlyphRenderer\"},{\"attributes\":{\"end\":{\"id\":\"1176\",\"type\":\"VeeHead\"},\"source\":null,\"start\":null,\"visible\":false,\"x_end\":{\"value\":3.141592653589793},\"x_start\":{\"value\":0},\"y_end\":{\"value\":0},\"y_start\":{\"value\":0}},\"id\":\"1177\",\"type\":\"Arrow\"},{\"attributes\":{\"fill_alpha\":{\"value\":0.1},\"fill_color\":{\"value\":\"#1f77b4\"},\"line_alpha\":{\"value\":0.1},\"line_color\":{\"value\":\"#1f77b4\"},\"line_width\":{\"value\":2},\"xs\":{\"field\":\"xs\"},\"ys\":{\"field\":\"ys\"}},\"id\":\"5179\",\"type\":\"Patches\"},{\"attributes\":{\"size\":10},\"id\":\"1182\",\"type\":\"VeeHead\"},{\"attributes\":{\"fill_alpha\":0.1,\"fill_color\":\"#1f77b4\",\"line_alpha\":0.1,\"line_color\":\"#1f77b4\",\"line_width\":2,\"x\":{\"field\":\"x\"},\"y\":{\"field\":\"y\"}},\"id\":\"2822\",\"type\":\"Patch\"},{\"attributes\":{\"end\":{\"id\":\"1179\",\"type\":\"VeeHead\"},\"source\":null,\"start\":null,\"visible\":false,\"x_end\":{\"value\":-3.141592653589793},\"x_start\":{\"value\":0},\"y_end\":{\"value\":0},\"y_start\":{\"value\":0}},\"id\":\"1180\",\"type\":\"Arrow\"},{\"attributes\":{\"size\":10},\"id\":\"1185\",\"type\":\"VeeHead\"},{\"attributes\":{\"end\":{\"id\":\"1182\",\"type\":\"VeeHead\"},\"source\":null,\"start\":null,\"visible\":false,\"x_end\":{\"value\":0},\"x_start\":{\"value\":0},\"y_end\":{\"value\":3.141592653589793},\"y_start\":{\"value\":0}},\"id\":\"1183\",\"type\":\"Arrow\"},{\"attributes\":{\"data_source\":{\"id\":\"5177\",\"type\":\"ColumnDataSource\"},\"glyph\":{\"id\":\"5178\",\"type\":\"Patches\"},\"hover_glyph\":null,\"level\":\"underlay\",\"muted_glyph\":null,\"nonselection_glyph\":{\"id\":\"5179\",\"type\":\"Patches\"},\"selection_glyph\":null,\"view\":{\"id\":\"5181\",\"type\":\"CDSView\"}},\"id\":\"5180\",\"type\":\"GlyphRenderer\"},{\"attributes\":{\"fill_color\":\"#1f77b4\",\"line_color\":\"#1f77b4\",\"line_width\":2,\"x\":{\"field\":\"x\"},\"y\":{\"field\":\"y\"}},\"id\":\"2821\",\"type\":\"Patch\"},{\"attributes\":{},\"id\":\"5208\",\"type\":\"UnionRenderers\"},{\"attributes\":{\"end\":{\"id\":\"1185\",\"type\":\"VeeHead\"},\"source\":null,\"start\":null,\"visible\":false,\"x_end\":{\"value\":0},\"x_start\":{\"value\":0},\"y_end\":{\"value\":-3.141592653589793},\"y_start\":{\"value\":0}},\"id\":\"1186\",\"type\":\"Arrow\"},{\"attributes\":{},\"id\":\"1584\",\"type\":\"Selection\"},{\"attributes\":{},\"id\":\"5209\",\"type\":\"Selection\"},{\"attributes\":{\"fill_color\":{\"value\":\"indigo\"},\"line_color\":{\"value\":\"indigo\"},\"line_width\":{\"value\":2},\"xs\":{\"field\":\"xs\"},\"ys\":{\"field\":\"ys\"}},\"id\":\"5178\",\"type\":\"Patches\"},{\"attributes\":{\"end\":{\"id\":\"3475\",\"type\":\"VeeHead\"},\"source\":null,\"start\":null,\"visible\":false,\"x_end\":{\"value\":0},\"x_start\":{\"value\":0},\"y_end\":{\"value\":6.283185307179586},\"y_start\":{\"value\":0}},\"id\":\"3476\",\"type\":\"Arrow\"},{\"attributes\":{\"fill_alpha\":0.1,\"fill_color\":\"#1f77b4\",\"line_alpha\":0.1,\"line_color\":\"#1f77b4\",\"line_width\":2,\"x\":{\"field\":\"x\"},\"y\":{\"field\":\"y\"}},\"id\":\"1564\",\"type\":\"Patch\"},{\"attributes\":{\"callback\":null,\"data\":{\"xs\":[[-3.141592653589793,-3.141592653589793,3.141592653589793,3.141592653589793],[-1.5707963267948966,-1.5707963267948966,1.5707963267948966,1.5707963267948966]],\"ys\":[[-1.5707963267948966,1.5707963267948966,1.5707963267948966,-1.5707963267948966],[-3.141592653589793,3.141592653589793,3.141592653589793,-3.141592653589793]]},\"selected\":{\"id\":\"5209\",\"type\":\"Selection\"},\"selection_policy\":{\"id\":\"5208\",\"type\":\"UnionRenderers\"}},\"id\":\"5177\",\"type\":\"ColumnDataSource\"},{\"attributes\":{\"source\":{\"id\":\"2820\",\"type\":\"ColumnDataSource\"}},\"id\":\"2824\",\"type\":\"CDSView\"},{\"attributes\":{\"end\":{\"id\":\"3472\",\"type\":\"VeeHead\"},\"source\":null,\"start\":null,\"visible\":false,\"x_end\":{\"value\":-6.283185307179586},\"x_start\":{\"value\":0},\"y_end\":{\"value\":0},\"y_start\":{\"value\":0}},\"id\":\"3473\",\"type\":\"Arrow\"},{\"attributes\":{\"data_source\":{\"id\":\"1562\",\"type\":\"ColumnDataSource\"},\"glyph\":{\"id\":\"1563\",\"type\":\"Patch\"},\"hover_glyph\":null,\"level\":\"overlay\",\"muted_glyph\":null,\"nonselection_glyph\":{\"id\":\"1564\",\"type\":\"Patch\"},\"selection_glyph\":null,\"view\":{\"id\":\"1566\",\"type\":\"CDSView\"},\"visible\":true},\"id\":\"1565\",\"type\":\"GlyphRenderer\"}],\"root_ids\":[\"5883\"]},\"title\":\"Bokeh Application\",\"version\":\"1.4.0\"}};\n",
       "  var render_items = [{\"docid\":\"98e6d965-fd21-4edd-a0f5-56b2c643867c\",\"roots\":{\"5883\":\"367e6d7b-5d42-430e-8f8d-cfa17af1816d\"}}];\n",
       "  root.Bokeh.embed.embed_items_notebook(docs_json, render_items);\n",
       "\n",
       "  }\n",
       "  if (root.Bokeh !== undefined) {\n",
       "    embed_document(root);\n",
       "  } else {\n",
       "    var attempts = 0;\n",
       "    var timer = setInterval(function(root) {\n",
       "      if (root.Bokeh !== undefined) {\n",
       "        clearInterval(timer);\n",
       "        embed_document(root);\n",
       "      } else {\n",
       "        attempts++;\n",
       "        if (attempts > 100) {\n",
       "          clearInterval(timer);\n",
       "          console.log(\"Bokeh: ERROR: Unable to run BokehJS code because BokehJS library is missing\");\n",
       "        }\n",
       "      }\n",
       "    }, 10, root)\n",
       "  }\n",
       "})(window);"
      ],
      "application/vnd.bokehjs_exec.v0+json": ""
     },
     "metadata": {
      "application/vnd.bokehjs_exec.v0+json": {
       "id": "5883"
      }
     },
     "output_type": "display_data"
    }
   ],
   "source": [
    "# overlay all three Brillouin zones along with the bragg planes\n",
    "bz3.visible = True;\n",
    "bz3.level = \"underlay\";\n",
    "bz2.visible = True;\n",
    "bz2.level = \"glyph\";\n",
    "bz1.visible = True;\n",
    "bz1.level = \"overlay\";\n",
    "vec3.visible = False;\n",
    "arrow1.visible = False;\n",
    "arrow2.visible = False;\n",
    "arrow3.visible = False;\n",
    "arrow4.visible = False;\n",
    "show(row(real, img))"
   ]
  },
  {
   "cell_type": "markdown",
   "metadata": {},
   "source": [
    "# Questions\n",
    "\n",
    "- What are the 1st, 2nd, 3rd Brillouin zones of the 1D chain ?"
   ]
  },
  {
   "cell_type": "code",
   "execution_count": 1,
   "metadata": {},
   "outputs": [],
   "source": []
  },
  {
   "cell_type": "code",
   "execution_count": null,
   "metadata": {},
   "outputs": [],
   "source": []
  }
 ],
 "metadata": {
  "kernelspec": {
   "display_name": "Python 3",
   "language": "python",
   "name": "python3"
  },
  "language_info": {
   "codemirror_mode": {
    "name": "ipython",
    "version": 3
   },
   "file_extension": ".py",
   "mimetype": "text/x-python",
   "name": "python",
   "nbconvert_exporter": "python",
   "pygments_lexer": "ipython3",
   "version": "3.6.9"
  }
 },
 "nbformat": 4,
 "nbformat_minor": 4
}
