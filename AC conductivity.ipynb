{
 "cells": [
  {
   "cell_type": "code",
   "execution_count": null,
   "metadata": {},
   "outputs": [],
   "source": [
    "import numpy as np\n",
    "\n",
    "from bokeh.io import push_notebook, output_notebook, show\n",
    "from bokeh.layouts import row, column\n",
    "from bokeh.plotting import figure\n",
    "output_notebook()\n",
    "\n",
    "from ipywidgets import interact\n",
    "\n",
    "from collections import OrderedDict\n",
    "old_settings = np.seterr(over = 'ignore') #Ignore warnings about overflow data points"
   ]
  },
  {
   "cell_type": "code",
   "execution_count": null,
   "metadata": {},
   "outputs": [],
   "source": [
    "# Set up constant in SI units\n",
    "dens = 8.47e+28\n",
    "rho = 1.56e-8\n",
    "eps = 8.854e-12\n",
    "omega0 = 1/rho\n",
    "m = 9.109e-31\n",
    "elec = 1.602e-19\n",
    "tau = m / (dens*rho*elec**2)\n",
    "freq_min = 1e-12   #Lower limit of frequency (approximately DC scenario)\n",
    "freq_max = 2000.0    #Upper limit of frequency\n",
    "N = 2000   #Number of points for the independent variable\n",
    "\n",
    "# Set up the variable space\n",
    "freq = np.linspace(freq_min, freq_max, N)  #Energy measured in units of chemical potential\n",
    "w = 2*np.pi*freq*1e+12 #Convert frequency to angular frequency\n",
    "omega1 = omega0 / (1.0 + w**2*tau**2)  #Real part of the conductivity\n",
    "omega2 = w*tau*omega0 / (1.0 + w**2*tau**2)  #imaginary part of the conductivity"
   ]
  },
  {
   "cell_type": "code",
   "execution_count": null,
   "metadata": {},
   "outputs": [],
   "source": [
    "#calculate permittivity\n",
    "\n",
    "eps0 = 1.0 #Effective permittivity of the material\n",
    "eps1 = eps0 - omega2/(eps*w)\n",
    "eps2 = omega1/(eps*w)"
   ]
  },
  {
   "cell_type": "code",
   "execution_count": null,
   "metadata": {},
   "outputs": [],
   "source": [
    "# Set up conductivity plot\n",
    "plot = figure(plot_height=200, plot_width=400, title=\"Real part of AC conductivity\",\n",
    "              tools=\"pan,reset,save,wheel_zoom\",\n",
    "              x_range=[freq_min, freq_max], y_range=[0, 8e+7])\n",
    "plot.xaxis[0].axis_label='Frequency (THz)'\n",
    "plot.yaxis[0].axis_label='conductivity (Ohm-1m-1)'\n",
    "r = plot.line(freq, omega1, line_width=3, line_alpha=0.6)\n",
    "\n",
    "plot2 = figure(plot_height=200, plot_width=400, title=\"Imaginary part of AC conductivity\",\n",
    "              tools=\"pan,reset,save,wheel_zoom\",\n",
    "              x_range=[freq_min, freq_max], y_range=[0.0, 2e+7])\n",
    "plot2.xaxis[0].axis_label='Frequency (THz)'\n",
    "plot2.yaxis[0].axis_label='conductivity (Ohm-1m-1)'\n",
    "rr = plot2.line(freq, omega2, line_width=3, line_alpha=0.6, color = 'red')"
   ]
  },
  {
   "cell_type": "code",
   "execution_count": null,
   "metadata": {
    "scrolled": true
   },
   "outputs": [],
   "source": [
    "# Set up permittivity plot\n",
    "plot3 = figure(plot_height=200, plot_width=400, title=\"Real part of permittivity\",\n",
    "              tools=\"pan,reset,save,wheel_zoom\",\n",
    "              x_range=[-100, freq_max], y_range=[np.amin(eps1), 10000])\n",
    "plot3.xaxis[0].axis_label='Frequency (THz)'\n",
    "plot3.yaxis[0].axis_label='Permittivity (F/m)'\n",
    "rrr = plot3.line(freq, eps1, line_width=3, line_alpha=0.6)\n",
    "\n",
    "plot4 = figure(plot_height=200, plot_width=400, title= \"imaginary part of permittivity\",\n",
    "              tools=\"pan,reset,save,wheel_zoom\",\n",
    "              x_range=[-100, freq_max], y_range=[np.amin(eps2), 1.5*np.amax(eps2)])\n",
    "plot4.xaxis[0].axis_label='Frequency (THz)'\n",
    "plot4.yaxis[0].axis_label='Permittivity (F/m)'\n",
    "rrrr = plot4.line(freq, eps2, line_width=3, line_alpha=0.6, color = 'red')"
   ]
  },
  {
   "cell_type": "code",
   "execution_count": null,
   "metadata": {},
   "outputs": [],
   "source": [
    "# Set up callbacks to update the plots\n",
    "def update_data(density, resistivity):\n",
    "# Generate the new curve\n",
    "    dens = density*1e+28\n",
    "    rho = resistivity*1e-8\n",
    "    omega0 = 1/rho\n",
    "    tau = m / (dens*rho*elec**2)\n",
    "    freq = np.linspace(freq_min, freq_max, N)  #Energy measured in units of chemical potential\n",
    "    w = 2*np.pi*freq*1e+9 #Convert frequency to angular frequency\n",
    "    r.data_source.data['y'] = omega0 / (1.0 + w**2*tau**2) \n",
    "    rr.data_source.data['y'] = w*tau*omega0 / (1.0 + w**2*tau**2)\n",
    "    rrr.data_source.data['y'] = eps0 - omega2/w\n",
    "    rrrr.data_source.data['y'] = omega1/w\n",
    "\n",
    "    push_notebook()"
   ]
  },
  {
   "cell_type": "code",
   "execution_count": null,
   "metadata": {},
   "outputs": [],
   "source": [
    "show(column([row(plot,plot2),row(plot3, plot4)]),notebook_handle=True)"
   ]
  },
  {
   "cell_type": "code",
   "execution_count": null,
   "metadata": {},
   "outputs": [],
   "source": [
    "interact(update_data, density = (0.091, 24.7, 0.02), resistivity = (2.8, 107, 0.5))"
   ]
  },
  {
   "cell_type": "code",
   "execution_count": null,
   "metadata": {},
   "outputs": [],
   "source": [
    "eps2"
   ]
  },
  {
   "cell_type": "code",
   "execution_count": null,
   "metadata": {},
   "outputs": [],
   "source": []
  }
 ],
 "metadata": {
  "kernelspec": {
   "display_name": "Python 3",
   "language": "python",
   "name": "python3"
  },
  "language_info": {
   "codemirror_mode": {
    "name": "ipython",
    "version": 3
   },
   "file_extension": ".py",
   "mimetype": "text/x-python",
   "name": "python",
   "nbconvert_exporter": "python",
   "pygments_lexer": "ipython3",
   "version": "3.6.8"
  }
 },
 "nbformat": 4,
 "nbformat_minor": 2
}
