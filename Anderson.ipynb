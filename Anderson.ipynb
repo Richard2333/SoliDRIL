{
 "cells": [
  {
   "cell_type": "markdown",
   "metadata": {},
   "source": [
    "# Introduction\n",
    "This notebook is intended to show a very basic example of the Anderson localization in one-dimensional system. "
   ]
  },
  {
   "cell_type": "code",
   "execution_count": 1,
   "metadata": {},
   "outputs": [],
   "source": [
    "import numpy as np\n",
    "from numpy import linalg as LA\n",
    "import matplotlib.pyplot as plt\n",
    "\n",
    "# from __future__ import print_function\n",
    "from ipywidgets import interact, interactive, fixed, interact_manual\n",
    "import ipywidgets as widgets\n",
    "\n",
    "%matplotlib inline"
   ]
  },
  {
   "cell_type": "code",
   "execution_count": 88,
   "metadata": {},
   "outputs": [
    {
     "name": "stdout",
     "output_type": "stream",
     "text": [
      "26.189146544935 15.979975218507578\n"
     ]
    },
    {
     "data": {
      "image/png": "[encoded data removed]",
      "text/plain": [
       "<Figure size 432x288 with 1 Axes>"
      ]
     },
     "metadata": {
      "needs_background": "light"
     },
     "output_type": "display_data"
    }
   ],
   "source": [
    "def IPA(vector):\n",
    "    vector=vector/np.sum(abs(vector)**2);\n",
    "    v1=abs(vector)**2;\n",
    "    v1=v1**2;\n",
    "    ipr=1.0/np.sum(v1)\n",
    "    return(ipr)\n",
    "def buildham(t,nq):\n",
    "    nq=nq-1\n",
    "    y=np.ones(nq)\n",
    "\n",
    "    mat1=np.diag(y,-1)*t+np.diag(y,1)*t\n",
    "    mat1[nq,0]=t\n",
    "    mat1[0,nq]=t \n",
    "\n",
    "    #mat=np.kron(part1,mat1)+np.kron(part2,mat2)\n",
    "    #print(mat)\n",
    "    return(mat1)\n",
    "ndim=40\n",
    "nr=np.arange(0,ndim,1)\n",
    "H0=buildham(1,ndim)\n",
    "disorder=np.random.rand(ndim)-0.5;\n",
    "d1=disorder**2;\n",
    "H1=H0+np.diag(disorder)\n",
    "[eigval0,eigvec0]=np.linalg.eigh(H0)\n",
    "[eigval1,eigvec1]=np.linalg.eigh(H1)\n",
    "#plt.scatter(nr,eigvec0[2,:])\n",
    "#plt.scatter(disorder,d1)\n",
    "#print(ndim)\n",
    "ipa1=np.zeros(ndim)\n",
    "ipa0=np.zeros(ndim)\n",
    "for i in range(0,ndim-1):\n",
    "    ipa1[i-1]=IPA(eigvec1[i,:])/ndim\n",
    "    ipa0[i-1]=IPA(eigvec0[i,:])/ndim\n",
    "plt.scatter(nr,ipa0)\n",
    "plt.scatter(nr,ipa1)\n",
    "print(sum(ipa0),sum(ipa1))"
   ]
  },
  {
   "cell_type": "code",
   "execution_count": null,
   "metadata": {},
   "outputs": [],
   "source": []
  }
 ],
 "metadata": {
  "kernelspec": {
   "display_name": "Python 3",
   "language": "python",
   "name": "python3"
  },
  "language_info": {
   "codemirror_mode": {
    "name": "ipython",
    "version": 3
   },
   "file_extension": ".py",
   "mimetype": "text/x-python",
   "name": "python",
   "nbconvert_exporter": "python",
   "pygments_lexer": "ipython3",
   "version": "3.6.9"
  }
 },
 "nbformat": 4,
 "nbformat_minor": 4
}
