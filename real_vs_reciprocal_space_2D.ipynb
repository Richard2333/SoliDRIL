{
 "cells": [
  {
   "cell_type": "markdown",
   "metadata": {},
   "source": [
    "# Real vs. Reciprocal Space in 2D\n",
    "\n",
    "## Introduction\n",
    "\n",
    " In this short notebook, we will introduce ... "
   ]
  },
  {
   "cell_type": "code",
   "execution_count": 154,
   "metadata": {},
   "outputs": [],
   "source": [
    "import numpy as np\n",
    "import matplotlib.pyplot as plt\n",
    "\n",
    "from __future__ import print_function\n",
    "from ipywidgets import interact, interactive, fixed, interact_manual\n",
    "import ipywidgets as widgets\n",
    "\n",
    "%matplotlib inline"
   ]
  },
  {
   "cell_type": "code",
   "execution_count": 155,
   "metadata": {},
   "outputs": [],
   "source": [
    "def get_reciprocal_vectors(a1,a2):\n",
    "    '''\n",
    "    :param a1,a2: Real Space 2D lattice vectors\n",
    "    :return: b1,b2 : Reciprocal Space basis vector\n",
    "    '''\n",
    "    \n",
    "    # Define the 90 degree rotation matrix\n",
    "    R =[[0, -1],[1,0]]\n",
    "    \n",
    "    # Create to vectors b1,b2 such that ai*bj = 2\\pi \\delta_{i,j}\n",
    "    # we first ensure the orthogonality of b1(2) wrt a2,(1) and then normalize the vector\n",
    "    b1 = 2*np.pi* np.matmul(R,a2)/np.matmul(np.transpose(a1),np.matmul(R,a2))\n",
    "    b2 = 2*np.pi* np.matmul(R,a1)/np.matmul(np.transpose(a2),np.matmul(R,a1))\n",
    "    \n",
    "    return b1,b2\n",
    "\n"
   ]
  },
  {
   "cell_type": "code",
   "execution_count": 156,
   "metadata": {},
   "outputs": [],
   "source": [
    "def plot_lattice(v1,v2,nb_x,nb_y):\n",
    "    '''\n",
    "    :param v1,v2: lattice vectors\n",
    "    :parma nb_x,nb_y: (int) Control the number of points by setting the number of times v1 and v2 are repeated\n",
    "    :return: matplotlib figure\n",
    "    '''\n",
    "    coordinates = []\n",
    "    # Set up the coordinates \n",
    "    for ii in np.arange(nb_x):\n",
    "        for jj in np.arange(nb_y):\n",
    "            coordinates.append(ii*v1 + jj*v2)\n",
    "    # Separate the x and y coordinates (for the scatter function)\n",
    "    x,y=zip(*coordinates)\n",
    "    plt.scatter(x,y)\n",
    "    # Plot the lattice vectors\n",
    "    plt.arrow(0,0,v1[0,0],v1[1,0],color=\"red\")\n",
    "    plt.arrow(0,0,v2[0,0],v2[1,0],color=\"red\")\n",
    "\n",
    "    \n",
    "    #Plot the unit cell\n",
    "    edges = ([(0,0),(v1[0,0],v1[1,0]),(v1[0,0]+v2[0,0],v1[1,0]+v2[1,0]),(v2[0,0],v2[1,0])])\n",
    "    x,y = zip(*edges)\n",
    "\n",
    "    plt.fill(x, y, color='#6699cc', alpha=0.7,linewidth=3, zorder=2)\n",
    "        \n",
    "    return plt.gcf"
   ]
  },
  {
   "cell_type": "code",
   "execution_count": 171,
   "metadata": {},
   "outputs": [],
   "source": [
    "def interactive_lattice_plot(a1,a2,theta):\n",
    "    '''\n",
    "    :param a1,a2: norm of the lattice vectors\n",
    "    :param theta: angle between the lattice vectors\n",
    "    '''\n",
    "    # prepare the vectors\n",
    "    v1 = np.matrix([[1],[0]])\n",
    "    v2 = np.matmul(np.matrix([[np.cos(theta),-np.sin(theta)],[np.sin(theta),np.cos(theta)]]),v1)\n",
    "    \n",
    "    v1*=a1\n",
    "    v2*=a2\n",
    "    \n",
    "    plt.subplot(1,2,1)\n",
    "    plt.axis([-2.5,25,-2.5,25])\n",
    "\n",
    "    plot_lattice (v1,v2,3,3)\n",
    "\n",
    "    plt.subplot(1,2,2)\n",
    "    plt.axis([-2.5,6,-2.5,6])\n",
    "\n",
    "    b1,b2=get_reciprocal_vectors(v1,v2)\n",
    "    plot_lattice (b1,b2,3,3)\n"
   ]
  },
  {
   "cell_type": "code",
   "execution_count": 172,
   "metadata": {},
   "outputs": [
    {
     "data": {
      "application/vnd.jupyter.widget-view+json": {
       "model_id": "d330f1e54c3b4991921c149406ab8d6f",
       "version_major": 2,
       "version_minor": 0
      },
      "text/html": [
       "<p>Failed to display Jupyter Widget of type <code>interactive</code>.</p>\n",
       "<p>\n",
       "  If you're reading this message in the Jupyter Notebook or JupyterLab Notebook, it may mean\n",
       "  that the widgets JavaScript is still loading. If this message persists, it\n",
       "  likely means that the widgets JavaScript library is either not installed or\n",
       "  not enabled. See the <a href=\"https://ipywidgets.readthedocs.io/en/stable/user_install.html\">Jupyter\n",
       "  Widgets Documentation</a> for setup instructions.\n",
       "</p>\n",
       "<p>\n",
       "  If you're reading this message in another frontend (for example, a static\n",
       "  rendering on GitHub or <a href=\"https://nbviewer.jupyter.org/\">NBViewer</a>),\n",
       "  it may mean that your frontend doesn't currently support widgets.\n",
       "</p>\n"
      ],
      "text/plain": [
       "interactive(children=(FloatSlider(value=5.5, description='a1', max=10.0, min=1.0), FloatSlider(value=5.5, description='a2', max=10.0, min=1.0), FloatSlider(value=1.6207963267948966, description='theta', max=3.141592653589793, min=0.1), Output()), _dom_classes=('widget-interact',))"
      ]
     },
     "metadata": {},
     "output_type": "display_data"
    }
   ],
   "source": [
    "interactive_plot = interactive(interactive_lattice_plot, a1=(1, 10.0), a2=(1, 10.0),theta=(0.1,np.pi))\n",
    "interactive_plot\n"
   ]
  },
  {
   "cell_type": "code",
   "execution_count": null,
   "metadata": {},
   "outputs": [],
   "source": []
  },
  {
   "cell_type": "code",
   "execution_count": null,
   "metadata": {},
   "outputs": [],
   "source": []
  },
  {
   "cell_type": "code",
   "execution_count": null,
   "metadata": {},
   "outputs": [],
   "source": []
  }
 ],
 "metadata": {
  "kernelspec": {
   "display_name": "Python 3",
   "language": "python",
   "name": "python3"
  },
  "language_info": {
   "codemirror_mode": {
    "name": "ipython",
    "version": 3
   },
   "file_extension": ".py",
   "mimetype": "text/x-python",
   "name": "python",
   "nbconvert_exporter": "python",
   "pygments_lexer": "ipython3",
   "version": "3.6.4"
  }
 },
 "nbformat": 4,
 "nbformat_minor": 2
}
