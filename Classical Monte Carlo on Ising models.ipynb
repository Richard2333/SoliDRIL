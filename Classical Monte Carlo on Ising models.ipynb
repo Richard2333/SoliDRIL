{
 "cells": [
  {
   "cell_type": "code",
   "execution_count": null,
   "metadata": {},
   "outputs": [],
   "source": [
    "import numpy as np\n",
    "import pandas as pd\n",
    "import ipywidgets as ipw\n",
    "import matplotlib.pyplot as plt\n",
    "import vpython as vp\n",
    "\n",
    "from scipy.linalg import expm\n",
    "from random import choice\n",
    "\n",
    "output_notebook()"
   ]
  },
  {
   "cell_type": "code",
   "execution_count": null,
   "metadata": {},
   "outputs": [],
   "source": [
    "# Define a function to map a 1D array to a 2D/3D lattice, only works on lattice of equal-lateral size in Cartesian system\n",
    "def map(index, size, dimension): \n",
    "    if dimension == 1:\n",
    "        return [index, 0, 0];\n",
    "    if dimension == 2:\n",
    "        x = index%size;\n",
    "        y = np.floor(index/size);\n",
    "       # return vp.vector(x,y,0);\n",
    "        return [x, y, 0];\n",
    "    if dimension == 3:\n",
    "        sub_index = index%(size**2);\n",
    "        x = sub_index%size;\n",
    "        y = np.floor(sub_index/size);\n",
    "        z = np.floor(index/size**2);\n",
    "       # return vp.vector(x,y,z)\n",
    "        return [x, y, z];"
   ]
  },
  {
   "cell_type": "code",
   "execution_count": null,
   "metadata": {},
   "outputs": [],
   "source": [
    "# Define a function to map the 3D vector back into the 1D array index\n",
    "def antimap(array, size, dimension):\n",
    "    if dimension == 1:\n",
    "        return array[0];\n",
    "    if dimension == 2:\n",
    "        return array[0] + array[1]*size;\n",
    "    if dimension == 3:\n",
    "        return array[0] + array[1]*size + array[2]*size*size;"
   ]
  },
  {
   "cell_type": "code",
   "execution_count": null,
   "metadata": {},
   "outputs": [],
   "source": [
    "# Define a function to find the index of the nearest neighbours\n",
    "def nNbr(index, size, dimension):\n",
    "    if dimension == 1:\n",
    "        return [(index+size-1)%size, (index+size+1)%size]; # apply periodic condition\n",
    "    \n",
    "    if dimension == 2:\n",
    "        pos = map(index,size,dimension);\n",
    "        north = np.mod(np.add(pos,[0,size+1,0]), size);\n",
    "        south = np.mod(np.add(pos,[0,size-1,0]), size);\n",
    "        east = np.mod(np.add(pos,[size+1,0,0]), size);\n",
    "        west = np.mod(np.add(pos,[size-1,0,0]),size);\n",
    "        return [antimap(north, size, 2), antimap(south, size, 2), antimap(east, size, 2), antimap(west, size, 2)];\n",
    "    \n",
    "    if dimension == 3:\n",
    "        pos = map(index,size,dimension);\n",
    "        north = np.mod(np.add(pos,[0,size+1,0]), size);\n",
    "        south = np.mod(np.add(pos,[0,size-1,0]), size);\n",
    "        east = np.mod(np.add(pos,[size+1,0,0]), size);\n",
    "        west = np.mod(np.add(pos,[size-1,0,0]),size);\n",
    "        up = np.mod(np.add(pos,[0,0,size+1]), size);\n",
    "        down = np.mod(np.add(pos,[0,0,size-1]), size);\n",
    "        return [antimap(north, size, 3), antimap(south, size, 3), antimap(east, size, 3), antimap(west, size, 3), antimap(up, size, 3), antimap(down, size, 3)];"
   ]
  },
  {
   "cell_type": "code",
   "execution_count": null,
   "metadata": {},
   "outputs": [],
   "source": [
    "# Set up the system parameters\n",
    "temp = 150; # in [K] \n",
    "L = 10; # Define the lattice size\n",
    "dims = 2; # Define the dimensionality of the lattice\n",
    "N = L**dims; # Compute the total number of the sites\n",
    "kB = 8.617E-5 # Boltzmann constant in [eV/K]\n",
    "J = -4.0*kB; # Define the coupling strength between spins\n",
    "beta = 1/(temp*kB);\n",
    "MaxIteration = 1000; # Define the maximum amount of iteration\n",
    "r = 0.2; # dot radius for visualization"
   ]
  },
  {
   "cell_type": "code",
   "execution_count": null,
   "metadata": {},
   "outputs": [],
   "source": [
    "# Set up array containers for data manipulation and initial conditions\n",
    "#lattice = np.empty((N*N,3),int); # Create a container for the lattice sites\n",
    "Apos = [None]*N; # Create a container for site positions using vpython.vector()\n",
    "#spin = np.onesN; # Create a container for the spins for all the lattice sites\n",
    "spinV = np.empty(N,int);\n",
    "spinC = [None]*N;\n",
    "nIdx = np.empty((N,dims*2), np.intp); # Create a container to store the indices of the nearest neighbours of each site\n",
    "probs = np.empty(N,np.float);\n",
    "for ii in range(N):\n",
    "    #lattice[ii] = [ii%N, np.floor((ii)/N), 0];\n",
    "    Apos[ii] = vp.vector(ii%L, np.floor((ii)/L), 0);\n",
    "    spinV[ii] = 1; # Create a container to store the values of the spins\n",
    "    spinC[ii] = vp.vector(1,0,0); # Create a container to store the color code of the spins\n",
    "    nIdx[ii] = nNbr(ii, L, dims);\n",
    "for ii in range(int(N/2)): # Randomly choose half of the lattice to flip the spin \n",
    "    kk = choice(range(N));\n",
    "    spinV[kk] = -1;\n",
    "    spinC[kk] = vp.vector(1,1,1); # color all the spin down as white\n",
    "ruler = np.random.rand(len(spinV));"
   ]
  },
  {
   "cell_type": "code",
   "execution_count": null,
   "metadata": {},
   "outputs": [],
   "source": [
    "# Start the iteration and implement Metropolis algorithm\n",
    "for it in range(MaxIteration):\n",
    "    for ii in range(len(spinV)):\n",
    "        nIdx[ii] = nNbr(ii, L, dims);\n",
    "        probs[ii] = exp(sum(-beta*spinV[nIdx[ii]])*spinV[ii])/exp(sum(beta*spinV[nIdx[ii]])*spinV[ii]);\n",
    "        if probs[ii] >= ruler[ii]:\n",
    "            spinV[ii] = -spinV[ii];\n",
    "            spinC[ii] = vp.vector(1,0,0) if spinV[ii] > 0 else vp.vector(1,1,1);\n",
    "    for ii in range(N*N):\n",
    "        vp.sphere(pos=Apos[ii], radius=r, color=spinV[ii])"
   ]
  },
  {
   "cell_type": "code",
   "execution_count": null,
   "metadata": {},
   "outputs": [],
   "source": []
  },
  {
   "cell_type": "code",
   "execution_count": null,
   "metadata": {},
   "outputs": [],
   "source": []
  }
 ],
 "metadata": {
  "kernelspec": {
   "display_name": "VPython",
   "language": "python",
   "name": "vpython"
  },
  "language_info": {
   "codemirror_mode": {
    "name": "ipython",
    "version": 3
   },
   "file_extension": ".py",
   "mimetype": "text/x-python",
   "name": "python",
   "nbconvert_exporter": "python",
   "pygments_lexer": "ipython3",
   "version": "3.7.3"
  }
 },
 "nbformat": 4,
 "nbformat_minor": 4
}
