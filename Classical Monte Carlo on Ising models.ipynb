{
 "cells": [
  {
   "cell_type": "code",
   "execution_count": null,
   "metadata": {},
   "outputs": [],
   "source": [
    "import numpy as np\n",
    "import matplotlib as mat\n",
    "import matplotlib.pyplot as plt\n",
    "import ipywidgets as ipw\n",
    "\n",
    "from ipywidgets import interact\n",
    "from random import choice\n",
    "%matplotlib inline"
   ]
  },
  {
   "cell_type": "markdown",
   "metadata": {},
   "source": [
    "First define two functions that, when being called, maps a single dimension array to the lattice and vice versa"
   ]
  },
  {
   "cell_type": "code",
   "execution_count": null,
   "metadata": {},
   "outputs": [],
   "source": [
    "# Define a function to map a 1D array to a 2D/3D lattice, only works on lattice of equal-lateral size in Cartesian system\n",
    "def map(index, size, dimension): \n",
    "    if dimension == 1:\n",
    "        return index;\n",
    "    if dimension == 2:\n",
    "        x = index%size;\n",
    "        y = np.floor(index/size);\n",
    "       # return vp.vector(x,y,0);\n",
    "        return [x, y];"
   ]
  },
  {
   "cell_type": "code",
   "execution_count": null,
   "metadata": {},
   "outputs": [],
   "source": [
    "# Define a function to map the 3D vector back into the 1D array index\n",
    "def antimap(array, size, dimension):\n",
    "    if dimension == 1:\n",
    "        return array[0];\n",
    "    if dimension == 2:\n",
    "        return array[0] + array[1]*size;"
   ]
  },
  {
   "cell_type": "markdown",
   "metadata": {},
   "source": [
    "Then define another function that, when being called, returns an array that includes the indices of the current site's nearest neighbours"
   ]
  },
  {
   "cell_type": "code",
   "execution_count": null,
   "metadata": {},
   "outputs": [],
   "source": [
    "# Define a function to find the index of the nearest neighbours\n",
    "def nNbr(index, size, dimension):\n",
    "    if dimension == 1:\n",
    "        return [(index+size-1)%size, (index+size+1)%size]; # apply periodic condition\n",
    "    \n",
    "    if dimension == 2:\n",
    "        pos = map(index,size,dimension);\n",
    "        north = np.mod(np.add(pos,[0,size+1]), size);\n",
    "        south = np.mod(np.add(pos,[0,size-1]), size);\n",
    "        east = np.mod(np.add(pos,[size+1,0]), size);\n",
    "        west = np.mod(np.add(pos,[size-1,0]),size);\n",
    "        return [antimap(north, size, 2), antimap(south, size, 2), antimap(east, size, 2), antimap(west, size, 2)];"
   ]
  },
  {
   "cell_type": "markdown",
   "metadata": {},
   "source": [
    "Finally, the data is output frame by frame using interactive figures."
   ]
  },
  {
   "cell_type": "code",
   "execution_count": null,
   "metadata": {},
   "outputs": [],
   "source": [
    "# Define the function that updates the plot\n",
    "def update(time):\n",
    "    fig = plt.figure(figsize=(15,9)); # Initialize a figure\n",
    "    figa = fig.add_subplot(121);\n",
    "    plt.subplots_adjust(left=0, bottom=0.25)\n",
    "    Ising = figa.scatter(lattice[:,0],lattice[:,1], s=90, c = spinC[time,:], marker = 's', edgecolor = None);\n",
    "    figb = fig.add_subplot(122);\n",
    "    figb.plot(tt, mag,'o-', c='k');\n",
    "    figb.plot(tt[time], mag[time],'o',c='r');\n",
    "    plt.subplots_adjust(left=0,bottom=0.25);\n",
    "    plt.xlabel('Time');\n",
    "    plt.ylabel('Average magnetization/spin per site');"
   ]
  },
  {
   "cell_type": "markdown",
   "metadata": {},
   "source": [
    "Define experimental parameters such as temperature, dimension, size of the lattice, as well as Ising coupling strength measured in unit of Boltzmann constant"
   ]
  },
  {
   "cell_type": "code",
   "execution_count": null,
   "metadata": {},
   "outputs": [],
   "source": [
    "# Set up the system parameters\n",
    "temp = 22; # in [K] \n",
    "L = 50; # Define the lattice size\n",
    "dims = 2; # Define the dimensionality of the lattice (up to 2D)\n",
    "N = L**dims; # Compute the total number of the sites\n",
    "kB = 8.617E-5 # Boltzmann constant in [eV/K]\n",
    "J = -10.0*kB; # Define the coupling strength between spins\n",
    "beta = 1/(temp*kB);"
   ]
  },
  {
   "cell_type": "markdown",
   "metadata": {},
   "source": [
    "Initialize the lattice, use spinV to store spin configurations, and spinC to store corresponding coloring. Iterate through the entire lattice"
   ]
  },
  {
   "cell_type": "code",
   "execution_count": null,
   "metadata": {},
   "outputs": [],
   "source": [
    "# Set up array containers for data manipulation and initial conditions\n",
    "#lattice = np.empty((N*N,3),int); # Create a container for the lattice sites\n",
    "lattice = np.empty((N,dims),float); # Create a container for site positions in the lattice\n",
    "spinV = np.empty(N,int); # Create a container for the spins for all the lattice sites\n",
    "spinC = np.chararray(N); # Create a container to store color values (spin visualization)\n",
    "nIdx = np.empty((N,dims*2), np.intp); # Create a container to store the indices of the nearest neighbours of each site\n",
    "probs = np.empty(N,np.float); # Create a container to store in each iteration spin-flip probability\n",
    "for ii in range(N):\n",
    "    lattice[ii] = np.subtract(map(ii,L,dims),L/2);\n",
    "    spinV[ii] = 1; # Create a container to store the values of the spins\n",
    "    spinC[ii] = 'r';\n",
    "    nIdx[ii] = nNbr(ii, L, dims);\n",
    "mag = [sum(spinV)/N]; # Initializat a variable for the total magnitization of the lattice"
   ]
  },
  {
   "cell_type": "code",
   "execution_count": null,
   "metadata": {},
   "outputs": [],
   "source": [
    "# Optional: Randomization of the initial condition\n",
    "for ii in range(int(N/2)): # Randomly choose half of the lattice to flip the spin \n",
    "    kk = choice(range(N));\n",
    "    spinV[kk] = -1;\n",
    "    spinC[kk] = 'k'; # color all the spin down as black\n",
    "mag = [sum(spinV)/N]; # Calculate the current total magnetization\n",
    "spinC = np.expand_dims(spinC, axis = 0);"
   ]
  },
  {
   "cell_type": "markdown",
   "metadata": {},
   "source": [
    "Set the maximum iteration limit, and start the simulation using metropolis methods. In essense, the algorithm works as such: \n",
    "\n",
    "1. In each time step, it visits each site of the lattice one by one. \n",
    "2. On each site, it flips the spin, calculate the energy before and after the spin, and use the ratio of the Boltzmann weight between the two scenarios to calculate the transition probability. \n",
    "3. Then it measures this probability against a number that is randomly generated for this site from an even distribution between 0 and 1, if the probabilit is above this number, then it flips the spin, if it is below, then it rejects the flip\n",
    "4. Last, it calculates the average magnetization by sum over all the spins and then divide it by the total number of spins before moving onto the next site.\n",
    "\n",
    "A feature particular to this script is that, in each time step, it uses an image lattice when flipping the spin and keep the original intact until all the spins go through one flip-trial. Then it copies the new spin configuration to the current one and move onto the next time step.\n",
    "\n",
    "At the very end after all iterations having been carried out, it calculates the average magnetization over time after the initial 20 steps (excluded from the sum)"
   ]
  },
  {
   "cell_type": "code",
   "execution_count": null,
   "metadata": {},
   "outputs": [],
   "source": [
    "# !!This step will take a while depending on the number of iterations and the speed of the computer!!\n",
    "# Pre-define the total iteration number and pre-calculate each step to save time when plotting\n",
    "MaxIteration = 200; # Start the iteration count\n",
    "tt = range(MaxIteration+1); # Initiate a array for plotting the magnetization\n",
    "ruler = np.random.rand(MaxIteration,len(spinV)); # Initiate a matrix to store pre-calculated random numbers for all iterations\n",
    "tempC = np.empty(N,str); # create an empty array to store colors (spins) at each iteration to update the lattice\n",
    "for time in range(MaxIteration):\n",
    "    tempSpin = spinV; # Create a temporary container to store updated spins\n",
    "    for ii in range(len(spinV)):\n",
    "        nIdx[ii] = nNbr(ii, L, dims);\n",
    "        probs[ii] = np.exp(beta*J*sum(spinV[nIdx[ii]])*spinV[ii])/np.exp(-beta*J*sum(spinV[nIdx[ii]])*spinV[ii]);\n",
    "        tempSpin[ii] = -spinV[ii] if probs[ii] > ruler[time,ii] else spinV[ii];\n",
    "        tempC[ii] = 'r' if tempSpin[ii] > 0 else 'k';\n",
    "    spinC = np.append(spinC, np.expand_dims(tempC,axis = 0), axis = 0); \n",
    "    spinV = tempSpin;\n",
    "    mag.append(sum(tempSpin)/N);"
   ]
  },
  {
   "cell_type": "markdown",
   "metadata": {},
   "source": [
    "Finally, output the spin map as well as the final magnetization averaged over all time steps except for the first 50 (defined as variable \"exlu_lim\")."
   ]
  },
  {
   "cell_type": "code",
   "execution_count": null,
   "metadata": {
    "scrolled": false
   },
   "outputs": [],
   "source": [
    "#Output the interactive plot and the final magnetization\n",
    "exlu_lim = 50;\n",
    "print('Final average magnetization/spin =' + f\"{np.mean(mag[exlu_lim:]):.3f}\"); \n",
    "interact(update,time=ipw.IntSlider(min=0, max=MaxIteration, step=1, value=0));"
   ]
  },
  {
   "cell_type": "code",
   "execution_count": null,
   "metadata": {},
   "outputs": [],
   "source": []
  }
 ],
 "metadata": {
  "kernelspec": {
   "display_name": "Python 3",
   "language": "python",
   "name": "python3"
  },
  "language_info": {
   "codemirror_mode": {
    "name": "ipython",
    "version": 3
   },
   "file_extension": ".py",
   "mimetype": "text/x-python",
   "name": "python",
   "nbconvert_exporter": "python",
   "pygments_lexer": "ipython3",
   "version": "3.6.10"
  }
 },
 "nbformat": 4,
 "nbformat_minor": 4
}
