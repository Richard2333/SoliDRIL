{
 "cells": [
  {
   "cell_type": "code",
   "execution_count": null,
   "metadata": {},
   "outputs": [],
   "source": [
    "import numpy as np\n",
    "import matplotlib as mat\n",
    "import matplotlib.pyplot as plt\n",
    "import matplotlib.animation as ani\n",
    "\n",
    "from IPython.display import HTML\n",
    "from random import choice"
   ]
  },
  {
   "cell_type": "code",
   "execution_count": null,
   "metadata": {},
   "outputs": [],
   "source": [
    "# Define a function to map a 1D array to a 2D/3D lattice, only works on lattice of equal-lateral size in Cartesian system\n",
    "def map(index, size, dimension): \n",
    "    if dimension == 1:\n",
    "        return index;\n",
    "    if dimension == 2:\n",
    "        x = index%size;\n",
    "        y = np.floor(index/size);\n",
    "       # return vp.vector(x,y,0);\n",
    "        return [x, y];\n",
    "    if dimension == 3:\n",
    "        sub_index = index%(size**2);\n",
    "        x = sub_index%size;\n",
    "        y = np.floor(sub_index/size);\n",
    "        z = np.floor(index/size**2);\n",
    "       # return vp.vector(x,y,z)\n",
    "        return [x, y, z];"
   ]
  },
  {
   "cell_type": "code",
   "execution_count": null,
   "metadata": {},
   "outputs": [],
   "source": [
    "# Define a function to map the 3D vector back into the 1D array index\n",
    "def antimap(array, size, dimension):\n",
    "    if dimension == 1:\n",
    "        return array[0];\n",
    "    if dimension == 2:\n",
    "        return array[0] + array[1]*size;\n",
    "    if dimension == 3:\n",
    "        return array[0] + array[1]*size + array[2]*size*size;"
   ]
  },
  {
   "cell_type": "code",
   "execution_count": null,
   "metadata": {},
   "outputs": [],
   "source": [
    "# Define a function to find the index of the nearest neighbours\n",
    "def nNbr(index, size, dimension):\n",
    "    if dimension == 1:\n",
    "        return [(index+size-1)%size, (index+size+1)%size]; # apply periodic condition\n",
    "    \n",
    "    if dimension == 2:\n",
    "        pos = map(index,size,dimension);\n",
    "        north = np.mod(np.add(pos,[0,size+1]), size);\n",
    "        south = np.mod(np.add(pos,[0,size-1]), size);\n",
    "        east = np.mod(np.add(pos,[size+1,0]), size);\n",
    "        west = np.mod(np.add(pos,[size-1,0]),size);\n",
    "        return [antimap(north, size, 2), antimap(south, size, 2), antimap(east, size, 2), antimap(west, size, 2)];\n",
    "    \n",
    "    if dimension == 3:\n",
    "        pos = map(index,size,dimension);\n",
    "        north = np.mod(np.add(pos,[0,size+1,0]), size);\n",
    "        south = np.mod(np.add(pos,[0,size-1,0]), size);\n",
    "        east = np.mod(np.add(pos,[size+1,0,0]), size);\n",
    "        west = np.mod(np.add(pos,[size-1,0,0]),size);\n",
    "        up = np.mod(np.add(pos,[0,0,size+1]), size);\n",
    "        down = np.mod(np.add(pos,[0,0,size-1]), size);\n",
    "        return [antimap(north, size, 3), antimap(south, size, 3), antimap(east, size, 3), antimap(west, size, 3), antimap(up, size, 3), antimap(down, size, 3)];"
   ]
  },
  {
   "cell_type": "code",
   "execution_count": null,
   "metadata": {},
   "outputs": [],
   "source": []
  },
  {
   "cell_type": "code",
   "execution_count": null,
   "metadata": {},
   "outputs": [],
   "source": [
    "# Set up the system parameters\n",
    "temp = 100; # in [K] \n",
    "L = 50; # Define the lattice size\n",
    "dims = 2; # Define the dimensionality of the lattice\n",
    "N = L**dims; # Compute the total number of the sites\n",
    "kB = 8.617E-5 # Boltzmann constant in [eV/K]\n",
    "J = -10.0*kB; # Define the coupling strength between spins\n",
    "beta = 1/(temp*kB);\n",
    "MaxIteration = 1000; # Define the maximum amount of iteration\n",
    "r = 0.2; # dot radius for visualization"
   ]
  },
  {
   "cell_type": "code",
   "execution_count": null,
   "metadata": {},
   "outputs": [],
   "source": [
    "# Set up array containers for data manipulation and initial conditions\n",
    "#lattice = np.empty((N*N,3),int); # Create a container for the lattice sites\n",
    "lattice = np.empty((N,dims),float); # Create a container for site positions in the lattice\n",
    "#spin = np.onesN; # Create a container for the spins for all the lattice sites\n",
    "spinV = np.empty(N,int); # Create a container for the spins for all the lattice sites\n",
    "spinC = [None]*N; # Create a container to store vpython objects\n",
    "nIdx = np.empty((N,dims*2), np.intp); # Create a container to store the indices of the nearest neighbours of each site\n",
    "probs = np.empty(N,np.float); # Create a container to store in each iteration spin-flip probability\n",
    "for ii in range(N):\n",
    "    lattice[ii] = np.subtract(map(ii,L,dims),L/2);\n",
    "    spinV[ii] = 1; # Create a container to store the values of the spins\n",
    "    spinC[ii] = 'r';\n",
    "    nIdx[ii] = nNbr(ii, L, dims);"
   ]
  },
  {
   "cell_type": "code",
   "execution_count": null,
   "metadata": {},
   "outputs": [],
   "source": [
    "# Optional: Randomization of the initial condition\n",
    "for ii in range(int(N/2)): # Randomly choose half of the lattice to flip the spin \n",
    "    kk = choice(range(N));\n",
    "    spinV[kk] = -1;\n",
    "    spinC[kk] = 'k'; # color all the spin down as black"
   ]
  },
  {
   "cell_type": "code",
   "execution_count": null,
   "metadata": {},
   "outputs": [],
   "source": [
    "# # Plot the initial condition\n",
    "# # scat = ax.scatter(lattice[:,0],lattice[:,1],lattice[:,2], s = 200, marker = 's', c=spinC, edgecolor = None);\n",
    "# figure = plt.figure(figsize=(10,10));\n",
    "# scat = plt.scatter(lattice[:,0],lattice[:,1],  s = 100, c = spinC, marker = 's', edgecolor = None);\n",
    "# plt.show()"
   ]
  },
  {
   "cell_type": "code",
   "execution_count": null,
   "metadata": {},
   "outputs": [],
   "source": [
    "# Set the initial condition and start the iteration and implement Metropolis algorithm\n",
    "MaxIteration = 1000; # Start the iteration count\n",
    "fig = plt.figure(figsize=(10,10)); # Initialize a figure\n",
    "scat = plt.scatter(lattice[:,0],lattice[:,1], s=100, c = spinC, marker = 's', edgecolor = None);\n",
    "\n",
    "def init():\n",
    "\n",
    "#     scat.set_color = spinC;\n",
    "    scat.set_color = 'r';\n",
    "    return scat\n",
    "\n",
    "def update(frame):\n",
    "    tempSpin = spinV; # Create a temporary container to store updated spins\n",
    "    ruler = np.random.rand(len(spinV));\n",
    "    for ii in range(len(spinV)):\n",
    "        nIdx[ii] = nNbr(ii, L, dims);\n",
    "        probs[ii] = np.exp(beta*J*sum(spinV[nIdx[ii]])*spinV[ii])/np.exp(-beta*J*sum(spinV[nIdx[ii]])*spinV[ii]);\n",
    "        tempSpin[ii] = -spinV[ii] if probs[ii] > ruler[ii] else spinV[ii];\n",
    "        spinC = 'r' if tempSpin[ii] > 0 else 'k';\n",
    "    spinV = tempSpin;\n",
    "    scat.set_color = spinC;\n",
    "    fig.canvas.draw();\n",
    "    fig.canvas.flush_events();\n",
    "    iteration = iteration + 1;\n",
    "    return scat\n",
    "\n",
    "cycle = ani.FuncAnimation(fig, update, frames = MaxIteration, init_func=init, interval=1000, blit=False, repeat=False)\n",
    "HTML(cycle.to_html5_video())"
   ]
  },
  {
   "cell_type": "code",
   "execution_count": null,
   "metadata": {},
   "outputs": [],
   "source": []
  }
 ],
 "metadata": {
  "kernelspec": {
   "display_name": "Python 3",
   "language": "python",
   "name": "python3"
  },
  "language_info": {
   "codemirror_mode": {
    "name": "ipython",
    "version": 3
   },
   "file_extension": ".py",
   "mimetype": "text/x-python",
   "name": "python",
   "nbconvert_exporter": "python",
   "pygments_lexer": "ipython3",
   "version": "3.6.10"
  }
 },
 "nbformat": 4,
 "nbformat_minor": 4
}
