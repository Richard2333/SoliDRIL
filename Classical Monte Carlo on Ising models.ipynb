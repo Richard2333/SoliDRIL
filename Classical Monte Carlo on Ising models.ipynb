{
 "cells": [
  {
   "cell_type": "code",
   "execution_count": null,
   "metadata": {},
   "outputs": [],
   "source": [
    "import numpy as np\n",
    "import matplotlib as mat\n",
    "import matplotlib.pyplot as plt\n",
    "\n",
    "from matplotlib.widgets import Slider, Button\n",
    "from random import choice\n",
    "%matplotlib notebook"
   ]
  },
  {
   "cell_type": "code",
   "execution_count": null,
   "metadata": {},
   "outputs": [],
   "source": [
    "# Define a function to map a 1D array to a 2D/3D lattice, only works on lattice of equal-lateral size in Cartesian system\n",
    "def map(index, size, dimension): \n",
    "    if dimension == 1:\n",
    "        return index;\n",
    "    if dimension == 2:\n",
    "        x = index%size;\n",
    "        y = np.floor(index/size);\n",
    "       # return vp.vector(x,y,0);\n",
    "        return [x, y];\n",
    "    if dimension == 3:\n",
    "        sub_index = index%(size**2);\n",
    "        x = sub_index%size;\n",
    "        y = np.floor(sub_index/size);\n",
    "        z = np.floor(index/size**2);\n",
    "       # return vp.vector(x,y,z)\n",
    "        return [x, y, z];"
   ]
  },
  {
   "cell_type": "code",
   "execution_count": null,
   "metadata": {},
   "outputs": [],
   "source": [
    "# Define a function to map the 3D vector back into the 1D array index\n",
    "def antimap(array, size, dimension):\n",
    "    if dimension == 1:\n",
    "        return array[0];\n",
    "    if dimension == 2:\n",
    "        return array[0] + array[1]*size;\n",
    "    if dimension == 3:\n",
    "        return array[0] + array[1]*size + array[2]*size*size;"
   ]
  },
  {
   "cell_type": "code",
   "execution_count": null,
   "metadata": {},
   "outputs": [],
   "source": [
    "# Define a function to find the index of the nearest neighbours\n",
    "def nNbr(index, size, dimension):\n",
    "    if dimension == 1:\n",
    "        return [(index+size-1)%size, (index+size+1)%size]; # apply periodic condition\n",
    "    \n",
    "    if dimension == 2:\n",
    "        pos = map(index,size,dimension);\n",
    "        north = np.mod(np.add(pos,[0,size+1]), size);\n",
    "        south = np.mod(np.add(pos,[0,size-1]), size);\n",
    "        east = np.mod(np.add(pos,[size+1,0]), size);\n",
    "        west = np.mod(np.add(pos,[size-1,0]),size);\n",
    "        return [antimap(north, size, 2), antimap(south, size, 2), antimap(east, size, 2), antimap(west, size, 2)];\n",
    "    \n",
    "    if dimension == 3:\n",
    "        pos = map(index,size,dimension);\n",
    "        north = np.mod(np.add(pos,[0,size+1,0]), size);\n",
    "        south = np.mod(np.add(pos,[0,size-1,0]), size);\n",
    "        east = np.mod(np.add(pos,[size+1,0,0]), size);\n",
    "        west = np.mod(np.add(pos,[size-1,0,0]),size);\n",
    "        up = np.mod(np.add(pos,[0,0,size+1]), size);\n",
    "        down = np.mod(np.add(pos,[0,0,size-1]), size);\n",
    "        return [antimap(north, size, 3), antimap(south, size, 3), antimap(east, size, 3), antimap(west, size, 3), antimap(up, size, 3), antimap(down, size, 3)];"
   ]
  },
  {
   "cell_type": "code",
   "execution_count": null,
   "metadata": {},
   "outputs": [],
   "source": [
    "# Set up the system parameters\n",
    "temp = 20; # in [K] \n",
    "L = 50; # Define the lattice size\n",
    "dims = 2; # Define the dimensionality of the lattice\n",
    "N = L**dims; # Compute the total number of the sites\n",
    "kB = 8.617E-5 # Boltzmann constant in [eV/K]\n",
    "J = -10.0*kB; # Define the coupling strength between spins\n",
    "beta = 1/(temp*kB);\n",
    "MaxIteration = 1000; # Define the maximum amount of iteration\n",
    "r = 0.2; # dot radius for visualization"
   ]
  },
  {
   "cell_type": "code",
   "execution_count": null,
   "metadata": {},
   "outputs": [],
   "source": [
    "# Set up array containers for data manipulation and initial conditions\n",
    "#lattice = np.empty((N*N,3),int); # Create a container for the lattice sites\n",
    "lattice = np.empty((N,dims),float); # Create a container for site positions in the lattice\n",
    "#spin = np.onesN; # Create a container for the spins for all the lattice sites\n",
    "spinV = np.empty(N,int); # Create a container for the spins for all the lattice sites\n",
    "spinC = np.chararray(N); # Create a container to store color values (spin visualization)\n",
    "nIdx = np.empty((N,dims*2), np.intp); # Create a container to store the indices of the nearest neighbours of each site\n",
    "probs = np.empty(N,np.float); # Create a container to store in each iteration spin-flip probability\n",
    "for ii in range(N):\n",
    "    lattice[ii] = np.subtract(map(ii,L,dims),L/2);\n",
    "    spinV[ii] = 1; # Create a container to store the values of the spins\n",
    "    spinC[ii] = 'r';\n",
    "    nIdx[ii] = nNbr(ii, L, dims);"
   ]
  },
  {
   "cell_type": "code",
   "execution_count": null,
   "metadata": {},
   "outputs": [],
   "source": [
    "# Optional: Randomization of the initial condition\n",
    "for ii in range(int(N/2)): # Randomly choose half of the lattice to flip the spin \n",
    "    kk = choice(range(N));\n",
    "    spinV[kk] = -1;\n",
    "    spinC[kk] = 'k'; # color all the spin down as black"
   ]
  },
  {
   "cell_type": "code",
   "execution_count": null,
   "metadata": {},
   "outputs": [],
   "source": [
    "# # Optional: Plot the initial condition\n",
    "# figure = plt.figure(figsize=(10,10));\n",
    "# scat = plt.scatter(lattice[:,0],lattice[:,1],  s = 100, c = spinC, marker = 's', edgecolor = None);"
   ]
  },
  {
   "cell_type": "code",
   "execution_count": null,
   "metadata": {},
   "outputs": [],
   "source": [
    "# !!This step will take a while depending on the number of iterations and the speed of the computer!!\n",
    "# Pre-define the total iteration number and pre-calculate each step to save time when plotting\n",
    "MaxIteration = 100; # Start the iteration count\n",
    "spinC = np.expand_dims(spinC, axis = 0);\n",
    "ruler = np.random.rand(MaxIteration,len(spinV)); # Initiate a matrix to store pre-calculated random numbers for all iterations\n",
    "tempC = np.empty(N,str); # create an empty array to store colors (spins) at each iteration to update the lattice\n",
    "for time in range(MaxIteration):\n",
    "    tempSpin = spinV; # Create a temporary container to store updated spins\n",
    "    for ii in range(len(spinV)):\n",
    "        nIdx[ii] = nNbr(ii, L, dims);\n",
    "        probs[ii] = np.exp(beta*J*sum(spinV[nIdx[ii]])*spinV[ii])/np.exp(-beta*J*sum(spinV[nIdx[ii]])*spinV[ii]);\n",
    "        tempSpin[ii] = -spinV[ii] if probs[ii] > ruler[time,ii] else spinV[ii];\n",
    "        tempC[ii] = 'r' if tempSpin[ii] > 0 else 'k';\n",
    "    spinC = np.append(spinC, np.expand_dims(tempC,axis = 0), axis = 0); \n",
    "    spinV = tempSpin;"
   ]
  },
  {
   "cell_type": "code",
   "execution_count": null,
   "metadata": {
    "scrolled": false
   },
   "outputs": [],
   "source": [
    "# Setup the interactive plot\n",
    "fig = plt.figure(figsize=(8,8)); # Initialize a figure\n",
    "ax = plt.subplot();\n",
    "plt.ion()\n",
    "plt.subplots_adjust(left=0.25, bottom=0.25)\n",
    "ax.scatter(lattice[:,0],lattice[:,1], s=50, c = spinC[0,:], marker = 's', edgecolor = None);\n",
    "# scat = plt.scatter(lattice[:,0],lattice[:,1], s=50, c = spinC[0,:], marker = 's', edgecolor = None);\n",
    "plt.show()\n",
    "\n",
    "T_axes = plt.axes([0.25, 0.15, 0.65, 0.03], facecolor='r');\n",
    "T_slider = Slider(T_axes, 'Time Step', 0, MaxIteration-1, valinit=0, dragging=True, valstep=1);\n",
    "\n",
    "# Define the function that updates the plot\n",
    "def update(val):\n",
    "    time = int(T_slider.val);\n",
    "    ax.scatter(lattice[:,0],lattice[:,1], s=50, c = spinC[time,:], marker = 's', edgecolor = None);\n",
    "    fig.canvas.draw()\n",
    "\n",
    "# Define a function to reset the graph and re-generate the random number matrix for the matropolis algorithm\n",
    "def reset(event):\n",
    "    T_slider.reset()\n",
    "    ruler = np.random.rand(MaxIteration,len(spinV));\n",
    "    update()\n",
    "    fig.canvas.draw()\n",
    "    \n",
    "T_slider.on_changed(update);\n",
    "resetax = plt.axes([0.8, 0.025, 0.1, 0.04]);\n",
    "button = Button(resetax, 'Reset', color='lightgrey', hovercolor='0.975');\n",
    "button.on_clicked(reset);"
   ]
  },
  {
   "cell_type": "code",
   "execution_count": null,
   "metadata": {},
   "outputs": [],
   "source": []
  }
 ],
 "metadata": {
  "kernelspec": {
   "display_name": "Python 3",
   "language": "python",
   "name": "python3"
  },
  "language_info": {
   "codemirror_mode": {
    "name": "ipython",
    "version": 3
   },
   "file_extension": ".py",
   "mimetype": "text/x-python",
   "name": "python",
   "nbconvert_exporter": "python",
   "pygments_lexer": "ipython3",
   "version": "3.6.10"
  }
 },
 "nbformat": 4,
 "nbformat_minor": 4
}
